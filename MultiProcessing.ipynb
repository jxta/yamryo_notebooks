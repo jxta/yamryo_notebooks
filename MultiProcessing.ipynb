{
 "cells": [
  {
   "cell_type": "code",
   "execution_count": 1,
   "metadata": {
    "ExecuteTime": {
     "end_time": "2019-04-11T06:31:10.015984Z",
     "start_time": "2019-04-11T06:31:10.010871Z"
    }
   },
   "outputs": [],
   "source": [
    "import os\n",
    "import multiprocessing\n",
    "import sys \n",
    "import random\n",
    "import time"
   ]
  },
  {
   "cell_type": "code",
   "execution_count": 2,
   "metadata": {
    "ExecuteTime": {
     "end_time": "2019-04-11T06:31:23.241576Z",
     "start_time": "2019-04-11T06:31:13.441357Z"
    }
   },
   "outputs": [
    {
     "name": "stdout",
     "output_type": "stream",
     "text": [
      "Main Process ID is 12653\n",
      "main program Process 12653 count 0\n",
      "main program Process 12653 count 50000000\n",
      "end main program Process 12653\n",
      "-----------------------------------------------------\n",
      "Process 1 Process 12674 count 0\n",
      "end of program\n",
      "Process 4 Process 12680 count 0\n",
      "Process 3 Process 12677 count 0\n",
      "Process 0 Process 12673 count 0\n",
      "Process 2 Process 12676 count 0\n",
      "Process 7 Process 12683 count 0\n",
      "Process 6 Process 12682 count 0\n",
      "Process 8 Process 12684 count 0\n",
      "Process 5 Process 12681 count 0\n",
      "Process 9 Process 12685 count 0\n",
      "Process 0 Process 12673 count 50000000\n",
      "Process 1 Process 12674 count 50000000\n",
      "Process 7 Process 12683 count 50000000\n",
      "Process 5 Process 12681 count 50000000\n",
      "Process 8 Process 12684 count 50000000\n",
      "Process 9 Process 12685 count 50000000\n",
      "Process 6 Process 12682 count 50000000\n",
      "Process 4 Process 12680 count 50000000\n",
      "Process 3 Process 12677 count 50000000\n",
      "Process 2 Process 12676 count 50000000\n",
      "end Process 0 Process 12673\n",
      "end Process 1 Process 12674\n",
      "end Process 7 Process 12683\n",
      "end Process 8 Process 12684\n",
      "end Process 5 Process 12681\n",
      "end Process 9 Process 12685\n",
      "end Process 4 Process 12680\n",
      "end Process 2 Process 12676\n",
      "end Process 6 Process 12682\n",
      "end Process 3 Process 12677\n"
     ]
    }
   ],
   "source": [
    "MAX_COUNT = 100000000\n",
    "ITERATION = 50000000\n",
    "\n",
    "def whoami(what):\n",
    "    #単純な加算\n",
    "    count = 0\n",
    "    for n in range(MAX_COUNT):\n",
    "        if count % ITERATION ==0:\n",
    "            #実行中のプロセスIDと,現在のcount数を表示\n",
    "            print(\"{} Process {} count {}\".format(what,os.getpid(),count))\n",
    "        count +=1\n",
    "    #どのIDのプロセスが終了したかを表示\n",
    "    print(\"end {} Process {}\".format(what,os.getpid()))\n",
    "#現在のプロセスのidを表示\n",
    "print(\"Main Process ID is {}\".format(os.getpid()))\n",
    "#メインのプロセスで実行\n",
    "whoami(\"main program\")\n",
    "\n",
    "print(\"-----------------------------------------------------\")\n",
    "#プロセスを10作りスタートさせる.\n",
    "for n in range(10):\n",
    "    p = multiprocessing.Process(target=whoami,args=(\"Process {}\".format(n),))\n",
    "    p.start()\n",
    "    #p.join()\n",
    "print(\"end of program\")"
   ]
  },
  {
   "cell_type": "code",
   "execution_count": null,
   "metadata": {
    "ExecuteTime": {
     "end_time": "2019-04-11T06:22:07.853721Z",
     "start_time": "2019-04-11T06:22:07.833248Z"
    }
   },
   "outputs": [],
   "source": [
    "def hardWork():\n",
    "    # 処理時間を乱数で決める\n",
    " \n",
    "    # random.random() は frok() 時に乱数生成器ごとコピーされ、\n",
    "    # 別プロセスでも同じ乱数が返されるため、かわりに\n",
    "    # random.SystemRandom() を使う\n",
    "    interval = random.SystemRandom().randint(5, 30) \n",
    " \n",
    "    print('Child works for %f sec' % interval)\n",
    "    end = time.time() + interval\n",
    " \n",
    "    # 時間内はひたすらループする\n",
    "    i = 0\n",
    "    while time.time() < end:\n",
    "        i += 1\n",
    "        if 10000 < i:\n",
    "            i = 0\n",
    " \n",
    "    return interval "
   ]
  },
  {
   "cell_type": "code",
   "execution_count": null,
   "metadata": {
    "ExecuteTime": {
     "end_time": "2019-04-11T06:23:13.085168Z",
     "start_time": "2019-04-11T06:22:10.092861Z"
    }
   },
   "outputs": [],
   "source": [
    "for i in range(4):\n",
    "    pid = os.fork()\n",
    " \n",
    "        # fork() の返り値は生成した子プロセスのプロセス ID\n",
    "        # 親プロセス（pid: 0）でなければ、子プロセス用の処理を行う\n",
    "    if pid == 0:\n",
    "        hardWork()\n",
    "        sys.exit()\n",
    " \n",
    "    # 子プロセスの実行が終わるまで待機する\n",
    "os.wait()\n",
    "print('Parent end.')"
   ]
  },
  {
   "cell_type": "code",
   "execution_count": null,
   "metadata": {
    "ExecuteTime": {
     "end_time": "2019-04-11T06:27:05.332126Z",
     "start_time": "2019-04-11T06:27:05.298070Z"
    }
   },
   "outputs": [],
   "source": [
    "%tb"
   ]
  },
  {
   "cell_type": "code",
   "execution_count": null,
   "metadata": {},
   "outputs": [],
   "source": []
  }
 ],
 "metadata": {
  "kernelspec": {
   "display_name": "Python 3",
   "language": "python",
   "name": "python3"
  },
  "language_info": {
   "codemirror_mode": {
    "name": "ipython",
    "version": 3
   },
   "file_extension": ".py",
   "mimetype": "text/x-python",
   "name": "python",
   "nbconvert_exporter": "python",
   "pygments_lexer": "ipython3",
   "version": "3.6.7"
  },
  "varInspector": {
   "cols": {
    "lenName": 16,
    "lenType": 16,
    "lenVar": 40
   },
   "kernels_config": {
    "python": {
     "delete_cmd_postfix": "",
     "delete_cmd_prefix": "del ",
     "library": "var_list.py",
     "varRefreshCmd": "print(var_dic_list())"
    },
    "r": {
     "delete_cmd_postfix": ") ",
     "delete_cmd_prefix": "rm(",
     "library": "var_list.r",
     "varRefreshCmd": "cat(var_dic_list()) "
    }
   },
   "types_to_exclude": [
    "module",
    "function",
    "builtin_function_or_method",
    "instance",
    "_Feature"
   ],
   "window_display": false
  }
 },
 "nbformat": 4,
 "nbformat_minor": 2
}
