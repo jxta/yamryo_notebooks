{
 "cells": [
  {
   "cell_type": "markdown",
   "metadata": {},
   "source": [
    "# 素数判定あれこれ"
   ]
  },
  {
   "cell_type": "code",
   "execution_count": 47,
   "metadata": {
    "ExecuteTime": {
     "end_time": "2019-09-11T05:39:44.611597Z",
     "start_time": "2019-09-11T05:39:44.602703Z"
    }
   },
   "outputs": [],
   "source": [
    "import math\n",
    "import matplotlib.pyplot as plt\n",
    "%matplotlib inline\n",
    "from sympy import *\n",
    "from tqdm import tqdm_notebook as tqdm\n",
    "from decimal import *\n",
    "getcontext()\n",
    "from functools import reduce\n",
    "import random"
   ]
  },
  {
   "cell_type": "markdown",
   "metadata": {},
   "source": [
    "## 素朴な素数判定"
   ]
  },
  {
   "cell_type": "code",
   "execution_count": 2,
   "metadata": {
    "ExecuteTime": {
     "end_time": "2019-09-11T03:55:11.366298Z",
     "start_time": "2019-09-11T03:55:11.356758Z"
    }
   },
   "outputs": [],
   "source": [
    "def is_prime(num):\n",
    "    for k in range(2, int(math.sqrt(num))+1):\n",
    "        if num%k == 0:\n",
    "            return False\n",
    "            break\n",
    "    else: return True"
   ]
  },
  {
   "cell_type": "code",
   "execution_count": 25,
   "metadata": {
    "ExecuteTime": {
     "end_time": "2019-09-11T05:20:12.712945Z",
     "start_time": "2019-09-11T05:20:12.705349Z"
    }
   },
   "outputs": [],
   "source": [
    "def fermat(num):\n",
    "    num = abs(num)\n",
    "    if num == 2:\n",
    "        return True\n",
    "    elif num < 2 or num%2 == 0:\n",
    "        return False\n",
    "    else:\n",
    "        return pow(2, num-1, num) == 1"
   ]
  },
  {
   "cell_type": "code",
   "execution_count": 84,
   "metadata": {
    "ExecuteTime": {
     "end_time": "2019-09-11T06:07:09.072139Z",
     "start_time": "2019-09-11T06:07:09.065379Z"
    }
   },
   "outputs": [
    {
     "data": {
      "text/plain": [
       "True"
      ]
     },
     "execution_count": 84,
     "metadata": {},
     "output_type": "execute_result"
    }
   ],
   "source": [
    "fermat((2**20)*13+1)"
   ]
  },
  {
   "cell_type": "code",
   "execution_count": 91,
   "metadata": {
    "ExecuteTime": {
     "end_time": "2019-09-11T06:08:14.741712Z",
     "start_time": "2019-09-11T06:08:14.734915Z"
    }
   },
   "outputs": [],
   "source": [
    "def miller_rabin(k,init):\n",
    "    num = (2**k)*init+1\n",
    "    a = random.randrange(num-2)+1\n",
    "    if pow(a, init, num) ==1: #(a**init)%num == 1:\n",
    "        return True\n",
    "    else:\n",
    "        for r in range(k):\n",
    "            b = (2**r)*init\n",
    "            if pow(a, b, num) == num-1: #(a**b)%num == num-1:\n",
    "                return True\n",
    "                break\n",
    "        else: \n",
    "            return False"
   ]
  },
  {
   "cell_type": "code",
   "execution_count": 92,
   "metadata": {
    "ExecuteTime": {
     "end_time": "2019-09-11T06:08:15.587364Z",
     "start_time": "2019-09-11T06:08:15.579874Z"
    }
   },
   "outputs": [
    {
     "name": "stdout",
     "output_type": "stream",
     "text": [
      "13631489\n",
      "True True\n"
     ]
    }
   ],
   "source": [
    "k=20\n",
    "init=13\n",
    "num = (2**k)*init+1\n",
    "print(num)\n",
    "\n",
    "print(miller_rabin(k,init),is_prime(num))"
   ]
  },
  {
   "cell_type": "code",
   "execution_count": null,
   "metadata": {
    "ExecuteTime": {
     "start_time": "2019-09-11T06:09:29.131Z"
    }
   },
   "outputs": [],
   "source": [
    "init=13\n",
    "%timeit [is_prime((2**k)*init+1) for k in range(1,100)]\n",
    "%timeit [fermat((2**k)*init+1) for k in range(1,100)]\n",
    "%timeit [miller_rabin(k,init) for k in range(1,100)]"
   ]
  },
  {
   "cell_type": "markdown",
   "metadata": {},
   "source": [
    "# 大竹先生の問題"
   ]
  },
  {
   "cell_type": "code",
   "execution_count": 3,
   "metadata": {
    "ExecuteTime": {
     "end_time": "2019-09-11T03:55:18.154501Z",
     "start_time": "2019-09-11T03:55:18.147140Z"
    }
   },
   "outputs": [
    {
     "name": "stdout",
     "output_type": "stream",
     "text": [
      "10177=2^6*159+1\n"
     ]
    }
   ],
   "source": [
    "init = 2*80-1\n",
    "N = 10**2\n",
    "\n",
    "count=0\n",
    "num = init\n",
    "while not is_prime(num+1):\n",
    "    count += 1\n",
    "    if count > N:\n",
    "        print(\"Count Limit\")\n",
    "        break\n",
    "    num *= 2\n",
    "else:\n",
    "    print(\"{}=2^{}*{}+1\".format(num+1, count, init))"
   ]
  },
  {
   "cell_type": "code",
   "execution_count": 37,
   "metadata": {
    "ExecuteTime": {
     "end_time": "2019-09-11T05:22:44.162535Z",
     "start_time": "2019-09-11T05:22:44.154155Z"
    }
   },
   "outputs": [],
   "source": [
    "def get_k(odd, Limit = 10**3):\n",
    "    count = 0\n",
    "    num = odd\n",
    "    while not fermat(num+1): #is_prime(num+1):\n",
    "        count += 1\n",
    "        if count > Limit:\n",
    "            return -1\n",
    "            break\n",
    "        num *= 2\n",
    "    else:\n",
    "        return count"
   ]
  },
  {
   "cell_type": "code",
   "execution_count": 45,
   "metadata": {
    "ExecuteTime": {
     "end_time": "2019-09-11T05:28:15.004269Z",
     "start_time": "2019-09-11T05:28:13.675599Z"
    }
   },
   "outputs": [
    {
     "data": {
      "image/png": "[encoded data removed]",
      "text/plain": [
       "<Figure size 1152x720 with 1 Axes>"
      ]
     },
     "metadata": {
      "needs_background": "light"
     },
     "output_type": "display_data"
    }
   ],
   "source": [
    "X = [2*k-1 for k in range(1,10**4)][1200:1300]\n",
    "Y = [get_k(odd) for odd in X]\n",
    "\n",
    "# Make the plot\n",
    "plt.figure(figsize=(16,10))\n",
    "\n",
    "ax = plt.subplot()\n",
    "ax.grid()\n",
    "ax.set(xlabel='number (n)', ylabel='# of primes up to n')\n",
    "\n",
    "plt.bar(X, Y, color='blue')\n",
    "#plt.xticks(X)\n",
    "plt.show()"
   ]
  }
 ],
 "metadata": {
  "kernelspec": {
   "display_name": "Python 3",
   "language": "python",
   "name": "python3"
  },
  "language_info": {
   "codemirror_mode": {
    "name": "ipython",
    "version": 3
   },
   "file_extension": ".py",
   "mimetype": "text/x-python",
   "name": "python",
   "nbconvert_exporter": "python",
   "pygments_lexer": "ipython3",
   "version": "3.6.7"
  },
  "toc": {
   "base_numbering": 1,
   "nav_menu": {},
   "number_sections": true,
   "sideBar": true,
   "skip_h1_title": false,
   "title_cell": "Table of Contents",
   "title_sidebar": "Contents",
   "toc_cell": false,
   "toc_position": {},
   "toc_section_display": true,
   "toc_window_display": false
  },
  "varInspector": {
   "cols": {
    "lenName": 16,
    "lenType": 16,
    "lenVar": 40
   },
   "kernels_config": {
    "python": {
     "delete_cmd_postfix": "",
     "delete_cmd_prefix": "del ",
     "library": "var_list.py",
     "varRefreshCmd": "print(var_dic_list())"
    },
    "r": {
     "delete_cmd_postfix": ") ",
     "delete_cmd_prefix": "rm(",
     "library": "var_list.r",
     "varRefreshCmd": "cat(var_dic_list()) "
    }
   },
   "types_to_exclude": [
    "module",
    "function",
    "builtin_function_or_method",
    "instance",
    "_Feature"
   ],
   "window_display": false
  }
 },
 "nbformat": 4,
 "nbformat_minor": 1
}
