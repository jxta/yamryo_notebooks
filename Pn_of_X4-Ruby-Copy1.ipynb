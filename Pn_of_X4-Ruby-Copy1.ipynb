{
 "cells": [
  {
   "cell_type": "markdown",
   "metadata": {},
   "source": [
    "## $P^{n}(X_{4})$ の位数"
   ]
  },
  {
   "cell_type": "markdown",
   "metadata": {},
   "source": [
    "$$\n",
    "P^{n}(X_{4}) = \\{(\\sigma_{1}, \\dots, \\sigma_{n}) | \\sigma_{1}\\sigma_{2} \\cdots \\sigma_{n} = 1, \\sigma_{i} \\neq \\sigma_{j} [\\forall i,j] \\}\n",
    "$$"
   ]
  },
  {
   "cell_type": "markdown",
   "metadata": {},
   "source": [
    "## Cyclic permutations"
   ]
  },
  {
   "cell_type": "code",
   "execution_count": 1,
   "metadata": {
    "ExecuteTime": {
     "end_time": "2020-01-20T07:32:02.779543Z",
     "start_time": "2020-01-20T07:32:02.772Z"
    }
   },
   "outputs": [],
   "source": [
    "def act(sigma, k)\n",
    "  if k.is_a? Array\n",
    "    return k.map{|v| act(sigma, v)}\n",
    "  else\n",
    "    ind = (sigma.index(k)+1).then{|x| (x == 4) ? 0 : x}\n",
    "    return sigma[ind]\n",
    "  end\n",
    "end; nil"
   ]
  },
  {
   "cell_type": "code",
   "execution_count": 2,
   "metadata": {
    "ExecuteTime": {
     "end_time": "2020-01-20T07:32:02.789012Z",
     "start_time": "2020-01-20T07:32:02.777Z"
    }
   },
   "outputs": [
    {
     "name": "stdout",
     "output_type": "stream",
     "text": [
      "[0, 1, 2, 3]   |-[2, 3, 0, 1]->   [1, 2, 3, 0]   |-[3, 2, 0, 1]->   [3, 0, 2, 1]\n"
     ]
    }
   ],
   "source": [
    "a = (0..3).to_a\n",
    "sigma = [2,3,0,1]\n",
    "tau = [3,2,0,1]\n",
    "sa = act(sigma, a)\n",
    "tsa = act(tau, sa)\n",
    "\n",
    "puts \"#{a}   |-#{sigma}->   #{sa}   |-#{tau}->   #{tsa}\"\n",
    "nil"
   ]
  },
  {
   "cell_type": "markdown",
   "metadata": {},
   "source": [
    "## Tuples of cyclic permutations"
   ]
  },
  {
   "cell_type": "code",
   "execution_count": 33,
   "metadata": {
    "ExecuteTime": {
     "end_time": "2020-01-20T07:48:29.152727Z",
     "start_time": "2020-01-20T07:48:29.140Z"
    },
    "collapsed": true
   },
   "outputs": [
    {
     "name": "stderr",
     "output_type": "stream",
     "text": [
      "<main>:1: warning: already initialized constant PMLIST\n",
      "<main>:1: warning: previous definition of PMLIST was here\n",
      "<main>:2: warning: already initialized constant CPLIST\n",
      "<main>:2: warning: previous definition of CPLIST was here\n",
      "<main>:4: warning: already initialized constant INITIAL\n",
      "<main>:4: warning: previous definition of INITIAL was here\n",
      "<main>:5: warning: already initialized constant EVENS\n",
      "<main>:5: warning: previous definition of EVENS was here\n"
     ]
    }
   ],
   "source": [
    "k = 4\n",
    "PMLIST = (0..k-1).to_a.permutation.to_a\n",
    "CPLIST = PMLIST.select{|p| p.first == 0} #(0..k-2).to_a.permutation.map{|s| s << (k-1)}\n",
    "\n",
    "INITIAL = (0..k-1).to_a\n",
    "EVENS = (0..100).map{|k| 2*k}\n",
    "\n",
    "#p PMLIST, CPLIST\n",
    "nil"
   ]
  },
  {
   "cell_type": "code",
   "execution_count": 4,
   "metadata": {
    "ExecuteTime": {
     "end_time": "2020-01-20T07:32:02.804841Z",
     "start_time": "2020-01-20T07:32:02.788Z"
    }
   },
   "outputs": [
    {
     "data": {
      "text/plain": [
       "[[0, 1, 2, 3], [0, 1, 3, 2], [0, 2, 1, 3], [0, 2, 3, 1], [0, 3, 1, 2], [0, 3, 2, 1]]"
      ]
     },
     "execution_count": 4,
     "metadata": {},
     "output_type": "execute_result"
    }
   ],
   "source": [
    "CPLIST"
   ]
  },
  {
   "cell_type": "code",
   "execution_count": 5,
   "metadata": {
    "ExecuteTime": {
     "end_time": "2020-01-20T07:32:02.813008Z",
     "start_time": "2020-01-20T07:32:02.793Z"
    }
   },
   "outputs": [
    {
     "name": "stdout",
     "output_type": "stream",
     "text": [
      "[0, 1, 2, 3]   |-[0, 1, 2, 3]->   [1, 2, 3, 0]   |-[0, 1, 3, 2]->   [3, 0, 2, 1]\n"
     ]
    }
   ],
   "source": [
    "sigma = CPLIST[0] #[2,3,0,1]\n",
    "tau = CPLIST[1] #[3,2,0,1] \n",
    "\n",
    "si = PMLIST.index(act(sigma, INITIAL))\n",
    "tsi = PMLIST.index(act(tau, PMLIST[si]))\n",
    "\n",
    "puts \"#{INITIAL}   |-#{sigma}->   #{PMLIST[si]}   |-#{tau}->   #{PMLIST[tsi]}\"\n",
    "nil"
   ]
  },
  {
   "cell_type": "code",
   "execution_count": 23,
   "metadata": {
    "ExecuteTime": {
     "end_time": "2020-01-20T07:40:07.439513Z",
     "start_time": "2020-01-20T07:40:07.433Z"
    }
   },
   "outputs": [],
   "source": [
    "class Tree\n",
    "  def initialize(pm_ind, cp_ind, depth)\n",
    "    @pm_ind = pm_ind\n",
    "    @cp_ind = cp_ind\n",
    "    @depth = depth\n",
    "    @children = (@depth > 0 && self.value == INITIAL) ? nil : []\n",
    "  end\n",
    "  attr_accessor :depth, :children\n",
    "  \n",
    "  def value\n",
    "    return PMLIST[@pm_ind]\n",
    "  end\n",
    "  def cp\n",
    "    return @cp_ind.nil? ? nil : CPLIST[@cp_ind]\n",
    "  end\n",
    "#-----\n",
    "  \n",
    "  def nodes(dp)\n",
    "    if @depth == dp\n",
    "      return [self]\n",
    "    else \n",
    "      return (@children.nil?) ? [] : @children.map{|c| c.nodes(dp)}.flatten\n",
    "    end\n",
    "  end\n",
    "  def terminals\n",
    "    if @children.nil? \n",
    "      return []\n",
    "    else\n",
    "      return (@children.empty?) ? [self] : @children.map(&:terminals).flatten\n",
    "    end\n",
    "  end\n",
    "  \n",
    "  def max_depth\n",
    "    return self.terminals.map(&:depth).max\n",
    "  end\n",
    "  \n",
    "  def grow\n",
    "    if (not @children.nil?) && @children.empty?\n",
    "      (0..CPLIST.size-1).each do |cp_ind|\n",
    "        v = act(CPLIST[cp_ind], self.value)\n",
    "        pm_ind = PMLIST.index(v)\n",
    "        @children << Tree.new(pm_ind, cp_ind, @depth+1)\n",
    "      end\n",
    "    end\n",
    "  end\n",
    "#-----\n",
    "  \n",
    "  def show\n",
    "    return \"< v: #{self.value}, cp: #{self.cp}, d: #{@depth} >\"\n",
    "  end\n",
    "  def to_s\n",
    "    self.show\n",
    "  end\n",
    "  def inspect\n",
    "    self.show\n",
    "  end\n",
    "end; nil"
   ]
  },
  {
   "cell_type": "code",
   "execution_count": 24,
   "metadata": {
    "ExecuteTime": {
     "end_time": "2020-01-20T07:40:08.398600Z",
     "start_time": "2020-01-20T07:40:08.392Z"
    }
   },
   "outputs": [],
   "source": [
    "cp_tree = Tree.new(0, nil, 0)\n",
    "nil"
   ]
  },
  {
   "cell_type": "code",
   "execution_count": 90,
   "metadata": {
    "ExecuteTime": {
     "end_time": "2020-01-20T20:17:46.594050Z",
     "start_time": "2020-01-20T20:07:10.119Z"
    }
   },
   "outputs": [],
   "source": [
    "max = 2*5\n",
    "max.times{|d| cp_tree.nodes(d).each(&:grow) } #{|n| n.grow}}\n",
    "#max.times{|d| cp_tree.nodes(d).each{|n| p n.show} }\n",
    "nil"
   ]
  },
  {
   "cell_type": "code",
   "execution_count": 26,
   "metadata": {
    "ExecuteTime": {
     "end_time": "2020-01-20T07:40:21.178722Z",
     "start_time": "2020-01-20T07:40:10.503Z"
    }
   },
   "outputs": [
    {
     "name": "stdout",
     "output_type": "stream",
     "text": [
      "[< v: [1, 2, 3, 0], cp: [0, 1, 2, 3], d: 1 >, < v: [1, 3, 0, 2], cp: [0, 1, 3, 2], d: 1 >, < v: [2, 3, 1, 0], cp: [0, 2, 1, 3], d: 1 >, < v: [2, 0, 3, 1], cp: [0, 2, 3, 1], d: 1 >, < v: [3, 2, 0, 1], cp: [0, 3, 1, 2], d: 1 >, < v: [3, 0, 1, 2], cp: [0, 3, 2, 1], d: 1 >]\n"
     ]
    }
   ],
   "source": [
    "puts cp_tree.nodes(1)"
   ]
  },
  {
   "cell_type": "code",
   "execution_count": 91,
   "metadata": {
    "ExecuteTime": {
     "end_time": "2020-01-20T20:37:44.786205Z",
     "start_time": "2020-01-20T20:09:27.123Z"
    }
   },
   "outputs": [
    {
     "data": {
      "text/plain": [
       "[0, 6, 84, 2712, 90192, 3001440]"
      ]
     },
     "execution_count": 91,
     "metadata": {},
     "output_type": "execute_result"
    }
   ],
   "source": [
    "max = cp_tree.max_depth\n",
    "ends = EVENS[0, max/2+1].map do |d|\n",
    "  nodes = cp_tree.nodes(d)\n",
    "#  nsize = nodes.size\n",
    "  nodes.count{|n| n.children.nil?}\n",
    "end"
   ]
  },
  {
   "cell_type": "code",
   "execution_count": 92,
   "metadata": {
    "ExecuteTime": {
     "end_time": "2020-01-20T20:37:44.812909Z",
     "start_time": "2020-01-20T20:09:39.117Z"
    }
   },
   "outputs": [
    {
     "data": {
      "text/plain": [
       "[1, 6, 120, 3936, 140160, 5039616]"
      ]
     },
     "execution_count": 92,
     "metadata": {},
     "output_type": "execute_result"
    }
   ],
   "source": [
    "seq = [1]\n",
    "\n",
    "# seq << ends[1]*seq[0]\n",
    "# seq << ends[2]*seq[0] + ends[1]*seq[1]\n",
    "# seq << ends[3]*seq[0] + ends[2]*seq[1] + ends[1]*seq[2]\n",
    "# seq << ends[4]*seq[0] + ends[3]*seq[1] + ends[2]*seq[2] + ends[1]*seq[3]\n",
    "\n",
    "(ends.size - 1).times do |k|\n",
    "  seq << (k+1).times.map{|i| ends[i+1]*seq[k+1-(i+1)]}.sum\n",
    "end\n",
    "seq"
   ]
  },
  {
   "cell_type": "markdown",
   "metadata": {},
   "source": [
    "## Experiments"
   ]
  },
  {
   "cell_type": "code",
   "execution_count": 66,
   "metadata": {
    "ExecuteTime": {
     "end_time": "2020-01-20T19:34:59.636012Z",
     "start_time": "2020-01-20T19:34:59.624Z"
    }
   },
   "outputs": [
    {
     "name": "stdout",
     "output_type": "stream",
     "text": [
      "[0, 6, 84, 2712, 90192]\n",
      "[0, 0, 36, 504, 16272, 541152]\n",
      "[0, 0, 0, 720, 10080, 325440, 10823040]\n",
      "[0, 0, 0, 0, 23616, 330624, 10674432, 354995712]\n"
     ]
    }
   ],
   "source": [
    "puts ends\n",
    "puts [0] + ends.map{|v| v*6}\n",
    "puts [0, 0] + ends.map{|v| v*120}\n",
    "puts [0, 0, 0] + ends.map{|v| v*(2712+504+720)}\n",
    "nil"
   ]
  }
 ],
 "metadata": {
  "kernelspec": {
   "display_name": "Ruby 2.6.1",
   "language": "ruby",
   "name": "ruby"
  },
  "language_info": {
   "file_extension": ".rb",
   "mimetype": "application/x-ruby",
   "name": "ruby",
   "version": "2.6.1"
  },
  "toc": {
   "base_numbering": 1,
   "nav_menu": {},
   "number_sections": false,
   "sideBar": true,
   "skip_h1_title": true,
   "title_cell": "Table of Contents",
   "title_sidebar": "Contents",
   "toc_cell": false,
   "toc_position": {},
   "toc_section_display": true,
   "toc_window_display": false
  }
 },
 "nbformat": 4,
 "nbformat_minor": 2
}
