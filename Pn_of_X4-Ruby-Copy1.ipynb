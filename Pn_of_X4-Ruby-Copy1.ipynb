{
 "cells": [
  {
   "cell_type": "markdown",
   "metadata": {},
   "source": [
    "## $P^{n}(X_{4})$ の位数"
   ]
  },
  {
   "cell_type": "markdown",
   "metadata": {},
   "source": [
    "$$\n",
    "P^{n}(X_{4}) = \\{(\\sigma_{1}, \\dots, \\sigma_{n}) | \\sigma_{1}\\sigma_{2} \\cdots \\sigma_{n} = 1, \\sigma_{i} \\neq \\sigma_{j} [\\forall i,j] \\}\n",
    "$$"
   ]
  },
  {
   "cell_type": "code",
   "execution_count": 1,
   "metadata": {
    "ExecuteTime": {
     "end_time": "2020-01-21T06:12:41.982661Z",
     "start_time": "2020-01-21T06:12:41.740Z"
    }
   },
   "outputs": [],
   "source": [
    "require 'objspace'; nil"
   ]
  },
  {
   "cell_type": "markdown",
   "metadata": {},
   "source": [
    "## Cyclic permutations"
   ]
  },
  {
   "cell_type": "code",
   "execution_count": 2,
   "metadata": {
    "ExecuteTime": {
     "end_time": "2020-01-21T06:12:41.986349Z",
     "start_time": "2020-01-21T06:12:41.743Z"
    }
   },
   "outputs": [],
   "source": [
    "def act(sigma, k)\n",
    "  if k.is_a? Array\n",
    "    return k.map{|v| act(sigma, v)}\n",
    "  else\n",
    "    ind = (sigma.index(k)+1).then{|x| (x == 4) ? 0 : x}\n",
    "    return sigma[ind]\n",
    "  end\n",
    "end; nil"
   ]
  },
  {
   "cell_type": "code",
   "execution_count": 3,
   "metadata": {
    "ExecuteTime": {
     "end_time": "2020-01-21T06:12:41.991811Z",
     "start_time": "2020-01-21T06:12:41.745Z"
    }
   },
   "outputs": [
    {
     "name": "stdout",
     "output_type": "stream",
     "text": [
      "[0, 1, 2, 3]   |-[2, 3, 0, 1]->   [1, 2, 3, 0]   |-[3, 2, 0, 1]->   [3, 0, 2, 1]\n"
     ]
    }
   ],
   "source": [
    "a = (0..3).to_a\n",
    "sigma = [2,3,0,1]\n",
    "tau = [3,2,0,1]\n",
    "sa = act(sigma, a)\n",
    "tsa = act(tau, sa)\n",
    "\n",
    "puts \"#{a}   |-#{sigma}->   #{sa}   |-#{tau}->   #{tsa}\"\n",
    "nil"
   ]
  },
  {
   "cell_type": "markdown",
   "metadata": {},
   "source": [
    "## Tuples of cyclic permutations"
   ]
  },
  {
   "cell_type": "code",
   "execution_count": 4,
   "metadata": {
    "ExecuteTime": {
     "end_time": "2020-01-21T06:12:41.994387Z",
     "start_time": "2020-01-21T06:12:41.748Z"
    }
   },
   "outputs": [],
   "source": [
    "k = 4\n",
    "PMLIST = (0..k-1).to_a.permutation.to_a\n",
    "CPLIST = PMLIST.select{|p| p.first == 0} #(0..k-2).to_a.permutation.map{|s| s << (k-1)}\n",
    "\n",
    "INITIAL = (0..k-1).to_a\n",
    "EVENS = (0..100).map{|k| 2*k}\n",
    "\n",
    "#p PMLIST, CPLIST\n",
    "nil"
   ]
  },
  {
   "cell_type": "code",
   "execution_count": 5,
   "metadata": {
    "ExecuteTime": {
     "end_time": "2020-01-21T06:12:41.995275Z",
     "start_time": "2020-01-21T06:12:41.750Z"
    }
   },
   "outputs": [
    {
     "data": {
      "text/plain": [
       "[[0, 1, 2, 3], [0, 1, 3, 2], [0, 2, 1, 3], [0, 2, 3, 1], [0, 3, 1, 2], [0, 3, 2, 1]]"
      ]
     },
     "execution_count": 5,
     "metadata": {},
     "output_type": "execute_result"
    }
   ],
   "source": [
    "CPLIST"
   ]
  },
  {
   "cell_type": "code",
   "execution_count": 6,
   "metadata": {
    "ExecuteTime": {
     "end_time": "2020-01-21T06:12:41.997864Z",
     "start_time": "2020-01-21T06:12:41.752Z"
    }
   },
   "outputs": [
    {
     "name": "stdout",
     "output_type": "stream",
     "text": [
      "[0, 1, 2, 3]   |-[0, 1, 2, 3]->   [1, 2, 3, 0]   |-[0, 1, 3, 2]->   [3, 0, 2, 1]\n"
     ]
    }
   ],
   "source": [
    "sigma = CPLIST[0] #[2,3,0,1]\n",
    "tau = CPLIST[1] #[3,2,0,1] \n",
    "\n",
    "si = PMLIST.index(act(sigma, INITIAL))\n",
    "tsi = PMLIST.index(act(tau, PMLIST[si]))\n",
    "\n",
    "puts \"#{INITIAL}   |-#{sigma}->   #{PMLIST[si]}   |-#{tau}->   #{PMLIST[tsi]}\"\n",
    "nil"
   ]
  },
  {
   "cell_type": "code",
   "execution_count": 7,
   "metadata": {
    "ExecuteTime": {
     "end_time": "2020-01-21T06:12:42.012360Z",
     "start_time": "2020-01-21T06:12:41.755Z"
    }
   },
   "outputs": [],
   "source": [
    "class Tree\n",
    "  def initialize(pm_ind, cp_ind, depth)\n",
    "    @pm_ind = pm_ind\n",
    "    @cp_ind = cp_ind\n",
    "    @depth = depth\n",
    "    @children = (@depth > 0 && self.value == INITIAL) ? nil : []\n",
    "  end\n",
    "  attr_accessor :depth, :children\n",
    "  \n",
    "  def value\n",
    "    return PMLIST[@pm_ind]\n",
    "  end\n",
    "  def cp\n",
    "    return @cp_ind.nil? ? nil : CPLIST[@cp_ind]\n",
    "  end\n",
    "  def dead?\n",
    "    @children.nil?\n",
    "  end\n",
    "#-----\n",
    "  \n",
    "  def nodes(dp)\n",
    "    if @depth == dp\n",
    "      return [self]\n",
    "    else \n",
    "      return (@children.nil?) ? [] : @children.map{|c| c.nodes(dp)}.flatten\n",
    "    end\n",
    "  end\n",
    "  def terminals\n",
    "    if @children.nil? \n",
    "      return []\n",
    "    else\n",
    "      return (@children.empty?) ? [self] : @children.map(&:terminals).flatten\n",
    "    end\n",
    "  end\n",
    "  \n",
    "  def max_depth\n",
    "    return self.terminals.map(&:depth).max\n",
    "  end\n",
    "  \n",
    "  def grow\n",
    "    if (not self.dead?) && @children.empty?\n",
    "      (0..CPLIST.size-1).each do |cp_ind|\n",
    "        v = act(CPLIST[cp_ind], self.value)\n",
    "        pm_ind = PMLIST.index(v)\n",
    "        @children << Tree.new(pm_ind, cp_ind, @depth+1)\n",
    "      end\n",
    "    end\n",
    "    return self\n",
    "  end\n",
    "#-----\n",
    "  \n",
    "  def show\n",
    "    return \"< v: #{self.value}, cp: #{self.cp}, d: #{@depth} >\"\n",
    "  end\n",
    "  def to_s\n",
    "    self.show\n",
    "  end\n",
    "  def inspect\n",
    "    self.show\n",
    "  end\n",
    "end; nil"
   ]
  },
  {
   "cell_type": "code",
   "execution_count": 13,
   "metadata": {
    "ExecuteTime": {
     "end_time": "2020-01-21T06:15:41.527993Z",
     "start_time": "2020-01-21T06:15:41.285Z"
    }
   },
   "outputs": [],
   "source": [
    "def get_ms_of(obj)\n",
    "  total = 0\n",
    "  ObjectSpace.reachable_objects_from(obj).each do |o|\n",
    "    total += ObjectSpace.memsize_of(o)\n",
    "  end\n",
    "  puts \"#{total * 0.001 * 0.001} MB\"\n",
    "end; nil"
   ]
  },
  {
   "cell_type": "code",
   "execution_count": null,
   "metadata": {
    "ExecuteTime": {
     "end_time": "2020-01-21T06:20:16.167562Z",
     "start_time": "2020-01-21T06:15:45.125Z"
    }
   },
   "outputs": [
    {
     "name": "stdout",
     "output_type": "stream",
     "text": [
      "0.00464 MB\n",
      "6\n",
      "0.00488 MB\n",
      "36\n",
      "depth=2: 6\n",
      "0.006032 MB\n",
      "180\n",
      "0.013232 MB\n",
      "1080\n",
      "depth=4: 84\n",
      "0.0524 MB\n",
      "5976\n",
      "0.29144 MB\n",
      "35856\n",
      "depth=6: 2712\n",
      "1.5955040000000003 MB\n",
      "198864\n",
      "9.550064 MB\n",
      "1193184\n",
      "depth=8: 90192\n",
      "52.948208 MB\n",
      "6617952\n"
     ]
    },
    {
     "ename": "Interrupt",
     "evalue": "",
     "output_type": "error",
     "traceback": [
      "\u001b[31mInterrupt\u001b[0m: ",
      "<main>:1:in `act'",
      "<main>:2:in `block in act'",
      "<main>:2:in `map'",
      "<main>:2:in `act'",
      "<main>:42:in `block in grow'",
      "<main>:41:in `each'",
      "<main>:41:in `grow'",
      "<main>:7:in `block (2 levels) in <main>'",
      "<main>:7:in `map!'",
      "<main>:7:in `block in <main>'",
      "<main>:6:in `times'",
      "<main>:6:in `<main>'",
      "/home/ryosuke/.rbenv/versions/2.6.3/lib/ruby/gems/2.6.0/gems/iruby-0.4.0/lib/iruby/backend.rb:44:in `eval'",
      "/home/ryosuke/.rbenv/versions/2.6.3/lib/ruby/gems/2.6.0/gems/iruby-0.4.0/lib/iruby/backend.rb:44:in `eval'",
      "/home/ryosuke/.rbenv/versions/2.6.3/lib/ruby/gems/2.6.0/gems/iruby-0.4.0/lib/iruby/backend.rb:12:in `eval'",
      "/home/ryosuke/.rbenv/versions/2.6.3/lib/ruby/gems/2.6.0/gems/iruby-0.4.0/lib/iruby/kernel.rb:90:in `execute_request'",
      "/home/ryosuke/.rbenv/versions/2.6.3/lib/ruby/gems/2.6.0/gems/iruby-0.4.0/lib/iruby/kernel.rb:49:in `dispatch'",
      "/home/ryosuke/.rbenv/versions/2.6.3/lib/ruby/gems/2.6.0/gems/iruby-0.4.0/lib/iruby/kernel.rb:38:in `run'",
      "/home/ryosuke/.rbenv/versions/2.6.3/lib/ruby/gems/2.6.0/gems/iruby-0.4.0/lib/iruby/command.rb:110:in `run_kernel'",
      "/home/ryosuke/.rbenv/versions/2.6.3/lib/ruby/gems/2.6.0/gems/iruby-0.4.0/lib/iruby/command.rb:40:in `run'",
      "/home/ryosuke/.rbenv/versions/2.6.3/lib/ruby/gems/2.6.0/gems/iruby-0.4.0/bin/iruby:5:in `<top (required)>'",
      "/home/ryosuke/.rbenv/versions/2.6.3/bin/iruby:23:in `load'",
      "/home/ryosuke/.rbenv/versions/2.6.3/bin/iruby:23:in `<main>'"
     ]
    }
   ],
   "source": [
    "root = Tree.new(0, nil, 0)\n",
    "\n",
    "max = 2*5\n",
    "\n",
    "nodes = [root]\n",
    "ends = [0]\n",
    "max.times do |d|\n",
    "  nodes.map!{|n| (n.grow).children.then{|x| (x.nil?) ? [] : x} }.flatten!\n",
    "  get_ms_of(nodes)\n",
    "  p nodes.size\n",
    "  ends << nodes.count{|n| n.dead?}.tap{|x| puts \"depth=#{d+1}: #{x}\"} if (d+1).even?  \n",
    "end\n",
    "nil"
   ]
  },
  {
   "cell_type": "code",
   "execution_count": null,
   "metadata": {
    "ExecuteTime": {
     "end_time": "2020-01-21T05:41:52.505488Z",
     "start_time": "2020-01-21T05:41:46.299Z"
    }
   },
   "outputs": [],
   "source": [
    "seq = [1]\n",
    "\n",
    "# seq << ends[1]*seq[0]\n",
    "# seq << ends[2]*seq[0] + ends[1]*seq[1]\n",
    "# seq << ends[3]*seq[0] + ends[2]*seq[1] + ends[1]*seq[2]\n",
    "# seq << ends[4]*seq[0] + ends[3]*seq[1] + ends[2]*seq[2] + ends[1]*seq[3]\n",
    "\n",
    "(ends.size - 1).times do |k|\n",
    "  seq << (k+1).times.map{|i| ends[i+1]*seq[k+1-(i+1)] }.sum\n",
    "end\n",
    "seq"
   ]
  },
  {
   "cell_type": "code",
   "execution_count": null,
   "metadata": {
    "ExecuteTime": {
     "end_time": "2020-01-21T06:01:28.432065Z",
     "start_time": "2020-01-21T06:01:28.196Z"
    }
   },
   "outputs": [],
   "source": [
    "\n",
    "ObjectSpace.memsize_of(seq)"
   ]
  },
  {
   "cell_type": "markdown",
   "metadata": {},
   "source": [
    "## Experiments"
   ]
  },
  {
   "cell_type": "code",
   "execution_count": null,
   "metadata": {
    "ExecuteTime": {
     "end_time": "2020-01-20T19:34:59.636012Z",
     "start_time": "2020-01-20T19:34:59.624Z"
    }
   },
   "outputs": [],
   "source": [
    "puts ends\n",
    "puts [0] + ends.map{|v| v*6}\n",
    "puts [0, 0] + ends.map{|v| v*120}\n",
    "puts [0, 0, 0] + ends.map{|v| v*(2712+504+720)}\n",
    "nil"
   ]
  },
  {
   "cell_type": "code",
   "execution_count": null,
   "metadata": {},
   "outputs": [],
   "source": []
  }
 ],
 "metadata": {
  "kernelspec": {
   "display_name": "Ruby 2.6.3",
   "language": "ruby",
   "name": "ruby"
  },
  "language_info": {
   "file_extension": ".rb",
   "mimetype": "application/x-ruby",
   "name": "ruby",
   "version": "2.6.3"
  },
  "toc": {
   "base_numbering": 1,
   "nav_menu": {},
   "number_sections": false,
   "sideBar": true,
   "skip_h1_title": true,
   "title_cell": "Table of Contents",
   "title_sidebar": "Contents",
   "toc_cell": false,
   "toc_position": {},
   "toc_section_display": true,
   "toc_window_display": false
  },
  "varInspector": {
   "cols": {
    "lenName": 16,
    "lenType": 16,
    "lenVar": 40
   },
   "kernels_config": {
    "python": {
     "delete_cmd_postfix": "",
     "delete_cmd_prefix": "del ",
     "library": "var_list.py",
     "varRefreshCmd": "print(var_dic_list())"
    },
    "r": {
     "delete_cmd_postfix": ") ",
     "delete_cmd_prefix": "rm(",
     "library": "var_list.r",
     "varRefreshCmd": "cat(var_dic_list()) "
    }
   },
   "types_to_exclude": [
    "module",
    "function",
    "builtin_function_or_method",
    "instance",
    "_Feature"
   ],
   "window_display": false
  }
 },
 "nbformat": 4,
 "nbformat_minor": 2
}
