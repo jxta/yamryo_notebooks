{
 "cells": [
  {
   "cell_type": "code",
   "execution_count": 22,
   "metadata": {
    "ExecuteTime": {
     "end_time": "2019-12-17T09:33:11.240554Z",
     "start_time": "2019-12-17T09:33:11.235696Z"
    }
   },
   "outputs": [],
   "source": [
    "import math\n",
    "import itertools\n",
    "from functools import reduce"
   ]
  },
  {
   "cell_type": "code",
   "execution_count": 11,
   "metadata": {
    "ExecuteTime": {
     "end_time": "2019-12-17T09:21:34.922385Z",
     "start_time": "2019-12-17T09:21:34.916322Z"
    }
   },
   "outputs": [],
   "source": [
    "def find_a_factor(num):\n",
    "    for k in range(2, int(math.sqrt(num))+1):\n",
    "        if num%k == 0:\n",
    "            return k\n",
    "            break\n",
    "    else: return num\n",
    "    \n",
    "def factorisation(num, facs_list=None):\n",
    "    if facs_list is None: \n",
    "        facs_list = []\n",
    "    factor = find_a_factor(num)\n",
    "    facs_list.append(factor)\n",
    "    if factor != num:\n",
    "        num = int(num/factor)\n",
    "        facs_list = factorisation(num, facs_list)\n",
    "    return facs_list"
   ]
  },
  {
   "cell_type": "code",
   "execution_count": 42,
   "metadata": {
    "ExecuteTime": {
     "end_time": "2019-12-17T09:41:01.305731Z",
     "start_time": "2019-12-17T09:41:01.301640Z"
    }
   },
   "outputs": [],
   "source": [
    "def divisors(num):\n",
    "    divisors = [1]\n",
    "    for n in range(len(factors)):\n",
    "        for facs in itertools.combinations(factors,n):\n",
    "            if facs:\n",
    "                div = reduce(lambda x,y: x*y, facs)\n",
    "                if not(div in divisors):\n",
    "                    divisors.append(div)\n",
    "    return divisors"
   ]
  },
  {
   "cell_type": "code",
   "execution_count": 44,
   "metadata": {
    "ExecuteTime": {
     "end_time": "2019-12-17T09:41:43.584483Z",
     "start_time": "2019-12-17T09:41:43.574843Z"
    }
   },
   "outputs": [
    {
     "name": "stdout",
     "output_type": "stream",
     "text": [
      "[1, 2, 127, 4, 254, 8, 508, 16, 1016, 32, 2032, 64, 4064]\n",
      "8128\n"
     ]
    }
   ],
   "source": [
    "num = 8128\n",
    "divs = divisors(num)\n",
    "print(divs)\n",
    "print(sum(divs))"
   ]
  }
 ],
 "metadata": {
  "kernelspec": {
   "display_name": "Python 3",
   "language": "python",
   "name": "python3"
  },
  "language_info": {
   "codemirror_mode": {
    "name": "ipython",
    "version": 3
   },
   "file_extension": ".py",
   "mimetype": "text/x-python",
   "name": "python",
   "nbconvert_exporter": "python",
   "pygments_lexer": "ipython3",
   "version": "3.7.5"
  },
  "toc": {
   "base_numbering": 1,
   "nav_menu": {},
   "number_sections": true,
   "sideBar": true,
   "skip_h1_title": false,
   "title_cell": "Table of Contents",
   "title_sidebar": "Contents",
   "toc_cell": false,
   "toc_position": {},
   "toc_section_display": true,
   "toc_window_display": false
  },
  "varInspector": {
   "cols": {
    "lenName": 16,
    "lenType": 16,
    "lenVar": 40
   },
   "kernels_config": {
    "python": {
     "delete_cmd_postfix": "",
     "delete_cmd_prefix": "del ",
     "library": "var_list.py",
     "varRefreshCmd": "print(var_dic_list())"
    },
    "r": {
     "delete_cmd_postfix": ") ",
     "delete_cmd_prefix": "rm(",
     "library": "var_list.r",
     "varRefreshCmd": "cat(var_dic_list()) "
    }
   },
   "types_to_exclude": [
    "module",
    "function",
    "builtin_function_or_method",
    "instance",
    "_Feature"
   ],
   "window_display": false
  }
 },
 "nbformat": 4,
 "nbformat_minor": 2
}
