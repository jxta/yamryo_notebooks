{
 "cells": [
  {
   "cell_type": "code",
   "execution_count": 15,
   "metadata": {
    "ExecuteTime": {
     "end_time": "2019-12-17T11:42:05.497782Z",
     "start_time": "2019-12-17T11:42:05.487472Z"
    }
   },
   "outputs": [],
   "source": [
    "import math\n",
    "import itertools\n",
    "from functools import reduce\n",
    "from fractions import Fraction"
   ]
  },
  {
   "cell_type": "code",
   "execution_count": 63,
   "metadata": {
    "ExecuteTime": {
     "end_time": "2019-12-18T00:00:59.997354Z",
     "start_time": "2019-12-18T00:00:59.987127Z"
    }
   },
   "outputs": [],
   "source": [
    "def find_a_factor(num):\n",
    "    for k in range(2, int(math.sqrt(num))+1):\n",
    "        if num%k == 0:\n",
    "            return k\n",
    "            break\n",
    "    else: return num\n",
    "    \n",
    "def factorisation(num, facs_list=None):\n",
    "    if facs_list is None: \n",
    "        facs_list = []\n",
    "    factor = find_a_factor(num)\n",
    "    facs_list.append(factor)\n",
    "    if factor != num:\n",
    "        num = int(num/factor)\n",
    "        facs_list = factorisation(num, facs_list)\n",
    "    return facs_list\n",
    "\n",
    "def divisors(num):\n",
    "    factors = factorisation(num)\n",
    "    divisors = [1,num]\n",
    "    for n in range(1,len(factors)):\n",
    "        for facs in itertools.combinations(factors,n):\n",
    "            div = reduce(lambda x,y: x*y, facs)\n",
    "            divisors.append(div)\n",
    "    return sorted(list(set(divisors)))"
   ]
  },
  {
   "cell_type": "code",
   "execution_count": 67,
   "metadata": {
    "ExecuteTime": {
     "end_time": "2019-12-18T02:48:33.987203Z",
     "start_time": "2019-12-18T02:48:33.979640Z"
    }
   },
   "outputs": [
    {
     "name": "stdout",
     "output_type": "stream",
     "text": [
      "[1, 2, 4, 8, 16, 32, 64, 127, 254, 508, 1016, 2032, 4064, 8128]\n",
      "8128\n"
     ]
    }
   ],
   "source": [
    "num = 8128 #28 #\n",
    "divs = divisors(num)\n",
    "print(divs)\n",
    "print(sum(divs)-num)"
   ]
  },
  {
   "cell_type": "code",
   "execution_count": 65,
   "metadata": {
    "ExecuteTime": {
     "end_time": "2019-12-18T00:01:02.595635Z",
     "start_time": "2019-12-18T00:01:02.584242Z"
    }
   },
   "outputs": [
    {
     "name": "stdout",
     "output_type": "stream",
     "text": [
      "[1, 2, 4, 8, 16, 32, 64, 127, 254, 508, 1016, 2032, 4064, 8128] [Fraction(1, 1), Fraction(1, 2), Fraction(1, 4), Fraction(1, 8), Fraction(1, 16), Fraction(1, 32), Fraction(1, 64), Fraction(1, 127), Fraction(1, 254), Fraction(1, 508), Fraction(1, 1016), Fraction(1, 2032), Fraction(1, 4064), Fraction(1, 8128)] 2 <class 'fractions.Fraction'>\n"
     ]
    },
    {
     "data": {
      "text/plain": [
       "0"
      ]
     },
     "execution_count": 65,
     "metadata": {},
     "output_type": "execute_result"
    }
   ],
   "source": [
    "len(divs)\n",
    "reciprocals = list(map(lambda x: Fraction(1,x), divs))\n",
    "recip_sum = sum(reciprocals)\n",
    "print(divs, reciprocals, recip_sum, type(recip_sum))\n",
    "recip_sum.numerator%recip_sum.denominator"
   ]
  },
  {
   "cell_type": "code",
   "execution_count": 73,
   "metadata": {
    "ExecuteTime": {
     "end_time": "2019-12-18T04:57:48.088663Z",
     "start_time": "2019-12-18T04:19:23.437819Z"
    }
   },
   "outputs": [
    {
     "name": "stdout",
     "output_type": "stream",
     "text": [
      "30240 |--> 4, 24\n",
      "32760 |--> 4, 24\n",
      "523776 |--> 3, 80/3\n",
      "2178540 |--> 4, 54\n"
     ]
    }
   ],
   "source": [
    "MIN, MAX = 10**4, 10**7\n",
    "for num in range(MIN,MAX):\n",
    "    divs = divisors(num)\n",
    "    reciprocals = list(map(lambda x: Fraction(1,x), divs))\n",
    "    total = sum(reciprocals)\n",
    "    harmonic = len(divs)/total\n",
    "    if total.numerator%total.denominator == 0:\n",
    "        print(\"{} |--> {}, {}\".format(num, total, harmonic))"
   ]
  }
 ],
 "metadata": {
  "kernelspec": {
   "display_name": "Python 3",
   "language": "python",
   "name": "python3"
  },
  "language_info": {
   "codemirror_mode": {
    "name": "ipython",
    "version": 3
   },
   "file_extension": ".py",
   "mimetype": "text/x-python",
   "name": "python",
   "nbconvert_exporter": "python",
   "pygments_lexer": "ipython3",
   "version": "3.6.7"
  },
  "toc": {
   "base_numbering": 1,
   "nav_menu": {},
   "number_sections": true,
   "sideBar": true,
   "skip_h1_title": false,
   "title_cell": "Table of Contents",
   "title_sidebar": "Contents",
   "toc_cell": false,
   "toc_position": {},
   "toc_section_display": true,
   "toc_window_display": false
  },
  "varInspector": {
   "cols": {
    "lenName": 16,
    "lenType": 16,
    "lenVar": 40
   },
   "kernels_config": {
    "python": {
     "delete_cmd_postfix": "",
     "delete_cmd_prefix": "del ",
     "library": "var_list.py",
     "varRefreshCmd": "print(var_dic_list())"
    },
    "r": {
     "delete_cmd_postfix": ") ",
     "delete_cmd_prefix": "rm(",
     "library": "var_list.r",
     "varRefreshCmd": "cat(var_dic_list()) "
    }
   },
   "types_to_exclude": [
    "module",
    "function",
    "builtin_function_or_method",
    "instance",
    "_Feature"
   ],
   "window_display": false
  }
 },
 "nbformat": 4,
 "nbformat_minor": 2
}
