{
 "cells": [
  {
   "cell_type": "markdown",
   "metadata": {},
   "source": [
    "# 素数判定あれこれ"
   ]
  },
  {
   "cell_type": "code",
   "execution_count": 1,
   "metadata": {
    "ExecuteTime": {
     "end_time": "2019-09-24T07:02:43.391108Z",
     "start_time": "2019-09-24T07:02:41.684659Z"
    }
   },
   "outputs": [],
   "source": [
    "import math\n",
    "import matplotlib.pyplot as plt\n",
    "%matplotlib inline\n",
    "from sympy import *\n",
    "from decimal import *\n",
    "getcontext()\n",
    "import random"
   ]
  },
  {
   "cell_type": "markdown",
   "metadata": {
    "heading_collapsed": true
   },
   "source": [
    "## 素朴な素数判定"
   ]
  },
  {
   "cell_type": "code",
   "execution_count": 2,
   "metadata": {
    "ExecuteTime": {
     "end_time": "2019-09-24T07:02:46.800096Z",
     "start_time": "2019-09-24T07:02:46.794696Z"
    },
    "hidden": true
   },
   "outputs": [],
   "source": [
    "def is_prime(num):\n",
    "    for k in range(2, int(math.sqrt(num))+1):\n",
    "        if num%k == 0:\n",
    "            return False\n",
    "            break\n",
    "    else: return True"
   ]
  },
  {
   "cell_type": "markdown",
   "metadata": {
    "heading_collapsed": true
   },
   "source": [
    "## フェルマー法"
   ]
  },
  {
   "cell_type": "code",
   "execution_count": 3,
   "metadata": {
    "ExecuteTime": {
     "end_time": "2019-09-24T07:02:48.310213Z",
     "start_time": "2019-09-24T07:02:48.300625Z"
    },
    "hidden": true
   },
   "outputs": [],
   "source": [
    "def fermat(num):\n",
    "    num = abs(num)\n",
    "    if num == 2:\n",
    "        return True\n",
    "    elif num < 2 or num%2 == 0:\n",
    "        return False\n",
    "    else:\n",
    "        return pow(2, num-1, num) == 1"
   ]
  },
  {
   "cell_type": "code",
   "execution_count": 4,
   "metadata": {
    "ExecuteTime": {
     "end_time": "2019-09-24T07:02:49.106755Z",
     "start_time": "2019-09-24T07:02:49.096938Z"
    },
    "hidden": true
   },
   "outputs": [
    {
     "data": {
      "text/plain": [
       "True"
      ]
     },
     "execution_count": 4,
     "metadata": {},
     "output_type": "execute_result"
    }
   ],
   "source": [
    "fermat((2**20)*13+1)"
   ]
  },
  {
   "cell_type": "markdown",
   "metadata": {},
   "source": [
    "## ミラー・ラビン法"
   ]
  },
  {
   "cell_type": "code",
   "execution_count": 5,
   "metadata": {
    "ExecuteTime": {
     "end_time": "2019-09-24T07:02:51.137567Z",
     "start_time": "2019-09-24T07:02:51.130166Z"
    }
   },
   "outputs": [],
   "source": [
    "def miller_rabin(k,init):\n",
    "    num = (2**k)*init+1\n",
    "    a = random.randrange(num-2)+1\n",
    "    if pow(a, init, num) ==1: #(a**init)%num == 1:\n",
    "        return True\n",
    "    else:\n",
    "        for r in range(k):\n",
    "            b = (2**r)*init\n",
    "            if pow(a, b, num) == num-1: #(a**b)%num == num-1:\n",
    "                return True\n",
    "                break\n",
    "        else: \n",
    "            return False"
   ]
  },
  {
   "cell_type": "code",
   "execution_count": 6,
   "metadata": {
    "ExecuteTime": {
     "end_time": "2019-09-24T07:02:51.980151Z",
     "start_time": "2019-09-24T07:02:51.971717Z"
    }
   },
   "outputs": [
    {
     "name": "stdout",
     "output_type": "stream",
     "text": [
      "13631489\n",
      "True True\n"
     ]
    }
   ],
   "source": [
    "k=20\n",
    "init=13\n",
    "num = (2**k)*init+1\n",
    "print(num)\n",
    "\n",
    "print(miller_rabin(k,init),is_prime(num))"
   ]
  },
  {
   "cell_type": "code",
   "execution_count": null,
   "metadata": {
    "ExecuteTime": {
     "start_time": "2019-09-11T06:09:29.131Z"
    }
   },
   "outputs": [],
   "source": [
    "init=13\n",
    "%timeit [is_prime((2**k)*init+1) for k in range(1,100)]\n",
    "%timeit [fermat((2**k)*init+1) for k in range(1,100)]\n",
    "%timeit [miller_rabin(k,init) for k in range(1,100)]"
   ]
  },
  {
   "cell_type": "markdown",
   "metadata": {},
   "source": [
    "# 大竹先生の問題"
   ]
  },
  {
   "cell_type": "markdown",
   "metadata": {},
   "source": [
    "任意の奇素数 $p$ に対し、$p-1$ は偶数であり、$k \\in \\mathbb{N}$ と奇数 $M$ が存在して、\n",
    "$$ p-1 = 2^{k}M $$\n",
    "と分解される。\n",
    "\n",
    "この逆を考える。\n",
    "つまり、以下の問題を考える。\n",
    "\n",
    ">**問題.** すべての奇数 $M$ に対し、$2^{k}*M + 1$ が素数となるような $k \\in \\mathbb{N}$ が存在するか?\n",
    "\n",
    "https://ja.wikipedia.org/wiki/シェルピンスキー数"
   ]
  },
  {
   "cell_type": "code",
   "execution_count": 7,
   "metadata": {
    "ExecuteTime": {
     "end_time": "2019-09-24T07:03:25.171833Z",
     "start_time": "2019-09-24T07:03:25.161752Z"
    }
   },
   "outputs": [
    {
     "name": "stdout",
     "output_type": "stream",
     "text": [
      "10177=2^6*159+1\n"
     ]
    }
   ],
   "source": [
    "init = 2*80-1\n",
    "N = 10**2\n",
    "\n",
    "count=0\n",
    "num = init\n",
    "while not is_prime(num+1):\n",
    "    count += 1\n",
    "    if count > N:\n",
    "        print(\"Count Limit\")\n",
    "        break\n",
    "    num *= 2\n",
    "else:\n",
    "    print(\"{}=2^{}*{}+1\".format(num+1, count, init))"
   ]
  },
  {
   "cell_type": "markdown",
   "metadata": {
    "heading_collapsed": true
   },
   "source": [
    "## グラフ表示"
   ]
  },
  {
   "cell_type": "code",
   "execution_count": 20,
   "metadata": {
    "ExecuteTime": {
     "end_time": "2019-09-24T07:10:56.630920Z",
     "start_time": "2019-09-24T07:10:56.624701Z"
    },
    "hidden": true
   },
   "outputs": [],
   "source": [
    "def get_k(odd, Limit = 10**3):\n",
    "    count = 0\n",
    "    num = odd\n",
    "    while not fermat(num+1): #is_prime(num+1):\n",
    "        count += 1\n",
    "        if count > Limit:\n",
    "            return -1\n",
    "            break\n",
    "        num *= 2\n",
    "    else:\n",
    "        return count"
   ]
  },
  {
   "cell_type": "code",
   "execution_count": 21,
   "metadata": {
    "ExecuteTime": {
     "end_time": "2019-09-24T07:10:57.140166Z",
     "start_time": "2019-09-24T07:10:57.133704Z"
    },
    "hidden": true
   },
   "outputs": [],
   "source": [
    "def get_k_mr(odd, Limit = 10**3):\n",
    "    count = 0\n",
    "    while not miller_rabin(count, odd):\n",
    "        count += 1\n",
    "        if count > Limit:\n",
    "            return -1\n",
    "            break\n",
    "    else:\n",
    "        return count"
   ]
  },
  {
   "cell_type": "code",
   "execution_count": 31,
   "metadata": {
    "ExecuteTime": {
     "end_time": "2019-09-24T07:16:59.494316Z",
     "start_time": "2019-09-24T07:16:16.588968Z"
    },
    "hidden": true
   },
   "outputs": [
    {
     "data": {
      "image/png": "[encoded data removed]",
      "text/plain": [
       "<Figure size 1152x720 with 1 Axes>"
      ]
     },
     "metadata": {
      "needs_background": "light"
     },
     "output_type": "display_data"
    }
   ],
   "source": [
    "X = [2*k-1 for k in range(1,10**4)][10:30]\n",
    "Y = [get_k_mr(odd) for odd in X] #[get_k(odd) for odd in X]\n",
    "\n",
    "# Make the plot\n",
    "plt.figure(figsize=(16,10))\n",
    "\n",
    "ax = plt.subplot()\n",
    "ax.grid()\n",
    "ax.set(xlabel='number (n)', ylabel='# of primes up to n')\n",
    "\n",
    "plt.bar(X, Y, color='blue')\n",
    "#plt.xticks(X)\n",
    "plt.show()"
   ]
  },
  {
   "cell_type": "code",
   "execution_count": 33,
   "metadata": {
    "ExecuteTime": {
     "end_time": "2019-09-24T07:19:13.023254Z",
     "start_time": "2019-09-24T07:18:29.937342Z"
    },
    "hidden": true
   },
   "outputs": [
    {
     "data": {
      "text/plain": [
       "583"
      ]
     },
     "execution_count": 33,
     "metadata": {},
     "output_type": "execute_result"
    }
   ],
   "source": [
    "get_k_mr(47)"
   ]
  },
  {
   "cell_type": "code",
   "execution_count": 39,
   "metadata": {
    "ExecuteTime": {
     "end_time": "2019-09-24T07:24:10.977344Z",
     "start_time": "2019-09-24T07:24:10.620841Z"
    },
    "hidden": true
   },
   "outputs": [
    {
     "name": "stdout",
     "output_type": "stream",
     "text": [
      "1487939695262196876907983166454197495251350196192890428923003345454869706240895712896623468784438158657419591298913094265537812046389415279164757669092989298186306341246574002177\n"
     ]
    },
    {
     "data": {
      "text/plain": [
       "True"
      ]
     },
     "execution_count": 39,
     "metadata": {},
     "output_type": "execute_result"
    }
   ],
   "source": [
    "print((2**583)*47+1)\n",
    "miller_rabin(583,47)"
   ]
  },
  {
   "cell_type": "markdown",
   "metadata": {},
   "source": [
    "## 改良"
   ]
  },
  {
   "cell_type": "code",
   "execution_count": 72,
   "metadata": {
    "ExecuteTime": {
     "end_time": "2019-09-24T08:25:36.986272Z",
     "start_time": "2019-09-24T08:25:36.979475Z"
    }
   },
   "outputs": [],
   "source": [
    "def get_k_hybrid(odd, Limit = 10**3):\n",
    "    count = 0\n",
    "    num = odd\n",
    "    num_is_prime = False\n",
    "    while not num_is_prime:\n",
    "        count += 1\n",
    "        if count > Limit:\n",
    "            return -1\n",
    "            break\n",
    "        num = (2**count)*odd + 1\n",
    "        if fermat(num):\n",
    "            num_is_prime = miller_rabin(count, odd)\n",
    "    else:\n",
    "        return count"
   ]
  },
  {
   "cell_type": "code",
   "execution_count": 82,
   "metadata": {
    "ExecuteTime": {
     "end_time": "2019-09-24T08:28:50.524097Z",
     "start_time": "2019-09-24T08:28:47.703913Z"
    },
    "scrolled": false
   },
   "outputs": [
    {
     "name": "stdout",
     "output_type": "stream",
     "text": [
      "1201 |-> 960\n",
      "1203 |-> 2\n",
      "1205 |-> 1\n",
      "1207 |-> 6\n",
      "1209 |-> 6\n",
      "1211 |-> 1\n",
      "1213 |-> 32\n",
      "1215 |-> 2\n",
      "1217 |-> 7\n",
      "1219 |-> 2\n",
      "1221 |-> 3\n",
      "1223 |-> 1\n",
      "1225 |-> 6\n",
      "1227 |-> 2\n",
      "1229 |-> 1\n",
      "1231 |-> 4\n",
      "1233 |-> 1\n",
      "1235 |-> 5\n",
      "1237 |-> 4\n",
      "1239 |-> 2\n",
      "1241 |-> 3\n",
      "1243 |-> 2\n",
      "1245 |-> 5\n",
      "1247 |-> 7\n",
      "1249 |-> 14\n",
      "1251 |-> 1\n",
      "1253 |-> 17\n",
      "1255 |-> 2\n",
      "1257 |-> 4\n",
      "1259 |-> 5\n",
      "1261 |-> 4\n",
      "1263 |-> 6\n",
      "1265 |-> 1\n",
      "1267 |-> 12\n",
      "1269 |-> 1\n",
      "1271 |-> 1\n",
      "1273 |-> 4\n",
      "1275 |-> 1\n",
      "1277 |-> 143\n",
      "1279 |-> 22\n",
      "1281 |-> 5\n",
      "1283 |-> 5\n",
      "1285 |-> 6\n",
      "1287 |-> 4\n",
      "1289 |-> 1\n",
      "1291 |-> 12\n",
      "1293 |-> 10\n",
      "1295 |-> 1\n",
      "1297 |-> 2\n",
      "1299 |-> 2\n",
      "1301 |-> 11\n",
      "1303 |-> 4\n",
      "1305 |-> 5\n",
      "1307 |-> 3\n",
      "1309 |-> 2\n",
      "1311 |-> 5\n",
      "1313 |-> 5\n",
      "1315 |-> 2\n",
      "1317 |-> 8\n",
      "1319 |-> 5\n",
      "1321 |-> 12\n",
      "1323 |-> 1\n",
      "1325 |-> 3\n",
      "1327 |-> 2\n",
      "1329 |-> 1\n",
      "1331 |-> 1\n",
      "1333 |-> 2\n",
      "1335 |-> 1\n",
      "1337 |-> 15\n",
      "1339 |-> 10\n",
      "1341 |-> 1\n",
      "1343 |-> 1\n",
      "1345 |-> 2\n",
      "1347 |-> 6\n",
      "1349 |-> 1\n",
      "1351 |-> 4\n",
      "1353 |-> 1\n",
      "1355 |-> 1\n",
      "1357 |-> 4\n",
      "1359 |-> 1\n",
      "1361 |-> 3\n",
      "1363 |-> 16\n",
      "1365 |-> 1\n",
      "1367 |-> 3\n",
      "1369 |-> 2\n",
      "1371 |-> 4\n",
      "1373 |-> 45\n",
      "1375 |-> 2\n",
      "1377 |-> 6\n",
      "1379 |-> 5\n",
      "1381 |-> 12\n",
      "1383 |-> 1\n",
      "1385 |-> 11\n",
      "1387 |-> 4\n",
      "1389 |-> 2\n",
      "1391 |-> 39\n",
      "1393 |-> 2\n",
      "1395 |-> 1\n",
      "1397 |-> 3\n",
      "1399 |-> 10\n"
     ]
    }
   ],
   "source": [
    "for n in range(600,700):\n",
    "    odd = 2*n+1\n",
    "    print(\"{} |-> {}\".format(odd, get_k_hybrid(odd)))"
   ]
  },
  {
   "cell_type": "code",
   "execution_count": 74,
   "metadata": {
    "ExecuteTime": {
     "end_time": "2019-09-24T08:26:01.239415Z",
     "start_time": "2019-09-24T08:26:01.231109Z"
    }
   },
   "outputs": [
    {
     "name": "stdout",
     "output_type": "stream",
     "text": [
      "1289\n"
     ]
    },
    {
     "data": {
      "text/plain": [
       "True"
      ]
     },
     "execution_count": 74,
     "metadata": {},
     "output_type": "execute_result"
    }
   ],
   "source": [
    "num = (2**3)*161+1\n",
    "print(num)\n",
    "is_prime(num)"
   ]
  },
  {
   "cell_type": "code",
   "execution_count": 81,
   "metadata": {
    "ExecuteTime": {
     "end_time": "2019-09-24T08:28:03.765179Z",
     "start_time": "2019-09-24T08:28:00.250530Z"
    }
   },
   "outputs": [
    {
     "data": {
      "image/png": "[encoded data removed]",
      "text/plain": [
       "<Figure size 1152x720 with 1 Axes>"
      ]
     },
     "metadata": {
      "needs_background": "light"
     },
     "output_type": "display_data"
    }
   ],
   "source": [
    "X = [2*k-1 for k in range(1,10**4)][600:700] #[1:1000]\n",
    "Y = [get_k_hybrid(odd) for odd in X] #[get_k(odd) for odd in X]\n",
    "\n",
    "# Make the plot\n",
    "plt.figure(figsize=(16,10))\n",
    "\n",
    "ax = plt.subplot()\n",
    "ax.grid()\n",
    "ax.set(xlabel='number (n)', ylabel='# of primes up to n')\n",
    "\n",
    "plt.bar(X, Y, color='blue')\n",
    "#plt.xticks(X)\n",
    "plt.show()"
   ]
  },
  {
   "cell_type": "code",
   "execution_count": null,
   "metadata": {},
   "outputs": [],
   "source": []
  }
 ],
 "metadata": {
  "kernelspec": {
   "display_name": "Python 3",
   "language": "python",
   "name": "python3"
  },
  "language_info": {
   "codemirror_mode": {
    "name": "ipython",
    "version": 3
   },
   "file_extension": ".py",
   "mimetype": "text/x-python",
   "name": "python",
   "nbconvert_exporter": "python",
   "pygments_lexer": "ipython3",
   "version": "3.6.7"
  },
  "toc": {
   "base_numbering": 1,
   "nav_menu": {},
   "number_sections": true,
   "sideBar": true,
   "skip_h1_title": false,
   "title_cell": "Table of Contents",
   "title_sidebar": "Contents",
   "toc_cell": false,
   "toc_position": {},
   "toc_section_display": true,
   "toc_window_display": false
  },
  "varInspector": {
   "cols": {
    "lenName": 16,
    "lenType": 16,
    "lenVar": 40
   },
   "kernels_config": {
    "python": {
     "delete_cmd_postfix": "",
     "delete_cmd_prefix": "del ",
     "library": "var_list.py",
     "varRefreshCmd": "print(var_dic_list())"
    },
    "r": {
     "delete_cmd_postfix": ") ",
     "delete_cmd_prefix": "rm(",
     "library": "var_list.r",
     "varRefreshCmd": "cat(var_dic_list()) "
    }
   },
   "types_to_exclude": [
    "module",
    "function",
    "builtin_function_or_method",
    "instance",
    "_Feature"
   ],
   "window_display": false
  }
 },
 "nbformat": 4,
 "nbformat_minor": 1
}
