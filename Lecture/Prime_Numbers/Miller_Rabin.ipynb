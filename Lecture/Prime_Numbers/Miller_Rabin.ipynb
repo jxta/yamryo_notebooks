{
 "cells": [
  {
   "cell_type": "markdown",
   "metadata": {},
   "source": [
    "# 素数判定あれこれ"
   ]
  },
  {
   "cell_type": "code",
   "execution_count": 1,
   "metadata": {
    "ExecuteTime": {
     "end_time": "2019-09-24T07:02:43.391108Z",
     "start_time": "2019-09-24T07:02:41.684659Z"
    }
   },
   "outputs": [],
   "source": [
    "import math\n",
    "import matplotlib.pyplot as plt\n",
    "%matplotlib inline\n",
    "from sympy import *\n",
    "from decimal import *\n",
    "getcontext()\n",
    "import random"
   ]
  },
  {
   "cell_type": "markdown",
   "metadata": {},
   "source": [
    "## 素朴な素数判定"
   ]
  },
  {
   "cell_type": "code",
   "execution_count": 2,
   "metadata": {
    "ExecuteTime": {
     "end_time": "2019-09-24T07:02:46.800096Z",
     "start_time": "2019-09-24T07:02:46.794696Z"
    }
   },
   "outputs": [],
   "source": [
    "def is_prime(num):\n",
    "    for k in range(2, int(math.sqrt(num))+1):\n",
    "        if num%k == 0:\n",
    "            return False\n",
    "            break\n",
    "    else: return True"
   ]
  },
  {
   "cell_type": "code",
   "execution_count": 3,
   "metadata": {
    "ExecuteTime": {
     "end_time": "2019-09-24T07:02:48.310213Z",
     "start_time": "2019-09-24T07:02:48.300625Z"
    }
   },
   "outputs": [],
   "source": [
    "def fermat(num):\n",
    "    num = abs(num)\n",
    "    if num == 2:\n",
    "        return True\n",
    "    elif num < 2 or num%2 == 0:\n",
    "        return False\n",
    "    else:\n",
    "        return pow(2, num-1, num) == 1"
   ]
  },
  {
   "cell_type": "code",
   "execution_count": 4,
   "metadata": {
    "ExecuteTime": {
     "end_time": "2019-09-24T07:02:49.106755Z",
     "start_time": "2019-09-24T07:02:49.096938Z"
    }
   },
   "outputs": [
    {
     "data": {
      "text/plain": [
       "True"
      ]
     },
     "execution_count": 4,
     "metadata": {},
     "output_type": "execute_result"
    }
   ],
   "source": [
    "fermat((2**20)*13+1)"
   ]
  },
  {
   "cell_type": "markdown",
   "metadata": {},
   "source": [
    "## ミラー・ラビン法"
   ]
  },
  {
   "cell_type": "code",
   "execution_count": 5,
   "metadata": {
    "ExecuteTime": {
     "end_time": "2019-09-24T07:02:51.137567Z",
     "start_time": "2019-09-24T07:02:51.130166Z"
    }
   },
   "outputs": [],
   "source": [
    "def miller_rabin(k,init):\n",
    "    num = (2**k)*init+1\n",
    "    a = random.randrange(num-2)+1\n",
    "    if pow(a, init, num) ==1: #(a**init)%num == 1:\n",
    "        return True\n",
    "    else:\n",
    "        for r in range(k):\n",
    "            b = (2**r)*init\n",
    "            if pow(a, b, num) == num-1: #(a**b)%num == num-1:\n",
    "                return True\n",
    "                break\n",
    "        else: \n",
    "            return False"
   ]
  },
  {
   "cell_type": "code",
   "execution_count": 6,
   "metadata": {
    "ExecuteTime": {
     "end_time": "2019-09-24T07:02:51.980151Z",
     "start_time": "2019-09-24T07:02:51.971717Z"
    }
   },
   "outputs": [
    {
     "name": "stdout",
     "output_type": "stream",
     "text": [
      "13631489\n",
      "True True\n"
     ]
    }
   ],
   "source": [
    "k=20\n",
    "init=13\n",
    "num = (2**k)*init+1\n",
    "print(num)\n",
    "\n",
    "print(miller_rabin(k,init),is_prime(num))"
   ]
  },
  {
   "cell_type": "code",
   "execution_count": null,
   "metadata": {
    "ExecuteTime": {
     "start_time": "2019-09-11T06:09:29.131Z"
    }
   },
   "outputs": [],
   "source": [
    "init=13\n",
    "%timeit [is_prime((2**k)*init+1) for k in range(1,100)]\n",
    "%timeit [fermat((2**k)*init+1) for k in range(1,100)]\n",
    "%timeit [miller_rabin(k,init) for k in range(1,100)]"
   ]
  },
  {
   "cell_type": "markdown",
   "metadata": {},
   "source": [
    "# 大竹先生の問題"
   ]
  },
  {
   "cell_type": "markdown",
   "metadata": {},
   "source": [
    "任意の奇素数 $p$ に対し、$p-1$ は偶数であり、$k \\in \\mathbb{N}$ と奇数 $M$ が存在して、\n",
    "$$ p-1 = 2^{k}M $$\n",
    "と分解される。\n",
    "\n",
    "この逆を考える。\n",
    "つまり、以下の問題を考える。\n",
    "\n",
    ">**問題.** すべての奇数 $M$ に対し、$2^{k}*M + 1$ が素数となるような $k \\in \\mathbb{N}$ が存在するか?\n",
    "\n",
    "https://ja.wikipedia.org/wiki/シェルピンスキー数"
   ]
  },
  {
   "cell_type": "code",
   "execution_count": 7,
   "metadata": {
    "ExecuteTime": {
     "end_time": "2019-09-24T07:03:25.171833Z",
     "start_time": "2019-09-24T07:03:25.161752Z"
    }
   },
   "outputs": [
    {
     "name": "stdout",
     "output_type": "stream",
     "text": [
      "10177=2^6*159+1\n"
     ]
    }
   ],
   "source": [
    "init = 2*80-1\n",
    "N = 10**2\n",
    "\n",
    "count=0\n",
    "num = init\n",
    "while not is_prime(num+1):\n",
    "    count += 1\n",
    "    if count > N:\n",
    "        print(\"Count Limit\")\n",
    "        break\n",
    "    num *= 2\n",
    "else:\n",
    "    print(\"{}=2^{}*{}+1\".format(num+1, count, init))"
   ]
  },
  {
   "cell_type": "code",
   "execution_count": 20,
   "metadata": {
    "ExecuteTime": {
     "end_time": "2019-09-24T07:10:56.630920Z",
     "start_time": "2019-09-24T07:10:56.624701Z"
    }
   },
   "outputs": [],
   "source": [
    "def get_k(odd, Limit = 10**3):\n",
    "    count = 0\n",
    "    num = odd\n",
    "    while not fermat(num+1): #is_prime(num+1):\n",
    "        count += 1\n",
    "        if count > Limit:\n",
    "            return -1\n",
    "            break\n",
    "        num *= 2\n",
    "    else:\n",
    "        return count"
   ]
  },
  {
   "cell_type": "code",
   "execution_count": 21,
   "metadata": {
    "ExecuteTime": {
     "end_time": "2019-09-24T07:10:57.140166Z",
     "start_time": "2019-09-24T07:10:57.133704Z"
    }
   },
   "outputs": [],
   "source": [
    "def get_k_mr(odd, Limit = 10**3):\n",
    "    count = 0\n",
    "    while not miller_rabin(count, odd):\n",
    "        count += 1\n",
    "        if count > Limit:\n",
    "            return -1\n",
    "            break\n",
    "    else:\n",
    "        return count"
   ]
  },
  {
   "cell_type": "code",
   "execution_count": 31,
   "metadata": {
    "ExecuteTime": {
     "end_time": "2019-09-24T07:16:59.494316Z",
     "start_time": "2019-09-24T07:16:16.588968Z"
    }
   },
   "outputs": [
    {
     "data": {
      "image/png": "[encoded data removed]",
      "text/plain": [
       "<Figure size 1152x720 with 1 Axes>"
      ]
     },
     "metadata": {
      "needs_background": "light"
     },
     "output_type": "display_data"
    }
   ],
   "source": [
    "X = [2*k-1 for k in range(1,10**4)][10:30]\n",
    "Y = [get_k_mr(odd) for odd in X] #[get_k(odd) for odd in X]\n",
    "\n",
    "# Make the plot\n",
    "plt.figure(figsize=(16,10))\n",
    "\n",
    "ax = plt.subplot()\n",
    "ax.grid()\n",
    "ax.set(xlabel='number (n)', ylabel='# of primes up to n')\n",
    "\n",
    "plt.bar(X, Y, color='blue')\n",
    "#plt.xticks(X)\n",
    "plt.show()"
   ]
  },
  {
   "cell_type": "code",
   "execution_count": 33,
   "metadata": {
    "ExecuteTime": {
     "end_time": "2019-09-24T07:19:13.023254Z",
     "start_time": "2019-09-24T07:18:29.937342Z"
    }
   },
   "outputs": [
    {
     "data": {
      "text/plain": [
       "583"
      ]
     },
     "execution_count": 33,
     "metadata": {},
     "output_type": "execute_result"
    }
   ],
   "source": [
    "get_k_mr(47)"
   ]
  },
  {
   "cell_type": "code",
   "execution_count": 39,
   "metadata": {
    "ExecuteTime": {
     "end_time": "2019-09-24T07:24:10.977344Z",
     "start_time": "2019-09-24T07:24:10.620841Z"
    }
   },
   "outputs": [
    {
     "name": "stdout",
     "output_type": "stream",
     "text": [
      "1487939695262196876907983166454197495251350196192890428923003345454869706240895712896623468784438158657419591298913094265537812046389415279164757669092989298186306341246574002177\n"
     ]
    },
    {
     "data": {
      "text/plain": [
       "True"
      ]
     },
     "execution_count": 39,
     "metadata": {},
     "output_type": "execute_result"
    }
   ],
   "source": [
    "print((2**583)*47+1)\n",
    "miller_rabin(583,47)"
   ]
  },
  {
   "cell_type": "code",
   "execution_count": 51,
   "metadata": {
    "ExecuteTime": {
     "end_time": "2019-09-24T07:33:18.232978Z",
     "start_time": "2019-09-24T07:33:18.226174Z"
    }
   },
   "outputs": [],
   "source": [
    "def get_k_hybrid(odd, Limit = 10**3):\n",
    "    count = 0\n",
    "    num = odd\n",
    "    while not fermat(num+1):\n",
    "        count += 1\n",
    "        if count > Limit:\n",
    "            return -1\n",
    "            break\n",
    "        num *= 2\n",
    "    else:\n",
    "        if miller_rabin(count, odd):\n",
    "            return count\n",
    "        else:\n",
    "            return (count, False)"
   ]
  },
  {
   "cell_type": "code",
   "execution_count": 55,
   "metadata": {
    "ExecuteTime": {
     "end_time": "2019-09-24T07:34:07.829521Z",
     "start_time": "2019-09-24T07:34:07.273657Z"
    }
   },
   "outputs": [
    {
     "name": "stdout",
     "output_type": "stream",
     "text": [
      "3 |-> 1\n",
      "5 |-> 1\n",
      "7 |-> 2\n",
      "9 |-> 1\n",
      "11 |-> 1\n",
      "13 |-> 2\n",
      "15 |-> 1\n",
      "17 |-> 3\n",
      "19 |-> 6\n",
      "21 |-> 1\n",
      "23 |-> 1\n",
      "25 |-> 2\n",
      "27 |-> 2\n",
      "29 |-> 1\n",
      "31 |-> 8\n",
      "33 |-> 1\n",
      "35 |-> 1\n",
      "37 |-> 2\n",
      "39 |-> 1\n",
      "41 |-> 1\n",
      "43 |-> 2\n",
      "45 |-> 2\n",
      "47 |-> 583\n",
      "49 |-> 2\n",
      "51 |-> 1\n",
      "53 |-> 1\n",
      "55 |-> 4\n",
      "57 |-> 2\n",
      "59 |-> 5\n",
      "61 |-> 4\n",
      "63 |-> 1\n",
      "65 |-> 1\n",
      "67 |-> 2\n",
      "69 |-> 1\n",
      "71 |-> 3\n",
      "73 |-> 2\n",
      "75 |-> 1\n",
      "77 |-> 3\n",
      "79 |-> 2\n",
      "81 |-> 1\n",
      "83 |-> 1\n",
      "85 |-> (2, False)\n",
      "87 |-> 2\n",
      "89 |-> 1\n",
      "91 |-> 8\n",
      "93 |-> 2\n",
      "95 |-> 1\n",
      "97 |-> 2\n",
      "99 |-> 1\n",
      "101 |-> 3\n",
      "103 |-> 16\n",
      "105 |-> 1\n",
      "107 |-> 3\n",
      "109 |-> 6\n",
      "111 |-> 1\n",
      "113 |-> 1\n",
      "115 |-> 2\n",
      "117 |-> 3\n",
      "119 |-> 1\n",
      "121 |-> 8\n",
      "123 |-> 6\n",
      "125 |-> 1\n",
      "127 |-> 2\n",
      "129 |-> 3\n",
      "131 |-> 1\n",
      "133 |-> 4\n",
      "135 |-> 1\n",
      "137 |-> 3\n",
      "139 |-> 2\n",
      "141 |-> 1\n",
      "143 |-> 53\n",
      "145 |-> 6\n",
      "147 |-> 8\n",
      "149 |-> 3\n",
      "151 |-> 4\n",
      "153 |-> 1\n",
      "155 |-> 1\n",
      "157 |-> 8\n",
      "159 |-> 6\n",
      "161 |-> (2, False)\n",
      "163 |-> 2\n",
      "165 |-> 1\n",
      "167 |-> 7\n",
      "169 |-> 2\n",
      "171 |-> 8\n",
      "173 |-> 1\n",
      "175 |-> 2\n",
      "177 |-> 2\n",
      "179 |-> 1\n",
      "181 |-> 4\n",
      "183 |-> 1\n",
      "185 |-> 3\n",
      "187 |-> 6\n",
      "189 |-> 1\n",
      "191 |-> 1\n",
      "193 |-> 2\n",
      "195 |-> 4\n",
      "197 |-> 15\n",
      "199 |-> 2\n"
     ]
    }
   ],
   "source": [
    "for n in range(1,100):\n",
    "    odd = 2*n+1\n",
    "    print(\"{} |-> {}\".format(odd, get_k_hybrid(odd)))"
   ]
  },
  {
   "cell_type": "code",
   "execution_count": null,
   "metadata": {},
   "outputs": [],
   "source": []
  }
 ],
 "metadata": {
  "kernelspec": {
   "display_name": "Python 3",
   "language": "python",
   "name": "python3"
  },
  "language_info": {
   "codemirror_mode": {
    "name": "ipython",
    "version": 3
   },
   "file_extension": ".py",
   "mimetype": "text/x-python",
   "name": "python",
   "nbconvert_exporter": "python",
   "pygments_lexer": "ipython3",
   "version": "3.6.7"
  },
  "toc": {
   "base_numbering": 1,
   "nav_menu": {},
   "number_sections": true,
   "sideBar": true,
   "skip_h1_title": false,
   "title_cell": "Table of Contents",
   "title_sidebar": "Contents",
   "toc_cell": false,
   "toc_position": {},
   "toc_section_display": true,
   "toc_window_display": false
  },
  "varInspector": {
   "cols": {
    "lenName": 16,
    "lenType": 16,
    "lenVar": 40
   },
   "kernels_config": {
    "python": {
     "delete_cmd_postfix": "",
     "delete_cmd_prefix": "del ",
     "library": "var_list.py",
     "varRefreshCmd": "print(var_dic_list())"
    },
    "r": {
     "delete_cmd_postfix": ") ",
     "delete_cmd_prefix": "rm(",
     "library": "var_list.r",
     "varRefreshCmd": "cat(var_dic_list()) "
    }
   },
   "types_to_exclude": [
    "module",
    "function",
    "builtin_function_or_method",
    "instance",
    "_Feature"
   ],
   "window_display": false
  }
 },
 "nbformat": 4,
 "nbformat_minor": 1
}
