{
 "cells": [
  {
   "cell_type": "markdown",
   "metadata": {},
   "source": [
    "# 方程式の解を近似する (ニュートン法)"
   ]
  },
  {
   "cell_type": "code",
   "execution_count": 52,
   "metadata": {
    "ExecuteTime": {
     "end_time": "2019-03-22T08:30:21.541967Z",
     "start_time": "2019-03-22T08:30:21.535574Z"
    }
   },
   "outputs": [],
   "source": [
    "import math\n",
    "from scipy.misc import derivative\n",
    "\n",
    "f = lambda x: math.cos(x)-x\n",
    "df = lambda x: derivative(f, x)"
   ]
  },
  {
   "cell_type": "code",
   "execution_count": 53,
   "metadata": {
    "ExecuteTime": {
     "end_time": "2019-03-22T08:30:25.293707Z",
     "start_time": "2019-03-22T08:30:25.287648Z"
    }
   },
   "outputs": [
    {
     "data": {
      "text/plain": [
       "(-0.45969769413186023, -1.7080734182735713)"
      ]
     },
     "execution_count": 53,
     "metadata": {},
     "output_type": "execute_result"
    }
   ],
   "source": [
    "f(1.0), df(1.0)"
   ]
  },
  {
   "cell_type": "code",
   "execution_count": 78,
   "metadata": {
    "ExecuteTime": {
     "end_time": "2019-03-22T08:44:13.333519Z",
     "start_time": "2019-03-22T08:44:13.320745Z"
    }
   },
   "outputs": [],
   "source": [
    "MaxItr = 100\n",
    "\n",
    "def newton_method(func, start):\n",
    "    df = lambda x: derivative(func, x)\n",
    "    myarr = [0, start]\n",
    "    while (myarr[-2] != myarr[-1]) and (len(myarr) < MaxItr):\n",
    "        prv = myarr[-1]\n",
    "        der = df(prv)\n",
    "        if der != 0:\n",
    "            myarr.append(prv - func(prv)/der)\n",
    "    myarr.pop(0)\n",
    "    return myarr"
   ]
  },
  {
   "cell_type": "code",
   "execution_count": 106,
   "metadata": {
    "ExecuteTime": {
     "end_time": "2019-03-25T01:55:09.037802Z",
     "start_time": "2019-03-25T01:55:09.016670Z"
    }
   },
   "outputs": [
    {
     "name": "stdout",
     "output_type": "stream",
     "text": [
      "[10.0, -9.990098387749665, -3.6860559982416001, -1.7146415545988685, 7.6819332638012128, 3.5755708670072677, -3.3619754893033758, -1.3465481837928244, 7.3891866475828234, 3.4279161507935472, -2.3269603719226106, 1.9035791161493636, 0.66130934151355514, 0.74561859623766769, 0.73864782047085376, 0.73911497428623263, 0.73908309956266782, 0.739085271819648, 0.73908512376856705, 0.73908513385899377, 0.73908513317128022, 0.73908513321815128, 0.73908513321495684, 0.73908513321517455, 0.73908513321515967, 0.73908513321516078, 0.73908513321516067, 0.73908513321516067]\n"
     ]
    },
    {
     "data": {
      "text/plain": [
       "(28, 0.0)"
      ]
     },
     "execution_count": 106,
     "metadata": {},
     "output_type": "execute_result"
    }
   ],
   "source": [
    "func = lambda x: math.cos(x)-x #x**5-2*x**3-4\n",
    "\n",
    "aprx_seq = newton_method(func, 10.0)\n",
    "\n",
    "print(aprx_seq)\n",
    "len(aprx_seq), func(aprx_seq[-1])"
   ]
  },
  {
   "cell_type": "code",
   "execution_count": null,
   "metadata": {},
   "outputs": [],
   "source": []
  }
 ],
 "metadata": {
  "kernelspec": {
   "display_name": "Python 3",
   "language": "python",
   "name": "python3"
  },
  "language_info": {
   "codemirror_mode": {
    "name": "ipython",
    "version": 3
   },
   "file_extension": ".py",
   "mimetype": "text/x-python",
   "name": "python",
   "nbconvert_exporter": "python",
   "pygments_lexer": "ipython3",
   "version": "3.6.7"
  },
  "varInspector": {
   "cols": {
    "lenName": 16,
    "lenType": 16,
    "lenVar": 40
   },
   "kernels_config": {
    "python": {
     "delete_cmd_postfix": "",
     "delete_cmd_prefix": "del ",
     "library": "var_list.py",
     "varRefreshCmd": "print(var_dic_list())"
    },
    "r": {
     "delete_cmd_postfix": ") ",
     "delete_cmd_prefix": "rm(",
     "library": "var_list.r",
     "varRefreshCmd": "cat(var_dic_list()) "
    }
   },
   "types_to_exclude": [
    "module",
    "function",
    "builtin_function_or_method",
    "instance",
    "_Feature"
   ],
   "window_display": false
  }
 },
 "nbformat": 4,
 "nbformat_minor": 2
}
