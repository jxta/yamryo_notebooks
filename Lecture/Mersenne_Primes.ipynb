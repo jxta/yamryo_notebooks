{
 "cells": [
  {
   "cell_type": "markdown",
   "metadata": {},
   "source": [
    "# メルセンヌ素数"
   ]
  },
  {
   "cell_type": "code",
   "execution_count": 1,
   "metadata": {
    "ExecuteTime": {
     "end_time": "2019-04-03T02:42:25.253917Z",
     "start_time": "2019-04-03T02:42:24.748124Z"
    }
   },
   "outputs": [],
   "source": [
    "import math\n",
    "import matplotlib.pyplot as plt\n",
    "%matplotlib inline\n",
    "from sympy import *\n",
    "from tqdm import tqdm_notebook as tqdm\n",
    "from decimal import *\n",
    "getcontext()\n",
    "from functools import reduce"
   ]
  },
  {
   "cell_type": "markdown",
   "metadata": {},
   "source": [
    "## メルセンヌ素数を探す"
   ]
  },
  {
   "cell_type": "markdown",
   "metadata": {},
   "source": [
    "まずは素数判定関数を定義"
   ]
  },
  {
   "cell_type": "code",
   "execution_count": 45,
   "metadata": {
    "ExecuteTime": {
     "end_time": "2019-04-03T05:03:34.057606Z",
     "start_time": "2019-04-03T05:03:34.048351Z"
    }
   },
   "outputs": [],
   "source": [
    "def find_a_factor(num):\n",
    "    for k in range(2, int(math.sqrt(num))+1):\n",
    "        if num%k == 0:\n",
    "            return k\n",
    "            break\n",
    "    else: return 0\n",
    "    \n",
    "def is_prime(num):\n",
    "    return find_a_factor(num)==0"
   ]
  },
  {
   "cell_type": "markdown",
   "metadata": {},
   "source": [
    "素数リスト `plist` の作成"
   ]
  },
  {
   "cell_type": "code",
   "execution_count": 17,
   "metadata": {
    "ExecuteTime": {
     "end_time": "2019-04-03T03:09:36.793784Z",
     "start_time": "2019-04-03T03:09:36.740329Z"
    }
   },
   "outputs": [
    {
     "data": {
      "application/vnd.jupyter.widget-view+json": {
       "model_id": "14caa145802b484f994e1555dcf040f4",
       "version_major": 2,
       "version_minor": 0
      },
      "text/plain": [
       "HBox(children=(IntProgress(value=0, max=59), HTML(value='')))"
      ]
     },
     "metadata": {},
     "output_type": "display_data"
    },
    {
     "name": "stdout",
     "output_type": "stream",
     "text": [
      "\n",
      "[2, 3, 5, 7, 11, 13, 17, 19, 23, 29, 31, 37, 41, 43, 47, 53, 59]\n"
     ]
    }
   ],
   "source": [
    "Num = 60\n",
    "plist = [n for n in tqdm(range(2,Num+1)) if is_prime(n)]\n",
    "print(plist)"
   ]
  },
  {
   "cell_type": "markdown",
   "metadata": {
    "ExecuteTime": {
     "end_time": "2019-03-28T08:38:10.029368Z",
     "start_time": "2019-03-28T08:38:10.021491Z"
    }
   },
   "source": [
    "メルセンヌ素数を素朴に探す。"
   ]
  },
  {
   "cell_type": "code",
   "execution_count": null,
   "metadata": {
    "ExecuteTime": {
     "end_time": "2019-04-02T06:18:38.916553Z",
     "start_time": "2019-04-02T06:18:38.870475Z"
    }
   },
   "outputs": [],
   "source": [
    "for k in tqdm(plist):\n",
    "    if is_prime(k): print('2^{}-1 = {} is prime'.format(k, 2**k-1))"
   ]
  },
  {
   "cell_type": "markdown",
   "metadata": {},
   "source": [
    "$2^{61}-1$ の素数判定はずいぶん時間がかかる。"
   ]
  },
  {
   "cell_type": "code",
   "execution_count": null,
   "metadata": {
    "ExecuteTime": {
     "end_time": "2019-04-02T06:18:53.229847Z",
     "start_time": "2019-04-02T06:18:53.220487Z"
    }
   },
   "outputs": [],
   "source": [
    "def find_factor_w_tqdm(num):\n",
    "    for k in tqdm(range(2, int(math.sqrt(num))+1)):\n",
    "        if num%k == 0:\n",
    "            return k\n",
    "            break\n",
    "    else: return 0"
   ]
  },
  {
   "cell_type": "code",
   "execution_count": null,
   "metadata": {
    "ExecuteTime": {
     "end_time": "2019-04-02T06:19:06.811947Z",
     "start_time": "2019-04-02T06:18:54.874892Z"
    }
   },
   "outputs": [],
   "source": [
    "result = find_factor_w_tqdm(2**61-1); print(result)"
   ]
  },
  {
   "cell_type": "markdown",
   "metadata": {},
   "source": [
    "## フェルマーテスト"
   ]
  },
  {
   "cell_type": "markdown",
   "metadata": {},
   "source": [
    "素数判定をもっと高速のものにしたい。まずはフェルマーテスト。"
   ]
  },
  {
   "cell_type": "code",
   "execution_count": null,
   "metadata": {
    "ExecuteTime": {
     "end_time": "2019-04-02T06:19:25.556732Z",
     "start_time": "2019-04-02T06:19:25.548404Z"
    }
   },
   "outputs": [],
   "source": [
    "def fermat(num):\n",
    "    num = abs(num)\n",
    "    if num == 2:\n",
    "        return True\n",
    "    elif num < 2 or num%2 == 0:\n",
    "        return False\n",
    "    else:\n",
    "        return pow(2, num-1, num) == 1"
   ]
  },
  {
   "cell_type": "code",
   "execution_count": null,
   "metadata": {
    "ExecuteTime": {
     "end_time": "2019-04-02T06:19:26.783818Z",
     "start_time": "2019-04-02T06:19:26.739527Z"
    }
   },
   "outputs": [],
   "source": [
    "for k in tqdm(plist):\n",
    "    if fermat(2**k-1): print('2^{}-1 = {} is prime'.format(k, 2**k-1))"
   ]
  },
  {
   "cell_type": "markdown",
   "metadata": {},
   "source": [
    "上の出力のように、$2^{11}-1$ や $2^{23}-1$ が素数と判定されてしまった。"
   ]
  },
  {
   "cell_type": "markdown",
   "metadata": {
    "ExecuteTime": {
     "end_time": "2019-03-07T09:31:10.696106Z",
     "start_time": "2019-03-07T09:31:10.687709Z"
    }
   },
   "source": [
    "## リュカ-レーマー・テスト"
   ]
  },
  {
   "cell_type": "markdown",
   "metadata": {},
   "source": [
    "#### 疑似コード(from Wikipedia)\n",
    "```\n",
    "入力: p:奇素数であるテスト対象の整数\n",
    "出力: PRIME:素数の場合, COMPOSIT:合成数の場合\n",
    "Lucas_Lehmer_Test(p):\n",
    "    var s = 4\n",
    "    var M = 2**p − 1\n",
    "    for n in range(2, p):\n",
    "        s = (s*s-2)%M\n",
    "    if s == 0 then\n",
    "        return PRIME\n",
    "    else\n",
    "        return COMPOSIT\n",
    "```"
   ]
  },
  {
   "cell_type": "code",
   "execution_count": 38,
   "metadata": {
    "ExecuteTime": {
     "end_time": "2019-04-03T04:59:55.379931Z",
     "start_time": "2019-04-03T04:59:55.374141Z"
    }
   },
   "outputs": [],
   "source": [
    "def lucas_lehmer(p):\n",
    "    s = 4\n",
    "    mp = 2**p-1\n",
    "    for n in range(p-2): # p-2 times iteration (list(range(p-2))=[0,1,...,p-1])\n",
    "         s = (s**2-2)%mp\n",
    "    return s==0"
   ]
  },
  {
   "cell_type": "code",
   "execution_count": 26,
   "metadata": {
    "ExecuteTime": {
     "end_time": "2019-04-03T03:13:15.967847Z",
     "start_time": "2019-04-03T03:13:15.958889Z"
    }
   },
   "outputs": [],
   "source": [
    "def lucas_lehmer_FAST(p):\n",
    "    s = 4\n",
    "    mp = (1<<p)-1\n",
    "    for n in range(p-2):\n",
    "        ss = s*s        \n",
    "        s = (ss & mp) + (ss >> p)\n",
    "        if s >= mp: s = s-mp\n",
    "        s = s-2\n",
    "    return s==0"
   ]
  },
  {
   "cell_type": "code",
   "execution_count": null,
   "metadata": {
    "ExecuteTime": {
     "end_time": "2019-04-02T06:26:54.176001Z",
     "start_time": "2019-04-02T06:26:51.206254Z"
    }
   },
   "outputs": [],
   "source": [
    "%timeit lucas_lehmer(4423)\n",
    "%timeit lucas_lehmer_FAST(4423)"
   ]
  },
  {
   "cell_type": "markdown",
   "metadata": {},
   "source": [
    "### リュカ-レーマー・テストを使う。"
   ]
  },
  {
   "cell_type": "code",
   "execution_count": null,
   "metadata": {
    "ExecuteTime": {
     "end_time": "2019-04-02T06:27:08.612081Z",
     "start_time": "2019-04-02T06:27:08.597534Z"
    }
   },
   "outputs": [],
   "source": [
    "def mp_str(p):\n",
    "    mp = Decimal(2**p-1)\n",
    "    nod = mp.adjusted()+1\n",
    "    if nod <= 40:\n",
    "        return str(mp)\n",
    "    else:\n",
    "        getcontext().prec = nod\n",
    "        top = (mp/(Decimal(10)**(nod-20))).quantize(1)\n",
    "        bottom = mp-math.floor(mp/Decimal(1.0e+20))*Decimal(1.0e+20)\n",
    "        return '{}...{} [{} digits]'.format(top,bottom,nod)\n",
    "\n",
    "def find_mp(nmin, nmax):\n",
    "    plist = [n for n in range(nmin, nmax+1) if is_prime(n)]\n",
    "    for p in tqdm(plist):\n",
    "        if lucas_lehmer_FAST(p): print('2^{}-1 = {} is prime'.format(p, mp_str(p)))"
   ]
  },
  {
   "cell_type": "code",
   "execution_count": null,
   "metadata": {
    "ExecuteTime": {
     "end_time": "2019-04-02T06:27:22.831139Z",
     "start_time": "2019-04-02T06:27:22.701006Z"
    },
    "scrolled": false
   },
   "outputs": [],
   "source": [
    "find_mp(100, 1000)"
   ]
  },
  {
   "cell_type": "code",
   "execution_count": null,
   "metadata": {
    "ExecuteTime": {
     "end_time": "2019-04-02T06:27:42.975299Z",
     "start_time": "2019-04-02T06:27:37.317157Z"
    },
    "scrolled": true
   },
   "outputs": [],
   "source": [
    "find_mp(1000, 4000)"
   ]
  },
  {
   "cell_type": "code",
   "execution_count": null,
   "metadata": {
    "ExecuteTime": {
     "end_time": "2019-04-02T06:27:56.870925Z",
     "start_time": "2019-04-02T06:27:53.236754Z"
    }
   },
   "outputs": [],
   "source": [
    "find_mp(10000, 20000)"
   ]
  },
  {
   "cell_type": "code",
   "execution_count": null,
   "metadata": {
    "ExecuteTime": {
     "end_time": "2019-03-29T07:18:20.620757Z",
     "start_time": "2019-03-29T06:59:02.158225Z"
    }
   },
   "outputs": [],
   "source": [
    "find_mp(20000, 50000)"
   ]
  },
  {
   "cell_type": "markdown",
   "metadata": {},
   "source": [
    "### リュカ-レーマー・テストのコードの改良"
   ]
  },
  {
   "cell_type": "markdown",
   "metadata": {},
   "source": [
    "$s_{p-2}$ を一般項から直接求める。"
   ]
  },
  {
   "cell_type": "code",
   "execution_count": null,
   "metadata": {
    "ExecuteTime": {
     "end_time": "2019-04-02T05:58:36.589532Z",
     "start_time": "2019-04-02T05:58:36.578248Z"
    }
   },
   "outputs": [],
   "source": [
    "getcontext().prec=100000\n",
    "p = 17\n",
    "mp = 2**p-1\n",
    "seq = [4]\n",
    "for n in range(p-2): seq.append((seq[-1]**2-2)%mp)\n",
    "print(seq)"
   ]
  },
  {
   "cell_type": "code",
   "execution_count": null,
   "metadata": {
    "ExecuteTime": {
     "end_time": "2019-04-02T05:55:14.339291Z",
     "start_time": "2019-04-02T05:55:14.330462Z"
    }
   },
   "outputs": [],
   "source": [
    "def binom(n,k,mod):\n",
    "#    nume = Decimal(math.factorial(n))\n",
    "#    deno = Decimal(math.factorial(k)*math.factorial(n-k))\n",
    "    if k==0: nume, deno = 1, 1\n",
    "    else:\n",
    "        nume = reduce(lambda x,y: x*y, range(n-k+1, n+1))\n",
    "        deno = reduce(lambda x,y: x*y, range(1, k+1))\n",
    "    return Decimal(nume)/Decimal(deno)"
   ]
  },
  {
   "cell_type": "code",
   "execution_count": null,
   "metadata": {
    "ExecuteTime": {
     "end_time": "2019-04-02T05:58:09.069580Z",
     "start_time": "2019-04-02T05:55:18.138718Z"
    }
   },
   "outputs": [],
   "source": [
    "getcontext().prec=10000\n",
    "p = 17\n",
    "mp = Decimal(2**p-1)\n",
    "for i in range(1,p-2+1):\n",
    "    n = 2**i\n",
    "    seq = [2*binom(n,2*k,mp)*2**(n-2*k)*3**k for k in range(2**(i-1)+1)]\n",
    "    print(sum(seq)%mp)"
   ]
  },
  {
   "cell_type": "code",
   "execution_count": null,
   "metadata": {
    "ExecuteTime": {
     "start_time": "2019-04-02T05:58:41.956Z"
    }
   },
   "outputs": [],
   "source": [
    "p = 17\n",
    "mp = (1<<p)-1\n",
    "n = 1<<(p-2)\n",
    "sum([2*binom(n,2*k,mp)*(2**(n-2*k))*(3**k) for k in range(int(n/2)+1)])%mp"
   ]
  },
  {
   "cell_type": "markdown",
   "metadata": {},
   "source": [
    "### \"メルセンヌ合成数\" について"
   ]
  },
  {
   "cell_type": "code",
   "execution_count": 30,
   "metadata": {
    "ExecuteTime": {
     "end_time": "2019-04-03T04:55:41.866597Z",
     "start_time": "2019-04-03T04:55:41.762181Z"
    }
   },
   "outputs": [],
   "source": [
    "def find_a_factor(num):\n",
    "    num = abs(int(num))\n",
    "    for n in range(2,int(math.sqrt(num))+1):\n",
    "        if num%n==0: return n; break\n",
    "    else: return num\n",
    "        \n",
    "def factorisation(num, facs_list=None):\n",
    "    if facs_list is None: facs_list = []\n",
    "    #import pdb; pdb.set_trace()\n",
    "    facs_list.append(find_a_factor(num))\n",
    "    if facs_list[-1]!=num:\n",
    "        facs_list=factorisation(int(num/facs_list[-1]), facs_list)\n",
    "    return facs_list"
   ]
  },
  {
   "cell_type": "code",
   "execution_count": 31,
   "metadata": {
    "ExecuteTime": {
     "end_time": "2019-04-03T04:55:42.892764Z",
     "start_time": "2019-04-03T04:55:42.879915Z"
    }
   },
   "outputs": [
    {
     "data": {
      "text/plain": [
       "[47, 178481]"
      ]
     },
     "execution_count": 31,
     "metadata": {},
     "output_type": "execute_result"
    }
   ],
   "source": [
    "factorisation(2**23-1)"
   ]
  },
  {
   "cell_type": "code",
   "execution_count": 48,
   "metadata": {
    "ExecuteTime": {
     "end_time": "2019-04-03T05:04:24.487700Z",
     "start_time": "2019-04-03T05:04:24.456460Z"
    }
   },
   "outputs": [
    {
     "name": "stdout",
     "output_type": "stream",
     "text": [
      "[3, 5, 7, 11, 13, 17, 19, 23, 29, 31, 37, 41, 43, 47, 53, 59, 61, 67, 71, 73, 79, 83, 89, 97, 101, 103, 107, 109, 113, 127, 131, 137, 139, 149, 151, 157, 163, 167, 173, 179, 181, 191, 193, 197, 199, 211, 223, 227, 229, 233, 239, 241, 251, 257, 263, 269, 271, 277, 281, 283, 293, 307, 311, 313, 317, 331, 337, 347, 349, 353, 359, 367, 373, 379, 383, 389, 397, 401, 409, 419, 421, 431, 433, 439, 443, 449, 457, 461, 463, 467, 479, 487, 491, 499, 503, 509, 521, 523, 541, 547, 557, 563, 569, 571, 577, 587, 593, 599, 601, 607, 613, 617, 619, 631, 641, 643, 647, 653, 659, 661, 673, 677, 683, 691, 701, 709, 719, 727, 733, 739, 743, 751, 757, 761, 769, 773, 787, 797, 809, 811, 821, 823, 827, 829, 839, 853, 857, 859, 863, 877, 881, 883, 887, 907, 911, 919, 929, 937, 941, 947, 953, 967, 971, 977, 983, 991, 997]\n"
     ]
    },
    {
     "ename": "ZeroDivisionError",
     "evalue": "division by zero",
     "output_type": "error",
     "traceback": [
      "\u001b[0;31m---------------------------------------------------------------------------\u001b[0m",
      "\u001b[0;31mZeroDivisionError\u001b[0m                         Traceback (most recent call last)",
      "\u001b[0;32m<ipython-input-48-8101e0e08c15>\u001b[0m in \u001b[0;36m<module>\u001b[0;34m()\u001b[0m\n\u001b[1;32m      6\u001b[0m     \u001b[0mmp\u001b[0m \u001b[0;34m=\u001b[0m \u001b[0;34m(\u001b[0m\u001b[0;36m1\u001b[0m\u001b[0;34m<<\u001b[0m\u001b[0mp\u001b[0m\u001b[0;34m)\u001b[0m\u001b[0;34m-\u001b[0m\u001b[0;36m1\u001b[0m\u001b[0;34m\u001b[0m\u001b[0;34m\u001b[0m\u001b[0m\n\u001b[1;32m      7\u001b[0m     \u001b[0;32mif\u001b[0m \u001b[0;32mnot\u001b[0m \u001b[0mlucas_lehmer_FAST\u001b[0m\u001b[0;34m(\u001b[0m\u001b[0mp\u001b[0m\u001b[0;34m)\u001b[0m\u001b[0;34m:\u001b[0m\u001b[0;34m\u001b[0m\u001b[0;34m\u001b[0m\u001b[0m\n\u001b[0;32m----> 8\u001b[0;31m         \u001b[0mfactorised\u001b[0m \u001b[0;34m=\u001b[0m \u001b[0mfactorisation\u001b[0m\u001b[0;34m(\u001b[0m\u001b[0mmp\u001b[0m\u001b[0;34m)\u001b[0m\u001b[0;34m\u001b[0m\u001b[0;34m\u001b[0m\u001b[0m\n\u001b[0m\u001b[1;32m      9\u001b[0m         \u001b[0mprint\u001b[0m\u001b[0;34m(\u001b[0m\u001b[0;34m\"2**{}-1={}={}\"\u001b[0m\u001b[0;34m.\u001b[0m\u001b[0mformat\u001b[0m\u001b[0;34m(\u001b[0m\u001b[0mp\u001b[0m\u001b[0;34m,\u001b[0m\u001b[0mmp\u001b[0m\u001b[0;34m,\u001b[0m\u001b[0mfactorised\u001b[0m\u001b[0;34m)\u001b[0m\u001b[0;34m)\u001b[0m\u001b[0;34m\u001b[0m\u001b[0;34m\u001b[0m\u001b[0m\n",
      "\u001b[0;32m<ipython-input-30-e90812fcb775>\u001b[0m in \u001b[0;36mfactorisation\u001b[0;34m(num, facs_list)\u001b[0m\n\u001b[1;32m     10\u001b[0m     \u001b[0mfacs_list\u001b[0m\u001b[0;34m.\u001b[0m\u001b[0mappend\u001b[0m\u001b[0;34m(\u001b[0m\u001b[0mfind_a_factor\u001b[0m\u001b[0;34m(\u001b[0m\u001b[0mnum\u001b[0m\u001b[0;34m)\u001b[0m\u001b[0;34m)\u001b[0m\u001b[0;34m\u001b[0m\u001b[0;34m\u001b[0m\u001b[0m\n\u001b[1;32m     11\u001b[0m     \u001b[0;32mif\u001b[0m \u001b[0mfacs_list\u001b[0m\u001b[0;34m[\u001b[0m\u001b[0;34m-\u001b[0m\u001b[0;36m1\u001b[0m\u001b[0;34m]\u001b[0m\u001b[0;34m!=\u001b[0m\u001b[0mnum\u001b[0m\u001b[0;34m:\u001b[0m\u001b[0;34m\u001b[0m\u001b[0;34m\u001b[0m\u001b[0m\n\u001b[0;32m---> 12\u001b[0;31m         \u001b[0mfacs_list\u001b[0m\u001b[0;34m=\u001b[0m\u001b[0mfactorisation\u001b[0m\u001b[0;34m(\u001b[0m\u001b[0mint\u001b[0m\u001b[0;34m(\u001b[0m\u001b[0mnum\u001b[0m\u001b[0;34m/\u001b[0m\u001b[0mfacs_list\u001b[0m\u001b[0;34m[\u001b[0m\u001b[0;34m-\u001b[0m\u001b[0;36m1\u001b[0m\u001b[0;34m]\u001b[0m\u001b[0;34m)\u001b[0m\u001b[0;34m,\u001b[0m \u001b[0mfacs_list\u001b[0m\u001b[0;34m)\u001b[0m\u001b[0;34m\u001b[0m\u001b[0;34m\u001b[0m\u001b[0m\n\u001b[0m\u001b[1;32m     13\u001b[0m     \u001b[0;32mreturn\u001b[0m \u001b[0mfacs_list\u001b[0m\u001b[0;34m\u001b[0m\u001b[0;34m\u001b[0m\u001b[0m\n",
      "\u001b[0;32m<ipython-input-30-e90812fcb775>\u001b[0m in \u001b[0;36mfactorisation\u001b[0;34m(num, facs_list)\u001b[0m\n\u001b[1;32m     10\u001b[0m     \u001b[0mfacs_list\u001b[0m\u001b[0;34m.\u001b[0m\u001b[0mappend\u001b[0m\u001b[0;34m(\u001b[0m\u001b[0mfind_a_factor\u001b[0m\u001b[0;34m(\u001b[0m\u001b[0mnum\u001b[0m\u001b[0;34m)\u001b[0m\u001b[0;34m)\u001b[0m\u001b[0;34m\u001b[0m\u001b[0;34m\u001b[0m\u001b[0m\n\u001b[1;32m     11\u001b[0m     \u001b[0;32mif\u001b[0m \u001b[0mfacs_list\u001b[0m\u001b[0;34m[\u001b[0m\u001b[0;34m-\u001b[0m\u001b[0;36m1\u001b[0m\u001b[0;34m]\u001b[0m\u001b[0;34m!=\u001b[0m\u001b[0mnum\u001b[0m\u001b[0;34m:\u001b[0m\u001b[0;34m\u001b[0m\u001b[0;34m\u001b[0m\u001b[0m\n\u001b[0;32m---> 12\u001b[0;31m         \u001b[0mfacs_list\u001b[0m\u001b[0;34m=\u001b[0m\u001b[0mfactorisation\u001b[0m\u001b[0;34m(\u001b[0m\u001b[0mint\u001b[0m\u001b[0;34m(\u001b[0m\u001b[0mnum\u001b[0m\u001b[0;34m/\u001b[0m\u001b[0mfacs_list\u001b[0m\u001b[0;34m[\u001b[0m\u001b[0;34m-\u001b[0m\u001b[0;36m1\u001b[0m\u001b[0;34m]\u001b[0m\u001b[0;34m)\u001b[0m\u001b[0;34m,\u001b[0m \u001b[0mfacs_list\u001b[0m\u001b[0;34m)\u001b[0m\u001b[0;34m\u001b[0m\u001b[0;34m\u001b[0m\u001b[0m\n\u001b[0m\u001b[1;32m     13\u001b[0m     \u001b[0;32mreturn\u001b[0m \u001b[0mfacs_list\u001b[0m\u001b[0;34m\u001b[0m\u001b[0;34m\u001b[0m\u001b[0m\n",
      "\u001b[0;31mZeroDivisionError\u001b[0m: division by zero"
     ]
    }
   ],
   "source": [
    "map(list(range(3, 1000)))\n",
    "    if is_prime(n): plist.append(n)\n",
    "\n",
    "for p in plist:\n",
    "    mp = (1<<p)-1\n",
    "    if not lucas_lehmer_FAST(p):\n",
    "        factorised = factorisation(mp)\n",
    "        print(\"2**{}-1={}={}\".format(p,mp,factorised))"
   ]
  },
  {
   "cell_type": "code",
   "execution_count": 29,
   "metadata": {
    "ExecuteTime": {
     "end_time": "2019-04-03T03:14:05.446815Z",
     "start_time": "2019-04-03T03:14:05.421176Z"
    }
   },
   "outputs": [
    {
     "ename": "ZeroDivisionError",
     "evalue": "division by zero",
     "output_type": "error",
     "traceback": [
      "\u001b[0;31m---------------------------------------------------------------------------\u001b[0m",
      "\u001b[0;31mZeroDivisionError\u001b[0m                         Traceback (most recent call last)",
      "\u001b[0;32m<ipython-input-29-439755fd7862>\u001b[0m in \u001b[0;36m<module>\u001b[0;34m()\u001b[0m\n\u001b[1;32m      1\u001b[0m \u001b[0mnn\u001b[0m \u001b[0;34m=\u001b[0m \u001b[0;36m2\u001b[0m\u001b[0;34m**\u001b[0m\u001b[0;36m23\u001b[0m\u001b[0;34m-\u001b[0m\u001b[0;36m1\u001b[0m\u001b[0;34m\u001b[0m\u001b[0;34m\u001b[0m\u001b[0m\n\u001b[0;32m----> 2\u001b[0;31m \u001b[0mfactorisation\u001b[0m\u001b[0;34m(\u001b[0m\u001b[0mnn\u001b[0m\u001b[0;34m)\u001b[0m\u001b[0;34m\u001b[0m\u001b[0;34m\u001b[0m\u001b[0m\n\u001b[0m",
      "\u001b[0;32m<ipython-input-10-e90812fcb775>\u001b[0m in \u001b[0;36mfactorisation\u001b[0;34m(num, facs_list)\u001b[0m\n\u001b[1;32m     10\u001b[0m     \u001b[0mfacs_list\u001b[0m\u001b[0;34m.\u001b[0m\u001b[0mappend\u001b[0m\u001b[0;34m(\u001b[0m\u001b[0mfind_a_factor\u001b[0m\u001b[0;34m(\u001b[0m\u001b[0mnum\u001b[0m\u001b[0;34m)\u001b[0m\u001b[0;34m)\u001b[0m\u001b[0;34m\u001b[0m\u001b[0;34m\u001b[0m\u001b[0m\n\u001b[1;32m     11\u001b[0m     \u001b[0;32mif\u001b[0m \u001b[0mfacs_list\u001b[0m\u001b[0;34m[\u001b[0m\u001b[0;34m-\u001b[0m\u001b[0;36m1\u001b[0m\u001b[0;34m]\u001b[0m\u001b[0;34m!=\u001b[0m\u001b[0mnum\u001b[0m\u001b[0;34m:\u001b[0m\u001b[0;34m\u001b[0m\u001b[0;34m\u001b[0m\u001b[0m\n\u001b[0;32m---> 12\u001b[0;31m         \u001b[0mfacs_list\u001b[0m\u001b[0;34m=\u001b[0m\u001b[0mfactorisation\u001b[0m\u001b[0;34m(\u001b[0m\u001b[0mint\u001b[0m\u001b[0;34m(\u001b[0m\u001b[0mnum\u001b[0m\u001b[0;34m/\u001b[0m\u001b[0mfacs_list\u001b[0m\u001b[0;34m[\u001b[0m\u001b[0;34m-\u001b[0m\u001b[0;36m1\u001b[0m\u001b[0;34m]\u001b[0m\u001b[0;34m)\u001b[0m\u001b[0;34m,\u001b[0m \u001b[0mfacs_list\u001b[0m\u001b[0;34m)\u001b[0m\u001b[0;34m\u001b[0m\u001b[0;34m\u001b[0m\u001b[0m\n\u001b[0m\u001b[1;32m     13\u001b[0m     \u001b[0;32mreturn\u001b[0m \u001b[0mfacs_list\u001b[0m\u001b[0;34m\u001b[0m\u001b[0;34m\u001b[0m\u001b[0m\n",
      "\u001b[0;32m<ipython-input-10-e90812fcb775>\u001b[0m in \u001b[0;36mfactorisation\u001b[0;34m(num, facs_list)\u001b[0m\n\u001b[1;32m     10\u001b[0m     \u001b[0mfacs_list\u001b[0m\u001b[0;34m.\u001b[0m\u001b[0mappend\u001b[0m\u001b[0;34m(\u001b[0m\u001b[0mfind_a_factor\u001b[0m\u001b[0;34m(\u001b[0m\u001b[0mnum\u001b[0m\u001b[0;34m)\u001b[0m\u001b[0;34m)\u001b[0m\u001b[0;34m\u001b[0m\u001b[0;34m\u001b[0m\u001b[0m\n\u001b[1;32m     11\u001b[0m     \u001b[0;32mif\u001b[0m \u001b[0mfacs_list\u001b[0m\u001b[0;34m[\u001b[0m\u001b[0;34m-\u001b[0m\u001b[0;36m1\u001b[0m\u001b[0;34m]\u001b[0m\u001b[0;34m!=\u001b[0m\u001b[0mnum\u001b[0m\u001b[0;34m:\u001b[0m\u001b[0;34m\u001b[0m\u001b[0;34m\u001b[0m\u001b[0m\n\u001b[0;32m---> 12\u001b[0;31m         \u001b[0mfacs_list\u001b[0m\u001b[0;34m=\u001b[0m\u001b[0mfactorisation\u001b[0m\u001b[0;34m(\u001b[0m\u001b[0mint\u001b[0m\u001b[0;34m(\u001b[0m\u001b[0mnum\u001b[0m\u001b[0;34m/\u001b[0m\u001b[0mfacs_list\u001b[0m\u001b[0;34m[\u001b[0m\u001b[0;34m-\u001b[0m\u001b[0;36m1\u001b[0m\u001b[0;34m]\u001b[0m\u001b[0;34m)\u001b[0m\u001b[0;34m,\u001b[0m \u001b[0mfacs_list\u001b[0m\u001b[0;34m)\u001b[0m\u001b[0;34m\u001b[0m\u001b[0;34m\u001b[0m\u001b[0m\n\u001b[0m\u001b[1;32m     13\u001b[0m     \u001b[0;32mreturn\u001b[0m \u001b[0mfacs_list\u001b[0m\u001b[0;34m\u001b[0m\u001b[0;34m\u001b[0m\u001b[0m\n",
      "\u001b[0;31mZeroDivisionError\u001b[0m: division by zero"
     ]
    }
   ],
   "source": [
    "nn = 2**23-1\n",
    "factorisation(nn)"
   ]
  },
  {
   "cell_type": "markdown",
   "metadata": {},
   "source": [
    "## ミラーラビン法"
   ]
  },
  {
   "cell_type": "markdown",
   "metadata": {},
   "source": [
    "確率的判定法。"
   ]
  },
  {
   "cell_type": "code",
   "execution_count": null,
   "metadata": {
    "ExecuteTime": {
     "end_time": "2019-03-28T08:39:54.413620Z",
     "start_time": "2019-03-28T08:39:54.396261Z"
    }
   },
   "outputs": [],
   "source": [
    "import random\n",
    "def millerrabin(n):\n",
    "    if n%2 == 0 or n%3 == 0 or n%5 == 0:\n",
    "        return False\n",
    "    else:\n",
    "        s, d = 0, n-1\n",
    "        while d%2==0: s,d = s+1, int(d/2)\n",
    "        k = 50\n",
    "#        for j in tqdm(range(k)):\n",
    "        while k > 0:\n",
    "            k = k-1\n",
    "            a = random.randint(1,n-1)\n",
    "            t, y = d, pow(a,d,n)\n",
    "            while t != n-1 and y != 1 and y != n-1:\n",
    "                y = pow(y,2,n)\n",
    "                t <<= 1\n",
    "            if y != n-1 and t%2 == 0:\n",
    "                return False\n",
    "        return True"
   ]
  },
  {
   "cell_type": "code",
   "execution_count": null,
   "metadata": {
    "ExecuteTime": {
     "end_time": "2019-03-28T08:40:37.585679Z",
     "start_time": "2019-03-28T08:40:00.652300Z"
    },
    "scrolled": true
   },
   "outputs": [],
   "source": [
    "for k in tqdm(plist):\n",
    "    if millerrabin(2**k-1): print('2^{}-1 = {} is prime'.format(k, 2**k-1))"
   ]
  },
  {
   "cell_type": "markdown",
   "metadata": {},
   "source": [
    "ずいぶん時間がかかってしまう。なぜ?"
   ]
  }
 ],
 "metadata": {
  "kernelspec": {
   "display_name": "Python 3",
   "language": "python",
   "name": "python3"
  },
  "language_info": {
   "codemirror_mode": {
    "name": "ipython",
    "version": 3
   },
   "file_extension": ".py",
   "mimetype": "text/x-python",
   "name": "python",
   "nbconvert_exporter": "python",
   "pygments_lexer": "ipython3",
   "version": "3.6.7"
  },
  "toc": {
   "base_numbering": 1,
   "nav_menu": {},
   "number_sections": true,
   "sideBar": true,
   "skip_h1_title": false,
   "title_cell": "Table of Contents",
   "title_sidebar": "Contents",
   "toc_cell": false,
   "toc_position": {},
   "toc_section_display": true,
   "toc_window_display": false
  },
  "varInspector": {
   "cols": {
    "lenName": 16,
    "lenType": 16,
    "lenVar": 40
   },
   "kernels_config": {
    "python": {
     "delete_cmd_postfix": "",
     "delete_cmd_prefix": "del ",
     "library": "var_list.py",
     "varRefreshCmd": "print(var_dic_list())"
    },
    "r": {
     "delete_cmd_postfix": ") ",
     "delete_cmd_prefix": "rm(",
     "library": "var_list.r",
     "varRefreshCmd": "cat(var_dic_list()) "
    }
   },
   "types_to_exclude": [
    "module",
    "function",
    "builtin_function_or_method",
    "instance",
    "_Feature"
   ],
   "window_display": false
  }
 },
 "nbformat": 4,
 "nbformat_minor": 1
}
