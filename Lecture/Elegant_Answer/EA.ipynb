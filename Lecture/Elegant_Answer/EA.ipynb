{
 "cells": [
  {
   "cell_type": "markdown",
   "metadata": {},
   "source": [
    "# 二項係数 $\\binom{2n}{n}$ を $n$ で割った余りについて\n",
    "〜 \"エレガントな解答求む\"より〜"
   ]
  },
  {
   "cell_type": "markdown",
   "metadata": {},
   "source": [
    "**問題:** 二項係数 $\\binom{2n}{n}$ を $n$ で割った余りとして、'よく現れる'数があることを確認せよ。\n",
    "さらに、それらの数がなぜ他の数よりも多く現れるのか、その理由を明らかにせよ。"
   ]
  },
  {
   "cell_type": "markdown",
   "metadata": {},
   "source": [
    "## モジュール"
   ]
  },
  {
   "cell_type": "code",
   "execution_count": 9,
   "metadata": {
    "ExecuteTime": {
     "end_time": "2019-12-17T06:56:02.283851Z",
     "start_time": "2019-12-17T06:56:02.276750Z"
    }
   },
   "outputs": [],
   "source": [
    "import math\n",
    "from decimal import *\n",
    "getcontext().prec = (10**4)*1\n",
    "from fractions import Fraction\n",
    "\n",
    "import matplotlib.pyplot as plt\n",
    "%matplotlib inline\n",
    "\n",
    "from tqdm import tqdm\n",
    "\n",
    "from functools import reduce\n",
    "\n",
    "import pickle"
   ]
  },
  {
   "cell_type": "markdown",
   "metadata": {},
   "source": [
    "## 二項係数"
   ]
  },
  {
   "cell_type": "markdown",
   "metadata": {
    "heading_collapsed": true
   },
   "source": [
    "### 二項係数を返す関数の2種の定義"
   ]
  },
  {
   "cell_type": "code",
   "execution_count": 2,
   "metadata": {
    "ExecuteTime": {
     "end_time": "2019-12-17T06:55:12.619815Z",
     "start_time": "2019-12-17T06:55:12.612699Z"
    },
    "hidden": true
   },
   "outputs": [],
   "source": [
    "def binom(n,k):\n",
    "    return Decimal(math.factorial(n))/Decimal(math.factorial(k)*math.factorial(n-k))\n",
    "\n",
    "def binom01(n,k):\n",
    "    if k==0:\n",
    "        nume, deno = 1, 1\n",
    "    else:\n",
    "        nume = reduce(lambda x,y: x*y, range(n-k+1, n+1))\n",
    "        deno = reduce(lambda x,y: x*y, range(1, k+1))\n",
    "    return Decimal(nume/deno)\n",
    "\n",
    "def binom02(n,k):\n",
    "    rtn = 1\n",
    "    for i in range(k):\n",
    "        rtn = Fraction(rtn.numerator * (n-i), rtn.denominator * (k-i))\n",
    "#         rtn = rtn * Fraction(n-i, k-i)  # <-- だいぶ遅い\n",
    "    if rtn.denominator == 1:\n",
    "        return Decimal(rtn.numerator)\n",
    "    else:\n",
    "        return None"
   ]
  },
  {
   "cell_type": "code",
   "execution_count": 3,
   "metadata": {
    "ExecuteTime": {
     "end_time": "2019-12-17T06:55:12.712826Z",
     "start_time": "2019-12-17T06:55:12.621547Z"
    },
    "hidden": true
   },
   "outputs": [
    {
     "name": "stdout",
     "output_type": "stream",
     "text": [
      "[Decimal('1'), Decimal('20'), Decimal('190'), Decimal('1140'), Decimal('4845'), Decimal('15504'), Decimal('38760'), Decimal('77520'), Decimal('125970'), Decimal('167960'), Decimal('184756'), Decimal('167960'), Decimal('125970'), Decimal('77520'), Decimal('38760'), Decimal('15504'), Decimal('4845'), Decimal('1140'), Decimal('190'), Decimal('20'), Decimal('1')]\n"
     ]
    }
   ],
   "source": [
    "num = 20\n",
    "#print([binom(num, k) for k in range(0,num+1)])\n",
    "print([binom01(num, k) for k in range(0,num+1)])\n",
    "#print([binom02(num, k) for k in range(0,num+1)])"
   ]
  },
  {
   "cell_type": "markdown",
   "metadata": {},
   "source": [
    "### 2種の関数の速さ比べ"
   ]
  },
  {
   "cell_type": "code",
   "execution_count": 4,
   "metadata": {
    "ExecuteTime": {
     "end_time": "2019-12-17T06:55:36.479752Z",
     "start_time": "2019-12-17T06:55:12.715744Z"
    }
   },
   "outputs": [
    {
     "name": "stdout",
     "output_type": "stream",
     "text": [
      "787 µs ± 3.76 µs per loop (mean ± std. dev. of 7 runs, 1000 loops each)\n",
      "1.11 ms ± 3.97 µs per loop (mean ± std. dev. of 7 runs, 1000 loops each)\n",
      "10.2 ms ± 198 µs per loop (mean ± std. dev. of 7 runs, 100 loops each)\n"
     ]
    }
   ],
   "source": [
    "N = 10**2\n",
    "%timeit [binom(2*n, n) for n in range(1,N)]\n",
    "%timeit [binom01(2*n, n) for n in range(1,N)]\n",
    "%timeit [binom02(2*n, n) for n in range(1,N)]"
   ]
  },
  {
   "cell_type": "code",
   "execution_count": 5,
   "metadata": {
    "ExecuteTime": {
     "end_time": "2019-12-17T06:55:36.492297Z",
     "start_time": "2019-12-17T06:55:36.480996Z"
    },
    "scrolled": true
   },
   "outputs": [
    {
     "name": "stderr",
     "output_type": "stream",
     "text": [
      "100%|██████████| 99/99 [00:00<00:00, 66331.64it/s]\n"
     ]
    }
   ],
   "source": [
    "X = [binom01(2*n, n) for n in tqdm(range(1,N))]"
   ]
  },
  {
   "cell_type": "code",
   "execution_count": 6,
   "metadata": {
    "ExecuteTime": {
     "end_time": "2019-12-17T06:55:36.660905Z",
     "start_time": "2019-12-17T06:55:36.494752Z"
    }
   },
   "outputs": [
    {
     "name": "stderr",
     "output_type": "stream",
     "text": [
      "100%|██████████| 99/99 [00:00<00:00, 4132.81it/s]\n"
     ]
    }
   ],
   "source": [
    "Y = [binom02(2*n, n) for n in tqdm(range(1,N))]"
   ]
  },
  {
   "cell_type": "code",
   "execution_count": 7,
   "metadata": {
    "ExecuteTime": {
     "end_time": "2019-12-17T06:55:36.736084Z",
     "start_time": "2019-12-17T06:55:36.664896Z"
    }
   },
   "outputs": [
    {
     "data": {
      "text/plain": [
       "False"
      ]
     },
     "execution_count": 7,
     "metadata": {},
     "output_type": "execute_result"
    }
   ],
   "source": [
    "X==Y"
   ]
  },
  {
   "cell_type": "markdown",
   "metadata": {},
   "source": [
    "## グラフ描画"
   ]
  },
  {
   "cell_type": "markdown",
   "metadata": {},
   "source": [
    "### $n = 1, 2, \\dots, 2000$ において"
   ]
  },
  {
   "cell_type": "code",
   "execution_count": 11,
   "metadata": {
    "ExecuteTime": {
     "end_time": "2019-12-17T06:56:41.486655Z",
     "start_time": "2019-12-17T06:56:27.558407Z"
    }
   },
   "outputs": [],
   "source": [
    "N = (10**3)*2\n",
    "\n",
    "X = range(1,N+1)\n",
    "Y = [binom(2*n,n)%n for n in X]"
   ]
  },
  {
   "cell_type": "code",
   "execution_count": 12,
   "metadata": {
    "ExecuteTime": {
     "end_time": "2019-12-17T06:56:45.922837Z",
     "start_time": "2019-12-17T06:56:45.388073Z"
    },
    "scrolled": false
   },
   "outputs": [
    {
     "data": {
      "image/png": "[encoded data removed]",
      "text/plain": [
       "<Figure size 1152x504 with 2 Axes>"
      ]
     },
     "metadata": {
      "needs_background": "light"
     },
     "output_type": "display_data"
    }
   ],
   "source": [
    "plt.figure(figsize = (16,7))\n",
    "\n",
    "plt.subplot(121)\n",
    "plt.plot(X, Y, 'b.', ms = 1.6)\n",
    "plt.subplot(122)\n",
    "plt.plot(X, Y, 'b.', ms = 1.6)\n",
    "plt.yscale('symlog')\n",
    "\n",
    "plt.show()"
   ]
  },
  {
   "cell_type": "markdown",
   "metadata": {},
   "source": [
    "### `pickle` モジュール (データの永続化) の利用"
   ]
  },
  {
   "cell_type": "markdown",
   "metadata": {
    "heading_collapsed": true
   },
   "source": [
    "#### データをピックル化"
   ]
  },
  {
   "cell_type": "code",
   "execution_count": null,
   "metadata": {
    "ExecuteTime": {
     "end_time": "2019-12-17T06:50:46.445517Z",
     "start_time": "2019-12-17T06:50:20.631Z"
    },
    "code_folding": [],
    "hidden": true
   },
   "outputs": [],
   "source": [
    "import os.path\n",
    "\n",
    "if false:\n",
    "    N = 10**4\n",
    "    getcontext().prec = N\n",
    "    \n",
    "    filename = 'data_'+str(N)+'.pickle'\n",
    "    \n",
    "    if os.path.exists(filename):\n",
    "        print('{} exists'.format(filename))\n",
    "    else:\n",
    "        data = {\n",
    "            'range': range(1,N+1),\n",
    "            'values': [int(binom02(2*n,n)%n) for n in tqdm(range(1,N+1))]\n",
    "            }\n",
    "        with open(filename, 'wb') as f:\n",
    "            # Pickle the 'data' dictionary using the highest protocol available.\n",
    "            pickle.dump(data, f, pickle.HIGHEST_PROTOCOL)"
   ]
  },
  {
   "cell_type": "markdown",
   "metadata": {
    "heading_collapsed": true
   },
   "source": [
    "#### ピックル化されたデータを読み込み描画"
   ]
  },
  {
   "cell_type": "code",
   "execution_count": null,
   "metadata": {
    "ExecuteTime": {
     "end_time": "2019-12-17T06:50:46.446268Z",
     "start_time": "2019-12-17T06:50:20.634Z"
    },
    "hidden": true
   },
   "outputs": [],
   "source": [
    "# pickle 化されたデータを読み込みます。\n",
    "\n",
    "filename = 'data_10000.pickle'\n",
    "with open(filename, 'rb') as f:\n",
    "    # The protocol version used is detected automatically, so we do not have to specify it.\n",
    "    data = pickle.load(f)"
   ]
  },
  {
   "cell_type": "markdown",
   "metadata": {},
   "source": [
    "## 余りとして現れる数値の頻度"
   ]
  },
  {
   "cell_type": "code",
   "execution_count": 13,
   "metadata": {
    "ExecuteTime": {
     "end_time": "2019-12-17T06:57:03.944990Z",
     "start_time": "2019-12-17T06:57:03.821097Z"
    }
   },
   "outputs": [],
   "source": [
    "N = 5000 # 2000 # 10000 # 3000\n",
    "\n",
    "with open('data_10000.pickle', 'rb') as f:\n",
    "    data = pickle.load(f)"
   ]
  },
  {
   "cell_type": "code",
   "execution_count": 14,
   "metadata": {
    "ExecuteTime": {
     "end_time": "2019-12-17T06:57:06.305040Z",
     "start_time": "2019-12-17T06:57:05.068341Z"
    }
   },
   "outputs": [],
   "source": [
    "rmd = range(10**4)\n",
    "cnt = [data['values'].count(n) for n in rmd]"
   ]
  },
  {
   "cell_type": "code",
   "execution_count": 15,
   "metadata": {
    "ExecuteTime": {
     "end_time": "2019-12-17T06:57:09.692217Z",
     "start_time": "2019-12-17T06:57:09.052986Z"
    }
   },
   "outputs": [
    {
     "data": {
      "image/png": "[encoded data removed]",
      "text/plain": [
       "<Figure size 1152x504 with 2 Axes>"
      ]
     },
     "metadata": {
      "needs_background": "light"
     },
     "output_type": "display_data"
    }
   ],
   "source": [
    "plt.figure(figsize = (16,7))\n",
    "\n",
    "plt.subplot(121)\n",
    "plt.plot(rmd, data['values'], 'b.', ms = 0.5)\n",
    "plt.title('f(n) = 2n_C_n (mod n)')\n",
    "plt.subplot(122)\n",
    "# plt.plot(X, cnt, lw = 0.5)\n",
    "plt.plot(rmd, cnt, 'b.')\n",
    "plt.title('histgram of remainders')\n",
    "plt.xscale('log')\n",
    "# plt.yscale('log')\n",
    "\n",
    "plt.show()"
   ]
  },
  {
   "cell_type": "code",
   "execution_count": 23,
   "metadata": {
    "ExecuteTime": {
     "end_time": "2019-12-17T07:01:54.540808Z",
     "start_time": "2019-12-17T07:01:54.261644Z"
    },
    "scrolled": true
   },
   "outputs": [
    {
     "name": "stdout",
     "output_type": "stream",
     "text": [
      "2   : 320 times\n",
      "0   : 211 times\n",
      "6   : 185 times\n",
      "924 : 34  times\n",
      "20  : 18  times\n",
      "504 : 16  times\n",
      "252 : 11  times\n",
      "36  : 10  times\n",
      "72  : 10  times\n",
      "40  : 9   times\n"
     ]
    }
   ],
   "source": [
    "vlist = {num: data['values'][:2000].count(num) for num in rmd}.items()\n",
    "ranking = sorted(vlist, key=lambda vlist: vlist[1], reverse=True)[0:10]\n",
    "for pair in ranking:\n",
    "    print(\"{:<4}: {:<4}times\".format(pair[0], pair[1]))"
   ]
  },
  {
   "cell_type": "code",
   "execution_count": 24,
   "metadata": {
    "ExecuteTime": {
     "end_time": "2019-12-17T07:02:23.801968Z",
     "start_time": "2019-12-17T07:02:23.797591Z"
    },
    "scrolled": true
   },
   "outputs": [
    {
     "name": "stdout",
     "output_type": "stream",
     "text": [
      "[3, 4, 5, 7, 9, 11, 13, 17, 19, 23, 25, 29, 31, 37, 41, 43, 47, 49, 53, 59, 61, 67, 71, 73, 79, 83, 89, 97, 101]\n"
     ]
    }
   ],
   "source": [
    "print([k + 1 for k in range(1,101) if data['values'][k] == 2])"
   ]
  },
  {
   "cell_type": "code",
   "execution_count": 25,
   "metadata": {
    "ExecuteTime": {
     "end_time": "2019-12-17T07:02:24.252306Z",
     "start_time": "2019-12-17T07:02:24.246480Z"
    },
    "scrolled": true
   },
   "outputs": [
    {
     "name": "stdout",
     "output_type": "stream",
     "text": [
      "[2, 6, 15, 20, 28, 42, 45, 66, 77, 88, 91]\n"
     ]
    }
   ],
   "source": [
    "print([k + 1 for k in range(1,101) if data['values'][k] == 0])"
   ]
  },
  {
   "cell_type": "code",
   "execution_count": 26,
   "metadata": {
    "ExecuteTime": {
     "end_time": "2019-12-17T07:02:24.708345Z",
     "start_time": "2019-12-17T07:02:24.700887Z"
    },
    "scrolled": true
   },
   "outputs": [
    {
     "name": "stdout",
     "output_type": "stream",
     "text": [
      "[942, 978, 1014, 1038, 1074, 1086, 1146, 1158, 1182, 1194, 1266, 1338, 1362, 1374, 1398, 1434, 1446, 1458, 1506, 1542, 1578, 1614, 1626, 1659, 1662, 1686, 1698, 1734, 1758, 1842, 1866, 1878, 1902, 1986]\n"
     ]
    }
   ],
   "source": [
    "print([k + 1 for k in range(1,2000) if data['values'][k] == 924])"
   ]
  },
  {
   "cell_type": "markdown",
   "metadata": {
    "ExecuteTime": {
     "end_time": "2019-12-17T07:03:09.686638Z",
     "start_time": "2019-12-17T07:03:09.681758Z"
    }
   },
   "source": [
    "## 証明"
   ]
  },
  {
   "cell_type": "markdown",
   "metadata": {},
   "source": [
    "$$\n",
    "\\binom{2n}{n} \n",
    "= \\frac{2n!}{n!n!} \n",
    "= \\frac{2n(2n-1)\\dots(n+2)(n+1)}{n(n-1)\\dots21}\n",
    "= \\frac{2n}{n}\\frac{2n-1}{n-1}\\dots\\frac{n+2}{2}\\frac{n+1}{1}\n",
    "$$\n",
    "$$\n",
    "= \\prod_{k=0}^{n-1} \\frac{2n-k}{n-k}\n",
    "= \\prod_{k=0}^{n-1} \\left(\\frac{n-k+n}{n-k}\\right)\n",
    "= \\prod_{k=0}^{n-1} \\left(1+\\frac{n}{n-k}\\right)\n",
    "$$"
   ]
  },
  {
   "cell_type": "markdown",
   "metadata": {},
   "source": [
    "$$\n",
    "\\binom{2n}{n} \n",
    "= \\frac{2n!}{n!n!} \n",
    "= \\frac{2n(2n-1)\\dots21}{n(n-1)\\dots21n(n-1)\\dots21}\n",
    "= \\frac{2n(2n-2)\\dots42}{n(n-1)\\dots21}\\frac{(2n-1)(2n-3)\\dots31}{n(n-1)\\dots21}\n",
    "$$"
   ]
  },
  {
   "cell_type": "code",
   "execution_count": null,
   "metadata": {},
   "outputs": [],
   "source": []
  }
 ],
 "metadata": {
  "kernelspec": {
   "display_name": "Python 3",
   "language": "python",
   "name": "python3"
  },
  "language_info": {
   "codemirror_mode": {
    "name": "ipython",
    "version": 3
   },
   "file_extension": ".py",
   "mimetype": "text/x-python",
   "name": "python",
   "nbconvert_exporter": "python",
   "pygments_lexer": "ipython3",
   "version": "3.7.5"
  },
  "toc": {
   "base_numbering": 1,
   "nav_menu": {},
   "number_sections": true,
   "sideBar": true,
   "skip_h1_title": true,
   "title_cell": "Table of Contents",
   "title_sidebar": "Contents",
   "toc_cell": false,
   "toc_position": {},
   "toc_section_display": true,
   "toc_window_display": false
  },
  "varInspector": {
   "cols": {
    "lenName": 16,
    "lenType": 16,
    "lenVar": 40
   },
   "kernels_config": {
    "python": {
     "delete_cmd_postfix": "",
     "delete_cmd_prefix": "del ",
     "library": "var_list.py",
     "varRefreshCmd": "print(var_dic_list())"
    },
    "r": {
     "delete_cmd_postfix": ") ",
     "delete_cmd_prefix": "rm(",
     "library": "var_list.r",
     "varRefreshCmd": "cat(var_dic_list()) "
    }
   },
   "types_to_exclude": [
    "module",
    "function",
    "builtin_function_or_method",
    "instance",
    "_Feature"
   ],
   "window_display": false
  }
 },
 "nbformat": 4,
 "nbformat_minor": 2
}
