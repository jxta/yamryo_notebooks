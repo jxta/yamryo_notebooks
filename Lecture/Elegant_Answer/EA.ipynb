{
 "cells": [
  {
   "cell_type": "markdown",
   "metadata": {},
   "source": [
    "# 二項係数 $\\binom{2n}{n}$ を $n$ で割った余りについて 〜 \"エレガントな解答求む\"より〜"
   ]
  },
  {
   "cell_type": "markdown",
   "metadata": {},
   "source": [
    "## モジュール"
   ]
  },
  {
   "cell_type": "code",
   "execution_count": 1,
   "metadata": {
    "ExecuteTime": {
     "end_time": "2019-04-02T02:31:24.254817Z",
     "start_time": "2019-04-02T02:31:24.009296Z"
    }
   },
   "outputs": [],
   "source": [
    "import math\n",
    "from decimal import *\n",
    "getcontext().prec = (10**3)*5\n",
    "from fractions import Fraction\n",
    "\n",
    "import matplotlib.pyplot as plt\n",
    "%matplotlib inline\n",
    "\n",
    "from tqdm import tqdm\n",
    "\n",
    "from functools import reduce"
   ]
  },
  {
   "cell_type": "markdown",
   "metadata": {},
   "source": [
    "## 二項係数"
   ]
  },
  {
   "cell_type": "markdown",
   "metadata": {},
   "source": [
    "### 二項係数を返す関数の2種の定義"
   ]
  },
  {
   "cell_type": "code",
   "execution_count": 20,
   "metadata": {
    "ExecuteTime": {
     "end_time": "2019-04-02T05:49:17.759860Z",
     "start_time": "2019-04-02T05:49:17.738616Z"
    }
   },
   "outputs": [],
   "source": [
    "def binom(n,k):\n",
    "    return Decimal(math.factorial(n))/Decimal(math.factorial(k)*math.factorial(n-k))\n",
    "\n",
    "def binom01(n,k):\n",
    "    if k==0:\n",
    "        nume, deno = 1, 1\n",
    "    else:\n",
    "        nume = reduce(lambda x,y: x*y, range(n-k+1, n+1))\n",
    "        deno = reduce(lambda x,y: x*y, range(1, k+1))\n",
    "    return Decimal(nume/deno)\n",
    "\n",
    "def binom02(n,k):\n",
    "    rtn = 1\n",
    "    for i in range(k):\n",
    "        rtn = Fraction(rtn.numerator * (n-i), rtn.denominator * (k-i))\n",
    "#         rtn = rtn * Fraction(n-i, k-i)  # <-- だいぶ遅い\n",
    "    if rtn.denominator == 1:\n",
    "        return Decimal(rtn.numerator)\n",
    "    else:\n",
    "        return None"
   ]
  },
  {
   "cell_type": "code",
   "execution_count": 22,
   "metadata": {
    "ExecuteTime": {
     "end_time": "2019-04-02T05:49:25.298090Z",
     "start_time": "2019-04-02T05:49:25.290215Z"
    }
   },
   "outputs": [
    {
     "name": "stdout",
     "output_type": "stream",
     "text": [
      "[Decimal('1'), Decimal('20'), Decimal('190'), Decimal('1140'), Decimal('4845'), Decimal('15504'), Decimal('38760'), Decimal('77520'), Decimal('125970'), Decimal('167960'), Decimal('184756'), Decimal('167960'), Decimal('125970'), Decimal('77520'), Decimal('38760'), Decimal('15504'), Decimal('4845'), Decimal('1140'), Decimal('190'), Decimal('20'), Decimal('1')]\n"
     ]
    }
   ],
   "source": [
    "num = 20\n",
    "#print([binom(num, k) for k in range(0,num+1)])\n",
    "print([binom01(num, k) for k in range(0,num+1)])\n",
    "#print([binom02(num, k) for k in range(0,num+1)])"
   ]
  },
  {
   "cell_type": "markdown",
   "metadata": {},
   "source": [
    "### 2種の関数の速さ比べ"
   ]
  },
  {
   "cell_type": "code",
   "execution_count": 23,
   "metadata": {
    "ExecuteTime": {
     "end_time": "2019-04-02T05:49:57.825871Z",
     "start_time": "2019-04-02T05:49:47.009787Z"
    }
   },
   "outputs": [
    {
     "name": "stdout",
     "output_type": "stream",
     "text": [
      "100 loops, best of 3: 2.77 ms per loop\n",
      "1000 loops, best of 3: 1.22 ms per loop\n",
      "100 loops, best of 3: 10.9 ms per loop\n"
     ]
    }
   ],
   "source": [
    "N = 10**2\n",
    "%timeit [binom(2*n, n) for n in range(1,N)]\n",
    "%timeit [binom01(2*n, n) for n in range(1,N)]\n",
    "%timeit [binom02(2*n, n) for n in range(1,N)]"
   ]
  },
  {
   "cell_type": "code",
   "execution_count": null,
   "metadata": {
    "ExecuteTime": {
     "end_time": "2018-06-05T08:58:33.227909Z",
     "start_time": "2018-06-05T08:58:25.322373Z"
    },
    "scrolled": true
   },
   "outputs": [],
   "source": [
    "X = [binom01(2*n, n) for n in tqdm(range(1,N))]"
   ]
  },
  {
   "cell_type": "code",
   "execution_count": null,
   "metadata": {
    "ExecuteTime": {
     "end_time": "2018-06-05T08:58:17.884083Z",
     "start_time": "2018-06-05T08:58:00.772919Z"
    }
   },
   "outputs": [],
   "source": [
    "Y = [binom02(2*n, n) for n in tqdm(range(1,N))]"
   ]
  },
  {
   "cell_type": "code",
   "execution_count": null,
   "metadata": {
    "ExecuteTime": {
     "end_time": "2018-06-05T08:58:37.341562Z",
     "start_time": "2018-06-05T08:58:37.333564Z"
    }
   },
   "outputs": [],
   "source": [
    "X==Y"
   ]
  },
  {
   "cell_type": "markdown",
   "metadata": {},
   "source": [
    "## グラフ描画"
   ]
  },
  {
   "cell_type": "markdown",
   "metadata": {},
   "source": [
    "### $n = 1, 2, \\dots, 2000$ において"
   ]
  },
  {
   "cell_type": "code",
   "execution_count": null,
   "metadata": {
    "ExecuteTime": {
     "end_time": "2018-06-05T09:03:52.483147Z",
     "start_time": "2018-06-05T09:03:43.762148Z"
    }
   },
   "outputs": [],
   "source": [
    "N = (10**3)*2\n",
    "\n",
    "X = range(1,N+1)\n",
    "Y = [binom01(2*n,n)%n for n in tqdm(X)]"
   ]
  },
  {
   "cell_type": "code",
   "execution_count": null,
   "metadata": {
    "ExecuteTime": {
     "end_time": "2018-06-05T09:10:41.770317Z",
     "start_time": "2018-06-05T09:10:41.015012Z"
    },
    "scrolled": false
   },
   "outputs": [],
   "source": [
    "plt.figure(figsize = (16,7))\n",
    "\n",
    "plt.subplot(121)\n",
    "plt.plot(X, Y, 'b.', ms = 1.6)\n",
    "plt.subplot(122)\n",
    "plt.plot(X, Y, 'b.', ms = 1.6)\n",
    "plt.yscale('symlog')\n",
    "\n",
    "plt.show()"
   ]
  },
  {
   "cell_type": "markdown",
   "metadata": {},
   "source": [
    "### `pickle` モジュール (データの永続化) の利用"
   ]
  },
  {
   "cell_type": "markdown",
   "metadata": {},
   "source": [
    "#### pickle module をインポート"
   ]
  },
  {
   "cell_type": "code",
   "execution_count": null,
   "metadata": {
    "ExecuteTime": {
     "end_time": "2018-06-22T00:31:26.962353Z",
     "start_time": "2018-06-22T00:31:26.959318Z"
    }
   },
   "outputs": [],
   "source": [
    "import pickle"
   ]
  },
  {
   "cell_type": "markdown",
   "metadata": {},
   "source": [
    "#### データをピックル化"
   ]
  },
  {
   "cell_type": "code",
   "execution_count": null,
   "metadata": {
    "ExecuteTime": {
     "end_time": "2018-06-05T09:47:25.409274Z",
     "start_time": "2018-06-05T09:47:25.388749Z"
    },
    "code_folding": []
   },
   "outputs": [],
   "source": [
    "import os.path\n",
    "\n",
    "N = 10**4\n",
    "getcontext().prec = N\n",
    "\n",
    "filename = 'data_'+str(N)+'.pickle'\n",
    "\n",
    "if os.path.exists(filename):\n",
    "    print('{} exists'.format(filename))\n",
    "else:\n",
    "    data = {\n",
    "        'range': range(1,N+1),\n",
    "        'values': [int(binom02(2*n,n)%n) for n in tqdm(range(1,N+1))]\n",
    "        }\n",
    "    with open(filename, 'wb') as f:\n",
    "        # Pickle the 'data' dictionary using the highest protocol available.\n",
    "        pickle.dump(data, f, pickle.HIGHEST_PROTOCOL)"
   ]
  },
  {
   "cell_type": "markdown",
   "metadata": {},
   "source": [
    "#### ピックル化されたデータを読み込み描画"
   ]
  },
  {
   "cell_type": "code",
   "execution_count": null,
   "metadata": {
    "ExecuteTime": {
     "end_time": "2018-06-22T00:31:32.617332Z",
     "start_time": "2018-06-22T00:31:32.608046Z"
    }
   },
   "outputs": [],
   "source": [
    "# pickle 化されたデータを読み込みます。\n",
    "\n",
    "filename = 'data_10000.pickle'\n",
    "with open(filename, 'rb') as f:\n",
    "    # The protocol version used is detected automatically, so we do not have to specify it.\n",
    "    data = pickle.load(f)"
   ]
  },
  {
   "cell_type": "code",
   "execution_count": null,
   "metadata": {
    "ExecuteTime": {
     "end_time": "2018-06-05T09:47:34.454774Z",
     "start_time": "2018-06-05T09:47:33.319021Z"
    }
   },
   "outputs": [],
   "source": [
    "N = 10000 # 5000 # 3000 # 1000 #\n",
    "\n",
    "X = range(1, N+1)\n",
    "Y = data['values'][:N]\n",
    "\n",
    "plt.figure(figsize = (16, 7))\n",
    "\n",
    "plt.subplot(121)\n",
    "plt.plot(X,Y, 'b.', ms = 0.5)\n",
    "plt.subplot(122)\n",
    "plt.plot(X,Y, 'b.', ms = 0.5)\n",
    "plt.yscale('symlog')\n",
    "    \n",
    "plt.show()"
   ]
  },
  {
   "cell_type": "markdown",
   "metadata": {},
   "source": [
    "## 余りとして現れる数値の頻度"
   ]
  },
  {
   "cell_type": "code",
   "execution_count": null,
   "metadata": {
    "ExecuteTime": {
     "end_time": "2018-06-05T09:48:04.820019Z",
     "start_time": "2018-06-05T09:48:04.811180Z"
    }
   },
   "outputs": [],
   "source": [
    "N = 5000 # 2000 # 10000 # 3000\n",
    "\n",
    "with open('data_10000.pickle', 'rb') as f:\n",
    "    # The protocol version used is detected automatically, so we do not have to specify it.\n",
    "    data = pickle.load(f)"
   ]
  },
  {
   "cell_type": "code",
   "execution_count": null,
   "metadata": {
    "ExecuteTime": {
     "end_time": "2018-06-22T00:31:44.711009Z",
     "start_time": "2018-06-22T00:31:43.040556Z"
    }
   },
   "outputs": [],
   "source": [
    "X = data['range']\n",
    "cnt = [data['values'].count(n) for n in X]"
   ]
  },
  {
   "cell_type": "code",
   "execution_count": null,
   "metadata": {
    "ExecuteTime": {
     "end_time": "2018-06-22T00:31:50.279047Z",
     "start_time": "2018-06-22T00:31:49.237618Z"
    }
   },
   "outputs": [],
   "source": [
    "plt.figure(figsize = (16,7))\n",
    "\n",
    "plt.subplot(121)\n",
    "plt.plot(X, data['values'], 'b.', ms = 0.5)\n",
    "plt.title('f(n) = 2n_C_n (mod n)')\n",
    "plt.subplot(122)\n",
    "# plt.plot(X, cnt, lw = 0.5)\n",
    "plt.plot(X, cnt, 'b.')\n",
    "plt.title('histgram of remainders')\n",
    "plt.xscale('log')\n",
    "# plt.yscale('log')\n",
    "\n",
    "plt.show()"
   ]
  },
  {
   "cell_type": "code",
   "execution_count": null,
   "metadata": {
    "ExecuteTime": {
     "end_time": "2018-06-22T00:33:29.478393Z",
     "start_time": "2018-06-22T00:33:29.026511Z"
    }
   },
   "outputs": [],
   "source": [
    "vlist = {num: data['values'][:2000].count(num) for num in X}.items()\n",
    "sorted(vlist, key=lambda vlist: vlist[1], reverse=True)[0:10]"
   ]
  },
  {
   "cell_type": "code",
   "execution_count": null,
   "metadata": {
    "ExecuteTime": {
     "end_time": "2018-06-22T00:50:27.101188Z",
     "start_time": "2018-06-22T00:50:27.094136Z"
    }
   },
   "outputs": [],
   "source": [
    "data['values'][:2001].count(0)"
   ]
  },
  {
   "cell_type": "code",
   "execution_count": null,
   "metadata": {
    "ExecuteTime": {
     "end_time": "2018-06-22T01:06:29.472740Z",
     "start_time": "2018-06-22T01:06:29.466293Z"
    },
    "scrolled": true
   },
   "outputs": [],
   "source": [
    "print([k + 1 for k in range(1,101) if data['values'][k] == 0])"
   ]
  },
  {
   "cell_type": "code",
   "execution_count": null,
   "metadata": {
    "ExecuteTime": {
     "end_time": "2018-06-22T00:56:21.431697Z",
     "start_time": "2018-06-22T00:56:13.612502Z"
    }
   },
   "outputs": [],
   "source": [
    "Z = [binom01(2*n,n)%n for n in tqdm(range(1,2000))]"
   ]
  },
  {
   "cell_type": "code",
   "execution_count": null,
   "metadata": {
    "ExecuteTime": {
     "end_time": "2018-06-22T00:57:10.831693Z",
     "start_time": "2018-06-22T00:57:10.824329Z"
    }
   },
   "outputs": [],
   "source": [
    "[int(d) for d in Z].count(0)"
   ]
  }
 ],
 "metadata": {
  "kernelspec": {
   "display_name": "Python 3",
   "language": "python",
   "name": "python3"
  },
  "language_info": {
   "codemirror_mode": {
    "name": "ipython",
    "version": 3
   },
   "file_extension": ".py",
   "mimetype": "text/x-python",
   "name": "python",
   "nbconvert_exporter": "python",
   "pygments_lexer": "ipython3",
   "version": "3.6.7"
  },
  "toc": {
   "nav_menu": {},
   "number_sections": true,
   "sideBar": true,
   "skip_h1_title": true,
   "title_cell": "Table of Contents",
   "title_sidebar": "Contents",
   "toc_cell": false,
   "toc_position": {},
   "toc_section_display": true,
   "toc_window_display": false
  },
  "varInspector": {
   "cols": {
    "lenName": 16,
    "lenType": 16,
    "lenVar": 40
   },
   "kernels_config": {
    "python": {
     "delete_cmd_postfix": "",
     "delete_cmd_prefix": "del ",
     "library": "var_list.py",
     "varRefreshCmd": "print(var_dic_list())"
    },
    "r": {
     "delete_cmd_postfix": ") ",
     "delete_cmd_prefix": "rm(",
     "library": "var_list.r",
     "varRefreshCmd": "cat(var_dic_list()) "
    }
   },
   "types_to_exclude": [
    "module",
    "function",
    "builtin_function_or_method",
    "instance",
    "_Feature"
   ],
   "window_display": false
  }
 },
 "nbformat": 4,
 "nbformat_minor": 2
}
