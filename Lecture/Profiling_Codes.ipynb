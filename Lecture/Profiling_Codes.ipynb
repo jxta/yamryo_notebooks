{
 "cells": [
  {
   "cell_type": "markdown",
   "metadata": {},
   "source": [
    "# コードのプロファイリングと高速化"
   ]
  },
  {
   "cell_type": "code",
   "execution_count": 1,
   "metadata": {
    "ExecuteTime": {
     "end_time": "2019-04-03T04:48:21.811645Z",
     "start_time": "2019-04-03T04:48:21.045150Z"
    }
   },
   "outputs": [
    {
     "data": {
      "text/plain": [
       "Context(prec=28, rounding=ROUND_HALF_EVEN, Emin=-999999, Emax=999999, capitals=1, clamp=0, flags=[], traps=[InvalidOperation, DivisionByZero, Overflow])"
      ]
     },
     "execution_count": 1,
     "metadata": {},
     "output_type": "execute_result"
    }
   ],
   "source": [
    "import math\n",
    "import matplotlib.pyplot as plt\n",
    "%matplotlib inline\n",
    "from sympy import *\n",
    "from tqdm import tqdm_notebook as tqdm\n",
    "from decimal import *\n",
    "getcontext()"
   ]
  },
  {
   "cell_type": "markdown",
   "metadata": {},
   "source": [
    "# 因数検索関数の高速化"
   ]
  },
  {
   "cell_type": "code",
   "execution_count": 2,
   "metadata": {
    "ExecuteTime": {
     "end_time": "2019-04-03T04:48:23.653163Z",
     "start_time": "2019-04-03T04:48:23.621942Z"
    }
   },
   "outputs": [],
   "source": [
    "def find_factor_01(num):\n",
    "    factors = []\n",
    "    mx = int(math.sqrt(num))    \n",
    "    for k in range(2, mx+1):\n",
    "        if num%k==0: factors.append(k)\n",
    "    return factors\n",
    "            \n",
    "def find_factor_02(num):\n",
    "    factors = []\n",
    "    mx = int(math.sqrt(num))\n",
    "    composites = []\n",
    "    for k in range(2, mx+1):\n",
    "        if k not in composites:\n",
    "            if num%k==0: factors.append(k)\n",
    "            else: composites.extend([k*i for i in range(2, int(mx/k)+1)])\n",
    "    return factors\n",
    "                \n",
    "def find_factor_03(num):\n",
    "    factors = []\n",
    "    nlist = list(range(2, int(math.sqrt(num))+1))\n",
    "    while nlist:\n",
    "        mm = nlist.pop(0)\n",
    "        res = num%mm\n",
    "        if res == 0:\n",
    "            factors.append(mm)\n",
    "            break\n",
    "        else:\n",
    "            nlist = [k for k in nlist if k%mm > 0]\n",
    "    return factors"
   ]
  },
  {
   "cell_type": "markdown",
   "metadata": {
    "ExecuteTime": {
     "end_time": "2019-04-03T03:21:46.733864Z",
     "start_time": "2019-04-03T03:21:46.727604Z"
    }
   },
   "source": [
    "再帰的に素因数分解する。"
   ]
  },
  {
   "cell_type": "code",
   "execution_count": 3,
   "metadata": {
    "ExecuteTime": {
     "end_time": "2019-04-03T04:48:26.186614Z",
     "start_time": "2019-04-03T04:48:26.173656Z"
    }
   },
   "outputs": [],
   "source": [
    "def find_a_factor(num):\n",
    "    num = abs(int(num))\n",
    "    for n in range(2,int(math.sqrt(num))+1):\n",
    "        if num%n==0: return n; break\n",
    "    else: return num\n",
    "        \n",
    "def find_factor_04(num, facs_list=None):\n",
    "    if facs_list is None: facs_list = []\n",
    "    facs_list.append(find_a_factor(num))\n",
    "    if facs_list[-1]!=num:\n",
    "        facs_list=find_factor_04(int(num/facs_list[-1]), facs_list)\n",
    "    return facs_list"
   ]
  },
  {
   "cell_type": "code",
   "execution_count": null,
   "metadata": {
    "ExecuteTime": {
     "start_time": "2019-04-03T04:47:22.985Z"
    }
   },
   "outputs": [],
   "source": [
    "find_factor_02(2**47-1)"
   ]
  },
  {
   "cell_type": "markdown",
   "metadata": {},
   "source": [
    "# 所要時間計測"
   ]
  },
  {
   "cell_type": "code",
   "execution_count": 24,
   "metadata": {
    "ExecuteTime": {
     "end_time": "2019-04-03T04:46:24.254358Z",
     "start_time": "2019-04-03T04:43:57.863892Z"
    }
   },
   "outputs": [
    {
     "name": "stdout",
     "output_type": "stream",
     "text": [
      "1 loop, best of 3: 931 ms per loop\n",
      "1 loop, best of 3: 33.3 s per loop\n",
      "1000 loops, best of 3: 739 µs per loop\n"
     ]
    }
   ],
   "source": [
    "num = 2**47-1\n",
    "%timeit find_factor_01(num)\n",
    "#%timeit find_factor_02(num)\n",
    "%timeit find_factor_03(num)\n",
    "%timeit find_factor_04(num)"
   ]
  },
  {
   "cell_type": "markdown",
   "metadata": {},
   "source": [
    "# プロファイリング"
   ]
  },
  {
   "cell_type": "code",
   "execution_count": 4,
   "metadata": {
    "ExecuteTime": {
     "end_time": "2019-04-03T04:48:33.035199Z",
     "start_time": "2019-04-03T04:48:33.022530Z"
    }
   },
   "outputs": [],
   "source": [
    "%load_ext line_profiler"
   ]
  },
  {
   "cell_type": "code",
   "execution_count": 39,
   "metadata": {
    "ExecuteTime": {
     "end_time": "2019-04-03T04:55:14.268644Z",
     "start_time": "2019-04-03T04:55:14.254508Z"
    }
   },
   "outputs": [
    {
     "data": {
      "text/plain": [
       "([47, 178481], True)"
      ]
     },
     "execution_count": 39,
     "metadata": {},
     "output_type": "execute_result"
    }
   ],
   "source": [
    "num = 2**23-1\n",
    "#%lprun -f find_factor_01 find_factor_01(num)\n",
    "#%lprun -f find_factor_02 find_factor_02(num)\n",
    "#%lprun -f find_factor_03 find_factor_03(num)\n",
    "%lprun -f find_factor_04 find_factor_04(num)\n",
    "facs = find_factor_04(num)\n",
    "facs, (num/prod(facs) == 1)"
   ]
  },
  {
   "cell_type": "markdown",
   "metadata": {},
   "source": [
    "### find_factor_01 のプロファイリング結果\n",
    "```\n",
    "Total time: 0.062922 s\n",
    "File: <ipython-input-3-799ddd921f51>\n",
    "Function: find_factor_01 at line 1\n",
    "\n",
    "Line #      Hits         Time  Per Hit   % Time  Line Contents\n",
    "==============================================================\n",
    "     1                                           def find_factor_01(num):\n",
    "     2         1         12.0     12.0      0.0      mx = int(math.sqrt(num))    \n",
    "     3     46340      27042.0      0.6     43.0      for k in range(2, mx+1):\n",
    "     4     46339      35868.0      0.8     57.0          if num%k==0: print(k)\n",
    "```"
   ]
  },
  {
   "cell_type": "markdown",
   "metadata": {},
   "source": [
    "### find_factor_02 のプロファイリング結果\n",
    "```\n",
    "Total time: 16.8452 s\n",
    "File: <ipython-input-6-02803966a958>\n",
    "Function: find_factor_02 at line 8\n",
    "\n",
    "Line #      Hits         Time  Per Hit   % Time  Line Contents\n",
    "==============================================================\n",
    "     8                                           def find_factor_02(num):\n",
    "     9         1          8.0      8.0      0.0      mx = int(math.sqrt(num))\n",
    "    10         1          2.0      2.0      0.0      composites = []\n",
    "    11     46340      38539.0      0.8      0.2      for k in range(2, mx+1):\n",
    "    12     46339   16744590.0    361.3     99.4          if k not in composites:\n",
    "    13      4792       8903.0      1.9      0.1              if num%k==0: print(k)\n",
    "    14      4792      53194.0     11.1      0.3              else: composites.extend([k*i for i in range(2, int(mx/k)+1)])\n",
    "```"
   ]
  },
  {
   "cell_type": "markdown",
   "metadata": {},
   "source": [
    "### find_factor_03 のプロファイリング結果\n",
    "```\n",
    "Total time: 2.02016 s\n",
    "File: <ipython-input-6-02803966a958>\n",
    "Function: find_factor_03 at line 16\n",
    "\n",
    "Line #      Hits         Time  Per Hit   % Time  Line Contents\n",
    "==============================================================\n",
    "    16                                           def find_factor_03(num):\n",
    "    17         1       1999.0   1999.0      0.1      nlist = list(range(2, int(math.sqrt(num))+1))\n",
    "    18      4793       4116.0      0.9      0.2      while nlist:\n",
    "    19      4792       9775.0      2.0      0.5          mm = nlist.pop(0)\n",
    "    20      4792       3365.0      0.7      0.2          res = num%mm\n",
    "    21      4792       2979.0      0.6      0.1          if res == 0:\n",
    "    22                                                       print(mm)\n",
    "    23                                                       break\n",
    "    24                                                   else:\n",
    "    25      4792    1997931.0    416.9     98.9              nlist = [k for k in nlist if k%mm > 0]\n",
    "```"
   ]
  },
  {
   "cell_type": "markdown",
   "metadata": {},
   "source": [
    "### find_factor_04 のプロファイリング結果\n",
    "```\n",
    "Total time: 0.028709 s\n",
    "File: <ipython-input-3-88bd8f16dde4>\n",
    "Function: find_factor_04 at line 7\n",
    "\n",
    "Line #      Hits         Time  Per Hit   % Time  Line Contents\n",
    "==============================================================\n",
    "     7                                           def find_factor_04(num, facs_list=None):\n",
    "     8         1          3.0      3.0      0.0      if facs_list is None: facs_list = []\n",
    "     9         1      28702.0  28702.0    100.0      facs_list.append(find_a_factor(num))\n",
    "    10         1          3.0      3.0      0.0      if facs_list[-1]!=num:\n",
    "    11                                                   facs_list=find_factor_04(int(num/facs_list[-1]), facs_list)\n",
    "    12         1          1.0      1.0      0.0      return facs_list\n",
    "```"
   ]
  },
  {
   "cell_type": "code",
   "execution_count": null,
   "metadata": {},
   "outputs": [],
   "source": []
  }
 ],
 "metadata": {
  "kernelspec": {
   "display_name": "Python 3",
   "language": "python",
   "name": "python3"
  },
  "language_info": {
   "codemirror_mode": {
    "name": "ipython",
    "version": 3
   },
   "file_extension": ".py",
   "mimetype": "text/x-python",
   "name": "python",
   "nbconvert_exporter": "python",
   "pygments_lexer": "ipython3",
   "version": "3.6.7"
  },
  "toc": {
   "base_numbering": 1,
   "nav_menu": {},
   "number_sections": true,
   "sideBar": true,
   "skip_h1_title": false,
   "title_cell": "Table of Contents",
   "title_sidebar": "Contents",
   "toc_cell": false,
   "toc_position": {},
   "toc_section_display": true,
   "toc_window_display": false
  },
  "varInspector": {
   "cols": {
    "lenName": 16,
    "lenType": 16,
    "lenVar": 40
   },
   "kernels_config": {
    "python": {
     "delete_cmd_postfix": "",
     "delete_cmd_prefix": "del ",
     "library": "var_list.py",
     "varRefreshCmd": "print(var_dic_list())"
    },
    "r": {
     "delete_cmd_postfix": ") ",
     "delete_cmd_prefix": "rm(",
     "library": "var_list.r",
     "varRefreshCmd": "cat(var_dic_list()) "
    }
   },
   "types_to_exclude": [
    "module",
    "function",
    "builtin_function_or_method",
    "instance",
    "_Feature"
   ],
   "window_display": false
  }
 },
 "nbformat": 4,
 "nbformat_minor": 1
}
