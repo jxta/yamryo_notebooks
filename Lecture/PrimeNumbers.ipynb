{
 "cells": [
  {
   "cell_type": "markdown",
   "metadata": {},
   "source": [
    "# 素数判定あれこれ"
   ]
  },
  {
   "cell_type": "code",
   "execution_count": 1,
   "metadata": {
    "ExecuteTime": {
     "end_time": "2019-03-29T08:53:06.207850Z",
     "start_time": "2019-03-29T08:53:05.643889Z"
    }
   },
   "outputs": [
    {
     "data": {
      "text/plain": [
       "Context(prec=28, rounding=ROUND_HALF_EVEN, Emin=-999999, Emax=999999, capitals=1, clamp=0, flags=[], traps=[InvalidOperation, DivisionByZero, Overflow])"
      ]
     },
     "execution_count": 1,
     "metadata": {},
     "output_type": "execute_result"
    }
   ],
   "source": [
    "import math\n",
    "import matplotlib.pyplot as plt\n",
    "%matplotlib inline\n",
    "from sympy import *\n",
    "from tqdm import tqdm_notebook as tqdm\n",
    "from decimal import *\n",
    "getcontext()"
   ]
  },
  {
   "cell_type": "markdown",
   "metadata": {},
   "source": [
    "## 素朴な素数判定"
   ]
  },
  {
   "cell_type": "code",
   "execution_count": 3,
   "metadata": {
    "ExecuteTime": {
     "end_time": "2019-03-29T08:53:27.889891Z",
     "start_time": "2019-03-29T08:53:27.883478Z"
    }
   },
   "outputs": [],
   "source": [
    "def is_prime(num):\n",
    "    for k in range(2, int(math.sqrt(num))):\n",
    "        if num%k == 0:\n",
    "            return False\n",
    "            break\n",
    "    else: return True"
   ]
  },
  {
   "cell_type": "code",
   "execution_count": null,
   "metadata": {
    "ExecuteTime": {
     "end_time": "2019-03-29T05:47:22.410238Z",
     "start_time": "2019-03-29T05:47:22.403699Z"
    }
   },
   "outputs": [],
   "source": [
    "N=20\n",
    "nlist = [(i,is_prime(i)) for i in range(2,N)]\n",
    "print(nlist)"
   ]
  },
  {
   "cell_type": "markdown",
   "metadata": {},
   "source": [
    "## 素数の個数"
   ]
  },
  {
   "cell_type": "code",
   "execution_count": null,
   "metadata": {
    "ExecuteTime": {
     "end_time": "2019-03-29T05:58:13.679322Z",
     "start_time": "2019-03-29T05:58:13.660072Z"
    }
   },
   "outputs": [],
   "source": [
    "Num = 3000\n",
    "checklist = [(k, is_prime(k)) for k in range(2, Num+1)]\n",
    "\n",
    "plist = [n[0] for n in checklist if n[1]] #= list(filter(lambda x: x[1], checklist))\n",
    "print(\"There are {} prime numbers up to {}\".format(len(plist), Num))"
   ]
  },
  {
   "cell_type": "markdown",
   "metadata": {},
   "source": [
    "## 素数定理"
   ]
  },
  {
   "cell_type": "code",
   "execution_count": null,
   "metadata": {
    "ExecuteTime": {
     "end_time": "2019-03-28T08:24:10.741954Z",
     "start_time": "2019-03-28T08:24:10.553347Z"
    }
   },
   "outputs": [],
   "source": [
    "bp_n = range(5,Num+1)\n",
    "bp_p = [len(list(filter((lambda z: z < x), plist))) for x in bp_n]"
   ]
  },
  {
   "cell_type": "code",
   "execution_count": null,
   "metadata": {
    "ExecuteTime": {
     "end_time": "2019-03-28T08:24:13.398309Z",
     "start_time": "2019-03-28T08:24:11.213015Z"
    }
   },
   "outputs": [],
   "source": [
    "bp_y = [x/(log(x)-1.08) for x in bp_n]"
   ]
  },
  {
   "cell_type": "code",
   "execution_count": null,
   "metadata": {
    "ExecuteTime": {
     "end_time": "2019-03-28T08:24:20.813986Z",
     "start_time": "2019-03-28T08:24:19.589658Z"
    }
   },
   "outputs": [],
   "source": [
    "# Make the plot\n",
    "plt.figure(figsize=(16,10))\n",
    "\n",
    "ax = plt.subplot()\n",
    "ax.grid()\n",
    "ax.set(xlabel='number (n)', ylabel='# of primes up to n')\n",
    "\n",
    "plt.plot(bp_n, bp_p, color=\"blue\")\n",
    "plt.plot(bp_n, bp_y, color='green')\n",
    "plt.show()"
   ]
  },
  {
   "cell_type": "markdown",
   "metadata": {},
   "source": [
    "# 素数判定の高速化"
   ]
  },
  {
   "cell_type": "code",
   "execution_count": 4,
   "metadata": {
    "ExecuteTime": {
     "end_time": "2019-03-29T08:53:31.674370Z",
     "start_time": "2019-03-29T08:53:30.877299Z"
    }
   },
   "outputs": [
    {
     "name": "stdout",
     "output_type": "stream",
     "text": [
      "There are 9679 prime numbers up to 100000\n",
      "There are 9679 prime numbers up to 100000\n",
      "There are 9679 prime numbers up to 100000\n",
      "There are 9679 prime numbers up to 100000\n",
      "1 loop, best of 3: 178 ms per loop\n"
     ]
    }
   ],
   "source": [
    "%%timeit\n",
    "Num = 10**5\n",
    "checklist = [(k, is_prime(k)) for k in range(2, Num+1)]\n",
    "\n",
    "plist = [n[0] for n in checklist if n[1]] #= list(filter(lambda x: x[1], checklist))\n",
    "print(\"There are {} prime numbers up to {}\".format(len(plist), Num))"
   ]
  },
  {
   "cell_type": "code",
   "execution_count": 5,
   "metadata": {
    "ExecuteTime": {
     "end_time": "2019-03-29T08:53:49.703776Z",
     "start_time": "2019-03-29T08:53:43.811145Z"
    }
   },
   "outputs": [
    {
     "name": "stdout",
     "output_type": "stream",
     "text": [
      "1000 loops, best of 3: 496 µs per loop\n",
      "10000 loops, best of 3: 91.5 µs per loop\n"
     ]
    }
   ],
   "source": [
    "Num = 10**4\n",
    "%timeit nlist=[k for k in range(2,Num+1) if k%3 == 0]\n",
    "%timeit num = 5; nlist = [num*k for k in range(1,int(Num/num)+1)]"
   ]
  },
  {
   "cell_type": "code",
   "execution_count": 6,
   "metadata": {
    "ExecuteTime": {
     "end_time": "2019-03-29T08:53:53.261879Z",
     "start_time": "2019-03-29T08:53:53.250254Z"
    }
   },
   "outputs": [],
   "source": [
    "def find_factor_01(num):\n",
    "    mx = int(math.sqrt(num))    \n",
    "    count = 0\n",
    "    for k in range(2, mx+1):\n",
    "        count += 1\n",
    "        if num%k==0: print(k)\n",
    "            \n",
    "def find_factor_02(num):\n",
    "    mx = int(math.sqrt(num))\n",
    "    composites = []\n",
    "    for k in range(2, mx+1):\n",
    "        if k not in composites:\n",
    "            if num%k==0: print(k)\n",
    "            else: composites.extend([k*i for i in range(2, int(mx/k)+1)])\n",
    "                \n",
    "def find_factor_03(num):\n",
    "    nlist = list(range(2, int(math.sqrt(num))+1))\n",
    "    while nlist:\n",
    "        mm = nlist.pop(0)\n",
    "        res = num%mm\n",
    "        if res == 0:\n",
    "            print(mm)\n",
    "            break\n",
    "        else:\n",
    "            nlist = [k for k in nlist if k%mm > 0]"
   ]
  },
  {
   "cell_type": "code",
   "execution_count": 7,
   "metadata": {
    "ExecuteTime": {
     "end_time": "2019-03-29T08:53:59.788657Z",
     "start_time": "2019-03-29T08:53:59.778971Z"
    }
   },
   "outputs": [],
   "source": [
    "%load_ext line_profiler"
   ]
  },
  {
   "cell_type": "code",
   "execution_count": 12,
   "metadata": {
    "ExecuteTime": {
     "end_time": "2019-03-29T08:58:27.642168Z",
     "start_time": "2019-03-29T08:58:10.732872Z"
    }
   },
   "outputs": [],
   "source": [
    "num = 2**31-1\n",
    "%lprun -f find_factor_02 find_factor_02(num)"
   ]
  },
  {
   "cell_type": "markdown",
   "metadata": {},
   "source": [
    "```\n",
    "Timer unit: 1e-06 s\n",
    "\n",
    "Total time: 16.8452 s\n",
    "File: <ipython-input-6-02803966a958>\n",
    "Function: find_factor_02 at line 8\n",
    "\n",
    "Line #      Hits         Time  Per Hit   % Time  Line Contents\n",
    "==============================================================\n",
    "     8                                           def find_factor_02(num):\n",
    "     9         1          8.0      8.0      0.0      mx = int(math.sqrt(num))\n",
    "    10         1          2.0      2.0      0.0      composites = []\n",
    "    11     46340      38539.0      0.8      0.2      for k in range(2, mx+1):\n",
    "    12     46339   16744590.0    361.3     99.4          if k not in composites:\n",
    "    13      4792       8903.0      1.9      0.1              if num%k==0: print(k)\n",
    "    14      4792      53194.0     11.1      0.3              else: composites.extend([k*i for i in range(2, int(mx/k)+1)])\n",
    "```"
   ]
  },
  {
   "cell_type": "markdown",
   "metadata": {},
   "source": [
    "## メルセンヌ素数"
   ]
  },
  {
   "cell_type": "markdown",
   "metadata": {},
   "source": [
    "### メルセンヌ素数を探す"
   ]
  },
  {
   "cell_type": "markdown",
   "metadata": {},
   "source": [
    "まずは素数判定関数を少し変更"
   ]
  },
  {
   "cell_type": "code",
   "execution_count": null,
   "metadata": {
    "ExecuteTime": {
     "end_time": "2019-03-29T06:15:11.311603Z",
     "start_time": "2019-03-29T06:15:11.302906Z"
    }
   },
   "outputs": [],
   "source": [
    "def find_factor(num):\n",
    "    #getcontext().prec = Decimal(num).adjusted() + 2\n",
    "    for k in range(2, int(math.sqrt(num))+1):\n",
    "#        if Decimal(num)%k == 0:\n",
    "        if num%k == 0:\n",
    "            return k\n",
    "            break\n",
    "    else: return 0\n",
    "    \n",
    "def is_prime(num):\n",
    "    return find_factor(num)==0"
   ]
  },
  {
   "cell_type": "markdown",
   "metadata": {},
   "source": [
    "素数リスト `plist` の作成"
   ]
  },
  {
   "cell_type": "code",
   "execution_count": null,
   "metadata": {
    "ExecuteTime": {
     "end_time": "2019-03-29T06:15:13.516297Z",
     "start_time": "2019-03-29T06:15:13.467085Z"
    }
   },
   "outputs": [],
   "source": [
    "Num = 60\n",
    "plist = [n for n in tqdm(range(2,Num+1)) if is_prime(n)]\n",
    "print(plist)"
   ]
  },
  {
   "cell_type": "markdown",
   "metadata": {
    "ExecuteTime": {
     "end_time": "2019-03-28T08:38:10.029368Z",
     "start_time": "2019-03-28T08:38:10.021491Z"
    }
   },
   "source": [
    "メルセンヌ素数を素朴に探す。"
   ]
  },
  {
   "cell_type": "code",
   "execution_count": null,
   "metadata": {
    "ExecuteTime": {
     "end_time": "2019-03-29T06:15:24.582124Z",
     "start_time": "2019-03-29T06:15:24.492734Z"
    },
    "scrolled": true
   },
   "outputs": [],
   "source": [
    "for k in tqdm(plist):\n",
    "    fac = find_factor(2**k-1)\n",
    "    if fac == 0:\n",
    "        print('2^{}-1 = {} is prime'.format(k, 2**k-1))\n",
    "    else:\n",
    "        print('2^{}-1 = {} factors into {}*{}'.format(k, 2**k-1, fac, int((2**k-1)/fac)))"
   ]
  },
  {
   "cell_type": "markdown",
   "metadata": {},
   "source": [
    "$2^{61}-1$ の素数判定はずいぶん時間がかかる。"
   ]
  },
  {
   "cell_type": "code",
   "execution_count": null,
   "metadata": {
    "ExecuteTime": {
     "end_time": "2019-03-28T08:25:24.575554Z",
     "start_time": "2019-03-28T08:25:24.563128Z"
    }
   },
   "outputs": [],
   "source": [
    "def find_factor_w_tqdm(num):\n",
    "    for k in tqdm(range(2, int(math.sqrt(num))+1)):\n",
    "        if num%k == 0:\n",
    "            return k\n",
    "            break\n",
    "    else: return 0"
   ]
  },
  {
   "cell_type": "code",
   "execution_count": null,
   "metadata": {
    "ExecuteTime": {
     "end_time": "2019-03-28T08:27:02.566269Z",
     "start_time": "2019-03-28T08:25:30.838364Z"
    },
    "scrolled": true
   },
   "outputs": [],
   "source": [
    "result = find_factor_w_tqdm(2**61-1); print(result)"
   ]
  },
  {
   "cell_type": "markdown",
   "metadata": {},
   "source": [
    "### フェルマーテスト"
   ]
  },
  {
   "cell_type": "markdown",
   "metadata": {},
   "source": [
    "素数判定をもっと高速のものにしたい。まずはフェルマーテスト。"
   ]
  },
  {
   "cell_type": "code",
   "execution_count": null,
   "metadata": {
    "ExecuteTime": {
     "end_time": "2019-03-29T06:09:29.309705Z",
     "start_time": "2019-03-29T06:09:29.302482Z"
    }
   },
   "outputs": [],
   "source": [
    "def fermat(num):\n",
    "    num = abs(num)\n",
    "    if num == 2:\n",
    "        return True\n",
    "    elif num < 2 or num%2 == 0:\n",
    "        return False\n",
    "    else:\n",
    "        return pow(2, num-1, num) == 1"
   ]
  },
  {
   "cell_type": "code",
   "execution_count": null,
   "metadata": {
    "ExecuteTime": {
     "end_time": "2019-03-29T06:10:20.981383Z",
     "start_time": "2019-03-29T06:10:20.935645Z"
    }
   },
   "outputs": [],
   "source": [
    "for k in tqdm(plist):\n",
    "    if fermat(2**k-1): print('2^{}-1 = {} is prime'.format(k, 2**k-1))"
   ]
  },
  {
   "cell_type": "markdown",
   "metadata": {},
   "source": [
    "上の出力のように、$2^{11}-1$ や $2^{23}-1$ が素数と判定されてしまった。"
   ]
  },
  {
   "cell_type": "markdown",
   "metadata": {},
   "source": [
    "### ミラーラビン法"
   ]
  },
  {
   "cell_type": "markdown",
   "metadata": {},
   "source": [
    "確率的判定法。"
   ]
  },
  {
   "cell_type": "code",
   "execution_count": null,
   "metadata": {
    "ExecuteTime": {
     "end_time": "2019-03-28T08:39:54.413620Z",
     "start_time": "2019-03-28T08:39:54.396261Z"
    }
   },
   "outputs": [],
   "source": [
    "import random\n",
    "def millerrabin(n):\n",
    "    if n%2 == 0 or n%3 == 0 or n%5 == 0:\n",
    "        return False\n",
    "    else:\n",
    "        s, d = 0, n-1\n",
    "        while d%2==0: s,d = s+1, int(d/2)\n",
    "        k = 50\n",
    "#        for j in tqdm(range(k)):\n",
    "        while k > 0:\n",
    "            k = k-1\n",
    "            a = random.randint(1,n-1)\n",
    "            t, y = d, pow(a,d,n)\n",
    "            while t != n-1 and y != 1 and y != n-1:\n",
    "                y = pow(y,2,n)\n",
    "                t <<= 1\n",
    "            if y != n-1 and t%2 == 0:\n",
    "                return False\n",
    "        return True"
   ]
  },
  {
   "cell_type": "code",
   "execution_count": null,
   "metadata": {
    "ExecuteTime": {
     "end_time": "2019-03-28T08:40:37.585679Z",
     "start_time": "2019-03-28T08:40:00.652300Z"
    },
    "scrolled": true
   },
   "outputs": [],
   "source": [
    "for k in tqdm(plist):\n",
    "    if millerrabin(2**k-1): print('2^{}-1 = {} is prime'.format(k, 2**k-1))"
   ]
  },
  {
   "cell_type": "markdown",
   "metadata": {},
   "source": [
    "ずいぶん時間がかかってしまう。なぜ?"
   ]
  },
  {
   "cell_type": "markdown",
   "metadata": {
    "ExecuteTime": {
     "end_time": "2019-03-07T09:31:10.696106Z",
     "start_time": "2019-03-07T09:31:10.687709Z"
    }
   },
   "source": [
    "### リュカ-レーマー・テスト"
   ]
  },
  {
   "cell_type": "markdown",
   "metadata": {},
   "source": [
    "#### 疑似コード(from Wikipedia)\n",
    "```\n",
    "入力: p:奇素数であるテスト対象の整数\n",
    "出力: PRIME:素数の場合, COMPOSIT:合成数の場合\n",
    "Lucas_Lehmer_Test(p):\n",
    "    var s = 4\n",
    "    var M = 2**p − 1\n",
    "    for n in range(2, p):\n",
    "        s = (s*s-2)%M\n",
    "    if s == 0 then\n",
    "        return PRIME\n",
    "    else\n",
    "        return COMPOSIT\n",
    "```"
   ]
  },
  {
   "cell_type": "code",
   "execution_count": null,
   "metadata": {
    "ExecuteTime": {
     "end_time": "2019-03-29T06:15:39.789806Z",
     "start_time": "2019-03-29T06:15:39.783489Z"
    }
   },
   "outputs": [],
   "source": [
    "def lucas_lehmer(p):\n",
    "    s = 4\n",
    "    mp = (1<<p)-1\n",
    "    for n in range(p-2): # p-2 times iteration (list(range(p-2))=[0,1,...,8])\n",
    "         s = (s**2-2)%mp\n",
    "    return s==0"
   ]
  },
  {
   "cell_type": "code",
   "execution_count": null,
   "metadata": {
    "ExecuteTime": {
     "end_time": "2019-03-29T06:15:40.896113Z",
     "start_time": "2019-03-29T06:15:40.887133Z"
    }
   },
   "outputs": [],
   "source": [
    "def lucas_lehmer_FAST(p):\n",
    "    s = 4\n",
    "    mp = (1<<p)-1\n",
    "    for n in range(p-2):\n",
    "        ss = s*s        \n",
    "        s = (ss & mp) + (ss >> p)\n",
    "        if s >= mp: s = s-mp\n",
    "        s = s-2\n",
    "    return s==0"
   ]
  },
  {
   "cell_type": "code",
   "execution_count": null,
   "metadata": {
    "ExecuteTime": {
     "end_time": "2019-03-28T10:22:20.760610Z",
     "start_time": "2019-03-28T10:22:20.507854Z"
    }
   },
   "outputs": [],
   "source": [
    "lucas_lehmer(4423)"
   ]
  },
  {
   "cell_type": "code",
   "execution_count": null,
   "metadata": {
    "ExecuteTime": {
     "end_time": "2019-03-28T10:22:36.072805Z",
     "start_time": "2019-03-28T10:22:35.969835Z"
    }
   },
   "outputs": [],
   "source": [
    "lucas_lehmer_FAST(4423)"
   ]
  },
  {
   "cell_type": "code",
   "execution_count": null,
   "metadata": {
    "ExecuteTime": {
     "end_time": "2019-03-29T06:15:44.671750Z",
     "start_time": "2019-03-29T06:15:44.655358Z"
    }
   },
   "outputs": [],
   "source": [
    "def mp_str(p):\n",
    "    mp = Decimal(2**p-1)\n",
    "    nod = mp.adjusted()+1\n",
    "    if nod <= 40:\n",
    "        return str(mp)\n",
    "    else:\n",
    "        getcontext().prec = nod\n",
    "        top = (mp/(Decimal(10)**(nod-20))).quantize(1)\n",
    "        bottom = mp-math.floor(mp/Decimal(1.0e+20))*Decimal(1.0e+20)\n",
    "        return '{}...{} [{} digits]'.format(top,bottom,nod)\n",
    "\n",
    "def find_mp(nmin, nmax):\n",
    "    plist = [n for n in range(nmin, nmax+1) if is_prime(n)]\n",
    "    for p in tqdm(plist):\n",
    "        if lucas_lehmer_FAST(p): print('2^{}-1 = {} is prime'.format(p, mp_str(p)))"
   ]
  },
  {
   "cell_type": "code",
   "execution_count": null,
   "metadata": {
    "ExecuteTime": {
     "end_time": "2019-03-29T06:15:46.001943Z",
     "start_time": "2019-03-29T06:15:45.870810Z"
    },
    "scrolled": false
   },
   "outputs": [],
   "source": [
    "find_mp(100, 1000)"
   ]
  },
  {
   "cell_type": "code",
   "execution_count": null,
   "metadata": {
    "ExecuteTime": {
     "end_time": "2019-03-29T06:15:53.190790Z",
     "start_time": "2019-03-29T06:15:47.615519Z"
    },
    "scrolled": false
   },
   "outputs": [],
   "source": [
    "find_mp(1000, 4000)"
   ]
  },
  {
   "cell_type": "code",
   "execution_count": null,
   "metadata": {
    "ExecuteTime": {
     "end_time": "2019-03-29T06:38:58.518946Z",
     "start_time": "2019-03-29T06:16:25.695120Z"
    }
   },
   "outputs": [],
   "source": [
    "find_mp(10000, 20000)"
   ]
  },
  {
   "cell_type": "code",
   "execution_count": null,
   "metadata": {
    "ExecuteTime": {
     "end_time": "2019-03-29T07:18:20.620757Z",
     "start_time": "2019-03-29T06:59:02.158225Z"
    }
   },
   "outputs": [],
   "source": [
    "find_mp(20000, 50000)"
   ]
  }
 ],
 "metadata": {
  "kernelspec": {
   "display_name": "Python 3",
   "language": "python",
   "name": "python3"
  },
  "language_info": {
   "codemirror_mode": {
    "name": "ipython",
    "version": 3
   },
   "file_extension": ".py",
   "mimetype": "text/x-python",
   "name": "python",
   "nbconvert_exporter": "python",
   "pygments_lexer": "ipython3",
   "version": "3.6.7"
  },
  "toc": {
   "base_numbering": 1,
   "nav_menu": {},
   "number_sections": true,
   "sideBar": true,
   "skip_h1_title": false,
   "title_cell": "Table of Contents",
   "title_sidebar": "Contents",
   "toc_cell": false,
   "toc_position": {},
   "toc_section_display": true,
   "toc_window_display": false
  },
  "varInspector": {
   "cols": {
    "lenName": 16,
    "lenType": 16,
    "lenVar": 40
   },
   "kernels_config": {
    "python": {
     "delete_cmd_postfix": "",
     "delete_cmd_prefix": "del ",
     "library": "var_list.py",
     "varRefreshCmd": "print(var_dic_list())"
    },
    "r": {
     "delete_cmd_postfix": ") ",
     "delete_cmd_prefix": "rm(",
     "library": "var_list.r",
     "varRefreshCmd": "cat(var_dic_list()) "
    }
   },
   "types_to_exclude": [
    "module",
    "function",
    "builtin_function_or_method",
    "instance",
    "_Feature"
   ],
   "window_display": false
  }
 },
 "nbformat": 4,
 "nbformat_minor": 1
}
