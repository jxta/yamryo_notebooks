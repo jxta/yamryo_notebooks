{
 "cells": [
  {
   "cell_type": "markdown",
   "metadata": {},
   "source": [
    "# 素数判定あれこれ"
   ]
  },
  {
   "cell_type": "code",
   "execution_count": 4,
   "metadata": {
    "ExecuteTime": {
     "end_time": "2019-04-03T02:50:46.792051Z",
     "start_time": "2019-04-03T02:50:46.292360Z"
    }
   },
   "outputs": [],
   "source": [
    "import math\n",
    "import matplotlib.pyplot as plt\n",
    "%matplotlib inline\n",
    "from sympy import *\n",
    "from tqdm import tqdm_notebook as tqdm\n",
    "from decimal import *\n",
    "getcontext()\n",
    "from functools import reduce"
   ]
  },
  {
   "cell_type": "markdown",
   "metadata": {},
   "source": [
    "## 素朴な素数判定"
   ]
  },
  {
   "cell_type": "code",
   "execution_count": 10,
   "metadata": {
    "ExecuteTime": {
     "end_time": "2019-04-03T02:53:23.569712Z",
     "start_time": "2019-04-03T02:53:23.563810Z"
    }
   },
   "outputs": [],
   "source": [
    "def is_prime(num):\n",
    "    for k in range(2, int(math.sqrt(num))):\n",
    "        if num%k == 0:\n",
    "            return False\n",
    "            break\n",
    "    else: return True"
   ]
  },
  {
   "cell_type": "code",
   "execution_count": 4,
   "metadata": {
    "ExecuteTime": {
     "end_time": "2019-04-01T01:41:40.447731Z",
     "start_time": "2019-04-01T01:41:38.849447Z"
    }
   },
   "outputs": [
    {
     "name": "stdout",
     "output_type": "stream",
     "text": [
      "100 loops, best of 3: 3.63 ms per loop\n"
     ]
    }
   ],
   "source": [
    "%timeit is_prime(2**31-1)"
   ]
  },
  {
   "cell_type": "code",
   "execution_count": null,
   "metadata": {
    "ExecuteTime": {
     "end_time": "2019-03-29T05:47:22.410238Z",
     "start_time": "2019-03-29T05:47:22.403699Z"
    }
   },
   "outputs": [],
   "source": [
    "N=20\n",
    "nlist = [(i,is_prime(i)) for i in range(2,N)]\n",
    "print(nlist)"
   ]
  },
  {
   "cell_type": "markdown",
   "metadata": {},
   "source": [
    "## 素数の個数"
   ]
  },
  {
   "cell_type": "code",
   "execution_count": null,
   "metadata": {
    "ExecuteTime": {
     "end_time": "2019-03-29T05:58:13.679322Z",
     "start_time": "2019-03-29T05:58:13.660072Z"
    }
   },
   "outputs": [],
   "source": [
    "Num = 3000\n",
    "checklist = [(k, is_prime(k)) for k in range(2, Num+1)]\n",
    "\n",
    "plist = [n[0] for n in checklist if n[1]] #= list(filter(lambda x: x[1], checklist))\n",
    "print(\"There are {} prime numbers up to {}\".format(len(plist), Num))"
   ]
  },
  {
   "cell_type": "markdown",
   "metadata": {},
   "source": [
    "## 素数定理"
   ]
  },
  {
   "cell_type": "code",
   "execution_count": null,
   "metadata": {
    "ExecuteTime": {
     "end_time": "2019-03-28T08:24:10.741954Z",
     "start_time": "2019-03-28T08:24:10.553347Z"
    }
   },
   "outputs": [],
   "source": [
    "bp_n = range(5,Num+1)\n",
    "bp_p = [len(list(filter((lambda z: z < x), plist))) for x in bp_n]"
   ]
  },
  {
   "cell_type": "code",
   "execution_count": null,
   "metadata": {
    "ExecuteTime": {
     "end_time": "2019-03-28T08:24:13.398309Z",
     "start_time": "2019-03-28T08:24:11.213015Z"
    }
   },
   "outputs": [],
   "source": [
    "bp_y = [x/(log(x)-1.08) for x in bp_n]"
   ]
  },
  {
   "cell_type": "code",
   "execution_count": null,
   "metadata": {
    "ExecuteTime": {
     "end_time": "2019-03-28T08:24:20.813986Z",
     "start_time": "2019-03-28T08:24:19.589658Z"
    }
   },
   "outputs": [],
   "source": [
    "# Make the plot\n",
    "plt.figure(figsize=(16,10))\n",
    "\n",
    "ax = plt.subplot()\n",
    "ax.grid()\n",
    "ax.set(xlabel='number (n)', ylabel='# of primes up to n')\n",
    "\n",
    "plt.plot(bp_n, bp_p, color=\"blue\")\n",
    "plt.plot(bp_n, bp_y, color='green')\n",
    "plt.show()"
   ]
  },
  {
   "cell_type": "markdown",
   "metadata": {},
   "source": [
    "# 素数判定の高速化"
   ]
  },
  {
   "cell_type": "code",
   "execution_count": null,
   "metadata": {
    "ExecuteTime": {
     "end_time": "2019-03-29T08:53:31.674370Z",
     "start_time": "2019-03-29T08:53:30.877299Z"
    }
   },
   "outputs": [],
   "source": [
    "%%timeit\n",
    "Num = 10**5\n",
    "checklist = [(k, is_prime(k)) for k in range(2, Num+1)]\n",
    "\n",
    "plist = [n[0] for n in checklist if n[1]] #= list(filter(lambda x: x[1], checklist))\n",
    "print(\"There are {} prime numbers up to {}\".format(len(plist), Num))"
   ]
  },
  {
   "cell_type": "code",
   "execution_count": null,
   "metadata": {
    "ExecuteTime": {
     "end_time": "2019-03-29T08:53:49.703776Z",
     "start_time": "2019-03-29T08:53:43.811145Z"
    }
   },
   "outputs": [],
   "source": [
    "Num = 10**4\n",
    "%timeit nlist=[k for k in range(2,Num+1) if k%3 == 0]\n",
    "%timeit num = 5; nlist = [num*k for k in range(1,int(Num/num)+1)]"
   ]
  },
  {
   "cell_type": "code",
   "execution_count": null,
   "metadata": {
    "ExecuteTime": {
     "end_time": "2019-03-29T08:53:53.261879Z",
     "start_time": "2019-03-29T08:53:53.250254Z"
    }
   },
   "outputs": [],
   "source": [
    "def find_factor_01(num):\n",
    "    mx = int(math.sqrt(num))    \n",
    "    count = 0\n",
    "    for k in range(2, mx+1):\n",
    "        count += 1\n",
    "        if num%k==0: print(k)\n",
    "            \n",
    "def find_factor_02(num):\n",
    "    mx = int(math.sqrt(num))\n",
    "    composites = []\n",
    "    for k in range(2, mx+1):\n",
    "        if k not in composites:\n",
    "            if num%k==0: print(k)\n",
    "            else: composites.extend([k*i for i in range(2, int(mx/k)+1)])\n",
    "                \n",
    "def find_factor_03(num):\n",
    "    nlist = list(range(2, int(math.sqrt(num))+1))\n",
    "    while nlist:\n",
    "        mm = nlist.pop(0)\n",
    "        res = num%mm\n",
    "        if res == 0:\n",
    "            print(mm)\n",
    "            break\n",
    "        else:\n",
    "            nlist = [k for k in nlist if k%mm > 0]"
   ]
  },
  {
   "cell_type": "code",
   "execution_count": null,
   "metadata": {
    "ExecuteTime": {
     "end_time": "2019-03-29T08:53:59.788657Z",
     "start_time": "2019-03-29T08:53:59.778971Z"
    }
   },
   "outputs": [],
   "source": [
    "%load_ext line_profiler"
   ]
  },
  {
   "cell_type": "code",
   "execution_count": null,
   "metadata": {
    "ExecuteTime": {
     "end_time": "2019-03-29T08:58:27.642168Z",
     "start_time": "2019-03-29T08:58:10.732872Z"
    }
   },
   "outputs": [],
   "source": [
    "num = 2**31-1\n",
    "%lprun -f find_factor_02 find_factor_02(num)"
   ]
  },
  {
   "cell_type": "markdown",
   "metadata": {},
   "source": [
    "```\n",
    "Timer unit: 1e-06 s\n",
    "\n",
    "Total time: 16.8452 s\n",
    "File: <ipython-input-6-02803966a958>\n",
    "Function: find_factor_02 at line 8\n",
    "\n",
    "Line #      Hits         Time  Per Hit   % Time  Line Contents\n",
    "==============================================================\n",
    "     8                                           def find_factor_02(num):\n",
    "     9         1          8.0      8.0      0.0      mx = int(math.sqrt(num))\n",
    "    10         1          2.0      2.0      0.0      composites = []\n",
    "    11     46340      38539.0      0.8      0.2      for k in range(2, mx+1):\n",
    "    12     46339   16744590.0    361.3     99.4          if k not in composites:\n",
    "    13      4792       8903.0      1.9      0.1              if num%k==0: print(k)\n",
    "    14      4792      53194.0     11.1      0.3              else: composites.extend([k*i for i in range(2, int(mx/k)+1)])\n",
    "```"
   ]
  },
  {
   "cell_type": "markdown",
   "metadata": {},
   "source": [
    "## 素因数分解"
   ]
  },
  {
   "cell_type": "markdown",
   "metadata": {},
   "source": [
    "再帰的処理で素因数分解を実装"
   ]
  },
  {
   "cell_type": "code",
   "execution_count": 2,
   "metadata": {
    "ExecuteTime": {
     "end_time": "2019-04-03T02:50:24.889127Z",
     "start_time": "2019-04-03T02:50:24.876717Z"
    }
   },
   "outputs": [],
   "source": [
    "def find_a_factor(num):\n",
    "    num = abs(int(num))\n",
    "    for n in range(2,int(math.sqrt(num))+1):\n",
    "        if num%n==0: return n; break\n",
    "    else: return num\n",
    "        \n",
    "def factorisation(num, facs_list=None):\n",
    "    if facs_list is None: facs_list = []\n",
    "    facs_list.append(find_a_factor(num))\n",
    "    if facs_list[-1]!=num:\n",
    "        facs_list=factorisation(int(num/facs_list[-1]), facs_list)\n",
    "    return facs_list"
   ]
  },
  {
   "cell_type": "code",
   "execution_count": 27,
   "metadata": {
    "ExecuteTime": {
     "end_time": "2019-04-03T03:07:06.621830Z",
     "start_time": "2019-04-03T03:07:06.597906Z"
    }
   },
   "outputs": [
    {
     "name": "stdout",
     "output_type": "stream",
     "text": [
      "53 is a PRIME\n",
      "2**53-1=9007199254740991 is factorised to 6361*69431*20394401.\n"
     ]
    }
   ],
   "source": [
    "p = 53\n",
    "mp = 2**p-1\n",
    "\n",
    "if is_prime(p): msg = \"PRIME\"\n",
    "else: msg = \"COMPOSIT\"\n",
    "    \n",
    "print(\"{} is a {}\".format(p, msg))\n",
    "\n",
    "fact_str = '*'.join(map(str,factorisation(mp)))\n",
    "print(\"2**{}-1={} is factorised to {}.\".format(p,mp,fact_str))"
   ]
  },
  {
   "cell_type": "code",
   "execution_count": null,
   "metadata": {},
   "outputs": [],
   "source": []
  }
 ],
 "metadata": {
  "kernelspec": {
   "display_name": "Python 3",
   "language": "python",
   "name": "python3"
  },
  "language_info": {
   "codemirror_mode": {
    "name": "ipython",
    "version": 3
   },
   "file_extension": ".py",
   "mimetype": "text/x-python",
   "name": "python",
   "nbconvert_exporter": "python",
   "pygments_lexer": "ipython3",
   "version": "3.6.7"
  },
  "toc": {
   "base_numbering": 1,
   "nav_menu": {},
   "number_sections": true,
   "sideBar": true,
   "skip_h1_title": false,
   "title_cell": "Table of Contents",
   "title_sidebar": "Contents",
   "toc_cell": false,
   "toc_position": {},
   "toc_section_display": true,
   "toc_window_display": false
  },
  "varInspector": {
   "cols": {
    "lenName": 16,
    "lenType": 16,
    "lenVar": 40
   },
   "kernels_config": {
    "python": {
     "delete_cmd_postfix": "",
     "delete_cmd_prefix": "del ",
     "library": "var_list.py",
     "varRefreshCmd": "print(var_dic_list())"
    },
    "r": {
     "delete_cmd_postfix": ") ",
     "delete_cmd_prefix": "rm(",
     "library": "var_list.r",
     "varRefreshCmd": "cat(var_dic_list()) "
    }
   },
   "types_to_exclude": [
    "module",
    "function",
    "builtin_function_or_method",
    "instance",
    "_Feature"
   ],
   "window_display": false
  }
 },
 "nbformat": 4,
 "nbformat_minor": 1
}
