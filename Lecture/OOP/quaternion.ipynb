{
 "cells": [
  {
   "cell_type": "markdown",
   "metadata": {},
   "source": [
    "# 4元数クラス"
   ]
  },
  {
   "cell_type": "markdown",
   "metadata": {},
   "source": [
    "## クラス定義"
   ]
  },
  {
   "cell_type": "code",
   "execution_count": 43,
   "metadata": {
    "ExecuteTime": {
     "end_time": "2018-07-13T00:55:27.967908Z",
     "start_time": "2018-07-13T00:55:27.955375Z"
    }
   },
   "outputs": [],
   "source": [
    "import re\n",
    "\n",
    "class Quaternion:\n",
    "    '''Quaternion class'''\n",
    "    \n",
    "    parts = ['r', 'i', 'j', 'k']\n",
    "    \n",
    "    def __init__(self, vec = (0,0,0,0)):\n",
    "        self.coeffs = {'r':0, 'i':0, 'j':0, 'k':0}\n",
    "        for i in range(len(self.parts)):\n",
    "            self.coeffs[self.parts[i]] = vec[i]\n",
    "    \n",
    "    def __add__(self, q):\n",
    "        if type(q) != type(self):\n",
    "            raise ValueError(\"Can't add {}\".format(type(q)))\n",
    "        vec = tuple([self.get_coeff(p) + q.get_coeff(p) for p in self.parts])\n",
    "        return type(self)(vec)\n",
    "    \n",
    "    def get_coeff(self, p):\n",
    "        return self.coeffs[p]\n",
    "    \n",
    "    def show(self):\n",
    "        mstr = '+'.join([str(self.get_coeff(p)) + p for p in self.parts])\n",
    "        mstr = mstr.replace('r','')                      # 2r+3i --> 2+3i\n",
    "        mstr = re.sub(r'1([ijk])', r'\\1', mstr)          # 1+1i --> 1+i\n",
    "        mstr = re.sub(r'^0', '', mstr)   # 0+2i --> +2i, 2+0i+3j --> 2++3j\n",
    "        mstr = re.sub(r'[+]0[ijk]', '', mstr)\n",
    "        mstr = re.sub(r'[+]([-+])',r'\\1', mstr)         # 1+-3i --> 1-3i, 1++3i --> 1+3i\n",
    "        mstr = re.sub(r'^[+]|[+]$','', mstr)             # +2i --> 2i\n",
    "        return mstr if mstr != '' else '0'"
   ]
  },
  {
   "cell_type": "code",
   "execution_count": 44,
   "metadata": {
    "ExecuteTime": {
     "end_time": "2018-07-13T00:55:28.474176Z",
     "start_time": "2018-07-13T00:55:28.464007Z"
    }
   },
   "outputs": [
    {
     "name": "stdout",
     "output_type": "stream",
     "text": [
      "PASSED\n"
     ]
    }
   ],
   "source": [
    "pairs = ( \n",
    "        ((1,2,3,4),'1+2i+3j+4k'),\n",
    "        ((0,1,1,1), 'i+j+k'),\n",
    "        ((1,1,1,1),'1+i+j+k'),\n",
    "        ((-1,0,3,1),'-1+3j+k'),\n",
    "        ((0,-2,1,-3),'-2i+j-3k'),\n",
    "        ((0,0,0,0),'0'),\n",
    "        )\n",
    "\n",
    "for p in pairs:\n",
    "    q = Quaternion(p[0])\n",
    "    try:\n",
    "        assert(q.show() == p[1])\n",
    "    except AssertionError:\n",
    "        print('FAILED [q = {},q.show()={}'.format(q.coeffs, q.show()))\n",
    "        break\n",
    "else: print('PASSED')"
   ]
  },
  {
   "cell_type": "markdown",
   "metadata": {},
   "source": [
    "## テスト"
   ]
  },
  {
   "cell_type": "code",
   "execution_count": 2,
   "metadata": {
    "ExecuteTime": {
     "end_time": "2018-07-12T23:19:51.721308Z",
     "start_time": "2018-07-12T23:19:51.712977Z"
    }
   },
   "outputs": [],
   "source": [
    "import unittest\n",
    "from IPython.display import Markdown, display\n",
    "\n",
    "def run_check(test_class):\n",
    "    t = test_class\n",
    "    try:\n",
    "        t.check()\n",
    "    except t.failureException as e:\n",
    "        display(Markdown('**<span style=\"color: red;\">FAILED</span>**'))\n",
    "        print('Hint:',  e)\n",
    "    else: display(Markdown('**<span style=\"color: green;\">PASSED</span>**'))"
   ]
  },
  {
   "cell_type": "markdown",
   "metadata": {},
   "source": [
    "### メソッド ```show``` のテスト"
   ]
  },
  {
   "cell_type": "code",
   "execution_count": 3,
   "metadata": {
    "ExecuteTime": {
     "end_time": "2018-07-12T23:20:05.900912Z",
     "start_time": "2018-07-12T23:20:05.865012Z"
    }
   },
   "outputs": [
    {
     "data": {
      "text/markdown": [
       "**<span style=\"color: green;\">PASSED</span>**"
      ],
      "text/plain": [
       "<IPython.core.display.Markdown object>"
      ]
     },
     "metadata": {},
     "output_type": "display_data"
    }
   ],
   "source": [
    "class show_test(unittest.TestCase):\n",
    "    pairs = ( \n",
    "        ((0,0,0,0),'0'),\n",
    "        ((1,2,3,4),'1+2i+3j+4k'),\n",
    "        ((1,1,1,1),'1+i+j+k'),\n",
    "        ((-1,0,3,1),'-1+3j+k'),\n",
    "#         ((0,-2,1,-3),'-2i+j-3k')\n",
    "        )\n",
    "    \n",
    "    def check(self):\n",
    "        for v, s in self.pairs:\n",
    "            q = Quaternion(v)\n",
    "            self.assertEqual(q.show(), s)\n",
    "            \n",
    "run_check(show_test())"
   ]
  },
  {
   "cell_type": "code",
   "execution_count": 7,
   "metadata": {
    "ExecuteTime": {
     "end_time": "2018-07-12T23:21:58.147807Z",
     "start_time": "2018-07-12T23:21:58.142045Z"
    }
   },
   "outputs": [],
   "source": [
    "# import pytest\n",
    "\n",
    "vec = (1,2,-3,1)\n",
    "q1 = Quaternion(vec)\n",
    "# print(type(q1))\n",
    "# q1.show()\n",
    "assert type(q1) == Quaternion\n",
    "assert q1.show() == '1+2i+3j+k'"
   ]
  },
  {
   "cell_type": "code",
   "execution_count": 5,
   "metadata": {
    "ExecuteTime": {
     "end_time": "2018-07-12T23:21:13.338781Z",
     "start_time": "2018-07-12T23:21:13.326466Z"
    }
   },
   "outputs": [
    {
     "data": {
      "text/plain": [
       "('i', 'j', 'k')"
      ]
     },
     "execution_count": 5,
     "metadata": {},
     "output_type": "execute_result"
    }
   ],
   "source": [
    "qi, qj, qk = Quaternion((0,1,0,0)), Quaternion((0,0,1,0)), Quaternion((0,0,0,1))\n",
    "(qi.show(), qj.show(), qk.show())"
   ]
  },
  {
   "cell_type": "markdown",
   "metadata": {},
   "source": [
    "### メソッド ```__add__``` のテスト"
   ]
  },
  {
   "cell_type": "code",
   "execution_count": 6,
   "metadata": {
    "ExecuteTime": {
     "end_time": "2018-07-12T23:21:28.605288Z",
     "start_time": "2018-07-12T23:21:28.589614Z"
    }
   },
   "outputs": [
    {
     "data": {
      "text/markdown": [
       "**<span style=\"color: green;\">PASSED</span>**"
      ],
      "text/plain": [
       "<IPython.core.display.Markdown object>"
      ]
     },
     "metadata": {},
     "output_type": "display_data"
    }
   ],
   "source": [
    "class add_test(unittest.TestCase):\n",
    "    vecs = [(0,0,0,0), (1,0,0,0), (0,1,0,0), (0,0,1,0), (0,0,0,1), (1,-2,-1,0)]\n",
    "    pairs = ( ((0,0), (0,0,0,0)),\n",
    "            ((0,1), vecs[0]),\n",
    "            ((0,5), vecs[5]),\n",
    "            ((3,5), (1,-2,0,0))\n",
    "             )\n",
    "       \n",
    "    def check(self):\n",
    "        for p, v in self.pairs:\n",
    "            s = Quaternion(self.vecs[p[0]]) + Quaternion(self.vecs[p[1]])\n",
    "            self.assertEqual(s.coeffs, v)\n",
    "            \n",
    "run_check(show_test())"
   ]
  },
  {
   "cell_type": "code",
   "execution_count": null,
   "metadata": {},
   "outputs": [],
   "source": []
  }
 ],
 "metadata": {
  "kernelspec": {
   "display_name": "Python 3",
   "language": "python",
   "name": "python3"
  },
  "language_info": {
   "codemirror_mode": {
    "name": "ipython",
    "version": 3
   },
   "file_extension": ".py",
   "mimetype": "text/x-python",
   "name": "python",
   "nbconvert_exporter": "python",
   "pygments_lexer": "ipython3",
   "version": "3.6.5"
  },
  "toc": {
   "base_numbering": 1,
   "nav_menu": {},
   "number_sections": true,
   "sideBar": true,
   "skip_h1_title": false,
   "title_cell": "Table of Contents",
   "title_sidebar": "Contents",
   "toc_cell": false,
   "toc_position": {},
   "toc_section_display": true,
   "toc_window_display": false
  },
  "varInspector": {
   "cols": {
    "lenName": 16,
    "lenType": 16,
    "lenVar": 40
   },
   "kernels_config": {
    "python": {
     "delete_cmd_postfix": "",
     "delete_cmd_prefix": "del ",
     "library": "var_list.py",
     "varRefreshCmd": "print(var_dic_list())"
    },
    "r": {
     "delete_cmd_postfix": ") ",
     "delete_cmd_prefix": "rm(",
     "library": "var_list.r",
     "varRefreshCmd": "cat(var_dic_list()) "
    }
   },
   "types_to_exclude": [
    "module",
    "function",
    "builtin_function_or_method",
    "instance",
    "_Feature"
   ],
   "window_display": false
  }
 },
 "nbformat": 4,
 "nbformat_minor": 2
}
