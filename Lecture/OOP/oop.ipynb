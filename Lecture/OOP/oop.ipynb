{
 "cells": [
  {
   "cell_type": "markdown",
   "metadata": {},
   "source": [
    "# オブジェクト指向プログラミング"
   ]
  },
  {
   "cell_type": "markdown",
   "metadata": {},
   "source": [
    "## クラス定義"
   ]
  },
  {
   "cell_type": "markdown",
   "metadata": {},
   "source": [
    "### 基本形"
   ]
  },
  {
   "cell_type": "code",
   "execution_count": 2,
   "metadata": {
    "ExecuteTime": {
     "end_time": "2018-06-21T23:38:46.980923Z",
     "start_time": "2018-06-21T23:38:46.974755Z"
    },
    "code_folding": []
   },
   "outputs": [],
   "source": [
    "class MyClass:\n",
    "    \"\"\"A simple class\"\"\"\n",
    "    i = 12345\n",
    "\n",
    "    def f(self):\n",
    "        return 'hello world'"
   ]
  },
  {
   "cell_type": "code",
   "execution_count": 5,
   "metadata": {
    "ExecuteTime": {
     "end_time": "2018-06-21T23:47:33.346794Z",
     "start_time": "2018-06-21T23:47:33.342014Z"
    }
   },
   "outputs": [
    {
     "name": "stdout",
     "output_type": "stream",
     "text": [
      "<class '__main__.MyClass'>\n"
     ]
    }
   ],
   "source": [
    "mc = MyClass\n",
    "print(mc)"
   ]
  },
  {
   "cell_type": "markdown",
   "metadata": {},
   "source": [
    "### 初期化とメソッド"
   ]
  },
  {
   "cell_type": "code",
   "execution_count": 49,
   "metadata": {
    "ExecuteTime": {
     "end_time": "2018-06-27T09:22:44.133589Z",
     "start_time": "2018-06-27T09:22:44.117948Z"
    }
   },
   "outputs": [],
   "source": [
    "class Circle:\n",
    "    def __init__(self, c=(0,0), r=1):\n",
    "        self.center = c\n",
    "        self.radius = r\n",
    "        self.points = []\n",
    "        \n",
    "    def get_diameter(self):\n",
    "        return self.radius * 2\n",
    "    \n",
    "    def move_center(self, c):\n",
    "        self.center = c\n",
    "        \n",
    "    def add_points(self, p):\n",
    "        self.points.append(p)"
   ]
  },
  {
   "cell_type": "code",
   "execution_count": 50,
   "metadata": {
    "ExecuteTime": {
     "end_time": "2018-06-27T09:22:44.838085Z",
     "start_time": "2018-06-27T09:22:44.829082Z"
    }
   },
   "outputs": [
    {
     "name": "stdout",
     "output_type": "stream",
     "text": [
      "(1, 2) 3\n"
     ]
    },
    {
     "data": {
      "text/plain": [
       "6"
      ]
     },
     "execution_count": 50,
     "metadata": {},
     "output_type": "execute_result"
    }
   ],
   "source": [
    "c = Circle((1,2),3)\n",
    "print(c.center, c.radius)\n",
    "c.get_diameter()"
   ]
  },
  {
   "cell_type": "markdown",
   "metadata": {},
   "source": [
    "### クラス変数とインスタンス変数"
   ]
  },
  {
   "cell_type": "code",
   "execution_count": 47,
   "metadata": {
    "ExecuteTime": {
     "end_time": "2018-06-27T09:22:34.797245Z",
     "start_time": "2018-06-27T09:22:34.793316Z"
    }
   },
   "outputs": [],
   "source": [
    "class Circle(Circle):\n",
    "    def add_points(self, p):\n",
    "        self.points.append(p)"
   ]
  },
  {
   "cell_type": "code",
   "execution_count": 52,
   "metadata": {
    "ExecuteTime": {
     "end_time": "2018-06-27T09:23:22.440206Z",
     "start_time": "2018-06-27T09:23:22.432580Z"
    }
   },
   "outputs": [
    {
     "name": "stdout",
     "output_type": "stream",
     "text": [
      "(-1, -1) (1, 2)\n",
      "[(3, 5)] []\n"
     ]
    }
   ],
   "source": [
    "c1, c2 = Circle(), Circle((1,2),3)\n",
    "c1.move_center((-1,-1))\n",
    "c1.add_points((3,5))\n",
    "print(c1.center, c2.center)\n",
    "print(c1.points, c2.points)"
   ]
  },
  {
   "cell_type": "code",
   "execution_count": 44,
   "metadata": {
    "ExecuteTime": {
     "end_time": "2018-06-27T08:57:56.304258Z",
     "start_time": "2018-06-27T08:57:56.288646Z"
    }
   },
   "outputs": [],
   "source": [
    "class Circle_alt:\n",
    "    center = (0,0)\n",
    "    radius = 1\n",
    "    points = []\n",
    "    \n",
    "    def __init__(self, c=(0,0), r=1):\n",
    "        self.center = c\n",
    "        self.radius = r\n",
    "        \n",
    "    def get_diameter(self):\n",
    "        return self.radius * 2\n",
    "    \n",
    "    def move_center(self, c):\n",
    "        self.center = c\n",
    "        \n",
    "    def add_points(self, p):\n",
    "        self.points.append(p)"
   ]
  },
  {
   "cell_type": "code",
   "execution_count": 45,
   "metadata": {
    "ExecuteTime": {
     "end_time": "2018-06-27T08:57:57.016845Z",
     "start_time": "2018-06-27T08:57:57.007854Z"
    }
   },
   "outputs": [
    {
     "name": "stdout",
     "output_type": "stream",
     "text": [
      "(-1, -1) (1, 2)\n",
      "[(3, 5)] [(3, 5)]\n"
     ]
    }
   ],
   "source": [
    "c3, c4 = Circle_alt(), Circle_alt((1,2),3)\n",
    "c3.move_center((-1,-1))\n",
    "c3.add_points((3,5))\n",
    "print(c3.center, c4.center)\n",
    "print(c3.points, c4.points)"
   ]
  },
  {
   "cell_type": "markdown",
   "metadata": {},
   "source": [
    "## 継承"
   ]
  },
  {
   "cell_type": "code",
   "execution_count": null,
   "metadata": {},
   "outputs": [],
   "source": []
  }
 ],
 "metadata": {
  "kernelspec": {
   "display_name": "Python 3",
   "language": "python",
   "name": "python3"
  },
  "language_info": {
   "codemirror_mode": {
    "name": "ipython",
    "version": 3
   },
   "file_extension": ".py",
   "mimetype": "text/x-python",
   "name": "python",
   "nbconvert_exporter": "python",
   "pygments_lexer": "ipython3",
   "version": "3.6.4"
  },
  "toc": {
   "nav_menu": {},
   "number_sections": true,
   "sideBar": true,
   "skip_h1_title": true,
   "title_cell": "Table of Contents",
   "title_sidebar": "Contents",
   "toc_cell": false,
   "toc_position": {},
   "toc_section_display": true,
   "toc_window_display": false
  },
  "varInspector": {
   "cols": {
    "lenName": 16,
    "lenType": 16,
    "lenVar": 40
   },
   "kernels_config": {
    "python": {
     "delete_cmd_postfix": "",
     "delete_cmd_prefix": "del ",
     "library": "var_list.py",
     "varRefreshCmd": "print(var_dic_list())"
    },
    "r": {
     "delete_cmd_postfix": ") ",
     "delete_cmd_prefix": "rm(",
     "library": "var_list.r",
     "varRefreshCmd": "cat(var_dic_list()) "
    }
   },
   "types_to_exclude": [
    "module",
    "function",
    "builtin_function_or_method",
    "instance",
    "_Feature"
   ],
   "window_display": false
  }
 },
 "nbformat": 4,
 "nbformat_minor": 2
}
