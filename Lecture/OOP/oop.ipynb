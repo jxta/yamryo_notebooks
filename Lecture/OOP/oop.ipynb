{
 "cells": [
  {
   "cell_type": "markdown",
   "metadata": {},
   "source": [
    "# オブジェクト指向プログラミング"
   ]
  },
  {
   "cell_type": "markdown",
   "metadata": {},
   "source": [
    "## クラス定義"
   ]
  },
  {
   "cell_type": "markdown",
   "metadata": {},
   "source": [
    "### 基本形"
   ]
  },
  {
   "cell_type": "code",
   "execution_count": 4,
   "metadata": {
    "ExecuteTime": {
     "end_time": "2018-06-29T00:00:32.688747Z",
     "start_time": "2018-06-29T00:00:32.684370Z"
    },
    "code_folding": []
   },
   "outputs": [],
   "source": [
    "class MyClass:\n",
    "    \"\"\"A simple class\"\"\"\n",
    "    i = 12345\n",
    "\n",
    "    def ff(self):\n",
    "        return 'hello world'"
   ]
  },
  {
   "cell_type": "code",
   "execution_count": 12,
   "metadata": {
    "ExecuteTime": {
     "end_time": "2018-06-29T00:15:46.704916Z",
     "start_time": "2018-06-29T00:15:46.699296Z"
    }
   },
   "outputs": [
    {
     "name": "stdout",
     "output_type": "stream",
     "text": [
      "12345\n",
      "hello world\n"
     ]
    }
   ],
   "source": [
    "mc = MyClass()\n",
    "print(mc.i)\n",
    "print(mc.ff())"
   ]
  },
  {
   "cell_type": "markdown",
   "metadata": {},
   "source": [
    "### 初期化とメソッド"
   ]
  },
  {
   "cell_type": "code",
   "execution_count": 10,
   "metadata": {
    "ExecuteTime": {
     "end_time": "2018-06-29T00:02:14.211192Z",
     "start_time": "2018-06-29T00:02:14.204579Z"
    }
   },
   "outputs": [],
   "source": [
    "class Circle:\n",
    "    def __init__(self, c=(0,0), r=1):\n",
    "        self.center = c\n",
    "        self.radius = r\n",
    "        self.points = []\n",
    "        \n",
    "    def get_diameter(self):\n",
    "        return self.radius * 2\n",
    "    \n",
    "    def move_center(self, c):\n",
    "        self.center = c\n",
    "        \n",
    "    def add_points(self, p):\n",
    "        self.points.append(p)"
   ]
  },
  {
   "cell_type": "code",
   "execution_count": 11,
   "metadata": {
    "ExecuteTime": {
     "end_time": "2018-06-29T00:02:14.891088Z",
     "start_time": "2018-06-29T00:02:14.868640Z"
    }
   },
   "outputs": [
    {
     "name": "stdout",
     "output_type": "stream",
     "text": [
      "(1, 2) 3\n"
     ]
    },
    {
     "data": {
      "text/plain": [
       "6"
      ]
     },
     "execution_count": 11,
     "metadata": {},
     "output_type": "execute_result"
    }
   ],
   "source": [
    "c = Circle((1,2),3)\n",
    "print(c.center, c.radius)\n",
    "c.get_diameter()"
   ]
  },
  {
   "cell_type": "markdown",
   "metadata": {},
   "source": [
    "### クラス変数とインスタンス変数"
   ]
  },
  {
   "cell_type": "code",
   "execution_count": 13,
   "metadata": {
    "ExecuteTime": {
     "end_time": "2018-06-29T00:26:49.344236Z",
     "start_time": "2018-06-29T00:26:49.337938Z"
    }
   },
   "outputs": [],
   "source": [
    "class Circle(Circle):\n",
    "    def add_points(self, p):\n",
    "        self.points.append(p)"
   ]
  },
  {
   "cell_type": "code",
   "execution_count": 14,
   "metadata": {
    "ExecuteTime": {
     "end_time": "2018-06-29T00:26:51.615956Z",
     "start_time": "2018-06-29T00:26:51.609676Z"
    }
   },
   "outputs": [
    {
     "name": "stdout",
     "output_type": "stream",
     "text": [
      "(-1, -1) (1, 2)\n",
      "[(3, 5)] []\n"
     ]
    }
   ],
   "source": [
    "c1, c2 = Circle(), Circle((1,2),3)\n",
    "c1.move_center((-1,-1))\n",
    "c1.add_points((3,5))\n",
    "print(c1.center, c2.center)\n",
    "print(c1.points, c2.points)"
   ]
  },
  {
   "cell_type": "code",
   "execution_count": 17,
   "metadata": {
    "ExecuteTime": {
     "end_time": "2018-06-29T08:41:21.201320Z",
     "start_time": "2018-06-29T08:41:21.187933Z"
    }
   },
   "outputs": [],
   "source": [
    "class Circle_alt:\n",
    "    center = (0,0)\n",
    "    radius = 1\n",
    "    points = []\n",
    "    \n",
    "    def __init__(self, c=(0,0), r=1):\n",
    "        self.center = c\n",
    "        self.radius = r\n",
    "        \n",
    "    def get_diameter(self):\n",
    "        return self.radius * 2\n",
    "    \n",
    "    def move_center(self, c):\n",
    "        self.center = c\n",
    "        \n",
    "    def add_points(self, p):\n",
    "        self.points.append(p)"
   ]
  },
  {
   "cell_type": "code",
   "execution_count": null,
   "metadata": {},
   "outputs": [],
   "source": [
    "Circle_alt."
   ]
  },
  {
   "cell_type": "code",
   "execution_count": null,
   "metadata": {
    "ExecuteTime": {
     "end_time": "2018-06-27T08:57:57.016845Z",
     "start_time": "2018-06-27T08:57:57.007854Z"
    }
   },
   "outputs": [],
   "source": [
    "c3, c4 = Circle_alt(), Circle_alt((1,2),3)\n",
    "c3.move_center((-1,-1))\n",
    "c3.add_points((3,5))\n",
    "print(c3.center, c4.center)\n",
    "print(c3.points, c4.points)"
   ]
  },
  {
   "cell_type": "markdown",
   "metadata": {},
   "source": [
    "## 継承"
   ]
  },
  {
   "cell_type": "code",
   "execution_count": null,
   "metadata": {},
   "outputs": [],
   "source": []
  }
 ],
 "metadata": {
  "kernelspec": {
   "display_name": "Python 3",
   "language": "python",
   "name": "python3"
  },
  "language_info": {
   "codemirror_mode": {
    "name": "ipython",
    "version": 3
   },
   "file_extension": ".py",
   "mimetype": "text/x-python",
   "name": "python",
   "nbconvert_exporter": "python",
   "pygments_lexer": "ipython3",
   "version": "3.6.7"
  },
  "toc": {
   "base_numbering": 1,
   "nav_menu": {},
   "number_sections": true,
   "sideBar": true,
   "skip_h1_title": true,
   "title_cell": "Table of Contents",
   "title_sidebar": "Contents",
   "toc_cell": false,
   "toc_position": {},
   "toc_section_display": true,
   "toc_window_display": false
  },
  "varInspector": {
   "cols": {
    "lenName": 16,
    "lenType": 16,
    "lenVar": 40
   },
   "kernels_config": {
    "python": {
     "delete_cmd_postfix": "",
     "delete_cmd_prefix": "del ",
     "library": "var_list.py",
     "varRefreshCmd": "print(var_dic_list())"
    },
    "r": {
     "delete_cmd_postfix": ") ",
     "delete_cmd_prefix": "rm(",
     "library": "var_list.r",
     "varRefreshCmd": "cat(var_dic_list()) "
    }
   },
   "types_to_exclude": [
    "module",
    "function",
    "builtin_function_or_method",
    "instance",
    "_Feature"
   ],
   "window_display": false
  }
 },
 "nbformat": 4,
 "nbformat_minor": 2
}
