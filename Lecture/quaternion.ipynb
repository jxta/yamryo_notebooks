{
 "cells": [
  {
   "cell_type": "markdown",
   "metadata": {},
   "source": [
    "# 4元数クラス"
   ]
  },
  {
   "cell_type": "code",
   "execution_count": 1,
   "metadata": {
    "ExecuteTime": {
     "end_time": "2018-06-27T01:31:34.255747Z",
     "start_time": "2018-06-27T01:31:34.248144Z"
    }
   },
   "outputs": [],
   "source": [
    "# from pyquotenion import Quotanion"
   ]
  },
  {
   "cell_type": "markdown",
   "metadata": {},
   "source": [
    "## クラス定義"
   ]
  },
  {
   "cell_type": "code",
   "execution_count": 2,
   "metadata": {
    "ExecuteTime": {
     "end_time": "2018-06-27T01:31:34.350681Z",
     "start_time": "2018-06-27T01:31:34.259702Z"
    }
   },
   "outputs": [],
   "source": [
    "import re\n",
    "\n",
    "class quaternion:\n",
    "    '''Quaternion class'''\n",
    "    \n",
    "    parts = ['r', 'i', 'j', 'k']\n",
    "    \n",
    "    def __init__(self, vec = (0,0,0,0)):\n",
    "        self.coeffs = {'r':0, 'i':0, 'j':0, 'k':0}\n",
    "        for i in range(len(self.parts)):\n",
    "            self.coeffs[self.parts[i]] = vec[i]\n",
    "    \n",
    "    def __add__(self, q):\n",
    "        if type(q) != type(self):\n",
    "            raise ValueError(\"Can't add {}\".format(type(q)))\n",
    "        vec = tuple([self.get_coeff(p) + q.get_coeff(p) for p in self.parts])\n",
    "        return type(self)(vec)\n",
    "    \n",
    "    def get_coeff(self, p):\n",
    "        return self.coeffs[p]\n",
    "    \n",
    "    def show(self):\n",
    "        mstr = '+'.join([str(self.get_coeff(p)) + p for p in self.parts])\n",
    "        mstr = mstr.replace('r','')                      # 2r+3i --> 2+3i\n",
    "        mstr = re.sub(r'1([ijk])', r'\\1', mstr)          # 1+1i --> 1+i\n",
    "        mstr = re.sub(r'(\\D|^)0([ijk]*)', r'\\1', mstr)   # 0+2i --> +2i, 2+0i+3j --> 2++3j\n",
    "        mstr = re.sub(r'([+])[-+]+',r'\\1', mstr)         # 1+-3i --> 1-3i, 1++3i --> 1+3i\n",
    "        mstr = re.sub(r'^[+]|[+]$','', mstr)             # +2i --> 2i\n",
    "        return mstr if mstr != '' else '0'"
   ]
  },
  {
   "cell_type": "markdown",
   "metadata": {},
   "source": [
    "## テスト"
   ]
  },
  {
   "cell_type": "code",
   "execution_count": 3,
   "metadata": {
    "ExecuteTime": {
     "end_time": "2018-06-27T01:31:34.453234Z",
     "start_time": "2018-06-27T01:31:34.353927Z"
    }
   },
   "outputs": [],
   "source": [
    "import unittest\n",
    "from IPython.display import Markdown, display\n",
    "\n",
    "def run_check(test_class):\n",
    "    t = test_class\n",
    "    try:\n",
    "        t.check()\n",
    "    except t.failureException as e:\n",
    "        display(Markdown('**<span style=\"color: red;\">FAILED</span>**'))\n",
    "        print('Hint:',  e)\n",
    "    else: display(Markdown('**<span style=\"color: green;\">PASSED</span>**'))"
   ]
  },
  {
   "cell_type": "markdown",
   "metadata": {},
   "source": [
    "### メソッド ```show``` のテスト"
   ]
  },
  {
   "cell_type": "code",
   "execution_count": 4,
   "metadata": {
    "ExecuteTime": {
     "end_time": "2018-06-27T01:31:34.538009Z",
     "start_time": "2018-06-27T01:31:34.457819Z"
    }
   },
   "outputs": [
    {
     "data": {
      "text/markdown": [
       "**<span style=\"color: green;\">PASSED</span>**"
      ],
      "text/plain": [
       "<IPython.core.display.Markdown object>"
      ]
     },
     "metadata": {},
     "output_type": "display_data"
    }
   ],
   "source": [
    "class show_test(unittest.TestCase):\n",
    "    pairs = ( \n",
    "        ((0,0,0,0),'0'),\n",
    "        ((1,2,3,4),'1+2i+3j+4k'),\n",
    "        ((1,1,1,1),'1+i+j+k'),\n",
    "        ((-1,0,3,1),'-1+3j+k'),\n",
    "#         ((0,-2,1,-3),'-2i+j-3k')\n",
    "        )\n",
    "    \n",
    "    def check(self):\n",
    "        for v, s in self.pairs:\n",
    "            q = quaternion(v)\n",
    "            self.assertEqual(q.show(), s)\n",
    "            \n",
    "run_check(show_test())"
   ]
  },
  {
   "cell_type": "code",
   "execution_count": 5,
   "metadata": {
    "ExecuteTime": {
     "end_time": "2018-06-27T01:31:34.710648Z",
     "start_time": "2018-06-27T01:31:34.542596Z"
    }
   },
   "outputs": [],
   "source": [
    "import pytest\n",
    "\n",
    "vec = (1,2,-3,1)\n",
    "q1 = quaternion(vec)\n",
    "# print(type(q1))\n",
    "# q1.show()\n",
    "assert type(q1) == quaternion\n",
    "assert q1.show() == '1+2i+3j+k'"
   ]
  },
  {
   "cell_type": "code",
   "execution_count": 6,
   "metadata": {
    "ExecuteTime": {
     "end_time": "2018-06-27T01:31:34.728240Z",
     "start_time": "2018-06-27T01:31:34.713595Z"
    }
   },
   "outputs": [
    {
     "data": {
      "text/plain": [
       "('i', 'j', 'k')"
      ]
     },
     "execution_count": 6,
     "metadata": {},
     "output_type": "execute_result"
    }
   ],
   "source": [
    "qi, qj, qk = quaternion((0,1,0,0)), quaternion((0,0,1,0)), quaternion((0,0,0,1))\n",
    "(qi.show(), qj.show(), qk.show())"
   ]
  },
  {
   "cell_type": "markdown",
   "metadata": {},
   "source": [
    "### メソッド ```__add__``` のテスト"
   ]
  },
  {
   "cell_type": "code",
   "execution_count": 7,
   "metadata": {
    "ExecuteTime": {
     "end_time": "2018-06-27T01:31:34.819070Z",
     "start_time": "2018-06-27T01:31:34.731253Z"
    }
   },
   "outputs": [
    {
     "data": {
      "text/markdown": [
       "**<span style=\"color: green;\">PASSED</span>**"
      ],
      "text/plain": [
       "<IPython.core.display.Markdown object>"
      ]
     },
     "metadata": {},
     "output_type": "display_data"
    }
   ],
   "source": [
    "class add_test(unittest.TestCase):\n",
    "    vecs = [(0,0,0,0), (1,0,0,0), (0,1,0,0), (0,0,1,0), (0,0,0,1), (1,-2,-1,0)]\n",
    "    pairs = ( ((0,0), (0,0,0,0)),\n",
    "            ((0,1), vecs[0]),\n",
    "            ((0,5), vecs[5]),\n",
    "            ((3,5), (1,-2,0,0))\n",
    "             )\n",
    "       \n",
    "    def check(self):\n",
    "        for p, v in self.pairs:\n",
    "            s = quaternion(self.vecs[p[0]]) + quaternion(self.vecs[p[1]])\n",
    "            self.assertEqual(s.coeffs, v)\n",
    "            \n",
    "run_check(show_test())"
   ]
  },
  {
   "cell_type": "code",
   "execution_count": null,
   "metadata": {},
   "outputs": [],
   "source": []
  }
 ],
 "metadata": {
  "kernelspec": {
   "display_name": "Python 3",
   "language": "python",
   "name": "python3"
  },
  "language_info": {
   "codemirror_mode": {
    "name": "ipython",
    "version": 3
   },
   "file_extension": ".py",
   "mimetype": "text/x-python",
   "name": "python",
   "nbconvert_exporter": "python",
   "pygments_lexer": "ipython3",
   "version": "3.6.1"
  },
  "toc": {
   "nav_menu": {},
   "number_sections": true,
   "sideBar": true,
   "skip_h1_title": false,
   "title_cell": "Table of Contents",
   "title_sidebar": "Contents",
   "toc_cell": false,
   "toc_position": {},
   "toc_section_display": true,
   "toc_window_display": false
  },
  "varInspector": {
   "cols": {
    "lenName": 16,
    "lenType": 16,
    "lenVar": 40
   },
   "kernels_config": {
    "python": {
     "delete_cmd_postfix": "",
     "delete_cmd_prefix": "del ",
     "library": "var_list.py",
     "varRefreshCmd": "print(var_dic_list())"
    },
    "r": {
     "delete_cmd_postfix": ") ",
     "delete_cmd_prefix": "rm(",
     "library": "var_list.r",
     "varRefreshCmd": "cat(var_dic_list()) "
    }
   },
   "types_to_exclude": [
    "module",
    "function",
    "builtin_function_or_method",
    "instance",
    "_Feature"
   ],
   "window_display": false
  }
 },
 "nbformat": 4,
 "nbformat_minor": 2
}
