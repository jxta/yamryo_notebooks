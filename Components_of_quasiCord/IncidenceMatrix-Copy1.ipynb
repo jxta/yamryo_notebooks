{
 "cells": [
  {
   "cell_type": "markdown",
   "metadata": {},
   "source": [
    "# Quasi-cord の接続行列"
   ]
  },
  {
   "cell_type": "markdown",
   "metadata": {},
   "source": [
    "## 準備"
   ]
  },
  {
   "cell_type": "code",
   "execution_count": 1,
   "metadata": {
    "ExecuteTime": {
     "end_time": "2019-09-11T09:29:08.216925Z",
     "start_time": "2019-09-11T09:29:08.210128Z"
    }
   },
   "outputs": [],
   "source": [
    "import numpy as np"
   ]
  },
  {
   "cell_type": "code",
   "execution_count": 2,
   "metadata": {
    "ExecuteTime": {
     "end_time": "2019-09-11T09:29:08.230525Z",
     "start_time": "2019-09-11T09:29:08.221779Z"
    }
   },
   "outputs": [],
   "source": [
    "Labels = ['T','L','B','R']\n",
    "\n",
    "class segment:\n",
    "    def __init__(self, ends):\n",
    "        self.ends = ends\n",
    "        \n",
    "    def show(self):\n",
    "        return self.ends"
   ]
  },
  {
   "cell_type": "markdown",
   "metadata": {},
   "source": [
    "## Quasi-cord 定義"
   ]
  },
  {
   "cell_type": "code",
   "execution_count": 3,
   "metadata": {
    "ExecuteTime": {
     "end_time": "2019-09-11T09:29:08.245509Z",
     "start_time": "2019-09-11T09:29:08.238898Z"
    }
   },
   "outputs": [],
   "source": [
    "c = [3,2,1,2] #[3,2,1,4] #[3,4,5,2] #[1,3,1,1] #\n",
    "s = sum(c) + 1"
   ]
  },
  {
   "cell_type": "markdown",
   "metadata": {},
   "source": [
    "## end points"
   ]
  },
  {
   "cell_type": "code",
   "execution_count": 4,
   "metadata": {
    "ExecuteTime": {
     "end_time": "2019-09-11T09:29:08.265614Z",
     "start_time": "2019-09-11T09:29:08.249878Z"
    }
   },
   "outputs": [
    {
     "name": "stdout",
     "output_type": "stream",
     "text": [
      "[['T0', 'T1', 'T2', 'T2', 'T1', 'T0'], ['L0', 'L1', 'L', 'L1', 'L0'], ['B0', 'B0'], ['R0', 'R1', 'R', 'R1', 'R0']]\n"
     ]
    }
   ],
   "source": [
    "endpoints = []\n",
    "\n",
    "for i in range(4):\n",
    "    points = [Labels[i]+str(k) for k in range(c[i])]\n",
    "    points += list(reversed(points))\n",
    "    if i%2==1:\n",
    "        idx = int(len(points)/2)\n",
    "        points.insert(idx, Labels[i])\n",
    "    endpoints.append(points)\n",
    "    \n",
    "print(endpoints)"
   ]
  },
  {
   "cell_type": "markdown",
   "metadata": {},
   "source": [
    "## segments"
   ]
  },
  {
   "cell_type": "code",
   "execution_count": 5,
   "metadata": {
    "ExecuteTime": {
     "end_time": "2019-09-11T09:29:08.302403Z",
     "start_time": "2019-09-11T09:29:08.272295Z"
    }
   },
   "outputs": [
    {
     "name": "stdout",
     "output_type": "stream",
     "text": [
      "[['T0', 'L0'], ['T1', 'L1'], ['T0', 'R0'], ['T1', 'R1'], ['T2', 'R'], ['T2', 'R1'], ['L', 'R0'], ['L1', 'B0'], ['L0', 'B0']]\n"
     ]
    }
   ],
   "source": [
    "all_segs = []\n",
    "\n",
    "topleft = (c[0]+c[1])-(c[2]+c[3])\n",
    "for i in range(topleft):\n",
    "    seg = segment([endpoints[0][i], endpoints[1][i]])\n",
    "    all_segs.append(seg)\n",
    "\n",
    "remaining = []\n",
    "remaining.append(list(reversed(endpoints[0][topleft:]))+endpoints[1][topleft:])\n",
    "remaining.append(endpoints[3]+endpoints[2])\n",
    "#print(remaining)\n",
    "\n",
    "for i in range(s-topleft):\n",
    "    all_segs.append(segment([remaining[0][i], remaining[1][i]]))\n",
    "\n",
    "print([s.show() for s in all_segs])"
   ]
  },
  {
   "cell_type": "markdown",
   "metadata": {},
   "source": [
    "## 接続行列の生成"
   ]
  },
  {
   "cell_type": "code",
   "execution_count": 6,
   "metadata": {
    "ExecuteTime": {
     "end_time": "2019-09-11T09:29:08.326900Z",
     "start_time": "2019-09-11T09:29:08.307473Z"
    }
   },
   "outputs": [
    {
     "name": "stdout",
     "output_type": "stream",
     "text": [
      "[[ 1  0  0 -1  0  0  0  0  0  0]\n",
      " [ 0  1  0  0 -1  0  0  0  0  0]\n",
      " [ 1  0  0  0  0  0  0 -1  0  0]\n",
      " [ 0  1  0  0  0  0  0  0 -1  0]\n",
      " [ 0  0  1  0  0  0  0  0  0 -1]\n",
      " [ 0  0  1  0  0  0  0  0 -1  0]\n",
      " [ 0  0  0  0  0  1  0 -1  0  0]\n",
      " [ 0  0  0  0  1  0 -1  0  0  0]\n",
      " [ 0  0  0  1  0  0 -1  0  0  0]\n",
      " [ 0  0  0  0  0  1  0  0  0  0]]\n"
     ]
    }
   ],
   "source": [
    "M = np.zeros((s,s+1), dtype=int)\n",
    "\n",
    "columns = sum([endpoints[i][:c[i]+(i%2)] for i in range(4)],[])\n",
    "#print(columns)\n",
    "\n",
    "for i in range(len(all_segs)):\n",
    "    seg = all_segs[i]\n",
    "#    print(seg.show(), columns.index(seg.ends[0]), columns.index(seg.ends[1]))\n",
    "    M[i][columns.index(seg.ends[0])] = 1\n",
    "    M[i][columns.index(seg.ends[1])] = -1\n",
    "\n",
    "C = np.roll(np.eye(1, s+1, dtype=int), shift=c[0]+c[1], axis=1)\n",
    "M = np.r_[M, C]\n",
    "print(M)"
   ]
  },
  {
   "cell_type": "code",
   "execution_count": 7,
   "metadata": {
    "ExecuteTime": {
     "end_time": "2019-09-11T09:29:08.352923Z",
     "start_time": "2019-09-11T09:29:08.330218Z"
    }
   },
   "outputs": [
    {
     "data": {
      "text/plain": [
       "-1.0"
      ]
     },
     "execution_count": 7,
     "metadata": {},
     "output_type": "execute_result"
    }
   ],
   "source": [
    "np.linalg.det(M)"
   ]
  },
  {
   "cell_type": "markdown",
   "metadata": {},
   "source": [
    "## Experiments"
   ]
  },
  {
   "cell_type": "code",
   "execution_count": 13,
   "metadata": {
    "ExecuteTime": {
     "end_time": "2019-09-11T09:30:38.578178Z",
     "start_time": "2019-09-11T09:30:38.571879Z"
    }
   },
   "outputs": [],
   "source": [
    "def elem_matrix(n,i,j):\n",
    "    P = np.eye(n,n, dtype=int)\n",
    "    P[i][j] = 1\n",
    "    return P\n",
    "def P(n,i,j):\n",
    "    return elem_matrix(n,i,j)"
   ]
  },
  {
   "cell_type": "code",
   "execution_count": 22,
   "metadata": {
    "ExecuteTime": {
     "end_time": "2019-09-11T09:33:38.637242Z",
     "start_time": "2019-09-11T09:33:38.629175Z"
    },
    "scrolled": true
   },
   "outputs": [
    {
     "name": "stdout",
     "output_type": "stream",
     "text": [
      "[[ 2  1  0 -1 -1  0  0  0  0  0]\n",
      " [ 1  1  0  0 -1  0  0  0  0  0]\n",
      " [ 1  0  0  0  0  0  0 -1  0  0]\n",
      " [ 1  1  0  0  0  0  0  0 -1  0]\n",
      " [ 0  0  1  0  0  0  0  0  0 -1]\n",
      " [ 0  0  1  0  0  0  0  0 -1  0]\n",
      " [ 0  0  0  0  0  1  0 -1  0  0]\n",
      " [ 0  0  0  0  1  0 -1  0  0  0]\n",
      " [ 0  0  0  1  0  0 -1  0  0  0]\n",
      " [ 0  0  0  0  0  1  0  0  0  0]]\n"
     ]
    }
   ],
   "source": [
    "N = M\n",
    "N = N@P(s+1,1,0)\n",
    "N = P(s+1,0,1)@N\n",
    "\n",
    "print(N)"
   ]
  },
  {
   "cell_type": "code",
   "execution_count": 10,
   "metadata": {
    "ExecuteTime": {
     "end_time": "2019-09-11T09:29:28.581715Z",
     "start_time": "2019-09-11T09:29:28.575476Z"
    }
   },
   "outputs": [
    {
     "name": "stdout",
     "output_type": "stream",
     "text": [
      "[3, 2, 1, 2]\n"
     ]
    }
   ],
   "source": [
    "print(c)"
   ]
  },
  {
   "cell_type": "markdown",
   "metadata": {},
   "source": [
    "## TODO"
   ]
  },
  {
   "cell_type": "markdown",
   "metadata": {
    "ExecuteTime": {
     "end_time": "2019-09-10T07:49:47.242251Z",
     "start_time": "2019-09-10T07:49:47.235409Z"
    }
   },
   "source": [
    "[x] 接続行列の生成について。quasi-cord が $\\tau + \\lambda = \\beta + \\rho$ の場合しかうまく行ってない。"
   ]
  }
 ],
 "metadata": {
  "kernelspec": {
   "display_name": "Python 3",
   "language": "python",
   "name": "python3"
  },
  "toc": {
   "base_numbering": 1,
   "nav_menu": {},
   "number_sections": false,
   "sideBar": true,
   "skip_h1_title": true,
   "title_cell": "Table of Contents",
   "title_sidebar": "Contents",
   "toc_cell": false,
   "toc_position": {},
   "toc_section_display": true,
   "toc_window_display": false
  },
  "varInspector": {
   "cols": {
    "lenName": 16,
    "lenType": 16,
    "lenVar": 40
   },
   "kernels_config": {
    "python": {
     "delete_cmd_postfix": "",
     "delete_cmd_prefix": "del ",
     "library": "var_list.py",
     "varRefreshCmd": "print(var_dic_list())"
    },
    "r": {
     "delete_cmd_postfix": ") ",
     "delete_cmd_prefix": "rm(",
     "library": "var_list.r",
     "varRefreshCmd": "cat(var_dic_list()) "
    }
   },
   "types_to_exclude": [
    "module",
    "function",
    "builtin_function_or_method",
    "instance",
    "_Feature"
   ],
   "window_display": false
  }
 },
 "nbformat": 4,
 "nbformat_minor": 2
}
