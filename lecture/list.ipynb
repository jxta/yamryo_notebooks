{
 "cells": [
  {
   "cell_type": "markdown",
   "metadata": {},
   "source": [
    "# 1. List"
   ]
  },
  {
   "cell_type": "code",
   "execution_count": null,
   "metadata": {},
   "outputs": [],
   "source": [
    "list01 = [1,2,3,4,5]; list01"
   ]
  },
  {
   "cell_type": "code",
   "execution_count": null,
   "metadata": {},
   "outputs": [],
   "source": [
    "list02 = list(range(5)); list02"
   ]
  },
  {
   "cell_type": "code",
   "execution_count": null,
   "metadata": {},
   "outputs": [],
   "source": [
    "list03 = list(range(1,5+1)); list03"
   ]
  },
  {
   "cell_type": "code",
   "execution_count": null,
   "metadata": {},
   "outputs": [],
   "source": [
    "list04 = [k for k in range(1,5+1)]; list04"
   ]
  },
  {
   "cell_type": "code",
   "execution_count": null,
   "metadata": {},
   "outputs": [],
   "source": [
    "list05 = []\n",
    "for k in range(1,5+1):\n",
    "    list05.append(k)\n",
    "list05"
   ]
  },
  {
   "cell_type": "code",
   "execution_count": null,
   "metadata": {},
   "outputs": [],
   "source": [
    "list05 + [6,7]"
   ]
  },
  {
   "cell_type": "markdown",
   "metadata": {},
   "source": [
    "# 2. List Methods"
   ]
  },
  {
   "cell_type": "code",
   "execution_count": null,
   "metadata": {},
   "outputs": [],
   "source": [
    "list07 = ['larry', 'curly', 'moe']\n",
    "list07.append('shemp')         ## append elem at end\n",
    "list07.insert(0, 'xxx')        ## insert elem at index 0\n",
    "list07.extend(['yyy', 'zzz'])  ## add list of elems at end\n",
    "print(list07)                  \n",
    "print(list07.index('curly'))   \n",
    "\n",
    "list07.remove('curly')         ## search and remove that element\n",
    "poped_elm = list07.pop(1)      ## removes and returns 'larry'\n",
    "print(poped_elm)\n",
    "print(list07)                  "
   ]
  },
  {
   "cell_type": "markdown",
   "metadata": {},
   "source": [
    "# 3. Exercise"
   ]
  },
  {
   "cell_type": "markdown",
   "metadata": {},
   "source": [
    "## Count the number of each letter in a given string."
   ]
  },
  {
   "cell_type": "code",
   "execution_count": 62,
   "metadata": {},
   "outputs": [],
   "source": [
    "# a = 'Mathematics'\n",
    "a = 'Coding with Python3 on Jupyter Notebook is fun!'"
   ]
  },
  {
   "cell_type": "markdown",
   "metadata": {},
   "source": [
    "0) Preperation"
   ]
  },
  {
   "cell_type": "code",
   "execution_count": 2,
   "metadata": {},
   "outputs": [
    {
     "data": {
      "text/plain": [
       "[['M', 1], ['a', 1], ['t', 1], ['h', 1], ['e', 1], ['m', 1]]"
      ]
     },
     "execution_count": 2,
     "metadata": {},
     "output_type": "execute_result"
    }
   ],
   "source": [
    "chr = a[0]\n",
    "# 文字と出現回数の列を rtn に格納する。\n",
    "rtn = [[chr,1]]\n",
    "\n",
    "chr = a[1]\n",
    "rtn += [[chr,1]]\n",
    "\n",
    "chr = a[2]\n",
    "rtn += [[chr,1]]\n",
    "\n",
    "chr = a[3]\n",
    "rtn += [[chr,1]]\n",
    "\n",
    "chr = a[4]\n",
    "rtn += [[chr,1]]\n",
    "\n",
    "chr = a[5]\n",
    "# もし、以前に格納したものと同じ文字なら、そのカウントを+1する。\n",
    "flag = 0\n",
    "for elm in rtn:\n",
    "    if elm[0] == chr:\n",
    "        elm[1] += 1\n",
    "        flag = 1\n",
    "if flag == 0:\n",
    "    rtn += [[chr,1]]\n",
    "\n",
    "rtn"
   ]
  },
  {
   "cell_type": "markdown",
   "metadata": {},
   "source": [
    "1) First step"
   ]
  },
  {
   "cell_type": "code",
   "execution_count": 3,
   "metadata": {},
   "outputs": [
    {
     "name": "stdout",
     "output_type": "stream",
     "text": [
      "[['a', 2], ['c', 1], ['e', 1], ['h', 1], ['i', 1], ['m', 2], ['s', 1], ['t', 2]]\n"
     ]
    }
   ],
   "source": [
    "rtn = []\n",
    "for chr in list(a):\n",
    "    flag = 0\n",
    "    for elm in rtn:\n",
    "        if elm[0] == chr.lower():\n",
    "            elm[1] += 1 \n",
    "            flag = 1\n",
    "    if flag == 0:\n",
    "        rtn += [[chr.lower(),1]]\n",
    " \n",
    "print(sorted(rtn))"
   ]
  },
  {
   "cell_type": "markdown",
   "metadata": {},
   "source": [
    "2) Improve the code"
   ]
  },
  {
   "cell_type": "code",
   "execution_count": 4,
   "metadata": {},
   "outputs": [
    {
     "name": "stdout",
     "output_type": "stream",
     "text": [
      "[['a', 2], ['c', 1], ['e', 1], ['h', 1], ['i', 1], ['m', 2], ['s', 1], ['t', 2]]\n"
     ]
    }
   ],
   "source": [
    "rtn = []\n",
    "for chr in a:\n",
    "    for elm in rtn:\n",
    "        if elm[0] == chr.lower():\n",
    "            elm[1] += 1 \n",
    "            break \n",
    "    else: rtn.append([chr.lower(),1])\n",
    "print(sorted(rtn))"
   ]
  },
  {
   "cell_type": "code",
   "execution_count": 20,
   "metadata": {},
   "outputs": [
    {
     "data": {
      "text/plain": [
       "{'M': 1, 'a': 2, 'c': 1, 'e': 1, 'h': 1, 'i': 1, 'm': 1, 's': 1, 't': 2}"
      ]
     },
     "execution_count": 20,
     "metadata": {},
     "output_type": "execute_result"
    }
   ],
   "source": [
    "dict((c, a.count(c)) for c in a)"
   ]
  },
  {
   "cell_type": "markdown",
   "metadata": {},
   "source": [
    "3) Set it to be a function"
   ]
  },
  {
   "cell_type": "code",
   "execution_count": 5,
   "metadata": {},
   "outputs": [],
   "source": [
    "def count_char(mystr):\n",
    "    rtn = []\n",
    "    for chr in mystr:\n",
    "        for elm in rtn:\n",
    "            if elm[0] == chr.lower():\n",
    "                elm[1] += 1 \n",
    "                break \n",
    "        else: rtn.append([chr.lower(),1])\n",
    "    return sorted(rtn)"
   ]
  },
  {
   "cell_type": "markdown",
   "metadata": {},
   "source": [
    "4) Display as a bar graph"
   ]
  },
  {
   "cell_type": "code",
   "execution_count": 63,
   "metadata": {},
   "outputs": [
    {
     "data": {
      "image/png": "[encoded data removed]",
      "text/plain": [
       "<matplotlib.figure.Figure at 0x7f77b962a2b0>"
      ]
     },
     "metadata": {},
     "output_type": "display_data"
    }
   ],
   "source": [
    "import matplotlib.pyplot as plt\n",
    "%matplotlib inline\n",
    "\n",
    "rtn = sorted(count_char(a))\n",
    "\n",
    "X = list(range(len(rtn)))\n",
    "Xs = [rtn[k][0] for k in range(len(rtn))]\n",
    "Y = [rtn[k][1] for k in range(len(rtn))]\n",
    "\n",
    "plt.figure(figsize=(12,8))\n",
    "\n",
    "ax = plt.subplot()\n",
    "ax.bar(range(len(Y)), Y, facecolor='#9999ff', edgecolor='white')\n",
    "ax.set_xticks(range(len(Y)))\n",
    "ax.set_xticklabels(Xs)\n",
    "\n",
    "plt.show()"
   ]
  },
  {
   "cell_type": "markdown",
   "metadata": {},
   "source": [
    "5) Application"
   ]
  },
  {
   "cell_type": "code",
   "execution_count": 61,
   "metadata": {},
   "outputs": [
    {
     "data": {
      "image/png": "[encoded data removed]",
      "text/plain": [
       "<matplotlib.figure.Figure at 0x7f77b92cf358>"
      ]
     },
     "metadata": {},
     "output_type": "display_data"
    }
   ],
   "source": [
    "import matplotlib.pyplot as plt\n",
    "%matplotlib inline\n",
    "import math\n",
    "\n",
    "sqrt_list = [str(int(math.sqrt(n)*(10**300))) for n in [2,3,5,7,11,13]]\n",
    "data_list = [sorted(count_char(a)) for a in sqrt_list]\n",
    "\n",
    "rtn = data_list[0]\n",
    "X = list(range(len(rtn)))\n",
    "Xs = [rtn[k][0] for k in range(len(rtn))]\n",
    "Y = [rtn[k][1] for k in range(len(rtn))]\n",
    "\n",
    "plt.figure(figsize=(12,8))\n",
    "\n",
    "ax = plt.subplot()\n",
    "ax.bar(range(len(Y)), Y, facecolor='#9999ff', edgecolor='white')\n",
    "ax.set_xticks(range(len(Y)))\n",
    "ax.set_xticklabels(Xs)\n",
    "\n",
    "plt.show()"
   ]
  },
  {
   "cell_type": "code",
   "execution_count": null,
   "metadata": {},
   "outputs": [],
   "source": []
  }
 ],
 "metadata": {
  "kernelspec": {
   "display_name": "Python 3",
   "language": "python",
   "name": "python3"
  },
  "language_info": {
   "codemirror_mode": {
    "name": "ipython",
    "version": 3
   },
   "file_extension": ".py",
   "mimetype": "text/x-python",
   "name": "python",
   "nbconvert_exporter": "python",
   "pygments_lexer": "ipython3",
   "version": "3.6.4"
  },
  "toc": {
   "nav_menu": {},
   "number_sections": true,
   "sideBar": true,
   "skip_h1_title": false,
   "title_cell": "Table of Contents",
   "title_sidebar": "Contents",
   "toc_cell": false,
   "toc_position": {},
   "toc_section_display": true,
   "toc_window_display": false
  },
  "varInspector": {
   "cols": {
    "lenName": 16,
    "lenType": 16,
    "lenVar": 40
   },
   "kernels_config": {
    "python": {
     "delete_cmd_postfix": "",
     "delete_cmd_prefix": "del ",
     "library": "var_list.py",
     "varRefreshCmd": "print(var_dic_list())"
    },
    "r": {
     "delete_cmd_postfix": ") ",
     "delete_cmd_prefix": "rm(",
     "library": "var_list.r",
     "varRefreshCmd": "cat(var_dic_list()) "
    }
   },
   "types_to_exclude": [
    "module",
    "function",
    "builtin_function_or_method",
    "instance",
    "_Feature"
   ],
   "window_display": false
  }
 },
 "nbformat": 4,
 "nbformat_minor": 2
}
