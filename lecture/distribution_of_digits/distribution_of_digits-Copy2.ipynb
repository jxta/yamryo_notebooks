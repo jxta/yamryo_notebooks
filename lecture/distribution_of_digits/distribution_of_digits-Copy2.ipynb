{
 "cells": [
  {
   "cell_type": "markdown",
   "metadata": {},
   "source": [
    "# Distribution of digits in the decimal representation of the square root of primes"
   ]
  },
  {
   "cell_type": "code",
   "execution_count": null,
   "metadata": {},
   "outputs": [],
   "source": [
    "f = 5; l = 20\n",
    "num = Decimal(3).sqrt()*(10**f)\n",
    "print(num, int(num), num - int(num), int((num - int(num))*(10**l)))"
   ]
  },
  {
   "cell_type": "code",
   "execution_count": 1,
   "metadata": {
    "ExecuteTime": {
     "end_time": "2018-06-05T08:19:56.010169Z",
     "start_time": "2018-06-05T08:19:55.437919Z"
    }
   },
   "outputs": [],
   "source": [
    "from decimal import *\n",
    "from tqdm import tqdm\n",
    "import matplotlib.pyplot as plt\n",
    "%matplotlib inline"
   ]
  },
  {
   "cell_type": "code",
   "execution_count": 2,
   "metadata": {
    "ExecuteTime": {
     "end_time": "2018-06-05T08:19:58.626374Z",
     "start_time": "2018-06-05T08:19:58.616375Z"
    }
   },
   "outputs": [],
   "source": [
    "def clip(dec, first, last):\n",
    "#     getcontext().prec = last\n",
    "    \n",
    "    if last - first <= 0:\n",
    "        print(\"Argument Error: {} is greater than {}.\".format(first, last))\n",
    "    else:\n",
    "        int_length = len(str(int(dec)))\n",
    "        mstr = format(dec, '.{}f'.format(last-int_length)).replace('.','')\n",
    "    \n",
    "    return mstr[first:]"
   ]
  },
  {
   "cell_type": "code",
   "execution_count": 3,
   "metadata": {
    "ExecuteTime": {
     "end_time": "2018-06-05T08:19:59.157026Z",
     "start_time": "2018-06-05T08:19:59.152540Z"
    }
   },
   "outputs": [],
   "source": [
    "def get_hist(mstr):\n",
    "    return {str(c): mstr.count(str(c)) for c in range(10)}"
   ]
  },
  {
   "cell_type": "code",
   "execution_count": 4,
   "metadata": {
    "ExecuteTime": {
     "end_time": "2018-06-05T08:20:29.635006Z",
     "start_time": "2018-06-05T08:20:29.205643Z"
    }
   },
   "outputs": [
    {
     "data": {
      "text/plain": [
       "<Container object of 10 artists>"
      ]
     },
     "execution_count": 4,
     "metadata": {},
     "output_type": "execute_result"
    },
    {
     "data": {
      "image/png": "[encoded data removed]",
      "text/plain": [
       "<matplotlib.figure.Figure at 0x108f82668>"
      ]
     },
     "metadata": {},
     "output_type": "display_data"
    }
   ],
   "source": [
    "getcontext().prec = 10**3\n",
    "dec = Decimal(2).sqrt()\n",
    "\n",
    "mstr = clip(Decimal(2).sqrt(), 0, 10)\n",
    "hist = get_hist(mstr) \n",
    "Y = [list(hist.values())]\n",
    "plt.bar(range(10), Y[0])\n",
    "\n",
    "mstr = clip(Decimal(2).sqrt(), 10, 100)\n",
    "hist = get_hist(mstr)\n",
    "Y.append(list(hist.values()))\n",
    "plt.bar(range(10), Y[1], bottom = Y[0])\n",
    "\n",
    "mstr = clip(Decimal(2).sqrt(), 100, 1000)\n",
    "hist = get_hist(mstr)\n",
    "Y.append(list(hist.values()))\n",
    "plt.bar(range(10), Y[2], bottom = [Y[0][k]+Y[1][k] for k in range(10)])"
   ]
  },
  {
   "cell_type": "code",
   "execution_count": 11,
   "metadata": {
    "ExecuteTime": {
     "end_time": "2018-06-05T08:26:38.124439Z",
     "start_time": "2018-06-05T08:26:38.112503Z"
    }
   },
   "outputs": [],
   "source": [
    "num = 5\n",
    "odr = 3\n",
    "\n",
    "getcontext().prec = 10**odr\n",
    "dec = Decimal(num).sqrt()\n",
    "\n",
    "odrs = [10**k for k in range(odr + 1)]"
   ]
  },
  {
   "cell_type": "code",
   "execution_count": 12,
   "metadata": {
    "ExecuteTime": {
     "end_time": "2018-06-05T08:26:39.023461Z",
     "start_time": "2018-06-05T08:26:38.709495Z"
    },
    "code_folding": []
   },
   "outputs": [
    {
     "name": "stderr",
     "output_type": "stream",
     "text": [
      "100%|██████████| 3/3 [00:00<00:00, 30.66it/s]\n"
     ]
    },
    {
     "data": {
      "image/png": "[encoded data removed]",
      "text/plain": [
       "<matplotlib.figure.Figure at 0x112737ef0>"
      ]
     },
     "metadata": {},
     "output_type": "display_data"
    }
   ],
   "source": [
    "plt.figure(figsize=(12,10))\n",
    "\n",
    "Y_shift = [0 for k in range(10)]\n",
    "for i in tqdm(range(odr)):\n",
    "    mstr = clip(dec, odrs[i], odrs[i+1])\n",
    "    hist_dic = get_hist(mstr)\n",
    "    Y = list(hist_dic.values())\n",
    "    plt.bar(range(10), Y, bottom = Y_shift)\n",
    "    Y_shift = [Y_shift[k]+Y[k] for k in range(10)]\n",
    "    \n",
    "plt.show()"
   ]
  },
  {
   "cell_type": "code",
   "execution_count": 13,
   "metadata": {
    "ExecuteTime": {
     "end_time": "2018-06-05T08:26:50.638071Z",
     "start_time": "2018-06-05T08:26:50.032923Z"
    },
    "code_folding": []
   },
   "outputs": [
    {
     "name": "stderr",
     "output_type": "stream",
     "text": [
      "100%|██████████| 3/3 [00:00<00:00, 28.69it/s]\n"
     ]
    },
    {
     "data": {
      "image/png": "[encoded data removed]",
      "text/plain": [
       "<matplotlib.figure.Figure at 0x1120995f8>"
      ]
     },
     "metadata": {},
     "output_type": "display_data"
    }
   ],
   "source": [
    "plt.figure(figsize=(12,10))\n",
    "\n",
    "Y_shift = [0 for k in range(10)]\n",
    "for i in tqdm(range(odr)):\n",
    "    mstr = clip(dec, odrs[i], odrs[i+1])\n",
    "    hist_dic = get_hist(mstr)\n",
    "    Y = list(hist_dic.values())\n",
    "    plt.bar(range(10), Y, bottom = Y_shift)\n",
    "    Y_shift = [Y_shift[k]+Y[k] for k in range(10)]\n",
    "    plt.yscale('symlog')\n",
    "    \n",
    "plt.show()"
   ]
  },
  {
   "cell_type": "code",
   "execution_count": null,
   "metadata": {},
   "outputs": [],
   "source": [
    "odr = 6\n",
    "getcontext().prec = 10**odr\n",
    "odrs = [10**k for k in range(odr + 1)]"
   ]
  },
  {
   "cell_type": "code",
   "execution_count": null,
   "metadata": {
    "ExecuteTime": {
     "end_time": "2018-05-15T10:00:24.491893Z",
     "start_time": "2018-05-15T10:00:23.303050Z"
    }
   },
   "outputs": [],
   "source": [
    "plt.figure(figsize=(16,12))\n",
    "\n",
    "nums = [2, 3, 5, 7, 11, 13, 17, 19, 23]\n",
    "for k in tqdm(range(len(nums))):\n",
    "    dec = Decimal(nums[k]).sqrt()\n",
    "    \n",
    "    plt.subplot(331+k)\n",
    "    plt.title('sqrt of {}'.format(nums[k]))\n",
    "\n",
    "    Y_matrix = [[0 for k in range(10)]]\n",
    "    for i in range(odr):\n",
    "        mstr = clip(dec, odrs[i], odrs[i+1])\n",
    "        hist_dic = get_digits_hist(mstr)\n",
    "        Y_matrix.append(list(hist_dic.values()))\n",
    "        plt.bar(range(10), Y_matrix[-1], bottom = Y_matrix[-2])\n",
    "        plt.xticks(range(10), hist_dic.keys())\n",
    "    \n",
    "plt.show()"
   ]
  },
  {
   "cell_type": "code",
   "execution_count": null,
   "metadata": {},
   "outputs": [],
   "source": []
  }
 ],
 "metadata": {
  "kernelspec": {
   "display_name": "Python 3",
   "language": "python",
   "name": "python3"
  },
  "language_info": {
   "codemirror_mode": {
    "name": "ipython",
    "version": 3
   },
   "file_extension": ".py",
   "mimetype": "text/x-python",
   "name": "python",
   "nbconvert_exporter": "python",
   "pygments_lexer": "ipython3",
   "version": "3.6.4"
  },
  "toc": {
   "nav_menu": {},
   "number_sections": true,
   "sideBar": true,
   "skip_h1_title": false,
   "title_cell": "Table of Contents",
   "title_sidebar": "Contents",
   "toc_cell": false,
   "toc_position": {},
   "toc_section_display": true,
   "toc_window_display": false
  },
  "varInspector": {
   "cols": {
    "lenName": 16,
    "lenType": 16,
    "lenVar": 40
   },
   "kernels_config": {
    "python": {
     "delete_cmd_postfix": "",
     "delete_cmd_prefix": "del ",
     "library": "var_list.py",
     "varRefreshCmd": "print(var_dic_list())"
    },
    "r": {
     "delete_cmd_postfix": ") ",
     "delete_cmd_prefix": "rm(",
     "library": "var_list.r",
     "varRefreshCmd": "cat(var_dic_list()) "
    }
   },
   "types_to_exclude": [
    "module",
    "function",
    "builtin_function_or_method",
    "instance",
    "_Feature"
   ],
   "window_display": false
  }
 },
 "nbformat": 4,
 "nbformat_minor": 2
}
