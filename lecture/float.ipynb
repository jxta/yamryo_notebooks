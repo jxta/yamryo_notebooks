{
 "cells": [
  {
   "cell_type": "code",
   "execution_count": 15,
   "metadata": {
    "ExecuteTime": {
     "end_time": "2018-05-15T23:43:10.541009Z",
     "start_time": "2018-05-15T23:43:10.535439Z"
    }
   },
   "outputs": [
    {
     "name": "stdout",
     "output_type": "stream",
     "text": [
      "0.1*1 == 0.1: True\n",
      "0.1*2 == 0.2: True\n",
      "0.1*3 == 0.3: False\n",
      "0.1*4 == 0.4: True\n",
      "0.1*5 == 0.5: True\n",
      "0.1*6 == 0.6: False\n",
      "0.1*7 == 0.7: False\n",
      "0.1*8 == 0.8: True\n",
      "0.1*9 == 0.9: True\n"
     ]
    }
   ],
   "source": [
    "for k in range(1,10):\n",
    "    print(\"0.1*{} == 0.{}: {}\".format(k,k, 0.1*k == float('0.'+str(k))))"
   ]
  },
  {
   "cell_type": "code",
   "execution_count": 35,
   "metadata": {
    "ExecuteTime": {
     "end_time": "2018-05-15T23:49:41.923511Z",
     "start_time": "2018-05-15T23:49:41.915619Z"
    }
   },
   "outputs": [
    {
     "data": {
      "text/plain": [
       "('0.20000000000000001110223024625156540423631668090820',\n",
       " '0.20000000000000001110223024625156540423631668090820')"
      ]
     },
     "execution_count": 35,
     "metadata": {},
     "output_type": "execute_result"
    }
   ],
   "source": [
    "format(0.1,'.50f')\n",
    "format(0.1*2, '.50f'),format(0.2, '.50f')"
   ]
  },
  {
   "cell_type": "code",
   "execution_count": 44,
   "metadata": {
    "ExecuteTime": {
     "end_time": "2018-05-15T23:53:46.608544Z",
     "start_time": "2018-05-15T23:53:46.600054Z"
    }
   },
   "outputs": [
    {
     "data": {
      "text/plain": [
       "('2.0000000000000000000000000000000000000000000000000000000000000000000000000000000000000000000000000000',\n",
       " '2.0000000000000000000000000000000000000000000000000000000000000000000000000000000000000000000000000000')"
      ]
     },
     "execution_count": 44,
     "metadata": {},
     "output_type": "execute_result"
    }
   ],
   "source": [
    "import math\n",
    "import numpy as np\n",
    "\n",
    "format(math.sqrt(4),'.100f'), format(np.sqrt(4), '.100f')"
   ]
  },
  {
   "cell_type": "code",
   "execution_count": 50,
   "metadata": {
    "ExecuteTime": {
     "end_time": "2018-05-15T23:56:21.603803Z",
     "start_time": "2018-05-15T23:56:21.598776Z"
    }
   },
   "outputs": [
    {
     "data": {
      "text/plain": [
       "20000000000000000318057822195198360936721617127890562779562655115495677544340762121626939971713630208"
      ]
     },
     "execution_count": 50,
     "metadata": {},
     "output_type": "execute_result"
    }
   ],
   "source": [
    "int(math.sqrt(4)*(10**100))"
   ]
  },
  {
   "cell_type": "code",
   "execution_count": null,
   "metadata": {},
   "outputs": [],
   "source": []
  }
 ],
 "metadata": {
  "kernelspec": {
   "display_name": "Python 3",
   "language": "python",
   "name": "python3"
  },
  "language_info": {
   "codemirror_mode": {
    "name": "ipython",
    "version": 3
   },
   "file_extension": ".py",
   "mimetype": "text/x-python",
   "name": "python",
   "nbconvert_exporter": "python",
   "pygments_lexer": "ipython3",
   "version": "3.6.4"
  },
  "toc": {
   "nav_menu": {},
   "number_sections": true,
   "sideBar": true,
   "skip_h1_title": false,
   "title_cell": "Table of Contents",
   "title_sidebar": "Contents",
   "toc_cell": false,
   "toc_position": {},
   "toc_section_display": true,
   "toc_window_display": false
  },
  "varInspector": {
   "cols": {
    "lenName": 16,
    "lenType": 16,
    "lenVar": 40
   },
   "kernels_config": {
    "python": {
     "delete_cmd_postfix": "",
     "delete_cmd_prefix": "del ",
     "library": "var_list.py",
     "varRefreshCmd": "print(var_dic_list())"
    },
    "r": {
     "delete_cmd_postfix": ") ",
     "delete_cmd_prefix": "rm(",
     "library": "var_list.r",
     "varRefreshCmd": "cat(var_dic_list()) "
    }
   },
   "types_to_exclude": [
    "module",
    "function",
    "builtin_function_or_method",
    "instance",
    "_Feature"
   ],
   "window_display": false
  }
 },
 "nbformat": 4,
 "nbformat_minor": 2
}
