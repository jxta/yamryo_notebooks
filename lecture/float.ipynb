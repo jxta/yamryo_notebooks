{
 "cells": [
  {
   "cell_type": "markdown",
   "metadata": {},
   "source": [
    "# float type and decimal type"
   ]
  },
  {
   "cell_type": "markdown",
   "metadata": {},
   "source": [
    "## Observation"
   ]
  },
  {
   "cell_type": "code",
   "execution_count": 1,
   "metadata": {
    "ExecuteTime": {
     "end_time": "2018-05-17T07:26:40.033381Z",
     "start_time": "2018-05-17T07:26:40.028143Z"
    }
   },
   "outputs": [
    {
     "name": "stdout",
     "output_type": "stream",
     "text": [
      "0.1*1 == 0.1: True\n",
      "0.1*2 == 0.2: True\n",
      "0.1*3 == 0.3: False\n",
      "0.1*4 == 0.4: True\n",
      "0.1*5 == 0.5: True\n",
      "0.1*6 == 0.6: False\n",
      "0.1*7 == 0.7: False\n",
      "0.1*8 == 0.8: True\n",
      "0.1*9 == 0.9: True\n"
     ]
    }
   ],
   "source": [
    "for k in range(1,10):\n",
    "    print(\"0.1*{} == 0.{}: {}\".format(k,k, 0.1*k == float('0.'+str(k))))"
   ]
  },
  {
   "cell_type": "markdown",
   "metadata": {},
   "source": [
    "## Verification"
   ]
  },
  {
   "cell_type": "markdown",
   "metadata": {},
   "source": [
    "### What is the float type?"
   ]
  },
  {
   "cell_type": "code",
   "execution_count": 84,
   "metadata": {
    "ExecuteTime": {
     "end_time": "2018-05-17T08:49:13.184114Z",
     "start_time": "2018-05-17T08:49:13.178708Z"
    }
   },
   "outputs": [
    {
     "data": {
      "text/plain": [
       "Context(prec=50, rounding=ROUND_HALF_EVEN, Emin=-999999, Emax=999999, capitals=1, clamp=0, flags=[Inexact, FloatOperation, Rounded], traps=[InvalidOperation, DivisionByZero, Overflow])"
      ]
     },
     "execution_count": 84,
     "metadata": {},
     "output_type": "execute_result"
    }
   ],
   "source": [
    "from decimal import *\n",
    "getcontext()"
   ]
  },
  {
   "cell_type": "code",
   "execution_count": 85,
   "metadata": {
    "ExecuteTime": {
     "end_time": "2018-05-17T08:49:18.483114Z",
     "start_time": "2018-05-17T08:49:18.475868Z"
    }
   },
   "outputs": [
    {
     "name": "stdout",
     "output_type": "stream",
     "text": [
      "0.1000000000000000055511151231257827021181583404541015625\n",
      "0.1\n",
      "__123456789012345678901234567890\n"
     ]
    }
   ],
   "source": [
    "# print(format(0.1,'.50f'))\n",
    "# print(Decimal.from_float(0.1))\n",
    "print(Decimal(0.1))\n",
    "print(Decimal('0.1'))\n",
    "# print(format(Decimal('0.1'), '.50f'))\n",
    "\n",
    "print('__123456789012345678901234567890')"
   ]
  },
  {
   "cell_type": "code",
   "execution_count": 74,
   "metadata": {
    "ExecuteTime": {
     "end_time": "2018-05-17T08:33:47.367819Z",
     "start_time": "2018-05-17T08:33:47.361081Z"
    }
   },
   "outputs": [
    {
     "name": "stdout",
     "output_type": "stream",
     "text": [
      "0.1*3 ---> 0.3000000000000000444089209850062616169452667236328125\n",
      "0.3   ---> 0.299999999999999988897769753748434595763683319091796875\n",
      "           __123456789012345678901234567890\n"
     ]
    }
   ],
   "source": [
    "num = 3\n",
    "\n",
    "print('0.1*{} ---> {}'.format(num, Decimal(0.1*num)))\n",
    "print('0.{}   ---> {}'.format(num, Decimal(num/10)))\n",
    "print('           __123456789012345678901234567890')"
   ]
  },
  {
   "cell_type": "code",
   "execution_count": 90,
   "metadata": {
    "ExecuteTime": {
     "end_time": "2018-05-17T08:50:36.573498Z",
     "start_time": "2018-05-17T08:50:36.567491Z"
    }
   },
   "outputs": [
    {
     "name": "stdout",
     "output_type": "stream",
     "text": [
      "3602879701896397/36028797018963968\n",
      "2**55 = 36028797018963968\n"
     ]
    }
   ],
   "source": [
    "from fractions import Fraction\n",
    "\n",
    "# print(Fraction.from_float(0.1))\n",
    "print(Fraction(0.1))\n",
    "print('2**55 = {}'.format(2**55))"
   ]
  },
  {
   "cell_type": "markdown",
   "metadata": {},
   "source": [
    "### Square roots"
   ]
  },
  {
   "cell_type": "code",
   "execution_count": 18,
   "metadata": {
    "ExecuteTime": {
     "end_time": "2018-05-17T07:32:31.931383Z",
     "start_time": "2018-05-17T07:32:31.922257Z"
    }
   },
   "outputs": [
    {
     "name": "stdout",
     "output_type": "stream",
     "text": [
      "1.4142135623730951454746218587388284504413604736328125\n",
      "1.4142135623730951454746218587388284504413604736328125\n",
      "1.414213562373095048801688724\n",
      "__123456789012345678901234567890\n"
     ]
    }
   ],
   "source": [
    "import math\n",
    "import numpy as np\n",
    "\n",
    "num = 2\n",
    "\n",
    "print(Decimal.from_float(math.sqrt(num)))\n",
    "print(Decimal.from_float(np.sqrt(num)))\n",
    "print(Decimal(num).sqrt())\n",
    "print('__123456789012345678901234567890')"
   ]
  },
  {
   "cell_type": "code",
   "execution_count": 55,
   "metadata": {
    "ExecuteTime": {
     "end_time": "2018-05-17T07:42:55.623072Z",
     "start_time": "2018-05-17T07:42:55.616346Z"
    }
   },
   "outputs": [
    {
     "data": {
      "text/plain": [
       "Decimal('200000000000000014481069235364401')"
      ]
     },
     "execution_count": 55,
     "metadata": {},
     "output_type": "execute_result"
    }
   ],
   "source": [
    "dec = Decimal(14142135623730951)\n",
    "dec**2"
   ]
  },
  {
   "cell_type": "markdown",
   "metadata": {},
   "source": [
    "## Using Decimal"
   ]
  },
  {
   "cell_type": "code",
   "execution_count": 82,
   "metadata": {
    "ExecuteTime": {
     "end_time": "2018-05-17T08:44:57.903961Z",
     "start_time": "2018-05-17T08:44:57.897503Z"
    }
   },
   "outputs": [
    {
     "name": "stdout",
     "output_type": "stream",
     "text": [
      "Decimal('0.1')*1) == Decimal('0.1'): True\n",
      "Decimal('0.1')*2) == Decimal('0.2'): True\n",
      "Decimal('0.1')*3) == Decimal('0.3'): True\n",
      "Decimal('0.1')*4) == Decimal('0.4'): True\n",
      "Decimal('0.1')*5) == Decimal('0.5'): True\n",
      "Decimal('0.1')*6) == Decimal('0.6'): True\n",
      "Decimal('0.1')*7) == Decimal('0.7'): True\n",
      "Decimal('0.1')*8) == Decimal('0.8'): True\n",
      "Decimal('0.1')*9) == Decimal('0.9'): True\n"
     ]
    }
   ],
   "source": [
    "for k in range(1,10):\n",
    "    result = (Decimal('0.1')*k == Decimal('0.'+str(k)))\n",
    "    print(\"Decimal('0.1')*{}) == Decimal('0.{}'): {}\".format(k,k, result))"
   ]
  }
 ],
 "metadata": {
  "kernelspec": {
   "display_name": "Python 3",
   "language": "python",
   "name": "python3"
  },
  "language_info": {
   "codemirror_mode": {
    "name": "ipython",
    "version": 3
   },
   "file_extension": ".py",
   "mimetype": "text/x-python",
   "name": "python",
   "nbconvert_exporter": "python",
   "pygments_lexer": "ipython3",
   "version": "3.6.4"
  },
  "toc": {
   "nav_menu": {},
   "number_sections": true,
   "sideBar": true,
   "skip_h1_title": false,
   "title_cell": "Table of Contents",
   "title_sidebar": "Contents",
   "toc_cell": false,
   "toc_position": {},
   "toc_section_display": true,
   "toc_window_display": false
  },
  "varInspector": {
   "cols": {
    "lenName": 16,
    "lenType": 16,
    "lenVar": 40
   },
   "kernels_config": {
    "python": {
     "delete_cmd_postfix": "",
     "delete_cmd_prefix": "del ",
     "library": "var_list.py",
     "varRefreshCmd": "print(var_dic_list())"
    },
    "r": {
     "delete_cmd_postfix": ") ",
     "delete_cmd_prefix": "rm(",
     "library": "var_list.r",
     "varRefreshCmd": "cat(var_dic_list()) "
    }
   },
   "types_to_exclude": [
    "module",
    "function",
    "builtin_function_or_method",
    "instance",
    "_Feature"
   ],
   "window_display": false
  }
 },
 "nbformat": 4,
 "nbformat_minor": 2
}
