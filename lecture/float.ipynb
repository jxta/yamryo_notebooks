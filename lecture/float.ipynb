{
 "cells": [
  {
   "cell_type": "markdown",
   "metadata": {},
   "source": [
    "# float type and decimal type"
   ]
  },
  {
   "cell_type": "markdown",
   "metadata": {},
   "source": [
    "## Observation"
   ]
  },
  {
   "cell_type": "code",
   "execution_count": 1,
   "metadata": {
    "ExecuteTime": {
     "end_time": "2018-05-31T10:22:55.842521Z",
     "start_time": "2018-05-31T10:22:55.835120Z"
    }
   },
   "outputs": [
    {
     "name": "stdout",
     "output_type": "stream",
     "text": [
      "0.1*1 == 0.1: True\n",
      "0.1*2 == 0.2: True\n",
      "0.1*3 == 0.3: False\n",
      "0.1*4 == 0.4: True\n",
      "0.1*5 == 0.5: True\n",
      "0.1*6 == 0.6: False\n",
      "0.1*7 == 0.7: False\n",
      "0.1*8 == 0.8: True\n",
      "0.1*9 == 0.9: True\n"
     ]
    }
   ],
   "source": [
    "for k in range(1,10):\n",
    "    print(\"0.1*{} == 0.{}: {}\".format(k,k, 0.1*k == float('0.'+str(k))))"
   ]
  },
  {
   "cell_type": "markdown",
   "metadata": {},
   "source": [
    "## Verification"
   ]
  },
  {
   "cell_type": "code",
   "execution_count": 2,
   "metadata": {
    "ExecuteTime": {
     "end_time": "2018-05-31T10:22:58.551583Z",
     "start_time": "2018-05-31T10:22:58.532456Z"
    }
   },
   "outputs": [
    {
     "data": {
      "text/plain": [
       "Context(prec=28, rounding=ROUND_HALF_EVEN, Emin=-999999, Emax=999999, capitals=1, clamp=0, flags=[], traps=[InvalidOperation, DivisionByZero, Overflow])"
      ]
     },
     "execution_count": 2,
     "metadata": {},
     "output_type": "execute_result"
    }
   ],
   "source": [
    "from decimal import *\n",
    "getcontext()"
   ]
  },
  {
   "cell_type": "code",
   "execution_count": 19,
   "metadata": {
    "ExecuteTime": {
     "end_time": "2018-05-31T10:27:32.742887Z",
     "start_time": "2018-05-31T10:27:32.736288Z"
    }
   },
   "outputs": [
    {
     "name": "stdout",
     "output_type": "stream",
     "text": [
      "0.1000000000000000055511151231\n",
      "0.1\n",
      "0.1000000000000000000000000000\n",
      "__123456789012345678901234567890\n"
     ]
    }
   ],
   "source": [
    "print(format(0.1,'.28f'))\n",
    "# print(Decimal(0.1))\n",
    "print(Decimal('0.1'))\n",
    "print(format(Decimal('0.1'), '.28f'))\n",
    "\n",
    "print('__123456789012345678901234567890')"
   ]
  },
  {
   "cell_type": "code",
   "execution_count": 5,
   "metadata": {
    "ExecuteTime": {
     "end_time": "2018-05-31T10:23:42.725984Z",
     "start_time": "2018-05-31T10:23:42.718178Z"
    }
   },
   "outputs": [
    {
     "name": "stdout",
     "output_type": "stream",
     "text": [
      "0.1*3 ---> 0.3000000000000000444089209850062616169452667236328125\n",
      "0.3   ---> 0.299999999999999988897769753748434595763683319091796875\n",
      "           __123456789012345678901234567890\n"
     ]
    }
   ],
   "source": [
    "num = 3\n",
    "\n",
    "print('0.1*{} ---> {}'.format(num, Decimal(0.1*num)))\n",
    "print('0.{}   ---> {}'.format(num, Decimal(num/10)))\n",
    "\n",
    "print('           __123456789012345678901234567890')"
   ]
  },
  {
   "cell_type": "markdown",
   "metadata": {},
   "source": [
    "## Calculation using Decimal module"
   ]
  },
  {
   "cell_type": "code",
   "execution_count": 7,
   "metadata": {
    "ExecuteTime": {
     "end_time": "2018-05-31T10:24:08.862552Z",
     "start_time": "2018-05-31T10:24:08.855884Z"
    }
   },
   "outputs": [
    {
     "name": "stdout",
     "output_type": "stream",
     "text": [
      "0.1*3 ---> 0.3\n",
      "0.3   ---> 0.3\n"
     ]
    }
   ],
   "source": [
    "num = 3\n",
    "\n",
    "print('0.1*{} ---> {}'.format(num, Decimal('0.1')*num))\n",
    "print('0.{}   ---> {}'.format(num, num/Decimal('10')))\n",
    "\n",
    "# print('           __123456789012345678901234567890')"
   ]
  },
  {
   "cell_type": "code",
   "execution_count": 9,
   "metadata": {
    "ExecuteTime": {
     "end_time": "2018-05-31T10:24:43.094854Z",
     "start_time": "2018-05-31T10:24:43.087982Z"
    }
   },
   "outputs": [
    {
     "name": "stdout",
     "output_type": "stream",
     "text": [
      "Decimal('0.1')*1) == Decimal('0.1'): True\n",
      "Decimal('0.1')*2) == Decimal('0.2'): True\n",
      "Decimal('0.1')*3) == Decimal('0.3'): True\n",
      "Decimal('0.1')*4) == Decimal('0.4'): True\n",
      "Decimal('0.1')*5) == Decimal('0.5'): True\n",
      "Decimal('0.1')*6) == Decimal('0.6'): True\n",
      "Decimal('0.1')*7) == Decimal('0.7'): True\n",
      "Decimal('0.1')*8) == Decimal('0.8'): True\n",
      "Decimal('0.1')*9) == Decimal('0.9'): True\n"
     ]
    }
   ],
   "source": [
    "for k in range(1,10):\n",
    "    result = (Decimal('0.1')*k == k/Decimal('10'))\n",
    "    print(\"Decimal('0.1')*{}) == Decimal('0.{}'): {}\".format(k,k, result))"
   ]
  },
  {
   "cell_type": "code",
   "execution_count": 10,
   "metadata": {
    "ExecuteTime": {
     "end_time": "2018-05-31T10:25:08.608594Z",
     "start_time": "2018-05-31T10:25:08.595827Z"
    }
   },
   "outputs": [
    {
     "name": "stdout",
     "output_type": "stream",
     "text": [
      "3602879701896397/36028797018963968\n",
      "2**55 = 36028797018963968\n"
     ]
    }
   ],
   "source": [
    "from fractions import Fraction\n",
    "\n",
    "print(Fraction(0.1))\n",
    "print('2**55 = {}'.format(2**55))"
   ]
  },
  {
   "cell_type": "markdown",
   "metadata": {},
   "source": [
    "## Square roots"
   ]
  },
  {
   "cell_type": "code",
   "execution_count": 16,
   "metadata": {
    "ExecuteTime": {
     "end_time": "2018-05-31T10:27:05.036967Z",
     "start_time": "2018-05-31T10:27:05.025590Z"
    }
   },
   "outputs": [
    {
     "name": "stdout",
     "output_type": "stream",
     "text": [
      "1.4142135623730951454746218587\n",
      "1.414213562373095048801688724\n",
      "__123456789012345678901234567890\n"
     ]
    }
   ],
   "source": [
    "import math\n",
    "import numpy as np\n",
    "\n",
    "num = 2\n",
    "\n",
    "print(format(math.sqrt(num), '.28f'))\n",
    "# print(format(np.sqrt(num), '.28f'))\n",
    "print(Decimal(num).sqrt())\n",
    "\n",
    "print('__123456789012345678901234567890')"
   ]
  },
  {
   "cell_type": "code",
   "execution_count": 17,
   "metadata": {
    "ExecuteTime": {
     "end_time": "2018-05-31T10:27:12.247875Z",
     "start_time": "2018-05-31T10:27:12.240385Z"
    }
   },
   "outputs": [
    {
     "name": "stdout",
     "output_type": "stream",
     "text": [
      "2.0000000000000004440892098501\n",
      "1.999999999999999999999999999\n",
      "__123456789012345678901234567890\n"
     ]
    }
   ],
   "source": [
    "# print(Decimal(math.sqrt(num)**2))\n",
    "print(format(math.sqrt(num)**2, '.28f'))\n",
    "print(Decimal(num).sqrt()**2)\n",
    "\n",
    "print('__123456789012345678901234567890')"
   ]
  },
  {
   "cell_type": "code",
   "execution_count": null,
   "metadata": {},
   "outputs": [],
   "source": []
  }
 ],
 "metadata": {
  "kernelspec": {
   "display_name": "Python 3",
   "language": "python",
   "name": "python3"
  },
  "language_info": {
   "codemirror_mode": {
    "name": "ipython",
    "version": 3
   },
   "file_extension": ".py",
   "mimetype": "text/x-python",
   "name": "python",
   "nbconvert_exporter": "python",
   "pygments_lexer": "ipython3",
   "version": "3.6.4"
  },
  "toc": {
   "nav_menu": {},
   "number_sections": true,
   "sideBar": true,
   "skip_h1_title": false,
   "title_cell": "Table of Contents",
   "title_sidebar": "Contents",
   "toc_cell": false,
   "toc_position": {},
   "toc_section_display": true,
   "toc_window_display": false
  },
  "varInspector": {
   "cols": {
    "lenName": 16,
    "lenType": 16,
    "lenVar": 40
   },
   "kernels_config": {
    "python": {
     "delete_cmd_postfix": "",
     "delete_cmd_prefix": "del ",
     "library": "var_list.py",
     "varRefreshCmd": "print(var_dic_list())"
    },
    "r": {
     "delete_cmd_postfix": ") ",
     "delete_cmd_prefix": "rm(",
     "library": "var_list.r",
     "varRefreshCmd": "cat(var_dic_list()) "
    }
   },
   "types_to_exclude": [
    "module",
    "function",
    "builtin_function_or_method",
    "instance",
    "_Feature"
   ],
   "window_display": false
  }
 },
 "nbformat": 4,
 "nbformat_minor": 2
}
