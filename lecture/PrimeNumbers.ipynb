{
 "cells": [
  {
   "cell_type": "markdown",
   "metadata": {},
   "source": [
    "## 素数判定"
   ]
  },
  {
   "cell_type": "code",
   "execution_count": null,
   "metadata": {
    "ExecuteTime": {
     "end_time": "2018-05-18T10:00:17.300969Z",
     "start_time": "2018-05-18T10:00:17.294433Z"
    }
   },
   "outputs": [],
   "source": [
    "import math\n",
    "\n",
    "def is_prime(num):\n",
    "    for k in range(2, int(math.sqrt(num))):\n",
    "        if num%k == 0:\n",
    "            return False\n",
    "            break\n",
    "    else: return True"
   ]
  },
  {
   "cell_type": "code",
   "execution_count": null,
   "metadata": {
    "ExecuteTime": {
     "end_time": "2018-05-18T09:44:05.501775Z",
     "start_time": "2018-05-18T09:44:05.495163Z"
    }
   },
   "outputs": [],
   "source": [
    "N=20\n",
    "nlist = [(i,is_prime(i)) for i in range(2,N)]\n",
    "print(nlist)"
   ]
  },
  {
   "cell_type": "markdown",
   "metadata": {},
   "source": [
    "## 素数の個数"
   ]
  },
  {
   "cell_type": "code",
   "execution_count": null,
   "metadata": {
    "ExecuteTime": {
     "end_time": "2018-05-18T09:44:55.801551Z",
     "start_time": "2018-05-18T09:44:55.729608Z"
    }
   },
   "outputs": [],
   "source": [
    "Num = 3000\n",
    "checklist = [(k, is_prime(k)) for k in range(2, Num+1)]\n",
    "\n",
    "plist = [n[0] for n in checklist if n[1]] #= list(filter(lambda x: x[1], checklist))\n",
    "print(\"There are {} prime numbers up to {}\".format(len(plist), Num))"
   ]
  },
  {
   "cell_type": "markdown",
   "metadata": {},
   "source": [
    "## 素数定理"
   ]
  },
  {
   "cell_type": "code",
   "execution_count": null,
   "metadata": {
    "ExecuteTime": {
     "end_time": "2018-04-12T14:27:35.143Z",
     "start_time": "2018-04-12T14:27:35.115Z"
    }
   },
   "outputs": [],
   "source": [
    "import matplotlib.pyplot as plt\n",
    "%matplotlib inline"
   ]
  },
  {
   "cell_type": "code",
   "execution_count": null,
   "metadata": {
    "ExecuteTime": {
     "end_time": "2018-04-12T14:30:16.620Z",
     "start_time": "2018-04-12T14:27:42.703Z"
    }
   },
   "outputs": [],
   "source": [
    "bp_n = range(5,Num+1)\n",
    "bp_p = [len(list(filter((lambda z: z < x), plist))) for x in bp_n]"
   ]
  },
  {
   "cell_type": "code",
   "execution_count": null,
   "metadata": {
    "ExecuteTime": {
     "end_time": "2018-04-12T14:32:01.764Z",
     "start_time": "2018-04-12T14:30:25.604Z"
    }
   },
   "outputs": [],
   "source": [
    "from sympy import log\n",
    "bp_y = [x/(log(x)-1.08) for x in bp_n]"
   ]
  },
  {
   "cell_type": "code",
   "execution_count": null,
   "metadata": {
    "ExecuteTime": {
     "end_time": "2018-04-12T14:33:39.445Z",
     "start_time": "2018-04-12T14:33:17.182Z"
    }
   },
   "outputs": [],
   "source": [
    "# Make the plot\n",
    "plt.figure(figsize=(16,10))\n",
    "\n",
    "ax = plt.subplot()\n",
    "ax.grid()\n",
    "ax.set(xlabel='number (n)', ylabel='# of primes up to n')\n",
    "\n",
    "plt.plot(bp_n, bp_p, color=\"blue\")\n",
    "plt.plot(bp_n, bp_y, color='green')\n",
    "plt.show()"
   ]
  },
  {
   "cell_type": "markdown",
   "metadata": {},
   "source": [
    "## メルセンヌ素数"
   ]
  },
  {
   "cell_type": "markdown",
   "metadata": {},
   "source": [
    "まずは素数判定関数を少し変更"
   ]
  },
  {
   "cell_type": "code",
   "execution_count": 7,
   "metadata": {
    "ExecuteTime": {
     "end_time": "2018-06-05T17:03:27.503639Z",
     "start_time": "2018-06-05T17:03:27.497596Z"
    }
   },
   "outputs": [
    {
     "data": {
      "text/plain": [
       "Context(prec=59, rounding=ROUND_HALF_EVEN, Emin=-999999, Emax=999999, capitals=1, clamp=0, flags=[], traps=[InvalidOperation, DivisionByZero, Overflow])"
      ]
     },
     "execution_count": 7,
     "metadata": {},
     "output_type": "execute_result"
    }
   ],
   "source": [
    "import math\n",
    "from decimal import *\n",
    "getcontext()"
   ]
  },
  {
   "cell_type": "code",
   "execution_count": 20,
   "metadata": {
    "ExecuteTime": {
     "end_time": "2018-06-05T17:10:57.137723Z",
     "start_time": "2018-06-05T17:10:57.123224Z"
    }
   },
   "outputs": [
    {
     "name": "stdout",
     "output_type": "stream",
     "text": [
      "\n"
     ]
    }
   ],
   "source": [
    "def find_factor(num):\n",
    "    getcontext().prec = int(math.log10(num))+1\n",
    "    for k in range(2, int(math.sqrt(num))+1):\n",
    "        if Decimal(num)%k == 0:\n",
    "            return k\n",
    "            break\n",
    "    else: return 0\n",
    "    \n",
    "def is_prime(num):\n",
    "    return find_factor(num)==0"
   ]
  },
  {
   "cell_type": "code",
   "execution_count": 21,
   "metadata": {
    "ExecuteTime": {
     "end_time": "2018-06-05T17:10:57.753790Z",
     "start_time": "2018-06-05T17:10:57.706004Z"
    }
   },
   "outputs": [
    {
     "data": {
      "application/vnd.jupyter.widget-view+json": {
       "model_id": "1baf7d37f95b417f86a1162803683f53",
       "version_major": 2,
       "version_minor": 0
      },
      "text/html": [
       "<p>Failed to display Jupyter Widget of type <code>HBox</code>.</p>\n",
       "<p>\n",
       "  If you're reading this message in the Jupyter Notebook or JupyterLab Notebook, it may mean\n",
       "  that the widgets JavaScript is still loading. If this message persists, it\n",
       "  likely means that the widgets JavaScript library is either not installed or\n",
       "  not enabled. See the <a href=\"https://ipywidgets.readthedocs.io/en/stable/user_install.html\">Jupyter\n",
       "  Widgets Documentation</a> for setup instructions.\n",
       "</p>\n",
       "<p>\n",
       "  If you're reading this message in another frontend (for example, a static\n",
       "  rendering on GitHub or <a href=\"https://nbviewer.jupyter.org/\">NBViewer</a>),\n",
       "  it may mean that your frontend doesn't currently support widgets.\n",
       "</p>\n"
      ],
      "text/plain": [
       "HBox(children=(IntProgress(value=0, max=58), HTML(value='')))"
      ]
     },
     "metadata": {},
     "output_type": "display_data"
    },
    {
     "name": "stdout",
     "output_type": "stream",
     "text": [
      "[2, 3, 5, 7, 11, 13, 17, 19, 23, 29, 31, 37, 41, 43, 47, 53, 59]\n"
     ]
    }
   ],
   "source": [
    "from tqdm import tqdm_notebook as tqdm\n",
    "\n",
    "Num = 60\n",
    "plist = [n for n in tqdm(range(2,Num)) if is_prime(n)]\n",
    "print(plist)"
   ]
  },
  {
   "cell_type": "code",
   "execution_count": 22,
   "metadata": {
    "ExecuteTime": {
     "end_time": "2018-06-05T17:11:01.470297Z",
     "start_time": "2018-06-05T17:11:01.269177Z"
    }
   },
   "outputs": [
    {
     "data": {
      "application/vnd.jupyter.widget-view+json": {
       "model_id": "68b15f7b77ec41d897453b4ea02052cc",
       "version_major": 2,
       "version_minor": 0
      },
      "text/html": [
       "<p>Failed to display Jupyter Widget of type <code>HBox</code>.</p>\n",
       "<p>\n",
       "  If you're reading this message in the Jupyter Notebook or JupyterLab Notebook, it may mean\n",
       "  that the widgets JavaScript is still loading. If this message persists, it\n",
       "  likely means that the widgets JavaScript library is either not installed or\n",
       "  not enabled. See the <a href=\"https://ipywidgets.readthedocs.io/en/stable/user_install.html\">Jupyter\n",
       "  Widgets Documentation</a> for setup instructions.\n",
       "</p>\n",
       "<p>\n",
       "  If you're reading this message in another frontend (for example, a static\n",
       "  rendering on GitHub or <a href=\"https://nbviewer.jupyter.org/\">NBViewer</a>),\n",
       "  it may mean that your frontend doesn't currently support widgets.\n",
       "</p>\n"
      ],
      "text/plain": [
       "HBox(children=(IntProgress(value=0, max=17), HTML(value='')))"
      ]
     },
     "metadata": {},
     "output_type": "display_data"
    },
    {
     "name": "stdout",
     "output_type": "stream",
     "text": [
      "2^2-1 = 3 is prime\n",
      "2^3-1 = 7 is prime\n",
      "2^5-1 = 31 is prime\n",
      "2^7-1 = 127 is prime\n",
      "2^11-1 = 2047 factors into 23*89\n",
      "2^13-1 = 8191 is prime\n",
      "2^17-1 = 131071 is prime\n",
      "2^19-1 = 524287 is prime\n",
      "2^23-1 = 8388607 factors into 47*178481\n",
      "2^29-1 = 536870911 factors into 233*2304167\n",
      "2^31-1 = 2147483647 is prime\n",
      "2^37-1 = 137438953471 factors into 223*616318177\n",
      "2^41-1 = 2199023255551 factors into 13367*164511353\n",
      "2^43-1 = 8796093022207 factors into 431*20408568497\n",
      "2^47-1 = 140737488355327 factors into 2351*59862819377\n",
      "2^53-1 = 9007199254740991 factors into 6361*1416003655831\n",
      "2^59-1 = 576460752303423487 factors into 179951*3203431780337\n"
     ]
    }
   ],
   "source": [
    "for k in tqdm(plist):\n",
    "    fac = find_factor(2**k-1)\n",
    "    if fac == 0:\n",
    "        print('2^{}-1 = {} is prime'.format(k, 2**k-1))\n",
    "    else:\n",
    "        print('2^{}-1 = {} factors into {}*{}'.format(k, 2**k-1, fac, int((2**k-1)/fac)))"
   ]
  },
  {
   "cell_type": "code",
   "execution_count": null,
   "metadata": {},
   "outputs": [],
   "source": []
  }
 ],
 "metadata": {
  "kernelspec": {
   "display_name": "Python 3",
   "language": "python",
   "name": "python3"
  },
  "language_info": {
   "codemirror_mode": {
    "name": "ipython",
    "version": 3
   },
   "file_extension": ".py",
   "mimetype": "text/x-python",
   "name": "python",
   "nbconvert_exporter": "python",
   "pygments_lexer": "ipython3",
   "version": "3.6.4"
  },
  "toc": {
   "nav_menu": {},
   "number_sections": true,
   "sideBar": true,
   "skip_h1_title": false,
   "title_cell": "Table of Contents",
   "title_sidebar": "Contents",
   "toc_cell": false,
   "toc_position": {},
   "toc_section_display": true,
   "toc_window_display": false
  },
  "varInspector": {
   "cols": {
    "lenName": 16,
    "lenType": 16,
    "lenVar": 40
   },
   "kernels_config": {
    "python": {
     "delete_cmd_postfix": "",
     "delete_cmd_prefix": "del ",
     "library": "var_list.py",
     "varRefreshCmd": "print(var_dic_list())"
    },
    "r": {
     "delete_cmd_postfix": ") ",
     "delete_cmd_prefix": "rm(",
     "library": "var_list.r",
     "varRefreshCmd": "cat(var_dic_list()) "
    }
   },
   "types_to_exclude": [
    "module",
    "function",
    "builtin_function_or_method",
    "instance",
    "_Feature"
   ],
   "window_display": false
  }
 },
 "nbformat": 4,
 "nbformat_minor": 1
}
