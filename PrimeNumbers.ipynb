{
 "cells": [
  {
   "cell_type": "markdown",
   "metadata": {},
   "source": [
    "# 素数判定"
   ]
  },
  {
   "cell_type": "code",
   "execution_count": 1,
   "metadata": {
    "ExecuteTime": {
     "end_time": "2018-04-12T13:32:49.373933Z",
     "start_time": "2018-04-12T13:32:49.366205Z"
    }
   },
   "outputs": [],
   "source": [
    "def is_prime(num):\n",
    "    flag = 0\n",
    "    for k in range(2,num):\n",
    "        if num%k == 0:\n",
    "            break\n",
    "    else:\n",
    "        flag = 1 \n",
    "    return (flag == 1)"
   ]
  },
  {
   "cell_type": "code",
   "execution_count": 23,
   "metadata": {
    "ExecuteTime": {
     "end_time": "2018-04-12T14:21:30.968705Z",
     "start_time": "2018-04-12T14:21:30.961867Z"
    },
    "collapsed": true
   },
   "outputs": [
    {
     "name": "stdout",
     "output_type": "stream",
     "text": [
      "[(2, True), (3, True), (4, False), (5, True), (6, False), (7, True), (8, False), (9, False), (10, False), (11, True), (12, False), (13, True), (14, False), (15, False), (16, False), (17, True), (18, False), (19, True), (20, False), (21, False), (22, False), (23, True), (24, False), (25, False), (26, False), (27, False), (28, False), (29, True), (30, False), (31, True), (32, False), (33, False), (34, False), (35, False), (36, False), (37, True), (38, False), (39, False), (40, False), (41, True), (42, False), (43, True), (44, False), (45, False), (46, False), (47, True), (48, False), (49, False), (50, False), (51, False), (52, False), (53, True), (54, False), (55, False), (56, False), (57, False), (58, False), (59, True), (60, False), (61, True), (62, False), (63, False), (64, False), (65, False), (66, False), (67, True), (68, False), (69, False), (70, False), (71, True), (72, False), (73, True), (74, False), (75, False), (76, False), (77, False), (78, False), (79, True), (80, False), (81, False), (82, False), (83, True), (84, False), (85, False), (86, False), (87, False), (88, False), (89, True), (90, False), (91, False), (92, False), (93, False), (94, False), (95, False), (96, False), (97, True), (98, False), (99, False)]\n"
     ]
    }
   ],
   "source": [
    "N=100\n",
    "nlist = [(i,is_prime(i)) for i in range(2,N)]\n",
    "print(nlist)"
   ]
  },
  {
   "cell_type": "markdown",
   "metadata": {},
   "source": [
    "# 素数のリスト"
   ]
  },
  {
   "cell_type": "code",
   "execution_count": 25,
   "metadata": {
    "ExecuteTime": {
     "end_time": "2018-04-12T14:26:44.846974Z",
     "start_time": "2018-04-12T14:26:03.706691Z"
    }
   },
   "outputs": [
    {
     "name": "stdout",
     "output_type": "stream",
     "text": [
      "# of prime numbers up to 100000 is 9592\n"
     ]
    }
   ],
   "source": [
    "Num = 100000\n",
    "checklist = [(k, is_prime(k)) for k in range(2, Num+1)]\n",
    "\n",
    "plist = [n[0] for n in checklist if n[1]] #= list(filter(lambda x: x[1], checklist))\n",
    "print(\"# of prime numbers up to {} is {}\".format(Num, len(plist)))"
   ]
  },
  {
   "cell_type": "markdown",
   "metadata": {},
   "source": [
    "# 素数定理"
   ]
  },
  {
   "cell_type": "code",
   "execution_count": 26,
   "metadata": {
    "ExecuteTime": {
     "end_time": "2018-04-12T14:27:35.143827Z",
     "start_time": "2018-04-12T14:27:35.115126Z"
    }
   },
   "outputs": [],
   "source": [
    "import matplotlib.pyplot as plt\n",
    "%matplotlib inline"
   ]
  },
  {
   "cell_type": "code",
   "execution_count": 27,
   "metadata": {
    "ExecuteTime": {
     "end_time": "2018-04-12T14:30:16.620075Z",
     "start_time": "2018-04-12T14:27:42.703037Z"
    }
   },
   "outputs": [],
   "source": [
    "bp_n = range(2,Num+1)\n",
    "bp_p = [len(list(filter((lambda z: z < x), plist))) for x in bp_n]"
   ]
  },
  {
   "cell_type": "code",
   "execution_count": 28,
   "metadata": {
    "ExecuteTime": {
     "end_time": "2018-04-12T14:32:01.764362Z",
     "start_time": "2018-04-12T14:30:25.604858Z"
    }
   },
   "outputs": [],
   "source": [
    "from sympy import *\n",
    "bp_y = [x/log(x) for x in bp_n]"
   ]
  },
  {
   "cell_type": "code",
   "execution_count": 29,
   "metadata": {
    "ExecuteTime": {
     "end_time": "2018-04-12T14:33:39.445230Z",
     "start_time": "2018-04-12T14:33:17.182756Z"
    }
   },
   "outputs": [
    {
     "data": {
      "image/png": "[encoded data removed]",
      "text/plain": [
       "<matplotlib.figure.Figure at 0x1271efd30>"
      ]
     },
     "metadata": {},
     "output_type": "display_data"
    }
   ],
   "source": [
    "# Make the plot\n",
    "ax = plt.subplot()\n",
    "ax.grid()\n",
    "ax.set(xlabel='number (n)', ylabel='# of primes up to n')\n",
    "\n",
    "plt.plot(bp_n, bp_p, color=\"blue\")\n",
    "plt.plot(bp_n, bp_y, color='green')\n",
    "plt.show()"
   ]
  }
 ],
 "metadata": {
  "kernelspec": {
   "display_name": "Python 3",
   "language": "python",
   "name": "python3"
  },
  "language_info": {
   "codemirror_mode": {
    "name": "ipython",
    "version": 3
   },
   "file_extension": ".py",
   "mimetype": "text/x-python",
   "name": "python",
   "nbconvert_exporter": "python",
   "pygments_lexer": "ipython3",
   "version": "3.6.4"
  },
  "toc": {
   "nav_menu": {},
   "number_sections": true,
   "sideBar": true,
   "skip_h1_title": false,
   "title_cell": "Table of Contents",
   "title_sidebar": "Contents",
   "toc_cell": false,
   "toc_position": {},
   "toc_section_display": true,
   "toc_window_display": false
  },
  "varInspector": {
   "cols": {
    "lenName": 16,
    "lenType": 16,
    "lenVar": 40
   },
   "kernels_config": {
    "python": {
     "delete_cmd_postfix": "",
     "delete_cmd_prefix": "del ",
     "library": "var_list.py",
     "varRefreshCmd": "print(var_dic_list())"
    },
    "r": {
     "delete_cmd_postfix": ") ",
     "delete_cmd_prefix": "rm(",
     "library": "var_list.r",
     "varRefreshCmd": "cat(var_dic_list()) "
    }
   },
   "types_to_exclude": [
    "module",
    "function",
    "builtin_function_or_method",
    "instance",
    "_Feature"
   ],
   "window_display": false
  }
 },
 "nbformat": 4,
 "nbformat_minor": 2
}
