{
 "cells": [
  {
   "cell_type": "markdown",
   "metadata": {},
   "source": [
    "# Simplectic Expansion with SageMath"
   ]
  },
  {
   "cell_type": "markdown",
   "metadata": {},
   "source": [
    "## Free Group"
   ]
  },
  {
   "cell_type": "markdown",
   "metadata": {},
   "source": [
    "### Generate a free group with generators {a,b,c,d}"
   ]
  },
  {
   "cell_type": "code",
   "execution_count": 1,
   "metadata": {
    "ExecuteTime": {
     "end_time": "2018-09-06T01:03:10.458723Z",
     "start_time": "2018-09-06T01:03:10.089355Z"
    }
   },
   "outputs": [],
   "source": [
    "F.<a,b,c,d> = FreeGroup(); F, F.an_element()\n",
    "Id_F = F.one()\n",
    "\n",
    "def degree(elm_of_F):\n",
    "    pow_arr = [entry[1] for entry in elm_of_F.syllables()]\n",
    "    return reduce(lambda x,y: x+y, pow_arr) if pow_arr != [] else 0\n",
    "\n",
    "# degree(F.an_element()), degree(F.one())"
   ]
  },
  {
   "cell_type": "code",
   "execution_count": 2,
   "metadata": {
    "ExecuteTime": {
     "end_time": "2018-09-06T01:03:10.498442Z",
     "start_time": "2018-09-06T01:03:10.464507Z"
    }
   },
   "outputs": [
    {
     "data": {
      "text/plain": [
       "4"
      ]
     },
     "execution_count": 2,
     "metadata": {},
     "output_type": "execute_result"
    }
   ],
   "source": [
    "a*b^2*c*d*d^-1\n",
    "F([4]), F.gen(3), F.rank(), F.gens()\n",
    "F.gens().index(d)\n",
    "# 'a' == str(a)\n",
    "elm = a^1*b*b^-1*a^2*c; degree(elm)"
   ]
  },
  {
   "cell_type": "markdown",
   "metadata": {},
   "source": [
    "### Function which converts a string to a word of the free group"
   ]
  },
  {
   "cell_type": "code",
   "execution_count": 3,
   "metadata": {
    "ExecuteTime": {
     "end_time": "2018-09-06T01:03:10.527512Z",
     "start_time": "2018-09-06T01:03:10.504690Z"
    }
   },
   "outputs": [],
   "source": [
    "def to_gen(a_letter):\n",
    "    a_letter_attr = dict(\n",
    "        char = a_letter.lower(), \n",
    "        not_inv= (a_letter == a_letter.lower())\n",
    "    )\n",
    "    search_gen = [x for x in F.gens() if str(x) == a_letter_attr['char']]\n",
    "    rtn = Id_F if search_gen == [] else search_gen[0]\n",
    "    return rtn if a_letter_attr['not_inv'] else rtn.inverse()\n",
    "    \n",
    "def word(string):\n",
    "    rtn = Id_F\n",
    "    for gen in map(to_gen, list(string)):\n",
    "        rtn = rtn * gen\n",
    "    return rtn\n",
    "def w(string):\n",
    "    return word(string)    "
   ]
  },
  {
   "cell_type": "code",
   "execution_count": 4,
   "metadata": {
    "ExecuteTime": {
     "end_time": "2018-09-06T01:03:10.551694Z",
     "start_time": "2018-09-06T01:03:10.537768Z"
    }
   },
   "outputs": [
    {
     "data": {
      "text/plain": [
       "(a*b*a^-1*b^-1,\n",
       " <class 'sage.groups.free_group.FreeGroup_class_with_category.element_class'>)"
      ]
     },
     "execution_count": 4,
     "metadata": {},
     "output_type": "execute_result"
    }
   ],
   "source": [
    "myw = w('abAB');\n",
    "myw, type(myw)"
   ]
  },
  {
   "cell_type": "markdown",
   "metadata": {},
   "source": [
    "## Group ring of free group"
   ]
  },
  {
   "cell_type": "markdown",
   "metadata": {},
   "source": [
    "### Generate the group ring of the free group F"
   ]
  },
  {
   "cell_type": "code",
   "execution_count": 5,
   "metadata": {
    "ExecuteTime": {
     "end_time": "2018-09-06T01:03:10.627326Z",
     "start_time": "2018-09-06T01:03:10.559284Z"
    }
   },
   "outputs": [],
   "source": [
    "ZF = F.algebra(QQ); ZF.an_element(), ZF.one(), (ZF.one() + w('ab'))*w('c')\n",
    "\n",
    "def r(elm_of_F_or_QQ):\n",
    "    return elm_of_F_or_QQ*ZF.one()\n",
    "\n",
    "def max_deg(elm_of_ZF):\n",
    "    return max([degree(m[0]) for m in list(elm_of_ZF)])\n",
    "    \n",
    "def homo_parts(elm_of_ZF):\n",
    "    homo_parts = [r(0)]*(max_deg(elm_of_ZF) + 1)\n",
    "    for m in list(elm_of_ZF):\n",
    "        deg = degree(m[0])\n",
    "        homo_parts[deg] += r(m[1])*m[0] \n",
    "    return homo_parts\n",
    "\n",
    "def modulo(elm_of_ZF, num):\n",
    "    return reduce(lambda x,y: x+y, homo_parts(elm_of_ZF)[0:num])"
   ]
  },
  {
   "cell_type": "code",
   "execution_count": 6,
   "metadata": {
    "ExecuteTime": {
     "end_time": "2018-09-06T01:03:10.658192Z",
     "start_time": "2018-09-06T01:03:10.633839Z"
    }
   },
   "outputs": [
    {
     "data": {
      "text/plain": [
       "([(a*b, 1/2), (b, -1), (1, 1), (a, 2), (b*a^2, 1)],\n",
       " 3,\n",
       " [1, 2*a - b, 1/2*a*b, b*a^2],\n",
       " 1 + 2*a - b)"
      ]
     },
     "execution_count": 6,
     "metadata": {},
     "output_type": "execute_result"
    }
   ],
   "source": [
    "elm = r(1)+r(2)*a-r(1)*b+r(1/2)*a*b + r(1)*b*a^2; elm\n",
    "list(elm), max_deg(elm), homo_parts(elm), modulo(elm, 2) #,type(r(list(elm)[0][1]))"
   ]
  },
  {
   "cell_type": "markdown",
   "metadata": {},
   "source": [
    "### The abelianization of F and more"
   ]
  },
  {
   "cell_type": "code",
   "execution_count": 7,
   "metadata": {
    "ExecuteTime": {
     "end_time": "2018-09-06T01:03:10.678863Z",
     "start_time": "2018-09-06T01:03:10.666232Z"
    }
   },
   "outputs": [],
   "source": [
    "def abelianize(elm_of_F):\n",
    "    rst = ZF.zero()\n",
    "    for m in elm_of_F.syllables():\n",
    "        rst += m[1]*r(m[0])\n",
    "    return rst\n",
    "def abel(elm):\n",
    "    return abelianize(elm)"
   ]
  },
  {
   "cell_type": "markdown",
   "metadata": {},
   "source": [
    "## Magnus Expansions"
   ]
  },
  {
   "cell_type": "markdown",
   "metadata": {},
   "source": [
    "### Interface of expanders"
   ]
  },
  {
   "cell_type": "code",
   "execution_count": 8,
   "metadata": {
    "ExecuteTime": {
     "end_time": "2018-09-06T01:03:10.708556Z",
     "start_time": "2018-09-06T01:03:10.685644Z"
    }
   },
   "outputs": [],
   "source": [
    "class MagnusExpander:\n",
    "    def __init__(self):\n",
    "        self.moddeg = 4\n",
    "    \n",
    "    def expand(self, elm_in_F, modulo_degree = 4):\n",
    "        self.moddeg = modulo_degree\n",
    "        factors = []\n",
    "        for x in elm_in_F.syllables():\n",
    "            a_factor = self.expand_a_gen(x[0], (x[1] > 0) )\n",
    "            factors.append(a_factor^abs(x[1]))\n",
    "        return F.one() if factors == [] else modulo(reduce(lambda x, y: x*y, factors), self.moddeg)\n",
    "\n",
    "    def expand_a_gen(self, gen_of_F, not_inverse):\n",
    "        if not_inverse:\n",
    "            return r(1) + r(gen_of_F) + r(0)\n",
    "        else:\n",
    "            return r(1) + (-1)*r(gen_of_F) + r(0)"
   ]
  },
  {
   "cell_type": "code",
   "execution_count": 9,
   "metadata": {
    "ExecuteTime": {
     "end_time": "2018-09-06T01:03:10.733132Z",
     "start_time": "2018-09-06T01:03:10.714942Z"
    }
   },
   "outputs": [
    {
     "name": "stdout",
     "output_type": "stream",
     "text": [
      "a*b --> 1 + a + b + a*b\n"
     ]
    }
   ],
   "source": [
    "th = MagnusExpander(); th.moddeg\n",
    "myword = w('ab'); myword in F, myword.syllables()\n",
    "result = th.expand(myword); print \"{} --> {}\".format(myword,result)"
   ]
  },
  {
   "cell_type": "markdown",
   "metadata": {},
   "source": [
    "### The standard Magnus expansion"
   ]
  },
  {
   "cell_type": "code",
   "execution_count": 10,
   "metadata": {
    "ExecuteTime": {
     "end_time": "2018-09-06T01:03:10.761931Z",
     "start_time": "2018-09-06T01:03:10.739447Z"
    }
   },
   "outputs": [],
   "source": [
    "class Standard_Magexp(MagnusExpander):\n",
    "    def __init__(self):\n",
    "        MagnusExpander.__init__(self)\n",
    "        \n",
    "    def expand_a_gen(self, gen_of_F, not_inverse):\n",
    "        if not_inverse:\n",
    "            return r(1) + r(gen_of_F)\n",
    "        else:\n",
    "            a_factor = r(1)\n",
    "            for i in range(1, self.moddeg):\n",
    "                sign = -1^(i%2)            \n",
    "                a_factor += (-1)^(i%2)*r(gen_of_F)^i\n",
    "            return a_factor"
   ]
  },
  {
   "cell_type": "code",
   "execution_count": 11,
   "metadata": {
    "ExecuteTime": {
     "end_time": "2018-09-06T01:03:10.838511Z",
     "start_time": "2018-09-06T01:03:10.768775Z"
    }
   },
   "outputs": [
    {
     "data": {
      "text/plain": [
       "(1 + a*b - b*a - a*b*a - a*b^2 + b*a^2 + b*a*b + a*b*a^2 + (a*b)^2 + a*b^3 - b*a^3 - b*a^2*b - b*a*b^2,\n",
       " a*b - b*a)"
      ]
     },
     "execution_count": 11,
     "metadata": {},
     "output_type": "execute_result"
    }
   ],
   "source": [
    "mword = w('abAB'); mword, mword.syllables()\n",
    "th_std = Standard_Magexp()\n",
    "md = 5\n",
    "\n",
    "result = th_std.expand(mword, md);\n",
    "result, homo_parts(result)[2]"
   ]
  },
  {
   "cell_type": "markdown",
   "metadata": {},
   "source": [
    "### The standard symplectic expansion"
   ]
  },
  {
   "cell_type": "code",
   "execution_count": 12,
   "metadata": {
    "ExecuteTime": {
     "end_time": "2018-09-06T01:03:10.883338Z",
     "start_time": "2018-09-06T01:03:10.844590Z"
    }
   },
   "outputs": [],
   "source": [
    "def bracket(elm1_of_F, elm2_of_F):\n",
    "    return ZF.one()*elm1_of_F*elm2_of_F - ZF.one()*elm2_of_F*elm1_of_F\n",
    "\n",
    "class Standard_sympexp(MagnusExpander):\n",
    "    def __init__(self):\n",
    "        MagnusExpander.__init__(self)\n",
    "        \n",
    "    def expand_a_gen(self, gen_of_F, not_inverse):\n",
    "        idx = F.gens().index(gen_of_F) + 1   # a: 1, b: 2, c: 3, d: 4\n",
    "        offset = 1 if is_odd(idx) else -1\n",
    "        pair = (gen_of_F, F.gen(idx + offset - 1))\n",
    "            \n",
    "        a_factor = ZF.one()\n",
    "        if not_inverse:\n",
    "            a_factor += r(1)*pair[0] + r(1/2)*pair[0]^2 + r(1/2)*bracket(pair[0], pair[1])\n",
    "        else:\n",
    "            a_factor += -r(1)*pair[0] + r(1/2)*pair[0]^2 - r(1/2)*bracket(pair[0], pair[1])\n",
    "        return a_factor\n",
    "    \n",
    "       \n",
    "    def log_2(self, elm_of_F):\n",
    "        hp = homo_parts(self.expand(elm_of_F))\n",
    "        return hp[2] - r(1/2)*hp[1]^2"
   ]
  },
  {
   "cell_type": "code",
   "execution_count": 59,
   "metadata": {
    "ExecuteTime": {
     "end_time": "2018-09-12T09:32:18.211031Z",
     "start_time": "2018-09-12T09:32:18.200761Z"
    }
   },
   "outputs": [],
   "source": [
    "mword = w('caC'); mword, mword.syllables()\n",
    "th_symp = Standard_sympexp();\n",
    "md = 3"
   ]
  },
  {
   "cell_type": "code",
   "execution_count": 60,
   "metadata": {
    "ExecuteTime": {
     "end_time": "2018-09-12T09:32:18.942491Z",
     "start_time": "2018-09-12T09:32:18.670753Z"
    }
   },
   "outputs": [
    {
     "data": {
      "text/plain": [
       "(1 + a + 1/2*a^2 + 1/2*a*b - a*c - 1/2*b*a + c*a - 1/2*a^2*c - 1/2*a*b*c + 1/2*a*c^2 - 1/2*a*c*d + 1/2*a*d*c + 1/2*b*a*c + 1/2*c*a^2 + 1/2*c*a*b - c*a*c - 1/2*c*b*a + 1/2*c^2*a - 1/2*c^2*d + 1/2*c*d*a - 1/2*d*c*a + 1/2*d*c^2,\n",
       " 1/2*a*b - a*c - 1/2*b*a + c*a)"
      ]
     },
     "execution_count": 60,
     "metadata": {},
     "output_type": "execute_result"
    }
   ],
   "source": [
    "modulo(th_symp.expand(mword, md) - r(1), 2)\n",
    "th_symp.expand(mword), th_symp.log_2(mword)"
   ]
  },
  {
   "cell_type": "markdown",
   "metadata": {},
   "source": [
    "### Coupling of two elements of ZF "
   ]
  },
  {
   "cell_type": "code",
   "execution_count": 15,
   "metadata": {
    "ExecuteTime": {
     "end_time": "2018-09-06T01:03:11.194234Z",
     "start_time": "2018-09-06T01:03:11.150894Z"
    }
   },
   "outputs": [],
   "source": [
    "def intersection_form(gen1, gen2):\n",
    "    indices = [F.gens().index(g) + 1 for g in [gen1,gen2]]\n",
    "    # (1,2), (3,4) --> 1\n",
    "    # (2,1), (4,3) --> -1\n",
    "    if is_odd(indices[0]):\n",
    "        inum = 1 if (indices[1] == indices[0] + 1) else 0\n",
    "    else:\n",
    "        inum = -1 if (indices[1] == indices[0] - 1) else 0\n",
    "    return inum\n",
    "\n",
    "def coupling_of_word_with_gen(elm_of_F, gen_of_F):\n",
    "    rst = ZF.zero()\n",
    "    head = elm_of_F.syllables()[0][0]\n",
    "    rst += r(intersection_form(gen_of_F, head)) * head^(-1) * elm_of_F\n",
    "    return rst\n",
    "\n",
    "def coupling(elm1_of_ZF, elm2_of_ZF):\n",
    "    mono_list1 = list(r(elm1_of_ZF))\n",
    "    mono_list2 = list(r(elm2_of_ZF))\n",
    "    rst = ZF.zero()\n",
    "    for m1 in mono_list1:\n",
    "        for m2 in mono_list2:\n",
    "            if degree(m2[0]) == 1:\n",
    "                rst += r(m1[1]*m2[1])*coupling_of_word_with_gen(m1[0], m2[0]) \n",
    "    return rst"
   ]
  },
  {
   "cell_type": "code",
   "execution_count": 54,
   "metadata": {
    "ExecuteTime": {
     "end_time": "2018-09-12T09:30:08.447919Z",
     "start_time": "2018-09-12T09:30:08.089666Z"
    }
   },
   "outputs": [
    {
     "name": "stdout",
     "output_type": "stream",
     "text": [
      "< l(a*b*c*d), [a*b*c*d] > = < 1/2*a*b + 1/2*a*c + 1/2*a*d - 1/2*b*a + 1/2*b*c + 1/2*b*d - 1/2*c*a - 1/2*c*b + 1/2*c*d - 1/2*d*a - 1/2*d*b - 1/2*d*c, a + b + c + d > = -1/2*a - 1/2*b - 1/2*c - 1/2*d\n",
      "[a*b*c*d]_3 is regular\n"
     ]
    }
   ],
   "source": [
    "mwd = w('abcd')\n",
    "\n",
    "elm = th_symp.log_2(mwd)\n",
    "abel_elm = abel(mwd)\n",
    "ell = coupling(elm, abel_elm)\n",
    "print(\"< l({}), [{}] > = < {}, {} > = {}\".format(mwd, mwd, elm, abel_elm, ell))\n",
    "\n",
    "check = list(abel_elm)[0][0]; # print(list(abel_elm), check)\n",
    "if ell == abel_elm/dict(list(abel_elm))[check]*dict(list(ell))[check]:\n",
    "    print(\"[{}]_3 is regular\".format(mwd))\n",
    "else:\n",
    "    print(\"[{}]_3 is NOT regular\".format(mwd))"
   ]
  },
  {
   "cell_type": "code",
   "execution_count": 17,
   "metadata": {
    "ExecuteTime": {
     "end_time": "2018-09-06T01:03:11.420874Z",
     "start_time": "2018-09-06T01:03:11.388636Z"
    }
   },
   "outputs": [
    {
     "data": {
      "text/plain": [
       "1 - 1/2*a^2*b + 1/2*b*a^2"
      ]
     },
     "execution_count": 17,
     "metadata": {},
     "output_type": "execute_result"
    }
   ],
   "source": [
    "tha = r(1) + r(1)*a + r(1/2)*a^2 + r(1/2)*bracket(a,b)\n",
    "modulo(tha*( r(1) - r(1)*a + r(1/2)*a^2 - r(1/2)*bracket(a,b)),4)"
   ]
  },
  {
   "cell_type": "code",
   "execution_count": null,
   "metadata": {},
   "outputs": [],
   "source": []
  }
 ],
 "metadata": {
  "kernelspec": {
   "display_name": "SageMath 8.2",
   "language": "",
   "name": "sagemath"
  },
  "language_info": {
   "codemirror_mode": {
    "name": "ipython",
    "version": 2
   },
   "file_extension": ".py",
   "mimetype": "text/x-python",
   "name": "python",
   "nbconvert_exporter": "python",
   "pygments_lexer": "ipython2",
   "version": "2.7.14"
  },
  "toc": {
   "base_numbering": 1,
   "nav_menu": {},
   "number_sections": true,
   "sideBar": true,
   "skip_h1_title": true,
   "title_cell": "Table of Contents",
   "title_sidebar": "Contents",
   "toc_cell": false,
   "toc_position": {
    "height": "248px",
    "left": "504px",
    "top": "34px",
    "width": "195px"
   },
   "toc_section_display": true,
   "toc_window_display": true
  },
  "varInspector": {
   "cols": {
    "lenName": 16,
    "lenType": 16,
    "lenVar": 40
   },
   "kernels_config": {
    "python": {
     "delete_cmd_postfix": "",
     "delete_cmd_prefix": "del ",
     "library": "var_list.py",
     "varRefreshCmd": "print(var_dic_list())"
    },
    "r": {
     "delete_cmd_postfix": ") ",
     "delete_cmd_prefix": "rm(",
     "library": "var_list.r",
     "varRefreshCmd": "cat(var_dic_list()) "
    }
   },
   "types_to_exclude": [
    "module",
    "function",
    "builtin_function_or_method",
    "instance",
    "_Feature"
   ],
   "window_display": false
  }
 },
 "nbformat": 4,
 "nbformat_minor": 2
}
