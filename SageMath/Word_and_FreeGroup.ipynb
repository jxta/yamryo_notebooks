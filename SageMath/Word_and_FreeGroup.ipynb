{
 "cells": [
  {
   "cell_type": "code",
   "execution_count": 1,
   "metadata": {
    "collapsed": false,
    "deletable": true,
    "editable": true
   },
   "outputs": [],
   "source": [
    "# import copy\n",
    "\n",
    "class Word(list):\n",
    "    \n",
    "    def __init__(self, string):\n",
    "        list.__init__(self, list(string))\n",
    "        \n",
    "    def contract_once(self):\n",
    "        myword = copy(self)\n",
    "        new = []\n",
    "#         from IPython.core.debugger import Pdb; Pdb().set_trace()\n",
    "        while len(myword) > 1:\n",
    "            last = myword.pop()\n",
    "#             print [myword, last, new]\n",
    "            if (last.upper() == myword[-1].upper() \n",
    "                and last != myword[-1]):\n",
    "                last = '1'\n",
    "                myword.pop()\n",
    "            new.insert(0,last)\n",
    "#             print [myword, new]\n",
    "        mylist = [x for x in myword + new if x != '1']\n",
    "        result = Word(mylist) if ''.join(mylist) != '' else Word('1')\n",
    "        return result\n",
    "    \n",
    "    def contract(self):\n",
    "        myword = copy(self)\n",
    "        length_diff = 1\n",
    "        while length_diff > 0 and len(myword) > 1:\n",
    "            pre_length = len(myword)\n",
    "            myword = myword.contract_once()\n",
    "            length_diff = pre_length - len(myword)\n",
    "        return myword\n",
    "    \n",
    "    def show(self):\n",
    "        return ''.join(self)"
   ]
  },
  {
   "cell_type": "code",
   "execution_count": 2,
   "metadata": {
    "collapsed": false,
    "deletable": true,
    "editable": true
   },
   "outputs": [],
   "source": [
    "from numpy.random import *\n",
    "\n",
    "class FreeGroup:\n",
    "    def __init__(self, alphabet):\n",
    "        self.alph = alphabet\n",
    "        \n",
    "    def random_word(self, n):\n",
    "        indices = randint(0,len(self.alph),n)\n",
    "        letters = map(lambda x: [self.alph[x],randint(2)], indices)\n",
    "        return Word(''.join(map(\n",
    "            lambda p: p[0] if p[1] else p[0].upper(), letters)))"
   ]
  },
  {
   "cell_type": "code",
   "execution_count": 3,
   "metadata": {
    "collapsed": false,
    "deletable": true,
    "editable": true,
    "scrolled": true
   },
   "outputs": [
    {
     "data": {
      "text/plain": [
       "['ABAACCaB', 'ABAACCaB']"
      ]
     },
     "execution_count": 3,
     "metadata": {},
     "output_type": "execute_result"
    }
   ],
   "source": [
    "fg = FreeGroup(['a','b','c'])\n",
    "myword = fg.random_word(8)\n",
    "[myword.show(), myword.contract().show()]"
   ]
  },
  {
   "cell_type": "code",
   "execution_count": 92,
   "metadata": {
    "collapsed": false,
    "deletable": true,
    "editable": true
   },
   "outputs": [
    {
     "name": "stdout",
     "output_type": "stream",
     "text": [
      "[['A', 'b', 'B'], 'a', []]\n",
      "[['A', 'b'], 'B', ['a']]\n",
      "[['A'], 'a', []]\n"
     ]
    },
    {
     "data": {
      "text/plain": [
       "['1']"
      ]
     },
     "execution_count": 92,
     "metadata": {},
     "output_type": "execute_result"
    }
   ],
   "source": [
    "Word('AbBa').contract()"
   ]
  },
  {
   "cell_type": "code",
   "execution_count": 94,
   "metadata": {
    "collapsed": false,
    "deletable": true,
    "editable": true
   },
   "outputs": [
    {
     "name": "stdout",
     "output_type": "stream",
     "text": [
      "[['b', 'a', 'A', 'B', 'c'], 'C', []]\n",
      "[['b', 'a', 'A'], 'B', ['1']]\n",
      "[['b', 'a'], 'A', ['B', '1']]\n",
      "[['b'], 'B', []]\n"
     ]
    },
    {
     "data": {
      "text/plain": [
       "['1']"
      ]
     },
     "execution_count": 94,
     "metadata": {},
     "output_type": "execute_result"
    }
   ],
   "source": [
    "Word('baABcC').contract()"
   ]
  },
  {
   "cell_type": "code",
   "execution_count": null,
   "metadata": {
    "collapsed": false,
    "deletable": true,
    "editable": true
   },
   "outputs": [],
   "source": [
    "arr = []; arr[0]"
   ]
  },
  {
   "cell_type": "code",
   "execution_count": null,
   "metadata": {
    "collapsed": true,
    "deletable": true,
    "editable": true
   },
   "outputs": [],
   "source": []
  }
 ],
 "metadata": {
  "kernelspec": {
   "display_name": "SageMath 8.1",
   "language": "",
   "name": "sagemath"
  },
  "language_info": {
   "codemirror_mode": {
    "name": "ipython",
    "version": 2
   },
   "file_extension": ".py",
   "mimetype": "text/x-python",
   "name": "python",
   "nbconvert_exporter": "python",
   "pygments_lexer": "ipython2",
   "version": "2.7.14"
  }
 },
 "nbformat": 4,
 "nbformat_minor": 2
}
