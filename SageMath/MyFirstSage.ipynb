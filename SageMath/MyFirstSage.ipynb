{
 "cells": [
  {
   "cell_type": "code",
   "execution_count": 1,
   "metadata": {
    "ExecuteTime": {
     "end_time": "2018-07-04T06:24:29.544784Z",
     "start_time": "2018-07-04T06:24:29.528785Z"
    }
   },
   "outputs": [],
   "source": [
    "%display latex"
   ]
  },
  {
   "cell_type": "markdown",
   "metadata": {},
   "source": [
    "## arithmetic"
   ]
  },
  {
   "cell_type": "code",
   "execution_count": 2,
   "metadata": {
    "ExecuteTime": {
     "end_time": "2018-07-04T06:24:29.588499Z",
     "start_time": "2018-07-04T06:24:29.552606Z"
    }
   },
   "outputs": [
    {
     "data": {
      "text/html": [
       "<html><script type=\"math/tex; mode=display\">\\newcommand{\\Bold}[1]{\\mathbf{#1}}1</script></html>"
      ],
      "text/plain": [
       "1"
      ]
     },
     "execution_count": 2,
     "metadata": {},
     "output_type": "execute_result"
    }
   ],
   "source": [
    "1/3+2/3"
   ]
  },
  {
   "cell_type": "code",
   "execution_count": 3,
   "metadata": {
    "ExecuteTime": {
     "end_time": "2018-07-04T06:24:29.610667Z",
     "start_time": "2018-07-04T06:24:29.596697Z"
    }
   },
   "outputs": [
    {
     "data": {
      "text/html": [
       "<html><script type=\"math/tex; mode=display\">\\newcommand{\\Bold}[1]{\\mathbf{#1}}\\verb|<type|\\phantom{\\verb!x!}\\verb|'sage.rings.rational.Rational'>|</script></html>"
      ],
      "text/plain": [
       "<type 'sage.rings.rational.Rational'>"
      ]
     },
     "execution_count": 3,
     "metadata": {},
     "output_type": "execute_result"
    }
   ],
   "source": [
    "type(2/3)"
   ]
  },
  {
   "cell_type": "code",
   "execution_count": 4,
   "metadata": {
    "ExecuteTime": {
     "end_time": "2018-07-04T06:24:29.631619Z",
     "start_time": "2018-07-04T06:24:29.618080Z"
    }
   },
   "outputs": [
    {
     "data": {
      "text/html": [
       "<html><script type=\"math/tex; mode=display\">\\newcommand{\\Bold}[1]{\\mathbf{#1}}3628800</script></html>"
      ],
      "text/plain": [
       "3628800"
      ]
     },
     "execution_count": 4,
     "metadata": {},
     "output_type": "execute_result"
    }
   ],
   "source": [
    "factorial(10)"
   ]
  },
  {
   "cell_type": "markdown",
   "metadata": {},
   "source": [
    "## polynomial equation"
   ]
  },
  {
   "cell_type": "code",
   "execution_count": 5,
   "metadata": {
    "ExecuteTime": {
     "end_time": "2018-07-04T06:24:31.854174Z",
     "start_time": "2018-07-04T06:24:29.637888Z"
    }
   },
   "outputs": [
    {
     "name": "stdout",
     "output_type": "stream",
     "text": [
      "3*x^3 - 2*x^2 + x - 1 == 0\n"
     ]
    },
    {
     "data": {
      "text/html": [
       "<html><script type=\"math/tex; mode=display\">\\newcommand{\\Bold}[1]{\\mathbf{#1}}\\left[x = -\\frac{1}{2} \\, {\\left(\\frac{5}{162} \\, \\sqrt{7} \\sqrt{3} + \\frac{205}{1458}\\right)}^{\\frac{1}{3}} {\\left(i \\, \\sqrt{3} + 1\\right)} - \\frac{5 \\, {\\left(i \\, \\sqrt{3} - 1\\right)}}{162 \\, {\\left(\\frac{5}{162} \\, \\sqrt{7} \\sqrt{3} + \\frac{205}{1458}\\right)}^{\\frac{1}{3}}} + \\frac{2}{9}, x = -\\frac{1}{2} \\, {\\left(\\frac{5}{162} \\, \\sqrt{7} \\sqrt{3} + \\frac{205}{1458}\\right)}^{\\frac{1}{3}} {\\left(-i \\, \\sqrt{3} + 1\\right)} + \\frac{5 \\, {\\left(i \\, \\sqrt{3} + 1\\right)}}{162 \\, {\\left(\\frac{5}{162} \\, \\sqrt{7} \\sqrt{3} + \\frac{205}{1458}\\right)}^{\\frac{1}{3}}} + \\frac{2}{9}, x = {\\left(\\frac{5}{162} \\, \\sqrt{7} \\sqrt{3} + \\frac{205}{1458}\\right)}^{\\frac{1}{3}} - \\frac{5}{81 \\, {\\left(\\frac{5}{162} \\, \\sqrt{7} \\sqrt{3} + \\frac{205}{1458}\\right)}^{\\frac{1}{3}}} + \\frac{2}{9}\\right]</script></html>"
      ],
      "text/plain": [
       "[x == -1/2*(5/162*sqrt(7)*sqrt(3) + 205/1458)^(1/3)*(I*sqrt(3) + 1) - 5/162*(I*sqrt(3) - 1)/(5/162*sqrt(7)*sqrt(3) + 205/1458)^(1/3) + 2/9, x == -1/2*(5/162*sqrt(7)*sqrt(3) + 205/1458)^(1/3)*(-I*sqrt(3) + 1) + 5/162*(I*sqrt(3) + 1)/(5/162*sqrt(7)*sqrt(3) + 205/1458)^(1/3) + 2/9, x == (5/162*sqrt(7)*sqrt(3) + 205/1458)^(1/3) - 5/81/(5/162*sqrt(7)*sqrt(3) + 205/1458)^(1/3) + 2/9]"
      ]
     },
     "execution_count": 5,
     "metadata": {},
     "output_type": "execute_result"
    }
   ],
   "source": [
    "eq = 3*x^3-2*x^2+x-1 == 0; print(eq)\n",
    "solve(eq, x)"
   ]
  },
  {
   "cell_type": "code",
   "execution_count": 6,
   "metadata": {
    "ExecuteTime": {
     "end_time": "2018-07-04T06:24:31.904018Z",
     "start_time": "2018-07-04T06:24:31.861036Z"
    }
   },
   "outputs": [
    {
     "name": "stdout",
     "output_type": "stream",
     "text": [
      "3*x^3 - 2*x^2 + x - 1\n"
     ]
    },
    {
     "data": {
      "text/html": [
       "<html><script type=\"math/tex; mode=display\">\\newcommand{\\Bold}[1]{\\mathbf{#1}}\\left[\\left(-\\frac{1}{2} \\, {\\left(\\frac{5}{162} \\, \\sqrt{7} \\sqrt{3} + \\frac{205}{1458}\\right)}^{\\frac{1}{3}} {\\left(i \\, \\sqrt{3} + 1\\right)} - \\frac{5 \\, {\\left(i \\, \\sqrt{3} - 1\\right)}}{162 \\, {\\left(\\frac{5}{162} \\, \\sqrt{7} \\sqrt{3} + \\frac{205}{1458}\\right)}^{\\frac{1}{3}}} + \\frac{2}{9}, 1\\right), \\left(-\\frac{1}{2} \\, {\\left(\\frac{5}{162} \\, \\sqrt{7} \\sqrt{3} + \\frac{205}{1458}\\right)}^{\\frac{1}{3}} {\\left(-i \\, \\sqrt{3} + 1\\right)} + \\frac{5 \\, {\\left(i \\, \\sqrt{3} + 1\\right)}}{162 \\, {\\left(\\frac{5}{162} \\, \\sqrt{7} \\sqrt{3} + \\frac{205}{1458}\\right)}^{\\frac{1}{3}}} + \\frac{2}{9}, 1\\right), \\left({\\left(\\frac{5}{162} \\, \\sqrt{7} \\sqrt{3} + \\frac{205}{1458}\\right)}^{\\frac{1}{3}} - \\frac{5}{81 \\, {\\left(\\frac{5}{162} \\, \\sqrt{7} \\sqrt{3} + \\frac{205}{1458}\\right)}^{\\frac{1}{3}}} + \\frac{2}{9}, 1\\right)\\right]</script></html>"
      ],
      "text/plain": [
       "[(-1/2*(5/162*sqrt(7)*sqrt(3) + 205/1458)^(1/3)*(I*sqrt(3) + 1) - 5/162*(I*sqrt(3) - 1)/(5/162*sqrt(7)*sqrt(3) + 205/1458)^(1/3) + 2/9,\n",
       "  1),\n",
       " (-1/2*(5/162*sqrt(7)*sqrt(3) + 205/1458)^(1/3)*(-I*sqrt(3) + 1) + 5/162*(I*sqrt(3) + 1)/(5/162*sqrt(7)*sqrt(3) + 205/1458)^(1/3) + 2/9,\n",
       "  1),\n",
       " ((5/162*sqrt(7)*sqrt(3) + 205/1458)^(1/3) - 5/81/(5/162*sqrt(7)*sqrt(3) + 205/1458)^(1/3) + 2/9,\n",
       "  1)]"
      ]
     },
     "execution_count": 6,
     "metadata": {},
     "output_type": "execute_result"
    }
   ],
   "source": [
    "poly = 3*x^3-2*x^2+x-1; print(poly)\n",
    "poly.roots(x)"
   ]
  },
  {
   "cell_type": "code",
   "execution_count": 7,
   "metadata": {
    "ExecuteTime": {
     "end_time": "2018-07-04T06:24:31.927282Z",
     "start_time": "2018-07-04T06:24:31.910257Z"
    }
   },
   "outputs": [
    {
     "data": {
      "text/html": [
       "<html><script type=\"math/tex; mode=display\">\\newcommand{\\Bold}[1]{\\mathbf{#1}}\\left[\\left(0.783894293686949, 1\\right)\\right]</script></html>"
      ],
      "text/plain": [
       "[(0.783894293686949, 1)]"
      ]
     },
     "execution_count": 7,
     "metadata": {},
     "output_type": "execute_result"
    }
   ],
   "source": [
    "poly.roots(x, ring=RR)"
   ]
  },
  {
   "cell_type": "code",
   "execution_count": 8,
   "metadata": {
    "ExecuteTime": {
     "end_time": "2018-07-04T06:24:31.954765Z",
     "start_time": "2018-07-04T06:24:31.933694Z"
    }
   },
   "outputs": [
    {
     "data": {
      "text/html": [
       "<html><script type=\"math/tex; mode=display\">\\newcommand{\\Bold}[1]{\\mathbf{#1}}\\left[\\left(0.783894293686949, 1\\right), \\left(-0.0586138135101414 - 0.649455019291400i, 1\\right), \\left(-0.0586138135101414 + 0.649455019291400i, 1\\right)\\right]</script></html>"
      ],
      "text/plain": [
       "[(0.783894293686949, 1),\n",
       " (-0.0586138135101414 - 0.649455019291400*I, 1),\n",
       " (-0.0586138135101414 + 0.649455019291400*I, 1)]"
      ]
     },
     "execution_count": 8,
     "metadata": {},
     "output_type": "execute_result"
    }
   ],
   "source": [
    "poly.roots(x, ring=CC)"
   ]
  },
  {
   "cell_type": "markdown",
   "metadata": {},
   "source": [
    "## Sum"
   ]
  },
  {
   "cell_type": "code",
   "execution_count": 9,
   "metadata": {
    "ExecuteTime": {
     "end_time": "2018-07-04T06:24:31.967935Z",
     "start_time": "2018-07-04T06:24:31.960838Z"
    }
   },
   "outputs": [],
   "source": [
    "k, n = var('k,n')"
   ]
  },
  {
   "cell_type": "code",
   "execution_count": 14,
   "metadata": {
    "ExecuteTime": {
     "end_time": "2018-07-04T06:25:06.016193Z",
     "start_time": "2018-07-04T06:25:05.985935Z"
    }
   },
   "outputs": [
    {
     "data": {
      "text/html": [
       "<html><script type=\"math/tex; mode=display\">\\newcommand{\\Bold}[1]{\\mathbf{#1}}\\frac{1}{2} \\, {\\left(n + 1\\right)} n</script></html>"
      ],
      "text/plain": [
       "1/2*(n + 1)*n"
      ]
     },
     "execution_count": 14,
     "metadata": {},
     "output_type": "execute_result"
    }
   ],
   "source": [
    "sum(k, k, 1, n).factor()"
   ]
  },
  {
   "cell_type": "code",
   "execution_count": 22,
   "metadata": {
    "ExecuteTime": {
     "end_time": "2018-07-04T06:29:22.565727Z",
     "start_time": "2018-07-04T06:29:22.406401Z"
    },
    "scrolled": true
   },
   "outputs": [
    {
     "ename": "ValueError",
     "evalue": "Sum is divergent.",
     "output_type": "error",
     "traceback": [
      "\u001b[0;31m---------------------------------------------------------------------------\u001b[0m",
      "\u001b[0;31mValueError\u001b[0m                                Traceback (most recent call last)",
      "\u001b[0;32m<ipython-input-22-c478c6fcfe61>\u001b[0m in \u001b[0;36m<module>\u001b[0;34m()\u001b[0m\n\u001b[0;32m----> 1\u001b[0;31m \u001b[0msum\u001b[0m\u001b[0;34m(\u001b[0m\u001b[0mk\u001b[0m\u001b[0;34m,\u001b[0m \u001b[0mk\u001b[0m\u001b[0;34m,\u001b[0m \u001b[0mInteger\u001b[0m\u001b[0;34m(\u001b[0m\u001b[0;36m1\u001b[0m\u001b[0;34m)\u001b[0m\u001b[0;34m,\u001b[0m \u001b[0minfinity\u001b[0m\u001b[0;34m)\u001b[0m\u001b[0;34m\u001b[0m\u001b[0m\n\u001b[0m",
      "\u001b[0;32m/Applications/SageMath-8.2.app/Contents/Resources/sage/local/lib/python2.7/site-packages/sage/misc/functional.pyc\u001b[0m in \u001b[0;36msymbolic_sum\u001b[0;34m(expression, *args, **kwds)\u001b[0m\n\u001b[1;32m    573\u001b[0m     \"\"\"\n\u001b[1;32m    574\u001b[0m     \u001b[0;32mif\u001b[0m \u001b[0mhasattr\u001b[0m\u001b[0;34m(\u001b[0m\u001b[0mexpression\u001b[0m\u001b[0;34m,\u001b[0m \u001b[0;34m'sum'\u001b[0m\u001b[0;34m)\u001b[0m\u001b[0;34m:\u001b[0m\u001b[0;34m\u001b[0m\u001b[0m\n\u001b[0;32m--> 575\u001b[0;31m         \u001b[0;32mreturn\u001b[0m \u001b[0mexpression\u001b[0m\u001b[0;34m.\u001b[0m\u001b[0msum\u001b[0m\u001b[0;34m(\u001b[0m\u001b[0;34m*\u001b[0m\u001b[0margs\u001b[0m\u001b[0;34m,\u001b[0m \u001b[0;34m**\u001b[0m\u001b[0mkwds\u001b[0m\u001b[0;34m)\u001b[0m\u001b[0;34m\u001b[0m\u001b[0m\n\u001b[0m\u001b[1;32m    576\u001b[0m     \u001b[0;32melif\u001b[0m \u001b[0mlen\u001b[0m\u001b[0;34m(\u001b[0m\u001b[0margs\u001b[0m\u001b[0;34m)\u001b[0m \u001b[0;34m<=\u001b[0m \u001b[0;36m1\u001b[0m\u001b[0;34m:\u001b[0m\u001b[0;34m\u001b[0m\u001b[0m\n\u001b[1;32m    577\u001b[0m         \u001b[0;32mreturn\u001b[0m \u001b[0msum\u001b[0m\u001b[0;34m(\u001b[0m\u001b[0mexpression\u001b[0m\u001b[0;34m,\u001b[0m \u001b[0;34m*\u001b[0m\u001b[0margs\u001b[0m\u001b[0;34m)\u001b[0m\u001b[0;34m\u001b[0m\u001b[0m\n",
      "\u001b[0;32m/Applications/SageMath-8.2.app/Contents/Resources/sage/local/lib/python2.7/site-packages/sage/symbolic/expression.pyx\u001b[0m in \u001b[0;36msage.symbolic.expression.Expression.sum (build/cythonized/sage/symbolic/expression.cpp:68779)\u001b[0;34m()\u001b[0m\n\u001b[1;32m  12200\u001b[0m         \"\"\"\n\u001b[1;32m  12201\u001b[0m         \u001b[0;32mfrom\u001b[0m \u001b[0msage\u001b[0m\u001b[0;34m.\u001b[0m\u001b[0mcalculus\u001b[0m\u001b[0;34m.\u001b[0m\u001b[0mcalculus\u001b[0m \u001b[0;32mimport\u001b[0m \u001b[0msymbolic_sum\u001b[0m\u001b[0;34m\u001b[0m\u001b[0m\n\u001b[0;32m> 12202\u001b[0;31m         \u001b[0;32mreturn\u001b[0m \u001b[0msymbolic_sum\u001b[0m\u001b[0;34m(\u001b[0m\u001b[0mself\u001b[0m\u001b[0;34m,\u001b[0m \u001b[0;34m*\u001b[0m\u001b[0margs\u001b[0m\u001b[0;34m,\u001b[0m \u001b[0;34m**\u001b[0m\u001b[0mkwds\u001b[0m\u001b[0;34m)\u001b[0m\u001b[0;34m\u001b[0m\u001b[0m\n\u001b[0m\u001b[1;32m  12203\u001b[0m \u001b[0;34m\u001b[0m\u001b[0m\n\u001b[1;32m  12204\u001b[0m     \u001b[0;32mdef\u001b[0m \u001b[0mprod\u001b[0m\u001b[0;34m(\u001b[0m\u001b[0mself\u001b[0m\u001b[0;34m,\u001b[0m \u001b[0;34m*\u001b[0m\u001b[0margs\u001b[0m\u001b[0;34m,\u001b[0m \u001b[0;34m**\u001b[0m\u001b[0mkwds\u001b[0m\u001b[0;34m)\u001b[0m\u001b[0;34m:\u001b[0m\u001b[0;34m\u001b[0m\u001b[0m\n",
      "\u001b[0;32m/Applications/SageMath-8.2.app/Contents/Resources/sage/local/lib/python2.7/site-packages/sage/calculus/calculus.pyc\u001b[0m in \u001b[0;36msymbolic_sum\u001b[0;34m(expression, v, a, b, algorithm, hold)\u001b[0m\n\u001b[1;32m    609\u001b[0m \u001b[0;34m\u001b[0m\u001b[0m\n\u001b[1;32m    610\u001b[0m     \u001b[0;32mif\u001b[0m \u001b[0malgorithm\u001b[0m \u001b[0;34m==\u001b[0m \u001b[0;34m'maxima'\u001b[0m\u001b[0;34m:\u001b[0m\u001b[0;34m\u001b[0m\u001b[0m\n\u001b[0;32m--> 611\u001b[0;31m         \u001b[0;32mreturn\u001b[0m \u001b[0mmaxima\u001b[0m\u001b[0;34m.\u001b[0m\u001b[0msr_sum\u001b[0m\u001b[0;34m(\u001b[0m\u001b[0mexpression\u001b[0m\u001b[0;34m,\u001b[0m\u001b[0mv\u001b[0m\u001b[0;34m,\u001b[0m\u001b[0ma\u001b[0m\u001b[0;34m,\u001b[0m\u001b[0mb\u001b[0m\u001b[0;34m)\u001b[0m\u001b[0;34m\u001b[0m\u001b[0m\n\u001b[0m\u001b[1;32m    612\u001b[0m \u001b[0;34m\u001b[0m\u001b[0m\n\u001b[1;32m    613\u001b[0m     \u001b[0;32melif\u001b[0m \u001b[0malgorithm\u001b[0m \u001b[0;34m==\u001b[0m \u001b[0;34m'mathematica'\u001b[0m\u001b[0;34m:\u001b[0m\u001b[0;34m\u001b[0m\u001b[0m\n",
      "\u001b[0;32m/Applications/SageMath-8.2.app/Contents/Resources/sage/local/lib/python2.7/site-packages/sage/interfaces/maxima_lib.pyc\u001b[0m in \u001b[0;36msr_sum\u001b[0;34m(self, *args)\u001b[0m\n\u001b[1;32m    896\u001b[0m \u001b[0;31m# could not find an example where 'Pole encountered' occurred, though\u001b[0m\u001b[0;34m\u001b[0m\u001b[0;34m\u001b[0m\u001b[0m\n\u001b[1;32m    897\u001b[0m \u001b[0;31m#            if \"divergent\" in s or 'Pole encountered' in s:\u001b[0m\u001b[0;34m\u001b[0m\u001b[0;34m\u001b[0m\u001b[0m\n\u001b[0;32m--> 898\u001b[0;31m                 \u001b[0;32mraise\u001b[0m \u001b[0mValueError\u001b[0m\u001b[0;34m(\u001b[0m\u001b[0;34m\"Sum is divergent.\"\u001b[0m\u001b[0;34m)\u001b[0m\u001b[0;34m\u001b[0m\u001b[0m\n\u001b[0m\u001b[1;32m    899\u001b[0m             \u001b[0;32melif\u001b[0m \u001b[0;34m\"Is\"\u001b[0m \u001b[0;32min\u001b[0m \u001b[0ms\u001b[0m\u001b[0;34m:\u001b[0m \u001b[0;31m# Maxima asked for a condition\u001b[0m\u001b[0;34m\u001b[0m\u001b[0m\n\u001b[1;32m    900\u001b[0m                 \u001b[0mself\u001b[0m\u001b[0;34m.\u001b[0m\u001b[0m_missing_assumption\u001b[0m\u001b[0;34m(\u001b[0m\u001b[0ms\u001b[0m\u001b[0;34m)\u001b[0m\u001b[0;34m\u001b[0m\u001b[0m\n",
      "\u001b[0;31mValueError\u001b[0m: Sum is divergent."
     ]
    }
   ],
   "source": [
    "sum(k, k, 1, infinity)"
   ]
  },
  {
   "cell_type": "code",
   "execution_count": 30,
   "metadata": {
    "ExecuteTime": {
     "end_time": "2018-07-04T06:31:05.489246Z",
     "start_time": "2018-07-04T06:31:05.465583Z"
    }
   },
   "outputs": [
    {
     "data": {
      "text/html": [
       "<html><script type=\"math/tex; mode=display\">\\newcommand{\\Bold}[1]{\\mathbf{#1}}\\frac{1}{6} \\, \\pi^{2}</script></html>"
      ],
      "text/plain": [
       "1/6*pi^2"
      ]
     },
     "execution_count": 30,
     "metadata": {},
     "output_type": "execute_result"
    }
   ],
   "source": [
    "sum(1/k^2, k, 1, infinity)"
   ]
  },
  {
   "cell_type": "markdown",
   "metadata": {},
   "source": [
    "**Exercise(Computing a sum by recurrence)**. \n",
    "Compute, without using the sum command, the sum of p-powers of integers from $0$ to $n$, for $p = 1, ..., 4$:\n",
    "\\begin{equation*}\n",
    "S_{n}(p) = \\sum_{k=0}^{n} k^p.\n",
    "\\end{equation*}\n",
    "The following recurrence can be useful to compute this sum:\n",
    "\\begin{equation*}\n",
    "S_{n}(p)= \\frac{1}{p+1}\\left( \n",
    "(n+1)^{p+1} −􏰞 \\sum_{j=0}^{p-1}\\binom{p+1}{j}S_{n}(j)\n",
    "\\right)\n",
    "\\end{equation*}\n",
    "This recurrence is easily obtained when computing by two different methods the telescopic sum\n",
    "$\\displaystyle\\sum_{0 \\leq k \\leq n} (k + 1)^{p+1} − k^{p+1}$."
   ]
  },
  {
   "cell_type": "code",
   "execution_count": 36,
   "metadata": {
    "ExecuteTime": {
     "end_time": "2018-07-04T06:48:05.499797Z",
     "start_time": "2018-07-04T06:48:05.453416Z"
    }
   },
   "outputs": [
    {
     "data": {
      "text/html": [
       "<html><script type=\"math/tex; mode=display\">\\newcommand{\\Bold}[1]{\\mathbf{#1}}\\frac{1}{12} \\, {\\left(2 \\, n^{2} + 2 \\, n - 1\\right)} {\\left(n + 1\\right)}^{2} n^{2}</script></html>"
      ],
      "text/plain": [
       "1/12*(2*n^2 + 2*n - 1)*(n + 1)^2*n^2"
      ]
     },
     "execution_count": 36,
     "metadata": {},
     "output_type": "execute_result"
    }
   ],
   "source": [
    "p=5\n",
    "sum(k^p, k, 0, n).factor()"
   ]
  },
  {
   "cell_type": "code",
   "execution_count": null,
   "metadata": {},
   "outputs": [],
   "source": []
  }
 ],
 "metadata": {
  "kernelspec": {
   "display_name": "SageMath 8.2",
   "language": "",
   "name": "sagemath"
  },
  "language_info": {
   "codemirror_mode": {
    "name": "ipython",
    "version": 2
   },
   "file_extension": ".py",
   "mimetype": "text/x-python",
   "name": "python",
   "nbconvert_exporter": "python",
   "pygments_lexer": "ipython2",
   "version": "2.7.14"
  },
  "toc": {
   "base_numbering": 1,
   "nav_menu": {},
   "number_sections": true,
   "sideBar": true,
   "skip_h1_title": true,
   "title_cell": "Table of Contents",
   "title_sidebar": "Contents",
   "toc_cell": false,
   "toc_position": {},
   "toc_section_display": true,
   "toc_window_display": false
  },
  "varInspector": {
   "cols": {
    "lenName": 16,
    "lenType": 16,
    "lenVar": 40
   },
   "kernels_config": {
    "python": {
     "delete_cmd_postfix": "",
     "delete_cmd_prefix": "del ",
     "library": "var_list.py",
     "varRefreshCmd": "print(var_dic_list())"
    },
    "r": {
     "delete_cmd_postfix": ") ",
     "delete_cmd_prefix": "rm(",
     "library": "var_list.r",
     "varRefreshCmd": "cat(var_dic_list()) "
    }
   },
   "types_to_exclude": [
    "module",
    "function",
    "builtin_function_or_method",
    "instance",
    "_Feature"
   ],
   "window_display": false
  }
 },
 "nbformat": 4,
 "nbformat_minor": 2
}
