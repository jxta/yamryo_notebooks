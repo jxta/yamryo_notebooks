{
 "cells": [
  {
   "cell_type": "markdown",
   "metadata": {},
   "source": [
    "# Calculation in Quaternion with SageMath"
   ]
  },
  {
   "cell_type": "code",
   "execution_count": 13,
   "metadata": {
    "ExecuteTime": {
     "end_time": "2018-07-19T05:26:36.260799Z",
     "start_time": "2018-07-19T05:26:36.252192Z"
    }
   },
   "outputs": [],
   "source": [
    "H.<i,j,k> = QuaternionAlgebra(-1,-1)"
   ]
  },
  {
   "cell_type": "code",
   "execution_count": 16,
   "metadata": {
    "ExecuteTime": {
     "end_time": "2018-07-19T05:30:14.733179Z",
     "start_time": "2018-07-19T05:30:14.720245Z"
    }
   },
   "outputs": [
    {
     "data": {
      "text/plain": [
       "(3 + i - j, 2 + 2*i - j - k)"
      ]
     },
     "execution_count": 16,
     "metadata": {},
     "output_type": "execute_result"
    }
   ],
   "source": [
    "q1, q2 = 1+i, 2-j\n",
    "(q1 + q2, q1*q2)"
   ]
  },
  {
   "cell_type": "code",
   "execution_count": 19,
   "metadata": {
    "ExecuteTime": {
     "end_time": "2018-07-19T05:31:13.573342Z",
     "start_time": "2018-07-19T05:31:13.561022Z"
    }
   },
   "outputs": [
    {
     "data": {
      "text/plain": [
       "(0,\n",
       " <type 'sage.algebras.quatalg.quaternion_algebra_element.QuaternionAlgebraElement_rational_field'>)"
      ]
     },
     "execution_count": 19,
     "metadata": {},
     "output_type": "execute_result"
    }
   ],
   "source": [
    "q0 = q1-q1\n",
    "(q0, type(q0))"
   ]
  },
  {
   "cell_type": "code",
   "execution_count": 66,
   "metadata": {
    "ExecuteTime": {
     "end_time": "2018-07-19T08:15:40.071850Z",
     "start_time": "2018-07-19T08:15:40.062551Z"
    }
   },
   "outputs": [],
   "source": [
    "class pi:\n",
    "    def __init__(self, q):\n",
    "        self.q = q\n",
    "        \n",
    "    def act(self, x):\n",
    "        return self.q*x*self.q^(-1)"
   ]
  },
  {
   "cell_type": "code",
   "execution_count": 71,
   "metadata": {
    "ExecuteTime": {
     "end_time": "2018-07-19T08:16:44.348827Z",
     "start_time": "2018-07-19T08:16:44.338999Z"
    }
   },
   "outputs": [
    {
     "name": "stdout",
     "output_type": "stream",
     "text": [
      "('pi(i)', {k: -k, i: i, j: -j})\n",
      "('pi(j)', {k: -k, i: -i, j: j})\n",
      "('pi(k)', {k: k, i: -i, j: -j})\n"
     ]
    }
   ],
   "source": [
    "for q in [i,j,k]:\n",
    "    output = {p: pi(q).act(p) for p in [i,j,k]}\n",
    "    print(('pi({})'.format(q), output))"
   ]
  },
  {
   "cell_type": "code",
   "execution_count": 43,
   "metadata": {
    "ExecuteTime": {
     "end_time": "2018-07-19T08:03:03.520293Z",
     "start_time": "2018-07-19T08:03:03.504724Z"
    }
   },
   "outputs": [
    {
     "data": {
      "text/plain": [
       "[{i: (1, -i)}, {j: (1, -j)}, {k: (-1, k)}]"
      ]
     },
     "execution_count": 43,
     "metadata": {},
     "output_type": "execute_result"
    }
   ],
   "source": [
    "[{p: (pi(i).act(p)*pi(j).act(p), pi(i*j).act(p))} for p in [i,j,k]]"
   ]
  },
  {
   "cell_type": "code",
   "execution_count": null,
   "metadata": {},
   "outputs": [],
   "source": []
  }
 ],
 "metadata": {
  "kernelspec": {
   "display_name": "SageMath 8.2",
   "language": "",
   "name": "sagemath"
  },
  "language_info": {
   "codemirror_mode": {
    "name": "ipython",
    "version": 2
   },
   "file_extension": ".py",
   "mimetype": "text/x-python",
   "name": "python",
   "nbconvert_exporter": "python",
   "pygments_lexer": "ipython2",
   "version": "2.7.14"
  },
  "toc": {
   "base_numbering": 1,
   "nav_menu": {},
   "number_sections": true,
   "sideBar": true,
   "skip_h1_title": true,
   "title_cell": "Table of Contents",
   "title_sidebar": "Contents",
   "toc_cell": false,
   "toc_position": {},
   "toc_section_display": true,
   "toc_window_display": false
  },
  "varInspector": {
   "cols": {
    "lenName": 16,
    "lenType": 16,
    "lenVar": 40
   },
   "kernels_config": {
    "python": {
     "delete_cmd_postfix": "",
     "delete_cmd_prefix": "del ",
     "library": "var_list.py",
     "varRefreshCmd": "print(var_dic_list())"
    },
    "r": {
     "delete_cmd_postfix": ") ",
     "delete_cmd_prefix": "rm(",
     "library": "var_list.r",
     "varRefreshCmd": "cat(var_dic_list()) "
    }
   },
   "types_to_exclude": [
    "module",
    "function",
    "builtin_function_or_method",
    "instance",
    "_Feature"
   ],
   "window_display": false
  }
 },
 "nbformat": 4,
 "nbformat_minor": 2
}
