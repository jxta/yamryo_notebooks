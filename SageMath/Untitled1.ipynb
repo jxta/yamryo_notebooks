{
 "cells": [
  {
   "cell_type": "markdown",
   "metadata": {},
   "source": [
    "** [ 予想 ] ** $<l(a),|a|> \\in \\mathbb{Q}|a| \\Rightarrow [a]_{3}: \\text{simple}$"
   ]
  },
  {
   "cell_type": "markdown",
   "metadata": {},
   "source": [
    "**目標:** gnus 2 で予想の肯定的解決を目指す。"
   ]
  },
  {
   "cell_type": "markdown",
   "metadata": {},
   "source": [
    "**戦略:** gnus 2 上の単純閉曲線の集合で、以下を満たすものを探す。\n",
    "\n",
    "* 各単純閉曲線は構成的に記述されており、曲面の基本群の対応する元も分かる。\n",
    "* $N_{3}$ からの単射がある。(これから、$N_{2}$ からの単射が作れる?    <--- ??? 無理そうだし、必要かな?)"
   ]
  },
  {
   "cell_type": "markdown",
   "metadata": {},
   "source": [
    "このような集合を見つける素材として、以下が考えられる。\n",
    "\n",
    "* double torus knot のクラス\n",
    "* gnus 2 Heegaard splitting の研究で考察した閉曲線たち。\n",
    "\n",
    "上記のような集合(Sとする)が見つかれば、以下を示す。\n",
    "\n",
    ">\t**(主張1)** $l(a)|a| \\in \\mathbb{Q}|a|$ を満たす word $a$ に対して、\n",
    ">\t\t$b \\in S$ で $[a]_{3} = [b]_{3}$ であるものが必ずとれる。\n",
    "\n",
    "NOTE: $[a]_{3} = [b]_{3} <=> |a| = |b| \\land l(a) = l(b)$"
   ]
  },
  {
   "cell_type": "code",
   "execution_count": null,
   "metadata": {},
   "outputs": [],
   "source": []
  }
 ],
 "metadata": {
  "kernelspec": {
   "display_name": "SageMath 8.8",
   "language": "sage",
   "name": "sagemath"
  },
  "language_info": {
   "codemirror_mode": {
    "name": "ipython",
    "version": 2
   },
   "file_extension": ".py",
   "mimetype": "text/x-python",
   "name": "python",
   "nbconvert_exporter": "python",
   "pygments_lexer": "ipython2",
   "version": "2.7.14"
  },
  "toc": {
   "base_numbering": 1,
   "nav_menu": {},
   "number_sections": true,
   "sideBar": true,
   "skip_h1_title": true,
   "title_cell": "Table of Contents",
   "title_sidebar": "Contents",
   "toc_cell": false,
   "toc_position": {},
   "toc_section_display": true,
   "toc_window_display": false
  },
  "varInspector": {
   "cols": {
    "lenName": 16,
    "lenType": 16,
    "lenVar": 40
   },
   "kernels_config": {
    "python": {
     "delete_cmd_postfix": "",
     "delete_cmd_prefix": "del ",
     "library": "var_list.py",
     "varRefreshCmd": "print(var_dic_list())"
    },
    "r": {
     "delete_cmd_postfix": ") ",
     "delete_cmd_prefix": "rm(",
     "library": "var_list.r",
     "varRefreshCmd": "cat(var_dic_list()) "
    }
   },
   "types_to_exclude": [
    "module",
    "function",
    "builtin_function_or_method",
    "instance",
    "_Feature"
   ],
   "window_display": false
  }
 },
 "nbformat": 4,
 "nbformat_minor": 2
}
