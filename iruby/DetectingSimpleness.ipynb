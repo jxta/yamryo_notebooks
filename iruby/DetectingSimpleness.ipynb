{
 "cells": [
  {
   "cell_type": "markdown",
   "metadata": {},
   "source": [
    "# Setting the fundarmental group of $\\Sigma_{g,1}$ "
   ]
  },
  {
   "cell_type": "code",
   "execution_count": 1,
   "metadata": {
    "ExecuteTime": {
     "end_time": "2019-04-26T07:23:18.154149Z",
     "start_time": "2019-04-26T07:23:17.010Z"
    }
   },
   "outputs": [
    {
     "data": {
      "text/plain": [
       "true"
      ]
     },
     "execution_count": 1,
     "metadata": {},
     "output_type": "execute_result"
    }
   ],
   "source": [
    "require './freegroup.rb'"
   ]
  },
  {
   "cell_type": "markdown",
   "metadata": {},
   "source": [
    "## generators"
   ]
  },
  {
   "cell_type": "code",
   "execution_count": 2,
   "metadata": {
    "ExecuteTime": {
     "end_time": "2019-04-26T07:23:18.163317Z",
     "start_time": "2019-04-26T07:23:17.012Z"
    }
   },
   "outputs": [
    {
     "name": "stdout",
     "output_type": "stream",
     "text": [
      "[\"a\", \"b\", \"c\", \"d\"]\n"
     ]
    }
   ],
   "source": [
    "genus = 2\n",
    "alphabet = %w(a b c d)\n",
    "\n",
    "Gens = [Letter.new] + alphabet.map{|x| Letter.new(x)}\n",
    "Gens.freeze\n",
    "p Gens[1..-1].map(&:show); nil\n",
    "a = [Gens[0]] + Gens[1..-1].each_slice(2).map(&:first)\n",
    "b = [Gens[0]] + Gens[1..-1].each_slice(2).map(&:last)\n",
    "nil"
   ]
  },
  {
   "cell_type": "code",
   "execution_count": 37,
   "metadata": {
    "ExecuteTime": {
     "end_time": "2019-04-26T07:32:47.966107Z",
     "start_time": "2019-04-26T07:32:46.816Z"
    }
   },
   "outputs": [
    {
     "name": "stderr",
     "output_type": "stream",
     "text": [
      "<main>:3: warning: already initialized constant Del\n",
      "<main>:3: warning: previous definition of Del was here\n"
     ]
    },
    {
     "name": "stdout",
     "output_type": "stream",
     "text": [
      "\"Del = ((abAB)(cdCD))(s)\"\n"
     ]
    },
    {
     "name": "stderr",
     "output_type": "stream",
     "text": [
      "<main>:6: warning: already initialized constant DelPerms\n",
      "<main>:6: warning: previous definition of DelPerms was here\n",
      "<main>:17: warning: already initialized constant Rseq\n",
      "<main>:17: warning: previous definition of Rseq was here\n"
     ]
    },
    {
     "name": "stdout",
     "output_type": "stream",
     "text": [
      "[\"a\", \"B\", \"A\", \"b\", \"c\", \"D\", \"C\", \"d\"]\n"
     ]
    }
   ],
   "source": [
    "comm1 = Group.commutator(a[1], b[1])\n",
    "comm2 = Group.commutator(a[2], b[2])\n",
    "\n",
    "Del = (comm1*comm2*Word.new('s')).freeze\n",
    "p 'Del = ' + Del.show\n",
    "\n",
    "DelPerms = []\n",
    "perm = Del.dup\n",
    "(Del.size).times do |n|\n",
    "  perm = perm.cyclic_permutation\n",
    "  DelPerms << perm << perm.inverse\n",
    "end\n",
    "DelPerms.freeze\n",
    "#p DelPerms.map(&:show)\n",
    "\n",
    "comm3 = Group.commutator(a[1], b[1].inverse)\n",
    "comm4 = Group.commutator(a[2], b[2].inverse)\n",
    "Rseq = (comm3*comm4).flatten!.factors.freeze\n",
    "p Rseq.map(&:show) #.index('A')\n",
    "nil"
   ]
  },
  {
   "cell_type": "code",
   "execution_count": 4,
   "metadata": {
    "ExecuteTime": {
     "end_time": "2019-04-26T07:23:18.172018Z",
     "start_time": "2019-04-26T07:23:17.017Z"
    }
   },
   "outputs": [],
   "source": [
    "w = Word.new('abDdcdbABcd'); nil"
   ]
  },
  {
   "cell_type": "markdown",
   "metadata": {},
   "source": [
    "# The Algorithm"
   ]
  },
  {
   "cell_type": "markdown",
   "metadata": {},
   "source": [
    "### (i) Contracting the word"
   ]
  },
  {
   "cell_type": "code",
   "execution_count": 5,
   "metadata": {
    "ExecuteTime": {
     "end_time": "2019-04-26T07:23:18.178196Z",
     "start_time": "2019-04-26T07:23:17.019Z"
    }
   },
   "outputs": [
    {
     "data": {
      "text/plain": [
       "\"abcdbABcd\""
      ]
     },
     "execution_count": 5,
     "metadata": {},
     "output_type": "execute_result"
    }
   ],
   "source": [
    "# (i) contract\n",
    "reduced = w.contract.dup\n",
    "reduced.show"
   ]
  },
  {
   "cell_type": "markdown",
   "metadata": {},
   "source": [
    "### (ii) removing subwords"
   ]
  },
  {
   "cell_type": "code",
   "execution_count": 6,
   "metadata": {
    "ExecuteTime": {
     "end_time": "2019-04-26T07:23:18.185404Z",
     "start_time": "2019-04-26T07:23:17.021Z"
    }
   },
   "outputs": [],
   "source": [
    "def reduce_once(myw)\n",
    "  facs = myw.flatten.factors\n",
    "  (myw.size+1).times do |i|\n",
    "    w1 = Word.new(facs[0,i])\n",
    "    w2 = Word.new(facs.drop(i))\n",
    "    original_size = myw.size\n",
    "    for perm in DelPerms\n",
    "      wc = (w1*perm*w2).deep_copy.contract\n",
    "      if (wc.size < original_size) then\n",
    "        myw = wc \n",
    "        break\n",
    "      end\n",
    "    end\n",
    "    if (myw.size < original_size) then\n",
    "      return myw\n",
    "      break\n",
    "    end\n",
    "  end\n",
    "  return nil    \n",
    "end\n",
    "    \n",
    "def reduce(myword)\n",
    "  while not myword.nil?\n",
    "    prev = myword\n",
    "    myword = reduce_once(myword)\n",
    "  end\n",
    "  return prev.contract\n",
    "end\n",
    "nil"
   ]
  },
  {
   "cell_type": "code",
   "execution_count": 7,
   "metadata": {
    "ExecuteTime": {
     "end_time": "2019-04-26T07:23:18.209945Z",
     "start_time": "2019-04-26T07:23:17.023Z"
    }
   },
   "outputs": [
    {
     "name": "stdout",
     "output_type": "stream",
     "text": [
      "\"w = abcdbABcd and w.size = 9\"\n",
      "\"abcdASdc\"\n"
     ]
    },
    {
     "data": {
      "text/plain": [
       "\"abcdASdc\""
      ]
     },
     "execution_count": 7,
     "metadata": {},
     "output_type": "execute_result"
    }
   ],
   "source": [
    "p 'w = ' + w.show + ' and w.size = ' + w.size.to_s\n",
    "p reduce(w).show"
   ]
  },
  {
   "cell_type": "markdown",
   "metadata": {},
   "source": [
    "### (iii) removing subwords part2"
   ]
  },
  {
   "cell_type": "code",
   "execution_count": 8,
   "metadata": {
    "ExecuteTime": {
     "end_time": "2019-04-26T07:23:18.213526Z",
     "start_time": "2019-04-26T07:23:17.025Z"
    }
   },
   "outputs": [],
   "source": [
    "# not necessary?"
   ]
  },
  {
   "cell_type": "markdown",
   "metadata": {},
   "source": [
    "## The algorithm"
   ]
  },
  {
   "cell_type": "code",
   "execution_count": 9,
   "metadata": {
    "ExecuteTime": {
     "end_time": "2019-04-26T07:23:18.219550Z",
     "start_time": "2019-04-26T07:23:17.028Z"
    },
    "scrolled": true
   },
   "outputs": [
    {
     "name": "stdout",
     "output_type": "stream",
     "text": [
      "\"a: 1\"\n",
      "\"A: 1\"\n",
      "\"b: 2\"\n",
      "\"B: 1\"\n",
      "\"c: 2\"\n",
      "\"C: 0\"\n",
      "\"d: 2\"\n",
      "\"D: 0\"\n",
      "\"s: 0\"\n",
      "\"S: 0\"\n"
     ]
    }
   ],
   "source": [
    "gens_ex = Gens + [Letter.new('s')]\n",
    "for g in gens_ex[1..-1]\n",
    "  p g.show + ': ' + w.count(g).to_s\n",
    "  p g.inverse.show + ': ' + w.count(g.inverse).to_s\n",
    "end;nil"
   ]
  },
  {
   "cell_type": "code",
   "execution_count": 10,
   "metadata": {
    "ExecuteTime": {
     "end_time": "2019-04-26T07:23:18.221452Z",
     "start_time": "2019-04-26T07:23:17.030Z"
    }
   },
   "outputs": [
    {
     "data": {
      "text/plain": [
       ":P"
      ]
     },
     "execution_count": 10,
     "metadata": {},
     "output_type": "execute_result"
    }
   ],
   "source": [
    "def P(w)\n",
    "  count = 0\n",
    "  facs = w.flatten.factors\n",
    "  facs.each_with_index do |f, i|\n",
    "    succ = (i < facs.size - 1) ? facs[i+1] : facs[0]\n",
    "    pair = [f.inverse, succ]\n",
    "    # p pair.map(&:show)\n",
    "    idxs = pair.map{|f| Rseq.find_index(f)}\n",
    "    # p idxs\n",
    "    count += 1 if idxs[0] < idxs[1]\n",
    "  end\n",
    "  return count\n",
    "end"
   ]
  },
  {
   "cell_type": "code",
   "execution_count": 11,
   "metadata": {
    "ExecuteTime": {
     "end_time": "2019-04-26T07:23:18.228409Z",
     "start_time": "2019-04-26T07:23:17.032Z"
    }
   },
   "outputs": [
    {
     "data": {
      "text/plain": [
       "7"
      ]
     },
     "execution_count": 11,
     "metadata": {},
     "output_type": "execute_result"
    }
   ],
   "source": [
    "#p w.show, Rseq.map(&:show)\n",
    "P(w)"
   ]
  },
  {
   "cell_type": "code",
   "execution_count": 45,
   "metadata": {
    "ExecuteTime": {
     "end_time": "2019-04-26T07:35:26.559212Z",
     "start_time": "2019-04-26T07:35:25.397Z"
    }
   },
   "outputs": [
    {
     "name": "stdout",
     "output_type": "stream",
     "text": [
      "\"w = abcdbABcd, div = [\\\"a\\\", \\\"bcdbABcd\\\"], ww = (a)(DCbaBDCB)\"\n",
      "\"P=2, A_bar=2, B=1, S_bar=0\"\n"
     ]
    }
   ],
   "source": [
    "#myw = Word.new(a[1], b[1].inverse).contract\n",
    "myw = w\n",
    "subs = myw.split(1)\n",
    "ww = subs[0]*(subs[1].inverse)\n",
    "p \"w = #{myw.show}, div = #{subs.map(&:show)}, ww = #{ww.show}\"\n",
    "\n",
    "ww.flatten!\n",
    "p \"P=#{P(ww)}, A_bar=#{a.map{|g| ww.count(g.inverse)}.inject(0, &:+)}, \\\n",
    "B=#{b.map{|g| ww.count(g)}.inject(0, &:+)}, \\\n",
    "S_bar=#{ww.count(Letter.new('s').inverse)}\"\n",
    "nil"
   ]
  },
  {
   "cell_type": "code",
   "execution_count": null,
   "metadata": {},
   "outputs": [],
   "source": []
  }
 ],
 "metadata": {
  "kernelspec": {
   "display_name": "Ruby 2.5.1",
   "language": "ruby",
   "name": "ruby"
  },
  "language_info": {
   "file_extension": ".rb",
   "mimetype": "application/x-ruby",
   "name": "ruby",
   "version": "2.5.1"
  },
  "varInspector": {
   "cols": {
    "lenName": 16,
    "lenType": 16,
    "lenVar": 40
   },
   "kernels_config": {
    "python": {
     "delete_cmd_postfix": "",
     "delete_cmd_prefix": "del ",
     "library": "var_list.py",
     "varRefreshCmd": "print(var_dic_list())"
    },
    "r": {
     "delete_cmd_postfix": ") ",
     "delete_cmd_prefix": "rm(",
     "library": "var_list.r",
     "varRefreshCmd": "cat(var_dic_list()) "
    }
   },
   "types_to_exclude": [
    "module",
    "function",
    "builtin_function_or_method",
    "instance",
    "_Feature"
   ],
   "window_display": false
  }
 },
 "nbformat": 4,
 "nbformat_minor": 2
}
