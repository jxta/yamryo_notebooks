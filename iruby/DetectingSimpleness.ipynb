{
 "cells": [
  {
   "cell_type": "code",
   "execution_count": 1,
   "metadata": {
    "ExecuteTime": {
     "end_time": "2019-04-18T01:37:22.543612Z",
     "start_time": "2019-04-18T01:37:22.002Z"
    },
    "scrolled": true
   },
   "outputs": [
    {
     "data": {
      "text/plain": [
       "[\"bABcdCDsa\", \"ASdcDCbaB\", \"ABcdCDsab\", \"BASdcDCba\", \"BcdCDsabA\", \"aBASdcDCb\", \"cdCDsabAB\", \"baBASdcDC\", \"dCDsabABc\", \"CbaBASdcD\", \"CDsabABcd\", \"DCbaBASdc\", \"DsabABcdC\", \"cDCbaBASd\", \"sabABcdCD\", \"dcDCbaBAS\", \"abABcdCDs\", \"SdcDCbaBA\"]"
      ]
     },
     "execution_count": 1,
     "metadata": {},
     "output_type": "execute_result"
    }
   ],
   "source": [
    "require './freegroup.rb'\n",
    "\n",
    "Del = Word.new('abAB', 'cdCD', 's').freeze\n",
    "'Del = ' + Del.show\n",
    "\n",
    "DelPerms = []\n",
    "perm = Del.dup\n",
    "(Del.size).times do |n|\n",
    "  perm = perm.cyclic_permutation\n",
    "  DelPerms << perm << perm.inverse\n",
    "end\n",
    "DelPerms.freeze\n",
    "DelPerms.map(&:show)"
   ]
  },
  {
   "cell_type": "code",
   "execution_count": 2,
   "metadata": {
    "ExecuteTime": {
     "end_time": "2019-04-18T01:37:22.545988Z",
     "start_time": "2019-04-18T01:37:22.006Z"
    }
   },
   "outputs": [],
   "source": [
    "w = Word.new('abDdcdbABcd'); nil"
   ]
  },
  {
   "cell_type": "markdown",
   "metadata": {},
   "source": [
    "### (i) Contracting the word"
   ]
  },
  {
   "cell_type": "code",
   "execution_count": 3,
   "metadata": {
    "ExecuteTime": {
     "end_time": "2019-04-18T01:37:22.555219Z",
     "start_time": "2019-04-18T01:37:22.009Z"
    }
   },
   "outputs": [
    {
     "data": {
      "text/plain": [
       "\"abcdbABcd\""
      ]
     },
     "execution_count": 3,
     "metadata": {},
     "output_type": "execute_result"
    }
   ],
   "source": [
    "# (i) contract\n",
    "reduced = w.contract.dup\n",
    "reduced.show"
   ]
  },
  {
   "cell_type": "markdown",
   "metadata": {},
   "source": [
    "### (ii) removing subwords"
   ]
  },
  {
   "cell_type": "code",
   "execution_count": 7,
   "metadata": {
    "ExecuteTime": {
     "end_time": "2019-04-18T01:37:41.607284Z",
     "start_time": "2019-04-18T01:37:41.053Z"
    }
   },
   "outputs": [],
   "source": [
    "def reduce_once(myw)\n",
    "  facs = myw.flatten.factors\n",
    "  (myw.size+1).times do |i|\n",
    "    w1 = Word.new(facs[0,i])\n",
    "    w2 = Word.new(facs.drop(i))\n",
    "    original_size = myw.size\n",
    "    for perm in DelPerms\n",
    "      wc = (w1*perm*w2).deep_copy.contract\n",
    "      if (wc.size < original_size) then\n",
    "        myw = wc \n",
    "        break\n",
    "      end\n",
    "    end\n",
    "    if (myw.size < original_size) then\n",
    "      return myw\n",
    "      break\n",
    "    end\n",
    "  end\n",
    "  return nil    \n",
    "end\n",
    "    \n",
    "def reduce(myword)\n",
    "  while not myword.nil?\n",
    "    prev = myword\n",
    "    myword = reduce_once(myword)\n",
    "  end\n",
    "  return prev.contract\n",
    "end\n",
    "nil"
   ]
  },
  {
   "cell_type": "code",
   "execution_count": 8,
   "metadata": {
    "ExecuteTime": {
     "end_time": "2019-04-18T01:39:11.913174Z",
     "start_time": "2019-04-18T01:39:11.359Z"
    }
   },
   "outputs": [
    {
     "name": "stdout",
     "output_type": "stream",
     "text": [
      "\"w = abcdbABcd and w.size = 9\"\n",
      "\"abcdASdc\"\n"
     ]
    },
    {
     "data": {
      "text/plain": [
       "\"abcdASdc\""
      ]
     },
     "execution_count": 8,
     "metadata": {},
     "output_type": "execute_result"
    }
   ],
   "source": [
    "p 'w = ' + w.show + ' and w.size = ' + w.size.to_s\n",
    "p reduce(w).show"
   ]
  },
  {
   "cell_type": "markdown",
   "metadata": {},
   "source": [
    "### (iii) removing subwords part2"
   ]
  },
  {
   "cell_type": "code",
   "execution_count": null,
   "metadata": {},
   "outputs": [],
   "source": []
  },
  {
   "cell_type": "markdown",
   "metadata": {},
   "source": []
  }
 ],
 "metadata": {
  "kernelspec": {
   "display_name": "Ruby 2.5.1",
   "language": "ruby",
   "name": "ruby"
  },
  "language_info": {
   "file_extension": ".rb",
   "mimetype": "application/x-ruby",
   "name": "ruby",
   "version": "2.5.1"
  },
  "varInspector": {
   "cols": {
    "lenName": 16,
    "lenType": 16,
    "lenVar": 40
   },
   "kernels_config": {
    "python": {
     "delete_cmd_postfix": "",
     "delete_cmd_prefix": "del ",
     "library": "var_list.py",
     "varRefreshCmd": "print(var_dic_list())"
    },
    "r": {
     "delete_cmd_postfix": ") ",
     "delete_cmd_prefix": "rm(",
     "library": "var_list.r",
     "varRefreshCmd": "cat(var_dic_list()) "
    }
   },
   "types_to_exclude": [
    "module",
    "function",
    "builtin_function_or_method",
    "instance",
    "_Feature"
   ],
   "window_display": false
  }
 },
 "nbformat": 4,
 "nbformat_minor": 2
}
