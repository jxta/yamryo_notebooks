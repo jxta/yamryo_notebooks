{
 "cells": [
  {
   "cell_type": "markdown",
   "metadata": {},
   "source": [
    "# The fundarmental group of $\\Sigma_{g,1}$ "
   ]
  },
  {
   "cell_type": "code",
   "execution_count": 1,
   "metadata": {
    "ExecuteTime": {
     "end_time": "2019-07-18T02:42:27.802917Z",
     "start_time": "2019-07-18T02:42:27.794Z"
    }
   },
   "outputs": [
    {
     "data": {
      "text/plain": [
       "true"
      ]
     },
     "execution_count": 1,
     "metadata": {},
     "output_type": "execute_result"
    }
   ],
   "source": [
    "require './freegroup.rb'"
   ]
  },
  {
   "cell_type": "markdown",
   "metadata": {
    "heading_collapsed": true
   },
   "source": [
    "## generators"
   ]
  },
  {
   "cell_type": "code",
   "execution_count": 2,
   "metadata": {
    "ExecuteTime": {
     "end_time": "2019-07-18T02:42:27.815833Z",
     "start_time": "2019-07-18T02:42:27.800Z"
    },
    "hidden": true
   },
   "outputs": [
    {
     "name": "stdout",
     "output_type": "stream",
     "text": [
      "[\"a\", \"b\", \"c\", \"d\", \"e\", \"f\"]\n",
      "[\"1\", \"a\", \"c\", \"e\"]\n"
     ]
    }
   ],
   "source": [
    "genus = 3\n",
    "alphabet = %w(a b c d e f)\n",
    "\n",
    "Gens = [Letter.new] + alphabet.map{|x| Letter.new(x)}\n",
    "Gens.freeze\n",
    "p Gens[1..-1].map(&:show)\n",
    "\n",
    "a = [Gens[0]] + Gens[1..-1].each_slice(2).map(&:first)\n",
    "b = [Gens[0]] + Gens[1..-1].each_slice(2).map(&:last)\n",
    "p a.map(&:show)\n",
    "nil"
   ]
  },
  {
   "cell_type": "code",
   "execution_count": 3,
   "metadata": {
    "ExecuteTime": {
     "end_time": "2019-07-18T02:42:27.820796Z",
     "start_time": "2019-07-18T02:42:27.805Z"
    },
    "hidden": true
   },
   "outputs": [
    {
     "name": "stdout",
     "output_type": "stream",
     "text": [
      "[\"1111\", \"abAB\", \"cdCD\", \"efEF\"]\n"
     ]
    },
    {
     "data": {
      "text/plain": [
       "[\"1111\", \"abAB\", \"cdCD\", \"efEF\"]"
      ]
     },
     "execution_count": 3,
     "metadata": {},
     "output_type": "execute_result"
    }
   ],
   "source": [
    "comms = []\n",
    "(Gens.size/2 + 1).times do |i|\n",
    "  comms << Group.commutator(a[i], b[i])\n",
    "end\n",
    "p comms.map(&:show)"
   ]
  },
  {
   "cell_type": "code",
   "execution_count": 4,
   "metadata": {
    "ExecuteTime": {
     "end_time": "2019-07-18T02:42:27.831944Z",
     "start_time": "2019-07-18T02:42:27.810Z"
    },
    "hidden": true
   },
   "outputs": [
    {
     "name": "stderr",
     "output_type": "stream",
     "text": [
      "<main>:2: warning: already initialized constant Rseq\n",
      "<main>:2: warning: already initialized constant Rseq\n",
      "<main>:2: warning: previous definition of Rseq was here\n",
      "<main>:2: warning: already initialized constant Rseq\n",
      "<main>:2: warning: previous definition of Rseq was here\n"
     ]
    },
    {
     "name": "stdout",
     "output_type": "stream",
     "text": [
      "[\"a\", \"B\", \"A\", \"b\", \"c\", \"D\", \"C\", \"d\", \"e\", \"F\", \"E\", \"f\"]\n"
     ]
    }
   ],
   "source": [
    "Rseq = []\n",
    "(Gens.size/2).times do |i|\n",
    "  Rseq += [a[i+1], b[i+1].inverse, a[i+1].inverse, b[i+1]]\n",
    "end\n",
    "Rseq.freeze\n",
    "p Rseq.map(&:show) #.index('A')\n",
    "nil"
   ]
  },
  {
   "cell_type": "markdown",
   "metadata": {},
   "source": [
    "## Turaev cobraket"
   ]
  },
  {
   "cell_type": "code",
   "execution_count": 5,
   "metadata": {
    "ExecuteTime": {
     "end_time": "2019-07-18T02:42:27.835430Z",
     "start_time": "2019-07-18T02:42:27.817Z"
    }
   },
   "outputs": [],
   "source": [
    "def ep(h1, h2)\n",
    "  result = h1[:sign]*h2[:sign]\n",
    "  result *= if h1[:letter].show == h2[:letter].show\n",
    "    (h1[:index] < h2[:index]) ? h2[:sign] : h1[:sign]*(-1)\n",
    "  else\n",
    "    (Rseq.index(h1[:letter]) < Rseq.index(h2[:letter])) ? 1 : -1\n",
    "  end\n",
    "  return result\n",
    "end\n",
    "#--------------------------------------------\n",
    "\n",
    "def lk(word, div_pair)\n",
    "  word.flatten!\n",
    "  div_hashs = div_pair.map do |k|\n",
    "    [{index: k%(word.size)+1, letter: word[k%(word.size)], sign: 1},\n",
    "       {index: k, letter: word[k-1].inverse, sign: -1}]\n",
    "  end\n",
    "  sum = 0\n",
    "  2.times do |i|\n",
    "    2.times{|j| sum += ep(div_hashs[0][i], div_hashs[1][j])}\n",
    "  end\n",
    "  return (-1)*(sum/2)\n",
    "end; nil"
   ]
  },
  {
   "cell_type": "code",
   "execution_count": 6,
   "metadata": {
    "ExecuteTime": {
     "end_time": "2019-07-18T02:42:27.837106Z",
     "start_time": "2019-07-18T02:42:27.823Z"
    },
    "code_folding": [],
    "scrolled": true
   },
   "outputs": [],
   "source": [
    "def cobracket(myw, verbose: false)\n",
    "  \n",
    "  #-----\n",
    "  # 2つの div の組み合わせ全てについて、{divs: *, linking: *, words: *} という Hash を生成。\n",
    "  \n",
    "  divs = (1..myw.size).to_a\n",
    "  monomials = divs.combination(2).map do |combi|\n",
    "    #--- dividng word --- \n",
    "    facs = myw.flatten.factors\n",
    "    words = Array.new(2)\n",
    "    words[0] = Word.new(facs[0..combi[0]-1]+facs[combi[1]..-1])\n",
    "    words[1] = Word.new(facs[combi[0]..combi[1]-1])\n",
    "    \n",
    "    {divs: combi, linking: lk(myw, combi), words: words}\n",
    "  end\n",
    "  #-----\n",
    "  \n",
    "  if verbose\n",
    "    result = monomials\n",
    "  else\n",
    "    monomials.delete_if{|mono| mono[:linking] == 0}\n",
    "    monomials.each{|mono| mono[:words] = mono[:words].map(&:cyclic_reduce)}\n",
    "    result = []\n",
    "    while monomials.size > 0\n",
    "      pop = monomials.pop\n",
    "      pop[:divs] = [pop[:divs]]\n",
    "      pop[:coeff] = pop[:linking]\n",
    "      #---\n",
    "      monomials.each do |mono|\n",
    "        if mono[:words][0].conjugate?(pop[:words][0]) and mono[:words][1].conjugate?(pop[:words][1])\n",
    "          pop[:coeff] += mono[:linking]\n",
    "          pop[:divs] << mono[:divs]\n",
    "          mono[:linking] = nil\n",
    "        elsif mono[:words][0].conjugate?(pop[:words][1]) and mono[:words][1].conjugate?(pop[:words][0])\n",
    "          pop[:coeff] += mono[:linking]*(-1)\n",
    "          pop[:divs] << mono[:divs]\n",
    "          mono[:linking] = nil\n",
    "        end\n",
    "      end\n",
    "      #---\n",
    "      if pop[:coeff] != 0 or verbose\n",
    "        result << pop\n",
    "      end\n",
    "      #---\n",
    "      monomials.delete_if{|mono| mono[:linking].nil?}\n",
    "    end \n",
    "  end\n",
    "  return (result.empty?) ? [{divs: [], coeff: 0, words: []}] : result\n",
    "end; nil"
   ]
  },
  {
   "cell_type": "code",
   "execution_count": 7,
   "metadata": {
    "ExecuteTime": {
     "end_time": "2019-07-18T02:42:27.850851Z",
     "start_time": "2019-07-18T02:42:27.830Z"
    }
   },
   "outputs": [
    {
     "name": "stdout",
     "output_type": "stream",
     "text": [
      "bab\n",
      "-------\n",
      "\"divs: [1, 2]\"\n",
      "\"linking: 0\"\n",
      "\"words: bb ∧ a\"\n",
      "---\n",
      "\"divs: [1, 3]\"\n",
      "\"linking: 1\"\n",
      "\"words: b ∧ ab\"\n",
      "---\n",
      "\"divs: [2, 3]\"\n",
      "\"linking: 1\"\n",
      "\"words: ba ∧ b\"\n",
      "---\n"
     ]
    }
   ],
   "source": [
    "mw = Word.new(b[1], a[1], b[1]) #a1*Group.commutator(b[1], a[2]) #comms[1] #\n",
    "printf mw.show + \"\\n-------\\n\"\n",
    "\n",
    "vbs = true #false #\n",
    "cobracket(mw, verbose: vbs).each do |h|\n",
    "  h.each do |k,v| \n",
    "    v = v.map(&:show).join(\" \\u{2227} \") if k == :words\n",
    "    p \"#{k}: #{v}\"\n",
    "  end\n",
    "  printf \"---\\n\"\n",
    "end; nil"
   ]
  },
  {
   "cell_type": "markdown",
   "metadata": {},
   "source": [
    "# Execution"
   ]
  },
  {
   "cell_type": "code",
   "execution_count": 25,
   "metadata": {
    "ExecuteTime": {
     "end_time": "2019-07-18T05:43:25.371278Z",
     "start_time": "2019-07-18T05:43:25.344Z"
    },
    "scrolled": false
   },
   "outputs": [
    {
     "name": "stdout",
     "output_type": "stream",
     "text": [
      "--- s7 ---\n",
      " a.Bab.a.B  |--δ-->  (0)\n",
      "a.b.a.B.a.B  |--δ-->  (0)\n",
      "a.aBA.a.B  |--δ-->  aB ∧ aB\n",
      "aaBB  |--δ-->  (-1)aB ∧ aB\n",
      "a.a.D.D  |--δ-->  aaD ∧ D + aDD ∧ a\n"
     ]
    }
   ],
   "source": [
    "a1, b1 = Word.new(a[1]), Word.new(b[1])\n",
    "c = (a1*Word.new(b[1])*(a1.inverse)).flatten\n",
    "\n",
    "samples = {\n",
    "  s0: [\n",
    "    a1, \n",
    "    a1*Word.new(b[2]),\n",
    "    a1*(Word.new(b[2]).inverse),\n",
    "    a1*c*(c.inverse),\n",
    "  ],\n",
    "  s1: [\n",
    "    a1^4,\n",
    "    c,\n",
    "    comms[1],\n",
    "    Word.new(b[1])*a1*Word.new(b[1])\n",
    "  ],\n",
    "  s2: [\n",
    "    a1*(comms[2].inverse),\n",
    "    a1*(c.inverse)*(comms[2].inverse)*c,\n",
    "    a1*(comms[2].inverse)*Group.commutator(comms[2], c.inverse),\n",
    "    (a1*(comms[2].inverse)*Group.commutator(comms[2], c.inverse)).cyclic_reduce\n",
    "  ],\n",
    "  s3: [\n",
    "    a1*comms[2],\n",
    "    a1*(comms[2]^2),\n",
    "    a1*comms[2]*c*comms[2]*(c.inverse),\n",
    "    a1*(comms[2]^2)*Group.commutator(comms[2].inverse,c)\n",
    "  ],\n",
    "  s4: [\n",
    "    a1*(Word.new(a[2])^3),\n",
    "    a1*(Word.new(a[2], b[2].inverse)^3)\n",
    "  ],\n",
    "  s5: [\n",
    "    a1*Group.commutator(a[2], a[3]),\n",
    "    a1*(comms[2]*comms[3])*Group.commutator(a[2], a[3])*((comms[2]*comms[3]).inverse)\n",
    "  ],\n",
    "  s6: [\n",
    "    a1*Group.commutator(b[1], a[2]),\n",
    "    a1*(a1.inverse)*Word.new(b[1])*a1,\n",
    "    c*(a1.inverse)*a1,\n",
    "    c*(c.inverse),\n",
    "    Word.new(a[1], b[1], b[1].inverse, b[2])\n",
    "  ],\n",
    "  s7: [\n",
    "    a1*(Group.conjugate(a1, b1.inverse))*a1*(b1.inverse),\n",
    "    a1*b1*((a1*(b1.inverse))^2),\n",
    "    a1*Group.conjugate(b1.inverse, a1)*a1*(b1.inverse),\n",
    "    (a1*Group.conjugate(b1.inverse, a1)*a1*(b1.inverse)).contract,\n",
    "    a1*a1*(Word.new(b[2].inverse)^2)\n",
    "    ]\n",
    "  }\n",
    "\n",
    "arr = samples.slice(:s7) #:s0, :s6) #:s2) #, :s3) #:s0, :s1) #\n",
    "arr.each do |k, v|\n",
    "  printf \"--- #{k} ---\\n \"\n",
    "  v.each do |s|\n",
    "    ws = s.show\n",
    "    cob = cobracket(s, verbose: false).map do |h|\n",
    "     coeff = (h[:coeff]==1) ? '' : \"(#{h[:coeff].to_s})\"\n",
    "#       coeff = (h[:linking]==1) ? '' : \"(#{h[:linking].to_s})\"\n",
    "      coeff + \"#{h[:words].join(\" \\u{2227} \")}\"\n",
    "    end\n",
    "    #---\n",
    "    puts \"#{ws}  |--\\u{03B4}-->  #{cob.join(' + ')}\"\n",
    "  end\n",
    "end;nil"
   ]
  },
  {
   "cell_type": "markdown",
   "metadata": {},
   "source": [
    "## Experiments"
   ]
  },
  {
   "cell_type": "code",
   "execution_count": 9,
   "metadata": {
    "ExecuteTime": {
     "end_time": "2019-07-18T02:42:29.711081Z",
     "start_time": "2019-07-18T02:42:27.843Z"
    }
   },
   "outputs": [
    {
     "name": "stdout",
     "output_type": "stream",
     "text": [
      "\"C.a.cC\"\n",
      "=====\n",
      "\"divs: [1, 2]\"\n",
      "\"linking: 1\"\n",
      "\"words: C ∧ a\"\n",
      "---\n",
      "\"divs: [1, 3]\"\n",
      "\"linking: 0\"\n",
      "\"words: CC ∧ ac\"\n",
      "---\n",
      "\"divs: [1, 4]\"\n",
      "\"linking: 1\"\n",
      "\"words: C ∧ a\"\n",
      "---\n",
      "\"divs: [2, 3]\"\n",
      "\"linking: 0\"\n",
      "\"words: CaC ∧ c\"\n",
      "---\n",
      "\"divs: [2, 4]\"\n",
      "\"linking: -1\"\n",
      "\"words: Ca ∧ 1\"\n",
      "---\n",
      "\"divs: [3, 4]\"\n",
      "\"linking: 1\"\n",
      "\"words: a ∧ C\"\n",
      "---\n"
     ]
    }
   ],
   "source": [
    "#myw = Word.new(a[2], a[1].inverse, b[2])*Word.new(a[1], a[1].inverse)*Word.new(b[1], a[2]) #.contract\n",
    "myw = Word.new(a[2].inverse)*Word.new(a[1])*Word.new(a[2], a[2].inverse)\n",
    "p myw.show\n",
    "\n",
    "vb = true #false #\n",
    "printf(\"=====\\n\")\n",
    "cobracket(myw, verbose: vb).each do |h|\n",
    "  h.each do |k,v|\n",
    "    case k \n",
    "    when :divs, :linking\n",
    "      p \"#{k}: #{v}\"\n",
    "    when :factors\n",
    "      p h[:factors].map(&:show).join(\" , \")\n",
    "    when :words\n",
    "      coeff = (h[:coeff]==1) ? '' : \"(#{h[:coeff].to_s})\"\n",
    "#      p coeff + \"#{h[:words].map(&:cyclic_reduce).join(\" \\u{2227} \")}\"\n",
    "      p \"words: \" + \"#{h[:words].map(&:cyclic_reduce).join(\" \\u{2227} \")}\"\n",
    "    else\n",
    "    end\n",
    "  end\n",
    "  printf(\"---\\n\")\n",
    "end; nil"
   ]
  },
  {
   "cell_type": "code",
   "execution_count": 10,
   "metadata": {
    "ExecuteTime": {
     "end_time": "2019-07-18T02:42:29.762223Z",
     "start_time": "2019-07-18T02:42:27.849Z"
    }
   },
   "outputs": [
    {
     "name": "stdout",
     "output_type": "stream",
     "text": [
      "\"abBd.AD\"\n",
      "=====\n",
      "\"divs: [[5, 6], [1, 4], [3, 4]]\"\n",
      "\"linking: 1\"\n",
      "\"words: d ∧ D\"\n",
      "---\n",
      "\"divs: [[3, 6]]\"\n",
      "\"linking: -1\"\n",
      "\"words: a ∧ A\"\n",
      "---\n",
      "\"divs: [[3, 5]]\"\n",
      "\"linking: 1\"\n",
      "\"words: aD ∧ dA\"\n",
      "---\n",
      "\"divs: [[1, 3]]\"\n",
      "\"linking: -1\"\n",
      "\"words: adAD ∧ 1\"\n",
      "---\n"
     ]
    }
   ],
   "source": [
    "myw = samples[:s6][-1]*Word.new(a[1].inverse, b[2].inverse)\n",
    "p myw.show\n",
    "\n",
    "vb = false #true #\n",
    "printf(\"=====\\n\")\n",
    "cobracket(myw, verbose: vb).each do |h|\n",
    "  h.each do |k,v|\n",
    "    case k \n",
    "    when :divs, :linking\n",
    "      p \"#{k}: #{v}\"\n",
    "    when :factors\n",
    "      p h[:factors].map(&:show).join(\" , \")\n",
    "    when :words\n",
    "      coeff = (h[:coeff]==1) ? '' : \"(#{h[:coeff].to_s})\"\n",
    "#      p coeff + \"#{h[:words].map(&:cyclic_reduce).join(\" \\u{2227} \")}\"\n",
    "      p \"words: \" + \"#{h[:words].map(&:cyclic_reduce).join(\" \\u{2227} \")}\"\n",
    "    else\n",
    "    end\n",
    "  end\n",
    "  printf(\"---\\n\")\n",
    "end; nil"
   ]
  },
  {
   "cell_type": "markdown",
   "metadata": {},
   "source": [
    "### TODO\n",
    "\n",
    "* [ ] cobracket を再帰的に作用させて、完全に分解することに何らかの意味があるか?\n",
    "* [ ] $\\ell_{2}$ の計算と cobracket との関係は? とくに両者にある division について。\n",
    "* [x] a.abA.aBA の cobraket にバグあり。\n",
    "* [x] div 同士の linking を div に対応する2文字ワード同士の単純な計算で求められないか?  <-- **DONE!**\n",
    "* [x] 係数がプラマイ逆かな。\n",
    "* [x] simple subword たちによる計算を実装する。<-- ダメだった。各 simple subword が内部では確実に交差しない保証がないとダメだから。"
   ]
  },
  {
   "cell_type": "code",
   "execution_count": null,
   "metadata": {},
   "outputs": [],
   "source": []
  }
 ],
 "metadata": {
  "kernelspec": {
   "display_name": "Ruby 2.6.1",
   "language": "ruby",
   "name": "ruby"
  },
  "language_info": {
   "file_extension": ".rb",
   "mimetype": "application/x-ruby",
   "name": "ruby",
   "version": "2.6.1"
  },
  "toc": {
   "base_numbering": 1,
   "nav_menu": {},
   "number_sections": false,
   "sideBar": true,
   "skip_h1_title": true,
   "title_cell": "Table of Contents",
   "title_sidebar": "Contents",
   "toc_cell": false,
   "toc_position": {},
   "toc_section_display": true,
   "toc_window_display": false
  },
  "varInspector": {
   "cols": {
    "lenName": 16,
    "lenType": 16,
    "lenVar": 40
   },
   "kernels_config": {
    "python": {
     "delete_cmd_postfix": "",
     "delete_cmd_prefix": "del ",
     "library": "var_list.py",
     "varRefreshCmd": "print(var_dic_list())"
    },
    "r": {
     "delete_cmd_postfix": ") ",
     "delete_cmd_prefix": "rm(",
     "library": "var_list.r",
     "varRefreshCmd": "cat(var_dic_list()) "
    }
   },
   "types_to_exclude": [
    "module",
    "function",
    "builtin_function_or_method",
    "instance",
    "_Feature"
   ],
   "window_display": false
  }
 },
 "nbformat": 4,
 "nbformat_minor": 2
}
