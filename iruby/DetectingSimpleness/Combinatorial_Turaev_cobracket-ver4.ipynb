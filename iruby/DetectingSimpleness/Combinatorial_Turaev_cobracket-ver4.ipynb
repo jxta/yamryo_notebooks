{
 "cells": [
  {
   "cell_type": "markdown",
   "metadata": {},
   "source": [
    "# The fundarmental group of $\\Sigma_{g,1}$ "
   ]
  },
  {
   "cell_type": "code",
   "execution_count": 1,
   "metadata": {
    "ExecuteTime": {
     "end_time": "2019-06-19T01:39:46.967211Z",
     "start_time": "2019-06-19T01:39:46.953Z"
    }
   },
   "outputs": [
    {
     "data": {
      "text/plain": [
       "true"
      ]
     },
     "execution_count": 1,
     "metadata": {},
     "output_type": "execute_result"
    }
   ],
   "source": [
    "require './freegroup.rb'"
   ]
  },
  {
   "cell_type": "markdown",
   "metadata": {},
   "source": [
    "## generators"
   ]
  },
  {
   "cell_type": "code",
   "execution_count": 2,
   "metadata": {
    "ExecuteTime": {
     "end_time": "2019-06-19T01:39:46.986447Z",
     "start_time": "2019-06-19T01:39:46.963Z"
    }
   },
   "outputs": [
    {
     "name": "stdout",
     "output_type": "stream",
     "text": [
      "[\"a\", \"b\", \"c\", \"d\", \"e\", \"f\"]\n",
      "[\"1\", \"a\", \"c\", \"e\"]\n"
     ]
    }
   ],
   "source": [
    "genus = 3\n",
    "alphabet = %w(a b c d e f)\n",
    "\n",
    "Gens = [Letter.new] + alphabet.map{|x| Letter.new(x)}\n",
    "Gens.freeze\n",
    "p Gens[1..-1].map(&:show)\n",
    "\n",
    "a = [Gens[0]] + Gens[1..-1].each_slice(2).map(&:first)\n",
    "b = [Gens[0]] + Gens[1..-1].each_slice(2).map(&:last)\n",
    "p a.map(&:show)\n",
    "nil"
   ]
  },
  {
   "cell_type": "code",
   "execution_count": 3,
   "metadata": {
    "ExecuteTime": {
     "end_time": "2019-06-19T01:39:46.993406Z",
     "start_time": "2019-06-19T01:39:46.973Z"
    }
   },
   "outputs": [
    {
     "name": "stdout",
     "output_type": "stream",
     "text": [
      "[\"1111\", \"abAB\", \"cdCD\", \"efEF\"]\n"
     ]
    },
    {
     "data": {
      "text/plain": [
       "[\"1111\", \"abAB\", \"cdCD\", \"efEF\"]"
      ]
     },
     "execution_count": 3,
     "metadata": {},
     "output_type": "execute_result"
    }
   ],
   "source": [
    "comms = []\n",
    "(Gens.size/2 + 1).times do |i|\n",
    "  comms << Group.commutator(a[i], b[i])\n",
    "end\n",
    "p comms.map(&:show)"
   ]
  },
  {
   "cell_type": "code",
   "execution_count": 4,
   "metadata": {
    "ExecuteTime": {
     "end_time": "2019-06-19T01:39:47.015770Z",
     "start_time": "2019-06-19T01:39:46.979Z"
    }
   },
   "outputs": [
    {
     "name": "stderr",
     "output_type": "stream",
     "text": [
      "<main>:2: warning: already initialized constant Rseq\n",
      "<main>:2: warning: already initialized constant Rseq\n",
      "<main>:2: warning: previous definition of Rseq was here\n",
      "<main>:2: warning: already initialized constant Rseq\n",
      "<main>:2: warning: previous definition of Rseq was here\n"
     ]
    },
    {
     "name": "stdout",
     "output_type": "stream",
     "text": [
      "[\"a\", \"B\", \"A\", \"b\", \"c\", \"D\", \"C\", \"d\", \"e\", \"F\", \"E\", \"f\"]\n"
     ]
    }
   ],
   "source": [
    "Rseq = []\n",
    "(Gens.size/2).times do |i|\n",
    "  Rseq += [a[i+1], b[i+1].inverse, a[i+1].inverse, b[i+1]]\n",
    "end\n",
    "Rseq.freeze\n",
    "p Rseq.map(&:show) #.index('A')\n",
    "nil"
   ]
  },
  {
   "cell_type": "markdown",
   "metadata": {},
   "source": [
    "## Turaev cobraket"
   ]
  },
  {
   "cell_type": "code",
   "execution_count": 8,
   "metadata": {
    "ExecuteTime": {
     "end_time": "2019-06-19T01:39:47.073647Z",
     "start_time": "2019-06-19T01:39:47.015Z"
    },
    "code_folding": [],
    "scrolled": true
   },
   "outputs": [],
   "source": [
    "def cobracket(myw, verbose: false)\n",
    "  \n",
    "  #-----\n",
    "  # 2つの div の組み合わせ全てについて、{odds: *,  }\n",
    "  #-----\n",
    "  \n",
    "  monomials = Wcode.new(myw).cobracket(verbose: verbose, narrow: narrow).map do |mono|\n",
    "    prewords = mono[:factors].map(&:narrow).map(&:to_word)\n",
    "    words = prewords.map(&:cyclic_reduce)\n",
    "    mono.merge({coeff: mono[:linking], words: words})\n",
    "  end\n",
    "\n",
    "  if verbose\n",
    "    result = monomials\n",
    "  else\n",
    "    result = []\n",
    "    while monomials.size > 0\n",
    "      pop = monomials.pop\n",
    "      pop[:odds] = [pop[:odds]]\n",
    "      #---\n",
    "      monomials.each do |mono|\n",
    "        if mono[:words][0].conjugate?(pop[:words][0]) and mono[:words][1].conjugate?(pop[:words][1])\n",
    "          pop[:coeff] += mono[:coeff]\n",
    "          pop[:odds] << mono[:odds]\n",
    "          mono[:coeff] = nil\n",
    "        elsif mono[:words][0].conjugate?(pop[:words][1]) and mono[:words][1].conjugate?(pop[:words][0])\n",
    "          pop[:coeff] += mono[:coeff]*(-1)\n",
    "          pop[:odds] << mono[:odds]\n",
    "          mono[:coeff] = nil\n",
    "        end\n",
    "      end\n",
    "      #---\n",
    "      if pop[:coeff] != 0 or verbose\n",
    "        result << pop\n",
    "      end\n",
    "      #---\n",
    "      monomials.delete_if{|mono| mono[:coeff].nil?}\n",
    "    end \n",
    "  end\n",
    "  return (result.empty?) ? [{orders: [], linking: 0, factors: [], coeff: 0, words: []}] : result\n",
    "end; nil"
   ]
  },
  {
   "cell_type": "markdown",
   "metadata": {},
   "source": [
    "# Execution"
   ]
  },
  {
   "cell_type": "code",
   "execution_count": 15,
   "metadata": {
    "ExecuteTime": {
     "end_time": "2019-06-19T01:40:03.769734Z",
     "start_time": "2019-06-19T01:40:03.752Z"
    },
    "scrolled": false
   },
   "outputs": [
    {
     "name": "stdout",
     "output_type": "stream",
     "text": [
      "--- s6 ---\n",
      " a.bcBC  |--δ-->  (-1)abcB ∧ C + abc ∧ BC + (-1)abC ∧ cB\n"
     ]
    }
   ],
   "source": [
    "a1 = Word.new(a[1])\n",
    "c = (a1*Word.new(b[1])*(a1.inverse)).flatten\n",
    "\n",
    "samples = {\n",
    "  s0: [\n",
    "    a1, \n",
    "    a1*Word.new(b[2]),\n",
    "    a1*(Word.new(b[2]).inverse),\n",
    "    a1*c*(c.inverse),\n",
    "  ],\n",
    "  s1: [\n",
    "    a1^4,\n",
    "    c,\n",
    "    comms[1]\n",
    "  ],\n",
    "  s2: [\n",
    "    a1*(comms[2].inverse),\n",
    "    a1*(c.inverse)*(comms[2].inverse)*c,\n",
    "    a1*(comms[2].inverse)*Group.commutator(comms[2], c.inverse)\n",
    "  ],\n",
    "  s3: [\n",
    "    a1*comms[2],\n",
    "    a1*(comms[2]^2),\n",
    "    a1*comms[2]*c*comms[2]*(c.inverse)\n",
    "  ],\n",
    "  s4: [\n",
    "    a1*(Word.new(a[2])^3),\n",
    "    a1*(Word.new(a[2], b[2].inverse)^3)\n",
    "  ],\n",
    "  s5: [\n",
    "    a1*Group.commutator(a[2], a[3]),\n",
    "    a1*(comms[2]*comms[3])*Group.commutator(a[2], a[3])*((comms[2]*comms[3]).inverse)\n",
    "  ],\n",
    "  s6: [\n",
    "    a1*Group.commutator(b[1], a[2])\n",
    "  ]\n",
    "  }\n",
    "\n",
    "arr = samples.slice(:s6) #:s2) #, :s3) #:s0, :s1)\n",
    "arr.each do |k, v|\n",
    "  printf \"--- #{k} ---\\n \"\n",
    "  v.each do |s|\n",
    "    ws = s.show\n",
    "    cob = cobracket(s).map do |h|\n",
    "      coeff = (h[:coeff]==1) ? '' : \"(#{h[:coeff].to_s})\"\n",
    "      coeff + \"#{h[:words].join(\" \\u{2227} \")}\"\n",
    "    end\n",
    "    #---\n",
    "    puts \"#{ws}  |--\\u{03B4}-->  #{cob.join(' + ')}\"\n",
    "  end\n",
    "end;nil"
   ]
  },
  {
   "cell_type": "code",
   "execution_count": 10,
   "metadata": {
    "ExecuteTime": {
     "end_time": "2019-06-19T01:39:47.157872Z",
     "start_time": "2019-06-19T01:39:47.028Z"
    },
    "collapsed": true
   },
   "outputs": [
    {
     "name": "stdout",
     "output_type": "stream",
     "text": [
      "\"a.bcBC\"\n",
      "\"0|3,6|1|7,2|9,4||5,8|||||\"\n",
      "=====\n",
      "\"odds: [1, 3]\"\n",
      "\"linking: 0\"\n",
      "\"0|4|1|5|7,2||3,6||||| , |1||0||||||||\"\n",
      "\"(0)acBC ∧ b\"\n",
      "----------\n",
      "\"odds: [1, 5]\"\n",
      "\"linking: 0\"\n",
      "\"0|2|1|3|5||4||||| , |1||0|2||3|||||\"\n",
      "\"(0)aBC ∧ bc\"\n",
      "----------\n",
      "\"odds: [1, 7]\"\n",
      "\"linking: -1\"\n",
      "\"0||1||3||2||||| , |1,4||5,0|2||3|||||\"\n",
      "\"(-1)aC ∧ c\"\n",
      "----------\n",
      "\"odds: [1, 9]\"\n",
      "\"linking: 0\"\n",
      "\"0||1||||||||| , |1,4||5,0|7,2||3,6|||||\"\n",
      "\"(0)a ∧ bcBC\"\n",
      "----------\n",
      "\"odds: [3, 5]\"\n",
      "\"linking: 1\"\n",
      "\"0|3,4|1|5,2|7||6||||| , ||||0||1|||||\"\n",
      "\"aC ∧ c\"\n",
      "----------\n",
      "\"odds: [3, 7]\"\n",
      "\"linking: -1\"\n",
      "\"0|3|1|2|5||4||||| , |2||3|0||1|||||\"\n",
      "\"(-1)abC ∧ cB\"\n",
      "----------\n",
      "\"odds: [3, 9]\"\n",
      "\"linking: -1\"\n",
      "\"0|3|1|2|||||||| , |2||3|5,0||1,4|||||\"\n",
      "\"(-1)ab ∧ B\"\n",
      "----------\n",
      "\"odds: [5, 7]\"\n",
      "\"linking: 1\"\n",
      "\"0|3|1|2|7,4||5,6||||| , |0||1||||||||\"\n",
      "\"ab ∧ B\"\n",
      "----------\n",
      "\"odds: [5, 9]\"\n",
      "\"linking: 1\"\n",
      "\"0|3|1|2|4||5||||| , |0||1|3||2|||||\"\n",
      "\"abc ∧ BC\"\n",
      "----------\n",
      "\"odds: [7, 9]\"\n",
      "\"linking: -1\"\n",
      "\"0|3,6|1|7,2|4||5||||| , ||||1||0|||||\"\n",
      "\"(-1)abcB ∧ C\"\n",
      "----------\n"
     ]
    }
   ],
   "source": [
    "myw = samples[:s6][-1]\n",
    "wcode = Wcode.new(myw)\n",
    "p myw.show, wcode.show\n",
    "\n",
    "vb = true\n",
    "printf(\"=====\\n\")\n",
    "cobracket(myw, verbose: vb).each do |h|\n",
    "  h.each do |k,v|\n",
    "    case k \n",
    "    when :odds, :linking\n",
    "      p \"#{k}: #{v}\"\n",
    "    when :factors\n",
    "      p h[:factors].map(&:show).join(\" , \")\n",
    "    when :words\n",
    "      coeff = (h[:coeff]==1) ? '' : \"(#{h[:coeff].to_s})\"\n",
    "      p coeff + \"#{h[:words].join(\" \\u{2227} \")}\"\n",
    "    else\n",
    "    end\n",
    "  end\n",
    "  printf(\"----------\\n\")\n",
    "end; nil"
   ]
  },
  {
   "cell_type": "markdown",
   "metadata": {},
   "source": [
    "## Experiments"
   ]
  },
  {
   "cell_type": "code",
   "execution_count": 11,
   "metadata": {
    "ExecuteTime": {
     "end_time": "2019-06-19T01:39:47.534173Z",
     "start_time": "2019-06-19T01:39:47.046Z"
    },
    "collapsed": true
   },
   "outputs": [
    {
     "name": "stdout",
     "output_type": "stream",
     "text": [
      "\"a.dcDC --> (0||1|)(9,4|3,6|5,8|7,2)(|||)\"\n",
      "\"a.aBA.dcDC.abA --> (21,7,0,2,16|19,4|17,3,1,6,20|5,18)(15,10|9,12|11,14|13,8)(|||)\"\n",
      "\n",
      "\n",
      "\"odds: [1, 3]\"\n",
      "\"linking: 0\"\n",
      "\"(0||1|)(9,4|6|5,8|7)(|||) , (|)(|)(|3)(|2)(|)(|)\"\n",
      "\"(0)acDC ∧ d\"\n",
      "----------\n",
      "\"odds: [1, 9]\"\n",
      "\"linking: 0\"\n",
      "\"(21,0,16|19|17,1,20|18)(15,10|12|11,14|13)(|||) , (7,2|4|3,6|5)(|9||8)(|||)\"\n",
      "\"(0)cDCab ∧ aBAd\"\n",
      "----------\n",
      "=================\n",
      "\"odds: [1, 5]\"\n",
      "\"linking: 0\"\n",
      "\"(0||1|)(9|6|8|7)(|||) , (|||)(4|3|5|2)(|||)\"\n",
      "\"(0)aDC ∧ dc\"\n",
      "----------\n",
      "\"odds: [1, 11]\"\n",
      "\"linking: 0\"\n",
      "\"(21,0,16|19|17,1,20|18)(15|12|14|13)(|||) , (7,2|4|3,6|5)(10|9|11|8)(|||)\"\n",
      "\"(0)DCab ∧ aBAdc\"\n",
      "----------\n",
      "=================\n",
      "\"odds: [1, 7]\"\n",
      "\"linking: 0\"\n",
      "\"(0||1|)(9||8|)(|||) , (|||)(4|3,6|5|7,2)(|||)\"\n",
      "\"(0)aC ∧ c\"\n",
      "----------\n",
      "\"odds: [1, 13]\"\n",
      "\"linking: 0\"\n",
      "\"(21,0,16|19|17,1,20|18)(15||14|)(|||) , (7,2|4|3,6|5)(10|9,12|11|13,8)(|||)\"\n",
      "\"(0)Cab ∧ aBAdcD\"\n",
      "----------\n",
      "=================\n",
      "\"odds: [1, 9]\"\n",
      "\"linking: -1\"\n",
      "\"(0|)(1|)(|)(|)(|)(|) , (|||)(9,4|3,6|5,8|7,2)(|||)\"\n",
      "\"(-1)a ∧ dcDC\"\n",
      "----------\n",
      "\"odds: [1, 15]\"\n",
      "\"linking: -1\"\n",
      "\"(21,0,16|19|17,1,20|18)(|||)(|||) , (7,2|4|3,6|5)(15,10|9,12|11,14|13,8)(|||)\"\n",
      "\"(-1)ab ∧ aBAdcDC\"\n",
      "----------\n",
      "=================\n",
      "\"odds: [3, 5]\"\n",
      "\"linking: 0\"\n",
      "\"(0||1|)(9|3,6|8|7,2)(|||) , (|)(|)(4|)(5|)(|)(|)\"\n",
      "\"(0)aC ∧ c\"\n",
      "----------\n",
      "\"odds: [9, 11]\"\n",
      "\"linking: 0\"\n",
      "\"(21,7,0,2,16|19,4|17,3,1,6,20|5,18)(15|9,12|14|13,8)(|||) , (|)(|)(10|)(11|)(|)(|)\"\n",
      "\"(0)aBACab ∧ c\"\n",
      "----------\n",
      "=================\n",
      "\"odds: [3, 7]\"\n",
      "\"linking: 0\"\n",
      "\"(0||1|)(9|3|8|2)(|||) , (|||)(4|6|5|7)(|||)\"\n",
      "\"(0)adC ∧ cD\"\n",
      "----------\n",
      "\"odds: [9, 13]\"\n",
      "\"linking: 0\"\n",
      "\"(21,7,0,2,16|19,4|17,3,1,6,20|5,18)(15|9|14|8)(|||) , (|||)(10|12|11|13)(|||)\"\n",
      "\"(0)aBAdCab ∧ cD\"\n",
      "----------\n",
      "=================\n",
      "\"odds: [3, 9]\"\n",
      "\"linking: 0\"\n",
      "\"(0||1|)(|3||2)(|||) , (|||)(9,4|6|5,8|7)(|||)\"\n",
      "\"(0)ad ∧ D\"\n",
      "----------\n",
      "\"odds: [9, 15]\"\n",
      "\"linking: 0\"\n",
      "\"(21,7,0,2,16|19,4|17,3,1,6,20|5,18)(|9||8)(|||) , (|||)(15,10|12|11,14|13)(|||)\"\n",
      "\"(0)aBAdab ∧ D\"\n",
      "----------\n",
      "=================\n",
      "\"odds: [5, 7]\"\n",
      "\"linking: 0\"\n",
      "\"(0||1|)(9,4|3|5,8|2)(|||) , (|)(|)(|6)(|7)(|)(|)\"\n",
      "\"(0)ad ∧ D\"\n",
      "----------\n",
      "\"odds: [11, 13]\"\n",
      "\"linking: 0\"\n",
      "\"(21,7,0,2,16|19,4|17,3,1,6,20|5,18)(15,10|9|11,14|8)(|||) , (|)(|)(|12)(|13)(|)(|)\"\n",
      "\"(0)aBAdab ∧ D\"\n",
      "----------\n",
      "=================\n",
      "\"odds: [5, 9]\"\n",
      "\"linking: 0\"\n",
      "\"(0||1|)(4|3|5|2)(|||) , (|||)(9|6|8|7)(|||)\"\n",
      "\"(0)adc ∧ DC\"\n",
      "----------\n",
      "\"odds: [11, 15]\"\n",
      "\"linking: 0\"\n",
      "\"(21,7,0,2,16|19,4|17,3,1,6,20|5,18)(10|9|11|8)(|||) , (|||)(15|12|14|13)(|||)\"\n",
      "\"(0)aBAdcab ∧ DC\"\n",
      "----------\n",
      "=================\n",
      "\"odds: [7, 9]\"\n",
      "\"linking: 0\"\n",
      "\"(0||1|)(4|3,6|5|7,2)(|||) , (|)(|)(9|)(8|)(|)(|)\"\n",
      "\"(0)adcD ∧ C\"\n",
      "----------\n",
      "\"odds: [13, 15]\"\n",
      "\"linking: 0\"\n",
      "\"(21,7,0,2,16|19,4|17,3,1,6,20|5,18)(10|9,12|11|13,8)(|||) , (|)(|)(15|)(14|)(|)(|)\"\n",
      "\"(0)aBAdcDab ∧ C\"\n",
      "----------\n",
      "=================\n"
     ]
    }
   ],
   "source": [
    "ws = [a1*(comms[2].inverse), a1*(c.inverse)*(comms[2].inverse)*c]\n",
    "wcs = ws.map{|w| Wcode.new(w)}\n",
    "wcs.each{|wc| p \"#{wc.word.show} --> #{wc.show(3)}\" }\n",
    "\n",
    "cobras = ws.map{|w| cobracket(w, verbose: true, narrow: false)} # false)} #\n",
    "printf \"\\n\\n\"\n",
    "#---\n",
    "\n",
    "(1..ws[0].size).map{|n| 2*n-1}.combination(2).each do |op|\n",
    "  op2 = op.map{|o| (o == 1) ? o : o+6 }\n",
    "  c0 = cobras[0].select{|h| h[:odds]==op}\n",
    "  c1 = cobras[1].select{|h| h[:odds]==op2}\n",
    "\n",
    "[c0, c1].each do |c|\n",
    "  c.each do |h|\n",
    "    h.each do |k,v|\n",
    "      case k \n",
    "      when :odds, :linking\n",
    "        p \"#{k}: #{v}\"\n",
    "      when :factors\n",
    "        p h[:factors].map{|f| f.show(3)}.join(\" , \")\n",
    "      when :words\n",
    "        coeff = (h[:coeff]==1) ? '' : \"(#{h[:coeff].to_s})\"\n",
    "        p coeff + \"#{h[:words].join(\" \\u{2227} \")}\"\n",
    "      else\n",
    "      end\n",
    "    end\n",
    "    printf(\"----------\\n\")\n",
    "  end;\n",
    "end\n",
    "  printf(\"=================\\n\")\n",
    "end; nil"
   ]
  },
  {
   "cell_type": "code",
   "execution_count": 12,
   "metadata": {
    "ExecuteTime": {
     "end_time": "2019-06-19T01:39:47.624415Z",
     "start_time": "2019-06-19T01:39:47.057Z"
    },
    "collapsed": true
   },
   "outputs": [
    {
     "name": "stdout",
     "output_type": "stream",
     "text": [
      "\"a.dcDC\"\n",
      "\"0||1||9,4|3,6|5,8|7,2||||\"\n",
      "=====\n",
      "\"odds: [1, 3]\"\n",
      "\"linking: 0\"\n",
      "\"0||1||7,2|4|3,6|5|||| , |||||1||0||||\"\n",
      "\"(0)acDC ∧ d\"\n",
      "----------\n",
      "\"odds: [1, 5]\"\n",
      "\"linking: 0\"\n",
      "\"0||1||5|2|4|3|||| , ||||2|1|3|0||||\"\n",
      "\"(0)aDC ∧ dc\"\n",
      "----------\n",
      "\"odds: [1, 7]\"\n",
      "\"linking: 0\"\n",
      "\"0||1||3||2||||| , ||||2|1,4|3|5,0||||\"\n",
      "\"(0)aC ∧ c\"\n",
      "----------\n",
      "\"odds: [1, 9]\"\n",
      "\"linking: -1\"\n",
      "\"0||1||||||||| , ||||7,2|1,4|3,6|5,0||||\"\n",
      "\"(-1)a ∧ dcDC\"\n",
      "----------\n",
      "\"odds: [3, 5]\"\n",
      "\"linking: 0\"\n",
      "\"0||1||7|3,4|6|5,2|||| , ||||0||1|||||\"\n",
      "\"(0)aC ∧ c\"\n",
      "----------\n",
      "\"odds: [3, 7]\"\n",
      "\"linking: 0\"\n",
      "\"0||1||5|3|4|2|||| , ||||0|2|1|3||||\"\n",
      "\"(0)adC ∧ cD\"\n",
      "----------\n",
      "\"odds: [3, 9]\"\n",
      "\"linking: 0\"\n",
      "\"0||1|||3||2|||| , ||||5,0|2|1,4|3||||\"\n",
      "\"(0)ad ∧ D\"\n",
      "----------\n",
      "\"odds: [5, 7]\"\n",
      "\"linking: 0\"\n",
      "\"0||1||7,4|3|5,6|2|||| , |||||0||1||||\"\n",
      "\"(0)ad ∧ D\"\n",
      "----------\n",
      "\"odds: [5, 9]\"\n",
      "\"linking: 0\"\n",
      "\"0||1||4|3|5|2|||| , ||||3|0|2|1||||\"\n",
      "\"(0)adc ∧ DC\"\n",
      "----------\n",
      "\"odds: [7, 9]\"\n",
      "\"linking: 0\"\n",
      "\"0||1||4|3,6|5|7,2|||| , ||||1||0|||||\"\n",
      "\"(0)adcD ∧ C\"\n",
      "----------\n"
     ]
    }
   ],
   "source": [
    "myw = a1*(comms[2].inverse)\n",
    "#myw = a1*Group.commutator(b[1], a[2]) #\n",
    "#myw = a1*Group.conjugate(Group.commutator(b[1], a[2]), c)\n",
    "wcode = Wcode.new(myw)\n",
    "p myw.show, wcode.show\n",
    "\n",
    "vb = true\n",
    "printf(\"=====\\n\")\n",
    "cobracket(myw, verbose: vb).each do |h|\n",
    "  h.each do |k,v|\n",
    "    case k \n",
    "    when :odds, :linking\n",
    "      p \"#{k}: #{v}\"\n",
    "    when :factors\n",
    "      p h[:factors].map(&:show).join(\" , \")\n",
    "    when :words\n",
    "      coeff = (h[:coeff]==1) ? '' : \"(#{h[:coeff].to_s})\"\n",
    "      p coeff + \"#{h[:words].join(\" \\u{2227} \")}\"\n",
    "    else\n",
    "    end\n",
    "  end\n",
    "  printf(\"----------\\n\")\n",
    "end; nil"
   ]
  },
  {
   "cell_type": "code",
   "execution_count": 13,
   "metadata": {
    "ExecuteTime": {
     "end_time": "2019-06-19T01:39:47.630310Z",
     "start_time": "2019-06-19T01:39:47.064Z"
    },
    "collapsed": true
   },
   "outputs": [
    {
     "name": "stdout",
     "output_type": "stream",
     "text": [
      "\"a.dcDC\"\n"
     ]
    },
    {
     "ename": "NameError",
     "evalue": "undefined local variable or method `cif' for main:Object",
     "output_type": "error",
     "traceback": [
      "\u001b[31mNameError\u001b[0m: undefined local variable or method `cif' for main:Object",
      "\u001b[37m<main>:2:in `<main>'\u001b[0m",
      "\u001b[37m/Users/ryosuke/.rbenv/versions/2.6.1/lib/ruby/gems/2.6.0/gems/iruby-0.3/lib/iruby/backend.rb:44:in `eval'\u001b[0m",
      "\u001b[37m/Users/ryosuke/.rbenv/versions/2.6.1/lib/ruby/gems/2.6.0/gems/iruby-0.3/lib/iruby/backend.rb:44:in `eval'\u001b[0m",
      "\u001b[37m/Users/ryosuke/.rbenv/versions/2.6.1/lib/ruby/gems/2.6.0/gems/iruby-0.3/lib/iruby/backend.rb:12:in `eval'\u001b[0m",
      "\u001b[37m/Users/ryosuke/.rbenv/versions/2.6.1/lib/ruby/gems/2.6.0/gems/iruby-0.3/lib/iruby/kernel.rb:87:in `execute_request'\u001b[0m",
      "\u001b[37m/Users/ryosuke/.rbenv/versions/2.6.1/lib/ruby/gems/2.6.0/gems/iruby-0.3/lib/iruby/kernel.rb:47:in `dispatch'\u001b[0m",
      "\u001b[37m/Users/ryosuke/.rbenv/versions/2.6.1/lib/ruby/gems/2.6.0/gems/iruby-0.3/lib/iruby/kernel.rb:37:in `run'\u001b[0m",
      "\u001b[37m/Users/ryosuke/.rbenv/versions/2.6.1/lib/ruby/gems/2.6.0/gems/iruby-0.3/lib/iruby/command.rb:70:in `run_kernel'\u001b[0m",
      "\u001b[37m/Users/ryosuke/.rbenv/versions/2.6.1/lib/ruby/gems/2.6.0/gems/iruby-0.3/lib/iruby/command.rb:34:in `run'\u001b[0m",
      "\u001b[37m/Users/ryosuke/.rbenv/versions/2.6.1/lib/ruby/gems/2.6.0/gems/iruby-0.3/bin/iruby:5:in `<top (required)>'\u001b[0m",
      "\u001b[37m/Users/ryosuke/.rbenv/versions/2.6.1/bin/iruby:23:in `load'\u001b[0m",
      "\u001b[37m/Users/ryosuke/.rbenv/versions/2.6.1/bin/iruby:23:in `<main>'\u001b[0m"
     ]
    }
   ],
   "source": [
    "p myw.show\n",
    "d1 = (a1.size)+1\n",
    "d2 = cif + c.size\n",
    "d3 = myw.size - (c.size-1)\n",
    "d4 = myw.size + 1\n",
    "\n",
    "r1 = (d1..d2-1).map{|n| 2*n-1}.to_a\n",
    "r2 = (d3..d4-1).map{|n| 2*n-1}.to_a\n",
    "p r1, r2\n",
    "p r1.include?(9)\n",
    "nil"
   ]
  },
  {
   "cell_type": "markdown",
   "metadata": {},
   "source": [
    "### TODO\n",
    "\n",
    "* [ ] cobracket を再帰的に作用させて、完全に分解することに何らかの意味があるか?\n",
    "* [ ] $\\ell_{2}$ の計算と cobracket との関係は? とくに両者にある division について。\n",
    "* [ ] a.abA.aBA の cobraket にバグあり。\n",
    "* [ ] div 同士の linking を div に対応する2文字ワード同士の単純な計算で求められないか?\n",
    "* [ ] Wcode#devide して得られる2つの Wcode instance の show(2) (および show(3)) がバグってる。なぜか each_slice(4) が2つずつくくる。\n",
    "* [x] 係数がプラマイ逆かな。\n",
    "* [x] simple subword たちによる計算を実装する。<-- ダメだった。各 simple subword が内部では確実に交差しない保証がないとダメだから。"
   ]
  },
  {
   "cell_type": "code",
   "execution_count": null,
   "metadata": {},
   "outputs": [],
   "source": []
  }
 ],
 "metadata": {
  "kernelspec": {
   "display_name": "Ruby 2.6.1",
   "language": "ruby",
   "name": "ruby"
  },
  "language_info": {
   "file_extension": ".rb",
   "mimetype": "application/x-ruby",
   "name": "ruby",
   "version": "2.6.1"
  },
  "toc": {
   "base_numbering": 1,
   "nav_menu": {},
   "number_sections": false,
   "sideBar": true,
   "skip_h1_title": true,
   "title_cell": "Table of Contents",
   "title_sidebar": "Contents",
   "toc_cell": false,
   "toc_position": {},
   "toc_section_display": true,
   "toc_window_display": false
  },
  "varInspector": {
   "cols": {
    "lenName": 16,
    "lenType": 16,
    "lenVar": 40
   },
   "kernels_config": {
    "python": {
     "delete_cmd_postfix": "",
     "delete_cmd_prefix": "del ",
     "library": "var_list.py",
     "varRefreshCmd": "print(var_dic_list())"
    },
    "r": {
     "delete_cmd_postfix": ") ",
     "delete_cmd_prefix": "rm(",
     "library": "var_list.r",
     "varRefreshCmd": "cat(var_dic_list()) "
    }
   },
   "types_to_exclude": [
    "module",
    "function",
    "builtin_function_or_method",
    "instance",
    "_Feature"
   ],
   "window_display": false
  }
 },
 "nbformat": 4,
 "nbformat_minor": 2
}
