{
 "cells": [
  {
   "cell_type": "markdown",
   "metadata": {},
   "source": [
    "# The fundarmental group of $\\Sigma_{g,1}$ "
   ]
  },
  {
   "cell_type": "code",
   "execution_count": 1,
   "metadata": {
    "ExecuteTime": {
     "end_time": "2019-06-02T04:15:25.283589Z",
     "start_time": "2019-06-02T04:15:25.274Z"
    }
   },
   "outputs": [
    {
     "data": {
      "text/plain": [
       "true"
      ]
     },
     "execution_count": 1,
     "metadata": {},
     "output_type": "execute_result"
    }
   ],
   "source": [
    "require './freegroup.rb'"
   ]
  },
  {
   "cell_type": "markdown",
   "metadata": {},
   "source": [
    "## generators"
   ]
  },
  {
   "cell_type": "code",
   "execution_count": 2,
   "metadata": {
    "ExecuteTime": {
     "end_time": "2019-06-02T04:15:25.305090Z",
     "start_time": "2019-06-02T04:15:25.287Z"
    }
   },
   "outputs": [
    {
     "name": "stdout",
     "output_type": "stream",
     "text": [
      "[\"a\", \"b\", \"c\", \"d\", \"e\", \"f\"]\n",
      "[\"1\", \"a\", \"c\", \"e\"]\n"
     ]
    }
   ],
   "source": [
    "genus = 3\n",
    "alphabet = %w(a b c d e f)\n",
    "\n",
    "Gens = [Letter.new] + alphabet.map{|x| Letter.new(x)}\n",
    "Gens.freeze\n",
    "p Gens[1..-1].map(&:show)\n",
    "\n",
    "a = [Gens[0]] + Gens[1..-1].each_slice(2).map(&:first)\n",
    "b = [Gens[0]] + Gens[1..-1].each_slice(2).map(&:last)\n",
    "p a.map(&:show)\n",
    "nil"
   ]
  },
  {
   "cell_type": "code",
   "execution_count": 3,
   "metadata": {
    "ExecuteTime": {
     "end_time": "2019-06-02T04:15:25.320220Z",
     "start_time": "2019-06-02T04:15:25.299Z"
    }
   },
   "outputs": [
    {
     "name": "stdout",
     "output_type": "stream",
     "text": [
      "[\"1111\", \"abAB\", \"cdCD\", \"efEF\"]\n"
     ]
    },
    {
     "data": {
      "text/plain": [
       "[\"1111\", \"abAB\", \"cdCD\", \"efEF\"]"
      ]
     },
     "execution_count": 3,
     "metadata": {},
     "output_type": "execute_result"
    }
   ],
   "source": [
    "comms = []\n",
    "(Gens.size/2 + 1).times do |i|\n",
    "  comms << Group.commutator(a[i], b[i])\n",
    "end\n",
    "p comms.map(&:show)"
   ]
  },
  {
   "cell_type": "code",
   "execution_count": 4,
   "metadata": {
    "ExecuteTime": {
     "end_time": "2019-06-02T04:15:25.329850Z",
     "start_time": "2019-06-02T04:15:25.312Z"
    }
   },
   "outputs": [
    {
     "name": "stderr",
     "output_type": "stream",
     "text": [
      "<main>:2: warning: already initialized constant Rseq\n",
      "<main>:2: warning: already initialized constant Rseq\n",
      "<main>:2: warning: previous definition of Rseq was here\n",
      "<main>:2: warning: already initialized constant Rseq\n",
      "<main>:2: warning: previous definition of Rseq was here\n"
     ]
    },
    {
     "name": "stdout",
     "output_type": "stream",
     "text": [
      "[\"a\", \"B\", \"A\", \"b\", \"c\", \"D\", \"C\", \"d\", \"e\", \"F\", \"E\", \"f\"]\n"
     ]
    }
   ],
   "source": [
    "Rseq = []\n",
    "(Gens.size/2).times do |i|\n",
    "  Rseq += [a[i+1], b[i+1].inverse, a[i+1].inverse, b[i+1]]\n",
    "end\n",
    "Rseq.freeze\n",
    "p Rseq.map(&:show) #.index('A')\n",
    "nil"
   ]
  },
  {
   "cell_type": "markdown",
   "metadata": {},
   "source": [
    "# Wcode Class"
   ]
  },
  {
   "cell_type": "code",
   "execution_count": 5,
   "metadata": {
    "ExecuteTime": {
     "end_time": "2019-06-02T04:15:25.338433Z",
     "start_time": "2019-06-02T04:15:25.320Z"
    }
   },
   "outputs": [],
   "source": [
    "class Wcode < Array\n",
    "  def initialize(word = Group::Identity)\n",
    "    if word != Group::Identity\n",
    "      arr = Array.new\n",
    "      word.flatten.factors.each do |f|\n",
    "        arr += [Rseq.index(f)+1, Rseq.index(f.inverse)+1]\n",
    "      end\n",
    "      arr << arr.shift\n",
    "      arr.each_slice(2){|a| self << a}\n",
    "    end\n",
    "  end\n",
    "  #---\n",
    "  def length(); self.flatten.size end\n",
    "  def max(); self.flatten.max end\n",
    "  def copy()\n",
    "    wc = self.class.new\n",
    "    wc.each_with_index{|a, i| wc[i] = self[i]}\n",
    "    wc\n",
    "  end\n",
    "  def show(); self.inspect end\n",
    "  #---\n",
    "  def flatten()\n",
    "    myarr = Array.new\n",
    "    self.each{|a| myarr += a}\n",
    "    myarr\n",
    "  end\n",
    "  #---\n",
    "  def to_word()\n",
    "    flt = self.flatten\n",
    "    flt.unshift(flt.pop)\n",
    "    gens = []\n",
    "    flt.each_slice(2){|s| gens << Rseq[s[0]-1] }\n",
    "    Word.new(gens)\n",
    "  end\n",
    "  #---\n",
    "  def product(another)\n",
    "    pop = self[-1].last\n",
    "    self[-1][1] = another[-1][1]\n",
    "    another[-1][1] = pop\n",
    "    wc = self.class.new\n",
    "    (self + another).each{|a| wc << a}\n",
    "    wc\n",
    "  end\n",
    "  #---\n",
    "  def devide(idxs)\n",
    "    facs = [Wcode.new, Wcode.new]\n",
    "    wcf = self.flatten\n",
    "    (wcf[0..2*idxs[0]] + wcf[2*idxs[1]+1..-1]).each_slice(2){|s| facs[0] << s}\n",
    "    arr = wcf[2*idxs[0]+1..2*idxs[1]]\n",
    "    arr << arr.shift\n",
    "    arr.each_slice(2){|s| facs[1] << s}\n",
    "    return facs\n",
    "  end\n",
    "  #---\n",
    "  ## Turaev cobracket for Wcodes\n",
    "  def cobracket()\n",
    "    combs=(0..self.size-1).to_a.combination(2)\n",
    "    monomials = combs.map do |idxs|\n",
    "      four = idxs.map{|i| self[i]}\n",
    "      inner = four[1].select{|n| four[0].min < n and n < four[0].max}\n",
    "      linking = if inner.size.even?\n",
    "                  0\n",
    "                elsif (four[0][0] < four[0][1]) ^ (inner[0]==four[1][0])\n",
    "                  1\n",
    "                else\n",
    "                  -1\n",
    "                end\n",
    "      factors = self.devide(idxs)\n",
    "      #---\n",
    "      {pairs: four, linking: linking, factors: factors }\n",
    "    end\n",
    "    return monomials #.select{|h| h[:linking] != 0}\n",
    "  end  \n",
    "end; nil"
   ]
  },
  {
   "cell_type": "code",
   "execution_count": 6,
   "metadata": {
    "ExecuteTime": {
     "end_time": "2019-06-02T04:15:25.364535Z",
     "start_time": "2019-06-02T04:15:25.329Z"
    }
   },
   "outputs": [
    {
     "name": "stdout",
     "output_type": "stream",
     "text": [
      "\"adB\"\n",
      "-----\n",
      "[[3, 8], [6, 2], [4, 1]]\n",
      "3\n",
      "6\n",
      "[3, 8, 6, 2, 4, 1]\n",
      "\"adB\"\n",
      "-----\n",
      "[[3, 8], [6, 2]]\n",
      "-1\n",
      "\"[[3, 2], [4, 1]] ∧ [[6, 8]]\"\n",
      "\"aB ∧ d\"\n",
      "---\n",
      "[[3, 8], [4, 1]]\n",
      "-1\n",
      "\"[[3, 1]] ∧ [[6, 2], [4, 8]]\"\n",
      "\"a ∧ dB\"\n",
      "---\n",
      "[[6, 2], [4, 1]]\n",
      "1\n",
      "\"[[3, 8], [6, 1]] ∧ [[4, 2]]\"\n",
      "\"ad ∧ B\"\n",
      "---\n"
     ]
    }
   ],
   "source": [
    "w = Word.new(a[1], b[2], b[1].inverse)\n",
    "p w.show\n",
    "printf(\"-----\\n\")\n",
    "\n",
    "wc = Wcode.new(w)\n",
    "p wc, wc.size, wc.length, wc.flatten, wc.to_word.show\n",
    "printf(\"-----\\n\")\n",
    "\n",
    "wc.cobracket.each do |mono|\n",
    "  p mono[:pairs]\n",
    "  p mono[:linking]\n",
    "  facs = mono[:factors]\n",
    "  p facs.map(&:to_s).join(\" \\u{2227} \")\n",
    "  p facs.map(&:to_word).map(&:show).join(\" \\u{2227} \")\n",
    "  printf(\"---\\n\")\n",
    "end\n",
    "nil"
   ]
  },
  {
   "cell_type": "code",
   "execution_count": 7,
   "metadata": {
    "ExecuteTime": {
     "end_time": "2019-06-02T04:15:25.380491Z",
     "start_time": "2019-06-02T04:15:25.336Z"
    }
   },
   "outputs": [
    {
     "name": "stdout",
     "output_type": "stream",
     "text": [
      "\"[[3, 1], [3, 1], [3, 1]]\"\n",
      "\"aaa\"\n",
      "-----\n",
      "[[3, 1], [3, 1]]\n",
      "0\n",
      "\"[[3, 1], [3, 1]] ∧ [[3, 1]]\"\n",
      "\"aa ∧ a\"\n",
      "---\n",
      "[[3, 1], [3, 1]]\n",
      "0\n",
      "\"[[3, 1]] ∧ [[3, 1], [3, 1]]\"\n",
      "\"a ∧ aa\"\n",
      "---\n",
      "[[3, 1], [3, 1]]\n",
      "0\n",
      "\"[[3, 1], [3, 1]] ∧ [[3, 1]]\"\n",
      "\"aa ∧ a\"\n",
      "---\n"
     ]
    }
   ],
   "source": [
    "ww = Word.new(a[1])^3\n",
    "wc = Wcode.new(ww)\n",
    "p wc.show, wc.to_word.show\n",
    "printf(\"-----\\n\")\n",
    "\n",
    "wc.cobracket.each do |mono|\n",
    "  p mono[:pairs]\n",
    "  p mono[:linking]\n",
    "  facs = mono[:factors]\n",
    "  p facs.map(&:to_s).join(\" \\u{2227} \")\n",
    "  p facs.map(&:to_word).map(&:show).join(\" \\u{2227} \")\n",
    "  printf(\"---\\n\")\n",
    "end\n",
    "nil"
   ]
  },
  {
   "cell_type": "code",
   "execution_count": 8,
   "metadata": {
    "ExecuteTime": {
     "end_time": "2019-06-02T04:15:25.385929Z",
     "start_time": "2019-06-02T04:15:25.343Z"
    }
   },
   "outputs": [
    {
     "name": "stdout",
     "output_type": "stream",
     "text": [
      "\"[[3, 1], [3, 1], [3, 1]] * [[7, 5]]\"\n",
      "[[3, 1], [3, 1], [3, 5], [7, 1]]\n"
     ]
    }
   ],
   "source": [
    "w2 = Word.new(a[2])\n",
    "wc2 = Wcode.new(w2)\n",
    "\n",
    "p wc.to_s + ' * ' + wc2.to_s\n",
    "\n",
    "p wc.product(wc2)\n",
    "nil"
   ]
  },
  {
   "cell_type": "code",
   "execution_count": 9,
   "metadata": {
    "ExecuteTime": {
     "end_time": "2019-06-02T04:15:25.411767Z",
     "start_time": "2019-06-02T04:15:25.351Z"
    }
   },
   "outputs": [
    {
     "name": "stdout",
     "output_type": "stream",
     "text": [
      "\"caa\"\n",
      "[[3, 1], [3, 1], [3, 5]]\n",
      "===\n",
      "\"pairs : [[3, 1], [3, 1]]\"\n",
      "\"linking : 0\"\n",
      "\"factors : [[3, 1], [3, 5]] , [[3, 1]]\"\n",
      "\"ca ∧ a\"\n",
      "-----\n",
      "\"pairs : [[3, 1], [3, 5]]\"\n",
      "\"linking : 0\"\n",
      "\"factors : [[3, 5]] , [[3, 1], [3, 1]]\"\n",
      "\"c ∧ aa\"\n",
      "-----\n",
      "\"pairs : [[3, 1], [3, 5]]\"\n",
      "\"linking : 0\"\n",
      "\"factors : [[3, 1], [3, 5]] , [[3, 1]]\"\n",
      "\"ca ∧ a\"\n",
      "-----\n"
     ]
    }
   ],
   "source": [
    "p wc.to_word.show, wc\n",
    "printf(\"===\\n\")\n",
    "\n",
    "wc.cobracket.each do |h|\n",
    "  p \"pairs : #{h[:pairs]}\"\n",
    "  p \"linking : #{h[:linking]}\"\n",
    "  p \"factors : \" + h[:factors].map(&:show).join(' , ')\n",
    "  p h[:factors].map(&:to_word).map(&:show).join(\" \\u{2227} \")\n",
    "#  p h[:factors].map(&:to_word).map(&:cyclic_reduce).map(&:show).join(\" \\u{2227} \")\n",
    "#  prd = h[:factors].inject(&:product)\n",
    "#  p prd, prd.to_word.show\n",
    "  printf(\"-----\\n\")\n",
    "end\n",
    "nil"
   ]
  },
  {
   "cell_type": "markdown",
   "metadata": {},
   "source": [
    "# Execution"
   ]
  },
  {
   "cell_type": "code",
   "execution_count": 10,
   "metadata": {
    "ExecuteTime": {
     "end_time": "2019-06-02T04:15:25.540422Z",
     "start_time": "2019-06-02T04:15:25.360Z"
    },
    "scrolled": false
   },
   "outputs": [
    {
     "name": "stdout",
     "output_type": "stream",
     "text": [
      "\"a  |--δ--> \"\n",
      "\"a.d  |--δ--> (-1)a ∧ d\"\n",
      "\"a.D  |--δ--> (-1)a ∧ D\"\n",
      "\"a.a.a.a  |--δ--> (-1)aaa ∧ a + (-1)aa ∧ aa + (-1)a ∧ aaa + (-1)aaa ∧ a + (-1)aa ∧ aa + (-1)aaa ∧ a\"\n",
      "\"a.dcDC  |--δ--> (-1)acDC ∧ d + (-1)aDC ∧ dc + aC ∧ dcD + (-1)a ∧ dcDC + (-1)adDC ∧ c + (-1)adC ∧ cD + (-1)ad ∧ cDC + (-1)adcC ∧ D + (-1)adc ∧ DC + (-1)adcD ∧ C\"\n",
      "\"a.cdCD  |--δ--> (-1)adCD ∧ c + (-1)aCD ∧ cd + (-1)aD ∧ cdC + (-1)a ∧ cdCD + (-1)acCD ∧ d + (-1)acD ∧ dC + (-1)ac ∧ dCD + (-1)acdD ∧ C + (-1)acd ∧ CD + (-1)acdC ∧ D\"\n",
      "\"a.cdCD.cdCD.cdCD  |--δ--> (-1)adCDcdCDcdCD ∧ c + (-1)aCDcdCDcdCD ∧ cd + (-1)aDcdCDcdCD ∧ cdC + (-1)acdCDcdCD ∧ cdCD + (-1)adCDcdCD ∧ cdCDc + (-1)aCDcdCD ∧ cdCDcd + (-1)aDcdCD ∧ cdCDcdC + (-1)acdCD ∧ cdCDcdCD + (-1)adCD ∧ cdCDcdCDc + (-1)aCD ∧ cdCDcdCDcd + (-1)aD ∧ cdCDcdCDcdC + (-1)a ∧ cdCDcdCDcdCD + (-1)acCDcdCDcdCD ∧ d + (-1)acDcdCDcdCD ∧ dC + (-1)accdCDcdCD ∧ dCD + (-1)acdCDcdCD ∧ dCDc + (-1)acCDcdCD ∧ dCDcd + (-1)acDcdCD ∧ dCDcdC + (-1)accdCD ∧ dCDcdCD + (-1)acdCD ∧ dCDcdCDc + (-1)acCD ∧ dCDcdCDcd + (-1)acD ∧ dCDcdCDcdC + (-1)ac ∧ dCDcdCDcdCD + (-1)acdDcdCDcdCD ∧ C + (-1)acdcdCDcdCD ∧ CD + (-1)acddCDcdCD ∧ CDc + (-1)acdCDcdCD ∧ CDcd + (-1)acdDcdCD ∧ CDcdC + (-1)acdcdCD ∧ CDcdCD + (-1)acddCD ∧ CDcdCDc + (-1)acdCD ∧ CDcdCDcd + (-1)acdD ∧ CDcdCDcdC + (-1)acd ∧ CDcdCDcdCD + (-1)acdCcdCDcdCD ∧ D + (-1)acdCdCDcdCD ∧ Dc + (-1)acdCCDcdCD ∧ Dcd + (-1)acdCDcdCD ∧ DcdC + (-1)acdCcdCD ∧ DcdCD + (-1)acdCdCD ∧ DcdCDc + (-1)acdCCD ∧ DcdCDcd + (-1)acdCD ∧ DcdCDcdC + (-1)acdC ∧ DcdCDcdCD + acdCDdCDcdCD ∧ c + (-1)acdCDCDcdCD ∧ cd + (-1)acdCDDcdCD ∧ cdC + (-1)acdCDcdCD ∧ cdCD + acdCDdCD ∧ cdCDc + (-1)acdCDCD ∧ cdCDcd + (-1)acdCDD ∧ cdCDcdC + (-1)acdCD ∧ cdCDcdCD + (-1)acdCDcCDcdCD ∧ d + (-1)acdCDcDcdCD ∧ dC + (-1)acdCDccdCD ∧ dCD + (-1)acdCDcdCD ∧ dCDc + (-1)acdCDcCD ∧ dCDcd + (-1)acdCDcD ∧ dCDcdC + (-1)acdCDc ∧ dCDcdCD + (-1)acdCDcdDcdCD ∧ C + (-1)acdCDcdcdCD ∧ CD + (-1)acdCDcddCD ∧ CDc + (-1)acdCDcdCD ∧ CDcd + (-1)acdCDcdD ∧ CDcdC + (-1)acdCDcd ∧ CDcdCD + (-1)acdCDcdCcdCD ∧ D + (-1)acdCDcdCdCD ∧ Dc + (-1)acdCDcdCCD ∧ Dcd + (-1)acdCDcdCD ∧ DcdC + (-1)acdCDcdC ∧ DcdCD + acdCDcdCDdCD ∧ c + (-1)acdCDcdCDCD ∧ cd + (-1)acdCDcdCDD ∧ cdC + (-1)acdCDcdCD ∧ cdCD + (-1)acdCDcdCDcCD ∧ d + (-1)acdCDcdCDcD ∧ dC + (-1)acdCDcdCDc ∧ dCD + (-1)acdCDcdCDcdD ∧ C + (-1)acdCDcdCDcd ∧ CD + (-1)acdCDcdCDcdC ∧ D\"\n",
      "\"a.c.c.c  |--δ--> (-1)acc ∧ c + (-1)ac ∧ cc + (-1)a ∧ ccc + (-1)acc ∧ c + (-1)ac ∧ cc + (-1)acc ∧ c\"\n",
      "\"a.cD.cD.cD  |--δ--> (-1)aDcDcD ∧ c + (-1)acDcD ∧ cD + (-1)aDcD ∧ cDc + (-1)acD ∧ cDcD + (-1)aD ∧ cDcDc + (-1)a ∧ cDcDcD + (-1)accDcD ∧ D + (-1)acDcD ∧ Dc + (-1)accD ∧ DcD + (-1)acD ∧ DcDc + (-1)ac ∧ DcDcD + (-1)acDDcD ∧ c + (-1)acDcD ∧ cD + (-1)acDD ∧ cDc + (-1)acD ∧ cDcD + (-1)acDccD ∧ D + (-1)acDcD ∧ Dc + (-1)acDc ∧ DcD + (-1)acDcDD ∧ c + (-1)acDcD ∧ cD + (-1)acDcDc ∧ D\"\n",
      "\"a.cdCD.abA.cdCD.aBA  |--δ--> (-1)adCDabAcdCDaBA ∧ c + (-1)aCDabAcdCDaBA ∧ cd + (-1)aDabAcdCDaBA ∧ cdC + (-1)aabAcdCDaBA ∧ cdCD + abAcdCDaBA ∧ cdCDa + (-1)aAcdCDaBA ∧ cdCDab + (-1)acdCDaBA ∧ cdCDabA + (-1)adCDaBA ∧ cdCDabAc + (-1)aCDaBA ∧ cdCDabAcd + (-1)aDaBA ∧ cdCDabAcdC + (-1)aaBA ∧ cdCDabAcdCD + (-1)aBA ∧ cdCDabAcdCDa + (-1)aA ∧ cdCDabAcdCDaB + (-1)a ∧ cdCDabAcdCDaBA + (-1)acCDabAcdCDaBA ∧ d + (-1)acDabAcdCDaBA ∧ dC + (-1)acabAcdCDaBA ∧ dCD + (-1)acbAcdCDaBA ∧ dCDa + (-1)acAcdCDaBA ∧ dCDab + (-1)accdCDaBA ∧ dCDabA + (-1)acdCDaBA ∧ dCDabAc + (-1)acCDaBA ∧ dCDabAcd + (-1)acDaBA ∧ dCDabAcdC + (-1)acaBA ∧ dCDabAcdCD + (-1)acBA ∧ dCDabAcdCDa + (-1)acA ∧ dCDabAcdCDaB + (-1)ac ∧ dCDabAcdCDaBA + (-1)acdDabAcdCDaBA ∧ C + (-1)acdabAcdCDaBA ∧ CD + (-1)acdbAcdCDaBA ∧ CDa + (-1)acdAcdCDaBA ∧ CDab + (-1)acdcdCDaBA ∧ CDabA + (-1)acddCDaBA ∧ CDabAc + (-1)acdCDaBA ∧ CDabAcd + (-1)acdDaBA ∧ CDabAcdC + (-1)acdaBA ∧ CDabAcdCD + (-1)acdBA ∧ CDabAcdCDa + (-1)acdA ∧ CDabAcdCDaB + (-1)acd ∧ CDabAcdCDaBA + (-1)acdCabAcdCDaBA ∧ D + (-1)acdCbAcdCDaBA ∧ Da + (-1)acdCAcdCDaBA ∧ Dab + (-1)acdCcdCDaBA ∧ DabA + (-1)acdCdCDaBA ∧ DabAc + (-1)acdCCDaBA ∧ DabAcd + (-1)acdCDaBA ∧ DabAcdC + (-1)acdCaBA ∧ DabAcdCD + (-1)acdCBA ∧ DabAcdCDa + (-1)acdCA ∧ DabAcdCDaB + (-1)acdC ∧ DabAcdCDaBA + (-1)acdCDbAcdCDaBA ∧ a + (-1)acdCDAcdCDaBA ∧ ab + (-1)acdCDcdCDaBA ∧ abA + acdCDdCDaBA ∧ abAc + (-1)acdCDCDaBA ∧ abAcd + (-1)acdCDDaBA ∧ abAcdC + (-1)acdCDaBA ∧ abAcdCD + (-1)acdCDBA ∧ abAcdCDa + (-1)acdCDA ∧ abAcdCDaB + (-1)acdCD ∧ abAcdCDaBA + (-1)acdCDaAcdCDaBA ∧ b + (-1)acdCDacdCDaBA ∧ bA + (-1)acdCDadCDaBA ∧ bAc + (-1)acdCDaCDaBA ∧ bAcd + (-1)acdCDaDaBA ∧ bAcdC + (-1)acdCDaaBA ∧ bAcdCD + (-1)acdCDaBA ∧ bAcdCDa + (-1)acdCDaA ∧ bAcdCDaB + (-1)acdCDa ∧ bAcdCDaBA + (-1)acdCDabcdCDaBA ∧ A + (-1)acdCDabdCDaBA ∧ Ac + (-1)acdCDabCDaBA ∧ Acd + (-1)acdCDabDaBA ∧ AcdC + (-1)acdCDabaBA ∧ AcdCD + (-1)acdCDabBA ∧ AcdCDa + (-1)acdCDabA ∧ AcdCDaB + (-1)acdCDab ∧ AcdCDaBA + (-1)acdCDabAdCDaBA ∧ c + (-1)acdCDabACDaBA ∧ cd + (-1)acdCDabADaBA ∧ cdC + (-1)acdCDabAaBA ∧ cdCD + (-1)acdCDabABA ∧ cdCDa + (-1)acdCDabAA ∧ cdCDaB + (-1)acdCDabA ∧ cdCDaBA + (-1)acdCDabAcCDaBA ∧ d + (-1)acdCDabAcDaBA ∧ dC + (-1)acdCDabAcaBA ∧ dCD + (-1)acdCDabAcBA ∧ dCDa + (-1)acdCDabAcA ∧ dCDaB + (-1)acdCDabAc ∧ dCDaBA + (-1)acdCDabAcdDaBA ∧ C + (-1)acdCDabAcdaBA ∧ CD + (-1)acdCDabAcdBA ∧ CDa + (-1)acdCDabAcdA ∧ CDaB + (-1)acdCDabAcd ∧ CDaBA + (-1)acdCDabAcdCaBA ∧ D + (-1)acdCDabAcdCBA ∧ Da + (-1)acdCDabAcdCA ∧ DaB + (-1)acdCDabAcdC ∧ DaBA + (-1)acdCDabAcdCDBA ∧ a + (-1)acdCDabAcdCDA ∧ aB + (-1)acdCDabAcdCD ∧ aBA + (-1)acdCDabAcdCDaA ∧ B + (-1)acdCDabAcdCDa ∧ BA + (-1)acdCDabAcdCDaB ∧ A\"\n",
      "\"a.ceCE  |--δ--> (-1)aeCE ∧ c + (-1)aCE ∧ ce + (-1)aE ∧ ceC + (-1)a ∧ ceCE + (-1)acCE ∧ e + (-1)acE ∧ eC + (-1)ac ∧ eCE + (-1)aceE ∧ C + ace ∧ CE + (-1)aceC ∧ E\"\n"
     ]
    },
    {
     "name": "stdout",
     "output_type": "stream",
     "text": [
      "\"a.cdCD.efEF.ceCE.feFEdcDC  |--δ--> (-1)adCDefEFceCEfeFEdcDC ∧ c + (-1)aCDefEFceCEfeFEdcDC ∧ cd + (-1)aDefEFceCEfeFEdcDC ∧ cdC + (-1)aefEFceCEfeFEdcDC ∧ cdCD + (-1)afEFceCEfeFEdcDC ∧ cdCDe + (-1)aEFceCEfeFEdcDC ∧ cdCDef + (-1)aFceCEfeFEdcDC ∧ cdCDefE + (-1)aceCEfeFEdcDC ∧ cdCDefEF + (-1)aeCEfeFEdcDC ∧ cdCDefEFc + (-1)aCEfeFEdcDC ∧ cdCDefEFce + (-1)aEfeFEdcDC ∧ cdCDefEFceC + (-1)afeFEdcDC ∧ cdCDefEFceCE + (-1)aeFEdcDC ∧ cdCDefEFceCEf + (-1)aFEdcDC ∧ cdCDefEFceCEfe + (-1)aEdcDC ∧ cdCDefEFceCEfeF + (-1)adcDC ∧ cdCDefEFceCEfeFE + (-1)acDC ∧ cdCDefEFceCEfeFEd + (-1)aDC ∧ cdCDefEFceCEfeFEdc + (-1)aC ∧ cdCDefEFceCEfeFEdcD + (-1)a ∧ cdCDefEFceCEfeFEdcDC + (-1)acCDefEFceCEfeFEdcDC ∧ d + (-1)acDefEFceCEfeFEdcDC ∧ dC + (-1)acefEFceCEfeFEdcDC ∧ dCD + (-1)acfEFceCEfeFEdcDC ∧ dCDe + (-1)acEFceCEfeFEdcDC ∧ dCDef + (-1)acFceCEfeFEdcDC ∧ dCDefE + (-1)acceCEfeFEdcDC ∧ dCDefEF + (-1)aceCEfeFEdcDC ∧ dCDefEFc + (-1)acCEfeFEdcDC ∧ dCDefEFce + (-1)acEfeFEdcDC ∧ dCDefEFceC + (-1)acfeFEdcDC ∧ dCDefEFceCE + (-1)aceFEdcDC ∧ dCDefEFceCEf + (-1)acFEdcDC ∧ dCDefEFceCEfe + (-1)acEdcDC ∧ dCDefEFceCEfeF + (-1)acdcDC ∧ dCDefEFceCEfeFE + (-1)accDC ∧ dCDefEFceCEfeFEd + (-1)acDC ∧ dCDefEFceCEfeFEdc + (-1)acC ∧ dCDefEFceCEfeFEdcD + (-1)ac ∧ dCDefEFceCEfeFEdcDC + (-1)acdDefEFceCEfeFEdcDC ∧ C + (-1)acdefEFceCEfeFEdcDC ∧ CD + (-1)acdfEFceCEfeFEdcDC ∧ CDe + (-1)acdEFceCEfeFEdcDC ∧ CDef + (-1)acdFceCEfeFEdcDC ∧ CDefE + (-1)acdceCEfeFEdcDC ∧ CDefEF + (-1)acdeCEfeFEdcDC ∧ CDefEFc + (-1)acdCEfeFEdcDC ∧ CDefEFce + (-1)acdEfeFEdcDC ∧ CDefEFceC + (-1)acdfeFEdcDC ∧ CDefEFceCE + (-1)acdeFEdcDC ∧ CDefEFceCEf + (-1)acdFEdcDC ∧ CDefEFceCEfe + (-1)acdEdcDC ∧ CDefEFceCEfeF + (-1)acddcDC ∧ CDefEFceCEfeFE + (-1)acdcDC ∧ CDefEFceCEfeFEd + (-1)acdDC ∧ CDefEFceCEfeFEdc + (-1)acdC ∧ CDefEFceCEfeFEdcD + (-1)acd ∧ CDefEFceCEfeFEdcDC + (-1)acdCefEFceCEfeFEdcDC ∧ D + (-1)acdCfEFceCEfeFEdcDC ∧ De + (-1)acdCEFceCEfeFEdcDC ∧ Def + (-1)acdCFceCEfeFEdcDC ∧ DefE + (-1)acdCceCEfeFEdcDC ∧ DefEF + (-1)acdCeCEfeFEdcDC ∧ DefEFc + (-1)acdCCEfeFEdcDC ∧ DefEFce + (-1)acdCEfeFEdcDC ∧ DefEFceC + (-1)acdCfeFEdcDC ∧ DefEFceCE + (-1)acdCeFEdcDC ∧ DefEFceCEf + (-1)acdCFEdcDC ∧ DefEFceCEfe + (-1)acdCEdcDC ∧ DefEFceCEfeF + (-1)acdCdcDC ∧ DefEFceCEfeFE + (-1)acdCcDC ∧ DefEFceCEfeFEd + (-1)acdCDC ∧ DefEFceCEfeFEdc + (-1)acdCC ∧ DefEFceCEfeFEdcD + (-1)acdC ∧ DefEFceCEfeFEdcDC + (-1)acdCDfEFceCEfeFEdcDC ∧ e + (-1)acdCDEFceCEfeFEdcDC ∧ ef + (-1)acdCDFceCEfeFEdcDC ∧ efE + (-1)acdCDceCEfeFEdcDC ∧ efEF + (-1)acdCDeCEfeFEdcDC ∧ efEFc + (-1)acdCDCEfeFEdcDC ∧ efEFce + (-1)acdCDEfeFEdcDC ∧ efEFceC + (-1)acdCDfeFEdcDC ∧ efEFceCE + (-1)acdCDeFEdcDC ∧ efEFceCEf + (-1)acdCDFEdcDC ∧ efEFceCEfe + (-1)acdCDEdcDC ∧ efEFceCEfeF + (-1)acdCDdcDC ∧ efEFceCEfeFE + (-1)acdCDcDC ∧ efEFceCEfeFEd + (-1)acdCDDC ∧ efEFceCEfeFEdc + (-1)acdCDC ∧ efEFceCEfeFEdcD + (-1)acdCD ∧ efEFceCEfeFEdcDC + (-1)acdCDeEFceCEfeFEdcDC ∧ f + (-1)acdCDeFceCEfeFEdcDC ∧ fE + (-1)acdCDeceCEfeFEdcDC ∧ fEF + (-1)acdCDeeCEfeFEdcDC ∧ fEFc + (-1)acdCDeCEfeFEdcDC ∧ fEFce + (-1)acdCDeEfeFEdcDC ∧ fEFceC + (-1)acdCDefeFEdcDC ∧ fEFceCE + (-1)acdCDeeFEdcDC ∧ fEFceCEf + (-1)acdCDeFEdcDC ∧ fEFceCEfe + (-1)acdCDeEdcDC ∧ fEFceCEfeF + (-1)acdCDedcDC ∧ fEFceCEfeFE + (-1)acdCDecDC ∧ fEFceCEfeFEd + (-1)acdCDeDC ∧ fEFceCEfeFEdc + (-1)acdCDeC ∧ fEFceCEfeFEdcD + (-1)acdCDe ∧ fEFceCEfeFEdcDC + (-1)acdCDefFceCEfeFEdcDC ∧ E + (-1)acdCDefceCEfeFEdcDC ∧ EF + (-1)acdCDefeCEfeFEdcDC ∧ EFc + (-1)acdCDefCEfeFEdcDC ∧ EFce + (-1)acdCDefEfeFEdcDC ∧ EFceC + (-1)acdCDeffeFEdcDC ∧ EFceCE + (-1)acdCDefeFEdcDC ∧ EFceCEf + (-1)acdCDefFEdcDC ∧ EFceCEfe + (-1)acdCDefEdcDC ∧ EFceCEfeF + (-1)acdCDefdcDC ∧ EFceCEfeFE + (-1)acdCDefcDC ∧ EFceCEfeFEd + (-1)acdCDefDC ∧ EFceCEfeFEdc + (-1)acdCDefC ∧ EFceCEfeFEdcD + (-1)acdCDef ∧ EFceCEfeFEdcDC + (-1)acdCDefEceCEfeFEdcDC ∧ F + (-1)acdCDefEeCEfeFEdcDC ∧ Fc + (-1)acdCDefECEfeFEdcDC ∧ Fce + (-1)acdCDefEEfeFEdcDC ∧ FceC + (-1)acdCDefEfeFEdcDC ∧ FceCE + (-1)acdCDefEeFEdcDC ∧ FceCEf + (-1)acdCDefEFEdcDC ∧ FceCEfe + (-1)acdCDefEEdcDC ∧ FceCEfeF + (-1)acdCDefEdcDC ∧ FceCEfeFE + (-1)acdCDefEcDC ∧ FceCEfeFEd + (-1)acdCDefEDC ∧ FceCEfeFEdc + (-1)acdCDefEC ∧ FceCEfeFEdcD + (-1)acdCDefE ∧ FceCEfeFEdcDC + (-1)acdCDefEFeCEfeFEdcDC ∧ c + (-1)acdCDefEFCEfeFEdcDC ∧ ce + (-1)acdCDefEFEfeFEdcDC ∧ ceC + acdCDefEFfeFEdcDC ∧ ceCE + (-1)acdCDefEFeFEdcDC ∧ ceCEf + (-1)acdCDefEFFEdcDC ∧ ceCEfe + (-1)acdCDefEFEdcDC ∧ ceCEfeF + (-1)acdCDefEFdcDC ∧ ceCEfeFE + acdCDefEFcDC ∧ ceCEfeFEd + (-1)acdCDefEFDC ∧ ceCEfeFEdc + (-1)acdCDefEFC ∧ ceCEfeFEdcD + (-1)acdCDefEF ∧ ceCEfeFEdcDC + (-1)acdCDefEFcCEfeFEdcDC ∧ e + (-1)acdCDefEFcEfeFEdcDC ∧ eC + (-1)acdCDefEFcfeFEdcDC ∧ eCE + (-1)acdCDefEFceFEdcDC ∧ eCEf + (-1)acdCDefEFcFEdcDC ∧ eCEfe + (-1)acdCDefEFcEdcDC ∧ eCEfeF + acdCDefEFcdcDC ∧ eCEfeFE + (-1)acdCDefEFccDC ∧ eCEfeFEd + (-1)acdCDefEFcDC ∧ eCEfeFEdc + (-1)acdCDefEFcC ∧ eCEfeFEdcD + (-1)acdCDefEFc ∧ eCEfeFEdcDC + (-1)acdCDefEFceEfeFEdcDC ∧ C + acdCDefEFcefeFEdcDC ∧ CE + (-1)acdCDefEFceeFEdcDC ∧ CEf + (-1)acdCDefEFceFEdcDC ∧ CEfe + (-1)acdCDefEFceEdcDC ∧ CEfeF + (-1)acdCDefEFcedcDC ∧ CEfeFE + (-1)acdCDefEFcecDC ∧ CEfeFEd + (-1)acdCDefEFceDC ∧ CEfeFEdc + acdCDefEFceC ∧ CEfeFEdcD + (-1)acdCDefEFce ∧ CEfeFEdcDC + (-1)acdCDefEFceCfeFEdcDC ∧ E + (-1)acdCDefEFceCeFEdcDC ∧ Ef + acdCDefEFceCFEdcDC ∧ Efe + (-1)acdCDefEFceCEdcDC ∧ EfeF + (-1)acdCDefEFceCdcDC ∧ EfeFE + (-1)acdCDefEFceCcDC ∧ EfeFEd + (-1)acdCDefEFceCDC ∧ EfeFEdc + (-1)acdCDefEFceCC ∧ EfeFEdcD + (-1)acdCDefEFceC ∧ EfeFEdcDC + (-1)acdCDefEFceCEeFEdcDC ∧ f + (-1)acdCDefEFceCEFEdcDC ∧ fe + acdCDefEFceCEEdcDC ∧ feF + (-1)acdCDefEFceCEdcDC ∧ feFE + (-1)acdCDefEFceCEcDC ∧ feFEd + (-1)acdCDefEFceCEDC ∧ feFEdc + (-1)acdCDefEFceCEC ∧ feFEdcD + (-1)acdCDefEFceCE ∧ feFEdcDC + (-1)acdCDefEFceCEfFEdcDC ∧ e + (-1)acdCDefEFceCEfEdcDC ∧ eF + (-1)acdCDefEFceCEfdcDC ∧ eFE + (-1)acdCDefEFceCEfcDC ∧ eFEd + (-1)acdCDefEFceCEfDC ∧ eFEdc + (-1)acdCDefEFceCEfC ∧ eFEdcD + (-1)acdCDefEFceCEf ∧ eFEdcDC + (-1)acdCDefEFceCEfeEdcDC ∧ F + (-1)acdCDefEFceCEfedcDC ∧ FE + (-1)acdCDefEFceCEfecDC ∧ FEd + (-1)acdCDefEFceCEfeDC ∧ FEdc + (-1)acdCDefEFceCEfeC ∧ FEdcD + (-1)acdCDefEFceCEfe ∧ FEdcDC + (-1)acdCDefEFceCEfeFdcDC ∧ E + (-1)acdCDefEFceCEfeFcDC ∧ Ed + (-1)acdCDefEFceCEfeFDC ∧ Edc + (-1)acdCDefEFceCEfeFC ∧ EdcD + (-1)acdCDefEFceCEfeF ∧ EdcDC + (-1)acdCDefEFceCEfeFEcDC ∧ d + (-1)acdCDefEFceCEfeFEDC ∧ dc + (-1)acdCDefEFceCEfeFEC ∧ dcD + (-1)acdCDefEFceCEfeFE ∧ dcDC + (-1)acdCDefEFceCEfeFEdDC ∧ c + (-1)acdCDefEFceCEfeFEdC ∧ cD + (-1)acdCDefEFceCEfeFEd ∧ cDC + (-1)acdCDefEFceCEfeFEdcC ∧ D + (-1)acdCDefEFceCEfeFEdc ∧ DC + (-1)acdCDefEFceCEfeFEdcD ∧ C\"\n"
     ]
    }
   ],
   "source": [
    "a1, a2 = Word.new(a[1]), Word.new(a[2])\n",
    "c = (a1*Word.new(b[1])*(a1.inverse)).flatten\n",
    "samples = [\n",
    "  a1,\n",
    "  a1*Word.new(b[2]),\n",
    "  a1*(Word.new(b[2]).inverse),\n",
    "  #---\n",
    "  a1^4,\n",
    "  #---\n",
    "  a1*(comms[2].inverse),\n",
    "  a1*comms[2],\n",
    "  a1*(comms[2]^3),\n",
    "  a1*(a2^3),\n",
    "  a1*(Word.new(a[2], b[2].inverse)^3),\n",
    "  a1*comms[2]*c*comms[2]*(c.inverse),\n",
    "  #---\n",
    "  a1*Group.commutator(a[2], a[3]),\n",
    "  a1*comms[2]*comms[3]*Group.commutator(a[2], a[3])*((comms[2]*comms[3]).inverse)\n",
    "  ]\n",
    "\n",
    "samples.each do |wa|\n",
    "  ws = wa.show.gsub(/[()]+/, '.').gsub(/^[.]|[.]$/, '')\n",
    "  terms = Wcode.new(wa).cobracket.map do |h|\n",
    "    coeff = (h[:linking]==1) ? '' : '(-1)'\n",
    "    words = h[:factors].map(&:to_word)\n",
    "    coeff + words.map(&:show).join(\" \\u{2227} \")\n",
    "  end\n",
    "  p \"#{ws}  |--\\u{03B4}--> #{terms.join(' + ')}\"\n",
    "end;nil"
   ]
  },
  {
   "cell_type": "markdown",
   "metadata": {},
   "source": [
    "* \"a |--δ--> 0\"\n",
    "* \"a.d |--δ--> a ∧ d\"\n",
    "* \"a.D |--δ--> 0\"\n",
    "* \"a.a.a.a |--δ--> (-1) aa ∧ aa\"\n",
    "* \"abA |--δ--> (-1) 1 ∧ b\"\n",
    "* \"abAB |--δ--> 0\"\n",
    "* \"a.dcDC |--δ--> a ∧ dcDC\"\n",
    "* \"a.cdCD |--δ--> 0\"\n",
    "* \"a.cdCD.cdCD.cdCD |--δ--> (-1) acdCDcdCD ∧ cdCD + (-1) acdCD ∧ cdCDcdCD\"\n",
    "* \"a.c.c.c |--δ--> (-1) acc ∧ c + (-1) ac ∧ cc\"\n",
    "* \"a.cD.cD.cD |--δ--> (-1) acDcD ∧ cD + (-1) acD ∧ cDcD\"\n",
    "* \"a.cdCD.abA.cdCD.aBA |--δ--> (-1) acdCD ∧ cdCD + (-1) cdCD ∧ cdCDa\"\n",
    "* \"a.ceCE |--δ--> aceC ∧ E + (-1) ace ∧ CE + ac ∧ C\"\n",
    "* \"a.cdCD.efEF.ceCE.feFEdcDC |--δ--> acdCDefEFceCfeFEdcDC ∧ E + (-1) acdCDefEFcefeFEdcDC ∧ CE + acdCDefEFcfeFEdcDC ∧ C\""
   ]
  },
  {
   "cell_type": "code",
   "execution_count": 11,
   "metadata": {
    "ExecuteTime": {
     "end_time": "2019-06-02T04:15:25.818125Z",
     "start_time": "2019-06-02T04:15:25.403Z"
    }
   },
   "outputs": [
    {
     "data": {
      "text/html": [
       "\n",
       "  <script>\n",
       "  requirejs.config({paths: { 'plotly': ['https://cdn.plot.ly/plotly-latest.min'] }})\n",
       "  </script>\n",
       "\n",
       "\n",
       "<div id=\"5c44f5f0-d47f-4ce3-b9c0-3f3083cda8aa\" style=\"height: 100%; width: 100%;\"></div>\n",
       "\n",
       "<script>\n",
       " require(['plotly'], function(Plotly) { \n",
       "Plotly.newPlot(\n",
       "  '5c44f5f0-d47f-4ce3-b9c0-3f3083cda8aa',\n",
       "  [{\"x\":[2.98,2.96,2.94,2.92,2.9,2.88,2.86,2.84,2.82,2.8,2.78,2.76,2.74,2.7199999999999998,2.7,2.68,2.66,2.64,2.62,2.6,2.58,2.56,2.54,2.52,2.5,2.48,2.46,2.44,2.42,2.4,2.38,2.36,2.34,2.32,2.3,2.2800000000000002,2.26,2.24,2.2199999999999998,2.2,2.18,2.16,2.14,2.12,2.1,2.08,2.06,2.04,2.02,2.0,1.98,1.96,1.94,1.92,1.9,1.88,1.86,1.84,1.82,1.8,1.78,1.76,1.74,1.72,1.7,1.68,1.66,1.64,1.62,1.6,1.58,1.56,1.54,1.52,1.5,1.48,1.46,1.44,1.42,1.4,1.38,1.36,1.34,1.32,1.3,1.28,1.26,1.24,1.22,1.2,1.18,1.16,1.14,1.12,1.1,1.08,1.06,1.04,1.02,1.0],\"y\":[-0.07920000000000008,-0.15680000000000013,-0.2328000000000002,-0.30720000000000025,-0.38000000000000034,-0.4512000000000004,-0.5208000000000004,-0.5888000000000004,-0.6552000000000006,-0.7200000000000005,-0.7832000000000006,-0.8448000000000007,-0.9047999999999994,-0.9632000000000007,-1.0199999999999996,-1.0751999999999995,-1.1287999999999996,-1.1807999999999996,-1.2311999999999996,-1.2799999999999998,-1.3272,-1.3727999999999998,-1.4167999999999998,-1.4592,-1.5,-1.5392000000000001,-1.5768,-1.6128,-1.6472000000000002,-1.6800000000000002,-1.7112,-1.7408000000000001,-1.7688000000000001,-1.7952000000000001,-1.8200000000000003,-1.8431999999999997,-1.8648000000000002,-1.8847999999999998,-1.9032000000000002,-1.92,-1.9351999999999998,-1.9487999999999999,-1.9607999999999999,-1.9711999999999998,-1.98,-1.9872,-1.9928,-1.9968,-1.9992,-2.0,-1.9992,-1.9968,-1.9928,-1.9872,-1.98,-1.9711999999999998,-1.9608,-1.9488,-1.9352,-1.92,-1.9032,-1.8848,-1.8648,-1.8432,-1.8199999999999998,-1.7952,-1.7688,-1.7408,-1.7112,-1.6800000000000002,-1.6472000000000002,-1.6128,-1.5768,-1.5392000000000001,-1.5,-1.4592,-1.4167999999999998,-1.3727999999999998,-1.3272,-1.2799999999999998,-1.2311999999999996,-1.1808000000000003,-1.1288000000000002,-1.0752000000000002,-1.02,-0.9632000000000001,-0.9048,-0.8448,-0.7831999999999999,-0.7199999999999999,-0.6551999999999998,-0.5887999999999998,-0.5207999999999997,-0.4512000000000004,-0.38000000000000034,-0.30720000000000025,-0.2328000000000002,-0.15680000000000013,-0.07920000000000008,-0.0]},{\"x\":[2.98,2.96,2.94,2.92,2.9,2.88,2.86,2.84,2.82,2.8,2.78,2.76,2.74,2.7199999999999998,2.7,2.68,2.66,2.64,2.62,2.6,2.58,2.56,2.54,2.52,2.5,2.48,2.46,2.44,2.42,2.4,2.38,2.36,2.34,2.32,2.3,2.2800000000000002,2.26,2.24,2.2199999999999998,2.2,2.18,2.16,2.14,2.12,2.1,2.08,2.06,2.04,2.02,2.0,1.98,1.96,1.94,1.92,1.9,1.88,1.86,1.84,1.82,1.8,1.78,1.76,1.74,1.72,1.7,1.68,1.66,1.64,1.62,1.6,1.58,1.56,1.54,1.52,1.5,1.48,1.46,1.44,1.42,1.4,1.38,1.36,1.34,1.32,1.3,1.28,1.26,1.24,1.22,1.2,1.18,1.16,1.14,1.12,1.1,1.08,1.06,1.04,1.02,1.0],\"y\":[-0.07920000000000008,-0.15680000000000013,-0.2328000000000002,-0.30720000000000025,-0.38000000000000034,-0.4512000000000004,-0.5208000000000004,-0.5888000000000004,-0.6552000000000006,-0.7200000000000005,-0.7832000000000006,-0.8448000000000007,-0.9047999999999994,-0.9632000000000007,-1.0199999999999996,-1.0751999999999995,-1.1287999999999996,-1.1807999999999996,-1.2311999999999996,-1.2799999999999998,-1.3272,-1.3727999999999998,-1.4167999999999998,-1.4592,-1.5,-1.5392000000000001,-1.5768,-1.6128,-1.6472000000000002,-1.6800000000000002,-1.7112,-1.7408000000000001,-1.7688000000000001,-1.7952000000000001,-1.8200000000000003,-1.8431999999999997,-1.8648000000000002,-1.8847999999999998,-1.9032000000000002,-1.92,-1.9351999999999998,-1.9487999999999999,-1.9607999999999999,-1.9711999999999998,-1.98,-1.9872,-1.9928,-1.9968,-1.9992,-2.0,-1.9992,-1.9968,-1.9928,-1.9872,-1.98,-1.9711999999999998,-1.9608,-1.9488,-1.9352,-1.92,-1.9032,-1.8848,-1.8648,-1.8432,-1.8199999999999998,-1.7952,-1.7688,-1.7408,-1.7112,-1.6800000000000002,-1.6472000000000002,-1.6128,-1.5768,-1.5392000000000001,-1.5,-1.4592,-1.4167999999999998,-1.3727999999999998,-1.3272,-1.2799999999999998,-1.2311999999999996,-1.1808000000000003,-1.1288000000000002,-1.0752000000000002,-1.02,-0.9632000000000001,-0.9048,-0.8448,-0.7831999999999999,-0.7199999999999999,-0.6551999999999998,-0.5887999999999998,-0.5207999999999997,-0.4512000000000004,-0.38000000000000034,-0.30720000000000025,-0.2328000000000002,-0.15680000000000013,-0.07920000000000008,-0.0]},{\"x\":[3.02,3.04,3.06,3.08,3.1,3.12,3.14,3.16,3.18,3.2,3.22,3.24,3.26,3.2800000000000002,3.3,3.32,3.34,3.36,3.38,3.4,3.42,3.44,3.46,3.48,3.5,3.52,3.54,3.56,3.58,3.6,3.62,3.64,3.66,3.68,3.7,3.7199999999999998,3.74,3.76,3.7800000000000002,3.8,3.82,3.84,3.86,3.88,3.9,3.92,3.94,3.96,3.98,4.0,4.02,4.04,4.0600000000000005,4.08,4.1,4.12,4.14,4.16,4.18,4.2,4.22,4.24,4.26,4.28,4.3,4.32,4.34,4.36,4.38,4.4,4.42,4.4399999999999995,4.46,4.48,4.5,4.52,4.54,4.5600000000000005,4.58,4.6,4.62,4.64,4.66,4.68,4.7,4.72,4.74,4.76,4.78,4.8,4.82,4.84,4.86,4.88,4.9,4.92,4.9399999999999995,4.96,4.98,5.0],\"y\":[-0.07920000000000008,-0.15680000000000013,-0.2328000000000002,-0.30720000000000025,-0.38000000000000034,-0.4512000000000004,-0.5208000000000004,-0.5888000000000004,-0.6552000000000006,-0.7200000000000005,-0.7832000000000006,-0.8448000000000007,-0.9047999999999994,-0.9632000000000007,-1.0199999999999996,-1.0751999999999995,-1.1287999999999996,-1.1807999999999996,-1.2311999999999996,-1.2799999999999998,-1.3272,-1.3727999999999998,-1.4167999999999998,-1.4592,-1.5,-1.5392000000000001,-1.5768,-1.6128,-1.6472000000000002,-1.6800000000000002,-1.7112,-1.7408000000000001,-1.7688000000000001,-1.7952000000000001,-1.8200000000000003,-1.8431999999999997,-1.8648000000000002,-1.8847999999999998,-1.9032000000000002,-1.92,-1.9351999999999998,-1.9487999999999999,-1.9607999999999999,-1.9711999999999998,-1.98,-1.9872,-1.9928,-1.9968,-1.9992,-2.0,-1.9992,-1.9968,-1.9928,-1.9872,-1.9800000000000002,-1.9711999999999998,-1.9608,-1.9487999999999999,-1.9352000000000003,-1.92,-1.9032000000000002,-1.8847999999999998,-1.8648000000000002,-1.8431999999999997,-1.8200000000000003,-1.7951999999999997,-1.7688000000000001,-1.7407999999999995,-1.7112,-1.6799999999999995,-1.6472000000000002,-1.612800000000001,-1.5768,-1.5391999999999992,-1.5,-1.459200000000001,-1.4167999999999998,-1.372799999999999,-1.3272,-1.280000000000001,-1.2311999999999996,-1.1808000000000007,-1.1287999999999996,-1.0752000000000008,-1.0199999999999996,-0.9632000000000007,-0.9047999999999994,-0.8448000000000007,-0.7831999999999992,-0.7200000000000005,-0.6551999999999991,-0.5888000000000004,-0.5207999999999989,-0.4512000000000004,-0.3799999999999987,-0.30720000000000025,-0.23280000000000187,-0.15680000000000013,-0.07919999999999833,0.0]}],\n",
       "  {},\n",
       "  {\"linkText\":\"Export to plot.ly\",\"showLink\":true}\n",
       ")\n",
       "\n",
       "window.addEventListener('resize', function() {\n",
       "  Plotly.Plots.resize(document.getElementById('5c44f5f0-d47f-4ce3-b9c0-3f3083cda8aa'))\n",
       "})\n",
       " }) \n",
       "</script>"
      ],
      "text/plain": [
       "#<Plotly::Offline::HTML:0x00007f9c3a166cb8 @id=\"5c44f5f0-d47f-4ce3-b9c0-3f3083cda8aa\", @data=[{:x=>[2.98, 2.96, 2.94, 2.92, 2.9, 2.88, 2.86, 2.84, 2.82, 2.8, 2.78, 2.76, 2.74, 2.7199999999999998, 2.7, 2.68, 2.66, 2.64, 2.62, 2.6, 2.58, 2.56, 2.54, 2.52, 2.5, 2.48, 2.46, 2.44, 2.42, 2.4, 2.38, 2.36, 2.34, 2.32, 2.3, 2.2800000000000002, 2.26, 2.24, 2.2199999999999998, 2.2, 2.18, 2.16, 2.14, 2.12, 2.1, 2.08, 2.06, 2.04, 2.02, 2.0, 1.98, 1.96, 1.94, 1.92, 1.9, 1.88, 1.86, 1.84, 1.82, 1.8, 1.78, 1.76, 1.74, 1.72, 1.7, 1.68, 1.66, 1.64, 1.62, 1.6, 1.58, 1.56, 1.54, 1.52, 1.5, 1.48, 1.46, 1.44, 1.42, 1.4, 1.38, 1.36, 1.34, 1.32, 1.3, 1.28, 1.26, 1.24, 1.22, 1.2, 1.18, 1.16, 1.14, 1.12, 1.1, 1.08, 1.06, 1.04, 1.02, 1.0], :y=>[-0.07920000000000008, -0.15680000000000013, -0.2328000000000002, -0.30720000000000025, -0.38000000000000034, -0.4512000000000004, -0.5208000000000004, -0.5888000000000004, -0.6552000000000006, -0.7200000000000005, -0.7832000000000006, -0.8448000000000007, -0.9047999999999994, -0.9632000000000007, -1.0199999999999996, -1.0751999999999995, -1.1287999999999996, -1.1807999999999996, -1.2311999999999996, -1.2799999999999998, -1.3272, -1.3727999999999998, -1.4167999999999998, -1.4592, -1.5, -1.5392000000000001, -1.5768, -1.6128, -1.6472000000000002, -1.6800000000000002, -1.7112, -1.7408000000000001, -1.7688000000000001, -1.7952000000000001, -1.8200000000000003, -1.8431999999999997, -1.8648000000000002, -1.8847999999999998, -1.9032000000000002, -1.92, -1.9351999999999998, -1.9487999999999999, -1.9607999999999999, -1.9711999999999998, -1.98, -1.9872, -1.9928, -1.9968, -1.9992, -2.0, -1.9992, -1.9968, -1.9928, -1.9872, -1.98, -1.9711999999999998, -1.9608, -1.9488, -1.9352, -1.92, -1.9032, -1.8848, -1.8648, -1.8432, -1.8199999999999998, -1.7952, -1.7688, -1.7408, -1.7112, -1.6800000000000002, -1.6472000000000002, -1.6128, -1.5768, -1.5392000000000001, -1.5, -1.4592, -1.4167999999999998, -1.3727999999999998, -1.3272, -1.2799999999999998, -1.2311999999999996, -1.1808000000000003, -1.1288000000000002, -1.0752000000000002, -1.02, -0.9632000000000001, -0.9048, -0.8448, -0.7831999999999999, -0.7199999999999999, -0.6551999999999998, -0.5887999999999998, -0.5207999999999997, -0.4512000000000004, -0.38000000000000034, -0.30720000000000025, -0.2328000000000002, -0.15680000000000013, -0.07920000000000008, -0.0]}, {:x=>[2.98, 2.96, 2.94, 2.92, 2.9, 2.88, 2.86, 2.84, 2.82, 2.8, 2.78, 2.76, 2.74, 2.7199999999999998, 2.7, 2.68, 2.66, 2.64, 2.62, 2.6, 2.58, 2.56, 2.54, 2.52, 2.5, 2.48, 2.46, 2.44, 2.42, 2.4, 2.38, 2.36, 2.34, 2.32, 2.3, 2.2800000000000002, 2.26, 2.24, 2.2199999999999998, 2.2, 2.18, 2.16, 2.14, 2.12, 2.1, 2.08, 2.06, 2.04, 2.02, 2.0, 1.98, 1.96, 1.94, 1.92, 1.9, 1.88, 1.86, 1.84, 1.82, 1.8, 1.78, 1.76, 1.74, 1.72, 1.7, 1.68, 1.66, 1.64, 1.62, 1.6, 1.58, 1.56, 1.54, 1.52, 1.5, 1.48, 1.46, 1.44, 1.42, 1.4, 1.38, 1.36, 1.34, 1.32, 1.3, 1.28, 1.26, 1.24, 1.22, 1.2, 1.18, 1.16, 1.14, 1.12, 1.1, 1.08, 1.06, 1.04, 1.02, 1.0], :y=>[-0.07920000000000008, -0.15680000000000013, -0.2328000000000002, -0.30720000000000025, -0.38000000000000034, -0.4512000000000004, -0.5208000000000004, -0.5888000000000004, -0.6552000000000006, -0.7200000000000005, -0.7832000000000006, -0.8448000000000007, -0.9047999999999994, -0.9632000000000007, -1.0199999999999996, -1.0751999999999995, -1.1287999999999996, -1.1807999999999996, -1.2311999999999996, -1.2799999999999998, -1.3272, -1.3727999999999998, -1.4167999999999998, -1.4592, -1.5, -1.5392000000000001, -1.5768, -1.6128, -1.6472000000000002, -1.6800000000000002, -1.7112, -1.7408000000000001, -1.7688000000000001, -1.7952000000000001, -1.8200000000000003, -1.8431999999999997, -1.8648000000000002, -1.8847999999999998, -1.9032000000000002, -1.92, -1.9351999999999998, -1.9487999999999999, -1.9607999999999999, -1.9711999999999998, -1.98, -1.9872, -1.9928, -1.9968, -1.9992, -2.0, -1.9992, -1.9968, -1.9928, -1.9872, -1.98, -1.9711999999999998, -1.9608, -1.9488, -1.9352, -1.92, -1.9032, -1.8848, -1.8648, -1.8432, -1.8199999999999998, -1.7952, -1.7688, -1.7408, -1.7112, -1.6800000000000002, -1.6472000000000002, -1.6128, -1.5768, -1.5392000000000001, -1.5, -1.4592, -1.4167999999999998, -1.3727999999999998, -1.3272, -1.2799999999999998, -1.2311999999999996, -1.1808000000000003, -1.1288000000000002, -1.0752000000000002, -1.02, -0.9632000000000001, -0.9048, -0.8448, -0.7831999999999999, -0.7199999999999999, -0.6551999999999998, -0.5887999999999998, -0.5207999999999997, -0.4512000000000004, -0.38000000000000034, -0.30720000000000025, -0.2328000000000002, -0.15680000000000013, -0.07920000000000008, -0.0]}, {:x=>[3.02, 3.04, 3.06, 3.08, 3.1, 3.12, 3.14, 3.16, 3.18, 3.2, 3.22, 3.24, 3.26, 3.2800000000000002, 3.3, 3.32, 3.34, 3.36, 3.38, 3.4, 3.42, 3.44, 3.46, 3.48, 3.5, 3.52, 3.54, 3.56, 3.58, 3.6, 3.62, 3.64, 3.66, 3.68, 3.7, 3.7199999999999998, 3.74, 3.76, 3.7800000000000002, 3.8, 3.82, 3.84, 3.86, 3.88, 3.9, 3.92, 3.94, 3.96, 3.98, 4.0, 4.02, 4.04, 4.0600000000000005, 4.08, 4.1, 4.12, 4.14, 4.16, 4.18, 4.2, 4.22, 4.24, 4.26, 4.28, 4.3, 4.32, 4.34, 4.36, 4.38, 4.4, 4.42, 4.4399999999999995, 4.46, 4.48, 4.5, 4.52, 4.54, 4.5600000000000005, 4.58, 4.6, 4.62, 4.64, 4.66, 4.68, 4.7, 4.72, 4.74, 4.76, 4.78, 4.8, 4.82, 4.84, 4.86, 4.88, 4.9, 4.92, 4.9399999999999995, 4.96, 4.98, 5.0], :y=>[-0.07920000000000008, -0.15680000000000013, -0.2328000000000002, -0.30720000000000025, -0.38000000000000034, -0.4512000000000004, -0.5208000000000004, -0.5888000000000004, -0.6552000000000006, -0.7200000000000005, -0.7832000000000006, -0.8448000000000007, -0.9047999999999994, -0.9632000000000007, -1.0199999999999996, -1.0751999999999995, -1.1287999999999996, -1.1807999999999996, -1.2311999999999996, -1.2799999999999998, -1.3272, -1.3727999999999998, -1.4167999999999998, -1.4592, -1.5, -1.5392000000000001, -1.5768, -1.6128, -1.6472000000000002, -1.6800000000000002, -1.7112, -1.7408000000000001, -1.7688000000000001, -1.7952000000000001, -1.8200000000000003, -1.8431999999999997, -1.8648000000000002, -1.8847999999999998, -1.9032000000000002, -1.92, -1.9351999999999998, -1.9487999999999999, -1.9607999999999999, -1.9711999999999998, -1.98, -1.9872, -1.9928, -1.9968, -1.9992, -2.0, -1.9992, -1.9968, -1.9928, -1.9872, -1.9800000000000002, -1.9711999999999998, -1.9608, -1.9487999999999999, -1.9352000000000003, -1.92, -1.9032000000000002, -1.8847999999999998, -1.8648000000000002, -1.8431999999999997, -1.8200000000000003, -1.7951999999999997, -1.7688000000000001, -1.7407999999999995, -1.7112, -1.6799999999999995, -1.6472000000000002, -1.612800000000001, -1.5768, -1.5391999999999992, -1.5, -1.459200000000001, -1.4167999999999998, -1.372799999999999, -1.3272, -1.280000000000001, -1.2311999999999996, -1.1808000000000007, -1.1287999999999996, -1.0752000000000008, -1.0199999999999996, -0.9632000000000007, -0.9047999999999994, -0.8448000000000007, -0.7831999999999992, -0.7200000000000005, -0.6551999999999991, -0.5888000000000004, -0.5207999999999989, -0.4512000000000004, -0.3799999999999987, -0.30720000000000025, -0.23280000000000187, -0.15680000000000013, -0.07919999999999833, 0.0]}], @layout={}, @config={:linkText=>\"Export to plot.ly\", :showLink=>true}, @embedded=true>"
      ]
     },
     "metadata": {},
     "output_type": "display_data"
    }
   ],
   "source": [
    "require 'rbplotly'\n",
    "\n",
    "N, K = 100, 2.0\n",
    "\n",
    "Xstd = (1..N).map{|k| k.to_f/N.to_f}\n",
    "\n",
    "def get_trace(pair)\n",
    "  d = pair[1]-pair[0]\n",
    "  xa = Xstd.map{|x| d*x+pair[0]}\n",
    "  ya = xa.map{|x| K*(x-pair[0])*(x-pair[1])}\n",
    "  { x: xa, y: ya}\n",
    "end\n",
    "\n",
    "traces = wc.map{|pair| get_trace(pair)}\n",
    "pl = Plotly::Plot.new(data: traces)\n",
    "pl.show\n",
    "nil"
   ]
  },
  {
   "cell_type": "markdown",
   "metadata": {},
   "source": [
    "# TODO\n",
    "* [ ] cobracket の計算結果が前バージョンと一致していないので、原因究明する。\n",
    "どうも、Wcode に同じ数字が何度も出てくるところが変なようだ。"
   ]
  },
  {
   "cell_type": "code",
   "execution_count": null,
   "metadata": {},
   "outputs": [],
   "source": []
  }
 ],
 "metadata": {
  "kernelspec": {
   "display_name": "Ruby 2.6.1",
   "language": "ruby",
   "name": "ruby"
  },
  "language_info": {
   "file_extension": ".rb",
   "mimetype": "application/x-ruby",
   "name": "ruby",
   "version": "2.6.1"
  },
  "toc": {
   "base_numbering": 1,
   "nav_menu": {},
   "number_sections": false,
   "sideBar": true,
   "skip_h1_title": true,
   "title_cell": "Table of Contents",
   "title_sidebar": "Contents",
   "toc_cell": false,
   "toc_position": {},
   "toc_section_display": true,
   "toc_window_display": false
  },
  "varInspector": {
   "cols": {
    "lenName": 16,
    "lenType": 16,
    "lenVar": 40
   },
   "kernels_config": {
    "python": {
     "delete_cmd_postfix": "",
     "delete_cmd_prefix": "del ",
     "library": "var_list.py",
     "varRefreshCmd": "print(var_dic_list())"
    },
    "r": {
     "delete_cmd_postfix": ") ",
     "delete_cmd_prefix": "rm(",
     "library": "var_list.r",
     "varRefreshCmd": "cat(var_dic_list()) "
    }
   },
   "types_to_exclude": [
    "module",
    "function",
    "builtin_function_or_method",
    "instance",
    "_Feature"
   ],
   "window_display": false
  }
 },
 "nbformat": 4,
 "nbformat_minor": 2
}
