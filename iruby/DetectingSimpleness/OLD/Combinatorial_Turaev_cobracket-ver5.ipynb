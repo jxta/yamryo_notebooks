{
 "cells": [
  {
   "cell_type": "markdown",
   "metadata": {},
   "source": [
    "# The fundarmental group of $\\Sigma_{g,1}$ "
   ]
  },
  {
   "cell_type": "code",
   "execution_count": 1,
   "metadata": {
    "ExecuteTime": {
     "end_time": "2019-07-03T04:16:32.704148Z",
     "start_time": "2019-07-03T04:16:32.696Z"
    }
   },
   "outputs": [
    {
     "data": {
      "text/plain": [
       "true"
      ]
     },
     "execution_count": 1,
     "metadata": {},
     "output_type": "execute_result"
    }
   ],
   "source": [
    "require './freegroup.rb'"
   ]
  },
  {
   "cell_type": "markdown",
   "metadata": {},
   "source": [
    "## generators"
   ]
  },
  {
   "cell_type": "code",
   "execution_count": 2,
   "metadata": {
    "ExecuteTime": {
     "end_time": "2019-07-03T04:16:32.717985Z",
     "start_time": "2019-07-03T04:16:32.699Z"
    }
   },
   "outputs": [
    {
     "name": "stdout",
     "output_type": "stream",
     "text": [
      "[\"a\", \"b\", \"c\", \"d\", \"e\", \"f\"]\n",
      "[\"1\", \"a\", \"c\", \"e\"]\n"
     ]
    }
   ],
   "source": [
    "genus = 3\n",
    "alphabet = %w(a b c d e f)\n",
    "\n",
    "Gens = [Letter.new] + alphabet.map{|x| Letter.new(x)}\n",
    "Gens.freeze\n",
    "p Gens[1..-1].map(&:show)\n",
    "\n",
    "a = [Gens[0]] + Gens[1..-1].each_slice(2).map(&:first)\n",
    "b = [Gens[0]] + Gens[1..-1].each_slice(2).map(&:last)\n",
    "p a.map(&:show)\n",
    "nil"
   ]
  },
  {
   "cell_type": "code",
   "execution_count": 3,
   "metadata": {
    "ExecuteTime": {
     "end_time": "2019-07-03T04:16:32.721633Z",
     "start_time": "2019-07-03T04:16:32.703Z"
    }
   },
   "outputs": [
    {
     "name": "stdout",
     "output_type": "stream",
     "text": [
      "[\"1111\", \"abAB\", \"cdCD\", \"efEF\"]\n"
     ]
    },
    {
     "data": {
      "text/plain": [
       "[\"1111\", \"abAB\", \"cdCD\", \"efEF\"]"
      ]
     },
     "execution_count": 3,
     "metadata": {},
     "output_type": "execute_result"
    }
   ],
   "source": [
    "comms = []\n",
    "(Gens.size/2 + 1).times do |i|\n",
    "  comms << Group.commutator(a[i], b[i])\n",
    "end\n",
    "p comms.map(&:show)"
   ]
  },
  {
   "cell_type": "code",
   "execution_count": 4,
   "metadata": {
    "ExecuteTime": {
     "end_time": "2019-07-03T04:16:32.729207Z",
     "start_time": "2019-07-03T04:16:32.709Z"
    }
   },
   "outputs": [
    {
     "name": "stderr",
     "output_type": "stream",
     "text": [
      "<main>:2: warning: already initialized constant Rseq\n",
      "<main>:2: warning: already initialized constant Rseq\n",
      "<main>:2: warning: previous definition of Rseq was here\n",
      "<main>:2: warning: already initialized constant Rseq\n",
      "<main>:2: warning: previous definition of Rseq was here\n"
     ]
    },
    {
     "name": "stdout",
     "output_type": "stream",
     "text": [
      "[\"a\", \"B\", \"A\", \"b\", \"c\", \"D\", \"C\", \"d\", \"e\", \"F\", \"E\", \"f\"]\n"
     ]
    }
   ],
   "source": [
    "Rseq = []\n",
    "(Gens.size/2).times do |i|\n",
    "  Rseq += [a[i+1], b[i+1].inverse, a[i+1].inverse, b[i+1]]\n",
    "end\n",
    "Rseq.freeze\n",
    "p Rseq.map(&:show) #.index('A')\n",
    "nil"
   ]
  },
  {
   "cell_type": "markdown",
   "metadata": {},
   "source": [
    "## Turaev cobraket"
   ]
  },
  {
   "cell_type": "code",
   "execution_count": 5,
   "metadata": {
    "ExecuteTime": {
     "end_time": "2019-07-03T04:16:32.732567Z",
     "start_time": "2019-07-03T04:16:32.715Z"
    }
   },
   "outputs": [],
   "source": [
    "def ep(h1, h2) # h1 = {letter: *, index: *}\n",
    "  result = if h1[:letter].show == h2[:letter].show\n",
    "    if (h1[:index] < h2[:index]) \n",
    "#    if (h1[:label] < h2[:label]) \n",
    "      (h2[:label].odd?) ? -1 : 1\n",
    "    else\n",
    "      (h1[:label].odd?) ? 1 : -1\n",
    "    end\n",
    "  else\n",
    "    (Rseq.index(h1[:letter]) < Rseq.index(h2[:letter])) ? 1 : -1\n",
    "  end\n",
    "  return result\n",
    "end\n",
    "#--------------------------------------------\n",
    "def lk(word, div_pair)\n",
    "  word.flatten!\n",
    "  hash_of_letters = div_pair.map do |k|\n",
    "    [{index: k%(word.size)+1, letter: word[k%(word.size)], label: 2*(k%(word.size))},\n",
    "       {index: k, letter: word[k-1].inverse, label: 2*k-1}]\n",
    "  end\n",
    "  \n",
    "\n",
    "  if (hash_of_letters[0][0][:letter] == hash_of_letters[0][1][:letter]) or (hash_of_letters[1][0][:letter] == hash_of_letters[1][1][:letter])\n",
    "    return 0\n",
    "  else\n",
    "    terms = [[0,0],[0,1],[1,0],[1,1]].map do |a|\n",
    "        [hash_of_letters[0][a[0]], hash_of_letters[1][a[1]]]\n",
    "    end\n",
    "    vals = terms.map{|v| ep(*v)}\n",
    "    return (-1)*(vals[0] - vals[1] - vals[2] + vals[3])/2\n",
    "#    return [terms.map{|a| \"(#{a.map{|h| h[:letter].show + ':' + h[:index].to_s + ':' + h[:label].to_s}.join(',')})\"}.join(','), vals, (-1)*(vals[0] - vals[1] - vals[2] + vals[3])/2]\n",
    "  end\n",
    "end\n",
    "nil"
   ]
  },
  {
   "cell_type": "code",
   "execution_count": 21,
   "metadata": {
    "ExecuteTime": {
     "end_time": "2019-07-03T04:19:23.884391Z",
     "start_time": "2019-07-03T04:19:23.877Z"
    },
    "code_folding": [],
    "scrolled": true
   },
   "outputs": [],
   "source": [
    "def cobracket(myw, verbose: false)\n",
    "  \n",
    "  #-----\n",
    "  # 2つの div の組み合わせ全てについて、{divs: *, linking: *, words: *} という Hash を生成。\n",
    "  \n",
    "  divs = (1..myw.size).to_a\n",
    "  monomials = divs.combination(2).map do |combi|\n",
    "    #--- dividng word --- \n",
    "    facs = myw.flatten.factors\n",
    "    words = Array.new(2)\n",
    "    words[0] = Word.new(facs[0..combi[0]-1]+facs[combi[1]..-1])\n",
    "    words[1] = Word.new(facs[combi[0]..combi[1]-1])\n",
    "    \n",
    "    {divs: combi, linking: lk(myw, combi), words: words}\n",
    "  end\n",
    "  #-----\n",
    "  \n",
    "  if verbose\n",
    "    result = monomials\n",
    "  else\n",
    "    monomials.delete_if{|mono| mono[:linking] == 0}\n",
    "#    p monomials.map{|mono| mono[:words].map(&:show)}\n",
    "    monomials.each{|mono| mono[:words] = mono[:words].map(&:cyclic_reduce)}\n",
    "#    p monomials.map{|mono| mono[:words].map(&:show)}\n",
    "    result = []\n",
    "    while monomials.size > 0\n",
    "      pop = monomials.pop\n",
    "      pop[:divs] = [pop[:divs]]\n",
    "      pop[:coeff] = pop[:linking]\n",
    "      #---\n",
    "      monomials.each do |mono|\n",
    "        if mono[:words][0].conjugate?(pop[:words][0]) and mono[:words][1].conjugate?(pop[:words][1])\n",
    "          pop[:coeff] += mono[:linking]\n",
    "          pop[:divs] << mono[:divs]\n",
    "          mono[:linking] = nil\n",
    "        elsif mono[:words][0].conjugate?(pop[:words][1]) and mono[:words][1].conjugate?(pop[:words][0])\n",
    "          pop[:coeff] += mono[:linking]*(-1)\n",
    "          pop[:divs] << mono[:divs]\n",
    "          mono[:linking] = nil\n",
    "        end\n",
    "      end\n",
    "      #---\n",
    "      if pop[:coeff] != 0 or verbose\n",
    "        result << pop\n",
    "      end\n",
    "      #---\n",
    "      monomials.delete_if{|mono| mono[:linking].nil?}\n",
    "    end \n",
    "  end\n",
    "  return (result.empty?) ? [{divs: [], coeff: 0, words: []}] : result\n",
    "end; nil"
   ]
  },
  {
   "cell_type": "code",
   "execution_count": 20,
   "metadata": {
    "ExecuteTime": {
     "end_time": "2019-07-03T04:18:28.600981Z",
     "start_time": "2019-07-03T04:18:28.591Z"
    }
   },
   "outputs": [
    {
     "name": "stdout",
     "output_type": "stream",
     "text": [
      "\"acEbBeAcC\"\n",
      "\"c\"\n"
     ]
    }
   ],
   "source": [
    "w = Word.new(a[1], a[2], a[3].inverse, b[1], b[1].inverse, a[3], a[1].inverse, a[2], a[2].inverse)\n",
    "\n",
    "p w.show\n",
    "#p w.contract_once.show\n",
    "#p w.contract.show\n",
    "p w.cyclic_reduce.show\n",
    "nil"
   ]
  },
  {
   "cell_type": "markdown",
   "metadata": {},
   "source": [
    "# Execution"
   ]
  },
  {
   "cell_type": "code",
   "execution_count": 24,
   "metadata": {
    "ExecuteTime": {
     "end_time": "2019-07-03T04:20:37.466777Z",
     "start_time": "2019-07-03T04:20:36.545Z"
    },
    "scrolled": false
   },
   "outputs": [
    {
     "name": "stdout",
     "output_type": "stream",
     "text": [
      "--- s0 ---\n",
      " a  |--δ-->  (0)\n",
      "a.d  |--δ-->  (-1)a ∧ d\n",
      "a.D  |--δ-->  (0)\n",
      "a.abA.aBA  |--δ-->  aB ∧ b + B ∧ ab + 1 ∧ a\n",
      "--- s1 ---\n",
      " a.a.a.a  |--δ-->  aaa ∧ a + aa ∧ aa + a ∧ aaa\n",
      "abA  |--δ-->  1 ∧ b\n",
      "abAB  |--δ-->  (0)\n",
      "b.a.b  |--δ-->  (0)\n",
      "--- s2 ---\n",
      " a.dcDC  |--δ-->  (-1)a ∧ dcDC\n",
      "a.aBA.dcDC.abA  |--δ-->  (-1)aB ∧ AdcDCab + 1 ∧ aBAdcDCab\n",
      "a.dcDC.cdCDaBAdcDCabA  |--δ-->  (-1)aB ∧ AdcDCab + dcdCDaBAdcDCab ∧ D + (2)1 ∧ aBAdcDCab\n",
      "aBAdcDCab  |--δ-->  (0)\n",
      "--- s3 ---\n",
      " a.cdCD  |--δ-->  (0)\n",
      "a.cdCD.cdCD  |--δ-->  acdCD ∧ cdCD\n",
      "a.cdCD.abA.cdCD.aBA  |--δ-->  cdCDaBA ∧ cdCDab\n",
      "--- s4 ---\n",
      " a.c.c.c  |--δ-->  acc ∧ c + ac ∧ cc\n",
      "a.cD.cD.cD  |--δ-->  acDcD ∧ cD + acD ∧ cDcD\n",
      "--- s5 ---\n",
      " a.ceCE  |--δ-->  (-1)aceC ∧ E + ace ∧ CE + (-1)ac ∧ C\n",
      "a.cdCD.efEF.ceCE.feFEdcDC  |--δ-->  (-1)acdCDefEFceCfeFEdcDC ∧ E + acdCDefEFcefeFEdcDC ∧ CE + (-1)acdCDefEFcfeFEdcDC ∧ C\n",
      "--- s6 ---\n",
      " a.bcBC  |--δ-->  (-1)abcB ∧ C + abc ∧ BC + (-1)abC ∧ cB\n",
      "a.A.b.a  |--δ-->  (0)\n",
      "abA.A.a  |--δ-->  (-1)ab ∧ A + a ∧ bA + 1 ∧ b\n",
      "abA.aBA  |--δ-->  B ∧ b\n"
     ]
    }
   ],
   "source": [
    "a1 = Word.new(a[1])\n",
    "c = (a1*Word.new(b[1])*(a1.inverse)).flatten\n",
    "\n",
    "samples = {\n",
    "  s0: [\n",
    "    a1, \n",
    "    a1*Word.new(b[2]),\n",
    "    a1*(Word.new(b[2]).inverse),\n",
    "    a1*c*(c.inverse),\n",
    "  ],\n",
    "  s1: [\n",
    "    a1^4,\n",
    "    c,\n",
    "    comms[1],\n",
    "    Word.new(b[1])*a1*Word.new(b[1])\n",
    "  ],\n",
    "  s2: [\n",
    "    a1*(comms[2].inverse),\n",
    "    a1*(c.inverse)*(comms[2].inverse)*c,\n",
    "    a1*(comms[2].inverse)*Group.commutator(comms[2], c.inverse),\n",
    "    (a1*(comms[2].inverse)*Group.commutator(comms[2], c.inverse)).cyclic_reduce\n",
    "  ],\n",
    "  s3: [\n",
    "    a1*comms[2],\n",
    "    a1*(comms[2]^2),\n",
    "    a1*comms[2]*c*comms[2]*(c.inverse)\n",
    "  ],\n",
    "  s4: [\n",
    "    a1*(Word.new(a[2])^3),\n",
    "    a1*(Word.new(a[2], b[2].inverse)^3)\n",
    "  ],\n",
    "  s5: [\n",
    "    a1*Group.commutator(a[2], a[3]),\n",
    "    a1*(comms[2]*comms[3])*Group.commutator(a[2], a[3])*((comms[2]*comms[3]).inverse)\n",
    "  ],\n",
    "  s6: [\n",
    "    a1*Group.commutator(b[1], a[2]),\n",
    "    a1*(a1.inverse)*Word.new(b[1])*a1,\n",
    "    c*(a1.inverse)*a1,\n",
    "    c*(c.inverse)\n",
    "  ]\n",
    "  }\n",
    "\n",
    "arr = samples #.slice(:s6) #:s2) #, :s3) #:s0, :s1) #\n",
    "arr.each do |k, v|\n",
    "  printf \"--- #{k} ---\\n \"\n",
    "  v.each do |s|\n",
    "    ws = s.show\n",
    "    cob = cobracket(s, verbose: false).map do |h|\n",
    "     coeff = (h[:coeff]==1) ? '' : \"(#{h[:coeff].to_s})\"\n",
    "#       coeff = (h[:linking]==1) ? '' : \"(#{h[:linking].to_s})\"\n",
    "      coeff + \"#{h[:words].join(\" \\u{2227} \")}\"\n",
    "    end\n",
    "    #---\n",
    "    puts \"#{ws}  |--\\u{03B4}-->  #{cob.join(' + ')}\"\n",
    "  end\n",
    "end;nil"
   ]
  },
  {
   "cell_type": "markdown",
   "metadata": {},
   "source": [
    "## Experiments"
   ]
  },
  {
   "cell_type": "code",
   "execution_count": 27,
   "metadata": {
    "ExecuteTime": {
     "end_time": "2019-07-03T04:37:25.436343Z",
     "start_time": "2019-07-03T04:37:25.351Z"
    },
    "collapsed": true
   },
   "outputs": [
    {
     "name": "stdout",
     "output_type": "stream",
     "text": [
      "a.abA.aBA\n",
      "-------\n",
      "\"divs: [1, 2]\"\n",
      "\"linking: 1\"\n",
      "\"words: 1 ∧ a\"\n",
      "---\n",
      "\"divs: [1, 3]\"\n",
      "\"linking: 1\"\n",
      "\"words: B ∧ ab\"\n",
      "---\n",
      "\"divs: [1, 4]\"\n",
      "\"linking: 0\"\n",
      "\"words: aB ∧ b\"\n",
      "---\n",
      "\"divs: [1, 5]\"\n",
      "\"linking: 0\"\n",
      "\"words: B ∧ ab\"\n",
      "---\n",
      "\"divs: [1, 6]\"\n",
      "\"linking: 0\"\n",
      "\"words: 1 ∧ a\"\n",
      "---\n",
      "\"divs: [1, 7]\"\n",
      "\"linking: 0\"\n",
      "\"words: a ∧ 1\"\n",
      "---\n",
      "\"divs: [2, 3]\"\n",
      "\"linking: 1\"\n",
      "\"words: aB ∧ b\"\n",
      "---\n",
      "\"divs: [2, 4]\"\n",
      "\"linking: 0\"\n",
      "\"words: aaB ∧ bA\"\n",
      "---\n",
      "\"divs: [2, 5]\"\n",
      "\"linking: 0\"\n",
      "\"words: aB ∧ b\"\n",
      "---\n",
      "\"divs: [2, 6]\"\n",
      "\"linking: 0\"\n",
      "\"words: a ∧ 1\"\n",
      "---\n",
      "\"divs: [2, 7]\"\n",
      "\"linking: 0\"\n",
      "\"words: aa ∧ A\"\n",
      "---\n",
      "\"divs: [3, 4]\"\n",
      "\"linking: 0\"\n",
      "\"words: abaB ∧ A\"\n",
      "---\n",
      "\"divs: [3, 5]\"\n",
      "\"linking: 0\"\n",
      "\"words: a ∧ 1\"\n",
      "---\n",
      "\"divs: [3, 6]\"\n",
      "\"linking: 0\"\n",
      "\"words: ab ∧ B\"\n",
      "---\n",
      "\"divs: [3, 7]\"\n",
      "\"linking: 0\"\n",
      "\"words: aab ∧ BA\"\n",
      "---\n",
      "\"divs: [4, 5]\"\n",
      "\"linking: 0\"\n",
      "\"words: abAB ∧ a\"\n",
      "---\n",
      "\"divs: [4, 6]\"\n",
      "\"linking: 0\"\n",
      "\"words: b ∧ aB\"\n",
      "---\n",
      "\"divs: [4, 7]\"\n",
      "\"linking: 0\"\n",
      "\"words: ab ∧ B\"\n",
      "---\n",
      "\"divs: [5, 6]\"\n",
      "\"linking: 0\"\n",
      "\"words: ab ∧ B\"\n",
      "---\n",
      "\"divs: [5, 7]\"\n",
      "\"linking: 0\"\n",
      "\"words: aab ∧ BA\"\n",
      "---\n",
      "\"divs: [6, 7]\"\n",
      "\"linking: 0\"\n",
      "\"words: aa ∧ A\"\n",
      "---\n"
     ]
    }
   ],
   "source": [
    "mw = a1*c*(c.inverse) #Word.new(b[1], a[1], a[1].inverse, b[1].inverse, a[1]) #Word.new(a[1], b[1], b[1].inverse, a[2]) #a1*Group.commutator(b[1], a[2]) #comms[1] #\n",
    "printf mw.show + \"\\n-------\\n\"\n",
    "\n",
    "vbs = true #false #\n",
    "cobracket(mw, verbose: vbs).each do |h|\n",
    "  h.each do |k,v| \n",
    "    v = v.map(&:cyclic_reduce).join(\" \\u{2227} \") if k == :words\n",
    "    p \"#{k}: #{v}\"\n",
    "  end\n",
    "  printf \"---\\n\"\n",
    "end; nil"
   ]
  },
  {
   "cell_type": "code",
   "execution_count": 31,
   "metadata": {
    "ExecuteTime": {
     "end_time": "2019-07-03T04:45:20.766933Z",
     "start_time": "2019-07-03T04:45:20.751Z"
    }
   },
   "outputs": [
    {
     "name": "stdout",
     "output_type": "stream",
     "text": [
      "dbaABa\n",
      "-------\n",
      "\"divs: [[5, 6]]\"\n",
      "\"linking: 1\"\n",
      "\"words: d ∧ a\"\n",
      "\"coeff: 1\"\n",
      "---\n"
     ]
    }
   ],
   "source": [
    "mw = Word.new(b[2], b[1], a[1], a[1].inverse, b[1].inverse, a[1]) #Word.new(a[1], b[1], b[1].inverse, a[2]) #a1*Group.commutator(b[1], a[2]) #comms[1] #\n",
    "printf mw.show + \"\\n-------\\n\"\n",
    "\n",
    "vbs = false #true #\n",
    "cobracket(mw, verbose: vbs).each do |h|\n",
    "  h.each do |k,v| \n",
    "    v = v.map(&:cyclic_reduce).join(\" \\u{2227} \") if k == :words\n",
    "    p \"#{k}: #{v}\"\n",
    "  end\n",
    "  printf \"---\\n\"\n",
    "end; nil"
   ]
  },
  {
   "cell_type": "code",
   "execution_count": 11,
   "metadata": {
    "ExecuteTime": {
     "end_time": "2019-07-03T04:16:32.816653Z",
     "start_time": "2019-07-03T04:16:32.746Z"
    }
   },
   "outputs": [
    {
     "name": "stdout",
     "output_type": "stream",
     "text": [
      "\"abAaBA\"\n",
      "=====\n",
      "[[\"aAaBA\", \"b\"]]\n",
      "[[\"B\", \"b\"]]\n",
      "\"linking: 1\"\n",
      "\"B ∧ b\"\n",
      "----------\n"
     ]
    }
   ],
   "source": [
    "myw = samples[:s6][-1]\n",
    "p myw.show\n",
    "\n",
    "vb = false #true\n",
    "printf(\"=====\\n\")\n",
    "cobracket(myw, verbose: vb).each do |h|\n",
    "  h.each do |k,v|\n",
    "    case k \n",
    "    when :odds, :linking\n",
    "      p \"#{k}: #{v}\"\n",
    "    when :factors\n",
    "      p h[:factors].map(&:show).join(\" , \")\n",
    "    when :words\n",
    "      coeff = (h[:coeff]==1) ? '' : \"(#{h[:coeff].to_s})\"\n",
    "      p coeff + \"#{h[:words].join(\" \\u{2227} \")}\"\n",
    "    else\n",
    "    end\n",
    "  end\n",
    "  printf(\"----------\\n\")\n",
    "end; nil"
   ]
  },
  {
   "cell_type": "markdown",
   "metadata": {},
   "source": [
    "### TODO\n",
    "\n",
    "* [ ] cobracket を再帰的に作用させて、完全に分解することに何らかの意味があるか?\n",
    "* [ ] $\\ell_{2}$ の計算と cobracket との関係は? とくに両者にある division について。\n",
    "* [x] a.abA.aBA の cobraket にバグあり。\n",
    "* [x] div 同士の linking を div に対応する2文字ワード同士の単純な計算で求められないか?  <-- **DONE!**\n",
    "* [ ] Wcode#devide して得られる2つの Wcode instance の show(2) (および show(3)) がバグってる。なぜか each_slice(4) が2つずつくくる。\n",
    "* [x] 係数がプラマイ逆かな。\n",
    "* [x] simple subword たちによる計算を実装する。<-- ダメだった。各 simple subword が内部では確実に交差しない保証がないとダメだから。"
   ]
  }
 ],
 "metadata": {
  "kernelspec": {
   "display_name": "Ruby 2.6.1",
   "language": "ruby",
   "name": "ruby"
  },
  "language_info": {
   "file_extension": ".rb",
   "mimetype": "application/x-ruby",
   "name": "ruby",
   "version": "2.6.1"
  },
  "toc": {
   "base_numbering": 1,
   "nav_menu": {},
   "number_sections": false,
   "sideBar": true,
   "skip_h1_title": true,
   "title_cell": "Table of Contents",
   "title_sidebar": "Contents",
   "toc_cell": false,
   "toc_position": {},
   "toc_section_display": true,
   "toc_window_display": false
  },
  "varInspector": {
   "cols": {
    "lenName": 16,
    "lenType": 16,
    "lenVar": 40
   },
   "kernels_config": {
    "python": {
     "delete_cmd_postfix": "",
     "delete_cmd_prefix": "del ",
     "library": "var_list.py",
     "varRefreshCmd": "print(var_dic_list())"
    },
    "r": {
     "delete_cmd_postfix": ") ",
     "delete_cmd_prefix": "rm(",
     "library": "var_list.r",
     "varRefreshCmd": "cat(var_dic_list()) "
    }
   },
   "types_to_exclude": [
    "module",
    "function",
    "builtin_function_or_method",
    "instance",
    "_Feature"
   ],
   "window_display": false
  }
 },
 "nbformat": 4,
 "nbformat_minor": 2
}
