{
 "cells": [
  {
   "cell_type": "markdown",
   "metadata": {},
   "source": [
    "# The fundarmental group of $\\Sigma_{g,1}$ "
   ]
  },
  {
   "cell_type": "code",
   "execution_count": 1,
   "metadata": {
    "ExecuteTime": {
     "end_time": "2019-06-24T09:14:36.610639Z",
     "start_time": "2019-06-24T09:14:36.601Z"
    }
   },
   "outputs": [
    {
     "data": {
      "text/plain": [
       "true"
      ]
     },
     "execution_count": 1,
     "metadata": {},
     "output_type": "execute_result"
    }
   ],
   "source": [
    "require './freegroup.rb'"
   ]
  },
  {
   "cell_type": "markdown",
   "metadata": {},
   "source": [
    "## generators"
   ]
  },
  {
   "cell_type": "code",
   "execution_count": 2,
   "metadata": {
    "ExecuteTime": {
     "end_time": "2019-06-24T09:14:36.622807Z",
     "start_time": "2019-06-24T09:14:36.608Z"
    }
   },
   "outputs": [
    {
     "name": "stdout",
     "output_type": "stream",
     "text": [
      "[\"a\", \"b\", \"c\", \"d\", \"e\", \"f\"]\n",
      "[\"1\", \"a\", \"c\", \"e\"]\n"
     ]
    }
   ],
   "source": [
    "genus = 3\n",
    "alphabet = %w(a b c d e f)\n",
    "\n",
    "Gens = [Letter.new] + alphabet.map{|x| Letter.new(x)}\n",
    "Gens.freeze\n",
    "p Gens[1..-1].map(&:show)\n",
    "\n",
    "a = [Gens[0]] + Gens[1..-1].each_slice(2).map(&:first)\n",
    "b = [Gens[0]] + Gens[1..-1].each_slice(2).map(&:last)\n",
    "p a.map(&:show)\n",
    "nil"
   ]
  },
  {
   "cell_type": "code",
   "execution_count": 3,
   "metadata": {
    "ExecuteTime": {
     "end_time": "2019-06-24T09:14:36.627922Z",
     "start_time": "2019-06-24T09:14:36.614Z"
    }
   },
   "outputs": [
    {
     "name": "stdout",
     "output_type": "stream",
     "text": [
      "[\"1111\", \"abAB\", \"cdCD\", \"efEF\"]\n"
     ]
    },
    {
     "data": {
      "text/plain": [
       "[\"1111\", \"abAB\", \"cdCD\", \"efEF\"]"
      ]
     },
     "execution_count": 3,
     "metadata": {},
     "output_type": "execute_result"
    }
   ],
   "source": [
    "comms = []\n",
    "(Gens.size/2 + 1).times do |i|\n",
    "  comms << Group.commutator(a[i], b[i])\n",
    "end\n",
    "p comms.map(&:show)"
   ]
  },
  {
   "cell_type": "code",
   "execution_count": 4,
   "metadata": {
    "ExecuteTime": {
     "end_time": "2019-06-24T09:14:36.639378Z",
     "start_time": "2019-06-24T09:14:36.620Z"
    }
   },
   "outputs": [
    {
     "name": "stderr",
     "output_type": "stream",
     "text": [
      "<main>:2: warning: already initialized constant Rseq\n",
      "<main>:2: warning: already initialized constant Rseq\n",
      "<main>:2: warning: previous definition of Rseq was here\n",
      "<main>:2: warning: already initialized constant Rseq\n",
      "<main>:2: warning: previous definition of Rseq was here\n"
     ]
    },
    {
     "name": "stdout",
     "output_type": "stream",
     "text": [
      "[\"a\", \"B\", \"A\", \"b\", \"c\", \"D\", \"C\", \"d\", \"e\", \"F\", \"E\", \"f\"]\n"
     ]
    }
   ],
   "source": [
    "Rseq = []\n",
    "(Gens.size/2).times do |i|\n",
    "  Rseq += [a[i+1], b[i+1].inverse, a[i+1].inverse, b[i+1]]\n",
    "end\n",
    "Rseq.freeze\n",
    "p Rseq.map(&:show) #.index('A')\n",
    "nil"
   ]
  },
  {
   "cell_type": "markdown",
   "metadata": {},
   "source": [
    "# Wcode Class"
   ]
  },
  {
   "cell_type": "code",
   "execution_count": 5,
   "metadata": {
    "ExecuteTime": {
     "end_time": "2019-06-24T09:14:36.642031Z",
     "start_time": "2019-06-24T09:14:36.626Z"
    }
   },
   "outputs": [],
   "source": [
    "class Wcode < Hash\n",
    "  def initialize(word = Group::Identity)\n",
    "    @word = word\n",
    "    #---\n",
    "    Rseq.each{|x| self.store(x.char, [])}\n",
    "    if word != Group::Identity\n",
    "      word.flatten.factors.each_with_index do |c, i|\n",
    "        k = i\n",
    "        self[c.char].insert(-1, 2*k)\n",
    "        self[c.inverse.char].insert(0,2*k+1)\n",
    "      end\n",
    "    end\n",
    "  end\n",
    "  attr_reader :word\n",
    "  #---\n",
    "  def show(type=0)\n",
    "    case type\n",
    "    when 0\n",
    "      self.map{|k, arr| arr.join(',')}.join('|')\n",
    "    when 1\n",
    "      self.map{|k, arr| \"#{k}:\" + arr.join(',')}.join('|')\n",
    "    when 2\n",
    "      self.each_slice(4).map{|s| s.map{|a| \"#{a[1].join(',')}\"}.join('|')}.join(' : ')\n",
    "    when 3\n",
    "      self.each_slice(4).map{|s| \"(#{s.map{|a| \"#{a[1].join(',')}\"}.join('|')})\"}.join\n",
    "    end\n",
    "  end\n",
    "  def to_a() self.values.flatten end\n",
    "  def size() self.to_a.size end\n",
    "  def copy()\n",
    "    wc = self.class.new\n",
    "    wc.each_key{|key| wc[key] = self[key].dup}\n",
    "    wc\n",
    "  end\n",
    "  #---\n",
    "  def narrow()\n",
    "    wc = self.copy\n",
    "    sorted = wc.values.flatten.sort\n",
    "    wc.each_key do |key|\n",
    "      wc[key].map!{|v| sorted.index(v)}\n",
    "    end\n",
    "    wc\n",
    "  end\n",
    "  #---\n",
    "  def to_word()\n",
    "    chars = (0..self.size/2).to_a.map{|i| self.map{|key, arr| key if arr.include?(2*i)}.join}\n",
    "    Word.new(chars.join)\n",
    "  end\n",
    "  #---\n",
    "  def product(another)\n",
    "    wc = self.copy\n",
    "    size = self.size\n",
    "    wc.map do |k, v|\n",
    "      another[k].each do |n|\n",
    "        n = n + self.size\n",
    "        (n.odd?) ? v = [n]+v : v << n \n",
    "      end\n",
    "      wc[k] = v\n",
    "    end\n",
    "    wc\n",
    "  end\n",
    "  #---\n",
    "  def devide(odd_nums)\n",
    "    facs = []\n",
    "    facs[0] = self.map{|key, arr| [key, arr.select{|x| x <= odd_nums[0] or odd_nums[1] < x}] }.to_h\n",
    "    facs[1] = self.map{|key, arr| [key, arr.select{|x| odd_nums[0] < x and x <= odd_nums[1]}] }.to_h\n",
    "    facs.map! do |f|\n",
    "      wc = self.class.new\n",
    "      wc.each_key{|key| wc[key] = f[key]}\n",
    "    end\n",
    "    return facs\n",
    "  end\n",
    "  #---\n",
    "  ## Turaev cobracket for Wcodes\n",
    "  def cobracket(verbose: false, narrow: true)\n",
    "    odd_pairs=(1..self.size/2).to_a.map{|x| 2*x-1}.combination(2)\n",
    "    factors = odd_pairs.map do |odds|\n",
    "      divs = odds.map{|odd| Division.new(self, odd)}\n",
    "      linking = divs[0].linking(divs[1])\n",
    "      factors = self.devide(odds)\n",
    "      factors.map!(&:narrow) if narrow\n",
    "      #---\n",
    "      {odds: odds, linking: linking, factors: factors }\n",
    "    end\n",
    "    return verbose ? factors : factors.select{|prd| prd[:linking] != 0}\n",
    "  end  \n",
    "end; nil\n",
    "\n",
    "#-----------------------------------\n",
    "class Division\n",
    "  def initialize(wc, odd)\n",
    "    @wc = wc\n",
    "    @odd = odd\n",
    "    wcvf = wc.values.flatten\n",
    "    @indices = [wcvf.index(@odd), wcvf.index((@odd+1)%(@wc).size)]\n",
    "    ids = @indices.sort\n",
    "    @interior = wcvf[ids[0]+1..ids[1]-1]\n",
    "    @sign = (@indices == @indices.sort) ? 1 : -1\n",
    "  end\n",
    "  attr_reader :odd, :indices, :interior, :sign\n",
    "  \n",
    "  def linking(another)\n",
    "    sign1 = @sign\n",
    "    ao = another.odd\n",
    "    ae = (ao+1) % @wc.size\n",
    "    sign2 = if @interior.include?(ao)\n",
    "               @interior.include?(ae) ? 0 : -1\n",
    "            else\n",
    "               @interior.include?(ae) ? 1 : 0\n",
    "            end\n",
    "    return sign1*sign2\n",
    "  end\n",
    "end;nil"
   ]
  },
  {
   "cell_type": "code",
   "execution_count": 6,
   "metadata": {
    "ExecuteTime": {
     "end_time": "2019-06-24T09:14:36.665665Z",
     "start_time": "2019-06-24T09:14:36.631Z"
    }
   },
   "outputs": [
    {
     "name": "stdout",
     "output_type": "stream",
     "text": [
      "\"abAB\"\n",
      "\"(5,0|3,6|1,4|7,2)(|||)(|||)\"\n",
      "===\n",
      "1\n",
      "[4, 7]\n",
      "1\n",
      "---\n",
      "3\n",
      "[6, 1]\n",
      "1\n",
      "---\n",
      "5\n",
      "[0, 3]\n",
      "1\n",
      "---\n",
      "7\n",
      "[3, 6, 1, 4]\n",
      "-1\n",
      "---\n",
      "\"[1, 3] -- linking --> 1\"\n",
      "\"[1, 5] -- linking --> 0\"\n",
      "\"[1, 7] -- linking --> -1\"\n",
      "\"[3, 5] -- linking --> 1\"\n",
      "\"[3, 7] -- linking --> 0\"\n",
      "\"[5, 7] -- linking --> 1\"\n"
     ]
    }
   ],
   "source": [
    "w = comms[1] #Word.new(a[1], a[2], b[1].inverse)\n",
    "wc = Wcode.new(w)\n",
    "p w.show, wc.show(3)\n",
    "printf(\"===\\n\")\n",
    "\n",
    "wcf = wc.values.flatten\n",
    "\n",
    "divs = (1..wc.size/2).map{|n| 2*n-1}.map{|odd| Division.new(wc, odd)}\n",
    "\n",
    "divs.each do |div|\n",
    "  p div.odd, div.interior, div.sign\n",
    "  printf \"---\\n\"\n",
    "end\n",
    "\n",
    "divs.combination(2).each do |comb|\n",
    "  p \"#{comb.map(&:odd)} -- linking --> #{comb[0].linking(comb[1])}\"\n",
    "end\n",
    "nil"
   ]
  },
  {
   "cell_type": "code",
   "execution_count": 7,
   "metadata": {
    "ExecuteTime": {
     "end_time": "2019-06-24T09:14:36.682208Z",
     "start_time": "2019-06-24T09:14:36.637Z"
    }
   },
   "outputs": [
    {
     "name": "stdout",
     "output_type": "stream",
     "text": [
      "{\"a\"=>[], \"B\"=>[1], \"A\"=>[], \"b\"=>[0], \"c\"=>[], \"D\"=>[], \"C\"=>[], \"d\"=>[], \"e\"=>[], \"F\"=>[], \"E\"=>[], \"f\"=>[]}\n",
      "\"|1 : |0 : | : | : | : |\"\n",
      "---\n",
      "[[\"a\", []], [\"B\", [1]]]\n",
      "2\n",
      "[[\"A\", []], [\"b\", [0]]]\n",
      "2\n",
      "[[\"c\", []], [\"D\", []]]\n",
      "2\n",
      "[[\"C\", []], [\"d\", []]]\n",
      "2\n",
      "[[\"e\", []], [\"F\", []]]\n",
      "2\n",
      "[[\"E\", []], [\"f\", []]]\n",
      "2\n"
     ]
    }
   ],
   "source": [
    "wc.cobracket(verbose: 1).each do |t|\n",
    "#  t.each{ |k,v| puts \"#{k}: #{(k == :factors) ? v.map{|f| f.show(2)} : v}\" }\n",
    "  if t[:odds]==[1,3]\n",
    "    fac = t[:factors][1]\n",
    "    p fac, fac.show(2)\n",
    "    printf \"---\\n\"\n",
    "    fac.each_slice(4){|s| p s,s.size}\n",
    "  end\n",
    "end; nil"
   ]
  },
  {
   "cell_type": "markdown",
   "metadata": {},
   "source": [
    "## Turaev cobraket"
   ]
  },
  {
   "cell_type": "code",
   "execution_count": 8,
   "metadata": {
    "ExecuteTime": {
     "end_time": "2019-06-24T09:14:36.683340Z",
     "start_time": "2019-06-24T09:14:36.644Z"
    },
    "code_folding": [],
    "scrolled": true
   },
   "outputs": [],
   "source": [
    "def cobracket(myw, verbose: false, narrow: true)  \n",
    "  monomials = Wcode.new(myw).cobracket(verbose: verbose, narrow: narrow).map do |mono|\n",
    "    prewords = mono[:factors].map(&:narrow).map(&:to_word)\n",
    "    words = prewords.map(&:cyclic_reduce)\n",
    "    mono.merge({coeff: mono[:linking], words: words})\n",
    "  end\n",
    "\n",
    "  if verbose\n",
    "    result = monomials\n",
    "  else\n",
    "    result = []\n",
    "    while monomials.size > 0\n",
    "      pop = monomials.pop\n",
    "      pop[:odds] = [pop[:odds]]\n",
    "      #---\n",
    "      monomials.each do |mono|\n",
    "        if mono[:words][0].conjugate?(pop[:words][0]) and mono[:words][1].conjugate?(pop[:words][1])\n",
    "          pop[:coeff] += mono[:coeff]\n",
    "          pop[:odds] << mono[:odds]\n",
    "          mono[:coeff] = nil\n",
    "        elsif mono[:words][0].conjugate?(pop[:words][1]) and mono[:words][1].conjugate?(pop[:words][0])\n",
    "          pop[:coeff] += mono[:coeff]*(-1)\n",
    "          pop[:odds] << mono[:odds]\n",
    "          mono[:coeff] = nil\n",
    "        end\n",
    "      end\n",
    "      #---\n",
    "      if pop[:coeff] != 0 or verbose\n",
    "        result << pop\n",
    "      end\n",
    "      #---\n",
    "      monomials.delete_if{|mono| mono[:coeff].nil?}\n",
    "    end \n",
    "  end\n",
    "  return (result.empty?) ? [{orders: [], linking: 0, factors: [], coeff: 0, words: []}] : result\n",
    "end; nil"
   ]
  },
  {
   "cell_type": "markdown",
   "metadata": {},
   "source": [
    "# Execution"
   ]
  },
  {
   "cell_type": "code",
   "execution_count": 24,
   "metadata": {
    "ExecuteTime": {
     "end_time": "2019-06-25T05:52:02.883908Z",
     "start_time": "2019-06-25T05:52:02.071Z"
    },
    "scrolled": false
   },
   "outputs": [
    {
     "name": "stdout",
     "output_type": "stream",
     "text": [
      "--- s0 ---\n",
      " a  |--δ-->  (0)\n",
      "a.d  |--δ-->  (-1)a ∧ d\n",
      "a.D  |--δ-->  (0)\n",
      "a.abA.aBA  |--δ-->  ab ∧ B + BA ∧ b + (-1)aB ∧ b + BA ∧ ab + 1 ∧ a\n",
      "--- s1 ---\n",
      " a.a.a.a  |--δ-->  aaa ∧ a + aa ∧ aa + a ∧ aaa\n",
      "abA  |--δ-->  1 ∧ b\n",
      "abAB  |--δ-->  (0)\n",
      "b.a.b  |--δ-->  (0)\n",
      "--- s2 ---\n",
      " a.dcDC  |--δ-->  (-1)a ∧ dcDC\n",
      "a.aBA.dcDC.abA  |--δ-->  1 ∧ aBAdcDCab\n",
      "a.dcDC.cdCDaBAdcDCabA  |--δ-->  dcDaBAdcDCab ∧ d + (-1)dcDCDaBAdcDCab ∧ d + (2)1 ∧ aBAdcDCab\n",
      "aBAdcDCab  |--δ-->  (0)\n",
      "--- s3 ---\n",
      " a.cdCD  |--δ-->  (0)\n",
      "a.cdCD.cdCD  |--δ-->  acdCD ∧ cdCD\n",
      "a.cdCD.abA.cdCD.aBA  |--δ-->  (0)\n",
      "--- s4 ---\n",
      " a.c.c.c  |--δ-->  acc ∧ c + ac ∧ cc\n",
      "a.cD.cD.cD  |--δ-->  acDcD ∧ cD + acD ∧ cDcD\n",
      "--- s5 ---\n",
      " a.ceCE  |--δ-->  (-1)aceC ∧ E + ace ∧ CE + (-1)ac ∧ C\n",
      "a.cdCD.efEF.ceCE.feFEdcDC  |--δ-->  (-1)acdCDefEFceCfeFEdcDC ∧ E + acdCDefEFcefeFEdcDC ∧ CE + (-1)acdCDefEFcfeFEdcDC ∧ C\n",
      "--- s6 ---\n",
      " a.bcBC  |--δ-->  (-1)abcB ∧ C + abc ∧ BC + (-1)abC ∧ cB\n"
     ]
    }
   ],
   "source": [
    "a1 = Word.new(a[1])\n",
    "c = (a1*Word.new(b[1])*(a1.inverse)).flatten\n",
    "\n",
    "samples = {\n",
    "  s0: [\n",
    "    a1, \n",
    "    a1*Word.new(b[2]),\n",
    "    a1*(Word.new(b[2]).inverse),\n",
    "    a1*c*(c.inverse),\n",
    "  ],\n",
    "  s1: [\n",
    "    a1^4,\n",
    "    c,\n",
    "    comms[1],\n",
    "    Word.new(b[1])*a1*Word.new(b[1])\n",
    "  ],\n",
    "  s2: [\n",
    "    a1*(comms[2].inverse),\n",
    "    a1*(c.inverse)*(comms[2].inverse)*c,\n",
    "    a1*(comms[2].inverse)*Group.commutator(comms[2], c.inverse),\n",
    "    (a1*(comms[2].inverse)*Group.commutator(comms[2], c.inverse)).cyclic_reduce\n",
    "  ],\n",
    "  s3: [\n",
    "    a1*comms[2],\n",
    "    a1*(comms[2]^2),\n",
    "    a1*comms[2]*c*comms[2]*(c.inverse),\n",
    "  ],\n",
    "  s4: [\n",
    "    a1*(Word.new(a[2])^3),\n",
    "    a1*(Word.new(a[2], b[2].inverse)^3)\n",
    "  ],\n",
    "  s5: [\n",
    "    a1*Group.commutator(a[2], a[3]),\n",
    "    a1*(comms[2]*comms[3])*Group.commutator(a[2], a[3])*((comms[2]*comms[3]).inverse)\n",
    "  ],\n",
    "  s6: [\n",
    "    a1*Group.commutator(b[1], a[2])\n",
    "  ]\n",
    "  }\n",
    "\n",
    "arr = samples #.slice(:s6) #:s2) #, :s3) #:s0, :s1) #\n",
    "arr.each do |k, v|\n",
    "  printf \"--- #{k} ---\\n \"\n",
    "  v.each do |s|\n",
    "    ws = s.show\n",
    "    cob = cobracket(s).map do |h|\n",
    "      coeff = (h[:coeff]==1) ? '' : \"(#{h[:coeff].to_s})\"\n",
    "      coeff + \"#{h[:words].join(\" \\u{2227} \")}\"\n",
    "    end\n",
    "    #---\n",
    "    puts \"#{ws}  |--\\u{03B4}-->  #{cob.join(' + ')}\"\n",
    "  end\n",
    "end;nil"
   ]
  },
  {
   "cell_type": "code",
   "execution_count": 20,
   "metadata": {
    "ExecuteTime": {
     "end_time": "2019-06-25T00:46:28.367205Z",
     "start_time": "2019-06-25T00:46:28.314Z"
    },
    "collapsed": true
   },
   "outputs": [
    {
     "name": "stdout",
     "output_type": "stream",
     "text": [
      "\"a.bcBC\"\n",
      "\"0|3,6|1|7,2|9,4||5,8|||||\"\n",
      "=====\n",
      "\"odds: [1, 3]\"\n",
      "\"linking: 0\"\n",
      "\"0|4|1|5|7,2||3,6||||| , |1||0||||||||\"\n",
      "\"(0)acBC ∧ b\"\n",
      "----------\n",
      "\"odds: [1, 5]\"\n",
      "\"linking: 0\"\n",
      "\"0|2|1|3|5||4||||| , |1||0|2||3|||||\"\n",
      "\"(0)aBC ∧ bc\"\n",
      "----------\n",
      "\"odds: [1, 7]\"\n",
      "\"linking: -1\"\n",
      "\"0||1||3||2||||| , |1,4||5,0|2||3|||||\"\n",
      "\"(-1)aC ∧ c\"\n",
      "----------\n",
      "\"odds: [1, 9]\"\n",
      "\"linking: 0\"\n",
      "\"0||1||||||||| , |1,4||5,0|7,2||3,6|||||\"\n",
      "\"(0)a ∧ bcBC\"\n",
      "----------\n",
      "\"odds: [3, 5]\"\n",
      "\"linking: 1\"\n",
      "\"0|3,4|1|5,2|7||6||||| , ||||0||1|||||\"\n",
      "\"aC ∧ c\"\n",
      "----------\n",
      "\"odds: [3, 7]\"\n",
      "\"linking: -1\"\n",
      "\"0|3|1|2|5||4||||| , |2||3|0||1|||||\"\n",
      "\"(-1)abC ∧ cB\"\n",
      "----------\n",
      "\"odds: [3, 9]\"\n",
      "\"linking: -1\"\n",
      "\"0|3|1|2|||||||| , |2||3|5,0||1,4|||||\"\n",
      "\"(-1)ab ∧ B\"\n",
      "----------\n",
      "\"odds: [5, 7]\"\n",
      "\"linking: 1\"\n",
      "\"0|3|1|2|7,4||5,6||||| , |0||1||||||||\"\n",
      "\"ab ∧ B\"\n",
      "----------\n",
      "\"odds: [5, 9]\"\n",
      "\"linking: 1\"\n",
      "\"0|3|1|2|4||5||||| , |0||1|3||2|||||\"\n",
      "\"abc ∧ BC\"\n",
      "----------\n",
      "\"odds: [7, 9]\"\n",
      "\"linking: -1\"\n",
      "\"0|3,6|1|7,2|4||5||||| , ||||1||0|||||\"\n",
      "\"(-1)abcB ∧ C\"\n",
      "----------\n"
     ]
    }
   ],
   "source": [
    "myw = samples[:s6][-1]\n",
    "wcode = Wcode.new(myw)\n",
    "p myw.show, wcode.show\n",
    "\n",
    "vb = true\n",
    "printf(\"=====\\n\")\n",
    "cobracket(myw, verbose: vb).each do |h|\n",
    "  h.each do |k,v|\n",
    "    case k \n",
    "    when :odds, :linking\n",
    "      p \"#{k}: #{v}\"\n",
    "    when :factors\n",
    "      p h[:factors].map(&:show).join(\" , \")\n",
    "    when :words\n",
    "      coeff = (h[:coeff]==1) ? '' : \"(#{h[:coeff].to_s})\"\n",
    "      p coeff + \"#{h[:words].join(\" \\u{2227} \")}\"\n",
    "    else\n",
    "    end\n",
    "  end\n",
    "  printf(\"----------\\n\")\n",
    "end; nil"
   ]
  },
  {
   "cell_type": "markdown",
   "metadata": {},
   "source": [
    "## Experiments"
   ]
  },
  {
   "cell_type": "code",
   "execution_count": 12,
   "metadata": {
    "ExecuteTime": {
     "end_time": "2019-06-24T09:14:36.944694Z",
     "start_time": "2019-06-24T09:14:36.679Z"
    }
   },
   "outputs": [
    {
     "name": "stdout",
     "output_type": "stream",
     "text": [
      "\"a.dcDC\"\n",
      "\"0||1||9,4|3,6|5,8|7,2||||\"\n",
      "=====\n",
      "\"odds: [1, 3]\"\n",
      "\"linking: 0\"\n",
      "\"0||1||7,2|4|3,6|5|||| , |||||1||0||||\"\n",
      "\"(0)acDC ∧ d\"\n",
      "----------\n",
      "\"odds: [1, 5]\"\n",
      "\"linking: 0\"\n",
      "\"0||1||5|2|4|3|||| , ||||2|1|3|0||||\"\n",
      "\"(0)aDC ∧ dc\"\n",
      "----------\n",
      "\"odds: [1, 7]\"\n",
      "\"linking: 0\"\n",
      "\"0||1||3||2||||| , ||||2|1,4|3|5,0||||\"\n",
      "\"(0)aC ∧ c\"\n",
      "----------\n",
      "\"odds: [1, 9]\"\n",
      "\"linking: -1\"\n",
      "\"0||1||||||||| , ||||7,2|1,4|3,6|5,0||||\"\n",
      "\"(-1)a ∧ dcDC\"\n",
      "----------\n",
      "\"odds: [3, 5]\"\n",
      "\"linking: 0\"\n",
      "\"0||1||7|3,4|6|5,2|||| , ||||0||1|||||\"\n",
      "\"(0)aC ∧ c\"\n",
      "----------\n",
      "\"odds: [3, 7]\"\n",
      "\"linking: 0\"\n",
      "\"0||1||5|3|4|2|||| , ||||0|2|1|3||||\"\n",
      "\"(0)adC ∧ cD\"\n",
      "----------\n",
      "\"odds: [3, 9]\"\n",
      "\"linking: 0\"\n",
      "\"0||1|||3||2|||| , ||||5,0|2|1,4|3||||\"\n",
      "\"(0)ad ∧ D\"\n",
      "----------\n",
      "\"odds: [5, 7]\"\n",
      "\"linking: 0\"\n",
      "\"0||1||7,4|3|5,6|2|||| , |||||0||1||||\"\n",
      "\"(0)ad ∧ D\"\n",
      "----------\n",
      "\"odds: [5, 9]\"\n",
      "\"linking: 0\"\n",
      "\"0||1||4|3|5|2|||| , ||||3|0|2|1||||\"\n",
      "\"(0)adc ∧ DC\"\n",
      "----------\n",
      "\"odds: [7, 9]\"\n",
      "\"linking: 0\"\n",
      "\"0||1||4|3,6|5|7,2|||| , ||||1||0|||||\"\n",
      "\"(0)adcD ∧ C\"\n",
      "----------\n"
     ]
    }
   ],
   "source": [
    "myw = a1*(comms[2].inverse)\n",
    "#myw = a1*Group.commutator(b[1], a[2]) #\n",
    "#myw = a1*Group.conjugate(Group.commutator(b[1], a[2]), c)\n",
    "wcode = Wcode.new(myw)\n",
    "p myw.show, wcode.show\n",
    "\n",
    "vb = true\n",
    "printf(\"=====\\n\")\n",
    "cobracket(myw, verbose: vb).each do |h|\n",
    "  h.each do |k,v|\n",
    "    case k \n",
    "    when :odds, :linking\n",
    "      p \"#{k}: #{v}\"\n",
    "    when :factors\n",
    "      p h[:factors].map(&:show).join(\" , \")\n",
    "    when :words\n",
    "      coeff = (h[:coeff]==1) ? '' : \"(#{h[:coeff].to_s})\"\n",
    "      p coeff + \"#{h[:words].join(\" \\u{2227} \")}\"\n",
    "    else\n",
    "    end\n",
    "  end\n",
    "  printf(\"----------\\n\")\n",
    "end; nil"
   ]
  },
  {
   "cell_type": "code",
   "execution_count": 13,
   "metadata": {
    "ExecuteTime": {
     "end_time": "2019-06-24T09:14:36.952247Z",
     "start_time": "2019-06-24T09:14:36.686Z"
    }
   },
   "outputs": [
    {
     "name": "stdout",
     "output_type": "stream",
     "text": [
      "\"a.dcDC\"\n"
     ]
    },
    {
     "ename": "NameError",
     "evalue": "undefined local variable or method `cif' for main:Object",
     "output_type": "error",
     "traceback": [
      "\u001b[31mNameError\u001b[0m: undefined local variable or method `cif' for main:Object",
      "\u001b[37m<main>:2:in `<main>'\u001b[0m",
      "\u001b[37m/Users/ryosuke/.rbenv/versions/2.6.1/lib/ruby/gems/2.6.0/gems/iruby-0.3/lib/iruby/backend.rb:44:in `eval'\u001b[0m",
      "\u001b[37m/Users/ryosuke/.rbenv/versions/2.6.1/lib/ruby/gems/2.6.0/gems/iruby-0.3/lib/iruby/backend.rb:44:in `eval'\u001b[0m",
      "\u001b[37m/Users/ryosuke/.rbenv/versions/2.6.1/lib/ruby/gems/2.6.0/gems/iruby-0.3/lib/iruby/backend.rb:12:in `eval'\u001b[0m",
      "\u001b[37m/Users/ryosuke/.rbenv/versions/2.6.1/lib/ruby/gems/2.6.0/gems/iruby-0.3/lib/iruby/kernel.rb:87:in `execute_request'\u001b[0m",
      "\u001b[37m/Users/ryosuke/.rbenv/versions/2.6.1/lib/ruby/gems/2.6.0/gems/iruby-0.3/lib/iruby/kernel.rb:47:in `dispatch'\u001b[0m",
      "\u001b[37m/Users/ryosuke/.rbenv/versions/2.6.1/lib/ruby/gems/2.6.0/gems/iruby-0.3/lib/iruby/kernel.rb:37:in `run'\u001b[0m",
      "\u001b[37m/Users/ryosuke/.rbenv/versions/2.6.1/lib/ruby/gems/2.6.0/gems/iruby-0.3/lib/iruby/command.rb:70:in `run_kernel'\u001b[0m",
      "\u001b[37m/Users/ryosuke/.rbenv/versions/2.6.1/lib/ruby/gems/2.6.0/gems/iruby-0.3/lib/iruby/command.rb:34:in `run'\u001b[0m",
      "\u001b[37m/Users/ryosuke/.rbenv/versions/2.6.1/lib/ruby/gems/2.6.0/gems/iruby-0.3/bin/iruby:5:in `<top (required)>'\u001b[0m",
      "\u001b[37m/Users/ryosuke/.rbenv/versions/2.6.1/bin/iruby:23:in `load'\u001b[0m",
      "\u001b[37m/Users/ryosuke/.rbenv/versions/2.6.1/bin/iruby:23:in `<main>'\u001b[0m"
     ]
    }
   ],
   "source": [
    "p myw.show\n",
    "d1 = (a1.size)+1\n",
    "d2 = cif + c.size\n",
    "d3 = myw.size - (c.size-1)\n",
    "d4 = myw.size + 1\n",
    "\n",
    "r1 = (d1..d2-1).map{|n| 2*n-1}.to_a\n",
    "r2 = (d3..d4-1).map{|n| 2*n-1}.to_a\n",
    "p r1, r2\n",
    "p r1.include?(9)\n",
    "nil"
   ]
  },
  {
   "cell_type": "code",
   "execution_count": 14,
   "metadata": {
    "ExecuteTime": {
     "end_time": "2019-06-24T09:14:36.987974Z",
     "start_time": "2019-06-24T09:14:36.692Z"
    },
    "scrolled": false
   },
   "outputs": [
    {
     "name": "stdout",
     "output_type": "stream",
     "text": [
      "\"a.abA.aBA\"\n",
      "\"13,7,0,2,8|5,10|9,3,1,6,12|11,4||||||||\"\n",
      "=====\n",
      "[1, 3], a|a|bAaBA\n",
      "\"1 ∧ a\"\n",
      "----------\n",
      "[3, 5], aa|b|AaBA\n",
      "\"BA ∧ b\"\n",
      "----------\n",
      "[1, 5], a|ab|AaBA\n",
      "\"BA ∧ ab\"\n",
      "----------\n",
      "[1, 7], a|abA|aBA\n",
      "\"(-1)aB ∧ b\"\n",
      "----------\n",
      "[7, 13], aabA|aBA|\n",
      "\"ab ∧ B\"\n",
      "----------\n"
     ]
    }
   ],
   "source": [
    "c = Word.new(a[1], b[1], a[1].inverse)\n",
    "\n",
    "#myw = a1*(comms[2].inverse) #.cyclic_reduce\n",
    "#myw = (a1*(c.inverse)*(comms[2].inverse)*c) #.cyclic_reduce\n",
    "#myw = (a1*c*(comms[2].inverse)*c) #.cyclic_reduce\n",
    "#myw = a1*Group.commutator(b[1], a[2])\n",
    "myw = a1*c*(c.inverse)\n",
    "\n",
    "wcode = Wcode.new(myw)\n",
    "p myw.show, wcode.show\n",
    "\n",
    "vb = true #false #\n",
    "printf(\"=====\\n\")\n",
    "\n",
    "cobra = cobracket(myw, verbose: vb)\n",
    "\n",
    "=begin\n",
    "d1 = (a1.size)+1\n",
    "d2 = d1 + c.size\n",
    "d3 = myw.size - (c.size-1)\n",
    "d4 = myw.size + 1\n",
    "r1 = (d1..d2-1).map{|n| 2*n-1}.to_a\n",
    "r2 = (d3..d4-1).map{|n| 2*n-1}.to_a\n",
    "rng = r1+r2\n",
    "cobra.select! do |h|\n",
    "  rng.include?(h[:odds][0]) or rng.include?(h[:odds][1])\n",
    "end\n",
    "=end\n",
    "\n",
    "cc = (1..11).to_a.map do |d|\n",
    "  cobra.select do |h|\n",
    "    dif = h[:odds][0]-h[:odds][1]\n",
    "    ((dif).abs/2 == d) and (h[:linking]!=0)\n",
    "  end\n",
    "end\n",
    "\n",
    "#cc.select!{|h| [[1,7],[1,15]].include?(h[:odds])}\n",
    "\n",
    "cc.flatten.each do |h|\n",
    "  wstr = myw.show.delete('.')\n",
    "  idx = h[:odds].map{|n| (n+1)/2}\n",
    "  str = [wstr[0..idx[0]-1], wstr[idx[0]..idx[1]-1], wstr[idx[1]..-1]].join('|')\n",
    "  puts \"#{h[:odds]}, #{str}\"\n",
    "#  divs = idx.map{ |id| wstr[id-1] + '|' + wstr[id] }\n",
    "#  puts \"#{h[:odds]}, #{str} , #{divs.join(' * ')}\"\n",
    "  h.each do |k,v|\n",
    "    case k \n",
    "    when :linking #, :odds \n",
    "#      p \"#{k}: #{v}\"\n",
    "    when :factors\n",
    "#      p h[:factors].map(&:show).join(\" , \")\n",
    "    when :words\n",
    "      coeff = (h[:coeff]==1) ? '' : \"(#{h[:coeff].to_s})\"\n",
    "      p coeff + \"#{h[:words].join(\" \\u{2227} \")}\"\n",
    "    else\n",
    "    end\n",
    "  end\n",
    "  printf(\"----------\\n\")\n",
    "end; nil"
   ]
  },
  {
   "cell_type": "markdown",
   "metadata": {},
   "source": [
    "### TODO\n",
    "\n",
    "* [ ] cobracket を再帰的に作用させて、完全に分解することに何らかの意味があるか?\n",
    "* [ ] $\\ell_{2}$ の計算と cobracket との関係は? とくに両者にある division について。\n",
    "* [ ] a.abA.aBA の cobraket にバグあり。\n",
    "* [ ] div 同士の linking を div に対応する2文字ワード同士の単純な計算で求められないか?\n",
    "* [ ] Wcode#devide して得られる2つの Wcode instance の show(2) (および show(3)) がバグってる。なぜか each_slice(4) が2つずつくくる。\n",
    "* [x] 係数がプラマイ逆かな。\n",
    "* [x] simple subword たちによる計算を実装する。<-- ダメだった。各 simple subword が内部では確実に交差しない保証がないとダメだから。"
   ]
  },
  {
   "cell_type": "code",
   "execution_count": null,
   "metadata": {},
   "outputs": [],
   "source": []
  }
 ],
 "metadata": {
  "kernelspec": {
   "display_name": "Ruby 2.6.1",
   "language": "ruby",
   "name": "ruby"
  },
  "language_info": {
   "file_extension": ".rb",
   "mimetype": "application/x-ruby",
   "name": "ruby",
   "version": "2.6.1"
  },
  "toc": {
   "base_numbering": 1,
   "nav_menu": {},
   "number_sections": false,
   "sideBar": true,
   "skip_h1_title": true,
   "title_cell": "Table of Contents",
   "title_sidebar": "Contents",
   "toc_cell": false,
   "toc_position": {},
   "toc_section_display": true,
   "toc_window_display": false
  },
  "varInspector": {
   "cols": {
    "lenName": 16,
    "lenType": 16,
    "lenVar": 40
   },
   "kernels_config": {
    "python": {
     "delete_cmd_postfix": "",
     "delete_cmd_prefix": "del ",
     "library": "var_list.py",
     "varRefreshCmd": "print(var_dic_list())"
    },
    "r": {
     "delete_cmd_postfix": ") ",
     "delete_cmd_prefix": "rm(",
     "library": "var_list.r",
     "varRefreshCmd": "cat(var_dic_list()) "
    }
   },
   "types_to_exclude": [
    "module",
    "function",
    "builtin_function_or_method",
    "instance",
    "_Feature"
   ],
   "window_display": false
  }
 },
 "nbformat": 4,
 "nbformat_minor": 2
}
