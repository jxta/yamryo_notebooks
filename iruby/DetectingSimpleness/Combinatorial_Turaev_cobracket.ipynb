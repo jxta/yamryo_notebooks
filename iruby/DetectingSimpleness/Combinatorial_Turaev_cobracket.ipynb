{
 "cells": [
  {
   "cell_type": "markdown",
   "metadata": {},
   "source": [
    "# Setting the fundarmental group of $\\Sigma_{g,1}$ "
   ]
  },
  {
   "cell_type": "code",
   "execution_count": 10,
   "metadata": {
    "ExecuteTime": {
     "end_time": "2019-05-29T06:52:51.145051Z",
     "start_time": "2019-05-29T06:52:50.870Z"
    }
   },
   "outputs": [
    {
     "data": {
      "text/plain": [
       "false"
      ]
     },
     "execution_count": 10,
     "metadata": {},
     "output_type": "execute_result"
    }
   ],
   "source": [
    "require './freegroup.rb'"
   ]
  },
  {
   "cell_type": "markdown",
   "metadata": {},
   "source": [
    "## generators"
   ]
  },
  {
   "cell_type": "code",
   "execution_count": 11,
   "metadata": {
    "ExecuteTime": {
     "end_time": "2019-05-29T06:52:51.150873Z",
     "start_time": "2019-05-29T06:52:50.875Z"
    }
   },
   "outputs": [
    {
     "name": "stderr",
     "output_type": "stream",
     "text": [
      "<main>:3: warning: already initialized constant Gens\n",
      "<main>:3: warning: previous definition of Gens was here\n"
     ]
    },
    {
     "name": "stdout",
     "output_type": "stream",
     "text": [
      "[\"a\", \"b\", \"c\", \"d\", \"e\", \"f\"]\n",
      "[\"1\", \"a\", \"c\", \"e\"]\n"
     ]
    }
   ],
   "source": [
    "genus = 3\n",
    "alphabet = %w(a b c d e f)\n",
    "\n",
    "Gens = [Letter.new] + alphabet.map{|x| Letter.new(x)}\n",
    "Gens.freeze\n",
    "p Gens[1..-1].map(&:show)\n",
    "\n",
    "a = [Gens[0]] + Gens[1..-1].each_slice(2).map(&:first)\n",
    "b = [Gens[0]] + Gens[1..-1].each_slice(2).map(&:last)\n",
    "p a.map(&:show)\n",
    "nil"
   ]
  },
  {
   "cell_type": "code",
   "execution_count": 12,
   "metadata": {
    "ExecuteTime": {
     "end_time": "2019-05-29T06:52:51.153976Z",
     "start_time": "2019-05-29T06:52:50.880Z"
    }
   },
   "outputs": [
    {
     "name": "stdout",
     "output_type": "stream",
     "text": [
      "[\"1111\", \"abAB\", \"cdCD\", \"efEF\"]\n"
     ]
    },
    {
     "data": {
      "text/plain": [
       "[\"1111\", \"abAB\", \"cdCD\", \"efEF\"]"
      ]
     },
     "execution_count": 12,
     "metadata": {},
     "output_type": "execute_result"
    }
   ],
   "source": [
    "comms = []\n",
    "(Gens.size/2 + 1).times do |i|\n",
    "  comms << Group.commutator(a[i], b[i])\n",
    "end\n",
    "p comms.map(&:show)"
   ]
  },
  {
   "cell_type": "code",
   "execution_count": 13,
   "metadata": {
    "ExecuteTime": {
     "end_time": "2019-05-29T06:52:51.160329Z",
     "start_time": "2019-05-29T06:52:50.884Z"
    }
   },
   "outputs": [
    {
     "name": "stderr",
     "output_type": "stream",
     "text": [
      "<main>: warning: already initialized constant Rseq\n",
      "<main>:2: warning: previous definition of Rseq was here\n",
      "<main>:2: warning: already initialized constant Rseq\n",
      "<main>:2: warning: already initialized constant Rseq\n",
      "<main>:2: warning: previous definition of Rseq was here\n",
      "<main>:2: warning: already initialized constant Rseq\n",
      "<main>:2: warning: previous definition of Rseq was here\n"
     ]
    },
    {
     "name": "stdout",
     "output_type": "stream",
     "text": [
      "[\"a\", \"B\", \"A\", \"b\", \"c\", \"D\", \"C\", \"d\", \"e\", \"F\", \"E\", \"f\"]\n"
     ]
    }
   ],
   "source": [
    "Rseq = []\n",
    "(Gens.size/2).times do |i|\n",
    "  Rseq += [a[i+1], b[i+1].inverse, a[i+1].inverse, b[i+1]]\n",
    "end\n",
    "Rseq.freeze\n",
    "p Rseq.map(&:show) #.index('A')\n",
    "nil"
   ]
  },
  {
   "cell_type": "markdown",
   "metadata": {},
   "source": [
    "# The Algorithm"
   ]
  },
  {
   "cell_type": "markdown",
   "metadata": {},
   "source": [
    "### Wcode Class"
   ]
  },
  {
   "cell_type": "code",
   "execution_count": 26,
   "metadata": {
    "ExecuteTime": {
     "end_time": "2019-05-29T07:02:01.711486Z",
     "start_time": "2019-05-29T07:02:01.705Z"
    }
   },
   "outputs": [],
   "source": [
    "class Wcode < Hash\n",
    "  def initialize(word = Group::Identity)\n",
    "    Rseq.each{|x| self.store(x.char, [])}\n",
    "    if word != Group::Identity\n",
    "      word.flatten.factors.each_with_index do |c, i|\n",
    "        k = i\n",
    "        self[c.char].insert(-1, 2*k)\n",
    "        self[c.inverse.char].insert(0,2*k+1)\n",
    "      end\n",
    "    end\n",
    "  end\n",
    "  #---\n",
    "  def show()\n",
    "    self.values.map(&:to_s).join\n",
    "  end\n",
    "  def to_a()\n",
    "    self.values.flatten\n",
    "  end\n",
    "  def size()\n",
    "    self.to_a.size\n",
    "  end\n",
    "  def copy()\n",
    "    wc = self.class.new\n",
    "    wc.each_key{|key| wc[key] = self[key].dup}\n",
    "    wc\n",
    "  end\n",
    "  #---\n",
    "  def narrow()\n",
    "    wc = self.copy\n",
    "    sorted = wc.values.flatten.sort\n",
    "    wc.each_key do |key|\n",
    "      wc[key].map!{|v| sorted.index(v)}\n",
    "    end\n",
    "    wc\n",
    "  end\n",
    "  #---\n",
    "  def to_word()\n",
    "    chars = (0..self.size/2).to_a.map{|i| self.map{|key, arr| key if arr.include?(2*i)}.join}\n",
    "    Word.new(chars.join)\n",
    "  end\n",
    "  #---\n",
    "  def get_four_tuple(odd_nums)\n",
    "    arr = [odd_nums[0], odd_nums[0]+1, odd_nums[1], (odd_nums[1]+1)%self.size]\n",
    "    FourTuple.new(self.to_a.select{|n| arr.include?(n)}, self.size)\n",
    "  end\n",
    "  #---\n",
    "  def devide(odd_nums)\n",
    "    facs = []\n",
    "    facs[0] = self.map{|key, arr| [key, arr.select{|x| x <= odd_nums[0] or odd_nums[1] < x}] }.to_h\n",
    "    facs[1] = self.map{|key, arr| [key, arr.select{|x| odd_nums[0] < x and x <= odd_nums[1]}] }.to_h\n",
    "    facs.map! do |f|\n",
    "      wc = self.class.new\n",
    "      wc.each_key{|key| wc[key] = f[key]}\n",
    "    end\n",
    "    return facs\n",
    "  end\n",
    "  #---\n",
    "  def cobracket(verbose=false)\n",
    "    odd_pairs=(1..self.size/2).to_a.map{|x| 2*x-1}.combination(2)\n",
    "    terms = odd_pairs.map do |op|\n",
    "      order = self.get_four_tuple(op)\n",
    "      factors = self.devide(op)\n",
    "      {order: order,\n",
    "       linking: order.linking, \n",
    "       factors: factors, \n",
    "       }\n",
    "    end\n",
    "    return (verbose) ? terms : terms.select{|prd| prd[:linking] != 0}\n",
    "  end\n",
    "end; nil\n",
    "\n",
    "#-----------------------------------\n",
    "class FourTuple < Array\n",
    "  def initialize(arr, mod)\n",
    "    @modulo = mod\n",
    "    4.times{|i| self[i] = arr[i]}\n",
    "    @odd_nums = self.select{|n| n.odd?}.sort\n",
    "  end\n",
    "  \n",
    "  def linking()\n",
    "    odd1 = @odd_nums[0]\n",
    "    if (self.index(odd1) - self.index(odd1+1) + 1).even?\n",
    "      # [o,e,*,*] / [o,*,*,e] / [*,o,e,*] / [*,*,o,e] (and reverse 'o' and 'e')\n",
    "      return 0\n",
    "    else\n",
    "      # [o1,e2,e1,o2] --> linking = +1 and [o2,o1,e2,e1] --> linking = +1\n",
    "      # The sign of linking is change by (o1<->e1) and (e2<->o2)\n",
    "      idxs = [self.index(odd1), self.index(odd1+1)] \n",
    "      sign0 = (idxs[0] < idxs[1]) ? 1 : -1\n",
    "      rng = idxs.sort\n",
    "      sign2 = self[rng[0]..rng[1]][1].odd? ? 1 : -1\n",
    "      #---\n",
    "      sign = sign0*sign2\n",
    "    end\n",
    "  end\n",
    "end;nil"
   ]
  },
  {
   "cell_type": "markdown",
   "metadata": {},
   "source": [
    "### Turaev cobraket for Word class"
   ]
  },
  {
   "cell_type": "code",
   "execution_count": 112,
   "metadata": {
    "ExecuteTime": {
     "end_time": "2019-05-29T09:33:39.074954Z",
     "start_time": "2019-05-29T09:33:39.067Z"
    },
    "code_folding": [],
    "scrolled": true
   },
   "outputs": [],
   "source": [
    "def cobracket(myw, verbose=false)  \n",
    "  monomials = Wcode.new(myw).cobracket(verbose).map do |mono|\n",
    "    prewords = mono[:factors].map(&:narrow).map(&:to_word)\n",
    "    words = prewords.map(&:cyclic_reduce)\n",
    "    mono.merge({coeff: mono[:linking], words: words})\n",
    "  end\n",
    "  \n",
    "  result = []\n",
    "  while monomials.size > 0\n",
    "    pop = monomials.pop\n",
    "    #---\n",
    "    monomials.each do |mono|\n",
    "      if mono[:words][0].conjugate?(pop[:words][0]) and mono[:words][1].conjugate?(pop[:words][1])\n",
    "        pop[:coeff] += mono[:coeff]\n",
    "        mono[:coeff] = nil\n",
    "      elsif mono[:words][0].conjugate?(pop[:words][1]) and mono[:words][1].conjugate?(pop[:words][0])\n",
    "        pop[:coeff] += mono[:coeff]*(-1)\n",
    "        mono[:coeff] = nil\n",
    "      end\n",
    "    end\n",
    "    #---\n",
    "    if pop[:coeff] != 0 or verbose\n",
    "#      result << ((pop[:coeff] == 1) ? '' : \"(#{pop[:coeff].to_s}) \") + pop[:words].join(\" \\u{2227} \")\n",
    "      result << pop\n",
    "    end\n",
    "    #---\n",
    "    monomials.delete_if{|mono| mono[:coeff].nil?}\n",
    "  end \n",
    "  return (result.empty?) ? [{order: [], linking: 0, factors: [], coeff: 0, words: []}] : result\n",
    "end; nil"
   ]
  },
  {
   "cell_type": "markdown",
   "metadata": {
    "ExecuteTime": {
     "end_time": "2019-05-23T13:35:58.360638Z",
     "start_time": "2019-05-23T13:35:58.353Z"
    }
   },
   "source": [
    "# Execution"
   ]
  },
  {
   "cell_type": "code",
   "execution_count": 113,
   "metadata": {
    "ExecuteTime": {
     "end_time": "2019-05-29T09:33:41.321636Z",
     "start_time": "2019-05-29T09:33:40.639Z"
    }
   },
   "outputs": [
    {
     "name": "stdout",
     "output_type": "stream",
     "text": [
      "\"a  |--δ-->  (0)\"\n",
      "\"a.d  |--δ-->  a ∧ d\"\n",
      "\"a.D  |--δ-->  (0)\"\n",
      "\"a.a.a.a  |--δ-->  (-1)aaa ∧ a + (-1)aa ∧ aa + (-1)a ∧ aaa\"\n",
      "\"abA  |--δ-->  (-1)1 ∧ b\"\n",
      "\"abAB  |--δ-->  (0)\"\n",
      "\"a.dcDC  |--δ-->  a ∧ dcDC\"\n",
      "\"a.cdCD  |--δ-->  (0)\"\n",
      "\"a.cdCD.cdCD.cdCD  |--δ-->  (-1)acdCDcdCD ∧ cdCD + (-1)acdCD ∧ cdCDcdCD\"\n",
      "\"a.c.c.c  |--δ-->  (-1)acc ∧ c + (-1)ac ∧ cc\"\n",
      "\"a.cD.cD.cD  |--δ-->  (-1)acDcD ∧ cD + (-1)acD ∧ cDcD\"\n",
      "\"a.cdCD.abA.cdCD.aBA  |--δ-->  (0)\"\n",
      "\"a.ceCE  |--δ-->  aceC ∧ E + (-1)ace ∧ CE + ac ∧ C\"\n",
      "\"a.cdCD.efEF.ceCE.feFEdcDC  |--δ-->  acdCDefEFceCfeFEdcDC ∧ E + (-1)acdCDefEFcefeFEdcDC ∧ CE + acdCDefEFcfeFEdcDC ∧ C\"\n"
     ]
    }
   ],
   "source": [
    "a1, a2 = Word.new(a[1]), Word.new(a[2])\n",
    "c = (a1*Word.new(b[1])*(a1.inverse)).flatten\n",
    "\n",
    "samples = [\n",
    "  a1, \n",
    "  a1*Word.new(b[2]),\n",
    "  a1*(Word.new(b[2]).inverse),\n",
    "  #---\n",
    "  a1^4,\n",
    "  c,\n",
    "  comms[1],\n",
    "  #---\n",
    "  a1*(comms[2].inverse),\n",
    "  a1*comms[2],\n",
    "  a1*(comms[2]^3),\n",
    "  a1*(a2^3),\n",
    "  a1*(Word.new(a[2], b[2].inverse)^3),\n",
    "  a1*comms[2]*c*comms[2]*(c.inverse),\n",
    "  #---\n",
    "  a1*Group.commutator(a[2], a[3]),\n",
    "  a1*(comms[2]*comms[3])*Group.commutator(a[2], a[3])*((comms[2]*comms[3]).inverse)\n",
    "  ]\n",
    "\n",
    "samples.each do |s|\n",
    "  ws = s.show.gsub(/[()]+/, '.').gsub(/^[.]|[.]$/, '')\n",
    "  cob = cobracket(s).map do |h|\n",
    "    coeff = (h[:coeff]==1) ? '' : \"(#{h[:coeff].to_s})\"\n",
    "    coeff + \"#{h[:words].join(\" \\u{2227} \")}\"\n",
    "  end\n",
    "  #---\n",
    "  p \"#{ws}  |--\\u{03B4}-->  #{cob.join(' + ')}\"\n",
    "end; nil"
   ]
  },
  {
   "cell_type": "code",
   "execution_count": 120,
   "metadata": {
    "ExecuteTime": {
     "end_time": "2019-05-29T09:37:52.330072Z",
     "start_time": "2019-05-29T09:37:52.287Z"
    },
    "code_folding": [],
    "scrolled": false
   },
   "outputs": [
    {
     "name": "stdout",
     "output_type": "stream",
     "text": [
      "\"(((a)(dcDC))(c))(B)\"\n",
      "\"[0][12][1][13][9, 4, 10][3, 6][11, 5, 8][7, 2][][][][]\"\n",
      "\"order: [12, 1, 11, 2]\"\n",
      "\"linking: 1\"\n",
      "\"factors: [0][12][1][13][][][][][][][][] , [][][][][9, 4, 10][3, 6][11, 5, 8][7, 2][][][][]\"\n",
      "\"order: [0, 1, 13, 2]\"\n",
      "\"linking: 1\"\n",
      "\"factors: [0][][1][][][][][][][][][] , [][12][][13][9, 4, 10][3, 6][11, 5, 8][7, 2][][][][]\"\n",
      "\"order: [9, 4, 10, 3]\"\n",
      "\"linking: 1\"\n",
      "\"factors: [0][12][1][13][10][3][11][2][][][][] , [][][][][9, 4][6][5, 8][7][][][][]\"\n",
      "\"order: [12, 6, 11, 5]\"\n",
      "\"linking: -1\"\n",
      "\"factors: [0][12][1][13][4][3][5][2][][][][] , [][][][][9, 10][6][11, 8][7][][][][]\"\n",
      "\"order: [0, 12, 13, 11]\"\n",
      "\"linking: -1\"\n",
      "\"factors: [0][][1][][9, 4, 10][3, 6][11, 5, 8][7, 2][][][][] , [][12][][13][][][][][][][][]\"\n",
      "=====\n",
      "\"-1\"\n",
      "\"[0][][1][][9, 4, 10][3, 6][11, 5, 8][7, 2][][][][] , [][12][][13][][][][][][][][]\"\n",
      "\"(-1)adcD ∧ B\"\n",
      "----------\n",
      "\"1\"\n",
      "\"[0][][1][][][][][][][][][] , [][12][][13][9, 4, 10][3, 6][11, 5, 8][7, 2][][][][]\"\n",
      "\"a ∧ dcDB\"\n",
      "----------\n",
      "\"1\"\n",
      "\"[0][12][1][13][][][][][][][][] , [][][][][9, 4, 10][3, 6][11, 5, 8][7, 2][][][][]\"\n",
      "\"aB ∧ c\"\n",
      "----------\n"
     ]
    }
   ],
   "source": [
    "myw = a1*(comms[2].inverse)*a2*(Word.new(b[1]).inverse) #a1^3 #\n",
    "wcode = Wcode.new(myw)\n",
    "p myw.show, wcode.show\n",
    "\n",
    "vb = false\n",
    "\n",
    "rintf(\"=====\\n\")\n",
    "cobracket(myw, vb).each do |h|\n",
    "  p \"#{h[:linking]}\"\n",
    "  p h[:factors].map(&:show).join(\" , \")\n",
    "#  p h[:words].map(&:show)\n",
    "  #---\n",
    "  coeff = (h[:coeff]==1) ? '' : \"(#{h[:coeff].to_s})\"\n",
    "  p coeff + \"#{h[:words].join(\" \\u{2227} \")}\"\n",
    "  printf(\"----------\\n\")\n",
    "end\n",
    "\n",
    "nil"
   ]
  },
  {
   "cell_type": "code",
   "execution_count": 123,
   "metadata": {
    "ExecuteTime": {
     "end_time": "2019-05-29T12:29:43.920263Z",
     "start_time": "2019-05-29T12:29:43.668Z"
    },
    "code_folding": [],
    "scrolled": false
   },
   "outputs": [
    {
     "name": "stdout",
     "output_type": "stream",
     "text": [
      "\"((((a)(cdCD))(abA))(cdCD))(aBA)\"\n",
      "\"[29, 15, 0, 10, 24][13, 26][25, 11, 1, 14, 28][27, 12][21, 7, 2, 16][19, 5, 8, 22][17, 3, 6, 20][23, 9, 4, 18][][][][]\"\n",
      "\"order: [1, 7, 2, 8]\"\n",
      "\"linking: 1\"\n",
      "\"factors: [29, 15, 0, 10, 24][13, 26][25, 11, 1, 14, 28][27, 12][21, 16][19, 8, 22][17, 20][23, 9, 18][][][][] , [][][][][7, 2][5][3, 6][4][][][][]\"\n",
      "\"order: [11, 1, 12, 2]\"\n",
      "\"linking: -1\"\n",
      "\"factors: [29, 15, 0, 24][13, 26][25, 1, 14, 28][27, 12][21, 16][19, 22][17, 20][23, 18][][][][] , [10][][11][][7, 2][5, 8][3, 6][9, 4][][][][]\"\n",
      "\"order: [13, 1, 14, 2]\"\n",
      "\"linking: -1\"\n",
      "\"factors: [29, 15, 0, 24][26][25, 1, 14, 28][27][21, 16][19, 22][17, 20][23, 18][][][][] , [10][13][11][12][7, 2][5, 8][3, 6][9, 4][][][][]\"\n",
      "\"order: [1, 21, 2, 22]\"\n",
      "\"linking: 1\"\n",
      "\"factors: [29, 0, 24][26][25, 1, 28][27][][22][][23][][][][] , [15, 10][13][11, 14][12][21, 7, 2, 16][19, 5, 8][17, 3, 6, 20][9, 4, 18][][][][]\"\n",
      "\"order: [5, 3, 6, 4]\"\n",
      "\"linking: -1\"\n",
      "\"factors: [29, 15, 0, 10, 24][13, 26][25, 11, 1, 14, 28][27, 12][21, 7, 2, 16][19, 8, 22][17, 3, 6, 20][23, 9, 18][][][][] , [][][][][][5][][4][][][][]\"\n",
      "\"order: [10, 3, 9, 4]\"\n",
      "\"linking: 1\"\n",
      "\"factors: [29, 15, 0, 10, 24][13, 26][25, 11, 1, 14, 28][27, 12][21, 2, 16][19, 22][17, 3, 20][23, 18][][][][] , [][][][][7][5, 8][6][9, 4][][][][]\"\n",
      "\"order: [19, 3, 20, 4]\"\n",
      "\"linking: -1\"\n",
      "\"factors: [29, 0, 24][26][25, 1, 28][27][21, 2][22][3, 20][23][][][][] , [15, 10][13][11, 14][12][7, 16][19, 5, 8][17, 6][9, 4, 18][][][][]\"\n",
      "\"order: [24, 3, 23, 4]\"\n",
      "\"linking: 1\"\n",
      "\"factors: [29, 0, 24][26][25, 1, 28][27][2][][3][][][][][] , [15, 10][13][11, 14][12][21, 7, 16][19, 5, 8, 22][17, 6, 20][23, 9, 4, 18][][][][]\"\n",
      "\"order: [7, 5, 8, 6]\"\n",
      "\"linking: -1\"\n",
      "\"factors: [29, 15, 0, 10, 24][13, 26][25, 11, 1, 14, 28][27, 12][21, 2, 16][19, 5, 8, 22][17, 3, 20][23, 9, 4, 18][][][][] , [][][][][7][][6][][][][][]\"\n",
      "\"order: [5, 17, 6, 18]\"\n",
      "\"linking: 1\"\n",
      "\"factors: [29, 0, 24][26][25, 1, 28][27][21, 2][19, 5, 22][3, 20][23, 4, 18][][][][] , [15, 10][13][11, 14][12][7, 16][8][17, 6][9][][][][]\"\n",
      "\"order: [21, 5, 22, 6]\"\n",
      "\"linking: -1\"\n",
      "\"factors: [29, 0, 24][26][25, 1, 28][27][2][5, 22][3][23, 4][][][][] , [15, 10][13][11, 14][12][21, 7, 16][19, 8][17, 6, 20][9, 18][][][][]\"\n",
      "\"order: [15, 7, 16, 8]\"\n",
      "\"linking: -1\"\n",
      "\"factors: [29, 0, 24][26][25, 1, 28][27][21, 7, 2, 16][19, 5, 22][17, 3, 6, 20][23, 4, 18][][][][] , [15, 10][13][11, 14][12][][8][][9][][][][]\"\n",
      "\"order: [7, 19, 8, 20]\"\n",
      "\"linking: 1\"\n",
      "\"factors: [29, 0, 24][26][25, 1, 28][27][21, 7, 2][5, 22][3, 6, 20][23, 4][][][][] , [15, 10][13][11, 14][12][16][19, 8][17][9, 18][][][][]\"\n",
      "\"order: [15, 10, 16, 9]\"\n",
      "\"linking: 1\"\n",
      "\"factors: [29, 0, 24][26][25, 1, 28][27][21, 7, 2, 16][19, 5, 8, 22][17, 3, 6, 20][23, 9, 4, 18][][][][] , [15, 10][13][11, 14][12][][][][][][][][]\"\n",
      "\"order: [10, 17, 9, 18]\"\n",
      "\"linking: -1\"\n",
      "\"factors: [29, 0, 24][26][25, 1, 28][27][21, 7, 2][19, 5, 8, 22][3, 6, 20][23, 9, 4, 18][][][][] , [15, 10][13][11, 14][12][16][][17][][][][][]\"\n",
      "\"order: [13, 11, 14, 12]\"\n",
      "\"linking: -1\"\n",
      "\"factors: [29, 15, 0, 10, 24][26][25, 11, 1, 14, 28][27][21, 7, 2, 16][19, 5, 8, 22][17, 3, 6, 20][23, 9, 4, 18][][][][] , [][13][][12][][][][][][][][]\"\n",
      "\"order: [15, 21, 16, 22]\"\n",
      "\"linking: 1\"\n",
      "\"factors: [29, 15, 0, 10, 24][13, 26][25, 11, 1, 14, 28][27, 12][7, 2][5, 8, 22][3, 6][23, 9, 4][][][][] , [][][][][21, 16][19][17, 20][18][][][][]\"\n",
      "\"order: [15, 24, 16, 23]\"\n",
      "\"linking: -1\"\n",
      "\"factors: [29, 15, 0, 10, 24][13, 26][25, 11, 1, 14, 28][27, 12][7, 2][5, 8][3, 6][9, 4][][][][] , [][][][][21, 16][19, 22][17, 20][23, 18][][][][]\"\n",
      "\"order: [29, 15, 0, 16]\"\n",
      "\"linking: -1\"\n",
      "\"factors: [15, 0, 10][13][11, 1, 14][12][7, 2][5, 8][3, 6][9, 4][][][][] , [29, 24][26][25, 28][27][21, 16][19, 22][17, 20][23, 18][][][][]\"\n",
      "\"order: [19, 17, 20, 18]\"\n",
      "\"linking: -1\"\n",
      "\"factors: [29, 15, 0, 10, 24][13, 26][25, 11, 1, 14, 28][27, 12][21, 7, 2, 16][5, 8, 22][17, 3, 6, 20][23, 9, 4][][][][] , [][][][][][19][][18][][][][]\"\n",
      "\"order: [24, 17, 23, 18]\"\n",
      "\"linking: 1\"\n",
      "\"factors: [29, 15, 0, 10, 24][13, 26][25, 11, 1, 14, 28][27, 12][7, 2, 16][5, 8][17, 3, 6][9, 4][][][][] , [][][][][21][19, 22][20][23, 18][][][][]\"\n",
      "\"order: [21, 19, 22, 20]\"\n",
      "\"linking: -1\"\n",
      "\"factors: [29, 15, 0, 10, 24][13, 26][25, 11, 1, 14, 28][27, 12][7, 2, 16][19, 5, 8, 22][17, 3, 6][23, 9, 4, 18][][][][] , [][][][][21][][20][][][][][]\"\n",
      "=====\n",
      "\"0\"\n",
      "\"\"\n",
      "[]\n",
      "\"(0)\"\n",
      "----------\n"
     ]
    }
   ],
   "source": [
    "myw = samples[-3]\n",
    "wcode = Wcode.new(myw)\n",
    "p myw.show, wcode.show\n",
    "\n",
    "vb = false\n",
    "\n",
    "wcode.cobracket(vb).each do |h|\n",
    "  h.each do |k, v|\n",
    "    if not k == :factors\n",
    "      p \"#{k}: #{v}\"\n",
    "    else\n",
    "      p \"#{k}: #{v.map(&:show).join(' , ')}\" \n",
    "    end\n",
    "  end\n",
    "end \n",
    "\n",
    "printf(\"=====\\n\")\n",
    "cobracket(myw, vb).each do |h|\n",
    "  p \"#{h[:linking]}\"\n",
    "  p h[:factors].map(&:show).join(\" , \")\n",
    "#  p h[:words].map(&:show)\n",
    "  #---\n",
    "  coeff = (h[:coeff]==1) ? '' : \"(#{h[:coeff].to_s})\"\n",
    "  p coeff + \"#{h[:words].join(\" \\u{2227} \")}\"\n",
    "  printf(\"----------\\n\")\n",
    "end\n",
    "nil"
   ]
  },
  {
   "cell_type": "markdown",
   "metadata": {},
   "source": [
    "### TODO\n",
    "$[a_{1},b_{1}]$ の処理において、\n",
    "* [x] [5, 0, 6, 7] の sign が正しくないようだ。\n",
    "* [x] a(x)A [ $a_{1}\\otimes a_{1}^{-1}$ ] の集計もおかしい。\n",
    "* [x] $a_{1}^{3}$ の計算がエラーになる。\n",
    "* [ ] simple subword たちによる計算を実装する。"
   ]
  }
 ],
 "metadata": {
  "kernelspec": {
   "display_name": "Ruby 2.6.1",
   "language": "ruby",
   "name": "ruby"
  },
  "language_info": {
   "file_extension": ".rb",
   "mimetype": "application/x-ruby",
   "name": "ruby",
   "version": "2.6.1"
  },
  "toc": {
   "base_numbering": 1,
   "nav_menu": {},
   "number_sections": false,
   "sideBar": true,
   "skip_h1_title": true,
   "title_cell": "Table of Contents",
   "title_sidebar": "Contents",
   "toc_cell": false,
   "toc_position": {},
   "toc_section_display": true,
   "toc_window_display": false
  },
  "varInspector": {
   "cols": {
    "lenName": 16,
    "lenType": 16,
    "lenVar": 40
   },
   "kernels_config": {
    "python": {
     "delete_cmd_postfix": "",
     "delete_cmd_prefix": "del ",
     "library": "var_list.py",
     "varRefreshCmd": "print(var_dic_list())"
    },
    "r": {
     "delete_cmd_postfix": ") ",
     "delete_cmd_prefix": "rm(",
     "library": "var_list.r",
     "varRefreshCmd": "cat(var_dic_list()) "
    }
   },
   "types_to_exclude": [
    "module",
    "function",
    "builtin_function_or_method",
    "instance",
    "_Feature"
   ],
   "window_display": false
  }
 },
 "nbformat": 4,
 "nbformat_minor": 2
}
