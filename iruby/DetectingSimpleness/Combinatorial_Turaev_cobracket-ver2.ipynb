{
 "cells": [
  {
   "cell_type": "markdown",
   "metadata": {},
   "source": [
    "# The fundarmental group of $\\Sigma_{g,1}$ "
   ]
  },
  {
   "cell_type": "code",
   "execution_count": 1,
   "metadata": {
    "ExecuteTime": {
     "end_time": "2019-06-13T00:53:02.737484Z",
     "start_time": "2019-06-13T00:53:02.728Z"
    }
   },
   "outputs": [
    {
     "data": {
      "text/plain": [
       "true"
      ]
     },
     "execution_count": 1,
     "metadata": {},
     "output_type": "execute_result"
    }
   ],
   "source": [
    "require './freegroup.rb'"
   ]
  },
  {
   "cell_type": "markdown",
   "metadata": {},
   "source": [
    "## generators"
   ]
  },
  {
   "cell_type": "code",
   "execution_count": 2,
   "metadata": {
    "ExecuteTime": {
     "end_time": "2019-06-13T00:53:04.961060Z",
     "start_time": "2019-06-13T00:53:04.952Z"
    }
   },
   "outputs": [
    {
     "name": "stdout",
     "output_type": "stream",
     "text": [
      "[\"a\", \"b\", \"c\", \"d\", \"e\", \"f\"]\n",
      "[\"1\", \"a\", \"c\", \"e\"]\n"
     ]
    }
   ],
   "source": [
    "genus = 3\n",
    "alphabet = %w(a b c d e f)\n",
    "\n",
    "Gens = [Letter.new] + alphabet.map{|x| Letter.new(x)}\n",
    "Gens.freeze\n",
    "p Gens[1..-1].map(&:show)\n",
    "\n",
    "a = [Gens[0]] + Gens[1..-1].each_slice(2).map(&:first)\n",
    "b = [Gens[0]] + Gens[1..-1].each_slice(2).map(&:last)\n",
    "p a.map(&:show)\n",
    "nil"
   ]
  },
  {
   "cell_type": "code",
   "execution_count": 3,
   "metadata": {
    "ExecuteTime": {
     "end_time": "2019-06-13T00:53:06.168214Z",
     "start_time": "2019-06-13T00:53:06.159Z"
    }
   },
   "outputs": [
    {
     "name": "stdout",
     "output_type": "stream",
     "text": [
      "[\"1111\", \"abAB\", \"cdCD\", \"efEF\"]\n"
     ]
    },
    {
     "data": {
      "text/plain": [
       "[\"1111\", \"abAB\", \"cdCD\", \"efEF\"]"
      ]
     },
     "execution_count": 3,
     "metadata": {},
     "output_type": "execute_result"
    }
   ],
   "source": [
    "comms = []\n",
    "(Gens.size/2 + 1).times do |i|\n",
    "  comms << Group.commutator(a[i], b[i])\n",
    "end\n",
    "p comms.map(&:show)"
   ]
  },
  {
   "cell_type": "code",
   "execution_count": 4,
   "metadata": {
    "ExecuteTime": {
     "end_time": "2019-06-13T00:53:07.324749Z",
     "start_time": "2019-06-13T00:53:07.314Z"
    }
   },
   "outputs": [
    {
     "name": "stderr",
     "output_type": "stream",
     "text": [
      "<main>:2: warning: already initialized constant Rseq\n",
      "<main>:2: warning: already initialized constant Rseq\n",
      "<main>:2: warning: previous definition of Rseq was here\n",
      "<main>:2: warning: already initialized constant Rseq\n",
      "<main>:2: warning: previous definition of Rseq was here\n"
     ]
    },
    {
     "name": "stdout",
     "output_type": "stream",
     "text": [
      "[\"a\", \"B\", \"A\", \"b\", \"c\", \"D\", \"C\", \"d\", \"e\", \"F\", \"E\", \"f\"]\n"
     ]
    }
   ],
   "source": [
    "Rseq = []\n",
    "(Gens.size/2).times do |i|\n",
    "  Rseq += [a[i+1], b[i+1].inverse, a[i+1].inverse, b[i+1]]\n",
    "end\n",
    "Rseq.freeze\n",
    "p Rseq.map(&:show) #.index('A')\n",
    "nil"
   ]
  },
  {
   "cell_type": "markdown",
   "metadata": {},
   "source": [
    "# Wcode Class"
   ]
  },
  {
   "cell_type": "code",
   "execution_count": 41,
   "metadata": {
    "ExecuteTime": {
     "end_time": "2019-06-13T01:16:57.769215Z",
     "start_time": "2019-06-13T01:16:57.762Z"
    }
   },
   "outputs": [],
   "source": [
    "class Wcode < Hash\n",
    "  def initialize(word = Group::Identity)\n",
    "    @words = [word]\n",
    "    #---\n",
    "    Rseq.each{|x| self.store(x.char, [])}\n",
    "    if word != Group::Identity\n",
    "      word.flatten.factors.each_with_index do |c, i|\n",
    "        k = i\n",
    "        self[c.char].insert(-1, 2*k)\n",
    "        self[c.inverse.char].insert(0,2*k+1)\n",
    "      end\n",
    "    end\n",
    "  end\n",
    "  attr_reader :words\n",
    "  #---\n",
    "  def show()\n",
    "    self.values.map(&:to_s).join\n",
    "  end\n",
    "  def to_a()\n",
    "    self.values.flatten\n",
    "  end\n",
    "  def size()\n",
    "    self.to_a.size\n",
    "  end\n",
    "  def copy()\n",
    "    wc = self.class.new\n",
    "    wc.each_key{|key| wc[key] = self[key].dup}\n",
    "    wc\n",
    "  end\n",
    "  #---\n",
    "  def narrow()\n",
    "    wc = self.copy\n",
    "    sorted = wc.values.flatten.sort\n",
    "    wc.each_key do |key|\n",
    "      wc[key].map!{|v| sorted.index(v)}\n",
    "    end\n",
    "    wc\n",
    "  end\n",
    "  #---\n",
    "  def to_word()\n",
    "    chars = (0..self.size/2).to_a.map{|i| self.map{|key, arr| key if arr.include?(2*i)}.join}\n",
    "    Word.new(chars.join)\n",
    "  end\n",
    "  #---\n",
    "  def product(another)\n",
    "    wc = self.copy\n",
    "    size = self.size\n",
    "    wc.map do |k, v|\n",
    "      another[k].each do |n|\n",
    "        n = n + self.size\n",
    "        (n.odd?) ? v = [n]+v : v << n \n",
    "      end\n",
    "      wc[k] = v\n",
    "    end\n",
    "    wc\n",
    "  end\n",
    "  #---\n",
    "  def devide(odd_nums)\n",
    "    facs = []\n",
    "    facs[0] = self.map{|key, arr| [key, arr.select{|x| x <= odd_nums[0] or odd_nums[1] < x}] }.to_h\n",
    "    facs[1] = self.map{|key, arr| [key, arr.select{|x| odd_nums[0] < x and x <= odd_nums[1]}] }.to_h\n",
    "    facs.map! do |f|\n",
    "      wc = self.class.new\n",
    "      wc.each_key{|key| wc[key] = f[key]}\n",
    "    end\n",
    "    return facs\n",
    "  end\n",
    "  #---\n",
    "  ## Turaev cobracket for Wcodes\n",
    "  def cobracket(verbose=false)\n",
    "    odd_pairs=(1..self.size/2).to_a.map{|x| 2*x-1}.combination(2)\n",
    "    factors = odd_pairs.map do |odds|\n",
    "      divs = odds.map{|odd| Division.new(self, odd)}\n",
    "      linking = divs[0].linking(divs[1])\n",
    "      factors = self.devide(odds).map(&:narrow)\n",
    "      #---\n",
    "      {odds: odds, linking: linking, factors: factors }\n",
    "    end\n",
    "    return verbose ? factors : factors.select{|prd| prd[:linking] != 0}\n",
    "  end  \n",
    "end; nil\n",
    "\n",
    "#-----------------------------------\n",
    "class Division\n",
    "  def initialize(wc, odd)\n",
    "    @wc = wc\n",
    "    @odd = odd\n",
    "    wcvf = wc.values.flatten\n",
    "    @indices = [wcvf.index(@odd), wcvf.index((@odd+1)%(@wc).size)]\n",
    "    ids = @indices.sort\n",
    "    @interior = wcvf[ids[0]+1..ids[1]-1]\n",
    "    @sign = (@indices == @indices.sort) ? 1 : -1\n",
    "  end\n",
    "  attr_reader :odd, :indices, :interior, :sign\n",
    "  \n",
    "  def linking(another)\n",
    "    sign1 = @sign\n",
    "    sign2 = if @interior.include?(another.odd)\n",
    "              (@interior.include?(another.odd+1)) ? 0 : -1\n",
    "            else\n",
    "              (@interior.include?(another.odd+1)) ? 1 : 0\n",
    "            end\n",
    "    return sign1*sign2\n",
    "  end\n",
    "end;nil"
   ]
  },
  {
   "cell_type": "code",
   "execution_count": 42,
   "metadata": {
    "ExecuteTime": {
     "end_time": "2019-06-13T01:16:59.458971Z",
     "start_time": "2019-06-13T01:16:59.433Z"
    }
   },
   "outputs": [
    {
     "name": "stdout",
     "output_type": "stream",
     "text": [
      "\"abAB\"\n",
      "\"[5, 0][3, 6][1, 4][7, 2][][][][][][][][]\"\n",
      "===\n",
      "1\n",
      "[4, 7]\n",
      "1\n",
      "---\n",
      "3\n",
      "[6, 1]\n",
      "1\n",
      "---\n",
      "5\n",
      "[0, 3]\n",
      "1\n",
      "---\n",
      "7\n",
      "[3, 6, 1, 4]\n",
      "-1\n",
      "---\n",
      "\"[1, 3] -- linking --> 1\"\n",
      "\"[1, 5] -- linking --> 0\"\n",
      "\"[1, 7] -- linking --> -1\"\n",
      "\"[3, 5] -- linking --> 1\"\n",
      "\"[3, 7] -- linking --> 0\"\n",
      "\"[5, 7] -- linking --> 0\"\n"
     ]
    }
   ],
   "source": [
    "w = comms[1] #Word.new(a[1], a[2], b[1].inverse)\n",
    "wc = Wcode.new(w)\n",
    "p w.show, wc.show\n",
    "printf(\"===\\n\")\n",
    "\n",
    "wcf = wc.values.flatten\n",
    "\n",
    "divs = (1..wc.size/2).map{|n| 2*n-1}.map{|odd| Division.new(wc, odd)}\n",
    "\n",
    "divs.each do |div|\n",
    "  p div.odd, div.interior, div.sign\n",
    "  printf \"---\\n\"\n",
    "end\n",
    "\n",
    "divs.combination(2).each do |comb|\n",
    "  p \"#{comb.map(&:odd)} -- linking --> #{comb[0].linking(comb[1])}\"\n",
    "end\n",
    "\n",
    "nil"
   ]
  },
  {
   "cell_type": "code",
   "execution_count": 46,
   "metadata": {
    "ExecuteTime": {
     "end_time": "2019-06-13T01:17:43.297233Z",
     "start_time": "2019-06-13T01:17:43.264Z"
    }
   },
   "outputs": [
    {
     "name": "stdout",
     "output_type": "stream",
     "text": [
      "\"odds: [1, 3]\"\n",
      "\"linking: 1\"\n",
      "\"factors: [\\\"[3, 0][4][1, 2][5][][][][][][][][]\\\", \\\"[][1][][0][][][][][][][][]\\\"]\"\n",
      "---\n",
      "\"odds: [1, 5]\"\n",
      "\"linking: 0\"\n",
      "\"factors: [\\\"[0][2][1][3][][][][][][][][]\\\", \\\"[3][1][2][0][][][][][][][][]\\\"]\"\n",
      "---\n",
      "\"odds: [1, 7]\"\n",
      "\"linking: -1\"\n",
      "\"factors: [\\\"[0][][1][][][][][][][][][]\\\", \\\"[3][1, 4][2][5, 0][][][][][][][][]\\\"]\"\n",
      "---\n",
      "\"odds: [3, 5]\"\n",
      "\"linking: 1\"\n",
      "\"factors: [\\\"[0][3, 4][1][5, 2][][][][][][][][]\\\", \\\"[1][][0][][][][][][][][][]\\\"]\"\n",
      "---\n",
      "\"odds: [3, 7]\"\n",
      "\"linking: 0\"\n",
      "\"factors: [\\\"[0][3][1][2][][][][][][][][]\\\", \\\"[1][2][0][3][][][][][][][][]\\\"]\"\n",
      "---\n",
      "\"odds: [5, 7]\"\n",
      "\"linking: 0\"\n",
      "\"factors: [\\\"[5, 0][3][1, 4][2][][][][][][][][]\\\", \\\"[][0][][1][][][][][][][][]\\\"]\"\n",
      "---\n"
     ]
    }
   ],
   "source": [
    "wc.cobracket(1).each do |t|\n",
    "  t.each{ |k,v| p \"#{k}: #{(k == :factors) ? v.map(&:show) : v}\" }\n",
    "  printf \"---\\n\"\n",
    "end; nil"
   ]
  },
  {
   "cell_type": "markdown",
   "metadata": {},
   "source": [
    "## Turaev cobraket"
   ]
  },
  {
   "cell_type": "code",
   "execution_count": 47,
   "metadata": {
    "ExecuteTime": {
     "end_time": "2019-06-13T01:18:51.446974Z",
     "start_time": "2019-06-13T01:18:51.440Z"
    },
    "code_folding": [],
    "scrolled": true
   },
   "outputs": [],
   "source": [
    "def cobracket(myw, verbose=false)  \n",
    "  monomials = Wcode.new(myw).cobracket(verbose).map do |mono|\n",
    "    prewords = mono[:factors].map(&:narrow).map(&:to_word)\n",
    "    words = prewords.map(&:cyclic_reduce)\n",
    "    mono.merge({coeff: mono[:linking], words: words})\n",
    "  end\n",
    "  \n",
    "  result = []\n",
    "  while monomials.size > 0\n",
    "    pop = monomials.pop\n",
    "    #---\n",
    "    monomials.each do |mono|\n",
    "      if mono[:words][0].conjugate?(pop[:words][0]) and mono[:words][1].conjugate?(pop[:words][1])\n",
    "        pop[:coeff] += mono[:coeff]\n",
    "        pop[:order] += mono[:order]\n",
    "        mono[:coeff] = nil\n",
    "      elsif mono[:words][0].conjugate?(pop[:words][1]) and mono[:words][1].conjugate?(pop[:words][0])\n",
    "        pop[:coeff] += mono[:coeff]*(-1)\n",
    "        pop[:order] += mono[:order]\n",
    "        mono[:coeff] = nil\n",
    "      end\n",
    "    end\n",
    "    #---\n",
    "    if pop[:coeff] != 0 or verbose\n",
    "#      result << ((pop[:coeff] == 1) ? '' : \"(#{pop[:coeff].to_s}) \") + pop[:words].join(\" \\u{2227} \")\n",
    "      result << pop\n",
    "    end\n",
    "    #---\n",
    "    monomials.delete_if{|mono| mono[:coeff].nil?}\n",
    "  end \n",
    "  return (result.empty?) ? [{orders: [], linking: 0, factors: [], coeff: 0, words: []}] : result\n",
    "end; nil"
   ]
  },
  {
   "cell_type": "markdown",
   "metadata": {},
   "source": [
    "# Execution"
   ]
  },
  {
   "cell_type": "code",
   "execution_count": 48,
   "metadata": {
    "ExecuteTime": {
     "end_time": "2019-06-13T01:18:54.100601Z",
     "start_time": "2019-06-13T01:18:54.080Z"
    },
    "scrolled": true
   },
   "outputs": [
    {
     "name": "stdout",
     "output_type": "stream",
     "text": [
      "\"a  |--δ-->  (0)\"\n",
      "\"a.d  |--δ-->  (-1)a ∧ d\"\n",
      "\"a.D  |--δ-->  (0)\"\n",
      "\"a.a.a.a  |--δ-->  aaa ∧ a + aa ∧ aa + a ∧ aaa\"\n",
      "\"abA  |--δ-->  1 ∧ b\"\n"
     ]
    },
    {
     "ename": "NoMethodError",
     "evalue": "undefined method `+' for nil:NilClass",
     "output_type": "error",
     "traceback": [
      "\u001b[31mNoMethodError\u001b[0m: undefined method `+' for nil:NilClass",
      "\u001b[37m<main>:14:in `block in cobracket'\u001b[0m",
      "\u001b[37m<main>:11:in `each'\u001b[0m",
      "\u001b[37m<main>:11:in `cobracket'\u001b[0m",
      "\u001b[37m<main>:27:in `block in <main>'\u001b[0m",
      "\u001b[37m<main>:25:in `each'\u001b[0m",
      "\u001b[37m<main>:25:in `<main>'\u001b[0m",
      "\u001b[37m/Users/ryosuke/.rbenv/versions/2.6.1/lib/ruby/gems/2.6.0/gems/iruby-0.3/lib/iruby/backend.rb:44:in `eval'\u001b[0m",
      "\u001b[37m/Users/ryosuke/.rbenv/versions/2.6.1/lib/ruby/gems/2.6.0/gems/iruby-0.3/lib/iruby/backend.rb:44:in `eval'\u001b[0m",
      "\u001b[37m/Users/ryosuke/.rbenv/versions/2.6.1/lib/ruby/gems/2.6.0/gems/iruby-0.3/lib/iruby/backend.rb:12:in `eval'\u001b[0m",
      "\u001b[37m/Users/ryosuke/.rbenv/versions/2.6.1/lib/ruby/gems/2.6.0/gems/iruby-0.3/lib/iruby/kernel.rb:87:in `execute_request'\u001b[0m",
      "\u001b[37m/Users/ryosuke/.rbenv/versions/2.6.1/lib/ruby/gems/2.6.0/gems/iruby-0.3/lib/iruby/kernel.rb:47:in `dispatch'\u001b[0m",
      "\u001b[37m/Users/ryosuke/.rbenv/versions/2.6.1/lib/ruby/gems/2.6.0/gems/iruby-0.3/lib/iruby/kernel.rb:37:in `run'\u001b[0m",
      "\u001b[37m/Users/ryosuke/.rbenv/versions/2.6.1/lib/ruby/gems/2.6.0/gems/iruby-0.3/lib/iruby/command.rb:70:in `run_kernel'\u001b[0m",
      "\u001b[37m/Users/ryosuke/.rbenv/versions/2.6.1/lib/ruby/gems/2.6.0/gems/iruby-0.3/lib/iruby/command.rb:34:in `run'\u001b[0m",
      "\u001b[37m/Users/ryosuke/.rbenv/versions/2.6.1/lib/ruby/gems/2.6.0/gems/iruby-0.3/bin/iruby:5:in `<top (required)>'\u001b[0m",
      "\u001b[37m/Users/ryosuke/.rbenv/versions/2.6.1/bin/iruby:23:in `load'\u001b[0m",
      "\u001b[37m/Users/ryosuke/.rbenv/versions/2.6.1/bin/iruby:23:in `<main>'\u001b[0m"
     ]
    }
   ],
   "source": [
    "a1, a2 = Word.new(a[1]), Word.new(a[2])\n",
    "c = (a1*Word.new(b[1])*(a1.inverse)).flatten\n",
    "\n",
    "samples = [\n",
    "  a1, \n",
    "  a1*Word.new(b[2]),\n",
    "  a1*(Word.new(b[2]).inverse),\n",
    "  #---\n",
    "  a1^4,\n",
    "  c,\n",
    "  comms[1],\n",
    "  #---\n",
    "  a1*(comms[2].inverse),\n",
    "  a1*comms[2],\n",
    "  a1*(comms[2]^3),\n",
    "  a1*(a2^3),\n",
    "  a1*(Word.new(a[2], b[2].inverse)^3),\n",
    "  a1*comms[2]*c*comms[2]*(c.inverse),\n",
    "  #---\n",
    "  a1*Group.commutator(a[2], a[3]),\n",
    "  a1*(comms[2]*comms[3])*Group.commutator(a[2], a[3])*((comms[2]*comms[3]).inverse),\n",
    "  #---\n",
    "  a1*Group.commutator(b[1], a[2])\n",
    "  ]\n",
    "\n",
    "samples.each do |s|\n",
    "  ws = s.show.gsub(/[()]+/, '.').gsub(/^[.]|[.]$/, '')\n",
    "  cob = cobracket(s).map do |h|\n",
    "    coeff = (h[:coeff]==1) ? '' : \"(#{h[:coeff].to_s})\"\n",
    "    coeff + \"#{h[:words].join(\" \\u{2227} \")}\"\n",
    "  end\n",
    "  #---\n",
    "  p \"#{ws}  |--\\u{03B4}-->  #{cob.join(' + ')}\"\n",
    "end; nil"
   ]
  },
  {
   "cell_type": "markdown",
   "metadata": {},
   "source": [
    "\"a  |--δ-->  0\"\n",
    "\"a.d  |--δ-->  a ∧ d\"\n",
    "\"a.D  |--δ-->  0\"\n",
    "\"a.a.a.a  |--δ-->  (-1) aa ∧ aa\"\n",
    "\"abA  |--δ-->  (-1) 1 ∧ b\"\n",
    "\"abAB  |--δ-->  0\"\n",
    "\"a.dcDC  |--δ-->  a ∧ dcDC\"\n",
    "\"a.cdCD  |--δ-->  0\"\n",
    "\"a.cdCD.cdCD.cdCD  |--δ-->  (-1) acdCDcdCD ∧ cdCD + (-1) acdCD ∧ cdCDcdCD\"\n",
    "\"a.c.c.c  |--δ-->  (-1) acc ∧ c + (-1) ac ∧ cc\"\n",
    "\"a.cD.cD.cD  |--δ-->  (-1) acDcD ∧ cD + (-1) acD ∧ cDcD\"\n",
    "\"a.cdCD.abA.cdCD.aBA  |--δ-->  (-1) acdCD ∧ cdCD + (-1) cdCD ∧ cdCDa\"\n",
    "\"a.ceCE  |--δ-->  aceC ∧ E + (-1) ace ∧ CE + ac ∧ C\"\n",
    "\"a.cdCD.efEF.ceCE.feFEdcDC  |--δ-->  acdCDefEFceCfeFEdcDC ∧ E + (-1) acdCDefEFcefeFEdcDC ∧ CE + acdCDefEFcfeFEdcDC ∧ C\""
   ]
  },
  {
   "cell_type": "markdown",
   "metadata": {},
   "source": [
    "### TODO\n",
    "$[a_{1},b_{1}]$ の処理において、\n",
    "* [x] [5, 0, 6, 7] の sign が正しくないようだ。\n",
    "* [x] a(x)A [ $a_{1}\\otimes a_{1}^{-1}$ ] の集計もおかしい。\n",
    "* [x] $a_{1}^{3}$ の計算がエラーになる。\n",
    "* [ ] simple subword たちによる計算を実装する。"
   ]
  }
 ],
 "metadata": {
  "kernelspec": {
   "display_name": "Ruby 2.6.1",
   "language": "ruby",
   "name": "ruby"
  },
  "language_info": {
   "file_extension": ".rb",
   "mimetype": "application/x-ruby",
   "name": "ruby",
   "version": "2.6.1"
  },
  "toc": {
   "base_numbering": 1,
   "nav_menu": {},
   "number_sections": false,
   "sideBar": true,
   "skip_h1_title": true,
   "title_cell": "Table of Contents",
   "title_sidebar": "Contents",
   "toc_cell": false,
   "toc_position": {},
   "toc_section_display": true,
   "toc_window_display": false
  },
  "varInspector": {
   "cols": {
    "lenName": 16,
    "lenType": 16,
    "lenVar": 40
   },
   "kernels_config": {
    "python": {
     "delete_cmd_postfix": "",
     "delete_cmd_prefix": "del ",
     "library": "var_list.py",
     "varRefreshCmd": "print(var_dic_list())"
    },
    "r": {
     "delete_cmd_postfix": ") ",
     "delete_cmd_prefix": "rm(",
     "library": "var_list.r",
     "varRefreshCmd": "cat(var_dic_list()) "
    }
   },
   "types_to_exclude": [
    "module",
    "function",
    "builtin_function_or_method",
    "instance",
    "_Feature"
   ],
   "window_display": false
  }
 },
 "nbformat": 4,
 "nbformat_minor": 2
}
