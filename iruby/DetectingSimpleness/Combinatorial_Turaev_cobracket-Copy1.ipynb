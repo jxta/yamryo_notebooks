{
 "cells": [
  {
   "cell_type": "markdown",
   "metadata": {},
   "source": [
    "# Setting the fundarmental group of $\\Sigma_{g,1}$ "
   ]
  },
  {
   "cell_type": "code",
   "execution_count": 1,
   "metadata": {
    "ExecuteTime": {
     "end_time": "2019-05-24T01:41:31.621850Z",
     "start_time": "2019-05-24T01:41:30.046Z"
    }
   },
   "outputs": [
    {
     "data": {
      "text/plain": [
       "true"
      ]
     },
     "execution_count": 1,
     "metadata": {},
     "output_type": "execute_result"
    }
   ],
   "source": [
    "require './freegroup.rb'"
   ]
  },
  {
   "cell_type": "markdown",
   "metadata": {},
   "source": [
    "## generators"
   ]
  },
  {
   "cell_type": "code",
   "execution_count": 2,
   "metadata": {
    "ExecuteTime": {
     "end_time": "2019-05-24T01:41:31.628857Z",
     "start_time": "2019-05-24T01:41:30.049Z"
    }
   },
   "outputs": [
    {
     "name": "stdout",
     "output_type": "stream",
     "text": [
      "[\"a\", \"b\", \"c\", \"d\", \"e\", \"f\"]\n",
      "[\"1\", \"a\", \"c\", \"e\"]\n"
     ]
    }
   ],
   "source": [
    "genus = 3\n",
    "alphabet = %w(a b c d e f)\n",
    "\n",
    "Gens = [Letter.new] + alphabet.map{|x| Letter.new(x)}\n",
    "Gens.freeze\n",
    "p Gens[1..-1].map(&:show)\n",
    "\n",
    "a = [Gens[0]] + Gens[1..-1].each_slice(2).map(&:first)\n",
    "b = [Gens[0]] + Gens[1..-1].each_slice(2).map(&:last)\n",
    "p a.map(&:show)\n",
    "nil"
   ]
  },
  {
   "cell_type": "code",
   "execution_count": 3,
   "metadata": {
    "ExecuteTime": {
     "end_time": "2019-05-24T01:41:31.633705Z",
     "start_time": "2019-05-24T01:41:30.052Z"
    }
   },
   "outputs": [
    {
     "name": "stdout",
     "output_type": "stream",
     "text": [
      "[\"1111\", \"abAB\", \"cdCD\", \"efEF\"]\n"
     ]
    },
    {
     "data": {
      "text/plain": [
       "[\"1111\", \"abAB\", \"cdCD\", \"efEF\"]"
      ]
     },
     "execution_count": 3,
     "metadata": {},
     "output_type": "execute_result"
    }
   ],
   "source": [
    "comms = []\n",
    "(Gens.size/2 + 1).times do |i|\n",
    "  comms << Group.commutator(a[i], b[i])\n",
    "end\n",
    "p comms.map(&:show)"
   ]
  },
  {
   "cell_type": "code",
   "execution_count": 4,
   "metadata": {
    "ExecuteTime": {
     "end_time": "2019-05-24T01:41:31.636238Z",
     "start_time": "2019-05-24T01:41:30.054Z"
    }
   },
   "outputs": [
    {
     "name": "stderr",
     "output_type": "stream",
     "text": [
      "<main>:2: warning: already initialized constant Rseq\n",
      "<main>:2: warning: already initialized constant Rseq\n",
      "<main>:2: warning: previous definition of Rseq was here\n",
      "<main>:2: warning: already initialized constant Rseq\n",
      "<main>:2: warning: previous definition of Rseq was here\n"
     ]
    },
    {
     "name": "stdout",
     "output_type": "stream",
     "text": [
      "[\"a\", \"B\", \"A\", \"b\", \"c\", \"D\", \"C\", \"d\", \"e\", \"F\", \"E\", \"f\"]\n"
     ]
    }
   ],
   "source": [
    "Rseq = []\n",
    "(Gens.size/2).times do |i|\n",
    "  Rseq += [a[i+1], b[i+1].inverse, a[i+1].inverse, b[i+1]]\n",
    "end\n",
    "Rseq.freeze\n",
    "p Rseq.map(&:show) #.index('A')\n",
    "nil"
   ]
  },
  {
   "cell_type": "markdown",
   "metadata": {},
   "source": [
    "# The Algorithm"
   ]
  },
  {
   "cell_type": "markdown",
   "metadata": {},
   "source": [
    "### Wcode Class"
   ]
  },
  {
   "cell_type": "code",
   "execution_count": 5,
   "metadata": {
    "ExecuteTime": {
     "end_time": "2019-05-24T01:41:31.638418Z",
     "start_time": "2019-05-24T01:41:30.056Z"
    }
   },
   "outputs": [],
   "source": [
    "class Wcode < Hash\n",
    "  def initialize(word = Group::Identity)\n",
    "    Rseq.each{|x| self.store(x.char, [])}\n",
    "    if word != Group::Identity\n",
    "      word.flatten.factors.each_with_index do |c, i|\n",
    "        k = i\n",
    "        self[c.char].insert(-1, 2*k)\n",
    "        self[c.inverse.char].insert(0,2*k+1)\n",
    "      end\n",
    "    end\n",
    "  end\n",
    "  #---\n",
    "  def show()\n",
    "    self.values.map(&:to_s).join\n",
    "  end\n",
    "  def to_a()\n",
    "    self.values.flatten\n",
    "  end\n",
    "  def size()\n",
    "    self.to_a.size\n",
    "  end\n",
    "  def copy()\n",
    "    wc = self.class.new\n",
    "    wc.each_key{|key| wc[key] = self[key].dup}\n",
    "    wc\n",
    "  end\n",
    "  #---\n",
    "  def narrow()\n",
    "    wc = self.copy\n",
    "    sorted = wc.values.flatten.sort\n",
    "    wc.each_key do |key|\n",
    "      wc[key].map!{|v| sorted.index(v)}\n",
    "    end\n",
    "    wc\n",
    "  end\n",
    "  #---\n",
    "  def to_word()\n",
    "    chars = (0..self.size/2).to_a.map{|i| self.map{|key, arr| key if arr.include?(2*i)}.join}\n",
    "    Word.new(chars.join)\n",
    "  end\n",
    "  #---\n",
    "  def get_four_tuple(odd_nums)\n",
    "    arr = [odd_nums[0], odd_nums[0]+1, odd_nums[1], (odd_nums[1]+1)%self.size]\n",
    "    FourTuple.new(self.to_a.select{|n| arr.include?(n)}, self.size)\n",
    "  end\n",
    "  #---\n",
    "  def devide(odd_nums)\n",
    "    facs = []\n",
    "    facs[0] = self.map{|key, arr| [key, arr.select{|x| x <= odd_nums[0] or odd_nums[1] < x}] }.to_h\n",
    "    facs[1] = self.map{|key, arr| [key, arr.select{|x| odd_nums[0] < x and x <= odd_nums[1]}] }.to_h\n",
    "    facs.map! do |f|\n",
    "      wc = self.class.new\n",
    "      wc.each_key{|key| wc[key] = f[key]}\n",
    "    end\n",
    "    return facs\n",
    "  end\n",
    "  #---\n",
    "end; nil\n",
    "\n",
    "#-----------------------------------\n",
    "class FourTuple < Array\n",
    "  def initialize(arr, mod)\n",
    "    @modulo = mod\n",
    "    4.times{|i| self[i] = arr[i]}\n",
    "    @odd_nums = self.select{|n| n.odd?}.sort\n",
    "  end\n",
    "  \n",
    "  def linking()\n",
    "    odd1 = @odd_nums[0]\n",
    "    if (self.index(odd1) - self.index(odd1+1) + 1).even?\n",
    "      # [o,e,*,*] / [o,*,*,e] / [*,o,e,*] / [*,*,o,e] (and reverse 'o' and 'e')\n",
    "      return 0\n",
    "    else\n",
    "      # [o1,e2,e1,o2] --> linking = +1 and [o2,o1,e2,e1] --> linking = +1\n",
    "      # The sign of linking is change by (o1<->e1) and (e2<->o2)\n",
    "      idxs = [self.index(odd1), self.index(odd1+1)] \n",
    "      sign0 = (idxs[0] < idxs[1]) ? 1 : -1\n",
    "      rng = idxs.sort\n",
    "      sign2 = self[rng[0]..rng[1]][1].odd? ? 1 : -1\n",
    "      #---\n",
    "      sign = sign0*sign2\n",
    "    end\n",
    "  end\n",
    "end;nil"
   ]
  },
  {
   "cell_type": "markdown",
   "metadata": {},
   "source": [
    "### Turaev cobraket"
   ]
  },
  {
   "cell_type": "code",
   "execution_count": 6,
   "metadata": {
    "ExecuteTime": {
     "end_time": "2019-05-24T01:41:31.640379Z",
     "start_time": "2019-05-24T01:41:30.058Z"
    },
    "code_folding": [],
    "scrolled": true
   },
   "outputs": [],
   "source": [
    "def cobracket(myw)\n",
    "  wcode = Wcode.new(myw)\n",
    "  odd_pairs=(1..wcode.size/2).to_a.map{|x| 2*x-1}.combination(2)\n",
    "  #--------------------------------------\n",
    "  coprods = odd_pairs.map do |odds|\n",
    "    order = wcode.get_four_tuple(odds)\n",
    "    factors = wcode.devide(odds)\n",
    "    prewords = factors.map(&:narrow).map(&:to_word)\n",
    "    words = prewords.map(&:cyclic_reduce)\n",
    "    #---\n",
    "    {order: order,\n",
    "     linking: order.linking, \n",
    "     factors: factors, \n",
    "     prewords: prewords,\n",
    "     words: words\n",
    "     }\n",
    "  end\n",
    "  monomials = coprods.select{|prd| prd[:linking] != 0}\n",
    "  i = 0\n",
    "  result = []\n",
    "  while monomials.size > 0\n",
    "    pop = monomials.pop\n",
    "    coeff = pop[:linking]\n",
    "    indices = []\n",
    "    coeff += monomials.map do |mono|\n",
    "      if mono[:words] == pop[:words]\n",
    "        indices << monomials.index(mono)\n",
    "        mono[:linking]\n",
    "      elsif mono[:words] == pop[:words].reverse\n",
    "        indices << monomials.index(mono)\n",
    "        mono[:linking]*(-1)\n",
    "      else\n",
    "        0\n",
    "      end\n",
    "      end.sum\n",
    "    #---\n",
    "    term = pop[:words].join(\" \\u{2227} \")\n",
    "    if coeff != 0 \n",
    "      result << ((coeff == 1) ? '' : \"(#{coeff.to_s}) \") + term\n",
    "    end\n",
    "    #---\n",
    "    indices.each{|i| monomials.delete_at(i)}\n",
    "  end \n",
    "  return (result.empty?) ? [0] : result\n",
    "end;nil"
   ]
  },
  {
   "cell_type": "markdown",
   "metadata": {
    "ExecuteTime": {
     "end_time": "2019-05-23T13:35:58.360638Z",
     "start_time": "2019-05-23T13:35:58.353Z"
    }
   },
   "source": [
    "### Execution"
   ]
  },
  {
   "cell_type": "code",
   "execution_count": 7,
   "metadata": {
    "ExecuteTime": {
     "end_time": "2019-05-24T01:41:31.839955Z",
     "start_time": "2019-05-24T01:41:30.060Z"
    }
   },
   "outputs": [
    {
     "name": "stdout",
     "output_type": "stream",
     "text": [
      "\"a  |--δ-->  0\"\n",
      "\"a.d  |--δ-->  a ∧ d\"\n",
      "\"a.D  |--δ-->  0\"\n",
      "\"a.a.a.a  |--δ-->  (-1) aa ∧ aa\"\n",
      "\"abA  |--δ-->  (-1) 1 ∧ b\"\n",
      "\"abAB  |--δ-->  0\"\n",
      "\"a.dcDC  |--δ-->  a ∧ dcDC\"\n",
      "\"a.cdCD  |--δ-->  0\"\n",
      "\"a.cdCD.cdCD.cdCD  |--δ-->  (-1) acdCDcdCD ∧ cdCD + (-1) acdCD ∧ cdCDcdCD\"\n",
      "\"a.c.c.c  |--δ-->  (-1) acc ∧ c + (-1) ac ∧ cc\"\n",
      "\"a.cD.cD.cD  |--δ-->  (-1) acDcD ∧ cD + (-1) acD ∧ cDcD\"\n",
      "\"a.cdCD.abA.cdCD.aBA  |--δ-->  (-1) acdCD ∧ cdCD + (-1) cdCD ∧ cdCDa\"\n",
      "\"a.ceCE  |--δ-->  aceC ∧ E + (-1) ace ∧ CE + ac ∧ C\"\n",
      "\"a.cdCD.efEF.ceCE.feFEdcDC  |--δ-->  acdCDefEFceCfeFEdcDC ∧ E + (-1) acdCDefEFcefeFEdcDC ∧ CE + acdCDefEFcfeFEdcDC ∧ C\"\n"
     ]
    }
   ],
   "source": [
    "a1 = Word.new(a[1])\n",
    "c = (a1*Word.new(b[1])*(a1.inverse)).flatten\n",
    "samples = [\n",
    "  a1, \n",
    "  a1*Word.new(b[2]),\n",
    "  a1*(Word.new(b[2]).inverse),\n",
    "  #---\n",
    "  a1^4,\n",
    "  c,\n",
    "  comms[1],\n",
    "  #---\n",
    "  a1*(comms[2].inverse),\n",
    "  a1*comms[2],\n",
    "  a1*(comms[2]^3),\n",
    "  a1*(Word.new(a[2])^3),\n",
    "  a1*(Word.new(a[2], b[2].inverse)^3),\n",
    "  a1*comms[2]*c*comms[2]*(c.inverse),\n",
    "  #---\n",
    "  a1*Group.commutator(a[2], a[3]),\n",
    "  a1*(comms[2]*comms[3])*Group.commutator(a[2], a[3])*((comms[2]*comms[3]).inverse)\n",
    "  ]\n",
    "\n",
    "samples.each do |s|\n",
    "  ws = s.show.gsub(/[()]+/, '.').gsub(/^[.]|[.]$/, '')\n",
    "  p \"#{ws}  |--\\u{03B4}-->  #{cobracket(s).join(' + ')}\"\n",
    "end;nil"
   ]
  },
  {
   "cell_type": "code",
   "execution_count": 8,
   "metadata": {
    "ExecuteTime": {
     "end_time": "2019-05-24T01:41:31.841300Z",
     "start_time": "2019-05-24T01:41:30.061Z"
    },
    "code_folding": [],
    "scrolled": true
   },
   "outputs": [
    {
     "ename": "NameError",
     "evalue": "undefined local variable or method `myw' for main:Object",
     "output_type": "error",
     "traceback": [
      "\u001b[31mNameError\u001b[0m: undefined local variable or method `myw' for main:Object",
      "\u001b[37m<main>:in `<main>'\u001b[0m",
      "\u001b[37m/home/ryosuke/.rbenv/versions/2.5.1/lib/ruby/gems/2.5.0/gems/iruby-0.3/lib/iruby/backend.rb:44:in `eval'\u001b[0m",
      "\u001b[37m/home/ryosuke/.rbenv/versions/2.5.1/lib/ruby/gems/2.5.0/gems/iruby-0.3/lib/iruby/backend.rb:44:in `eval'\u001b[0m",
      "\u001b[37m/home/ryosuke/.rbenv/versions/2.5.1/lib/ruby/gems/2.5.0/gems/iruby-0.3/lib/iruby/backend.rb:12:in `eval'\u001b[0m",
      "\u001b[37m/home/ryosuke/.rbenv/versions/2.5.1/lib/ruby/gems/2.5.0/gems/iruby-0.3/lib/iruby/kernel.rb:87:in `execute_request'\u001b[0m",
      "\u001b[37m/home/ryosuke/.rbenv/versions/2.5.1/lib/ruby/gems/2.5.0/gems/iruby-0.3/lib/iruby/kernel.rb:47:in `dispatch'\u001b[0m",
      "\u001b[37m/home/ryosuke/.rbenv/versions/2.5.1/lib/ruby/gems/2.5.0/gems/iruby-0.3/lib/iruby/kernel.rb:37:in `run'\u001b[0m",
      "\u001b[37m/home/ryosuke/.rbenv/versions/2.5.1/lib/ruby/gems/2.5.0/gems/iruby-0.3/lib/iruby/command.rb:70:in `run_kernel'\u001b[0m",
      "\u001b[37m/home/ryosuke/.rbenv/versions/2.5.1/lib/ruby/gems/2.5.0/gems/iruby-0.3/lib/iruby/command.rb:34:in `run'\u001b[0m",
      "\u001b[37m/home/ryosuke/.rbenv/versions/2.5.1/lib/ruby/gems/2.5.0/gems/iruby-0.3/bin/iruby:5:in `<top (required)>'\u001b[0m",
      "\u001b[37m/home/ryosuke/.rbenv/versions/2.5.1/bin/iruby:23:in `load'\u001b[0m",
      "\u001b[37m/home/ryosuke/.rbenv/versions/2.5.1/bin/iruby:23:in `<main>'\u001b[0m"
     ]
    }
   ],
   "source": [
    "wcode = Wcode.new(myw)\n",
    "p myw.show, wcode.show\n",
    "\n",
    "odd_pairs=(1..wcode.size/2).to_a.map{|x| 2*x-1}.combination(2)\n",
    "#odd_pairs = odd_pairs.map{|p| [p, p.reverse]}.flatten(1)\n",
    "#odd_pairs = [[1,3],[3,1]]\n",
    "\n",
    "#--------------------------------------\n",
    "coprods = odd_pairs.map do |odds|\n",
    "  order = wcode.get_four_tuple(odds)\n",
    "  factors = wcode.devide(odds)\n",
    "  prewords = factors.map(&:narrow).map(&:to_word)\n",
    "  words = prewords.map(&:cyclic_reduce)\n",
    "  #---\n",
    "  {order: order,\n",
    "   linking: order.linking, \n",
    "   factors: factors, \n",
    "   prewords: prewords,\n",
    "   words: words\n",
    "   }\n",
    "end\n",
    "#--------------------------------------\n",
    "=begin\n",
    "#--------------------------------------\n",
    "coprods.select{|h| h[:linking] != 0 }.each do |h|\n",
    "  printf(\".....\\n\")\n",
    "  p \"#{h[:order]}\"\n",
    "#  p \"#{h[:linking]}\"\n",
    "  p h[:factors].map(&:show).join(\" , \")\n",
    "#  p h[:prewords].join(\"(x)\")\n",
    "#  p ((h[:linking]==1) ? \"+\" : \"-\") + h[:words].join(\"(x)\") + \\\n",
    "#   ((h[:linking]!=1) ? \"+\" : \"-\") + h[:words].reverse.join(\"(x)\")\n",
    "  p [h[:linking] , h[:words].join(\" \\u{2227} \")]\n",
    "end\n",
    "#--------------------------------------\n",
    "=end\n",
    "nil"
   ]
  },
  {
   "cell_type": "code",
   "execution_count": 9,
   "metadata": {
    "ExecuteTime": {
     "end_time": "2019-05-24T01:41:31.842605Z",
     "start_time": "2019-05-24T01:41:30.064Z"
    },
    "scrolled": false
   },
   "outputs": [
    {
     "ename": "NoMethodError",
     "evalue": "private method `select' called for nil:NilClass",
     "output_type": "error",
     "traceback": [
      "\u001b[31mNoMethodError\u001b[0m: private method `select' called for nil:NilClass",
      "\u001b[37m<main>:in `<main>'\u001b[0m",
      "\u001b[37m/home/ryosuke/.rbenv/versions/2.5.1/lib/ruby/gems/2.5.0/gems/iruby-0.3/lib/iruby/backend.rb:44:in `eval'\u001b[0m",
      "\u001b[37m/home/ryosuke/.rbenv/versions/2.5.1/lib/ruby/gems/2.5.0/gems/iruby-0.3/lib/iruby/backend.rb:44:in `eval'\u001b[0m",
      "\u001b[37m/home/ryosuke/.rbenv/versions/2.5.1/lib/ruby/gems/2.5.0/gems/iruby-0.3/lib/iruby/backend.rb:12:in `eval'\u001b[0m",
      "\u001b[37m/home/ryosuke/.rbenv/versions/2.5.1/lib/ruby/gems/2.5.0/gems/iruby-0.3/lib/iruby/kernel.rb:87:in `execute_request'\u001b[0m",
      "\u001b[37m/home/ryosuke/.rbenv/versions/2.5.1/lib/ruby/gems/2.5.0/gems/iruby-0.3/lib/iruby/kernel.rb:47:in `dispatch'\u001b[0m",
      "\u001b[37m/home/ryosuke/.rbenv/versions/2.5.1/lib/ruby/gems/2.5.0/gems/iruby-0.3/lib/iruby/kernel.rb:37:in `run'\u001b[0m",
      "\u001b[37m/home/ryosuke/.rbenv/versions/2.5.1/lib/ruby/gems/2.5.0/gems/iruby-0.3/lib/iruby/command.rb:70:in `run_kernel'\u001b[0m",
      "\u001b[37m/home/ryosuke/.rbenv/versions/2.5.1/lib/ruby/gems/2.5.0/gems/iruby-0.3/lib/iruby/command.rb:34:in `run'\u001b[0m",
      "\u001b[37m/home/ryosuke/.rbenv/versions/2.5.1/lib/ruby/gems/2.5.0/gems/iruby-0.3/bin/iruby:5:in `<top (required)>'\u001b[0m",
      "\u001b[37m/home/ryosuke/.rbenv/versions/2.5.1/bin/iruby:23:in `load'\u001b[0m",
      "\u001b[37m/home/ryosuke/.rbenv/versions/2.5.1/bin/iruby:23:in `<main>'\u001b[0m"
     ]
    }
   ],
   "source": [
    "monomials = coprods.select{|prd| prd[:linking] != 0}\n",
    "\n",
    "i = 0\n",
    "result = []\n",
    "while monomials.size > 0\n",
    "  pop = monomials.pop\n",
    "  coeff = pop[:linking]\n",
    "  indices = []\n",
    "  coeff += monomials.map do |mono|\n",
    "    if mono[:words] == pop[:words]\n",
    "      indices << monomials.index(mono)\n",
    "      mono[:linking]\n",
    "    elsif mono[:words] == pop[:words].reverse\n",
    "      indices << monomials.index(mono)\n",
    "      mono[:linking]*(-1)\n",
    "    else\n",
    "      0\n",
    "    end\n",
    "    end.sum\n",
    "  #---\n",
    "  term = pop[:words].join(\" \\u{2227} \")\n",
    "  if coeff != 0 \n",
    "    result << ((coeff == 1) ? '' : coeff.to_s + \"*\") + term\n",
    "  end\n",
    "  #---\n",
    "  indices.each{|i| monomials.delete_at(i)}\n",
    "end \n",
    "  \n",
    "p result\n",
    "  \n",
    "nil"
   ]
  },
  {
   "cell_type": "markdown",
   "metadata": {},
   "source": [
    "### TODO\n",
    "$[a_{1},b_{1}]$ の処理において、\n",
    "* [x] [5, 0, 6, 7] の sign が正しくないようだ。\n",
    "* [x] a(x)A [ $a_{1}\\otimes a_{1}^{-1}$ ] の集計もおかしい。\n",
    "* [x] $a_{1}^{3}$ の計算がエラーになる。\n",
    "* [ ] simple subword たちによる計算を実装する。"
   ]
  }
 ],
 "metadata": {
  "kernelspec": {
   "display_name": "Ruby 2.5.1",
   "language": "ruby",
   "name": "ruby"
  },
  "language_info": {
   "file_extension": ".rb",
   "mimetype": "application/x-ruby",
   "name": "ruby",
   "version": "2.5.1"
  },
  "toc": {
   "base_numbering": 1,
   "nav_menu": {},
   "number_sections": false,
   "sideBar": true,
   "skip_h1_title": true,
   "title_cell": "Table of Contents",
   "title_sidebar": "Contents",
   "toc_cell": false,
   "toc_position": {},
   "toc_section_display": true,
   "toc_window_display": false
  },
  "varInspector": {
   "cols": {
    "lenName": 16,
    "lenType": 16,
    "lenVar": 40
   },
   "kernels_config": {
    "python": {
     "delete_cmd_postfix": "",
     "delete_cmd_prefix": "del ",
     "library": "var_list.py",
     "varRefreshCmd": "print(var_dic_list())"
    },
    "r": {
     "delete_cmd_postfix": ") ",
     "delete_cmd_prefix": "rm(",
     "library": "var_list.r",
     "varRefreshCmd": "cat(var_dic_list()) "
    }
   },
   "types_to_exclude": [
    "module",
    "function",
    "builtin_function_or_method",
    "instance",
    "_Feature"
   ],
   "window_display": false
  }
 },
 "nbformat": 4,
 "nbformat_minor": 2
}
