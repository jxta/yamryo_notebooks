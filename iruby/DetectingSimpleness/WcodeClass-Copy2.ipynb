{
 "cells": [
  {
   "cell_type": "markdown",
   "metadata": {},
   "source": [
    "# The fundarmental group of $\\Sigma_{g,1}$ "
   ]
  },
  {
   "cell_type": "code",
   "execution_count": 1,
   "metadata": {
    "ExecuteTime": {
     "end_time": "2019-06-02T06:58:14.858659Z",
     "start_time": "2019-06-02T06:58:14.851Z"
    }
   },
   "outputs": [
    {
     "data": {
      "text/plain": [
       "true"
      ]
     },
     "execution_count": 1,
     "metadata": {},
     "output_type": "execute_result"
    }
   ],
   "source": [
    "require './freegroup.rb'"
   ]
  },
  {
   "cell_type": "markdown",
   "metadata": {},
   "source": [
    "## generators"
   ]
  },
  {
   "cell_type": "code",
   "execution_count": 2,
   "metadata": {
    "ExecuteTime": {
     "end_time": "2019-06-02T06:58:16.937522Z",
     "start_time": "2019-06-02T06:58:16.928Z"
    }
   },
   "outputs": [
    {
     "name": "stdout",
     "output_type": "stream",
     "text": [
      "[\"a\", \"b\", \"c\", \"d\", \"e\", \"f\"]\n",
      "[\"1\", \"a\", \"c\", \"e\"]\n"
     ]
    }
   ],
   "source": [
    "genus = 3\n",
    "alphabet = %w(a b c d e f)\n",
    "\n",
    "Gens = [Letter.new] + alphabet.map{|x| Letter.new(x)}\n",
    "Gens.freeze\n",
    "p Gens[1..-1].map(&:show)\n",
    "\n",
    "a = [Gens[0]] + Gens[1..-1].each_slice(2).map(&:first)\n",
    "b = [Gens[0]] + Gens[1..-1].each_slice(2).map(&:last)\n",
    "p a.map(&:show)\n",
    "nil"
   ]
  },
  {
   "cell_type": "code",
   "execution_count": 3,
   "metadata": {
    "ExecuteTime": {
     "end_time": "2019-06-02T06:58:17.431688Z",
     "start_time": "2019-06-02T06:58:17.424Z"
    }
   },
   "outputs": [
    {
     "name": "stdout",
     "output_type": "stream",
     "text": [
      "[\"1111\", \"abAB\", \"cdCD\", \"efEF\"]\n"
     ]
    },
    {
     "data": {
      "text/plain": [
       "[\"1111\", \"abAB\", \"cdCD\", \"efEF\"]"
      ]
     },
     "execution_count": 3,
     "metadata": {},
     "output_type": "execute_result"
    }
   ],
   "source": [
    "comms = []\n",
    "(Gens.size/2 + 1).times do |i|\n",
    "  comms << Group.commutator(a[i], b[i])\n",
    "end\n",
    "p comms.map(&:show)"
   ]
  },
  {
   "cell_type": "code",
   "execution_count": 4,
   "metadata": {
    "ExecuteTime": {
     "end_time": "2019-06-02T06:58:18.242428Z",
     "start_time": "2019-06-02T06:58:18.231Z"
    }
   },
   "outputs": [
    {
     "name": "stderr",
     "output_type": "stream",
     "text": [
      "<main>:2: warning: already initialized constant Rseq\n",
      "<main>:2: warning: already initialized constant Rseq\n",
      "<main>:2: warning: previous definition of Rseq was here\n",
      "<main>:2: warning: already initialized constant Rseq\n",
      "<main>:2: warning: previous definition of Rseq was here\n"
     ]
    },
    {
     "name": "stdout",
     "output_type": "stream",
     "text": [
      "[\"a\", \"B\", \"A\", \"b\", \"c\", \"D\", \"C\", \"d\", \"e\", \"F\", \"E\", \"f\"]\n"
     ]
    }
   ],
   "source": [
    "Rseq = []\n",
    "(Gens.size/2).times do |i|\n",
    "  Rseq += [a[i+1], b[i+1].inverse, a[i+1].inverse, b[i+1]]\n",
    "end\n",
    "Rseq.freeze\n",
    "p Rseq.map(&:show) #.index('A')\n",
    "nil"
   ]
  },
  {
   "cell_type": "markdown",
   "metadata": {},
   "source": [
    "# Wcode Class"
   ]
  },
  {
   "cell_type": "code",
   "execution_count": 79,
   "metadata": {
    "ExecuteTime": {
     "end_time": "2019-06-02T08:02:40.674355Z",
     "start_time": "2019-06-02T08:02:40.640Z"
    }
   },
   "outputs": [],
   "source": [
    "class Wcode < Hash\n",
    "  def initialize(word = Group::Identity)\n",
    "    @words = [word]\n",
    "    #---\n",
    "    Rseq.each{|x| self.store(x.char, [])}\n",
    "    if word != Group::Identity\n",
    "      word.flatten.factors.each_with_index do |c, i|\n",
    "        k = i\n",
    "        self[c.char].insert(-1, 2*k)\n",
    "        self[c.inverse.char].insert(0,2*k+1)\n",
    "      end\n",
    "    end\n",
    "  end\n",
    "  attr_reader :words\n",
    "  #---\n",
    "  def show()\n",
    "    self.values.map(&:to_s).join\n",
    "  end\n",
    "  def to_a()\n",
    "    self.values.flatten\n",
    "  end\n",
    "  def size()\n",
    "    self.to_a.size\n",
    "  end\n",
    "  def copy()\n",
    "    wc = self.class.new\n",
    "    wc.each_key{|key| wc[key] = self[key].dup}\n",
    "    wc\n",
    "  end\n",
    "  #---\n",
    "  def narrow()\n",
    "    wc = self.copy\n",
    "    sorted = wc.values.flatten.sort\n",
    "    wc.each_key do |key|\n",
    "      wc[key].map!{|v| sorted.index(v)}\n",
    "    end\n",
    "    wc\n",
    "  end\n",
    "  #---\n",
    "  def to_word()\n",
    "    chars = (0..self.size/2).to_a.map{|i| self.map{|key, arr| key if arr.include?(2*i)}.join}\n",
    "    Word.new(chars.join)\n",
    "  end\n",
    "  #---\n",
    "  def product(another)\n",
    "    wc = self.copy\n",
    "    size = self.size\n",
    "    wc.map do |k, v|\n",
    "      another[k].each do |n|\n",
    "        n = n + self.size\n",
    "        (n.odd?) ? v = [n]+v : v << n \n",
    "      end\n",
    "      wc[k] = v\n",
    "    end\n",
    "    wc\n",
    "  end\n",
    "  #---\n",
    "  def devide(odd_nums)\n",
    "    facs = []\n",
    "    facs[0] = self.map{|key, arr| [key, arr.select{|x| x <= odd_nums[0] or odd_nums[1] < x}] }.to_h\n",
    "    facs[1] = self.map{|key, arr| [key, arr.select{|x| odd_nums[0] < x and x <= odd_nums[1]}] }.to_h\n",
    "    facs.map! do |f|\n",
    "      wc = self.class.new\n",
    "      wc.each_key{|key| wc[key] = f[key]}\n",
    "    end\n",
    "    return facs\n",
    "  end\n",
    "  #---\n",
    "  ## Turaev cobracket for Wcodes\n",
    "  def cobracket()\n",
    "    odd_pairs=(1..self.size/2).to_a.map{|x| 2*x-1}.combination(2)\n",
    "    factors = odd_pairs.map do |odds|\n",
    "      divs = odds.map{|odd| Division.new(self, odd)}\n",
    "      linking = divs[0].linking(divs[1])\n",
    "      factors = self.devide(odds).map(&:narrow)\n",
    "      #---\n",
    "      {odds: odds, linking: linking, factors: factors }\n",
    "    end\n",
    "    return factors.select{|prd| prd[:linking] != 0}\n",
    "  end  \n",
    "end; nil\n",
    "\n",
    "#-----------------------------------\n",
    "class Division\n",
    "  def initialize(wc, odd)\n",
    "    @wc = wc\n",
    "    @odd = odd\n",
    "    wcvf = wc.values.flatten\n",
    "    @indices = [wcvf.index(@odd), wcvf.index((@odd+1)%(@wc).size)]\n",
    "    ids = @indices.sort\n",
    "    @interior = wcvf[ids[0]+1..ids[1]-1]\n",
    "    @sign = (@indices == @indices.sort) ? 1 : -1\n",
    "  end\n",
    "  attr_reader :indices, :interior, :sign\n",
    "  \n",
    "  def linking(another)\n",
    "=begin\n",
    "    if (self.index(odd1) - self.index(odd1+1) + 1).even?\n",
    "      # [o,e,*,*] / [o,*,*,e] / [*,o,e,*] / [*,*,o,e] (and reverse 'o' and 'e')\n",
    "      return 0\n",
    "    else\n",
    "      # [o1,e2,e1,o2] --> linking = +1 and [o2,o1,e2,e1] --> linking = +1\n",
    "      # The sign of linking is change by (o1<->e1) and (e2<->o2)\n",
    "      idxs = [self.index(odd1), self.index(odd1+1)] \n",
    "      sign0 = (idxs[0] < idxs[1]) ? 1 : -1\n",
    "      rng = idxs.sort\n",
    "      sign2 = self[rng[0]..rng[1]][1].odd? ? 1 : -1\n",
    "      #---\n",
    "      sign = sign0*sign2\n",
    "    end\n",
    "=end  \n",
    "  end\n",
    "end;nil"
   ]
  },
  {
   "cell_type": "code",
   "execution_count": 78,
   "metadata": {
    "ExecuteTime": {
     "end_time": "2019-06-02T07:49:07.354669Z",
     "start_time": "2019-06-02T07:49:07.337Z"
    }
   },
   "outputs": [
    {
     "name": "stdout",
     "output_type": "stream",
     "text": [
      "\"acB\"\n",
      "\"[0][4][1][5][2][][3][][][][][]\"\n",
      "===\n",
      "1\n",
      "[5]\n",
      "1\n",
      "3\n",
      "[1, 5, 2]\n",
      "-1\n",
      "5\n",
      "[4, 1]\n",
      "-1\n"
     ]
    }
   ],
   "source": [
    "w = Word.new(a[1], a[2], b[1].inverse)\n",
    "wc = Wcode.new(w)\n",
    "p w.show, wc.show\n",
    "printf(\"===\\n\")\n",
    "\n",
    "wcf = wc.values.flatten\n",
    "\n",
    "(1..wc.size/2).map{|n| 2*n-1}.each do |odd|\n",
    "  div = Division.new(wc, odd)\n",
    "  ids = div.indices.sort\n",
    "  p odd #, div.indices, \n",
    "  p div.interior, div.sign\n",
    "end\n",
    "\n",
    "nil"
   ]
  },
  {
   "cell_type": "code",
   "execution_count": null,
   "metadata": {
    "ExecuteTime": {
     "end_time": "2019-06-02T04:20:55.629292Z",
     "start_time": "2019-06-02T04:20:55.517Z"
    }
   },
   "outputs": [],
   "source": [
    "wc = wc_arr.inject(:product)\n",
    "p wc.to_word.show, wc.show\n",
    "printf(\"===\\n\")\n",
    "\n",
    "wc.cobracket.each do |h|\n",
    "  p \"order : #{h[:order]}\"\n",
    "  p \"linking : #{h[:linking]}\"\n",
    "  p \"factors : \" + h[:factors].map(&:show).join(' , ')\n",
    "  prd = h[:factors].inject(&:product)\n",
    "  p prd.show\n",
    "  p h[:factors].map(&:to_word).map(&:show).join(\" \\u{2227} \")\n",
    "  p h[:factors].map(&:to_word).map(&:cyclic_reduce).map(&:show).join(\" \\u{2227} \")\n",
    "#  p prd.to_word.show\n",
    "  printf(\"-----\\n\")\n",
    "end\n",
    "nil"
   ]
  },
  {
   "cell_type": "markdown",
   "metadata": {},
   "source": [
    "## Turaev cobraket"
   ]
  },
  {
   "cell_type": "code",
   "execution_count": null,
   "metadata": {
    "ExecuteTime": {
     "end_time": "2019-06-02T04:20:55.635770Z",
     "start_time": "2019-06-02T04:20:55.557Z"
    },
    "code_folding": [],
    "scrolled": true
   },
   "outputs": [],
   "source": [
    "def cobracket(simple_words_arr)\n",
    "  wa = simple_words_arr\n",
    "  code = Wcode.new(wa)\n",
    "  #---\n",
    "  cob = code.cobracket\n",
    "  \n",
    "  unless cob.empty?\n",
    "    cob.each do |h|\n",
    "      h[:words] = h[:factors].map do |f|\n",
    "        evens = f.values.flatten.select{|v| v.even?}.sort\n",
    "        evens.map{|e| wa[e/2]}\n",
    "      end\n",
    "    end\n",
    "  end\n",
    "\n",
    "  return cob\n",
    "end;nil"
   ]
  },
  {
   "cell_type": "markdown",
   "metadata": {},
   "source": [
    "# Execution"
   ]
  },
  {
   "cell_type": "code",
   "execution_count": null,
   "metadata": {
    "ExecuteTime": {
     "end_time": "2019-06-02T04:20:55.652042Z",
     "start_time": "2019-06-02T04:20:55.602Z"
    }
   },
   "outputs": [],
   "source": [
    "a1, a2 = Word.new(a[1]), Word.new(a[2])\n",
    "c = (a1*Word.new(b[1])*(a1.inverse)).flatten\n",
    "samples = [\n",
    "  [a1],\n",
    "  [a1, Word.new(b[2])],\n",
    "  [a1, Word.new(b[2]).inverse],\n",
    "  #---\n",
    "  (1..4).map{|i| a1},\n",
    "  #---\n",
    "  [a1, (comms[2].inverse)],\n",
    "  [a1, comms[2]],\n",
    "  [a1] + (1..3).map{|i| comms[2]},\n",
    "  [a1] + (1..3).map{|i| a2},\n",
    "  [a1] + (1..3).map{|i| Word.new(a[2], b[2].inverse)},\n",
    "  [a1, comms[2], c, comms[2], c.inverse],\n",
    "  #---\n",
    "  [a1, Group.commutator(a[2], a[3])],\n",
    "  [a1, comms[2]*comms[3], Group.commutator(a[2], a[3]), (comms[2]*comms[3]).inverse]\n",
    "  ]\n",
    "\n",
    "samples.each do |wa|\n",
    "  ws = wa.inject(:*).show.gsub(/[()]+/, '.').gsub(/^[.]|[.]$/, '')\n",
    "  terms = cobracket(wa).map do |h|\n",
    "    coeff = (h[:linking]==1) ? '' : '(-1)'\n",
    "    coeff + h[:words].map{|a| a.inject(:*).cyclic_reduce.show }.join(\" \\u{2227} \")\n",
    "  end\n",
    "  p \"#{ws}  |--\\u{03B4}--> #{terms.join(' + ')}\"\n",
    "end;nil"
   ]
  },
  {
   "cell_type": "markdown",
   "metadata": {},
   "source": [
    "\"a  |--δ-->  0\"\n",
    "\"a.d  |--δ-->  a ∧ d\"\n",
    "\"a.D  |--δ-->  0\"\n",
    "\"a.a.a.a  |--δ-->  (-1) aa ∧ aa\"\n",
    "\"abA  |--δ-->  (-1) 1 ∧ b\"\n",
    "\"abAB  |--δ-->  0\"\n",
    "\"a.dcDC  |--δ-->  a ∧ dcDC\"\n",
    "\"a.cdCD  |--δ-->  0\"\n",
    "\"a.cdCD.cdCD.cdCD  |--δ-->  (-1) acdCDcdCD ∧ cdCD + (-1) acdCD ∧ cdCDcdCD\"\n",
    "\"a.c.c.c  |--δ-->  (-1) acc ∧ c + (-1) ac ∧ cc\"\n",
    "\"a.cD.cD.cD  |--δ-->  (-1) acDcD ∧ cD + (-1) acD ∧ cDcD\"\n",
    "\"a.cdCD.abA.cdCD.aBA  |--δ-->  (-1) acdCD ∧ cdCD + (-1) cdCD ∧ cdCDa\"\n",
    "\"a.ceCE  |--δ-->  aceC ∧ E + (-1) ace ∧ CE + ac ∧ C\"\n",
    "\"a.cdCD.efEF.ceCE.feFEdcDC  |--δ-->  acdCDefEFceCfeFEdcDC ∧ E + (-1) acdCDefEFcefeFEdcDC ∧ CE + acdCDefEFcfeFEdcDC ∧ C\""
   ]
  },
  {
   "cell_type": "code",
   "execution_count": null,
   "metadata": {
    "ExecuteTime": {
     "end_time": "2019-06-02T04:20:55.673492Z",
     "start_time": "2019-06-02T04:20:55.622Z"
    }
   },
   "outputs": [],
   "source": [
    "warr = samples[-3]\n",
    "wc = Wcode.new(warr)\n",
    "p wc.show, wc.words.map(&:show)\n",
    "nil"
   ]
  },
  {
   "cell_type": "code",
   "execution_count": null,
   "metadata": {
    "ExecuteTime": {
     "end_time": "2019-06-02T04:20:55.693344Z",
     "start_time": "2019-06-02T04:20:55.645Z"
    }
   },
   "outputs": [],
   "source": [
    "cob = cobracket(warr)\n",
    "cob.each do |h|\n",
    "  p \"order: #{h[:order]}\"\n",
    "  p \"linking: #{h[:linking]}\"\n",
    "  p \"factors: #{h[:factors].map(&:show)}\"\n",
    "  p \"words: #{h[:words].map{|a| a.inject(:*).show}}\"\n",
    "  p h[:words].map{|a| a.inject(:*).cyclic_reduce.show }.join(\" \\u{2227} \")\n",
    "  printf(\"-- -- --\\n\")\n",
    "end\n",
    "nil"
   ]
  },
  {
   "cell_type": "markdown",
   "metadata": {},
   "source": [
    "### TODO\n",
    "$[a_{1},b_{1}]$ の処理において、\n",
    "* [x] [5, 0, 6, 7] の sign が正しくないようだ。\n",
    "* [x] a(x)A [ $a_{1}\\otimes a_{1}^{-1}$ ] の集計もおかしい。\n",
    "* [x] $a_{1}^{3}$ の計算がエラーになる。\n",
    "* [ ] simple subword たちによる計算を実装する。"
   ]
  }
 ],
 "metadata": {
  "kernelspec": {
   "display_name": "Ruby 2.6.1",
   "language": "ruby",
   "name": "ruby"
  },
  "language_info": {
   "file_extension": ".rb",
   "mimetype": "application/x-ruby",
   "name": "ruby",
   "version": "2.6.1"
  },
  "toc": {
   "base_numbering": 1,
   "nav_menu": {},
   "number_sections": false,
   "sideBar": true,
   "skip_h1_title": true,
   "title_cell": "Table of Contents",
   "title_sidebar": "Contents",
   "toc_cell": false,
   "toc_position": {},
   "toc_section_display": true,
   "toc_window_display": false
  },
  "varInspector": {
   "cols": {
    "lenName": 16,
    "lenType": 16,
    "lenVar": 40
   },
   "kernels_config": {
    "python": {
     "delete_cmd_postfix": "",
     "delete_cmd_prefix": "del ",
     "library": "var_list.py",
     "varRefreshCmd": "print(var_dic_list())"
    },
    "r": {
     "delete_cmd_postfix": ") ",
     "delete_cmd_prefix": "rm(",
     "library": "var_list.r",
     "varRefreshCmd": "cat(var_dic_list()) "
    }
   },
   "types_to_exclude": [
    "module",
    "function",
    "builtin_function_or_method",
    "instance",
    "_Feature"
   ],
   "window_display": false
  }
 },
 "nbformat": 4,
 "nbformat_minor": 2
}
