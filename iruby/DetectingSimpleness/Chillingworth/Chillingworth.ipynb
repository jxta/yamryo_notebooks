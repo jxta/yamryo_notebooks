{
 "cells": [
  {
   "cell_type": "markdown",
   "metadata": {},
   "source": [
    "# Setting the fundarmental group of $\\Sigma_{g,1}$ "
   ]
  },
  {
   "cell_type": "code",
   "execution_count": 1,
   "metadata": {
    "ExecuteTime": {
     "end_time": "2019-05-15T09:08:22.188696Z",
     "start_time": "2019-05-15T09:08:22.178Z"
    }
   },
   "outputs": [
    {
     "data": {
      "text/plain": [
       "true"
      ]
     },
     "execution_count": 1,
     "metadata": {},
     "output_type": "execute_result"
    }
   ],
   "source": [
    "require './freegroup.rb'"
   ]
  },
  {
   "cell_type": "markdown",
   "metadata": {},
   "source": [
    "## generators"
   ]
  },
  {
   "cell_type": "code",
   "execution_count": 2,
   "metadata": {
    "ExecuteTime": {
     "end_time": "2019-05-15T09:08:22.211052Z",
     "start_time": "2019-05-15T09:08:22.185Z"
    }
   },
   "outputs": [
    {
     "name": "stdout",
     "output_type": "stream",
     "text": [
      "[\"a\", \"b\", \"c\", \"d\", \"e\", \"f\"]\n",
      "[\"1\", \"a\", \"c\", \"e\"]\n"
     ]
    }
   ],
   "source": [
    "genus = 3\n",
    "alphabet = %w(a b c d e f)\n",
    "\n",
    "Gens = [Letter.new] + alphabet.map{|x| Letter.new(x)}\n",
    "Gens.freeze\n",
    "p Gens[1..-1].map(&:show)\n",
    "\n",
    "a = [Gens[0]] + Gens[1..-1].each_slice(2).map(&:first)\n",
    "b = [Gens[0]] + Gens[1..-1].each_slice(2).map(&:last)\n",
    "p a.map(&:show)\n",
    "nil"
   ]
  },
  {
   "cell_type": "code",
   "execution_count": 3,
   "metadata": {
    "ExecuteTime": {
     "end_time": "2019-05-15T09:08:22.215731Z",
     "start_time": "2019-05-15T09:08:22.192Z"
    }
   },
   "outputs": [
    {
     "name": "stdout",
     "output_type": "stream",
     "text": [
      "[\"1111\", \"abAB\", \"cdCD\", \"efEF\"]\n"
     ]
    },
    {
     "data": {
      "text/plain": [
       "[\"1111\", \"abAB\", \"cdCD\", \"efEF\"]"
      ]
     },
     "execution_count": 3,
     "metadata": {},
     "output_type": "execute_result"
    }
   ],
   "source": [
    "comms = []\n",
    "(Gens.size/2 + 1).times do |i|\n",
    "  comms << Group.commutator(a[i], b[i])\n",
    "end\n",
    "p comms.map(&:show)"
   ]
  },
  {
   "cell_type": "code",
   "execution_count": 4,
   "metadata": {
    "ExecuteTime": {
     "end_time": "2019-05-15T09:08:22.221516Z",
     "start_time": "2019-05-15T09:08:22.197Z"
    }
   },
   "outputs": [
    {
     "name": "stdout",
     "output_type": "stream",
     "text": [
      "\"Del = (((abAB)(cdCD))(efEF))(s)\"\n",
      "[\"bABcdCDefEFsa\", \"ASfeFEdcDCbaB\", \"ABcdCDefEFsab\", \"BASfeFEdcDCba\", \"BcdCDefEFsabA\", \"aBASfeFEdcDCb\", \"cdCDefEFsabAB\", \"baBASfeFEdcDC\", \"dCDefEFsabABc\", \"CbaBASfeFEdcD\", \"CDefEFsabABcd\", \"DCbaBASfeFEdc\", \"DefEFsabABcdC\", \"cDCbaBASfeFEd\", \"efEFsabABcdCD\", \"dcDCbaBASfeFE\", \"fEFsabABcdCDe\", \"EdcDCbaBASfeF\", \"EFsabABcdCDef\", \"FEdcDCbaBASfe\", \"FsabABcdCDefE\", \"eFEdcDCbaBASf\", \"sabABcdCDefEF\", \"feFEdcDCbaBAS\", \"abABcdCDefEFs\", \"SfeFEdcDCbaBA\"]\n"
     ]
    }
   ],
   "source": [
    "Del = (comms[1]*comms[2]*comms[3]*Word.new('s')).freeze\n",
    "p 'Del = ' + Del.show\n",
    "\n",
    "DelPerms = []\n",
    "perm = Del.dup\n",
    "(Del.size).times do |n|\n",
    "  perm = perm.cyclic_permutation\n",
    "  DelPerms << perm << perm.inverse\n",
    "end\n",
    "DelPerms.freeze\n",
    "p DelPerms.map(&:show)\n",
    "nil"
   ]
  },
  {
   "cell_type": "code",
   "execution_count": 5,
   "metadata": {
    "ExecuteTime": {
     "end_time": "2019-05-15T09:08:22.235737Z",
     "start_time": "2019-05-15T09:08:22.203Z"
    }
   },
   "outputs": [
    {
     "name": "stderr",
     "output_type": "stream",
     "text": [
      "<main>:2: warning: already initialized constant Rseq\n",
      "<main>:2: warning: already initialized constant Rseq\n",
      "<main>:2: warning: previous definition of Rseq was here\n",
      "<main>:2: warning: already initialized constant Rseq\n",
      "<main>:2: warning: previous definition of Rseq was here\n"
     ]
    },
    {
     "name": "stdout",
     "output_type": "stream",
     "text": [
      "[\"a\", \"B\", \"A\", \"b\", \"c\", \"D\", \"C\", \"d\", \"e\", \"F\", \"E\", \"f\"]\n"
     ]
    }
   ],
   "source": [
    "Rseq = []\n",
    "(Gens.size/2).times do |i|\n",
    "  Rseq += [a[i+1], b[i+1].inverse, a[i+1].inverse, b[i+1]]\n",
    "end\n",
    "Rseq.freeze\n",
    "p Rseq.map(&:show) #.index('A')\n",
    "nil"
   ]
  },
  {
   "cell_type": "markdown",
   "metadata": {},
   "source": [
    "# The Algorithm"
   ]
  },
  {
   "cell_type": "code",
   "execution_count": 6,
   "metadata": {
    "ExecuteTime": {
     "end_time": "2019-05-15T09:08:22.240959Z",
     "start_time": "2019-05-15T09:08:22.208Z"
    }
   },
   "outputs": [
    {
     "name": "stdout",
     "output_type": "stream",
     "text": [
      "\"(abDd)(aBASfeFEd)\"\n"
     ]
    }
   ],
   "source": [
    "w = Word.new('abDd')\n",
    "w = w*DelPerms[5].split(9)[0]\n",
    "p w.show\n",
    "nil"
   ]
  },
  {
   "cell_type": "markdown",
   "metadata": {},
   "source": [
    "### (i) Contracting the word"
   ]
  },
  {
   "cell_type": "code",
   "execution_count": 7,
   "metadata": {
    "ExecuteTime": {
     "end_time": "2019-05-15T09:08:22.246581Z",
     "start_time": "2019-05-15T09:08:22.214Z"
    }
   },
   "outputs": [
    {
     "data": {
      "text/plain": [
       "\"abaBASfeFEd\""
      ]
     },
     "execution_count": 7,
     "metadata": {},
     "output_type": "execute_result"
    }
   ],
   "source": [
    "# (i) contract\n",
    "reduced = w.contract.dup\n",
    "reduced.show"
   ]
  },
  {
   "cell_type": "markdown",
   "metadata": {},
   "source": [
    "### (ii) removing subwords"
   ]
  },
  {
   "cell_type": "code",
   "execution_count": 8,
   "metadata": {
    "ExecuteTime": {
     "end_time": "2019-05-15T09:08:22.247744Z",
     "start_time": "2019-05-15T09:08:22.220Z"
    }
   },
   "outputs": [],
   "source": [
    "def reduce_once(myw)\n",
    "  facs = myw.flatten.factors\n",
    "  (myw.size+1).times do |i|\n",
    "    w1 = Word.new(facs[0,i])\n",
    "    w2 = Word.new(facs.drop(i))\n",
    "    original_size = myw.size\n",
    "    for perm in DelPerms\n",
    "      wc = (w1*perm*w2).deep_copy.contract\n",
    "      if (wc.size < original_size) then\n",
    "        myw = wc \n",
    "        break\n",
    "      end\n",
    "    end\n",
    "    if (myw.size < original_size) then\n",
    "      return myw\n",
    "      break\n",
    "    end\n",
    "  end\n",
    "  return nil    \n",
    "end\n",
    "    \n",
    "def reduce(myword)\n",
    "  while not myword.nil?\n",
    "    prev = myword\n",
    "    myword = reduce_once(myword)\n",
    "  end\n",
    "  return prev.contract\n",
    "end\n",
    "nil"
   ]
  },
  {
   "cell_type": "code",
   "execution_count": 9,
   "metadata": {
    "ExecuteTime": {
     "end_time": "2019-05-15T09:08:22.269650Z",
     "start_time": "2019-05-15T09:08:22.225Z"
    }
   },
   "outputs": [
    {
     "name": "stdout",
     "output_type": "stream",
     "text": [
      "\"w = abaBASfeFEd and w.size = 11\"\n",
      "\"acdC\"\n"
     ]
    },
    {
     "data": {
      "text/plain": [
       "\"acdC\""
      ]
     },
     "execution_count": 9,
     "metadata": {},
     "output_type": "execute_result"
    }
   ],
   "source": [
    "p 'w = ' + w.show + ' and w.size = ' + w.size.to_s\n",
    "p reduce(w).show"
   ]
  },
  {
   "cell_type": "markdown",
   "metadata": {},
   "source": [
    "### (iii) removing subwords part2"
   ]
  },
  {
   "cell_type": "code",
   "execution_count": 10,
   "metadata": {
    "ExecuteTime": {
     "end_time": "2019-05-15T09:08:22.276931Z",
     "start_time": "2019-05-15T09:08:22.231Z"
    }
   },
   "outputs": [],
   "source": [
    "# not necessary?"
   ]
  },
  {
   "cell_type": "markdown",
   "metadata": {},
   "source": [
    "## The algorithm"
   ]
  },
  {
   "cell_type": "code",
   "execution_count": 11,
   "metadata": {
    "ExecuteTime": {
     "end_time": "2019-05-15T09:08:22.300659Z",
     "start_time": "2019-05-15T09:08:22.237Z"
    },
    "scrolled": false
   },
   "outputs": [
    {
     "name": "stdout",
     "output_type": "stream",
     "text": [
      "\"a: 2\"\n",
      "\"A: 1\"\n",
      "\"b: 1\"\n",
      "\"B: 1\"\n",
      "\"c: 0\"\n",
      "\"C: 0\"\n",
      "\"d: 1\"\n",
      "\"D: 0\"\n",
      "\"e: 1\"\n",
      "\"E: 1\"\n",
      "\"f: 1\"\n",
      "\"F: 1\"\n",
      "\"s: 0\"\n",
      "\"S: 1\"\n"
     ]
    }
   ],
   "source": [
    "gens_ex = Gens + [Letter.new('s')]\n",
    "for g in gens_ex[1..-1]\n",
    "  p g.show + ': ' + w.count(g).to_s\n",
    "  p g.inverse.show + ': ' + w.count(g.inverse).to_s\n",
    "end;nil"
   ]
  },
  {
   "cell_type": "code",
   "execution_count": 12,
   "metadata": {
    "ExecuteTime": {
     "end_time": "2019-05-15T09:08:22.305337Z",
     "start_time": "2019-05-15T09:08:22.243Z"
    }
   },
   "outputs": [],
   "source": [
    "def N(w, gens)\n",
    "  gens.map{|g| w.count(g)}.inject(0, &:+)\n",
    "end;nil"
   ]
  },
  {
   "cell_type": "code",
   "execution_count": 13,
   "metadata": {
    "ExecuteTime": {
     "end_time": "2019-05-15T09:08:22.312866Z",
     "start_time": "2019-05-15T09:08:22.247Z"
    }
   },
   "outputs": [
    {
     "data": {
      "text/plain": [
       ":P"
      ]
     },
     "execution_count": 13,
     "metadata": {},
     "output_type": "execute_result"
    }
   ],
   "source": [
    "def P(w)\n",
    "  count = 0\n",
    "  facs = w.flatten.factors\n",
    "  facs.each_with_index do |f, i|\n",
    "    succ = (i < facs.size - 1) ? facs[i+1] : facs[0]\n",
    "    pair = [f.inverse, succ]\n",
    "    # p pair.map(&:show)\n",
    "    idxs = pair.map{|f| Rseq.find_index(f)}\n",
    "    # p idxs\n",
    "    count += 1 if idxs[0] < idxs[1]\n",
    "  end\n",
    "  return count\n",
    "end"
   ]
  },
  {
   "cell_type": "code",
   "execution_count": 14,
   "metadata": {
    "ExecuteTime": {
     "end_time": "2019-05-15T09:08:22.314853Z",
     "start_time": "2019-05-15T09:08:22.252Z"
    }
   },
   "outputs": [
    {
     "name": "stdout",
     "output_type": "stream",
     "text": [
      "\"w = aD, div = [\\\"a\\\", \\\"D\\\"], ww = (a)(d)\"\n"
     ]
    }
   ],
   "source": [
    "myw = Word.new(a[1], b[2].inverse).contract\n",
    "subs = myw.split(1)\n",
    "ww = subs[0]*(subs[1].inverse)\n",
    "p \"w = #{myw.show}, div = #{subs.map(&:show)}, ww = #{ww.show}\"\n",
    "\n",
    "ww.flatten!\n",
    "nil"
   ]
  },
  {
   "cell_type": "code",
   "execution_count": 15,
   "metadata": {
    "ExecuteTime": {
     "end_time": "2019-05-15T09:08:22.316586Z",
     "start_time": "2019-05-15T09:08:22.259Z"
    }
   },
   "outputs": [
    {
     "data": {
      "text/plain": [
       ":T"
      ]
     },
     "execution_count": 15,
     "metadata": {},
     "output_type": "execute_result"
    }
   ],
   "source": [
    "def T(w, verbose=false)\n",
    "  w.flatten!\n",
    "  ais = Gens[1..-1].each_slice(2).map(&:first).map!(&:inverse)\n",
    "  bs = Gens[1..-1].each_slice(2).map(&:last)\n",
    "  si = [Letter.new('S')]\n",
    "  \n",
    "  result = P(w)-N(w, ais+bs+si)\n",
    "  return (!verbose) ? result : result.to_s + \"  [P=#{P(w)}, A_bar=#{N(w, ais)}, B=#{N(w, bs)}, S_bar=#{N(w, si)}]\"\n",
    "end"
   ]
  },
  {
   "cell_type": "code",
   "execution_count": 16,
   "metadata": {
    "ExecuteTime": {
     "end_time": "2019-05-15T09:08:22.318310Z",
     "start_time": "2019-05-15T09:08:22.265Z"
    }
   },
   "outputs": [
    {
     "name": "stdout",
     "output_type": "stream",
     "text": [
      "\"w = aD, div = [\\\"a\\\", \\\"D\\\"], ww = (a)(d)\"\n",
      "\"T(w) = 0  [P=1, A_bar=0, B=1, S_bar=0]\"\n"
     ]
    }
   ],
   "source": [
    "myw = Word.new(a[1], b[2].inverse).contract\n",
    "subs = myw.split(1)\n",
    "ww = subs[0]*(subs[1].inverse)\n",
    "p \"w = #{myw.show}, div = #{subs.map(&:show)}, ww = #{ww.show}\"\n",
    "\n",
    "p \"T(w) = #{T(ww, true)}\"\n",
    "nil"
   ]
  },
  {
   "cell_type": "code",
   "execution_count": 17,
   "metadata": {
    "ExecuteTime": {
     "end_time": "2019-05-15T09:08:22.320006Z",
     "start_time": "2019-05-15T09:08:22.270Z"
    }
   },
   "outputs": [
    {
     "name": "stdout",
     "output_type": "stream",
     "text": [
      "\"abA\"\n",
      "true\n"
     ]
    },
    {
     "data": {
      "text/plain": [
       "3"
      ]
     },
     "execution_count": 17,
     "metadata": {},
     "output_type": "execute_result"
    }
   ],
   "source": [
    "w = Word.new(a[1], b[1], a[1].inverse)\n",
    "p w.show\n",
    "p w.first == w.last.inverse\n",
    "w.factors[1..-2].map(&:show)\n",
    "w.cyclic_permutation(1).contract.show\n",
    "w.size"
   ]
  },
  {
   "cell_type": "code",
   "execution_count": 18,
   "metadata": {
    "ExecuteTime": {
     "end_time": "2019-05-15T09:08:22.408327Z",
     "start_time": "2019-05-15T09:08:22.276Z"
    }
   },
   "outputs": [
    {
     "name": "stdout",
     "output_type": "stream",
     "text": [
      "\"word = abdaBDAA, size = 8, num = 7\"\n",
      "\"word = BAcBAEBeCb, size = 10, num = 9\"\n",
      "\"word = bdBddB, size = 6, num = 5\"\n",
      "\"word = DAEaCAcABd, size = 10, num = 9\"\n",
      "\"word = CecbABdEbc, size = 10, num = 9\"\n",
      "\"word = bEDCBAADEB, size = 10, num = 9\"\n",
      "\"word = cEDC, size = 4, num = 3\"\n",
      "\"word = CdEBecAc, size = 8, num = 7\"\n"
     ]
    }
   ],
   "source": [
    "100.times do |e|\n",
    "  rw = Word.new\n",
    "  10.times do |c|\n",
    "    g = (rand(2)==0) ? Gens[rand(1...6)] : Gens[rand(1...6)].inverse\n",
    "    rw = (rw*Word.new(g)).contract\n",
    "  end\n",
    "  rw.factors.delete(Letter.new)\n",
    "  num = P(rw)+P(rw.inverse)\n",
    "  if num != rw.size \n",
    "    p \"word = #{rw.show}, size = #{rw.size}, num = #{num}\"\n",
    "  end\n",
    "end; nil"
   ]
  },
  {
   "cell_type": "code",
   "execution_count": 19,
   "metadata": {
    "ExecuteTime": {
     "end_time": "2019-05-15T09:08:22.411545Z",
     "start_time": "2019-05-15T09:08:22.281Z"
    }
   },
   "outputs": [],
   "source": [
    "def examine(myw, verbose=false)\n",
    "  flag = 0\n",
    "  results = []\n",
    "  (myw.size-1).times do |j|\n",
    "    wp = myw.cyclic_permutation(j).contract\n",
    "    results[j] = \"wp = #{wp.show} \\n\"\n",
    "\n",
    "    (1...myw.size).each do |i|\n",
    "      div = wp.split(i)\n",
    "      words = [div[0]*(div[1].inverse), div[0].dup, div[1].inverse.dup]\n",
    "      for subw in words\n",
    "        wcp = Group::Identity\n",
    "        while wcp.size < subw.size\n",
    "          subw.factors = wcp.factors unless wcp == Group::Identity\n",
    "          wcp = subw.cyclic_permutation.contract\n",
    "        end\n",
    "      end\n",
    "      v0, v1, v2 = T(words[0]), T(words[1]), T(words[2])\n",
    "      if (verbose or v0 != v1 + v2) then\n",
    "        flag = 1\n",
    "        results[j] += \"#{div.map(&:show)}  --->  \" + \\\n",
    "          \"T(#{words[0].show}) = #{v0}, T(#{words[1]}) + T(#{words[2]}) = #{v1} + #{v2} = #{v1+v2}\" + \\\n",
    "          \"\\n\"\n",
    "      end\n",
    "    end\n",
    "  end\n",
    "  results = \"SIMPLE\" if flag == 0\n",
    "  return (flag==0) ? \"SIMPLE\" : results.join('')\n",
    "end; nil"
   ]
  },
  {
   "cell_type": "code",
   "execution_count": 20,
   "metadata": {
    "ExecuteTime": {
     "end_time": "2019-05-15T09:08:22.428380Z",
     "start_time": "2019-05-15T09:08:22.285Z"
    }
   },
   "outputs": [
    {
     "name": "stdout",
     "output_type": "stream",
     "text": [
      "\"w = (a)(cdCD)\"\n",
      "SIMPLE"
     ]
    }
   ],
   "source": [
    "#myw = Word.new(a[1])*(comms[2].inverse)\n",
    "myw = Word.new(a[1])*comms[2]\n",
    "p \"w = #{myw.show}\"\n",
    "\n",
    "printf examine(myw)"
   ]
  },
  {
   "cell_type": "code",
   "execution_count": 21,
   "metadata": {
    "ExecuteTime": {
     "end_time": "2019-05-15T09:08:22.432265Z",
     "start_time": "2019-05-15T09:08:22.291Z"
    }
   },
   "outputs": [
    {
     "name": "stdout",
     "output_type": "stream",
     "text": [
      "\"myw = (((DB)(ca))(bd))(AC)\"\n"
     ]
    },
    {
     "data": {
      "text/plain": [
       "\"1  [P=5, A_bar=2, B=2, S_bar=0]\""
      ]
     },
     "execution_count": 21,
     "metadata": {},
     "output_type": "execute_result"
    }
   ],
   "source": [
    "w1 = Word.new(b[2].inverse, b[1].inverse).contract\n",
    "w2 = Word.new(a[2], a[1]).contract\n",
    "\n",
    "myw = w1*w2*(w1.inverse)*(w2.inverse)\n",
    "\n",
    "p \"myw = #{myw.show}\"\n",
    "T(myw, true)"
   ]
  },
  {
   "cell_type": "markdown",
   "metadata": {},
   "source": [
    "## Experiments"
   ]
  },
  {
   "cell_type": "markdown",
   "metadata": {},
   "source": [
    "### the words $a_{1}([a_{2},b_{2}]^{c})^{k}$, where $c=b_{1}^{a_{1}}$ and $k \\in \\mathbb{Z}$"
   ]
  },
  {
   "cell_type": "code",
   "execution_count": 22,
   "metadata": {
    "ExecuteTime": {
     "end_time": "2019-05-15T09:08:22.612909Z",
     "start_time": "2019-05-15T09:08:22.297Z"
    }
   },
   "outputs": [
    {
     "name": "stdout",
     "output_type": "stream",
     "text": [
      "\"myw = (a)(((cdCD)(cdCD))(cdCD))\"\n",
      "wp = acdCDcdCDcdCD \n",
      "[\"acdCD\", \"cdCDcdCD\"]  --->  T(dcDCa) = -1, T(acdCD) + T(dcDCdcDC) = 2 + -2 = 0\n",
      "wp = cdCDcdCDcdCDa \n",
      "[\"cdCDcdCD\", \"cdCDa\"]  --->  T(cdCDA) = 1, T(cdCDcdCD) + T(AdcDC) = 2 + -2 = 0\n",
      "wp = dCDcdCDcdCDac \n",
      "[\"dCDcdCDc\", \"dCDac\"]  --->  T(cdCDA) = 1, T(dCDcdCDc) + T(CAdcD) = 2 + -2 = 0\n",
      "wp = CDcdCDcdCDacd \n",
      "[\"CDcdCDcd\", \"CDacd\"]  --->  T(cdCDA) = 1, T(CDcdCDcd) + T(DCAdc) = 2 + -2 = 0\n",
      "wp = DcdCDcdCDacdC \n",
      "[\"DcdCDcdC\", \"DacdC\"]  --->  T(cdCDA) = 1, T(DcdCDcdC) + T(cDCAd) = 2 + -2 = 0\n",
      "wp = cdCDcdCDacdCD \n",
      "[\"cdCDcdCD\", \"acdCD\"]  --->  T(dCDAc) = 1, T(cdCDcdCD) + T(dcDCA) = 2 + -2 = 0\n",
      "wp = dCDcdCDacdCDc \n",
      "wp = CDcdCDacdCDcd \n",
      "wp = DcdCDacdCDcdC \n",
      "wp = cdCDacdCDcdCD \n",
      "[\"cdCDa\", \"cdCDcdCD\"]  --->  T(adcDC) = -1, T(cdCDa) + T(dcDCdcDC) = 2 + -2 = 0\n",
      "wp = dCDacdCDcdCDc \n",
      "[\"dCDac\", \"dCDcdCDc\"]  --->  T(adcDC) = -1, T(dCDac) + T(CdcDCdcD) = 2 + -2 = 0\n",
      "wp = CDacdCDcdCDcd \n",
      "[\"CDacd\", \"CDcdCDcd\"]  --->  T(adcDC) = -1, T(CDacd) + T(DCdcDCdc) = 2 + -2 = 0\n"
     ]
    }
   ],
   "source": [
    "a1 = Word.new(a[1])\n",
    "k=3\n",
    "myw = a1*(comms[2]^k); p \"myw = #{myw.show}\"\n",
    "\n",
    "printf examine(myw)"
   ]
  },
  {
   "cell_type": "code",
   "execution_count": 23,
   "metadata": {
    "ExecuteTime": {
     "end_time": "2019-05-15T09:08:23.103241Z",
     "start_time": "2019-05-15T09:08:22.302Z"
    },
    "code_folding": []
   },
   "outputs": [
    {
     "name": "stdout",
     "output_type": "stream",
     "text": [
      "\"ow = ((((a)(cdCD))((abA)(cdCD)))((abA)(cdCD)))((aBA)(aBA)) = acdCDabAcdCDabAcdCDaBBA\"\n",
      "SIMPLE"
     ]
    }
   ],
   "source": [
    "c = Word.new(a[1], b[1], a[1].inverse)\n",
    "\n",
    "ow = myw.dup.flatten\n",
    "\n",
    "'''\n",
    "(k-1).times do |i|\n",
    "  div = ow.split(5+7*i)\n",
    "  p div.map(&:show)\n",
    "  ow = (div[0]*c*div[1]*(c.inverse)).flatten\n",
    "end\n",
    "'''\n",
    "ow = Word.new(a[1])*comms[2]\n",
    "(k-1).times{|i| ow *= c*comms[2]}\n",
    "ow *= (c.inverse)^(k-1)\n",
    "\n",
    "p \"ow = #{ow.show} = #{ow.contract.show}\"\n",
    "ow = ow.cyclic_permutation.contract\n",
    "\n",
    "printf examine(ow)"
   ]
  },
  {
   "cell_type": "markdown",
   "metadata": {},
   "source": [
    "### the word $a_{1}[a_{2}, a_{3}]$"
   ]
  },
  {
   "cell_type": "code",
   "execution_count": 24,
   "metadata": {
    "ExecuteTime": {
     "end_time": "2019-05-15T09:08:23.118000Z",
     "start_time": "2019-05-15T09:08:22.308Z"
    },
    "scrolled": false
   },
   "outputs": [
    {
     "name": "stdout",
     "output_type": "stream",
     "text": [
      "\"w = aceCE\"\n",
      "wp = aceCE \n",
      "[\"ac\", \"eCE\"]  --->  T(acecE) = 2, T(ac) + T(c) = 1 + 0 = 1\n",
      "[\"ace\", \"CE\"]  --->  T(aceec) = 2, T(ace) + T(ec) = 2 + 1 = 3\n",
      "[\"aceC\", \"E\"]  --->  T(aceCe) = 2, T(aceC) + T(e) = 1 + 0 = 1\n",
      "wp = ceCEa \n",
      "wp = eCEac \n",
      "[\"eCE\", \"ac\"]  --->  T(eCECA) = -2, T(C) + T(CA) = 0 + -1 = -1\n",
      "wp = CEace \n",
      "[\"C\", \"Eace\"]  --->  T(CECAe) = -2, T(C) + T(CA) = 0 + -1 = -1\n",
      "[\"CE\", \"ace\"]  --->  T(CEECA) = -2, T(CE) + T(ECA) = -1 + -2 = -3\n"
     ]
    }
   ],
   "source": [
    "myw = (Word.new(a[1])*Group.commutator(a[2], a[3])).contract\n",
    "p \"w = #{myw.show}\"\n",
    "\n",
    "printf examine(myw)"
   ]
  },
  {
   "cell_type": "code",
   "execution_count": 25,
   "metadata": {
    "ExecuteTime": {
     "end_time": "2019-05-15T09:08:23.466897Z",
     "start_time": "2019-05-15T09:08:22.313Z"
    }
   },
   "outputs": [
    {
     "name": "stdout",
     "output_type": "stream",
     "text": [
      "[\"a\", \"ceCE\"]\n",
      "\"(a)(((abAbaBAB)(ceCE))(babABaBA))\"\n",
      "\"abAbaBABceCEbabABaB\"\n",
      "---------------------------\n",
      "\"Is the loop simple?  -->  false\"\n"
     ]
    }
   ],
   "source": [
    "k = 1\n",
    "div = myw.split(k); p div.map(&:show)\n",
    "\n",
    "abA = Word.new(a[1], b[1], a[1].inverse)\n",
    "gamma = Group.commutator(abA, b[1])\n",
    "ow = div[0]*(gamma*div[1]*(gamma.inverse))\n",
    "p ow.show\n",
    "ow.contract\n",
    "ow = ow.cyclic_permutation(1).contract\n",
    "p ow.show\n",
    "\n",
    "'''\n",
    "#-------------------\n",
    "div = ow.cyclic_permutation(0).split(1)\n",
    "p div.map(&:show)\n",
    "\n",
    "gamma = Group.commutator(a[2], a[3]) #comms[1]\n",
    "ow = div[0]*(gamma*div[1]*(gamma.inverse))\n",
    "ow = ow.cyclic_permutation(2).contract\n",
    "p ow.show\n",
    "'''\n",
    "printf \"---------------------------\\n\"\n",
    "result = examine(ow) \n",
    "p \"Is the loop simple?  -->  #{result == \"SIMPLE\"}\"; nil"
   ]
  },
  {
   "cell_type": "code",
   "execution_count": 26,
   "metadata": {
    "ExecuteTime": {
     "end_time": "2019-05-15T09:08:23.831812Z",
     "start_time": "2019-05-15T09:08:22.318Z"
    }
   },
   "outputs": [
    {
     "name": "stdout",
     "output_type": "stream",
     "text": [
      "\"(((a)(abAcaBAC))(cAC))(cabACaBA)\"\n",
      "\"caBAbACaBabA\"\n",
      "Is the loop simple?  -->  false\n",
      "\n",
      "\"(((ac)(abAcaBAC))(AC))(cabACaBA)\"\n",
      "\"AcaBACbACaBcab\"\n",
      "Is the loop simple?  -->  false\n",
      "\n",
      "\"(((acA)(abAcaBAC))(C))(cabACaBA)\"\n",
      "\"bAcaBACabACaBc\"\n",
      "Is the loop simple?  -->  false\n",
      "\n"
     ]
    }
   ],
   "source": [
    "comm4 = Group.commutator(a[1], a[2])\n",
    "gamma = Group.commutator(c, a[2])\n",
    "\n",
    "(comm4.size-1).times do |i|\n",
    "  div = comm4.split(i+1)\n",
    "  ow = div[0]*gamma*div[1]*(gamma.inverse)\n",
    "  p ow.show\n",
    "  ow = ow.cyclic_permutation(4).contract\n",
    "  p ow.show\n",
    "  \n",
    "  result = examine(ow)\n",
    "  printf \"Is the loop simple?  -->  #{result == \"SIMPLE\"}\\n\\n\"; nil\n",
    "end; nil"
   ]
  },
  {
   "cell_type": "code",
   "execution_count": null,
   "metadata": {},
   "outputs": [],
   "source": []
  }
 ],
 "metadata": {
  "kernelspec": {
   "display_name": "Ruby 2.6.1",
   "language": "ruby",
   "name": "ruby"
  },
  "language_info": {
   "file_extension": ".rb",
   "mimetype": "application/x-ruby",
   "name": "ruby",
   "version": "2.6.1"
  },
  "toc": {
   "base_numbering": 1,
   "nav_menu": {},
   "number_sections": false,
   "sideBar": true,
   "skip_h1_title": true,
   "title_cell": "Table of Contents",
   "title_sidebar": "Contents",
   "toc_cell": false,
   "toc_position": {},
   "toc_section_display": true,
   "toc_window_display": false
  },
  "varInspector": {
   "cols": {
    "lenName": 16,
    "lenType": 16,
    "lenVar": 40
   },
   "kernels_config": {
    "python": {
     "delete_cmd_postfix": "",
     "delete_cmd_prefix": "del ",
     "library": "var_list.py",
     "varRefreshCmd": "print(var_dic_list())"
    },
    "r": {
     "delete_cmd_postfix": ") ",
     "delete_cmd_prefix": "rm(",
     "library": "var_list.r",
     "varRefreshCmd": "cat(var_dic_list()) "
    }
   },
   "types_to_exclude": [
    "module",
    "function",
    "builtin_function_or_method",
    "instance",
    "_Feature"
   ],
   "window_display": false
  }
 },
 "nbformat": 4,
 "nbformat_minor": 2
}
