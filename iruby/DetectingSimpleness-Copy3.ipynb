{
 "cells": [
  {
   "cell_type": "markdown",
   "metadata": {},
   "source": [
    "# Setting the fundarmental group of $\\Sigma_{g,1}$ "
   ]
  },
  {
   "cell_type": "code",
   "execution_count": 1,
   "metadata": {
    "ExecuteTime": {
     "end_time": "2019-05-23T04:31:39.798584Z",
     "start_time": "2019-05-23T04:31:38.938Z"
    }
   },
   "outputs": [
    {
     "data": {
      "text/plain": [
       "true"
      ]
     },
     "execution_count": 1,
     "metadata": {},
     "output_type": "execute_result"
    }
   ],
   "source": [
    "require './freegroup.rb'"
   ]
  },
  {
   "cell_type": "markdown",
   "metadata": {},
   "source": [
    "## generators"
   ]
  },
  {
   "cell_type": "code",
   "execution_count": 2,
   "metadata": {
    "ExecuteTime": {
     "end_time": "2019-05-23T04:31:39.806550Z",
     "start_time": "2019-05-23T04:31:38.941Z"
    }
   },
   "outputs": [
    {
     "name": "stdout",
     "output_type": "stream",
     "text": [
      "[\"a\", \"b\", \"c\", \"d\", \"e\", \"f\"]\n",
      "[\"1\", \"a\", \"c\", \"e\"]\n"
     ]
    }
   ],
   "source": [
    "genus = 3\n",
    "alphabet = %w(a b c d e f)\n",
    "\n",
    "Gens = [Letter.new] + alphabet.map{|x| Letter.new(x)}\n",
    "Gens.freeze\n",
    "p Gens[1..-1].map(&:show)\n",
    "\n",
    "a = [Gens[0]] + Gens[1..-1].each_slice(2).map(&:first)\n",
    "b = [Gens[0]] + Gens[1..-1].each_slice(2).map(&:last)\n",
    "p a.map(&:show)\n",
    "nil"
   ]
  },
  {
   "cell_type": "code",
   "execution_count": 3,
   "metadata": {
    "ExecuteTime": {
     "end_time": "2019-05-23T04:31:39.813311Z",
     "start_time": "2019-05-23T04:31:38.944Z"
    }
   },
   "outputs": [
    {
     "name": "stdout",
     "output_type": "stream",
     "text": [
      "[\"1111\", \"abAB\", \"cdCD\", \"efEF\"]\n"
     ]
    },
    {
     "data": {
      "text/plain": [
       "[\"1111\", \"abAB\", \"cdCD\", \"efEF\"]"
      ]
     },
     "execution_count": 3,
     "metadata": {},
     "output_type": "execute_result"
    }
   ],
   "source": [
    "comms = []\n",
    "(Gens.size/2 + 1).times do |i|\n",
    "  comms << Group.commutator(a[i], b[i])\n",
    "end\n",
    "p comms.map(&:show)"
   ]
  },
  {
   "cell_type": "code",
   "execution_count": 4,
   "metadata": {
    "ExecuteTime": {
     "end_time": "2019-05-23T04:31:39.815734Z",
     "start_time": "2019-05-23T04:31:38.948Z"
    }
   },
   "outputs": [
    {
     "name": "stderr",
     "output_type": "stream",
     "text": [
      "<main>:2: warning: already initialized constant Rseq\n",
      "<main>:2: warning: already initialized constant Rseq\n",
      "<main>:2: warning: previous definition of Rseq was here\n",
      "<main>:2: warning: already initialized constant Rseq\n",
      "<main>:2: warning: previous definition of Rseq was here\n"
     ]
    },
    {
     "name": "stdout",
     "output_type": "stream",
     "text": [
      "[\"a\", \"B\", \"A\", \"b\", \"c\", \"D\", \"C\", \"d\", \"e\", \"F\", \"E\", \"f\"]\n"
     ]
    }
   ],
   "source": [
    "Rseq = []\n",
    "(Gens.size/2).times do |i|\n",
    "  Rseq += [a[i+1], b[i+1].inverse, a[i+1].inverse, b[i+1]]\n",
    "end\n",
    "Rseq.freeze\n",
    "p Rseq.map(&:show) #.index('A')\n",
    "nil"
   ]
  },
  {
   "cell_type": "markdown",
   "metadata": {},
   "source": [
    "# The Algorithm"
   ]
  },
  {
   "cell_type": "code",
   "execution_count": 20,
   "metadata": {
    "ExecuteTime": {
     "end_time": "2019-05-23T04:37:15.491761Z",
     "start_time": "2019-05-23T04:37:14.630Z"
    }
   },
   "outputs": [
    {
     "data": {
      "text/plain": [
       ":sign"
      ]
     },
     "execution_count": 20,
     "metadata": {},
     "output_type": "execute_result"
    }
   ],
   "source": [
    "class Wcode < Hash\n",
    "  def initialize(word = Group::Identity)\n",
    "    @word = word\n",
    "    Rseq.each{|x| self.store(x.char, [])}\n",
    "    if word != Group::Identity\n",
    "      word.flatten.factors.each_with_index do |c, i|\n",
    "        k = i\n",
    "        self[c.char].insert(-1, 2*k)\n",
    "        self[c.inverse.char].insert(0,2*k+1)\n",
    "      end\n",
    "    end\n",
    "  end\n",
    "  attr_reader :word\n",
    "  \n",
    "  def show()\n",
    "    self.values.map(&:to_s).join\n",
    "  end\n",
    "  def to_a()\n",
    "    self.values.flatten\n",
    "  end\n",
    "  def size()\n",
    "    self.to_a.size\n",
    "  end\n",
    "  #---\n",
    "  def four_tuple(odd_nums)\n",
    "    arr = [odd_nums[0], odd_nums[0]+1, odd_nums[1], (odd_nums[1]+1)%self.size]\n",
    "    FourTuple.new(self.to_a.select{|n| arr.include?(n)}, self.size)\n",
    "  end\n",
    "  #---\n",
    "  def devide(odd_nums)\n",
    "    facs = []\n",
    "    facs[0] = self.map{|key, arr| [key, arr.select{|x| x <= odd_nums[0] or odd_nums[1] < x}]}.to_h\n",
    "    facs[1] = self.map{|key, arr| [key, arr.select{|x| odd_nums[0] < x and x <= odd_nums[1]}]}.to_h\n",
    "    facs.map! do |f|\n",
    "      wc = self.class.new\n",
    "      f.each{|k,a| wc.store(k, a)}\n",
    "      wc\n",
    "    end\n",
    "    return facs\n",
    "  end\n",
    "  #---\n",
    "end; nil\n",
    "\n",
    "class FourTuple < Array\n",
    "  def initialize(arr, mod)\n",
    "    @modulo = mod\n",
    "    4.times{|i| self[i] = arr[i]}\n",
    "    @odd_nums = self.select{|n| n.odd?}.sort\n",
    "  end\n",
    "  \n",
    "  def linking?\n",
    "    odd1 = @odd_nums[0]\n",
    "    (self.index(odd1) - self.index(odd1+1) + 1).odd? \n",
    "  end\n",
    "  def sign\n",
    "    odd1 = @odd_nums[0]\n",
    "    idx = self.index(odd1)\n",
    "    sign0 = (idx < self.index(odd1+1)) ? 1 : -1\n",
    "    sign2 = self[idx+1].even? ? 1 : -1\n",
    "    sign = sign0*sign2\n",
    "  end\n",
    "end"
   ]
  },
  {
   "cell_type": "code",
   "execution_count": 22,
   "metadata": {
    "ExecuteTime": {
     "end_time": "2019-05-23T04:37:22.191415Z",
     "start_time": "2019-05-23T04:37:21.326Z"
    }
   },
   "outputs": [
    {
     "name": "stdout",
     "output_type": "stream",
     "text": [
      "[\"[5, 0][6][1, 4][7][][][][][][][][]\", \"[][3][][2][][][][][][][][]\"]\n"
     ]
    }
   ],
   "source": [
    "myw = comms[1]\n",
    "wcode = Wcode.new(myw)\n",
    "p wcode.devide([1,3]).map(&:show)\n",
    "nil"
   ]
  },
  {
   "cell_type": "code",
   "execution_count": 7,
   "metadata": {
    "ExecuteTime": {
     "end_time": "2019-05-23T04:31:39.833217Z",
     "start_time": "2019-05-23T04:31:38.959Z"
    }
   },
   "outputs": [
    {
     "data": {
      "text/plain": [
       "\"abAB\""
      ]
     },
     "execution_count": 7,
     "metadata": {},
     "output_type": "execute_result"
    }
   ],
   "source": [
    "#myw = Word.new(a[1], b[2].inverse)\n",
    "#myw = Word.new(a[1])^3\n",
    "c = Word.new(a[1], b[1], a[1].inverse); myw = c\n",
    "myw = comms[1]\n",
    "#myw = Word.new(a[1])*(comms[2]^2)\n",
    "#myw = Word.new(a[1])*comms[2]*c*comms[2]*(c.inverse)\n",
    "myw.show"
   ]
  },
  {
   "cell_type": "code",
   "execution_count": 8,
   "metadata": {
    "ExecuteTime": {
     "end_time": "2019-05-23T04:32:10.880281Z",
     "start_time": "2019-05-23T04:31:38.963Z"
    },
    "code_folding": []
   },
   "outputs": [
    {
     "ename": "Interrupt",
     "evalue": "",
     "output_type": "error",
     "traceback": [
      "\u001b[31mInterrupt\u001b[0m: ",
      "\u001b[37m<main>:9:in `block in initialize'\u001b[0m",
      "\u001b[37m<main>:5:in `each'\u001b[0m",
      "\u001b[37m<main>:5:in `each_with_index'\u001b[0m",
      "\u001b[37m<main>:5:in `initialize'\u001b[0m",
      "\u001b[37m<main>:in `new'\u001b[0m",
      "\u001b[37m<main>:in `<main>'\u001b[0m",
      "\u001b[37m/home/ryosuke/.rbenv/versions/2.5.1/lib/ruby/gems/2.5.0/gems/iruby-0.3/lib/iruby/backend.rb:44:in `eval'\u001b[0m",
      "\u001b[37m/home/ryosuke/.rbenv/versions/2.5.1/lib/ruby/gems/2.5.0/gems/iruby-0.3/lib/iruby/backend.rb:44:in `eval'\u001b[0m",
      "\u001b[37m/home/ryosuke/.rbenv/versions/2.5.1/lib/ruby/gems/2.5.0/gems/iruby-0.3/lib/iruby/backend.rb:12:in `eval'\u001b[0m",
      "\u001b[37m/home/ryosuke/.rbenv/versions/2.5.1/lib/ruby/gems/2.5.0/gems/iruby-0.3/lib/iruby/kernel.rb:87:in `execute_request'\u001b[0m",
      "\u001b[37m/home/ryosuke/.rbenv/versions/2.5.1/lib/ruby/gems/2.5.0/gems/iruby-0.3/lib/iruby/kernel.rb:47:in `dispatch'\u001b[0m",
      "\u001b[37m/home/ryosuke/.rbenv/versions/2.5.1/lib/ruby/gems/2.5.0/gems/iruby-0.3/lib/iruby/kernel.rb:37:in `run'\u001b[0m",
      "\u001b[37m/home/ryosuke/.rbenv/versions/2.5.1/lib/ruby/gems/2.5.0/gems/iruby-0.3/lib/iruby/command.rb:70:in `run_kernel'\u001b[0m",
      "\u001b[37m/home/ryosuke/.rbenv/versions/2.5.1/lib/ruby/gems/2.5.0/gems/iruby-0.3/lib/iruby/command.rb:34:in `run'\u001b[0m",
      "\u001b[37m/home/ryosuke/.rbenv/versions/2.5.1/lib/ruby/gems/2.5.0/gems/iruby-0.3/bin/iruby:5:in `<top (required)>'\u001b[0m",
      "\u001b[37m/home/ryosuke/.rbenv/versions/2.5.1/bin/iruby:23:in `load'\u001b[0m",
      "\u001b[37m/home/ryosuke/.rbenv/versions/2.5.1/bin/iruby:23:in `<main>'\u001b[0m"
     ]
    }
   ],
   "source": [
    "wcode = Wcode.new(myw)\n",
    "p myw.show, wcode.show\n",
    "\n",
    "odd_pairs=(1..wcode.size/2).to_a.map{|x| 2*x-1}.combination(2)\n",
    "\n",
    "#--------------------------------------\n",
    "coprods = odd_pairs.map do |odds|\n",
    "  order = wcode.four_tuple(odds)\n",
    "  {order: order, linking: order.linking?, sign: order.sign} #, factors: factors, prewords: prewords, words: words}\n",
    "end\n",
    "#--------------------------------------\n",
    "\n",
    "#--------------------------------------\n",
    "coprods.select{|h| h[:linking]}.each do |h|\n",
    "  p \"#{h[:order]}\"\n",
    "#  p \"#{h[:linking]}\"\n",
    "  p \"#{h[:sign]}\"\n",
    "# strings = h[:factors].map{|f| f.values.map(&:to_s).join}\n",
    "#  p strings.join(\" , \")\n",
    "#  p h[:prewords].join(\" , \")\n",
    "#  p ((h[:sign]==1) ? \"+\" : \"-\") + h[:words].join(\"(x)\")\n",
    "  printf(\".....\\n\")\n",
    "end\n",
    "#--------------------------------------\n",
    "nil"
   ]
  },
  {
   "cell_type": "code",
   "execution_count": 9,
   "metadata": {
    "ExecuteTime": {
     "end_time": "2019-05-23T04:32:10.882468Z",
     "start_time": "2019-05-23T04:31:38.967Z"
    },
    "code_folding": [],
    "scrolled": false
   },
   "outputs": [
    {
     "ename": "SyntaxError",
     "evalue": "<main>:23: syntax error, unexpected keyword_end, expecting end-of-input",
     "output_type": "error",
     "traceback": [
      "\u001b[31mSyntaxError\u001b[0m: <main>:23: syntax error, unexpected keyword_end, expecting end-of-input",
      "\u001b[37m/home/ryosuke/.rbenv/versions/2.5.1/lib/ruby/gems/2.5.0/gems/iruby-0.3/lib/iruby/backend.rb:44:in `eval'\u001b[0m",
      "\u001b[37m/home/ryosuke/.rbenv/versions/2.5.1/lib/ruby/gems/2.5.0/gems/iruby-0.3/lib/iruby/backend.rb:44:in `eval'\u001b[0m",
      "\u001b[37m/home/ryosuke/.rbenv/versions/2.5.1/lib/ruby/gems/2.5.0/gems/iruby-0.3/lib/iruby/backend.rb:12:in `eval'\u001b[0m",
      "\u001b[37m/home/ryosuke/.rbenv/versions/2.5.1/lib/ruby/gems/2.5.0/gems/iruby-0.3/lib/iruby/kernel.rb:87:in `execute_request'\u001b[0m",
      "\u001b[37m/home/ryosuke/.rbenv/versions/2.5.1/lib/ruby/gems/2.5.0/gems/iruby-0.3/lib/iruby/kernel.rb:47:in `dispatch'\u001b[0m",
      "\u001b[37m/home/ryosuke/.rbenv/versions/2.5.1/lib/ruby/gems/2.5.0/gems/iruby-0.3/lib/iruby/kernel.rb:37:in `run'\u001b[0m",
      "\u001b[37m/home/ryosuke/.rbenv/versions/2.5.1/lib/ruby/gems/2.5.0/gems/iruby-0.3/lib/iruby/command.rb:70:in `run_kernel'\u001b[0m",
      "\u001b[37m/home/ryosuke/.rbenv/versions/2.5.1/lib/ruby/gems/2.5.0/gems/iruby-0.3/lib/iruby/command.rb:34:in `run'\u001b[0m",
      "\u001b[37m/home/ryosuke/.rbenv/versions/2.5.1/lib/ruby/gems/2.5.0/gems/iruby-0.3/bin/iruby:5:in `<top (required)>'\u001b[0m",
      "\u001b[37m/home/ryosuke/.rbenv/versions/2.5.1/bin/iruby:23:in `load'\u001b[0m",
      "\u001b[37m/home/ryosuke/.rbenv/versions/2.5.1/bin/iruby:23:in `<main>'\u001b[0m"
     ]
    }
   ],
   "source": [
    "  \n",
    "   # contract fac1 & fac2\n",
    "  #\n",
    "  # shift numbers in fac1 & fac2\n",
    "  factors = [fac1, fac2].map do |f|\n",
    "    sorted = f.values.flatten.sort\n",
    "    f.map{|key, arr| [key, arr.map{|v| sorted.index(v)}]}.to_h\n",
    "  end\n",
    "  # code --> word\n",
    "  prewords = [fac1, fac2].map do |f|\n",
    "    chars = (0..size/2).to_a.map{|i| f.map{|key, arr| key if arr.include?(2*i)}.join}\n",
    "     Word.new(chars.join)\n",
    "  end\n",
    "  words = prewords.map do |ww|\n",
    "    ww = ww.dup.contract \n",
    "    wcp = Group::Identity\n",
    "    while (wcp.size < ww.size)\n",
    "      ww.factors = wcp.factors unless wcp == Group::Identity\n",
    "      wcp = ww.cyclic_permutation.contract\n",
    "    end\n",
    "    ww\n",
    "  end\n",
    "  {pair: pair, order: order, parity: parity, sign: sign, factors: factors, prewords: prewords, words: words}\n",
    "end\n",
    "printf(\"----------------------\\n\")\n",
    "\n"
   ]
  },
  {
   "cell_type": "markdown",
   "metadata": {},
   "source": [
    "### TODO\n",
    "$[a_{1},b_{1}]$ の処理において、\n",
    "* [ ] [5, 0, 6, 7] の sign が正しくないようだ。\n",
    "* [ ] a(x)A の集計もおかしい。"
   ]
  },
  {
   "cell_type": "code",
   "execution_count": 10,
   "metadata": {
    "ExecuteTime": {
     "end_time": "2019-05-23T04:32:10.883607Z",
     "start_time": "2019-05-23T04:31:38.970Z"
    }
   },
   "outputs": [
    {
     "data": {
      "text/plain": [
       "\"\\nprintf(\\\"----------------------\\\\n\\\")\\ncprds = coprods.delete_if{|prd| prd[:parity] == \\\"even\\\"}\\n\\ni = 0\\nwhile cprds.size > 0\\n  collection = [cprds.pop]\\n  collection += cprds.select{|other| other[:words] == collection[0][:words]}\\n#  p collection.map{|h| ((h[:sign]==1) ? \\\"+\\\" : \\\"-\\\") + \\\"\\#{h[:words].map(&:show).join(\\\"(x)\\\")}\\\" }.join(\\\" \\\")\\n  coeff = collection.map{|h| h[:sign]}.sum\\n  term = collection[0][:words].map(&:show).join(\\\"(x)\\\")\\n  p case coeff \\n    when 0 then \\\"0\\\"\\n    when 1 then term\\n    else coeff.to_s + \\\"*\\\" + term\\n  end\\n\\n  cprds = cprds.delete_if{|h| h[:words] == collection[0][:words]}\\nend \\n\""
      ]
     },
     "execution_count": 10,
     "metadata": {},
     "output_type": "execute_result"
    }
   ],
   "source": [
    "'''\n",
    "printf(\"----------------------\\n\")\n",
    "cprds = coprods.delete_if{|prd| prd[:parity] == \"even\"}\n",
    "\n",
    "i = 0\n",
    "while cprds.size > 0\n",
    "  collection = [cprds.pop]\n",
    "  collection += cprds.select{|other| other[:words] == collection[0][:words]}\n",
    "#  p collection.map{|h| ((h[:sign]==1) ? \"+\" : \"-\") + \"#{h[:words].map(&:show).join(\"(x)\")}\" }.join(\" \")\n",
    "  coeff = collection.map{|h| h[:sign]}.sum\n",
    "  term = collection[0][:words].map(&:show).join(\"(x)\")\n",
    "  p case coeff \n",
    "    when 0 then \"0\"\n",
    "    when 1 then term\n",
    "    else coeff.to_s + \"*\" + term\n",
    "  end\n",
    "\n",
    "  cprds = cprds.delete_if{|h| h[:words] == collection[0][:words]}\n",
    "end \n",
    "'''"
   ]
  }
 ],
 "metadata": {
  "kernelspec": {
   "display_name": "Ruby 2.5.1",
   "language": "ruby",
   "name": "ruby"
  },
  "language_info": {
   "file_extension": ".rb",
   "mimetype": "application/x-ruby",
   "name": "ruby",
   "version": "2.5.1"
  },
  "toc": {
   "base_numbering": 1,
   "nav_menu": {},
   "number_sections": false,
   "sideBar": true,
   "skip_h1_title": true,
   "title_cell": "Table of Contents",
   "title_sidebar": "Contents",
   "toc_cell": false,
   "toc_position": {},
   "toc_section_display": true,
   "toc_window_display": false
  },
  "varInspector": {
   "cols": {
    "lenName": 16,
    "lenType": 16,
    "lenVar": 40
   },
   "kernels_config": {
    "python": {
     "delete_cmd_postfix": "",
     "delete_cmd_prefix": "del ",
     "library": "var_list.py",
     "varRefreshCmd": "print(var_dic_list())"
    },
    "r": {
     "delete_cmd_postfix": ") ",
     "delete_cmd_prefix": "rm(",
     "library": "var_list.r",
     "varRefreshCmd": "cat(var_dic_list()) "
    }
   },
   "types_to_exclude": [
    "module",
    "function",
    "builtin_function_or_method",
    "instance",
    "_Feature"
   ],
   "window_display": false
  }
 },
 "nbformat": 4,
 "nbformat_minor": 2
}
