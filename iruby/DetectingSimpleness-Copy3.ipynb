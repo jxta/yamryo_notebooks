{
 "cells": [
  {
   "cell_type": "markdown",
   "metadata": {},
   "source": [
    "# Setting the fundarmental group of $\\Sigma_{g,1}$ "
   ]
  },
  {
   "cell_type": "code",
   "execution_count": 1,
   "metadata": {
    "ExecuteTime": {
     "end_time": "2019-05-18T18:15:40.295445Z",
     "start_time": "2019-05-18T18:15:40.288Z"
    }
   },
   "outputs": [
    {
     "data": {
      "text/plain": [
       "true"
      ]
     },
     "execution_count": 1,
     "metadata": {},
     "output_type": "execute_result"
    }
   ],
   "source": [
    "require './freegroup.rb'"
   ]
  },
  {
   "cell_type": "markdown",
   "metadata": {},
   "source": [
    "## generators"
   ]
  },
  {
   "cell_type": "code",
   "execution_count": 2,
   "metadata": {
    "ExecuteTime": {
     "end_time": "2019-05-18T18:15:56.368701Z",
     "start_time": "2019-05-18T18:15:56.355Z"
    }
   },
   "outputs": [
    {
     "name": "stdout",
     "output_type": "stream",
     "text": [
      "[\"a\", \"b\", \"c\", \"d\", \"e\", \"f\"]\n",
      "[\"1\", \"a\", \"c\", \"e\"]\n"
     ]
    }
   ],
   "source": [
    "genus = 3\n",
    "alphabet = %w(a b c d e f)\n",
    "\n",
    "Gens = [Letter.new] + alphabet.map{|x| Letter.new(x)}\n",
    "Gens.freeze\n",
    "p Gens[1..-1].map(&:show)\n",
    "\n",
    "a = [Gens[0]] + Gens[1..-1].each_slice(2).map(&:first)\n",
    "b = [Gens[0]] + Gens[1..-1].each_slice(2).map(&:last)\n",
    "p a.map(&:show)\n",
    "nil"
   ]
  },
  {
   "cell_type": "code",
   "execution_count": 3,
   "metadata": {
    "ExecuteTime": {
     "end_time": "2019-05-18T18:16:04.134273Z",
     "start_time": "2019-05-18T18:16:04.124Z"
    }
   },
   "outputs": [
    {
     "name": "stdout",
     "output_type": "stream",
     "text": [
      "[\"1111\", \"abAB\", \"cdCD\", \"efEF\"]\n"
     ]
    },
    {
     "data": {
      "text/plain": [
       "[\"1111\", \"abAB\", \"cdCD\", \"efEF\"]"
      ]
     },
     "execution_count": 3,
     "metadata": {},
     "output_type": "execute_result"
    }
   ],
   "source": [
    "comms = []\n",
    "(Gens.size/2 + 1).times do |i|\n",
    "  comms << Group.commutator(a[i], b[i])\n",
    "end\n",
    "p comms.map(&:show)"
   ]
  },
  {
   "cell_type": "code",
   "execution_count": 4,
   "metadata": {
    "ExecuteTime": {
     "end_time": "2019-05-18T18:16:28.217400Z",
     "start_time": "2019-05-18T18:16:28.207Z"
    }
   },
   "outputs": [
    {
     "name": "stderr",
     "output_type": "stream",
     "text": [
      "<main>:2: warning: already initialized constant Rseq\n",
      "<main>:2: warning: already initialized constant Rseq\n",
      "<main>:2: warning: previous definition of Rseq was here\n",
      "<main>:2: warning: already initialized constant Rseq\n",
      "<main>:2: warning: previous definition of Rseq was here\n"
     ]
    },
    {
     "name": "stdout",
     "output_type": "stream",
     "text": [
      "[\"a\", \"B\", \"A\", \"b\", \"c\", \"D\", \"C\", \"d\", \"e\", \"F\", \"E\", \"f\"]\n"
     ]
    }
   ],
   "source": [
    "Rseq = []\n",
    "(Gens.size/2).times do |i|\n",
    "  Rseq += [a[i+1], b[i+1].inverse, a[i+1].inverse, b[i+1]]\n",
    "end\n",
    "Rseq.freeze\n",
    "p Rseq.map(&:show) #.index('A')\n",
    "nil"
   ]
  },
  {
   "cell_type": "markdown",
   "metadata": {},
   "source": [
    "# The Algorithm"
   ]
  },
  {
   "cell_type": "code",
   "execution_count": 383,
   "metadata": {
    "ExecuteTime": {
     "end_time": "2019-05-19T03:48:09.795543Z",
     "start_time": "2019-05-19T03:48:09.786Z"
    }
   },
   "outputs": [
    {
     "name": "stdout",
     "output_type": "stream",
     "text": [
      "\"(a)((cdCD)(cdCD))\"\n"
     ]
    },
    {
     "data": {
      "text/plain": [
       "\"(a)((cdCD)(cdCD))\""
      ]
     },
     "execution_count": 383,
     "metadata": {},
     "output_type": "execute_result"
    }
   ],
   "source": [
    "#myw = Word.new(a[1], b[2]) #.inverse)\n",
    "#myw = Word.new(a[1])^2\n",
    "c = Word.new(a[1], b[1], a[1].inverse); myw = c\n",
    "#myw = comms[1]\n",
    "myw = Word.new(a[1])*(comms[2]^2)\n",
    "#myw = Word.new(a[1])*comms[2]*c*comms[2]*(c.inverse)\n",
    "p myw.show"
   ]
  },
  {
   "cell_type": "code",
   "execution_count": 384,
   "metadata": {
    "ExecuteTime": {
     "end_time": "2019-05-19T03:48:10.802064Z",
     "start_time": "2019-05-19T03:48:10.791Z"
    }
   },
   "outputs": [
    {
     "name": "stdout",
     "output_type": "stream",
     "text": [
      "{\"a\"=>[0], \"B\"=>[], \"A\"=>[1], \"b\"=>[], \"c\"=>[15, 7, 2, 10], \"D\"=>[13, 5, 8, 16], \"C\"=>[11, 3, 6, 14], \"d\"=>[17, 9, 4, 12], \"e\"=>[], \"F\"=>[], \"E\"=>[], \"f\"=>[]}\n",
      "\"[0][][1][][15, 7, 2, 10][13, 5, 8, 16][11, 3, 6, 14][17, 9, 4, 12][][][][]\"\n"
     ]
    }
   ],
   "source": [
    "box = {}\n",
    "Rseq.each{|x| box.store(x.char,[])}\n",
    "\n",
    "facs = myw.flatten.factors\n",
    "\n",
    "facs.each_with_index do |c, i|\n",
    "  k = i\n",
    "  box[c.char].insert(-1, 2*k)\n",
    "  box[c.inverse.char].insert(0,2*k+1)\n",
    "end\n",
    "p box, box.values.map(&:to_s).join\n",
    "nil"
   ]
  },
  {
   "cell_type": "code",
   "execution_count": 400,
   "metadata": {
    "ExecuteTime": {
     "end_time": "2019-05-19T04:16:39.380158Z",
     "start_time": "2019-05-19T04:16:39.293Z"
    },
    "code_folding": [],
    "scrolled": false
   },
   "outputs": [
    {
     "name": "stdout",
     "output_type": "stream",
     "text": [
      "\"(a)((cdCD)(cdCD))\"\n",
      "\"[0][][1][][15, 7, 2, 10][13, 5, 8, 16][11, 3, 6, 14][17, 9, 4, 12][][][][]\"\n",
      "\"[[3, 4], [9, 10]], [10, 3, 9, 4], [[1, 3], [2, 0]]\"\n",
      "----------------------\n",
      "\"[1, 7, 2, 8]\"\n",
      "\"[true, true, true]\"\n",
      "\"aDcdCD (x) cdC\"\n",
      "---------------\n",
      "\"[1, 15, 2, 16]\"\n",
      "\"[true, true, true]\"\n",
      "\"aD (x) cdCDcdC\"\n",
      "---------------\n",
      "\"[5, 3, 6, 4]\"\n",
      "\"[true, true, false]\"\n",
      "\"aDcdCD (x) d\"\n",
      "---------------\n",
      "\"[10, 3, 9, 4]\"\n",
      "\"[true, false, true]\"\n",
      "\"accdCD (x) dCD\"\n",
      "---------------\n",
      "\"[13, 3, 14, 4]\"\n",
      "\"[true, true, false]\"\n",
      "\"aD (x) dCDcd\"\n",
      "---------------\n",
      "\"[0, 3, 17, 4]\"\n",
      "\"[true, false, true]\"\n",
      "\"ac (x) dCDcdCD\"\n",
      "---------------\n",
      "\"[7, 5, 8, 6]\"\n",
      "\"[true, true, false]\"\n",
      "\"accdCD (x) C\"\n",
      "---------------\n",
      "\"[5, 11, 6, 12]\"\n",
      "\"[true, true, true]\"\n",
      "\"acddCD (x) CDc\"\n",
      "---------------\n",
      "\"[15, 5, 16, 6]\"\n",
      "\"[true, true, false]\"\n",
      "\"ac (x) CDcdC\"\n",
      "---------------\n",
      "\"[7, 10, 8, 9]\"\n",
      "\"[true, false, true]\"\n",
      "\"acddCD (x) D\"\n",
      "---------------\n",
      "\"[7, 13, 8, 14]\"\n",
      "\"[true, true, true]\"\n",
      "\"acdCCD (x) Dcd\"\n",
      "---------------\n",
      "\"[13, 11, 14, 12]\"\n",
      "\"[true, true, false]\"\n",
      "\"acdCDD (x) d\"\n",
      "---------------\n",
      "\"[0, 11, 17, 12]\"\n",
      "\"[true, false, true]\"\n",
      "\"acdCDc (x) dCD\"\n",
      "---------------\n",
      "\"[15, 13, 16, 14]\"\n",
      "\"[true, true, false]\"\n",
      "\"acdCDc (x) C\"\n",
      "---------------\n"
     ]
    }
   ],
   "source": [
    "p myw.show\n",
    "p box.values.map(&:to_s).join\n",
    "\n",
    "bvf = box.values.flatten\n",
    "size = bvf.size\n",
    "\n",
    "odd_pairs=(1..size/2).to_a.map{|x| 2*x-1}.combination(2)\n",
    "\n",
    "coprods = odd_pairs.map do |pair|\n",
    "  pair_of_succs = [[pair[0], pair[0]+1], [pair[1], (pair[1]+1)%size]]\n",
    "  order = bvf.select{|n| pair_of_succs.flatten.include?(n)}\n",
    "  \n",
    "  # give the parity of order\n",
    "  idxs = pair_of_succs.map{|p| p.map{|n| order.index(n)}}\n",
    "  p \"#{pair_of_succs.to_s}, #{order.to_s}, #{idxs.to_s}\" if order == [10, 3, 9, 4]\n",
    "  rng = idx[0].sort\n",
    "  parity = order.slice(rng[0]..rng[1]).size.even? ? 'even' : 'odd'\n",
    "  \n",
    "  # give the sign of order\n",
    "  sign0 = (idxs[0][0] < idxs[0][1])\n",
    "  sign1 = (idxs[1][0] < idxs[1][1])\n",
    "  sign2 = (idxs[0][0] < idxs[1][0])\n",
    "  sign = [sign0, sign1, sign2]\n",
    "  \n",
    "  fac1 = box.map{|key, arr| [key, arr.select{|x| x <= pair[0] or pair[1] < x}]}.to_h\n",
    "  fac2 = box.map{|key, arr| [key, arr.select{|x| pair[0] < x and x <= pair[1]}]}.to_h\n",
    "  # contract fac1 & fac2\n",
    "  #\n",
    "  # shift numbers in fac1 & fac2\n",
    "  factors = [fac1, fac2].map do |f|\n",
    "    sorted = f.values.flatten.sort\n",
    "    f.map{|key, arr| [key, arr.map{|v| sorted.index(v)}]}.to_h\n",
    "  end\n",
    "  # code --> word\n",
    "  words = [fac1, fac2].map do |f|\n",
    "    chars = (0..size/2).to_a.map{|i| f.map{|key, arr| key if arr.include?(2*i)}.join}\n",
    "    Word.new(chars.join)\n",
    "  end\n",
    "  {pair: pair, order: order, parity: parity, sign: sign, factors: factors, words: words}\n",
    "end\n",
    "  \n",
    "printf(\"----------------------\\n\")\n",
    "#  p coprods\n",
    "\n",
    "coprods.each do|h|\n",
    "  if h[:parity] == 'odd' then\n",
    "    strings = h[:factors].map{|h| h.values.map(&:to_s).join}\n",
    "    #----------\n",
    "#    p \"#{h[:pair]}\"\n",
    "    p \"#{h[:order]}\"\n",
    "#    p \"#{h[:parity]}\"\n",
    "    p \"#{h[:sign]}\"\n",
    "#    p strings.join(\" (x) \")\n",
    "#    p \"#{h[:words][0]} (x) #{h[:words][1]}\"\n",
    "    p \"#{h[:words][0].contract} (x) #{h[:words][1].contract}\"\n",
    "    printf(\"---------------\\n\")\n",
    "  else\n",
    "#    p nil\n",
    "  end\n",
    "end\n",
    "nil"
   ]
  },
  {
   "cell_type": "code",
   "execution_count": 332,
   "metadata": {
    "ExecuteTime": {
     "end_time": "2019-05-19T01:21:48.841043Z",
     "start_time": "2019-05-19T01:21:48.828Z"
    }
   },
   "outputs": [
    {
     "name": "stdout",
     "output_type": "stream",
     "text": [
      "[5, 8]\n",
      "[5, 6]\n",
      "[5, 7]\n",
      "[8, 6]\n",
      "[8, 7]\n",
      "[6, 7]\n",
      "[0, 0, 0, 1, 1, 0]\n"
     ]
    },
    {
     "data": {
      "text/plain": [
       "false"
      ]
     },
     "execution_count": 332,
     "metadata": {},
     "output_type": "execute_result"
    }
   ],
   "source": [
    "arr =[5, 8, 6, 7].combination(2).map do |com|\n",
    "  p com\n",
    "  (com[0] > com[1]) ? 1 : 0\n",
    "end\n",
    "p arr\n",
    "arr.sum.odd?"
   ]
  },
  {
   "cell_type": "code",
   "execution_count": null,
   "metadata": {},
   "outputs": [],
   "source": []
  }
 ],
 "metadata": {
  "kernelspec": {
   "display_name": "Ruby 2.6.1",
   "language": "ruby",
   "name": "ruby"
  },
  "language_info": {
   "file_extension": ".rb",
   "mimetype": "application/x-ruby",
   "name": "ruby",
   "version": "2.6.1"
  },
  "toc": {
   "base_numbering": 1,
   "nav_menu": {},
   "number_sections": false,
   "sideBar": true,
   "skip_h1_title": true,
   "title_cell": "Table of Contents",
   "title_sidebar": "Contents",
   "toc_cell": false,
   "toc_position": {},
   "toc_section_display": true,
   "toc_window_display": false
  },
  "varInspector": {
   "cols": {
    "lenName": 16,
    "lenType": 16,
    "lenVar": 40
   },
   "kernels_config": {
    "python": {
     "delete_cmd_postfix": "",
     "delete_cmd_prefix": "del ",
     "library": "var_list.py",
     "varRefreshCmd": "print(var_dic_list())"
    },
    "r": {
     "delete_cmd_postfix": ") ",
     "delete_cmd_prefix": "rm(",
     "library": "var_list.r",
     "varRefreshCmd": "cat(var_dic_list()) "
    }
   },
   "types_to_exclude": [
    "module",
    "function",
    "builtin_function_or_method",
    "instance",
    "_Feature"
   ],
   "window_display": false
  }
 },
 "nbformat": 4,
 "nbformat_minor": 2
}
