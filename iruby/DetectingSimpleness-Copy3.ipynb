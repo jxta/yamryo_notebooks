{
 "cells": [
  {
   "cell_type": "markdown",
   "metadata": {},
   "source": [
    "# Setting the fundarmental group of $\\Sigma_{g,1}$ "
   ]
  },
  {
   "cell_type": "code",
   "execution_count": 1,
   "metadata": {
    "ExecuteTime": {
     "end_time": "2019-05-23T01:14:53.546227Z",
     "start_time": "2019-05-23T01:14:53.540Z"
    }
   },
   "outputs": [
    {
     "data": {
      "text/plain": [
       "true"
      ]
     },
     "execution_count": 1,
     "metadata": {},
     "output_type": "execute_result"
    }
   ],
   "source": [
    "require './freegroup.rb'"
   ]
  },
  {
   "cell_type": "markdown",
   "metadata": {},
   "source": [
    "## generators"
   ]
  },
  {
   "cell_type": "code",
   "execution_count": 2,
   "metadata": {
    "ExecuteTime": {
     "end_time": "2019-05-23T01:14:53.566679Z",
     "start_time": "2019-05-23T01:14:53.551Z"
    }
   },
   "outputs": [
    {
     "name": "stdout",
     "output_type": "stream",
     "text": [
      "[\"a\", \"b\", \"c\", \"d\", \"e\", \"f\"]\n",
      "[\"1\", \"a\", \"c\", \"e\"]\n"
     ]
    }
   ],
   "source": [
    "genus = 3\n",
    "alphabet = %w(a b c d e f)\n",
    "\n",
    "Gens = [Letter.new] + alphabet.map{|x| Letter.new(x)}\n",
    "Gens.freeze\n",
    "p Gens[1..-1].map(&:show)\n",
    "\n",
    "a = [Gens[0]] + Gens[1..-1].each_slice(2).map(&:first)\n",
    "b = [Gens[0]] + Gens[1..-1].each_slice(2).map(&:last)\n",
    "p a.map(&:show)\n",
    "nil"
   ]
  },
  {
   "cell_type": "code",
   "execution_count": 3,
   "metadata": {
    "ExecuteTime": {
     "end_time": "2019-05-23T01:14:53.569969Z",
     "start_time": "2019-05-23T01:14:53.555Z"
    }
   },
   "outputs": [
    {
     "name": "stdout",
     "output_type": "stream",
     "text": [
      "[\"1111\", \"abAB\", \"cdCD\", \"efEF\"]\n"
     ]
    },
    {
     "data": {
      "text/plain": [
       "[\"1111\", \"abAB\", \"cdCD\", \"efEF\"]"
      ]
     },
     "execution_count": 3,
     "metadata": {},
     "output_type": "execute_result"
    }
   ],
   "source": [
    "comms = []\n",
    "(Gens.size/2 + 1).times do |i|\n",
    "  comms << Group.commutator(a[i], b[i])\n",
    "end\n",
    "p comms.map(&:show)"
   ]
  },
  {
   "cell_type": "code",
   "execution_count": 4,
   "metadata": {
    "ExecuteTime": {
     "end_time": "2019-05-23T01:14:53.579676Z",
     "start_time": "2019-05-23T01:14:53.561Z"
    }
   },
   "outputs": [
    {
     "name": "stderr",
     "output_type": "stream",
     "text": [
      "<main>:2: warning: already initialized constant Rseq\n",
      "<main>:2: warning: already initialized constant Rseq\n",
      "<main>:2: warning: previous definition of Rseq was here\n",
      "<main>:2: warning: already initialized constant Rseq\n",
      "<main>:2: warning: previous definition of Rseq was here\n"
     ]
    },
    {
     "name": "stdout",
     "output_type": "stream",
     "text": [
      "[\"a\", \"B\", \"A\", \"b\", \"c\", \"D\", \"C\", \"d\", \"e\", \"F\", \"E\", \"f\"]\n"
     ]
    }
   ],
   "source": [
    "Rseq = []\n",
    "(Gens.size/2).times do |i|\n",
    "  Rseq += [a[i+1], b[i+1].inverse, a[i+1].inverse, b[i+1]]\n",
    "end\n",
    "Rseq.freeze\n",
    "p Rseq.map(&:show) #.index('A')\n",
    "nil"
   ]
  },
  {
   "cell_type": "markdown",
   "metadata": {},
   "source": [
    "# The Algorithm"
   ]
  },
  {
   "cell_type": "code",
   "execution_count": 19,
   "metadata": {
    "ExecuteTime": {
     "end_time": "2019-05-23T01:20:11.437848Z",
     "start_time": "2019-05-23T01:20:11.429Z"
    }
   },
   "outputs": [
    {
     "name": "stdout",
     "output_type": "stream",
     "text": [
      "\"abAB\"\n"
     ]
    },
    {
     "data": {
      "text/plain": [
       "\"abAB\""
      ]
     },
     "execution_count": 19,
     "metadata": {},
     "output_type": "execute_result"
    }
   ],
   "source": [
    "#myw = Word.new(a[1], b[2].inverse)\n",
    "#myw = Word.new(a[1])^3\n",
    "c = Word.new(a[1], b[1], a[1].inverse); myw = c\n",
    "myw = comms[1]\n",
    "#myw = Word.new(a[1])*(comms[2]^2)\n",
    "#myw = Word.new(a[1])*comms[2]*c*comms[2]*(c.inverse)\n",
    "p myw.show"
   ]
  },
  {
   "cell_type": "code",
   "execution_count": 20,
   "metadata": {
    "ExecuteTime": {
     "end_time": "2019-05-23T01:20:12.179564Z",
     "start_time": "2019-05-23T01:20:12.171Z"
    }
   },
   "outputs": [
    {
     "name": "stdout",
     "output_type": "stream",
     "text": [
      "{\"a\"=>[5, 0], \"B\"=>[3, 6], \"A\"=>[1, 4], \"b\"=>[7, 2], \"c\"=>[], \"D\"=>[], \"C\"=>[], \"d\"=>[], \"e\"=>[], \"F\"=>[], \"E\"=>[], \"f\"=>[]}\n",
      "\"[5, 0][3, 6][1, 4][7, 2][][][][][][][][]\"\n"
     ]
    }
   ],
   "source": [
    "box = {}\n",
    "Rseq.each{|x| box.store(x.char,[])}\n",
    "\n",
    "facs = myw.flatten.factors\n",
    "\n",
    "facs.each_with_index do |c, i|\n",
    "  k = i\n",
    "  box[c.char].insert(-1, 2*k)\n",
    "  box[c.inverse.char].insert(0,2*k+1)\n",
    "end\n",
    "p box, box.values.map(&:to_s).join\n",
    "nil"
   ]
  },
  {
   "cell_type": "code",
   "execution_count": 37,
   "metadata": {
    "ExecuteTime": {
     "end_time": "2019-05-23T02:27:52.939007Z",
     "start_time": "2019-05-23T02:27:52.911Z"
    },
    "code_folding": [],
    "scrolled": false
   },
   "outputs": [
    {
     "name": "stdout",
     "output_type": "stream",
     "text": [
      "\"abAB\"\n",
      "\"[5, 0][3, 6][1, 4][7, 2][][][][][][][][]\"\n",
      "----------------------\n",
      "\"[3, 1, 4, 2]\"\n",
      "\"[3, 0][4][1, 2][5][][][][][][][][] , [][1][][0][][][][][][][][]\"\n",
      "\"aAB , b\"\n",
      "\"+B(x)b\"\n",
      ".....\n",
      "\"[0, 1, 7, 2]\"\n",
      "\"[0][][1][][][][][][][][][] , [3][1, 4][2][5, 0][][][][][][][][]\"\n",
      "\"a , bAB\"\n",
      "\"+a(x)A\"\n",
      ".....\n",
      "\"[5, 3, 6, 4]\"\n",
      "\"[0][3, 4][1][5, 2][][][][][][][][] , [1][][0][][][][][][][][][]\"\n",
      "\"abB , A\"\n",
      "\"+a(x)A\"\n",
      ".....\n",
      "\"[5, 0, 6, 7]\"\n",
      "\"[5, 0][3][1, 4][2][][][][][][][][] , [][0][][1][][][][][][][][]\"\n",
      "\"abA , B\"\n",
      "\"-b(x)B\"\n",
      ".....\n"
     ]
    }
   ],
   "source": [
    "p myw.show\n",
    "p box.values.map(&:to_s).join\n",
    "\n",
    "bvf = box.values.flatten\n",
    "size = bvf.size\n",
    "\n",
    "odd_pairs=(1..size/2).to_a.map{|x| 2*x-1}.combination(2)\n",
    "#odd_pairs = [[1,7],[3,5]]\n",
    "\n",
    "coprods = odd_pairs.map do |pair|\n",
    "  succs = [[pair[0], pair[0]+1], [pair[1], (pair[1]+1)%size]]\n",
    "  order = bvf.select{|n| succs.flatten.include?(n)}\n",
    "#  p \"#{succs.to_s}, #{order.to_s}\"\n",
    "\n",
    "  # the parity of order\n",
    "  parity = (order.index(pair[0]) - order.index(pair[0]+1) + 1).even? ? 'even' : 'odd'\n",
    "  \n",
    "  # the sign of order\n",
    "  sign0 = (order.index(pair[0]) < order.index(pair[0]+1)) ? 1 : -1\n",
    "#  sign1 = (idxs[1][0] > idxs[1][1]) ? 1 : -1 \n",
    "  sign2 = order[order.index(pair[0])+1].even? ? 1 : -1 #(idxs[0][0] < idxs[1][0]) ? 1 : -1\n",
    "#  p [rng.to_s, sign0, sign1, sign2] \n",
    "  sign = sign0*sign2\n",
    "  sign *= -1 if (succs[1][1]==0)\n",
    "  \n",
    "  fac1 = box.map{|key, arr| [key, arr.select{|x| x <= pair[0] or pair[1] < x}]}.to_h\n",
    "  fac2 = box.map{|key, arr| [key, arr.select{|x| pair[0] < x and x <= pair[1]}]}.to_h\n",
    "  # contract fac1 & fac2\n",
    "  #\n",
    "  # shift numbers in fac1 & fac2\n",
    "  factors = [fac1, fac2].map do |f|\n",
    "    sorted = f.values.flatten.sort\n",
    "    f.map{|key, arr| [key, arr.map{|v| sorted.index(v)}]}.to_h\n",
    "  end\n",
    "  # code --> word\n",
    "  prewords = [fac1, fac2].map do |f|\n",
    "    chars = (0..size/2).to_a.map{|i| f.map{|key, arr| key if arr.include?(2*i)}.join}\n",
    "     Word.new(chars.join)\n",
    "  end\n",
    "  words = prewords.map do |ww|\n",
    "    ww = ww.dup.contract \n",
    "    wcp = Group::Identity\n",
    "    while (wcp.size < ww.size)\n",
    "      ww.factors = wcp.factors unless wcp == Group::Identity\n",
    "      wcp = ww.cyclic_permutation.contract\n",
    "    end\n",
    "    ww\n",
    "  end\n",
    "  {pair: pair, order: order, parity: parity, sign: sign, factors: factors, prewords: prewords, words: words}\n",
    "end\n",
    "printf(\"----------------------\\n\")\n",
    "\n",
    "coprods.select{|h| h[:parity] == \"odd\"}.each do |h|\n",
    "  strings = h[:factors].map{|f| f.values.map(&:to_s).join}\n",
    "\n",
    "#  p \"#{h[:pair]}\"\n",
    "  p \"#{h[:order]}\"\n",
    "#  p \"#{h[:parity]}\"\n",
    "#  p \"#{h[:sign]}\"\n",
    "  p strings.join(\" , \")\n",
    "  p h[:prewords].join(\" , \")\n",
    "  p ((h[:sign]==1) ? \"+\" : \"-\") + h[:words].join(\"(x)\")\n",
    "  printf(\".....\\n\")\n",
    "end;nil"
   ]
  },
  {
   "cell_type": "markdown",
   "metadata": {},
   "source": [
    "### TODO\n",
    "$[a_{1},b_{1}]$ の処理において、\n",
    "* [ ] [5, 0, 6, 7] の sign が正しくないようだ。\n",
    "* [ ] a(x)A の集計もおかしい。"
   ]
  },
  {
   "cell_type": "code",
   "execution_count": null,
   "metadata": {},
   "outputs": [],
   "source": [
    "'''\n",
    "printf(\"----------------------\\n\")\n",
    "cprds = coprods.delete_if{|prd| prd[:parity] == \"even\"}\n",
    "\n",
    "i = 0\n",
    "while cprds.size > 0\n",
    "  collection = [cprds.pop]\n",
    "  collection += cprds.select{|other| other[:words] == collection[0][:words]}\n",
    "#  p collection.map{|h| ((h[:sign]==1) ? \"+\" : \"-\") + \"#{h[:words].map(&:show).join(\"(x)\")}\" }.join(\" \")\n",
    "  coeff = collection.map{|h| h[:sign]}.sum\n",
    "  term = collection[0][:words].map(&:show).join(\"(x)\")\n",
    "  p case coeff \n",
    "    when 0 then \"0\"\n",
    "    when 1 then term\n",
    "    else coeff.to_s + \"*\" + term\n",
    "  end\n",
    "\n",
    "  cprds = cprds.delete_if{|h| h[:words] == collection[0][:words]}\n",
    "end \n",
    "'''"
   ]
  }
 ],
 "metadata": {
  "kernelspec": {
   "display_name": "Ruby 2.6.1",
   "language": "ruby",
   "name": "ruby"
  },
  "language_info": {
   "file_extension": ".rb",
   "mimetype": "application/x-ruby",
   "name": "ruby",
   "version": "2.6.1"
  },
  "toc": {
   "base_numbering": 1,
   "nav_menu": {},
   "number_sections": false,
   "sideBar": true,
   "skip_h1_title": true,
   "title_cell": "Table of Contents",
   "title_sidebar": "Contents",
   "toc_cell": false,
   "toc_position": {},
   "toc_section_display": true,
   "toc_window_display": false
  },
  "varInspector": {
   "cols": {
    "lenName": 16,
    "lenType": 16,
    "lenVar": 40
   },
   "kernels_config": {
    "python": {
     "delete_cmd_postfix": "",
     "delete_cmd_prefix": "del ",
     "library": "var_list.py",
     "varRefreshCmd": "print(var_dic_list())"
    },
    "r": {
     "delete_cmd_postfix": ") ",
     "delete_cmd_prefix": "rm(",
     "library": "var_list.r",
     "varRefreshCmd": "cat(var_dic_list()) "
    }
   },
   "types_to_exclude": [
    "module",
    "function",
    "builtin_function_or_method",
    "instance",
    "_Feature"
   ],
   "window_display": false
  }
 },
 "nbformat": 4,
 "nbformat_minor": 2
}
