{
 "cells": [
  {
   "cell_type": "code",
   "execution_count": null,
   "metadata": {
    "ExecuteTime": {
     "start_time": "2019-02-06T04:21:44.624Z"
    }
   },
   "outputs": [],
   "source": [
    "$LOAD_PATH.push File.expand_path('../../ruby/MagnusExpansion/src')\n",
    "require 'SymplecticExp'"
   ]
  },
  {
   "cell_type": "code",
   "execution_count": 2,
   "metadata": {
    "ExecuteTime": {
     "end_time": "2018-07-12T02:03:50.590672Z",
     "start_time": "2018-07-12T02:03:50.583Z"
    }
   },
   "outputs": [
    {
     "data": {
      "text/plain": [
       "[\"2a-4b\", \"10a-20b\"]"
      ]
     },
     "execution_count": 2,
     "metadata": {},
     "output_type": "execute_result"
    }
   ],
   "source": [
    "t1 = Term.new('2a')\n",
    "t2 = Term.new('-4b')\n",
    "f = FormalSum.new([t1,t2])\n",
    "[f.to_s, (f*5).to_s]"
   ]
  },
  {
   "cell_type": "code",
   "execution_count": 3,
   "metadata": {
    "ExecuteTime": {
     "end_time": "2018-07-12T02:04:00.224151Z",
     "start_time": "2018-07-12T02:04:00.215Z"
    }
   },
   "outputs": [
    {
     "data": {
      "text/plain": [
       "\"1+a+b+ab\""
      ]
     },
     "execution_count": 3,
     "metadata": {},
     "output_type": "execute_result"
    }
   ],
   "source": [
    "f1 = FormalSum.new('1+a')\n",
    "f2 = FormalSum.new('1+b')\n",
    "(f1*f2).sort.to_s"
   ]
  },
  {
   "cell_type": "code",
   "execution_count": 4,
   "metadata": {
    "ExecuteTime": {
     "end_time": "2018-07-12T02:04:11.502450Z",
     "start_time": "2018-07-12T02:04:11.494Z"
    }
   },
   "outputs": [
    {
     "data": {
      "text/plain": [
       "#<SymplecticExp:0x007ff77f35e930 @symp_basis=[[\"A\", \"B\"], [\"S\", \"T\"], [\"X\", \"Y\"]]>"
      ]
     },
     "execution_count": 4,
     "metadata": {},
     "output_type": "execute_result"
    }
   ],
   "source": [
    "th = SymplecticExp.instance"
   ]
  },
  {
   "cell_type": "code",
   "execution_count": 5,
   "metadata": {
    "ExecuteTime": {
     "end_time": "2018-07-12T02:04:22.038185Z",
     "start_time": "2018-07-12T02:04:21.145Z"
    }
   },
   "outputs": [
    {
     "data": {
      "text/plain": [
       "\"1+AB-BA\""
      ]
     },
     "execution_count": 5,
     "metadata": {},
     "output_type": "execute_result"
    }
   ],
   "source": [
    "ans = th.expand(Word.new('abAB'))\n",
    "ans.to_s"
   ]
  },
  {
   "cell_type": "code",
   "execution_count": null,
   "metadata": {},
   "outputs": [],
   "source": [
    "alphabet = th.symp_basis.flatten\n",
    "marr = Array.new(6){rand(6)}.map{|x| (rand(2) == 1) ? alphabet[x] : alphabet[x].downcase}\n",
    "mword = Word.new(marr.join)"
   ]
  },
  {
   "cell_type": "code",
   "execution_count": null,
   "metadata": {
    "scrolled": true
   },
   "outputs": [],
   "source": [
    "fs = th.expand(mword);fs.to_s"
   ]
  },
  {
   "cell_type": "code",
   "execution_count": null,
   "metadata": {},
   "outputs": [],
   "source": [
    "fs.homo_part(2).to_s"
   ]
  },
  {
   "cell_type": "code",
   "execution_count": null,
   "metadata": {},
   "outputs": [],
   "source": []
  }
 ],
 "metadata": {
  "kernelspec": {
   "display_name": "Ruby 2.4.0",
   "language": "ruby",
   "name": "ruby"
  },
  "language_info": {
   "file_extension": ".rb",
   "mimetype": "application/x-ruby",
   "name": "ruby",
   "version": "2.4.0"
  },
  "toc": {
   "base_numbering": 1,
   "nav_menu": {},
   "number_sections": true,
   "sideBar": true,
   "skip_h1_title": true,
   "title_cell": "Table of Contents",
   "title_sidebar": "Contents",
   "toc_cell": false,
   "toc_position": {},
   "toc_section_display": true,
   "toc_window_display": false
  },
  "varInspector": {
   "cols": {
    "lenName": 16,
    "lenType": 16,
    "lenVar": 40
   },
   "kernels_config": {
    "python": {
     "delete_cmd_postfix": "",
     "delete_cmd_prefix": "del ",
     "library": "var_list.py",
     "varRefreshCmd": "print(var_dic_list())"
    },
    "r": {
     "delete_cmd_postfix": ") ",
     "delete_cmd_prefix": "rm(",
     "library": "var_list.r",
     "varRefreshCmd": "cat(var_dic_list()) "
    }
   },
   "types_to_exclude": [
    "module",
    "function",
    "builtin_function_or_method",
    "instance",
    "_Feature"
   ],
   "window_display": false
  }
 },
 "nbformat": 4,
 "nbformat_minor": 2
}
