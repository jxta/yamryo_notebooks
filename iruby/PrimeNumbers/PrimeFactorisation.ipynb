{
 "cells": [
  {
   "cell_type": "code",
   "execution_count": 76,
   "metadata": {
    "ExecuteTime": {
     "end_time": "2019-04-09T06:16:06.893695Z",
     "start_time": "2019-04-09T06:16:05.018Z"
    }
   },
   "outputs": [
    {
     "data": {
      "text/plain": [
       ":is_prime?"
      ]
     },
     "execution_count": 76,
     "metadata": {},
     "output_type": "execute_result"
    }
   ],
   "source": [
    "def find_a_factor(num)\n",
    "  num = num.to_i.abs\n",
    "  sqi = Math.sqrt(num).to_i\n",
    "  \n",
    "  res = 1\n",
    "  (2..sqi).each do |k|\n",
    "    res = num%k\n",
    "    if (res == 0)\n",
    "      return k\n",
    "      break\n",
    "    end\n",
    "  end\n",
    "  return num\n",
    "end\n",
    "\n",
    "def is_prime?(num)\n",
    "  return find_a_factor(num)==num\n",
    "end"
   ]
  },
  {
   "cell_type": "code",
   "execution_count": 56,
   "metadata": {
    "ExecuteTime": {
     "end_time": "2019-04-09T06:03:40.051959Z",
     "start_time": "2019-04-09T06:03:38.184Z"
    }
   },
   "outputs": [
    {
     "data": {
      "text/plain": [
       "7"
      ]
     },
     "execution_count": 56,
     "metadata": {},
     "output_type": "execute_result"
    }
   ],
   "source": [
    "find_a_factor(287)"
   ]
  },
  {
   "cell_type": "code",
   "execution_count": 77,
   "metadata": {
    "ExecuteTime": {
     "end_time": "2019-04-09T06:16:30.200921Z",
     "start_time": "2019-04-09T06:16:28.330Z"
    }
   },
   "outputs": [
    {
     "data": {
      "text/plain": [
       "[2, 3, 5, 7, 11, 13, 17, 19, 23, 29, 31, 37, 41, 43, 47, 53, 59, 61, 67, 71, 73, 79, 83, 89, 97, 101, 103, 107, 109, 113, 127, 131, 137, 139, 149, 151, 157, 163, 167, 173, 179, 181, 191, 193, 197, 199]"
      ]
     },
     "execution_count": 77,
     "metadata": {},
     "output_type": "execute_result"
    }
   ],
   "source": [
    "(2..200).to_a.select{ |n| is_prime?(n) }"
   ]
  },
  {
   "cell_type": "code",
   "execution_count": 63,
   "metadata": {
    "ExecuteTime": {
     "end_time": "2019-04-09T06:12:34.831267Z",
     "start_time": "2019-04-09T06:12:32.955Z"
    }
   },
   "outputs": [
    {
     "data": {
      "text/plain": [
       ":factorisation"
      ]
     },
     "execution_count": 63,
     "metadata": {},
     "output_type": "execute_result"
    }
   ],
   "source": [
    "def factorisation(num, factors=[])\n",
    "  factors << find_a_factor(num)\n",
    "  if factors.last < num\n",
    "    num = (num/factors.last).to_i\n",
    "    factorisation(num, factors)\n",
    "  else\n",
    "    return factors\n",
    "  end\n",
    "end"
   ]
  },
  {
   "cell_type": "code",
   "execution_count": 88,
   "metadata": {
    "ExecuteTime": {
     "end_time": "2019-04-09T06:23:04.534227Z",
     "start_time": "2019-04-09T06:21:37.226Z"
    }
   },
   "outputs": [
    {
     "name": "stdout",
     "output_type": "stream",
     "text": [
      "2**3-1 = 7\n",
      "2**5-1 = 31\n",
      "2**7-1 = 127\n",
      "2**11-1 = 23*89\n",
      "2**13-1 = 8191\n",
      "2**17-1 = 131071\n",
      "2**19-1 = 524287\n",
      "2**23-1 = 47*178481\n",
      "2**29-1 = 233*1103*2089\n",
      "2**31-1 = 2147483647\n",
      "2**37-1 = 223*616318177\n",
      "2**41-1 = 13367*164511353\n",
      "2**43-1 = 431*9719*2099863\n",
      "2**47-1 = 2351*4513*13264529\n",
      "2**53-1 = 6361*69431*20394401\n",
      "2**59-1 = 179951*3203431780337\n",
      "2**61-1 = 2305843009213693951\n"
     ]
    }
   ],
   "source": [
    "nn = 61\n",
    "plist = (3..nn).to_a.select{|n| is_prime?(n)}\n",
    "\n",
    "for p in plist\n",
    "  mp = 2**p-1\n",
    "  puts \"2**\" + p.to_s + \"-1 = \"+ factorisation(mp).join('*')\n",
    "end; nil"
   ]
  },
  {
   "cell_type": "code",
   "execution_count": 97,
   "metadata": {
    "ExecuteTime": {
     "end_time": "2019-04-09T06:42:36.726695Z",
     "start_time": "2019-04-09T06:42:34.840Z"
    }
   },
   "outputs": [
    {
     "data": {
      "text/plain": [
       ":is_prime?"
      ]
     },
     "execution_count": 97,
     "metadata": {},
     "output_type": "execute_result"
    }
   ],
   "source": [
    "module Mersenne_factoriser extend self\n",
    "  def calc(rng)\n",
    "    plist = rng.to_a.select{|n| is_prime?(n)}\n",
    "    for p in plist\n",
    "      puts \"2**\" + p.to_s + \"-1 = \" + factorisation(2**p-1).join('*')\n",
    "    end\n",
    "    return nil\n",
    "  end\n",
    "    \n",
    "  protected\n",
    "  def find_a_factor(num)\n",
    "    num = num.to_i.abs\n",
    "    sqi = Math.sqrt(num).to_i\n",
    "    \n",
    "    res = 1\n",
    "    (2..sqi).each do |k|\n",
    "      res = num%k\n",
    "      if (res == 0)\n",
    "        return k\n",
    "        break\n",
    "      end\n",
    "    end\n",
    "    return num\n",
    "  end\n",
    "\n",
    "  def is_prime?(num)\n",
    "    find_a_factor(num)==num\n",
    "  end  \n",
    "end"
   ]
  },
  {
   "cell_type": "code",
   "execution_count": 99,
   "metadata": {
    "ExecuteTime": {
     "end_time": "2019-04-09T06:44:59.364226Z",
     "start_time": "2019-04-09T06:42:55.464Z"
    }
   },
   "outputs": [
    {
     "name": "stdout",
     "output_type": "stream",
     "text": [
      "2**59-1 = 179951*3203431780337\n",
      "2**61-1 = 2305843009213693951\n",
      "2**67-1 = 193707721*761838257287\n"
     ]
    }
   ],
   "source": [
    "Mersenne_finder.calc(59..67)"
   ]
  },
  {
   "cell_type": "code",
   "execution_count": 100,
   "metadata": {
    "ExecuteTime": {
     "end_time": "2019-04-09T06:46:55.483377Z",
     "start_time": "2019-04-09T06:46:13.696Z"
    }
   },
   "outputs": [
    {
     "name": "stdout",
     "output_type": "stream",
     "text": [
      "2**71-1 = 228479*48544121*212885833\n",
      "2**73-1 = 439*2298041*9361973132609\n",
      "2**79-1 = 2687*202029703*1113491139767\n"
     ]
    }
   ],
   "source": [
    "Mersenne_finder.calc(70..80)"
   ]
  },
  {
   "cell_type": "code",
   "execution_count": null,
   "metadata": {
    "ExecuteTime": {
     "start_time": "2019-04-09T07:12:51.717Z"
    }
   },
   "outputs": [
    {
     "name": "stdout",
     "output_type": "stream",
     "text": [
      "2**83-1 = 167*57912614113275649087721\n"
     ]
    }
   ],
   "source": [
    "Mersenne_finder.calc(80..100)"
   ]
  },
  {
   "cell_type": "code",
   "execution_count": 25,
   "metadata": {
    "ExecuteTime": {
     "end_time": "2019-04-09T05:44:30.422487Z",
     "start_time": "2019-04-09T05:44:28.567Z"
    }
   },
   "outputs": [
    {
     "name": "stdout",
     "output_type": "stream",
     "text": [
      "196\n",
      "225\n",
      "[3, 4, 5, 6, 7, 8, 9, 10, 11, 12, 13, 14]\n"
     ]
    }
   ],
   "source": [
    "num = 200\n",
    "ss = Math.sqrt(num.to_i.abs).to_i\n",
    "p ss**2, (ss+1)**2\n",
    "p (3..ss).to_a\n",
    "nil"
   ]
  }
 ],
 "metadata": {
  "kernelspec": {
   "display_name": "Ruby 2.5.1",
   "language": "ruby",
   "name": "ruby"
  },
  "language_info": {
   "file_extension": ".rb",
   "mimetype": "application/x-ruby",
   "name": "ruby",
   "version": "2.5.1"
  },
  "varInspector": {
   "cols": {
    "lenName": 16,
    "lenType": 16,
    "lenVar": 40
   },
   "kernels_config": {
    "python": {
     "delete_cmd_postfix": "",
     "delete_cmd_prefix": "del ",
     "library": "var_list.py",
     "varRefreshCmd": "print(var_dic_list())"
    },
    "r": {
     "delete_cmd_postfix": ") ",
     "delete_cmd_prefix": "rm(",
     "library": "var_list.r",
     "varRefreshCmd": "cat(var_dic_list()) "
    }
   },
   "types_to_exclude": [
    "module",
    "function",
    "builtin_function_or_method",
    "instance",
    "_Feature"
   ],
   "window_display": false
  }
 },
 "nbformat": 4,
 "nbformat_minor": 2
}
