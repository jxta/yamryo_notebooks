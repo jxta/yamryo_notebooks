{
 "cells": [
  {
   "cell_type": "markdown",
   "metadata": {},
   "source": [
    "# Setting the fundarmental group of $\\Sigma_{g,1}$ "
   ]
  },
  {
   "cell_type": "code",
   "execution_count": 1,
   "metadata": {
    "ExecuteTime": {
     "end_time": "2019-05-11T00:49:12.940888Z",
     "start_time": "2019-05-11T00:49:12.933Z"
    }
   },
   "outputs": [
    {
     "data": {
      "text/plain": [
       "true"
      ]
     },
     "execution_count": 1,
     "metadata": {},
     "output_type": "execute_result"
    }
   ],
   "source": [
    "require './freegroup.rb'"
   ]
  },
  {
   "cell_type": "markdown",
   "metadata": {},
   "source": [
    "## generators"
   ]
  },
  {
   "cell_type": "code",
   "execution_count": 2,
   "metadata": {
    "ExecuteTime": {
     "end_time": "2019-05-11T00:49:12.958053Z",
     "start_time": "2019-05-11T00:49:12.936Z"
    }
   },
   "outputs": [
    {
     "name": "stdout",
     "output_type": "stream",
     "text": [
      "[\"a\", \"b\", \"c\", \"d\", \"e\", \"f\"]\n",
      "[\"1\", \"a\", \"c\", \"e\"]\n"
     ]
    }
   ],
   "source": [
    "genus = 3\n",
    "alphabet = %w(a b c d e f)\n",
    "\n",
    "Gens = [Letter.new] + alphabet.map{|x| Letter.new(x)}\n",
    "Gens.freeze\n",
    "p Gens[1..-1].map(&:show)\n",
    "\n",
    "a = [Gens[0]] + Gens[1..-1].each_slice(2).map(&:first)\n",
    "b = [Gens[0]] + Gens[1..-1].each_slice(2).map(&:last)\n",
    "p a.map(&:show)\n",
    "nil"
   ]
  },
  {
   "cell_type": "code",
   "execution_count": 3,
   "metadata": {
    "ExecuteTime": {
     "end_time": "2019-05-11T00:49:12.961528Z",
     "start_time": "2019-05-11T00:49:12.942Z"
    }
   },
   "outputs": [
    {
     "name": "stdout",
     "output_type": "stream",
     "text": [
      "[\"1111\", \"abAB\", \"cdCD\", \"efEF\"]\n"
     ]
    },
    {
     "data": {
      "text/plain": [
       "[\"1111\", \"abAB\", \"cdCD\", \"efEF\"]"
      ]
     },
     "execution_count": 3,
     "metadata": {},
     "output_type": "execute_result"
    }
   ],
   "source": [
    "comms = []\n",
    "(Gens.size/2 + 1).times do |i|\n",
    "  comms << Group.commutator(a[i], b[i])\n",
    "end\n",
    "p comms.map(&:show)"
   ]
  },
  {
   "cell_type": "code",
   "execution_count": 4,
   "metadata": {
    "ExecuteTime": {
     "end_time": "2019-05-11T00:49:12.968720Z",
     "start_time": "2019-05-11T00:49:12.948Z"
    }
   },
   "outputs": [
    {
     "name": "stdout",
     "output_type": "stream",
     "text": [
      "\"Del = (((abAB)(cdCD))(efEF))(s)\"\n",
      "[\"bABcdCDefEFsa\", \"ASfeFEdcDCbaB\", \"ABcdCDefEFsab\", \"BASfeFEdcDCba\", \"BcdCDefEFsabA\", \"aBASfeFEdcDCb\", \"cdCDefEFsabAB\", \"baBASfeFEdcDC\", \"dCDefEFsabABc\", \"CbaBASfeFEdcD\", \"CDefEFsabABcd\", \"DCbaBASfeFEdc\", \"DefEFsabABcdC\", \"cDCbaBASfeFEd\", \"efEFsabABcdCD\", \"dcDCbaBASfeFE\", \"fEFsabABcdCDe\", \"EdcDCbaBASfeF\", \"EFsabABcdCDef\", \"FEdcDCbaBASfe\", \"FsabABcdCDefE\", \"eFEdcDCbaBASf\", \"sabABcdCDefEF\", \"feFEdcDCbaBAS\", \"abABcdCDefEFs\", \"SfeFEdcDCbaBA\"]\n"
     ]
    }
   ],
   "source": [
    "Del = (comms[1]*comms[2]*comms[3]*Word.new('s')).freeze\n",
    "p 'Del = ' + Del.show\n",
    "\n",
    "DelPerms = []\n",
    "perm = Del.dup\n",
    "(Del.size).times do |n|\n",
    "  perm = perm.cyclic_permutation\n",
    "  DelPerms << perm << perm.inverse\n",
    "end\n",
    "DelPerms.freeze\n",
    "p DelPerms.map(&:show)\n",
    "nil"
   ]
  },
  {
   "cell_type": "code",
   "execution_count": 5,
   "metadata": {
    "ExecuteTime": {
     "end_time": "2019-05-11T00:49:12.981503Z",
     "start_time": "2019-05-11T00:49:12.953Z"
    }
   },
   "outputs": [
    {
     "name": "stderr",
     "output_type": "stream",
     "text": [
      "<main>:2: warning: already initialized constant Rseq\n",
      "<main>:2: warning: already initialized constant Rseq\n",
      "<main>:2: warning: previous definition of Rseq was here\n",
      "<main>:2: warning: already initialized constant Rseq\n",
      "<main>:2: warning: previous definition of Rseq was here\n"
     ]
    },
    {
     "name": "stdout",
     "output_type": "stream",
     "text": [
      "[\"a\", \"B\", \"A\", \"b\", \"c\", \"D\", \"C\", \"d\", \"e\", \"F\", \"E\", \"f\"]\n"
     ]
    }
   ],
   "source": [
    "Rseq = []\n",
    "(Gens.size/2).times do |i|\n",
    "  Rseq += [a[i+1], b[i+1].inverse, a[i+1].inverse, b[i+1]]\n",
    "end\n",
    "Rseq.freeze\n",
    "p Rseq.map(&:show) #.index('A')\n",
    "nil"
   ]
  },
  {
   "cell_type": "markdown",
   "metadata": {},
   "source": [
    "# The Algorithm"
   ]
  },
  {
   "cell_type": "code",
   "execution_count": 33,
   "metadata": {
    "ExecuteTime": {
     "end_time": "2019-05-11T00:52:25.097755Z",
     "start_time": "2019-05-11T00:52:25.090Z"
    }
   },
   "outputs": [
    {
     "name": "stdout",
     "output_type": "stream",
     "text": [
      "\"(abDd)(aBASfeFEd)\"\n"
     ]
    }
   ],
   "source": [
    "w = Word.new('abDd')\n",
    "w = w*DelPerms[5].split(9)[0]\n",
    "p w.show\n",
    "nil"
   ]
  },
  {
   "cell_type": "markdown",
   "metadata": {},
   "source": [
    "### (i) Contracting the word"
   ]
  },
  {
   "cell_type": "code",
   "execution_count": 34,
   "metadata": {
    "ExecuteTime": {
     "end_time": "2019-05-11T00:52:28.331234Z",
     "start_time": "2019-05-11T00:52:28.324Z"
    }
   },
   "outputs": [
    {
     "data": {
      "text/plain": [
       "\"abaBASfeFEd\""
      ]
     },
     "execution_count": 34,
     "metadata": {},
     "output_type": "execute_result"
    }
   ],
   "source": [
    "# (i) contract\n",
    "reduced = w.contract.dup\n",
    "reduced.show"
   ]
  },
  {
   "cell_type": "markdown",
   "metadata": {},
   "source": [
    "### (ii) removing subwords"
   ]
  },
  {
   "cell_type": "code",
   "execution_count": 8,
   "metadata": {
    "ExecuteTime": {
     "end_time": "2019-05-11T00:49:12.993299Z",
     "start_time": "2019-05-11T00:49:12.967Z"
    }
   },
   "outputs": [],
   "source": [
    "def reduce_once(myw)\n",
    "  facs = myw.flatten.factors\n",
    "  (myw.size+1).times do |i|\n",
    "    w1 = Word.new(facs[0,i])\n",
    "    w2 = Word.new(facs.drop(i))\n",
    "    original_size = myw.size\n",
    "    for perm in DelPerms\n",
    "      wc = (w1*perm*w2).deep_copy.contract\n",
    "      if (wc.size < original_size) then\n",
    "        myw = wc \n",
    "        break\n",
    "      end\n",
    "    end\n",
    "    if (myw.size < original_size) then\n",
    "      return myw\n",
    "      break\n",
    "    end\n",
    "  end\n",
    "  return nil    \n",
    "end\n",
    "    \n",
    "def reduce(myword)\n",
    "  while not myword.nil?\n",
    "    prev = myword\n",
    "    myword = reduce_once(myword)\n",
    "  end\n",
    "  return prev.contract\n",
    "end\n",
    "nil"
   ]
  },
  {
   "cell_type": "code",
   "execution_count": 35,
   "metadata": {
    "ExecuteTime": {
     "end_time": "2019-05-11T00:52:38.092530Z",
     "start_time": "2019-05-11T00:52:38.075Z"
    }
   },
   "outputs": [
    {
     "name": "stdout",
     "output_type": "stream",
     "text": [
      "\"w = abaBASfeFEd and w.size = 11\"\n",
      "\"acdC\"\n"
     ]
    },
    {
     "data": {
      "text/plain": [
       "\"acdC\""
      ]
     },
     "execution_count": 35,
     "metadata": {},
     "output_type": "execute_result"
    }
   ],
   "source": [
    "p 'w = ' + w.show + ' and w.size = ' + w.size.to_s\n",
    "p reduce(w).show"
   ]
  },
  {
   "cell_type": "markdown",
   "metadata": {},
   "source": [
    "### (iii) removing subwords part2"
   ]
  },
  {
   "cell_type": "code",
   "execution_count": 10,
   "metadata": {
    "ExecuteTime": {
     "end_time": "2019-05-11T00:49:13.025133Z",
     "start_time": "2019-05-11T00:49:12.977Z"
    }
   },
   "outputs": [],
   "source": [
    "# not necessary?"
   ]
  },
  {
   "cell_type": "markdown",
   "metadata": {},
   "source": [
    "## The algorithm"
   ]
  },
  {
   "cell_type": "code",
   "execution_count": 11,
   "metadata": {
    "ExecuteTime": {
     "end_time": "2019-05-11T00:49:13.037966Z",
     "start_time": "2019-05-11T00:49:12.982Z"
    },
    "scrolled": false
   },
   "outputs": [
    {
     "name": "stdout",
     "output_type": "stream",
     "text": [
      "\"a: 1\"\n",
      "\"A: 1\"\n",
      "\"b: 2\"\n",
      "\"B: 1\"\n",
      "\"c: 2\"\n",
      "\"C: 0\"\n",
      "\"d: 2\"\n",
      "\"D: 0\"\n",
      "\"e: 0\"\n",
      "\"E: 0\"\n",
      "\"f: 0\"\n",
      "\"F: 0\"\n",
      "\"s: 0\"\n",
      "\"S: 0\"\n"
     ]
    }
   ],
   "source": [
    "gens_ex = Gens + [Letter.new('s')]\n",
    "for g in gens_ex[1..-1]\n",
    "  p g.show + ': ' + w.count(g).to_s\n",
    "  p g.inverse.show + ': ' + w.count(g.inverse).to_s\n",
    "end;nil"
   ]
  },
  {
   "cell_type": "code",
   "execution_count": 12,
   "metadata": {
    "ExecuteTime": {
     "end_time": "2019-05-11T00:49:13.042373Z",
     "start_time": "2019-05-11T00:49:12.989Z"
    }
   },
   "outputs": [],
   "source": [
    "def N(w, gens)\n",
    "  gens.map{|g| w.count(g)}.inject(0, &:+)\n",
    "end;nil"
   ]
  },
  {
   "cell_type": "code",
   "execution_count": 13,
   "metadata": {
    "ExecuteTime": {
     "end_time": "2019-05-11T00:49:13.043907Z",
     "start_time": "2019-05-11T00:49:12.994Z"
    }
   },
   "outputs": [
    {
     "data": {
      "text/plain": [
       ":P"
      ]
     },
     "execution_count": 13,
     "metadata": {},
     "output_type": "execute_result"
    }
   ],
   "source": [
    "def P(w)\n",
    "  count = 0\n",
    "  facs = w.flatten.factors\n",
    "  facs.each_with_index do |f, i|\n",
    "    succ = (i < facs.size - 1) ? facs[i+1] : facs[0]\n",
    "    pair = [f.inverse, succ]\n",
    "    # p pair.map(&:show)\n",
    "    idxs = pair.map{|f| Rseq.find_index(f)}\n",
    "    # p idxs\n",
    "    count += 1 if idxs[0] < idxs[1]\n",
    "  end\n",
    "  return count\n",
    "end"
   ]
  },
  {
   "cell_type": "code",
   "execution_count": 14,
   "metadata": {
    "ExecuteTime": {
     "end_time": "2019-05-11T00:49:13.047692Z",
     "start_time": "2019-05-11T00:49:12.999Z"
    }
   },
   "outputs": [
    {
     "name": "stdout",
     "output_type": "stream",
     "text": [
      "\"w = aD, div = [\\\"a\\\", \\\"D\\\"], ww = (a)(d)\"\n"
     ]
    }
   ],
   "source": [
    "myw = Word.new(a[1], b[2].inverse).contract\n",
    "subs = myw.split(1)\n",
    "ww = subs[0]*(subs[1].inverse)\n",
    "p \"w = #{myw.show}, div = #{subs.map(&:show)}, ww = #{ww.show}\"\n",
    "\n",
    "ww.flatten!\n",
    "nil"
   ]
  },
  {
   "cell_type": "code",
   "execution_count": 15,
   "metadata": {
    "ExecuteTime": {
     "end_time": "2019-05-11T00:49:13.051589Z",
     "start_time": "2019-05-11T00:49:13.003Z"
    }
   },
   "outputs": [
    {
     "data": {
      "text/plain": [
       ":T"
      ]
     },
     "execution_count": 15,
     "metadata": {},
     "output_type": "execute_result"
    }
   ],
   "source": [
    "def T(w, verbose=false)\n",
    "  w.flatten!\n",
    "  ais = Gens[1..-1].each_slice(2).map(&:first).map!(&:inverse)\n",
    "  bs = Gens[1..-1].each_slice(2).map(&:last)\n",
    "  si = [Letter.new('S')]\n",
    "  \n",
    "  result = P(w)-N(w, ais+bs+si)\n",
    "  return (!verbose) ? result : result.to_s + \"  [P=#{P(w)}, A_bar=#{N(w, ais)}, B=#{N(w, bs)}, S_bar=#{N(w, si)}]\"\n",
    "end"
   ]
  },
  {
   "cell_type": "code",
   "execution_count": 16,
   "metadata": {
    "ExecuteTime": {
     "end_time": "2019-05-11T00:49:13.055567Z",
     "start_time": "2019-05-11T00:49:13.007Z"
    }
   },
   "outputs": [
    {
     "name": "stdout",
     "output_type": "stream",
     "text": [
      "\"w = aD, div = [\\\"a\\\", \\\"D\\\"], ww = (a)(d)\"\n",
      "\"T(w) = 0  [P=1, A_bar=0, B=1, S_bar=0]\"\n"
     ]
    }
   ],
   "source": [
    "myw = Word.new(a[1], b[2].inverse).contract\n",
    "subs = myw.split(1)\n",
    "ww = subs[0]*(subs[1].inverse)\n",
    "p \"w = #{myw.show}, div = #{subs.map(&:show)}, ww = #{ww.show}\"\n",
    "\n",
    "p \"T(w) = #{T(ww, true)}\"\n",
    "nil"
   ]
  },
  {
   "cell_type": "code",
   "execution_count": 17,
   "metadata": {
    "ExecuteTime": {
     "end_time": "2019-05-11T00:49:13.064998Z",
     "start_time": "2019-05-11T00:49:13.012Z"
    }
   },
   "outputs": [
    {
     "name": "stdout",
     "output_type": "stream",
     "text": [
      "\"abA\"\n",
      "true\n"
     ]
    },
    {
     "data": {
      "text/plain": [
       "3"
      ]
     },
     "execution_count": 17,
     "metadata": {},
     "output_type": "execute_result"
    }
   ],
   "source": [
    "w = Word.new(a[1], b[1], a[1].inverse)\n",
    "p w.show\n",
    "p w.first == w.last.inverse\n",
    "w.factors[1..-2].map(&:show)\n",
    "w.cyclic_permutation(1).contract.show\n",
    "w.size"
   ]
  },
  {
   "cell_type": "code",
   "execution_count": 110,
   "metadata": {
    "ExecuteTime": {
     "end_time": "2019-05-11T08:07:11.742296Z",
     "start_time": "2019-05-11T08:07:11.622Z"
    }
   },
   "outputs": [
    {
     "name": "stdout",
     "output_type": "stream",
     "text": [
      "\"word = dcDAeBDD, size = 8, num = 7\"\n",
      "\"word = DEcBad, size = 6, num = 5\"\n",
      "\"word = ebeABAeaaE, size = 10, num = 9\"\n",
      "\"word = CCaddc, size = 6, num = 5\"\n",
      "\"word = dBeBADcD, size = 8, num = 7\"\n",
      "\"word = BDcAABDb, size = 8, num = 7\"\n",
      "\"word = bECAdcdB, size = 8, num = 7\"\n",
      "\"word = AdcbdcdcBa, size = 10, num = 9\"\n",
      "\"word = ebbEdE, size = 6, num = 5\"\n",
      "\"word = dBaBaddCED, size = 10, num = 9\"\n",
      "\"word = eCAeaDCE, size = 8, num = 7\"\n",
      "\"word = dbAEEcBDDD, size = 10, num = 9\"\n",
      "\"word = cEdBeDaabC, size = 10, num = 9\"\n",
      "\"word = AcbDcdca, size = 8, num = 7\"\n",
      "\"word = DEDead, size = 6, num = 5\"\n",
      "\"word = AdBDBBDEda, size = 10, num = 9\"\n",
      "\"word = caBeAC, size = 6, num = 5\"\n",
      "\"word = CAdeDBBc, size = 8, num = 7\"\n"
     ]
    }
   ],
   "source": [
    "100.times do |e|\n",
    "  rw = Word.new\n",
    "  10.times do |c|\n",
    "    g = (rand(2)==0) ? Gens[rand(1...6)] : Gens[rand(1...6)].inverse\n",
    "    rw = (rw*Word.new(g)).contract\n",
    "  end\n",
    "  rw.factors.delete(Letter.new)\n",
    "  num = P(rw)+P(rw.inverse)\n",
    "  if num != rw.size \n",
    "    p \"word = #{rw.show}, size = #{rw.size}, num = #{num}\"\n",
    "  end\n",
    "end; nil"
   ]
  },
  {
   "cell_type": "code",
   "execution_count": 342,
   "metadata": {
    "ExecuteTime": {
     "end_time": "2019-05-12T09:36:23.284114Z",
     "start_time": "2019-05-12T09:36:23.277Z"
    }
   },
   "outputs": [],
   "source": [
    "def examine(myw, verbose=false)\n",
    "  flag = 0\n",
    "  result = ''\n",
    "  myw = myw.contract\n",
    "  (1...myw.size).each do |i|\n",
    "    div = myw.split(i)\n",
    "    words = [div[0]*(div[1].inverse), div[0].dup, div[1].inverse.dup]\n",
    "    for w in words\n",
    "      wcp = Group::Identity\n",
    "      while wcp.size < w.size\n",
    "        w.factors = wcp.factors unless wcp == Group::Identity\n",
    "        wcp = w.cyclic_permutation.contract\n",
    "      end\n",
    "    end\n",
    "    v0, v1, v2 = T(words[0]), T(words[1]), T(words[2])\n",
    "    if (verbose or v0 != v1 + v2) then\n",
    "      flag = 1\n",
    "      result += \"#{div.map(&:show)}  --->  \" + \\\n",
    "        \"T(#{words[0].show}) = #{v0}, T(#{words[1]}) + T(#{words[2]}) = #{v1} + #{v2} = #{v1+v2}\" + \\\n",
    "        \"\\n\"\n",
    "    end\n",
    "  end\n",
    "  printf (flag==0) ? \"*** SIMPLE ***\" : result\n",
    "end; nil"
   ]
  },
  {
   "cell_type": "code",
   "execution_count": 343,
   "metadata": {
    "ExecuteTime": {
     "end_time": "2019-05-12T09:36:30.184426Z",
     "start_time": "2019-05-12T09:36:30.172Z"
    }
   },
   "outputs": [
    {
     "name": "stdout",
     "output_type": "stream",
     "text": [
      "\"w = (a)(cdCD)\"\n",
      "*** SIMPLE ***"
     ]
    }
   ],
   "source": [
    "#myw = Word.new(a[1])*(comms[2].inverse)\n",
    "myw = Word.new(a[1])*comms[2]\n",
    "p \"w = #{myw.show}\"\n",
    "examine(myw); nil"
   ]
  },
  {
   "cell_type": "code",
   "execution_count": 331,
   "metadata": {
    "ExecuteTime": {
     "end_time": "2019-05-12T09:34:00.351194Z",
     "start_time": "2019-05-12T09:34:00.340Z"
    }
   },
   "outputs": [
    {
     "name": "stdout",
     "output_type": "stream",
     "text": [
      "\"myw = (((DB)(ca))(bd))(AC)\"\n"
     ]
    },
    {
     "data": {
      "text/plain": [
       "\"1  [P=5, A_bar=2, B=2, S_bar=0]\""
      ]
     },
     "execution_count": 331,
     "metadata": {},
     "output_type": "execute_result"
    }
   ],
   "source": [
    "w1 = Word.new(b[2].inverse, b[1].inverse).contract\n",
    "w2 = Word.new(a[2], a[1]).contract\n",
    "\n",
    "myw = w1*w2*(w1.inverse)*(w2.inverse)\n",
    "\n",
    "p \"myw = #{myw.show}\"\n",
    "T(myw, true)"
   ]
  },
  {
   "cell_type": "markdown",
   "metadata": {},
   "source": [
    "## Experiments"
   ]
  },
  {
   "cell_type": "markdown",
   "metadata": {},
   "source": [
    "### the words $a_{1}([a_{2},b_{2}]^{c})^{k}$, where $c=b_{1}^{a_{1}}$ and $k \\in \\mathbb{Z}$"
   ]
  },
  {
   "cell_type": "code",
   "execution_count": 346,
   "metadata": {
    "ExecuteTime": {
     "end_time": "2019-05-12T09:37:01.442816Z",
     "start_time": "2019-05-12T09:37:01.410Z"
    }
   },
   "outputs": [
    {
     "name": "stdout",
     "output_type": "stream",
     "text": [
      "\"myw = ((a)(cdCD))(cdCD)\"\n",
      "[\"acdCD\", \"cdCD\"]  --->  T(a) = 0, T(acdCD) + T(dcDC) = 2 + -1 = 1\n",
      "\"ow = ((a)(abAcdCDaBA))(abAcdCDaBA), aabAcdCDcdCDaBA\"\n",
      "[\"a\", \"abAcdCDcdCDaBA\"]  --->  T(abAdcDCdcDCaB) = -2, T(a) + T(dcDCdcDC) = 0 + -2 = -2\n",
      "[\"aa\", \"bAcdCDcdCDaBA\"]  --->  T(aaabAdcDCdcDCaB) = -2, T(aa) + T(abAdcDCdcDCaB) = 0 + -2 = -2\n",
      "[\"aab\", \"AcdCDcdCDaBA\"]  --->  T(aababAdcDCdcDCa) = -2, T(aab) + T(abAdcDCdcDCa) = 0 + -2 = -2\n",
      "[\"aabA\", \"cdCDcdCDaBA\"]  --->  T(abbAdcDCdcDCa) = -2, T(ab) + T(abAdcDCdcDC) = 0 + -2 = -2\n",
      "[\"aabAc\", \"dCDcdCDaBA\"]  --->  T(aabAcabAdcDCdcD) = 0, T(aabAc) + T(abAdcDCdcD) = 1 + -1 = 0\n",
      "[\"aabAcd\", \"CDcdCDaBA\"]  --->  T(aabAcdabAdcDCdc) = 0, T(aabAcd) + T(abAdcDCdc) = 1 + -1 = 0\n",
      "[\"aabAcdC\", \"DcdCDaBA\"]  --->  T(aabAcdCabAdcDCd) = 0, T(aabAcdC) + T(abAdcDCd) = 1 + -1 = 0\n",
      "[\"aabAcdCD\", \"cdCDaBA\"]  --->  T(aabAcdCDabAdcDC) = 1, T(aabAcdCD) + T(abAdcDC) = 2 + -1 = 1\n",
      "[\"aabAcdCDc\", \"dCDaBA\"]  --->  T(aabAcdCDcabAdcD) = 2, T(aabAcdCDc) + T(abAdcD) = 2 + 0 = 2\n",
      "[\"aabAcdCDcd\", \"CDaBA\"]  --->  T(aabAcdCDcdabAdc) = 2, T(aabAcdCDcd) + T(abAdc) = 2 + 0 = 2\n",
      "[\"aabAcdCDcdC\", \"DaBA\"]  --->  T(aabAcdCDcdCabAd) = 2, T(aabAcdCDcdC) + T(abAd) = 2 + 0 = 2\n",
      "[\"aabAcdCDcdCD\", \"aBA\"]  --->  T(abAcdCDcdCDab) = 3, T(aabAcdCDcdCD) + T(b) = 3 + 0 = 3\n",
      "[\"aabAcdCDcdCDa\", \"BA\"]  --->  T(aabAcdCDcdCDaab) = 3, T(aabAcdCDcdCDa) + T(ab) = 3 + 0 = 3\n",
      "[\"aabAcdCDcdCDaB\", \"A\"]  --->  T(aabAcdCDcdCDaBa) = 3, T(aabAcdCDcdCDaB) + T(a) = 3 + 0 = 3\n"
     ]
    }
   ],
   "source": [
    "a1 = Word.new(a[1])\n",
    "k=2\n",
    "\n",
    "#-----------------\n",
    "myw = a1; k.times{|i| myw = myw*comms[2]}\n",
    "p \"myw = #{myw.show}\"\n",
    "examine(myw)\n",
    "\n",
    "#-----------------\n",
    "c = Word.new(a[1], b[1], a[1].inverse)\n",
    "gamma = Group.commutator(comms[2].inverse, c)\n",
    "#p (comms[2]*gamma).contract.show\n",
    "\n",
    "ow = a1; k.times{|i| ow = ow*((comms[2]*gamma).contract)}\n",
    "p \"ow = #{ow.show}, #{ow.contract.show}\"\n",
    "examine(ow.contract, 1); nil"
   ]
  },
  {
   "cell_type": "markdown",
   "metadata": {},
   "source": [
    "### the word $a_{1}[a_{2}, a_{3}]$"
   ]
  },
  {
   "cell_type": "code",
   "execution_count": 348,
   "metadata": {
    "ExecuteTime": {
     "end_time": "2019-05-12T09:37:11.992350Z",
     "start_time": "2019-05-12T09:37:11.975Z"
    }
   },
   "outputs": [
    {
     "name": "stdout",
     "output_type": "stream",
     "text": [
      "\"w = aceCE\"\n",
      "[\"ac\", \"eCE\"]  --->  T(acecE) = 2, T(ac) + T(c) = 1 + 0 = 1\n",
      "[\"ace\", \"CE\"]  --->  T(aceec) = 2, T(ace) + T(ec) = 2 + 1 = 3\n",
      "[\"aceC\", \"E\"]  --->  T(aceCe) = 2, T(aceC) + T(e) = 1 + 0 = 1\n"
     ]
    }
   ],
   "source": [
    "myw = (Word.new(a[1])*Group.commutator(a[2], a[3])).contract\n",
    "p \"w = #{myw.show}\"\n",
    "\n",
    "examine(myw)"
   ]
  },
  {
   "cell_type": "markdown",
   "metadata": {},
   "source": [
    "Mod $\\Gamma_{3}$"
   ]
  },
  {
   "cell_type": "code",
   "execution_count": 349,
   "metadata": {
    "ExecuteTime": {
     "end_time": "2019-05-12T09:37:16.475305Z",
     "start_time": "2019-05-12T09:37:16.418Z"
    }
   },
   "outputs": [
    {
     "name": "stdout",
     "output_type": "stream",
     "text": [
      "[\"aceC\", \"E\"]\n",
      "\"(aceC)(((aabABAbaBA)(E))(abABabaBAA))\"\n",
      "*** SIMPLE ***"
     ]
    }
   ],
   "source": [
    "div = myw.split(4)\n",
    "p div.map(&:show)\n",
    "gamma = Group.commutator(a[1], comms[1])\n",
    "\n",
    "ow = div[0]*(gamma*div[1]*gamma.inverse)\n",
    "p ow.show\n",
    "\n",
    "examine(ow)"
   ]
  },
  {
   "cell_type": "code",
   "execution_count": 380,
   "metadata": {
    "ExecuteTime": {
     "end_time": "2019-05-12T09:58:26.881336Z",
     "start_time": "2019-05-12T09:58:26.701Z"
    }
   },
   "outputs": [
    {
     "name": "stdout",
     "output_type": "stream",
     "text": [
      "[\"a\", \"ceCE\"]\n",
      "\"(a)(((eefEFEfeFE)(ceCE))(efEFefeFEE))\"\n",
      "\"eefEFEfeFEceCfEFefeFEEa\"\n",
      "[\"e\", \"efEFEfeFEceCfEFefeFEEa\"]  --->  T(AeefEFEfeFcECefEFefeF) = 1, T(e) + T(AeefEFEfeFcECefEFefeFE) = 0 + 0 = 0\n",
      "[\"eefEFE\", \"feFEceCfEFefeFEEa\"]  --->  T(eefEFEAeefEFEfeFcECefEF) = 1, T(efEF) + T(AeefEFEfeFcECefEF) = 1 + 1 = 2\n",
      "[\"eefEFEfeFEce\", \"CfEFefeFEEa\"]  --->  T(eefEFEfeFEceAeefEFEfeFc) = 1, T(eefEFEfeFEce) + T(AeefEFEfeFc) = 0 + 0 = 0\n",
      "[\"eefEFEfeFEceC\", \"fEFefeFEEa\"]  --->  T(eefEFEfeFEceCAeefEFEfeF) = -1, T(eefEFEfeFEceC) + T(AeefEFEfeF) = 0 + 0 = 0\n",
      "[\"eefEFEfeFEceCfEF\", \"efeFEEa\"]  --->  T(efEFEfeFEceCfEFAeefEF) = 1, T(eefEFEfeFEceCfEF) + T(AeefEFE) = 0 + 0 = 0\n",
      "[\"eefEFEfeFEceCfEFefeFE\", \"Ea\"]  --->  T(eefEFEfeFEceCfEFefeFEAe) = -1, T(efEFEfeFEceCfEFefeF) + T(Ae) = 0 + 0 = 0\n",
      "[\"eefEFEfeFEceCfEFefeFEE\", \"a\"]  --->  T(eefEFEfeFEceCfEFefeFEEA) = -1, T(EceC) + T(A) = 0 + 0 = 0\n",
      "\n",
      "\n",
      "[\"ac\", \"eCE\"]\n",
      "\"(ac)(((eefEFEfeFE)(eCE))(efEFefeFEE))\"\n",
      "\"ceefEFEfeFCfEFefeFEEa\"\n",
      "*** SIMPLE ***\n",
      "\n",
      "[\"ace\", \"CE\"]\n",
      "\"(ace)(((eefEFEfeFE)(CE))(efEFefeFEE))\"\n",
      "\"ceeefEFEfeFECfEFefeFEEa\"\n",
      "[\"ceeefEFEfeFEC\", \"fEFefeFEEa\"]  --->  T(ceeefEFEfeFECAeefEFEfeF) = -1, T(eefEFEfeF) + T(AeefEFEfeF) = 0 + 0 = 0\n",
      "\n",
      "\n",
      "[\"aceC\", \"E\"]\n",
      "\"(aceC)(((eefEFEfeFE)(E))(efEFefeFEE))\"\n",
      "\"ceCeefEFEfeFEfEFefeFEEa\"\n",
      "*** SIMPLE ***\n",
      "\n"
     ]
    }
   ],
   "source": [
    "(myw.size-1).times do |i|\n",
    "  div = myw.split(i+1)\n",
    "  p div.map(&:show)\n",
    "\n",
    "  gamma = Group.commutator(a[3], comms[3])\n",
    "  ow = div[0]*(gamma*div[1]*(gamma.inverse))\n",
    "  p ow.show\n",
    "\n",
    "  '''\n",
    "  wcp = Group::Identity\n",
    "  while wcp.size < ow.size\n",
    "    ow.factors = wcp.factors unless wcp == Group::Identity\n",
    "    wcp = ow.cyclic_permutation.contract\n",
    "  end\n",
    "  p ow.show\n",
    "  '''\n",
    "  a1 = Word.new(a[1])\n",
    "  ow = ((a1.inverse)*ow*a1).contract\n",
    "  p ow.show\n",
    "  \n",
    "  examine(ow)\n",
    "  printf \"\\n\\n\"\n",
    "end; nil"
   ]
  },
  {
   "cell_type": "code",
   "execution_count": 377,
   "metadata": {
    "ExecuteTime": {
     "end_time": "2019-05-12T09:50:38.997125Z",
     "start_time": "2019-05-12T09:50:38.952Z"
    }
   },
   "outputs": [
    {
     "name": "stdout",
     "output_type": "stream",
     "text": [
      "[\"ac\", \"eCE\"]\n",
      "\"(ac)(((eefEFEfeFE)(eCE))(efEFefeFEE))\"\n",
      "\"aceefEFEfeFCfEFefeFEE\"\n",
      "[\"ac\", \"eefEFEfeFCfEFefeFEE\"]  --->  T(aceefEFEfeFcfEFefeFEE) = 2, T(ac) + T(c) = 1 + 0 = 1\n",
      "[\"ace\", \"efEFEfeFCfEFefeFEE\"]  --->  T(aceeefEFEfeFcfEFefeFE) = 2, T(ace) + T(efEFEfeFcfEFefeF) = 2 + 1 = 3\n",
      "[\"aceefEFE\", \"feFCfEFefeFEE\"]  --->  T(ceefEFefEFEfeFcfEFa) = 4, T(aceefEFE) + T(eefEFEfeFcfEF) = 2 + 1 = 3\n",
      "[\"aceefEFEfeF\", \"CfEFefeFEE\"]  --->  T(aceefEFEfeFeefEFEfeFc) = 2, T(aceefEFEfeF) + T(eefEFEfeFc) = 2 + 1 = 3\n",
      "[\"aceefEFEfeFC\", \"fEFefeFEE\"]  --->  T(aceefEFEfeFCeefEFEfeF) = 2, T(aceefEFEfeFC) + T(eefEFEfeF) = 1 + 0 = 1\n",
      "[\"aceefEFEfeFCfEF\", \"efeFEE\"]  --->  T(aceefEFEfeFCfEFeefEFE) = 2, T(aceefEFEfeFCfEF) + T(efEF) = 2 + 1 = 3\n",
      "[\"aceefEFEfeFCfEFefeFE\", \"E\"]  --->  T(ceefEFEfeFCfEFefeFa) = 2, T(aceefEFEfeFCfEFefeFE) + T(e) = 1 + 0 = 1\n"
     ]
    }
   ],
   "source": [
    "div = myw.split(2)\n",
    "p div.map(&:show)\n",
    "\n",
    "gamma = Group.commutator(a[3], comms[3])\n",
    "ow = div[0]*(gamma*div[1]*(gamma.inverse))\n",
    "p ow.show\n",
    "p ow.contract.show\n",
    "\n",
    "examine(ow)"
   ]
  },
  {
   "cell_type": "markdown",
   "metadata": {},
   "source": [
    "Mod $\\Gamma_{2}$"
   ]
  },
  {
   "cell_type": "code",
   "execution_count": 354,
   "metadata": {
    "ExecuteTime": {
     "end_time": "2019-05-12T09:39:47.209070Z",
     "start_time": "2019-05-12T09:39:47.136Z"
    }
   },
   "outputs": [
    {
     "name": "stdout",
     "output_type": "stream",
     "text": [
      "[\"a\", \"ceCE\"]\n",
      "\"(a)(((abAB)(ceCE))(baBA))\"\n",
      "\"abABceCEbaB\"\n",
      "*** SIMPLE ***\n",
      "\n",
      "[\"ac\", \"eCE\"]\n",
      "\"(ac)(((abAB)(eCE))(baBA))\"\n",
      "\"cabABeCEbaB\"\n",
      "[\"ca\", \"bABeCEbaB\"]  --->  T(cabABecEbaB) = 2, T(ca) + T(c) = 1 + 0 = 1\n",
      "[\"cabAB\", \"eCEbaB\"]  --->  T(abAABecEc) = 2, T(cabAB) + T(bABecE) = 2 + 1 = 3\n",
      "[\"cabABeC\", \"EbaB\"]  --->  T(cabABeCbABe) = 2, T(abABe) + T(bABe) = 2 + 1 = 3\n",
      "[\"cabABeCE\", \"baB\"]  --->  T(cabABeCEbAB) = 2, T(cabABeCE) + T(A) = 1 + 0 = 1\n",
      "\n",
      "\n",
      "[\"ace\", \"CE\"]\n",
      "\"(ace)(((abAB)(CE))(baBA))\"\n",
      "\"ceabABCEbaB\"\n",
      "[\"ceabAB\", \"CEbaB\"]  --->  T(eabAABecc) = 3, T(ceabAB) + T(bABec) = 3 + 1 = 4\n",
      "[\"ceabABCE\", \"baB\"]  --->  T(ceabABCEbAB) = 3, T(ceabABCE) + T(A) = 2 + 0 = 2\n",
      "\n",
      "\n",
      "[\"aceC\", \"E\"]\n",
      "\"(aceC)(((abAB)(E))(baBA))\"\n",
      "\"ceCabABEbaB\"\n",
      "[\"ceCa\", \"bABEbaB\"]  --->  T(ceCabABebaB) = 2, T(ceCa) + T(e) = 1 + 0 = 1\n",
      "[\"ceCabAB\", \"EbaB\"]  --->  T(eCabAABec) = 2, T(ceCabAB) + T(bABe) = 2 + 1 = 3\n",
      "[\"ceCabABE\", \"baB\"]  --->  T(ceCabABEbAB) = 2, T(ceCabABE) + T(A) = 1 + 0 = 1\n",
      "\n",
      "\n"
     ]
    }
   ],
   "source": [
    "(myw.size-1).times do |i|\n",
    "  div = myw.split(i+1)\n",
    "  p div.map(&:show)\n",
    "\n",
    "  gamma = comms[1]\n",
    "  ow = div[0]*(gamma*div[1]*(gamma.inverse))\n",
    "  p ow.show\n",
    "\n",
    "  wcp = Group::Identity\n",
    "  while wcp.size < ow.size\n",
    "    ow.factors = wcp.factors unless wcp == Group::Identity\n",
    "    wcp = ow.cyclic_permutation.contract\n",
    "  end\n",
    "  p ow.show\n",
    "  \n",
    "  examine(ow)\n",
    "  printf \"\\n\\n\"\n",
    "end; nil"
   ]
  },
  {
   "cell_type": "code",
   "execution_count": 234,
   "metadata": {
    "ExecuteTime": {
     "end_time": "2019-05-12T09:03:44.852058Z",
     "start_time": "2019-05-12T09:03:44.837Z"
    }
   },
   "outputs": [
    {
     "name": "stdout",
     "output_type": "stream",
     "text": [
      "\"aceabABCEbaBA\"\n",
      "\"[\\\"a\\\", \\\"ceabABCEbaBA\\\"]\"\n",
      "T((a)(abABecbaBAEC)) = -1  [P=5, A_bar=4, B=2, S_bar=0]\n",
      "T(a)             = 0  [P=0, A_bar=0, B=0, S_bar=0]\n",
      "T(abABecbaBAEC)  = -1  [P=5, A_bar=4, B=2, S_bar=0]\n"
     ]
    }
   ],
   "source": [
    "p ow.show\n",
    "div = ow.split(1)\n",
    "p \"#{div.map(&:show)}\"\n",
    "\n",
    "words = [div[0]*(div[1].inverse), div[0].dup, div[1].inverse.dup]\n",
    "for w in words\n",
    "  wcp = Group::Identity\n",
    "  while wcp.size < w.size\n",
    "    w.factors = wcp.factors unless wcp == Group::Identity\n",
    "    wcp = w.cyclic_permutation.contract\n",
    "  end\n",
    "end\n",
    "\n",
    "3.times do |i|\n",
    "  printf(\"%-16s = %-30s\\n\", \"T(#{words[i].show})\", T(words[i], true))\n",
    "end; nil"
   ]
  },
  {
   "cell_type": "code",
   "execution_count": 230,
   "metadata": {
    "ExecuteTime": {
     "end_time": "2019-05-12T09:01:18.424757Z",
     "start_time": "2019-05-12T09:01:18.415Z"
    }
   },
   "outputs": [
    {
     "name": "stdout",
     "output_type": "stream",
     "text": [
      "[\"a\", \"B\", \"A\", \"b\", \"c\", \"D\", \"C\", \"d\", \"e\", \"F\", \"E\", \"f\"]\n"
     ]
    }
   ],
   "source": [
    "p Rseq.map(&:show); nil"
   ]
  }
 ],
 "metadata": {
  "kernelspec": {
   "display_name": "Ruby 2.6.1",
   "language": "ruby",
   "name": "ruby"
  },
  "language_info": {
   "file_extension": ".rb",
   "mimetype": "application/x-ruby",
   "name": "ruby",
   "version": "2.6.1"
  },
  "toc": {
   "base_numbering": 1,
   "nav_menu": {},
   "number_sections": false,
   "sideBar": true,
   "skip_h1_title": true,
   "title_cell": "Table of Contents",
   "title_sidebar": "Contents",
   "toc_cell": false,
   "toc_position": {},
   "toc_section_display": true,
   "toc_window_display": false
  },
  "varInspector": {
   "cols": {
    "lenName": 16,
    "lenType": 16,
    "lenVar": 40
   },
   "kernels_config": {
    "python": {
     "delete_cmd_postfix": "",
     "delete_cmd_prefix": "del ",
     "library": "var_list.py",
     "varRefreshCmd": "print(var_dic_list())"
    },
    "r": {
     "delete_cmd_postfix": ") ",
     "delete_cmd_prefix": "rm(",
     "library": "var_list.r",
     "varRefreshCmd": "cat(var_dic_list()) "
    }
   },
   "types_to_exclude": [
    "module",
    "function",
    "builtin_function_or_method",
    "instance",
    "_Feature"
   ],
   "window_display": false
  }
 },
 "nbformat": 4,
 "nbformat_minor": 2
}
