{
 "cells": [
  {
   "cell_type": "markdown",
   "metadata": {},
   "source": [
    "# Kaprekar Numbers"
   ]
  },
  {
   "cell_type": "code",
   "execution_count": 3,
   "metadata": {
    "ExecuteTime": {
     "end_time": "2018-07-09T17:28:47.606712Z",
     "start_time": "2018-07-09T17:28:47.599Z"
    }
   },
   "outputs": [],
   "source": [
    "module Kaprekar extend self\n",
    "  def get_next(num) max(num) - min(num) end\n",
    "\n",
    "  def array_from(num)\n",
    "    myarr = [0] \n",
    "    while myarr.length < 100\n",
    "      myarr << num\n",
    "      break if myarr.count(num) == 2\n",
    "      num = get_next(num)\n",
    "    end\n",
    "    return myarr.drop(1)\n",
    "  end\n",
    "  \n",
    "  def find_loops(digit)\n",
    "    n = 10**(digit-1)\n",
    "    myarr = (n..n*10).each_with_object([]){ |num, arrays| arrays << self.array_from(num) }\n",
    "    terminals = myarr.map{|a| a[-1]}.uniq.drop(1)\n",
    "    rtn = []\n",
    "    terminals.each_with_object([]) do |num, stack|\n",
    "      unless stack.include?(num)\n",
    "        rtn << self.array_from(num)     \n",
    "        stack.push(rtn[-1]).flatten!\n",
    "      end\n",
    "    end\n",
    "    return rtn\n",
    "  end\n",
    "  \n",
    "  private\n",
    "  def split(num)\n",
    "    raise ArgumentError unless num.is_a?(Integer)\n",
    "    return num.to_s.split(\"\")\n",
    "  end\n",
    "  def min(num) split(num).sort.join.to_i end\n",
    "  def max(num) split(num).sort.reverse.join.to_i end  \n",
    "end; nil"
   ]
  },
  {
   "cell_type": "code",
   "execution_count": 5,
   "metadata": {
    "ExecuteTime": {
     "end_time": "2018-07-09T17:29:48.552839Z",
     "start_time": "2018-07-09T17:29:48.542Z"
    }
   },
   "outputs": [
    {
     "data": {
      "text/plain": [
       "[532812, 730863, 842652, 640854, 820872, 864432, 629964, 749943, 652644, 420876, 851742, 750843, 840852, 860832, 862632, 642654, 420876]"
      ]
     },
     "execution_count": 5,
     "metadata": {},
     "output_type": "execute_result"
    }
   ],
   "source": [
    "n = 532812\n",
    "Kaprekar.array_from(n)"
   ]
  },
  {
   "cell_type": "code",
   "execution_count": null,
   "metadata": {
    "ExecuteTime": {
     "end_time": "2018-07-09T08:15:12.079923Z",
     "start_time": "2018-07-09T08:15:03.513Z"
    }
   },
   "outputs": [],
   "source": [
    "myarr = []\n",
    "(100..1000).each{|n| myarr << Kaprekar.array_from(n)}\n",
    "# myarr.map{|a| a.length - 1 }"
   ]
  },
  {
   "cell_type": "code",
   "execution_count": null,
   "metadata": {
    "ExecuteTime": {
     "end_time": "2018-07-09T08:15:12.177440Z",
     "start_time": "2018-07-09T08:15:04.261Z"
    }
   },
   "outputs": [],
   "source": [
    "require 'rbplotly'\n",
    "\n",
    "trace = { x: (100..1000).to_a, y: myarr.map{|a| a.length - 1}} #, mode: :markers }\n",
    "pl = Plotly::Plot.new(data: [trace])\n",
    "pl.show"
   ]
  },
  {
   "cell_type": "code",
   "execution_count": 7,
   "metadata": {
    "ExecuteTime": {
     "end_time": "2018-07-09T19:00:19.339529Z",
     "start_time": "2018-07-09T17:45:16.480Z"
    }
   },
   "outputs": [
    {
     "data": {
      "text/plain": [
       "[[8649432, 7519743, 8429652, 7619733, 8439552, 7509843, 9529641, 8719722, 8649432]]"
      ]
     },
     "execution_count": 7,
     "metadata": {},
     "output_type": "execute_result"
    }
   ],
   "source": [
    "Kaprekar.find_loops(7)"
   ]
  },
  {
   "cell_type": "code",
   "execution_count": null,
   "metadata": {},
   "outputs": [],
   "source": []
  }
 ],
 "metadata": {
  "kernelspec": {
   "display_name": "Ruby 2.4.0",
   "language": "ruby",
   "name": "ruby"
  },
  "language_info": {
   "file_extension": ".rb",
   "mimetype": "application/x-ruby",
   "name": "ruby",
   "version": "2.4.0"
  },
  "toc": {
   "base_numbering": 1,
   "nav_menu": {},
   "number_sections": true,
   "sideBar": true,
   "skip_h1_title": true,
   "title_cell": "Table of Contents",
   "title_sidebar": "Contents",
   "toc_cell": false,
   "toc_position": {},
   "toc_section_display": true,
   "toc_window_display": false
  },
  "varInspector": {
   "cols": {
    "lenName": 16,
    "lenType": 16,
    "lenVar": 40
   },
   "kernels_config": {
    "python": {
     "delete_cmd_postfix": "",
     "delete_cmd_prefix": "del ",
     "library": "var_list.py",
     "varRefreshCmd": "print(var_dic_list())"
    },
    "r": {
     "delete_cmd_postfix": ") ",
     "delete_cmd_prefix": "rm(",
     "library": "var_list.r",
     "varRefreshCmd": "cat(var_dic_list()) "
    }
   },
   "types_to_exclude": [
    "module",
    "function",
    "builtin_function_or_method",
    "instance",
    "_Feature"
   ],
   "window_display": false
  }
 },
 "nbformat": 4,
 "nbformat_minor": 2
}
