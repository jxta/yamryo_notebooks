{
 "cells": [
  {
   "cell_type": "markdown",
   "metadata": {},
   "source": [
    "## ruby_experiment/src/Experiment.rb"
   ]
  },
  {
   "cell_type": "code",
   "execution_count": 55,
   "metadata": {},
   "outputs": [
    {
     "data": {
      "text/plain": [
       ":=="
      ]
     },
     "execution_count": 55,
     "metadata": {},
     "output_type": "execute_result"
    }
   ],
   "source": [
    "module Element\n",
    "  def initialize(factors = [])\n",
    "    @factors = factors\n",
    "    @name = @factors.map(&:show).join\n",
    "  end\n",
    "  attr_reader :factors\n",
    "  #---\n",
    "  def show() @name end\n",
    "  def to_s() self.show end\n",
    "  def length() @factors.length end\n",
    "  def ==(anElement) self.show == anElement.show end\n",
    "end"
   ]
  },
  {
   "cell_type": "code",
   "execution_count": 56,
   "metadata": {},
   "outputs": [
    {
     "data": {
      "text/plain": [
       ":inverse_of?"
      ]
     },
     "execution_count": 56,
     "metadata": {},
     "output_type": "execute_result"
    }
   ],
   "source": [
    "class Letter\n",
    "  include Element\n",
    "  #---\n",
    "  def initialize(char='1')\n",
    "    super()\n",
    "    @factors = nil\n",
    "    raise ArgumentError, \"You can use alphabet and '1'\" unless char[0] =~ /[1a-zA-Z]/\n",
    "    @char = char[0]\n",
    "    @name = @char\n",
    "    @length = 1\n",
    "  end\n",
    "  attr_reader :char, :length\n",
    "  #---\n",
    "  def =~(a_Letter)\n",
    "    raise ArgumentError unless a_Letter.is_a? Letter\n",
    "    @char.downcase == a_Letter.char.downcase\n",
    "  end\n",
    "  def ==(a_Letter)\n",
    "    (self =~ a_Letter) && (self.inverse? == a_Letter.inverse?)\n",
    "  end\n",
    "  def ===(a_Letter)\n",
    "    raise(ArgumentError) unless a_Letter.is_a?(Letter)\n",
    "    self.object_id == a_Letter.object_id\n",
    "  end\n",
    "  def <=>(a_Letter)\n",
    "    raise(ArgumentError) unless a_Letter.is_a?(Letter)\n",
    "    self.show <=> another.show\n",
    "  end\n",
    "  #---\n",
    "  def inverse\n",
    "    if @char == '1' then\n",
    "      self\n",
    "    else\n",
    "      inv_char = self.inverse? ? @char.downcase : @char.upcase\n",
    "      inv_name = @name.end_with?('^{-1}') ? @name.gsub('^{-1}','') : @name+'^{-1}'\n",
    "      Letter.new(inv_char, name: inv_name)\n",
    "    end\n",
    "  end\n",
    "  def inverse?() (@char == '1') ? nil : (@char == @char.upcase) end\n",
    "  def inverse_of?(a_Letter)\n",
    "    (@char == '1') ? (a_Letter.char == '1') : (self =~ a_Letter) && !(self == a_Letter)\n",
    "  end\n",
    "end"
   ]
  },
  {
   "cell_type": "code",
   "execution_count": 57,
   "metadata": {},
   "outputs": [
    {
     "data": {
      "text/plain": [
       "[\"a\", \"e\"]"
      ]
     },
     "execution_count": 57,
     "metadata": {},
     "output_type": "execute_result"
    }
   ],
   "source": [
    "ltr1,ltr2 = Letter.new('a'), Letter.new('e');[ltr1.show,ltr2.show]"
   ]
  },
  {
   "cell_type": "code",
   "execution_count": null,
   "metadata": {},
   "outputs": [],
   "source": [
    "  #---\n",
    "  def product_with(another)\n",
    "    if @char == '1' then\n",
    "      another\n",
    "    elsif another.to_s == '1' then\n",
    "      self\n",
    "    elsif self.inverse_of?(another) then\n",
    "      Word::Identity\n",
    "    else\n",
    "      Word.new * self * another\n",
    "    end\n",
    "  end\n",
    "  #---\n",
    "  def flatten\n",
    "    Word.new(self.to_s)\n",
    "  end\n",
    "  def flatten!\n",
    "    set(self.to_s)\n",
    "    self\n",
    "  end\n",
    "  #---\n",
    "  def show_parens\n",
    "    @factors.map{|f| (f.length == 1) ? f.show : \"(#{f.show_parens})\"}.join\n",
    "  end\n",
    "  #---"
   ]
  },
  {
   "cell_type": "code",
   "execution_count": 58,
   "metadata": {},
   "outputs": [
    {
     "data": {
      "text/plain": [
       ":contract"
      ]
     },
     "execution_count": 58,
     "metadata": {},
     "output_type": "execute_result"
    }
   ],
   "source": [
    "class Word\n",
    "  include Element\n",
    "  #---\n",
    "  # Word class consists of an array of Letter objects\n",
    "  #---\n",
    "  def initialize(str='')\n",
    "    super(set_factors(str))\n",
    "  end\n",
    "  #---\n",
    "  def set_factors(str)\n",
    "    raise ArgumentError unless str.is_a?(String)\n",
    "    factors = []\n",
    "    str.each_char{|c| factors << Letter.new(c) if c =~ /[1a-zA-Z]/}\n",
    "    return factors\n",
    "  end\n",
    "  #---\n",
    "  def pop() @factors.pop end\n",
    "  def letter_at(int) @factors[int] end\n",
    "  def [](int) self.letter_at(int) end\n",
    "  #---\n",
    "  def contract\n",
    "    size_diff = 1\n",
    "    while (size_diff > 0 and @factors.size > 1)\n",
    "      previous_size = @factors.size\n",
    "      #\n",
    "#       @factors.each_with_index do |factor, idx|\n",
    "#         if (idx < @factors.size - 1) then\n",
    "#           (0..1).each do |k|\n",
    "#             pair = @factors.slice!(idx+k, 2)\n",
    "#             @factors.insert(idx+k, pair[0]*pair[1])\n",
    "#             self.flatten!\n",
    "#             set_name\n",
    "#           end\n",
    "#         end\n",
    "#       end\n",
    "      myarr = [@factors[0]]\n",
    "      @factors.each_cons(2) do |f1, f2|\n",
    "        (f1 =~ f2 and !(f1 == f2)) ? myarr.pop : myarr << f2\n",
    "      end\n",
    "      @factors = myarr\n",
    "      #\n",
    "      size_diff = previous_size - @factors.size\n",
    "    end\n",
    "    #\n",
    "    self\n",
    "  end\n",
    "end"
   ]
  },
  {
   "cell_type": "code",
   "execution_count": 59,
   "metadata": {},
   "outputs": [
    {
     "data": {
      "text/plain": [
       "\"abCc\""
      ]
     },
     "execution_count": 59,
     "metadata": {},
     "output_type": "execute_result"
    }
   ],
   "source": [
    "myw = Word.new('abCc'); myw.show"
   ]
  },
  {
   "cell_type": "code",
   "execution_count": 61,
   "metadata": {},
   "outputs": [
    {
     "data": {
      "text/plain": [
       "[#<Letter:0x007fd1c8180be0 @factors=nil, @name=\"a\", @char=\"a\", @length=1>, #<Letter:0x007fd1c8180848 @factors=nil, @name=\"b\", @char=\"b\", @length=1>, #<Letter:0x007fd1c8180280 @factors=nil, @name=\"C\", @char=\"C\", @length=1>, #<Letter:0x007fd1c81820d0 @factors=nil, @name=\"c\", @char=\"c\", @length=1>]"
      ]
     },
     "execution_count": 61,
     "metadata": {},
     "output_type": "execute_result"
    }
   ],
   "source": [
    "myw.factors.each(&:inverto_s)"
   ]
  },
  {
   "cell_type": "code",
   "execution_count": null,
   "metadata": {},
   "outputs": [],
   "source": [
    "module Group extend self\n",
    "  Identity = Word.new\n",
    "  #---\n",
    "  def product(element1,element2)\n",
    "    raise(ArgumentError) unless [element1, element2].all?{|elm| elm.is_a?(Element)}\n",
    "    product = element1.dup\n",
    "    product.factors = element1.factors + element2.factors\n",
    "    product.set_name\n",
    "    return product\n",
    "  end\n",
    "end"
   ]
  }
 ],
 "metadata": {
  "kernelspec": {
   "display_name": "Ruby 2.4.0",
   "language": "ruby",
   "name": "ruby"
  },
  "language_info": {
   "file_extension": ".rb",
   "mimetype": "application/x-ruby",
   "name": "ruby",
   "version": "2.4.0"
  }
 },
 "nbformat": 4,
 "nbformat_minor": 2
}
