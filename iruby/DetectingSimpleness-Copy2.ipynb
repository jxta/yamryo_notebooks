{
 "cells": [
  {
   "cell_type": "markdown",
   "metadata": {},
   "source": [
    "# Setting the fundarmental group of $\\Sigma_{g,1}$ "
   ]
  },
  {
   "cell_type": "code",
   "execution_count": 1,
   "metadata": {
    "ExecuteTime": {
     "end_time": "2019-05-16T05:06:39.908869Z",
     "start_time": "2019-05-16T05:06:39.900Z"
    }
   },
   "outputs": [
    {
     "data": {
      "text/plain": [
       "true"
      ]
     },
     "execution_count": 1,
     "metadata": {},
     "output_type": "execute_result"
    }
   ],
   "source": [
    "require './freegroup.rb'"
   ]
  },
  {
   "cell_type": "markdown",
   "metadata": {},
   "source": [
    "## generators"
   ]
  },
  {
   "cell_type": "code",
   "execution_count": 2,
   "metadata": {
    "ExecuteTime": {
     "end_time": "2019-05-16T05:06:39.922884Z",
     "start_time": "2019-05-16T05:06:39.905Z"
    }
   },
   "outputs": [
    {
     "name": "stdout",
     "output_type": "stream",
     "text": [
      "[\"a\", \"b\", \"c\", \"d\", \"e\", \"f\"]\n",
      "[\"1\", \"a\", \"c\", \"e\"]\n"
     ]
    }
   ],
   "source": [
    "genus = 3\n",
    "alphabet = %w(a b c d e f)\n",
    "\n",
    "Gens = [Letter.new] + alphabet.map{|x| Letter.new(x)}\n",
    "Gens.freeze\n",
    "p Gens[1..-1].map(&:show)\n",
    "\n",
    "a = [Gens[0]] + Gens[1..-1].each_slice(2).map(&:first)\n",
    "b = [Gens[0]] + Gens[1..-1].each_slice(2).map(&:last)\n",
    "p a.map(&:show)\n",
    "nil"
   ]
  },
  {
   "cell_type": "code",
   "execution_count": 3,
   "metadata": {
    "ExecuteTime": {
     "end_time": "2019-05-16T05:06:39.930048Z",
     "start_time": "2019-05-16T05:06:39.910Z"
    }
   },
   "outputs": [
    {
     "name": "stdout",
     "output_type": "stream",
     "text": [
      "[\"1111\", \"abAB\", \"cdCD\", \"efEF\"]\n"
     ]
    },
    {
     "data": {
      "text/plain": [
       "[\"1111\", \"abAB\", \"cdCD\", \"efEF\"]"
      ]
     },
     "execution_count": 3,
     "metadata": {},
     "output_type": "execute_result"
    }
   ],
   "source": [
    "comms = []\n",
    "(Gens.size/2 + 1).times do |i|\n",
    "  comms << Group.commutator(a[i], b[i])\n",
    "end\n",
    "p comms.map(&:show)"
   ]
  },
  {
   "cell_type": "code",
   "execution_count": 4,
   "metadata": {
    "ExecuteTime": {
     "end_time": "2019-05-16T05:06:39.947268Z",
     "start_time": "2019-05-16T05:06:39.915Z"
    }
   },
   "outputs": [
    {
     "name": "stdout",
     "output_type": "stream",
     "text": [
      "\"Del = (((abAB)(cdCD))(efEF))(s)\"\n",
      "[\"bABcdCDefEFsa\", \"ASfeFEdcDCbaB\", \"ABcdCDefEFsab\", \"BASfeFEdcDCba\", \"BcdCDefEFsabA\", \"aBASfeFEdcDCb\", \"cdCDefEFsabAB\", \"baBASfeFEdcDC\", \"dCDefEFsabABc\", \"CbaBASfeFEdcD\", \"CDefEFsabABcd\", \"DCbaBASfeFEdc\", \"DefEFsabABcdC\", \"cDCbaBASfeFEd\", \"efEFsabABcdCD\", \"dcDCbaBASfeFE\", \"fEFsabABcdCDe\", \"EdcDCbaBASfeF\", \"EFsabABcdCDef\", \"FEdcDCbaBASfe\", \"FsabABcdCDefE\", \"eFEdcDCbaBASf\", \"sabABcdCDefEF\", \"feFEdcDCbaBAS\", \"abABcdCDefEFs\", \"SfeFEdcDCbaBA\"]\n"
     ]
    }
   ],
   "source": [
    "Del = (comms[1]*comms[2]*comms[3]*Word.new('s')).freeze\n",
    "p 'Del = ' + Del.show\n",
    "\n",
    "DelPerms = []\n",
    "perm = Del.dup\n",
    "(Del.size).times do |n|\n",
    "  perm = perm.cyclic_permutation\n",
    "  DelPerms << perm << perm.inverse\n",
    "end\n",
    "DelPerms.freeze\n",
    "p DelPerms.map(&:show)\n",
    "nil"
   ]
  },
  {
   "cell_type": "code",
   "execution_count": 5,
   "metadata": {
    "ExecuteTime": {
     "end_time": "2019-05-16T05:06:39.951753Z",
     "start_time": "2019-05-16T05:06:39.919Z"
    }
   },
   "outputs": [
    {
     "name": "stderr",
     "output_type": "stream",
     "text": [
      "<main>:2: warning: already initialized constant Rseq\n",
      "<main>:2: warning: already initialized constant Rseq\n",
      "<main>:2: warning: previous definition of Rseq was here\n",
      "<main>:2: warning: already initialized constant Rseq\n",
      "<main>:2: warning: previous definition of Rseq was here\n"
     ]
    },
    {
     "name": "stdout",
     "output_type": "stream",
     "text": [
      "[\"a\", \"B\", \"A\", \"b\", \"c\", \"D\", \"C\", \"d\", \"e\", \"F\", \"E\", \"f\"]\n"
     ]
    }
   ],
   "source": [
    "Rseq = []\n",
    "(Gens.size/2).times do |i|\n",
    "  Rseq += [a[i+1], b[i+1].inverse, a[i+1].inverse, b[i+1]]\n",
    "end\n",
    "Rseq.freeze\n",
    "p Rseq.map(&:show) #.index('A')\n",
    "nil"
   ]
  },
  {
   "cell_type": "markdown",
   "metadata": {},
   "source": [
    "# The Algorithm"
   ]
  },
  {
   "cell_type": "code",
   "execution_count": 355,
   "metadata": {
    "ExecuteTime": {
     "end_time": "2019-05-17T07:28:18.775381Z",
     "start_time": "2019-05-17T07:28:18.766Z"
    }
   },
   "outputs": [
    {
     "name": "stdout",
     "output_type": "stream",
     "text": [
      "\"(a)((cdCD)(cdCD))\"\n"
     ]
    },
    {
     "data": {
      "text/plain": [
       "\"(a)((cdCD)(cdCD))\""
      ]
     },
     "execution_count": 355,
     "metadata": {},
     "output_type": "execute_result"
    }
   ],
   "source": [
    "#myw = Word.new(a[1], b[1], a[1].inverse)\n",
    "#myw = comms[1]\n",
    "myw = Word.new(a[1])*(comms[2]^2)\n",
    "p myw.show"
   ]
  },
  {
   "cell_type": "code",
   "execution_count": 356,
   "metadata": {
    "ExecuteTime": {
     "end_time": "2019-05-17T07:28:19.250748Z",
     "start_time": "2019-05-17T07:28:19.235Z"
    }
   },
   "outputs": [
    {
     "name": "stdout",
     "output_type": "stream",
     "text": [
      "{\"a\"=>[1], \"B\"=>[], \"A\"=>[2], \"b\"=>[], \"c\"=>[16, 8, 3, 11], \"D\"=>[14, 6, 9, 17], \"C\"=>[12, 4, 7, 15], \"d\"=>[18, 10, 5, 13], \"e\"=>[], \"F\"=>[], \"E\"=>[], \"f\"=>[]}\n",
      "[[1], [], [2], [], [16, 8, 3, 11], [14, 6, 9, 17], [12, 4, 7, 15], [18, 10, 5, 13], [], [], [], []]\n",
      "\"[1][][2][][16, 8, 3, 11][14, 6, 9, 17][12, 4, 7, 15][18, 10, 5, 13][][][][]\"\n"
     ]
    }
   ],
   "source": [
    "box = {}\n",
    "Rseq.each{|x| box.store(x.char,[])}\n",
    "\n",
    "facs = myw.flatten.factors\n",
    "\n",
    "facs.each_with_index do |c, i|\n",
    "  k = i+1\n",
    "  box[c.char].insert(-1, 2*k-1)\n",
    "  box[c.inverse.char].insert(0,2*k)\n",
    "end\n",
    "p box, box.values, box.values.map(&:to_s).join\n",
    "nil"
   ]
  },
  {
   "cell_type": "code",
   "execution_count": 357,
   "metadata": {
    "ExecuteTime": {
     "end_time": "2019-05-17T07:28:19.832936Z",
     "start_time": "2019-05-17T07:28:19.817Z"
    }
   },
   "outputs": [
    {
     "name": "stdout",
     "output_type": "stream",
     "text": [
      "\"[1][][2][][16, 8, 3, 11][14, 6, 9, 17][12, 4, 7, 15][18, 10, 5, 13][][][][]\"\n",
      "----------------------\n",
      "\"[8, 3] : -1, [1][][2][][10, 5][8, 3, 11][6, 9][12, 4, 7][][][][] (x) [][][][][6, 1][4][2, 5][3][][][][]\"\n",
      "\"[6, 9] : 1, [1][][2][][14, 3, 9][12, 6, 7, 15][10, 4, 13][16, 8, 5, 11][][][][] (x) [][][][][2][][1][][][][][]\"\n",
      "\"[4, 7] : 1, [1][][2][][14, 6, 3, 9][12, 7, 15][10, 4, 5, 13][16, 8, 11][][][][] (x) [][][][][][2][][1][][][][]\"\n",
      "\"[10, 5] : -1, [1][][2][][10, 3, 5][8, 11][6, 4, 9][12, 7][][][][] (x) [][][][][4][2, 5][3][6, 1][][][][]\"\n"
     ]
    }
   ],
   "source": [
    "p box.values.map(&:to_s).join\n",
    "\n",
    "coprods = []\n",
    "box.values.flatten.each_cons(2) do |pair|\n",
    "  if (pair[0].even? and pair[1].odd?) then\n",
    "    elm1, elm2 = {}, {}\n",
    "    order = (pair[0] < pair[1])\n",
    "    num = (order) ? [pair[0], pair[1]-1] : [pair[1]-1, pair[0]]\n",
    "    box.each_pair do |key, arr|\n",
    "      # separate the box\n",
    "      a1 = arr.select{|x| x <= num[0] or num[1] < x}\n",
    "      a2 = arr.select{|x| num[0] < x and x <= num[1]}\n",
    "      # shift numbers\n",
    "      a1.map!{|x| (num[1]<x) ? x-(num[1]-num[0]) : x}\n",
    "      a2.map!{|x| x-num[0]}\n",
    "      # store values into the boxes\n",
    "      elm1.store(key, a1)\n",
    "      elm2.store(key, a2)\n",
    "    end\n",
    "    # contract elm1 & elm2\n",
    "    # ---\n",
    "    # \n",
    "    coprods << {pair: pair, sign: (order) ? 1 : -1, elm1: elm1, elm2: elm2}\n",
    "  end\n",
    "end\n",
    "  \n",
    "printf(\"----------------------\\n\")\n",
    "coprods.each do|h|\n",
    "  str1 = h[:elm1].values.map(&:to_s).join\n",
    "  str2 = h[:elm2].values.map(&:to_s).join\n",
    "  p \"#{h[:pair]} : #{h[:sign]}, \" + str1 + \" (x) \" + str2\n",
    "end\n",
    "nil"
   ]
  },
  {
   "cell_type": "code",
   "execution_count": 358,
   "metadata": {
    "ExecuteTime": {
     "end_time": "2019-05-17T07:28:20.595723Z",
     "start_time": "2019-05-17T07:28:20.538Z"
    }
   },
   "outputs": [
    {
     "name": "stdout",
     "output_type": "stream",
     "text": [
      "[[1], [], [2], [], [16, 8, 3, 11], [14, 6, 9, 17], [12, 4, 7, 15], [18, 10, 5, 13], [], [], [], []]\n",
      "\"[[2, 3], [4, 5]] --> [2, 3, 4, 5] : [0, 1, 2, 3]\"\n",
      "\"[[2, 3], [6, 7]] --> [2, 3, 6, 7] : [0, 1, 2, 3]\"\n",
      "\"[[2, 3], [8, 9]] --> [2, 8, 3, 9] : [0, 2, 1, 3]\"\n",
      "\"[[2, 3], [10, 11]] --> [2, 3, 11, 10] : [0, 1, 3, 2]\"\n",
      "\"[[2, 3], [12, 13]] --> [2, 3, 12, 13] : [0, 1, 2, 3]\"\n",
      "\"[[2, 3], [14, 15]] --> [2, 3, 14, 15] : [0, 1, 2, 3]\"\n",
      "\"[[2, 3], [16, 17]] --> [2, 16, 3, 17] : [0, 2, 1, 3]\"\n",
      "\"[[2, 3], [18, 1]] --> [1, 2, 3, 18] : [3, 0, 1, 2]\"\n",
      "\"[[4, 5], [6, 7]] --> [6, 4, 7, 5] : [2, 0, 3, 1]\"\n",
      "\"[[4, 5], [8, 9]] --> [8, 9, 4, 5] : [2, 3, 0, 1]\"\n",
      "\"[[4, 5], [10, 11]] --> [11, 4, 10, 5] : [3, 0, 2, 1]\"\n",
      "\"[[4, 5], [12, 13]] --> [12, 4, 5, 13] : [2, 0, 1, 3]\"\n",
      "\"[[4, 5], [14, 15]] --> [14, 4, 15, 5] : [2, 0, 3, 1]\"\n",
      "\"[[4, 5], [16, 17]] --> [16, 17, 4, 5] : [2, 3, 0, 1]\"\n",
      "\"[[4, 5], [18, 1]] --> [1, 4, 18, 5] : [3, 0, 2, 1]\"\n",
      "\"[[6, 7], [8, 9]] --> [8, 6, 9, 7] : [2, 0, 3, 1]\"\n",
      "\"[[6, 7], [10, 11]] --> [11, 6, 7, 10] : [3, 0, 1, 2]\"\n",
      "\"[[6, 7], [12, 13]] --> [6, 12, 7, 13] : [0, 2, 1, 3]\"\n",
      "\"[[6, 7], [14, 15]] --> [14, 6, 7, 15] : [2, 0, 1, 3]\"\n",
      "\"[[6, 7], [16, 17]] --> [16, 6, 17, 7] : [2, 0, 3, 1]\"\n",
      "\"[[6, 7], [18, 1]] --> [1, 6, 7, 18] : [3, 0, 1, 2]\"\n",
      "\"[[8, 9], [10, 11]] --> [8, 11, 9, 10] : [0, 3, 1, 2]\"\n",
      "\"[[8, 9], [12, 13]] --> [8, 9, 12, 13] : [0, 1, 2, 3]\"\n",
      "\"[[8, 9], [14, 15]] --> [8, 14, 9, 15] : [0, 2, 1, 3]\"\n",
      "\"[[8, 9], [16, 17]] --> [16, 8, 9, 17] : [2, 0, 1, 3]\"\n",
      "\"[[8, 9], [18, 1]] --> [1, 8, 9, 18] : [3, 0, 1, 2]\"\n",
      "\"[[10, 11], [12, 13]] --> [11, 12, 10, 13] : [1, 2, 0, 3]\"\n",
      "\"[[10, 11], [14, 15]] --> [11, 14, 15, 10] : [1, 2, 3, 0]\"\n",
      "\"[[10, 11], [16, 17]] --> [16, 11, 17, 10] : [2, 1, 3, 0]\"\n",
      "\"[[10, 11], [18, 1]] --> [1, 11, 18, 10] : [3, 1, 2, 0]\"\n",
      "\"[[12, 13], [14, 15]] --> [14, 12, 15, 13] : [2, 0, 3, 1]\"\n",
      "\"[[12, 13], [16, 17]] --> [16, 17, 12, 13] : [2, 3, 0, 1]\"\n",
      "\"[[12, 13], [18, 1]] --> [1, 12, 18, 13] : [3, 0, 2, 1]\"\n",
      "\"[[14, 15], [16, 17]] --> [16, 14, 17, 15] : [2, 0, 3, 1]\"\n",
      "\"[[14, 15], [18, 1]] --> [1, 14, 15, 18] : [3, 0, 1, 2]\"\n",
      "\"[[16, 17], [18, 1]] --> [1, 16, 17, 18] : [3, 0, 1, 2]\"\n"
     ]
    }
   ],
   "source": [
    "p box.values\n",
    "bvf = box.values.flatten\n",
    "max = bvf.max\n",
    "\n",
    "evens=(1..max).to_a.combination(2).select{|pair| pair[0].even? and pair[1].even?}\n",
    "evens.each do |pair|\n",
    "  cons = [[pair[0], pair[0]+1], [pair[1], (pair[1]<max) ? pair[1]+1 : 1]]\n",
    "  order = bvf.select{|n| cons.flatten.include?(n)}\n",
    "  p \"#{cons} --> #{order} : #{order.map{|e| cons.flatten.index(e)}}\"\n",
    "end\n",
    "nil"
   ]
  },
  {
   "cell_type": "code",
   "execution_count": null,
   "metadata": {},
   "outputs": [],
   "source": []
  }
 ],
 "metadata": {
  "kernelspec": {
   "display_name": "Ruby 2.6.1",
   "language": "ruby",
   "name": "ruby"
  },
  "language_info": {
   "file_extension": ".rb",
   "mimetype": "application/x-ruby",
   "name": "ruby",
   "version": "2.6.1"
  },
  "toc": {
   "base_numbering": 1,
   "nav_menu": {},
   "number_sections": false,
   "sideBar": true,
   "skip_h1_title": true,
   "title_cell": "Table of Contents",
   "title_sidebar": "Contents",
   "toc_cell": false,
   "toc_position": {},
   "toc_section_display": true,
   "toc_window_display": false
  },
  "varInspector": {
   "cols": {
    "lenName": 16,
    "lenType": 16,
    "lenVar": 40
   },
   "kernels_config": {
    "python": {
     "delete_cmd_postfix": "",
     "delete_cmd_prefix": "del ",
     "library": "var_list.py",
     "varRefreshCmd": "print(var_dic_list())"
    },
    "r": {
     "delete_cmd_postfix": ") ",
     "delete_cmd_prefix": "rm(",
     "library": "var_list.r",
     "varRefreshCmd": "cat(var_dic_list()) "
    }
   },
   "types_to_exclude": [
    "module",
    "function",
    "builtin_function_or_method",
    "instance",
    "_Feature"
   ],
   "window_display": false
  }
 },
 "nbformat": 4,
 "nbformat_minor": 2
}
