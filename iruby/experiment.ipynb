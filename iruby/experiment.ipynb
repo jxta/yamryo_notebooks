{
 "cells": [
  {
   "cell_type": "markdown",
   "metadata": {},
   "source": [
    "## ruby_experiment/src/Experiment.rb"
   ]
  },
  {
   "cell_type": "code",
   "execution_count": 30,
   "metadata": {},
   "outputs": [
    {
     "data": {
      "text/plain": [
       ":=="
      ]
     },
     "execution_count": 30,
     "metadata": {},
     "output_type": "execute_result"
    }
   ],
   "source": [
    "module Element\n",
    "  def initialize(factors = [])\n",
    "    @factors = factors\n",
    "  end\n",
    "  attr_reader :factors\n",
    "  #---\n",
    "  def to_s() @factors.map(&:to_s).join end\n",
    "  def show() self.to_s end\n",
    "  def length() @factors.length end\n",
    "  def ==(anElement) self.show == anElement.show end\n",
    "end"
   ]
  },
  {
   "cell_type": "code",
   "execution_count": 2,
   "metadata": {},
   "outputs": [
    {
     "data": {
      "text/plain": [
       ":inverse_of?"
      ]
     },
     "execution_count": 2,
     "metadata": {},
     "output_type": "execute_result"
    }
   ],
   "source": [
    "class Letter\n",
    "  include Element\n",
    "  #---\n",
    "  def initialize(char='1')\n",
    "    raise ArgumentError, \"You can use alphabet and '1'\" unless char[0] =~ /[1a-zA-Z]/\n",
    "    super([char])\n",
    "    @char = char[0]\n",
    "  end\n",
    "  attr_reader :char\n",
    "  #---\n",
    "  def =~(a_Letter)\n",
    "    raise ArgumentError unless a_Letter.is_a? Letter\n",
    "    @char.downcase == a_Letter.char.downcase\n",
    "  end\n",
    "  def ==(a_Letter)\n",
    "    (self =~ a_Letter) && (self.inverse? == a_Letter.inverse?)\n",
    "  end\n",
    "  def ===(a_Letter)\n",
    "    raise(ArgumentError) unless a_Letter.is_a?(Letter)\n",
    "    self.object_id == a_Letter.object_id\n",
    "  end\n",
    "  def <=>(a_Letter)\n",
    "    raise(ArgumentError) unless a_Letter.is_a?(Letter)\n",
    "    self.show <=> another.show\n",
    "  end\n",
    "  #---\n",
    "  def inverse\n",
    "    if @char == '1' then\n",
    "      self.dup\n",
    "    else\n",
    "      inv_char = self.inverse? ? @char.downcase : @char.upcase\n",
    "      self.class.new(inv_char)\n",
    "    end\n",
    "  end\n",
    "  def inverse?() (@char == '1') ? nil : (@char == @char.upcase) end\n",
    "  def inverse_of?(a_Letter)\n",
    "    (@char == '1') ? (a_Letter.char == '1') : (self =~ a_Letter) && !(self == a_Letter)\n",
    "  end\n",
    "end; nil"
   ]
  },
  {
   "cell_type": "code",
   "execution_count": 3,
   "metadata": {},
   "outputs": [
    {
     "data": {
      "text/plain": [
       "[\"a\", \"e\"]"
      ]
     },
     "execution_count": 3,
     "metadata": {},
     "output_type": "execute_result"
    }
   ],
   "source": [
    "ltr1,ltr2 = Letter.new('a'), Letter.new('e');[ltr1.show,ltr2.show]"
   ]
  },
  {
   "cell_type": "code",
   "execution_count": 173,
   "metadata": {},
   "outputs": [
    {
     "data": {
      "text/plain": [
       ":contract"
      ]
     },
     "execution_count": 173,
     "metadata": {},
     "output_type": "execute_result"
    }
   ],
   "source": [
    "class Word\n",
    "  include Element\n",
    "  #---\n",
    "  # Word class consists of a (nested) array of Letter objects.\n",
    "  #---\n",
    "  def initialize(*args)\n",
    "    args.flatten!\n",
    "    @factors = []\n",
    "    if args.empty?\n",
    "        @factors << Letter.new('1')\n",
    "    else\n",
    "      args.each do |arg|\n",
    "        @factors << case arg\n",
    "                    when Letter then\n",
    "                      arg\n",
    "                    when String then\n",
    "                      subarr = []\n",
    "                      arg.each_char{|c| subarr << Letter.new(c) if c =~ /[1a-zA-Z]/}\n",
    "                      if subarr.empty?\n",
    "                        Letter.new('1')\n",
    "                       elsif subarr.length == 1\n",
    "                         subarr[0]\n",
    "                      else\n",
    "                        subarr\n",
    "                      end\n",
    "                    else raise ArgumentError \n",
    "                    end\n",
    "      end\n",
    "      @factors = @factors[0] if (@factors.length == 1 and @factors[0].is_a?(Array))\n",
    "    end\n",
    "#     super(factors)\n",
    "  end\n",
    "  #---\n",
    "  def pop() @factors.pop end\n",
    "  def letter_at(int) @factors[int] end\n",
    "  def [](int) self.letter_at(int) end\n",
    "  #---\n",
    "  def flatten\n",
    "    flat_factors = @factors.flatten\n",
    "    self.class.new(flat_factors)\n",
    "  end\n",
    "  def flatten!() @factors.flatten!; self end\n",
    "  #---\n",
    "  def show() show_parens end \n",
    "  def show_parens\n",
    "    @factors.map{|f| (f.length == 1) ? f.show : \"(#{self.class.new(f).show_parens})\"}.join\n",
    "  end\n",
    "  #---\n",
    "  def contract_once\n",
    "#     self.flatten!\n",
    "    rtn = [@factors[0]]\n",
    "    @factors.each_cons(2) do |f1, f2|\n",
    "      (f1 =~ f2 and f1 != f2) ? rtn.pop : rtn << f2\n",
    "    end\n",
    "    @factors = (rtn.empty?) ? [Letter.new('1')] : rtn \n",
    "    return self\n",
    "  end\n",
    "  def contract\n",
    "    self.flatten!\n",
    "    size_diff = 1\n",
    "    while (size_diff > 0 and @factors.size > 1)\n",
    "      size_diff = @factors.size - self.contract_once.factors.size\n",
    "    end\n",
    "    #\n",
    "    return self\n",
    "  end\n",
    "end"
   ]
  },
  {
   "cell_type": "code",
   "execution_count": 174,
   "metadata": {},
   "outputs": [
    {
     "data": {
      "text/plain": [
       "\"1\""
      ]
     },
     "execution_count": 174,
     "metadata": {},
     "output_type": "execute_result"
    }
   ],
   "source": [
    "we = Word.new; we.show"
   ]
  },
  {
   "cell_type": "code",
   "execution_count": 186,
   "metadata": {},
   "outputs": [
    {
     "data": {
      "text/plain": [
       "\"aB(Cd)\""
      ]
     },
     "execution_count": 186,
     "metadata": {},
     "output_type": "execute_result"
    }
   ],
   "source": [
    "w = Word.new(Letter.new('a'),'B','Cd')\n",
    "# w.flatten!\n",
    "w.show"
   ]
  },
  {
   "cell_type": "code",
   "execution_count": 183,
   "metadata": {},
   "outputs": [
    {
     "data": {
      "text/plain": [
       "\"baCcabCcAaBc --contract--> baac\""
      ]
     },
     "execution_count": 183,
     "metadata": {},
     "output_type": "execute_result"
    }
   ],
   "source": [
    "myw = Word.new('baCcabCcAaBc'); \n",
    "\"#{myw.show} --contract--> #{myw.contract.show}\"\n",
    "# myw.factors"
   ]
  },
  {
   "cell_type": "code",
   "execution_count": 202,
   "metadata": {},
   "outputs": [
    {
     "name": "stderr",
     "output_type": "stream",
     "text": [
      "<main>:1: warning: already initialized constant Group::Identity\n",
      "<main>:1: warning: previous definition of Identity was here\n"
     ]
    },
    {
     "data": {
      "text/plain": [
       ":product"
      ]
     },
     "execution_count": 202,
     "metadata": {},
     "output_type": "execute_result"
    }
   ],
   "source": [
    "module Group extend self\n",
    "  Identity = Word.new('1')\n",
    "  #---\n",
    "  def product(element1,element2)\n",
    "    raise(ArgumentError) unless [element1, element2].all?{|elm| elm.is_a?(Element)}\n",
    "    rtn = Word.new\n",
    "    rtn.factors << element1.factors << element2.factors\n",
    "    return rtn\n",
    "  end\n",
    "end"
   ]
  },
  {
   "cell_type": "code",
   "execution_count": 203,
   "metadata": {},
   "outputs": [
    {
     "data": {
      "text/plain": [
       "#<Word:0x007fda2ed28510 @factors=[#<Letter:0x007fda2ed28330 @factors=[\"1\"], @char=\"1\">]>"
      ]
     },
     "execution_count": 203,
     "metadata": {},
     "output_type": "execute_result"
    }
   ],
   "source": [
    "Group::Identity"
   ]
  },
  {
   "cell_type": "code",
   "execution_count": 206,
   "metadata": {},
   "outputs": [
    {
     "data": {
      "text/plain": [
       "\"1(abc)(def)\""
      ]
     },
     "execution_count": 206,
     "metadata": {},
     "output_type": "execute_result"
    }
   ],
   "source": [
    "# pdt = Group.product(Letter.new('a'), Letter.new('A')); pdt\n",
    "pdt = Group.product(Word.new('abc'),Word.new('def')); pdt.show\n",
    "# pdt = Group.product(Word.new('abc'), Letter.new('d')); pdt.show"
   ]
  },
  {
   "cell_type": "code",
   "execution_count": null,
   "metadata": {},
   "outputs": [],
   "source": [
    "  #---\n",
    "  def product_with(another)\n",
    "    if @char == '1' then\n",
    "      another\n",
    "    elsif another.to_s == '1' then\n",
    "      self\n",
    "    elsif self.inverse_of?(another) then\n",
    "      Word::Identity\n",
    "    else\n",
    "      Word.new * self * another\n",
    "    end\n",
    "  end\n"
   ]
  }
 ],
 "metadata": {
  "kernelspec": {
   "display_name": "Ruby 2.4.0",
   "language": "ruby",
   "name": "ruby"
  },
  "language_info": {
   "file_extension": ".rb",
   "mimetype": "application/x-ruby",
   "name": "ruby",
   "version": "2.4.0"
  },
  "toc": {
   "base_numbering": 1,
   "nav_menu": {},
   "number_sections": true,
   "sideBar": true,
   "skip_h1_title": true,
   "title_cell": "Table of Contents",
   "title_sidebar": "Contents",
   "toc_cell": false,
   "toc_position": {},
   "toc_section_display": true,
   "toc_window_display": false
  },
  "varInspector": {
   "cols": {
    "lenName": 16,
    "lenType": 16,
    "lenVar": 40
   },
   "kernels_config": {
    "python": {
     "delete_cmd_postfix": "",
     "delete_cmd_prefix": "del ",
     "library": "var_list.py",
     "varRefreshCmd": "print(var_dic_list())"
    },
    "r": {
     "delete_cmd_postfix": ") ",
     "delete_cmd_prefix": "rm(",
     "library": "var_list.r",
     "varRefreshCmd": "cat(var_dic_list()) "
    }
   },
   "types_to_exclude": [
    "module",
    "function",
    "builtin_function_or_method",
    "instance",
    "_Feature"
   ],
   "window_display": false
  }
 },
 "nbformat": 4,
 "nbformat_minor": 2
}
