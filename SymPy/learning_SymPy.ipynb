{
 "cells": [
  {
   "cell_type": "code",
   "execution_count": 7,
   "metadata": {
    "ExecuteTime": {
     "end_time": "2019-03-26T06:29:16.233288Z",
     "start_time": "2019-03-26T06:29:16.227457Z"
    }
   },
   "outputs": [],
   "source": [
    "from sympy import *\n",
    "init_printing()"
   ]
  },
  {
   "cell_type": "markdown",
   "metadata": {},
   "source": [
    "# Sqrt"
   ]
  },
  {
   "cell_type": "code",
   "execution_count": 3,
   "metadata": {
    "ExecuteTime": {
     "end_time": "2019-03-26T06:28:16.866136Z",
     "start_time": "2019-03-26T06:28:16.426240Z"
    }
   },
   "outputs": [
    {
     "data": {
      "image/png": "[encoded data removed]",
      "text/latex": [
       "$$\\sqrt{3}$$"
      ],
      "text/plain": [
       "√3"
      ]
     },
     "execution_count": 3,
     "metadata": {},
     "output_type": "execute_result"
    }
   ],
   "source": [
    "sqrt(3)"
   ]
  },
  {
   "cell_type": "code",
   "execution_count": 4,
   "metadata": {
    "ExecuteTime": {
     "end_time": "2019-03-26T06:28:18.224932Z",
     "start_time": "2019-03-26T06:28:18.130735Z"
    }
   },
   "outputs": [
    {
     "data": {
      "image/png": "[encoded data removed]",
      "text/latex": [
       "$$1.73205080756888$$"
      ],
      "text/plain": [
       "1.73205080756888"
      ]
     },
     "execution_count": 4,
     "metadata": {},
     "output_type": "execute_result"
    }
   ],
   "source": [
    "sqrt(3).evalf()"
   ]
  },
  {
   "cell_type": "code",
   "execution_count": 6,
   "metadata": {
    "ExecuteTime": {
     "end_time": "2019-03-26T06:28:31.975553Z",
     "start_time": "2019-03-26T06:28:31.953941Z"
    }
   },
   "outputs": [
    {
     "data": {
      "image/png": "[encoded data removed]",
      "text/latex": [
       "$$2 \\sqrt{2}$$"
      ],
      "text/plain": [
       "2⋅√2"
      ]
     },
     "execution_count": 6,
     "metadata": {},
     "output_type": "execute_result"
    }
   ],
   "source": [
    "sqrt(8)"
   ]
  },
  {
   "cell_type": "markdown",
   "metadata": {},
   "source": [
    "# Symbolic expressions"
   ]
  },
  {
   "cell_type": "code",
   "execution_count": 8,
   "metadata": {
    "ExecuteTime": {
     "end_time": "2019-03-26T06:29:35.593046Z",
     "start_time": "2019-03-26T06:29:35.587824Z"
    }
   },
   "outputs": [],
   "source": [
    "x, y = symbols('x y')"
   ]
  },
  {
   "cell_type": "code",
   "execution_count": 9,
   "metadata": {
    "ExecuteTime": {
     "end_time": "2019-03-26T06:29:36.977952Z",
     "start_time": "2019-03-26T06:29:36.931527Z"
    }
   },
   "outputs": [
    {
     "data": {
      "image/png": "[encoded data removed]",
      "text/latex": [
       "$$x^{2} - 2 x + 1$$"
      ],
      "text/plain": [
       " 2          \n",
       "x  - 2⋅x + 1"
      ]
     },
     "execution_count": 9,
     "metadata": {},
     "output_type": "execute_result"
    }
   ],
   "source": [
    "expr = x**2 -2*x +1\n",
    "expr"
   ]
  },
  {
   "cell_type": "code",
   "execution_count": null,
   "metadata": {
    "ExecuteTime": {
     "end_time": "2019-03-26T06:20:25.904623Z",
     "start_time": "2019-03-26T06:20:25.866156Z"
    }
   },
   "outputs": [],
   "source": [
    "expr-x"
   ]
  },
  {
   "cell_type": "code",
   "execution_count": null,
   "metadata": {
    "ExecuteTime": {
     "end_time": "2019-03-26T06:20:26.893818Z",
     "start_time": "2019-03-26T06:20:26.850582Z"
    }
   },
   "outputs": [],
   "source": [
    "expr.factor()"
   ]
  },
  {
   "cell_type": "code",
   "execution_count": null,
   "metadata": {
    "ExecuteTime": {
     "end_time": "2019-03-26T06:20:28.170437Z",
     "start_time": "2019-03-26T06:20:28.130162Z"
    }
   },
   "outputs": [],
   "source": [
    "(x*expr).expand()"
   ]
  },
  {
   "cell_type": "code",
   "execution_count": 10,
   "metadata": {
    "ExecuteTime": {
     "end_time": "2019-03-26T06:29:51.482768Z",
     "start_time": "2019-03-26T06:29:51.475793Z"
    }
   },
   "outputs": [],
   "source": [
    "x = sqrt(3+sqrt(5))\n",
    "y = sqrt(3-sqrt(5))"
   ]
  },
  {
   "cell_type": "code",
   "execution_count": 11,
   "metadata": {
    "ExecuteTime": {
     "end_time": "2019-03-26T06:29:58.662006Z",
     "start_time": "2019-03-26T06:29:58.610918Z"
    }
   },
   "outputs": [
    {
     "data": {
      "text/plain": [
       "True"
      ]
     },
     "execution_count": 11,
     "metadata": {},
     "output_type": "execute_result"
    }
   ],
   "source": [
    "(x*y).equals(2)"
   ]
  },
  {
   "cell_type": "code",
   "execution_count": 12,
   "metadata": {
    "ExecuteTime": {
     "end_time": "2019-03-26T06:30:08.371019Z",
     "start_time": "2019-03-26T06:30:08.213731Z"
    }
   },
   "outputs": [
    {
     "data": {
      "text/plain": [
       "True"
      ]
     },
     "execution_count": 12,
     "metadata": {},
     "output_type": "execute_result"
    }
   ],
   "source": [
    "x.equals((1+sqrt(5))/sqrt(2))"
   ]
  },
  {
   "cell_type": "code",
   "execution_count": 13,
   "metadata": {
    "ExecuteTime": {
     "end_time": "2019-03-26T06:30:10.074011Z",
     "start_time": "2019-03-26T06:30:09.674952Z"
    }
   },
   "outputs": [
    {
     "name": "stdout",
     "output_type": "stream",
     "text": [
      "True\n"
     ]
    }
   ],
   "source": [
    "eqn = 2*sqrt(x)/(sqrt(x)+sqrt(y))\n",
    "eqn.simplify()\n",
    "print(eqn.equals(2*sqrt(x)*(sqrt(x)-sqrt(y))/(x-y)))"
   ]
  },
  {
   "cell_type": "code",
   "execution_count": 14,
   "metadata": {
    "ExecuteTime": {
     "end_time": "2019-03-26T06:30:11.667699Z",
     "start_time": "2019-03-26T06:30:11.451450Z"
    }
   },
   "outputs": [
    {
     "data": {
      "image/png": "[encoded data removed]",
      "text/latex": [
       "$$\\frac{- 2 \\sqrt{\\sqrt{5} + 3} + 2 \\sqrt{2}}{- \\sqrt{\\sqrt{5} + 3} + \\sqrt{- \\sqrt{5} + 3}}$$"
      ],
      "text/plain": [
       "    ⎛    ________     ⎞   \n",
       "  2⋅⎝- ╲╱ √5 + 3  + √2⎠   \n",
       "──────────────────────────\n",
       "    ________     _________\n",
       "- ╲╱ √5 + 3  + ╲╱ -√5 + 3 "
      ]
     },
     "execution_count": 14,
     "metadata": {},
     "output_type": "execute_result"
    }
   ],
   "source": [
    "eqn =2*sqrt(x)*(sqrt(x)-sqrt(y))/(x-y)\n",
    "eqn.expand().simplify()"
   ]
  },
  {
   "cell_type": "code",
   "execution_count": 15,
   "metadata": {
    "ExecuteTime": {
     "end_time": "2019-03-26T06:30:17.437078Z",
     "start_time": "2019-03-26T06:30:16.873322Z"
    }
   },
   "outputs": [
    {
     "data": {
      "text/plain": [
       "False"
      ]
     },
     "execution_count": 15,
     "metadata": {},
     "output_type": "execute_result"
    }
   ],
   "source": [
    "eqn.equals((-x + sqrt(2))/(-x + y))\n",
    "eqn.equals((x - sqrt(2))*(x+y)/(x**2 - y**2))"
   ]
  },
  {
   "cell_type": "code",
   "execution_count": 19,
   "metadata": {
    "ExecuteTime": {
     "end_time": "2019-03-26T06:30:38.650164Z",
     "start_time": "2019-03-26T06:30:38.422109Z"
    }
   },
   "outputs": [
    {
     "data": {
      "image/png": "[encoded data removed]",
      "text/latex": [
       "$$- \\sqrt{5} \\left(\\sqrt{- \\sqrt{5} + 3} + \\sqrt{\\sqrt{5} + 3}\\right) \\left(- \\sqrt{\\sqrt{5} + 3} + \\sqrt{2}\\right)$$"
      ],
      "text/plain": [
       "    ⎛  _________     ________⎞ ⎛    ________     ⎞\n",
       "-√5⋅⎝╲╱ -√5 + 3  + ╲╱ √5 + 3 ⎠⋅⎝- ╲╱ √5 + 3  + √2⎠"
      ]
     },
     "execution_count": 19,
     "metadata": {},
     "output_type": "execute_result"
    }
   ],
   "source": [
    "(10*(x - sqrt(2))*(x+y)/(x**2 - y**2)).simplify()"
   ]
  },
  {
   "cell_type": "markdown",
   "metadata": {},
   "source": [
    "# Functions"
   ]
  },
  {
   "cell_type": "code",
   "execution_count": 31,
   "metadata": {
    "ExecuteTime": {
     "end_time": "2019-03-26T06:55:35.458726Z",
     "start_time": "2019-03-26T06:55:35.301812Z"
    }
   },
   "outputs": [
    {
     "data": {
      "image/png": "[encoded data removed]",
      "text/latex": [
       "$$- \\pi - 1.0$$"
      ],
      "text/plain": [
       "-π - 1.0"
      ]
     },
     "execution_count": 31,
     "metadata": {},
     "output_type": "execute_result"
    }
   ],
   "source": [
    "t = symbols('t')\n",
    "f=lambdify(t, cos(t)-t)\n",
    "f(pi)"
   ]
  },
  {
   "cell_type": "code",
   "execution_count": 30,
   "metadata": {
    "ExecuteTime": {
     "end_time": "2019-03-26T06:55:20.518685Z",
     "start_time": "2019-03-26T06:55:20.477850Z"
    }
   },
   "outputs": [
    {
     "data": {
      "image/png": "[encoded data removed]",
      "text/latex": [
       "$$- \\pi - 1$$"
      ],
      "text/plain": [
       "-π - 1"
      ]
     },
     "execution_count": 30,
     "metadata": {},
     "output_type": "execute_result"
    }
   ],
   "source": [
    "ff = lambda x: cos(x)-x\n",
    "ff(pi)"
   ]
  },
  {
   "cell_type": "code",
   "execution_count": 35,
   "metadata": {
    "ExecuteTime": {
     "end_time": "2019-03-26T06:56:47.427091Z",
     "start_time": "2019-03-26T06:56:47.391807Z"
    }
   },
   "outputs": [
    {
     "data": {
      "image/png": "[encoded data removed]",
      "text/latex": [
       "$$- \\pi - 1$$"
      ],
      "text/plain": [
       "-π - 1"
      ]
     },
     "execution_count": 35,
     "metadata": {},
     "output_type": "execute_result"
    }
   ],
   "source": [
    "(cos(t)-t).subs(t,pi)"
   ]
  },
  {
   "cell_type": "code",
   "execution_count": null,
   "metadata": {},
   "outputs": [],
   "source": []
  }
 ],
 "metadata": {
  "kernelspec": {
   "display_name": "Python 3",
   "language": "python",
   "name": "python3"
  },
  "language_info": {
   "codemirror_mode": {
    "name": "ipython",
    "version": 3
   },
   "file_extension": ".py",
   "mimetype": "text/x-python",
   "name": "python",
   "nbconvert_exporter": "python",
   "pygments_lexer": "ipython3",
   "version": "3.6.7"
  },
  "varInspector": {
   "cols": {
    "lenName": 16,
    "lenType": 16,
    "lenVar": 40
   },
   "kernels_config": {
    "python": {
     "delete_cmd_postfix": "",
     "delete_cmd_prefix": "del ",
     "library": "var_list.py",
     "varRefreshCmd": "print(var_dic_list())"
    },
    "r": {
     "delete_cmd_postfix": ") ",
     "delete_cmd_prefix": "rm(",
     "library": "var_list.r",
     "varRefreshCmd": "cat(var_dic_list()) "
    }
   },
   "types_to_exclude": [
    "module",
    "function",
    "builtin_function_or_method",
    "instance",
    "_Feature"
   ],
   "window_display": false
  }
 },
 "nbformat": 4,
 "nbformat_minor": 2
}
