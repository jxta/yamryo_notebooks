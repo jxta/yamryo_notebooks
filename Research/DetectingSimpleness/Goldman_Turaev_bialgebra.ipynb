{
 "cells": [
  {
   "cell_type": "markdown",
   "metadata": {
    "heading_collapsed": true
   },
   "source": [
    "# The fundarmental group of $\\Sigma_{g,1}$ "
   ]
  },
  {
   "cell_type": "code",
   "execution_count": 1,
   "metadata": {
    "ExecuteTime": {
     "end_time": "2019-12-08T04:09:21.110013Z",
     "start_time": "2019-12-08T04:09:21.101Z"
    },
    "hidden": true
   },
   "outputs": [
    {
     "data": {
      "text/plain": [
       "true"
      ]
     },
     "execution_count": 1,
     "metadata": {},
     "output_type": "execute_result"
    }
   ],
   "source": [
    "require './freegroup.rb'"
   ]
  },
  {
   "cell_type": "markdown",
   "metadata": {
    "heading_collapsed": true,
    "hidden": true
   },
   "source": [
    "## symplectic generators"
   ]
  },
  {
   "cell_type": "code",
   "execution_count": 2,
   "metadata": {
    "ExecuteTime": {
     "end_time": "2019-12-08T04:09:21.122151Z",
     "start_time": "2019-12-08T04:09:21.104Z"
    },
    "hidden": true
   },
   "outputs": [
    {
     "name": "stdout",
     "output_type": "stream",
     "text": [
      "[\"a\", \"b\", \"c\", \"d\", \"e\", \"f\"]\n",
      "[\"1\", \"a\", \"c\", \"e\"]\n"
     ]
    }
   ],
   "source": [
    "genus = 3\n",
    "alphabet = %w(a b c d e f)\n",
    "\n",
    "Gens = [Letter.new] + alphabet.map{|x| Letter.new(x)}\n",
    "Gens.freeze\n",
    "p Gens[1..-1].map(&:show)\n",
    "\n",
    "a = [Gens[0]] + Gens[1..-1].each_slice(2).map(&:first)\n",
    "b = [Gens[0]] + Gens[1..-1].each_slice(2).map(&:last)\n",
    "p a.map(&:show)\n",
    "nil"
   ]
  },
  {
   "cell_type": "code",
   "execution_count": 3,
   "metadata": {
    "ExecuteTime": {
     "end_time": "2019-12-08T04:09:21.128770Z",
     "start_time": "2019-12-08T04:09:21.109Z"
    },
    "hidden": true
   },
   "outputs": [
    {
     "name": "stdout",
     "output_type": "stream",
     "text": [
      "[\"1111\", \"abAB\", \"cdCD\", \"efEF\"]\n"
     ]
    },
    {
     "data": {
      "text/plain": [
       "[\"1111\", \"abAB\", \"cdCD\", \"efEF\"]"
      ]
     },
     "execution_count": 3,
     "metadata": {},
     "output_type": "execute_result"
    }
   ],
   "source": [
    "comms = []\n",
    "(Gens.size/2 + 1).times do |i|\n",
    "  comms << Group.commutator(a[i], b[i])\n",
    "end\n",
    "p comms.map(&:show)"
   ]
  },
  {
   "cell_type": "code",
   "execution_count": 4,
   "metadata": {
    "ExecuteTime": {
     "end_time": "2019-12-08T04:09:21.132363Z",
     "start_time": "2019-12-08T04:09:21.114Z"
    },
    "hidden": true,
    "scrolled": true
   },
   "outputs": [
    {
     "name": "stderr",
     "output_type": "stream",
     "text": [
      "<main>:2: warning: already initialized constant Rseq\n",
      "<main>:2: warning: already initialized constant Rseq\n",
      "<main>:2: warning: previous definition of Rseq was here\n",
      "<main>:2: warning: already initialized constant Rseq\n",
      "<main>:2: warning: previous definition of Rseq was here\n"
     ]
    },
    {
     "name": "stdout",
     "output_type": "stream",
     "text": [
      "[\"a\", \"B\", \"A\", \"b\", \"c\", \"D\", \"C\", \"d\", \"e\", \"F\", \"E\", \"f\"]\n"
     ]
    }
   ],
   "source": [
    "Rseq = []\n",
    "(Gens.size/2).times do |i|\n",
    "  Rseq += [a[i+1], b[i+1].inverse, a[i+1].inverse, b[i+1]]\n",
    "end\n",
    "Rseq.freeze\n",
    "p Rseq.map(&:show) #.index('A')\n",
    "nil"
   ]
  },
  {
   "cell_type": "markdown",
   "metadata": {
    "heading_collapsed": true,
    "hidden": true
   },
   "source": [
    "## Random Word generator"
   ]
  },
  {
   "cell_type": "code",
   "execution_count": 5,
   "metadata": {
    "ExecuteTime": {
     "end_time": "2019-12-08T04:09:21.134663Z",
     "start_time": "2019-12-08T04:09:21.122Z"
    },
    "hidden": true
   },
   "outputs": [],
   "source": [
    "def word_generator(length=5)\n",
    "  rstr = ''\n",
    "  length.times{|k| rstr += Rseq.sample.to_s}\n",
    "  return Word.new(rstr)\n",
    "end\n",
    "def wordgen(length=5)\n",
    "  word_generator(length)\n",
    "end;nil"
   ]
  },
  {
   "cell_type": "code",
   "execution_count": 6,
   "metadata": {
    "ExecuteTime": {
     "end_time": "2019-12-08T04:09:21.145077Z",
     "start_time": "2019-12-08T04:09:21.127Z"
    },
    "hidden": true
   },
   "outputs": [
    {
     "name": "stdout",
     "output_type": "stream",
     "text": [
      "\"DEfcCFCdFa\"\n"
     ]
    },
    {
     "data": {
      "text/plain": [
       "\"DEfcCFCdFa\""
      ]
     },
     "execution_count": 6,
     "metadata": {},
     "output_type": "execute_result"
    }
   ],
   "source": [
    "p wordgen(10).show"
   ]
  },
  {
   "cell_type": "markdown",
   "metadata": {},
   "source": [
    "# Goldman-Turaev bialgebra"
   ]
  },
  {
   "cell_type": "markdown",
   "metadata": {
    "heading_collapsed": true
   },
   "source": [
    "## Linking of a pair of divisions"
   ]
  },
  {
   "cell_type": "code",
   "execution_count": 7,
   "metadata": {
    "ExecuteTime": {
     "end_time": "2019-12-08T04:09:21.148107Z",
     "start_time": "2019-12-08T04:09:21.133Z"
    },
    "hidden": true
   },
   "outputs": [],
   "source": [
    "def ep(h1, h2)\n",
    "  result = h1[:sign]*h2[:sign]\n",
    "  result *= if h1[:letter].show == h2[:letter].show\n",
    "    (h1[:index] < h2[:index]) ? h2[:sign] : h1[:sign]*(-1)\n",
    "  else\n",
    "    (Rseq.index(h1[:letter]) < Rseq.index(h2[:letter])) ? 1 : -1\n",
    "  end\n",
    "  return result\n",
    "end\n",
    "#--------------------------------------------\n",
    "\n",
    "def lk(h1, h2) # h1={word: w1, div: div1}, h2={word: w2, div: div2})\n",
    "  div_hashs = [h1,h2].map do |h|\n",
    "    w = h[:word].flatten\n",
    "    k = h[:div]\n",
    "    s = w.size\n",
    "    [{index: (k%s)+1, letter: w[k%s], sign: 1}, {index: k, letter: w[k-1].inverse, sign: -1}]\n",
    "  end\n",
    "  sum = 0\n",
    "  2.times do |i|\n",
    "    2.times{|j| sum += ep(div_hashs[0][i], div_hashs[1][j])}\n",
    "  end\n",
    "  return (-1)*(sum/2)\n",
    "end; nil"
   ]
  },
  {
   "cell_type": "markdown",
   "metadata": {
    "heading_collapsed": true
   },
   "source": [
    "## Expansion Class"
   ]
  },
  {
   "cell_type": "code",
   "execution_count": 342,
   "metadata": {
    "ExecuteTime": {
     "end_time": "2019-12-08T06:32:01.068809Z",
     "start_time": "2019-12-08T06:32:01.061Z"
    },
    "hidden": true
   },
   "outputs": [],
   "source": [
    "class Expansion < Array\n",
    "  def show(simplify=false)\n",
    "    expn = simplify ? self.simplify : self\n",
    "    mstr = expn.map do |h|\n",
    "      coeff = (h[:coeff]==1) ? '' : \"(#{h[:coeff].to_s})\"\n",
    "      words = h[:words]\n",
    "      term = (words.size == 1) ? words[0].show : words.map(&:cyclic_reduce).join(\"\\u{2227}\")\n",
    "      coeff + term\n",
    "    end.join(' + ')\n",
    "    return mstr\n",
    "  end\n",
    "\n",
    "  def simplify()\n",
    "    #-----\n",
    "    expn = self.class.new\n",
    "    monomials = self.each_with_object([]) do |mono, arr|\n",
    "      if mono[:coeff] != 0\n",
    "        mono[:words].map!(&:cyclic_reduce)\n",
    "        arr << mono\n",
    "      end\n",
    "    end\n",
    "    while monomials.size > 0\n",
    "      pop = monomials.pop\n",
    "      pop[:divs] = [pop[:divs]]\n",
    "      #---\n",
    "      monomials.each do |mono|\n",
    "        flag = false\n",
    "        (mono[:words].size).times do |i|\n",
    "          mono[:words].zip(pop[:words].rotate(i)).each do |couple|\n",
    "            flag = true if couple[0].conjugate?(couple[1])\n",
    "          end      \n",
    "        end\n",
    "        if flag\n",
    "          pop[:coeff] += mono[:coeff]\n",
    "          pop[:divs] << mono[:divs]\n",
    "          mono[:coeff] = nil\n",
    "        end\n",
    "      end\n",
    "      #---\n",
    "      expn << pop if pop[:coeff] != 0\n",
    "      #---\n",
    "      monomials.delete_if{|mono| mono[:coeff].nil?}\n",
    "    end\n",
    "    #-----\n",
    "    if expn.empty?\n",
    "      return (self.class.new << {divs: [], coeff: 0, words: [Word.new]})\n",
    "    else\n",
    "      return expn\n",
    "    end\n",
    "  end\n",
    "end; nil"
   ]
  },
  {
   "cell_type": "code",
   "execution_count": 9,
   "metadata": {
    "ExecuteTime": {
     "end_time": "2019-12-08T04:09:21.161143Z",
     "start_time": "2019-12-08T04:09:21.144Z"
    },
    "hidden": true
   },
   "outputs": [
    {
     "name": "stdout",
     "output_type": "stream",
     "text": [
      "\"1∧1 + (-1)1∧1 + 1∧1 + (-1)1∧1 + 1∧1\"\n",
      "\"1∧1\"\n"
     ]
    }
   ],
   "source": [
    "expn = Expansion.new() \n",
    "5.times do |i|\n",
    "#  expn << {divs: '', coeff: (-1)**i, words: [Word.new]}\n",
    "   expn << {divs: '', coeff: (-1)**i, words: [Word.new, Word.new]}\n",
    "end\n",
    "p expn.show, expn.simplify.show\n",
    "nil"
   ]
  },
  {
   "cell_type": "markdown",
   "metadata": {
    "heading_collapsed": true
   },
   "source": [
    "## Goldman bracket"
   ]
  },
  {
   "cell_type": "code",
   "execution_count": 10,
   "metadata": {
    "ExecuteTime": {
     "end_time": "2019-12-08T04:09:21.163737Z",
     "start_time": "2019-12-08T04:09:21.150Z"
    },
    "hidden": true
   },
   "outputs": [],
   "source": [
    "def bracket(w1, w2)\n",
    "  \"\"\"\n",
    "  retern an Expansion (an Array of Hashes {divs: *, coeff: *, words: *})\n",
    "  \"\"\"\n",
    "  #-----\n",
    "  polynomial = Expansion.new\n",
    "  if w1.show != '1' and w2.show != '1' \n",
    "    w1.size.times do |i|\n",
    "      #--- divide two words each ---\n",
    "      div1 = i+1\n",
    "      nw1 = w1.cyclic_permutation(div1)\n",
    "      w2.size.times do |j|\n",
    "        div2 = j+1\n",
    "        #--- linking of the pair of divisions ---\n",
    "        lk = lk({word: w1, div: div1}, {word: w2, div: div2})\n",
    "        nw2 = w2.cyclic_permutation(div2)\n",
    "        #---\n",
    "        polynomial << {divs: [div1, div2], coeff: lk, words: [nw1*nw2]}\n",
    "      end\n",
    "    end\n",
    "  end\n",
    "  return polynomial\n",
    "end; nil"
   ]
  },
  {
   "cell_type": "code",
   "execution_count": 22,
   "metadata": {
    "ExecuteTime": {
     "end_time": "2019-12-08T04:10:58.316007Z",
     "start_time": "2019-12-08T04:10:58.304Z"
    },
    "hidden": true,
    "scrolled": true
   },
   "outputs": [
    {
     "name": "stdout",
     "output_type": "stream",
     "text": [
      "AB, eaB\n",
      "-------\n",
      "\"BA.aBe + (0)BA.Bea + (0)BA.eaB + (0)AB.aBe + (0)AB.Bea + AB.eaB\"\n",
      "\"ABeaB + BBe\"\n"
     ]
    }
   ],
   "source": [
    "# w1 = Word.new(a[1], a[2], b[1].inverse)\n",
    "# w2 = Word.new(b[2], a[1], a[1].inverse) #, b[2])\n",
    "w1, w2 = wordgen(2), wordgen(3)\n",
    "printf [w1, w2].map(&:show).join(', ')  + \"\\n-------\\n\"\n",
    "\n",
    "bra = bracket(w1, w2)\n",
    "\n",
    "# bra.each do |h|\n",
    "#   h.each{|k,v| p \"#{k}: \" + ((k == :words) ? v[0].show : v.to_s)}\n",
    "#   printf \"---\\n\"\n",
    "# end\n",
    "\n",
    "p bra.show\n",
    "p bra.simplify.show\n",
    "; nil"
   ]
  },
  {
   "cell_type": "markdown",
   "metadata": {
    "heading_collapsed": true
   },
   "source": [
    "## Turaev cobraket"
   ]
  },
  {
   "cell_type": "code",
   "execution_count": 23,
   "metadata": {
    "ExecuteTime": {
     "end_time": "2019-12-08T04:11:02.879555Z",
     "start_time": "2019-12-08T04:11:02.872Z"
    },
    "code_folding": [],
    "hidden": true
   },
   "outputs": [],
   "source": [
    "def cobracket(myw, verbose: false)\n",
    "  \"\"\"\n",
    "  return an Expansion (an Array of Hashes {divs: *, coeff: *, words: *})\n",
    "  \"\"\"\n",
    "  polynomial = Expansion.new\n",
    "  unless myw.show == '1' \n",
    "    divs_combinations = (1..myw.size).to_a.combination(2)  #2つの div の組み合わせの全体\n",
    "    divs_combinations.each do |combi|\n",
    "      #--- linking of the pair of divisions ---\n",
    "      lk = lk({word: myw, div: combi[0]},{word: myw, div: combi[1]})\n",
    "      #--- divide the word --- \n",
    "      facs = myw.flatten.factors\n",
    "      words = Array.new(2)\n",
    "      #--- [[TODO]] 以下の2つの Word の定義に cyclic_permutation を使えないか?\n",
    "      words[0] = Word.new(facs[0..combi[0]-1]+facs[combi[1]..-1])\n",
    "      words[1] = Word.new(facs[combi[0]..combi[1]-1])    \n",
    "      polynomial << {divs: combi, coeff: lk, words: words}\n",
    "    end\n",
    "  end\n",
    "  #-----\n",
    "  return polynomial\n",
    "end; nil"
   ]
  },
  {
   "cell_type": "code",
   "execution_count": 53,
   "metadata": {
    "ExecuteTime": {
     "end_time": "2019-12-08T04:12:36.115533Z",
     "start_time": "2019-12-08T04:12:36.101Z"
    },
    "hidden": true,
    "scrolled": true
   },
   "outputs": [
    {
     "name": "stdout",
     "output_type": "stream",
     "text": [
      "BFEcD\n",
      "-------\n",
      "\"(0)BEcD∧F + (0)BcD∧FE + (0)BD∧FEc + (-1)B∧FEcD + (0)BFcD∧E + (0)BFD∧Ec + (0)BF∧EcD + (0)BFED∧c + BFE∧cD + (0)BFEc∧D\"\n",
      "\"BFE∧cD + (-1)B∧FEcD\"\n"
     ]
    }
   ],
   "source": [
    "#mw = Word.new(b[1], a[1], b[1]) #a1*Group.commutator(b[1], a[2]) #comms[1] #\n",
    "mw = wordgen(5)\n",
    "printf mw.show + \"\\n-------\\n\"\n",
    "\n",
    "cobra = cobracket(mw, verbose: false) #true) #\n",
    "\n",
    "# cobra.each do |h|\n",
    "#   h.each do |k,v| \n",
    "#     p \"#{k}: \" + ((k == :words) ? v[0].show : v.to_s)\n",
    "#   end\n",
    "#   printf \"---\\n\"\n",
    "# end\n",
    "\n",
    "p cobra.show\n",
    "p cobra.simplify.show\n",
    "nil"
   ]
  },
  {
   "cell_type": "markdown",
   "metadata": {
    "heading_collapsed": true
   },
   "source": [
    "## Execution"
   ]
  },
  {
   "cell_type": "code",
   "execution_count": null,
   "metadata": {
    "ExecuteTime": {
     "end_time": "2019-12-07T03:48:08.739979Z",
     "start_time": "2019-12-07T03:48:07.021Z"
    },
    "hidden": true,
    "scrolled": false
   },
   "outputs": [],
   "source": [
    "a1, b1 = Word.new(a[1]), Word.new(b[1])\n",
    "c = (a1*Word.new(b[1])*(a1.inverse)).flatten\n",
    "\n",
    "samples = {\n",
    "  s0: [\n",
    "    Word.new,\n",
    "    a1, \n",
    "    a1*Word.new(b[2]),\n",
    "    a1*(Word.new(b[2]).inverse),\n",
    "    a1*c*(c.inverse),\n",
    "  ],\n",
    "  s1: [\n",
    "    a1^4,\n",
    "    c,\n",
    "    comms[1],\n",
    "    Word.new(b[1])*a1*Word.new(b[1])\n",
    "  ],\n",
    "  s2: [\n",
    "    a1*(comms[2].inverse),\n",
    "    a1*(c.inverse)*(comms[2].inverse)*c,\n",
    "    a1*(comms[2].inverse)*Group.commutator(comms[2], c.inverse),\n",
    "    (a1*(comms[2].inverse)*Group.commutator(comms[2], c.inverse)).cyclic_reduce\n",
    "  ],\n",
    "  s3: [\n",
    "    a1*comms[2],\n",
    "    a1*(comms[2]^2),\n",
    "    a1*comms[2]*c*comms[2]*(c.inverse),\n",
    "    a1*(comms[2]^2)*Group.commutator(comms[2].inverse,c)\n",
    "  ],\n",
    "  s4: [\n",
    "    a1*(Word.new(a[2])^3),\n",
    "    a1*(Word.new(a[2], b[2].inverse)^3)\n",
    "  ],\n",
    "  s5: [\n",
    "    a1*Group.commutator(a[2], a[3]),\n",
    "    a1*(comms[2]*comms[3])*Group.commutator(a[2], a[3])*((comms[2]*comms[3]).inverse)\n",
    "  ],\n",
    "  s6: [\n",
    "    a1*Group.commutator(b[1], a[2]),\n",
    "    a1*(a1.inverse)*Word.new(b[1])*a1,\n",
    "    c*(a1.inverse)*a1,\n",
    "    c*(c.inverse),\n",
    "    Word.new(a[1], b[1], b[1].inverse, b[2])\n",
    "  ],\n",
    "  s7: [\n",
    "    a1*(Group.conjugate(a1, b1.inverse))*a1*(b1.inverse),\n",
    "    a1*b1*((a1*(b1.inverse))^2),\n",
    "    a1*Group.conjugate(b1.inverse, a1)*a1*(b1.inverse),\n",
    "    (a1*Group.conjugate(b1.inverse, a1)*a1*(b1.inverse)).contract,\n",
    "    a1*a1*(Word.new(b[2].inverse)^2)\n",
    "    ]\n",
    "  }\n",
    "\n",
    "arr = samples #.slice(:s7) #:s0, :s6) #:s2) #, :s3) #:s0, :s1) #\n",
    "arr.each do |k, v|\n",
    "  printf \"--- #{k} ---\\n \"\n",
    "  v.each{|s| puts s.show + \"  |--\\u{03B4}-->  \" + cobracket(s, verbose: false).show }\n",
    "end;nil"
   ]
  },
  {
   "cell_type": "markdown",
   "metadata": {},
   "source": [
    "# Conditions"
   ]
  },
  {
   "cell_type": "markdown",
   "metadata": {},
   "source": [
    "## Jacobi Identity"
   ]
  },
  {
   "cell_type": "markdown",
   "metadata": {},
   "source": [
    "$$\\nabla\\circ(\\nabla\\otimes 1)\\circ N = 0$$"
   ]
  },
  {
   "cell_type": "code",
   "execution_count": 749,
   "metadata": {
    "ExecuteTime": {
     "end_time": "2019-12-08T09:17:36.386763Z",
     "start_time": "2019-12-08T09:17:36.191Z"
    }
   },
   "outputs": [
    {
     "name": "stdout",
     "output_type": "stream",
     "text": [
      "D ⊗ EDc ⊗ AbD  |---> \n",
      "\n",
      "------\n",
      "∇(D ⊗ EDc) ⊗ AbD =\n",
      "+ ((0)DcED.bDA + (-1)DcED.DAb + DcED.AbD + (0)cEDD.bDA + (-1)cEDD.DAb + cEDD.AbD + (0)EDDc.bDA + (0)EDDc.DAb + (-1)EDDc.AbD + (0)DDcE.bDA + (-1)DDcE.DAb + DDcE.AbD) ⊗ AbD\n",
      "+ ((0)cEDD.bDA + (-1)cEDD.DAb + cEDD.AbD + (0)EDDc.bDA + (0)EDDc.DAb + (-1)EDDc.AbD + (0)DDcE.bDA + (0)DDcE.DAb + DDcE.AbD + (0)DcED.bDA + (-1)DcED.DAb + (0)DcED.AbD) ⊗ AbD\n",
      "+ ((0)EDcD.bDA + (0)EDcD.DAb + (0)EDcD.AbD + (0)DcDE.bDA + (0)DcDE.DAb + DcDE.AbD + (0)cDED.bDA + (-1)cDED.DAb + (0)cDED.AbD + (0)DEDc.bDA + (-1)DEDc.DAb + (0)DEDc.AbD) ⊗ AbD\n",
      "∇(EDc ⊗ AbD) ⊗ D =\n",
      "+ ((-1)cEbDAD.D + (-1)EbDADc.D + (0)bDADcE.D + DADcEb.D + (-1)ADcEbD.D + DcEbDA.D) ⊗ D\n",
      "+ ((-1)cEDAbD.D + (-1)EDAbDc.D + DAbDcE.D + (-1)AbDcED.D + (0)bDcEDA.D + DcEDAb.D) ⊗ D\n",
      "+ ((-1)cEAbDD.D + (-1)EAbDDc.D + (0)AbDDcE.D + (0)bDDcEA.D + DDcEAb.D + (0)DcEAbD.D) ⊗ D\n",
      "+ ((-1)EDbDAc.D + DbDAcE.D + (-1)bDAcED.D + DAcEDb.D + (-1)AcEDbD.D + (0)cEDbDA.D) ⊗ D\n",
      "+ ((-1)EDDAbc.D + DDAbcE.D + (0)DAbcED.D + (-1)AbcEDD.D + (0)bcEDDA.D + (0)cEDDAb.D) ⊗ D\n",
      "+ ((-1)EDAbDc.D + DAbDcE.D + (-1)AbDcED.D + (0)bDcEDA.D + DcEDAb.D + (-1)cEDAbD.D) ⊗ D\n",
      "+ (DcbDAE.D + (-1)cbDAED.D + (-1)bDAEDc.D + DAEDcb.D + (-1)AEDcbD.D + (0)EDcbDA.D) ⊗ D\n",
      "+ (DcDAbE.D + (-1)cDAbED.D + (0)DAbEDc.D + (-1)AbEDcD.D + (0)bEDcDA.D + (0)EDcDAb.D) ⊗ D\n",
      "+ (DcAbDE.D + (-1)cAbDED.D + (-1)AbDEDc.D + (0)bDEDcA.D + DEDcAb.D + (-1)EDcAbD.D) ⊗ D\n",
      "∇(AbD ⊗ D) ⊗ EDc =\n",
      "+ (DADb.DcE + DADb.cED + (0)DADb.EDc + (-1)ADbD.DcE + (-1)ADbD.cED + ADbD.EDc + DbDA.DcE + DbDA.cED + (0)DbDA.EDc + (-1)bDAD.DcE + (-1)bDAD.cED + bDAD.EDc) ⊗ EDc\n",
      "+ ((-1)AbDD.DcE + (0)AbDD.cED + AbDD.EDc + (0)bDDA.DcE + (0)bDDA.cED + (0)bDDA.EDc + DDAb.DcE + DDAb.cED + (0)DDAb.EDc + (-1)DAbD.DcE + (0)DAbD.cED + DAbD.EDc) ⊗ EDc\n",
      "+ ((0)bDDA.DcE + (0)bDDA.cED + (0)bDDA.EDc + DDAb.DcE + DDAb.cED + (0)DDAb.EDc + (0)DAbD.DcE + (0)DAbD.cED + DAbD.EDc + (-1)AbDD.DcE + (-1)AbDD.cED + AbDD.EDc) ⊗ EDc\n",
      "---------\n",
      "\"(0)DcED.bDA + DcED.DAb + (-1)DcED.AbD + (0)cEDD.bDA + cEDD.DAb + (-1)cEDD.AbD + (0)EDDc.bDA + (0)EDDc.DAb + EDDc.AbD + (0)DDcE.bDA + DDcE.DAb + (-1)DDcE.AbD + (0)cEDD.bDA + (-1)cEDD.DAb + cEDD.AbD + (0)EDDc.bDA + (0)EDDc.DAb + (-1)EDDc.AbD + (0)DDcE.bDA + (0)DDcE.DAb + DDcE.AbD + (0)DcED.bDA + (-1)DcED.DAb + (0)DcED.AbD + (0)EDcD.bDA + (0)EDcD.DAb + (0)EDcD.AbD + (0)DcDE.bDA + (0)DcDE.DAb + DcDE.AbD + (0)cDED.bDA + (-1)cDED.DAb + (0)cDED.AbD + (0)DEDc.bDA + (-1)DEDc.DAb + (0)DEDc.AbD + (0)cEbDAD.D + (0)EbDADc.D + (0)bDADcE.D + (0)DADcEb.D + (0)ADcEbD.D + (0)DcEbDA.D + cEDAbD.D + EDAbDc.D + (-1)DAbDcE.D + AbDcED.D + (0)bDcEDA.D + (-1)DcEDAb.D + (-1)cEAbDD.D + (-1)EAbDDc.D + (0)AbDDcE.D + (0)bDDcEA.D + DDcEAb.D + (0)DcEAbD.D + (0)EDbDAc.D + (0)DbDAcE.D + (0)bDAcED.D + (0)DAcEDb.D + (0)AcEDbD.D + (0)cEDbDA.D + EDDAbc.D + (-1)DDAbcE.D + (0)DAbcED.D + AbcEDD.D + (0)bcEDDA.D + (0)cEDDAb.D + (-1)EDAbDc.D + DAbDcE.D + (-1)AbDcED.D + (0)bDcEDA.D + DcEDAb.D + (-1)cEDAbD.D + (0)DcbDAE.D + (0)cbDAED.D + (0)bDAEDc.D + (0)DAEDcb.D + (0)AEDcbD.D + (0)EDcbDA.D + (0)DcDAbE.D + (0)cDAbED.D + (0)DAbEDc.D + (0)AbEDcD.D + (0)bEDcDA.D + (0)EDcDAb.D + (-1)DcAbDE.D + cAbDED.D + AbDEDc.D + (0)bDEDcA.D + (-1)DEDcAb.D + EDcAbD.D + (0)DADb.DcE + (0)DADb.cED + (0)DADb.EDc + (0)ADbD.DcE + (0)ADbD.cED + (0)ADbD.EDc + (0)DbDA.DcE + (0)DbDA.cED + (0)DbDA.EDc + (0)bDAD.DcE + (0)bDAD.cED + (0)bDAD.EDc + (-1)AbDD.DcE + (0)AbDD.cED + AbDD.EDc + (0)bDDA.DcE + (0)bDDA.cED + (0)bDDA.EDc + DDAb.DcE + DDAb.cED + (0)DDAb.EDc + (-1)DAbD.DcE + (0)DAbD.cED + DAbD.EDc + (0)bDDA.DcE + (0)bDDA.cED + (0)bDDA.EDc + (-1)DDAb.DcE + (-1)DDAb.cED + (0)DDAb.EDc + (0)DAbD.DcE + (0)DAbD.cED + (-1)DAbD.EDc + AbDD.DcE + AbDD.cED + (-1)AbDD.EDc\"\n",
      "---------\n",
      "\"(0)1\"\n"
     ]
    }
   ],
   "source": [
    "three_words = Array.new(3)\n",
    "max_length = 3\n",
    "\n",
    "three_words.map!{|w| word_generator(rand(1..max_length))}\n",
    "puts three_words.map(&:show).join(\" \\u{2297} \") + \"  |---> \\n\\n------\"\n",
    "\n",
    "total = Expansion.new\n",
    "3.times do |k|\n",
    "  bra = bracket(three_words[0],three_words[1])\n",
    "  puts \"\\u{2207}(\" + three_words[0..1].map(&:show).join(\" \\u{2297} \") + \") \\u{2297} \" + three_words[2].show + \" =\"\n",
    "  bra.each do |h|\n",
    "    bra2 = bracket(h[:words][0], three_words[2])\n",
    "    puts \"+ (#{bra2.show}) \\u{2297} #{three_words[2].show}\"\n",
    "    bra2.each do |hh|\n",
    "      hh[:coeff] *= h[:coeff]\n",
    "      total << hh\n",
    "    end\n",
    "  end\n",
    "  three_words.rotate!\n",
    "end\n",
    "\n",
    "printf \"---------\\n\"\n",
    "p total.show\n",
    "printf \"---------\\n\"\n",
    "p total.simplify.show\n",
    "nil"
   ]
  },
  {
   "cell_type": "code",
   "execution_count": 748,
   "metadata": {
    "ExecuteTime": {
     "end_time": "2019-12-08T09:17:21.645184Z",
     "start_time": "2019-12-08T09:17:02.985Z"
    }
   },
   "outputs": [
    {
     "name": "stdout",
     "output_type": "stream",
     "text": [
      "Ada ⊗ FFD ⊗ aA  |--> FF + (-1)FF + (-1)FF + FF\n",
      "FE ⊗ E ⊗ fE  |--> (-1)EEE + EEE\n",
      "c ⊗ D ⊗ DC  |--> (-1)DD + DD\n"
     ]
    }
   ],
   "source": [
    "three_words = Array.new(3)\n",
    "max_length = 3\n",
    "count = 500\n",
    "\n",
    "count.times do |k|\n",
    "  three_words.map!{|w| word_generator(rand(1..max_length))}\n",
    "  total = Expansion.new\n",
    "  3.times do |k|\n",
    "    bra = bracket(three_words[0],three_words[1])\n",
    "#     puts \"\\u{2207}(\" + three_words[0..1].map(&:show).join(\" \\u{2297} \") + \") \\u{2297} \" + three_words[2].show + \" =\"\n",
    "    bra.each do |h|\n",
    "      bra2 = bracket(h[:words][0], three_words[2])\n",
    "#       puts \"+ (#{bra2.show}) \\u{2297} #{three_words[2].show}\"\n",
    "      bra2.each do |hh|\n",
    "        hh[:coeff] *= h[:coeff]\n",
    "        total << hh\n",
    "      end\n",
    "    end\n",
    "    three_words.rotate!\n",
    "  end\n",
    "  result = total.show(1)\n",
    "  puts three_words.map(&:show).join(\" \\u{2297} \") + \"  |--> \" + result if result != '(0)1'\n",
    "end; nil"
   ]
  },
  {
   "cell_type": "markdown",
   "metadata": {},
   "source": [
    "## Involutivity for $\\nabla$ and $\\delta$"
   ]
  },
  {
   "cell_type": "markdown",
   "metadata": {},
   "source": [
    "$$\\nabla\\circ \\delta = 0$$"
   ]
  },
  {
   "cell_type": "code",
   "execution_count": 745,
   "metadata": {
    "ExecuteTime": {
     "end_time": "2019-12-08T09:16:29.739477Z",
     "start_time": "2019-12-08T09:16:29.683Z"
    }
   },
   "outputs": [
    {
     "name": "stdout",
     "output_type": "stream",
     "text": [
      "AEfeA\n",
      "======\n",
      "Δ(AEfeA) = (-1)AfeA∧E + (0)AeA∧Ef + (0)AA∧f + A∧EfeA + (0)AA∧f + (-1)AEA∧fe + (0)AE∧feA + (0)AEfA∧e + (0)AEf∧eA + (0)AEfe∧A\n",
      "---\n",
      "\t∇(AfeA ⊗ E) = (0)feAA.E + (0)eAAf.E + (-1)AAfe.E + (0)AfeA.E\n",
      "\t∇(AeA ⊗ Ef) = (0)eAA.fE + (0)eAA.Ef + (0)AAe.fE + (0)AAe.Ef + (0)AeA.fE + (0)AeA.Ef\n",
      "\t∇(AA ⊗ Efe) = (0)AA.feE + (0)AA.eEf + (0)AA.Efe + (0)AA.feE + (0)AA.eEf + (0)AA.Efe\n",
      "\t∇(A ⊗ EfeA) = (0)A.feAE + (0)A.eAEf + (0)A.AEfe + (0)A.EfeA\n",
      "\t∇(AEeA ⊗ f) = (0)EeAA.f + (0)eAAE.f + (0)AAEe.f + (0)AEeA.f\n",
      "\t∇(AEA ⊗ fe) = (0)EAA.ef + EAA.fe + (0)AAE.ef + (0)AAE.fe + (0)AEA.ef + (0)AEA.fe\n",
      "\t∇(AE ⊗ feA) = (0)EA.eAf + (0)EA.Afe + (0)EA.feA + (0)AE.eAf + (0)AE.Afe + (0)AE.feA\n",
      "\t∇(AEfA ⊗ e) = (0)EfAA.e + (0)fAAE.e + (0)AAEf.e + (0)AEfA.e\n",
      "\t∇(AEf ⊗ eA) = (0)EfA.Ae + (0)EfA.eA + (0)fAE.Ae + (0)fAE.eA + (0)AEf.Ae + (0)AEf.eA\n",
      "\t∇(AEfe ⊗ A) = (0)EfeA.A + (0)feAE.A + (0)eAEf.A + (0)AEfe.A\n",
      "======\n",
      "(0)feAA.E + (0)eAAf.E + (-1)AAfe.E + (0)AfeA.E + (0)eAA.fE + (0)eAA.Ef + (0)AAe.fE + (0)AAe.Ef + (0)AeA.fE + (0)AeA.Ef + (0)AA.feE + (0)AA.eEf + (0)AA.Efe + (0)AA.feE + (0)AA.eEf + (0)AA.Efe + (0)A.feAE + (0)A.eAEf + (0)A.AEfe + (0)A.EfeA + (0)EeAA.f + (0)eAAE.f + (0)AAEe.f + (0)AEeA.f + (0)EAA.ef + EAA.fe + (0)AAE.ef + (0)AAE.fe + (0)AEA.ef + (0)AEA.fe + (0)EA.eAf + (0)EA.Afe + (0)EA.feA + (0)AE.eAf + (0)AE.Afe + (0)AE.feA + (0)EfAA.e + (0)fAAE.e + (0)AAEf.e + (0)AEfA.e + (0)EfA.Ae + (0)EfA.eA + (0)fAE.Ae + (0)fAE.eA + (0)AEf.Ae + (0)AEf.eA + (0)EfeA.A + (0)feAE.A + (0)eAEf.A + (0)AEfe.A\n",
      "======\n",
      "(0)1\n"
     ]
    }
   ],
   "source": [
    "myw = word_generator(5)\n",
    "#myw = Word.new('ffA')\n",
    "puts myw.show + \"\\n======\"\n",
    "\n",
    "cobra = cobracket(myw)\n",
    "puts \"\\u{0394}(#{myw.show}) = \" + cobra.show\n",
    "puts \"---\"\n",
    "\n",
    "total = Expansion.new\n",
    "cobra.each do |h|\n",
    "  coeff = h[:coeff]\n",
    "  bra = bracket(*h[:words])\n",
    "  bra.each do |mono|\n",
    "    mono[:coeff] *= coeff\n",
    "    total << mono\n",
    "  end\n",
    "  #--- display ---\n",
    "  tensor = h[:words].map(&:show).join(\" \\u{2297} \")\n",
    "  puts \"\\t\\u{2207}(#{tensor}) = #{bra.show}\"\n",
    "  #---------------\n",
    "end\n",
    "\n",
    "puts \"======\\n\" + total.show\n",
    "puts \"======\\n\" + total.show(1)\n",
    "nil"
   ]
  },
  {
   "cell_type": "code",
   "execution_count": 746,
   "metadata": {
    "ExecuteTime": {
     "end_time": "2019-12-08T09:16:39.824909Z",
     "start_time": "2019-12-08T09:16:32.252Z"
    }
   },
   "outputs": [
    {
     "name": "stdout",
     "output_type": "stream",
     "text": [
      "\"ffEef |--> fff + (-1)fff + fff + (-1)fff + fff + (-1)fff\"\n",
      "\"FDFdF |--> (-1)FFF + FFF + FFF + (-1)FFF + FFF + (-1)FFF + FFF + (-1)FFF\"\n",
      "\"BBBEe |--> BBB + (-1)BBB + BBB + (-1)BBB\"\n",
      "\"CCdDC |--> CCC + (-1)CCC\"\n"
     ]
    }
   ],
   "source": [
    "count, length = 1000, 5\n",
    "count.times do |k|\n",
    "  myw = word_generator(length)\n",
    "  total = cobracket(myw).each_with_object(Expansion.new) do |h, expn|\n",
    "    bracket(*h[:words]).each do |mono|\n",
    "      mono[:coeff] *= h[:coeff]\n",
    "      expn << mono\n",
    "    end\n",
    "  end\n",
    "  result = total.show(1)\n",
    "  p myw.show + \" |--> \" + result if result != \"(0)1\"\n",
    "end; nil"
   ]
  },
  {
   "cell_type": "markdown",
   "metadata": {},
   "source": [
    "## Compatibility condition for $\\nabla$ and $\\delta$"
   ]
  },
  {
   "cell_type": "markdown",
   "metadata": {},
   "source": [
    "$\\forall v,w \\in \\pi$,\n",
    "$$\n",
    "\\delta([v,w]) = w\\cdot\\delta(v)- v\\cdot\\delta(w),\n",
    "$$\n",
    "where \n",
    "$$\n",
    "w\\cdot(x\\otimes y) = [w,x]\\otimes y + x\\otimes[w,y].\n",
    "$$"
   ]
  },
  {
   "cell_type": "code",
   "execution_count": 702,
   "metadata": {
    "ExecuteTime": {
     "end_time": "2019-12-08T09:12:06.375492Z",
     "start_time": "2019-12-08T09:12:06.363Z"
    },
    "scrolled": true
   },
   "outputs": [
    {
     "name": "stdout",
     "output_type": "stream",
     "text": [
      "\"fac.dfc\"\n"
     ]
    }
   ],
   "source": [
    "v = word_generator(3) #samples[:s2][0] #Word.new(a[1], a[2])\n",
    "w = word_generator(3) #samples[:s4][0] #Word.new(b[1])\n",
    "p (v*w).show; nil"
   ]
  },
  {
   "cell_type": "code",
   "execution_count": 703,
   "metadata": {
    "ExecuteTime": {
     "end_time": "2019-12-08T09:12:07.011592Z",
     "start_time": "2019-12-08T09:12:06.955Z"
    }
   },
   "outputs": [
    {
     "name": "stdout",
     "output_type": "stream",
     "text": [
      "Left-hand Equation: \n",
      "(-2)facdf∧c + (-4)f∧accdf + (-2)ff∧accd + (2)cfa∧cdf + (2)cff∧acd"
     ]
    }
   ],
   "source": [
    "lhe = Expansion.new\n",
    "bracket(v, w).each do |h|\n",
    "  cobracket(h[:words][0]).each do |mono|\n",
    "    mono[:coeff] *= h[:coeff]\n",
    "    lhe << mono\n",
    "  end\n",
    "end\n",
    "\n",
    "printf \"Left-hand Equation: \\n\"+ lhe.show(1)\n",
    "nil"
   ]
  },
  {
   "cell_type": "code",
   "execution_count": 704,
   "metadata": {
    "ExecuteTime": {
     "end_time": "2019-12-08T09:12:09.524079Z",
     "start_time": "2019-12-08T09:12:09.491Z"
    }
   },
   "outputs": [
    {
     "name": "stdout",
     "output_type": "stream",
     "text": [
      "fac.δ(dfc) = fac.((-1)dc∧f + (0)d∧fc + (0)df∧c)\n",
      "---\n",
      "\t[fac, dc] ⊗ f \n",
      "\t=((0)acf.cd + (0)acf.dc + cfa.cd + (0)cfa.dc + (0)fac.cd + (0)fac.dc) ⊗ f\t=(-1)cfa.cd ⊗ f\n",
      "\n",
      "\tdc ⊗ [fac, f] \n",
      "\t=dc ⊗ ((0)acf.f + (0)cfa.f + (0)fac.f) \n",
      "---\n",
      "dfc.δ(fac) = dfc.((0)fc∧a + f∧ac + (0)fa∧c)\n",
      "---\n",
      "\t[dfc, f] ⊗ ac \n",
      "\t=((0)fcd.f + (0)cdf.f + (0)dfc.f) ⊗ ac\n",
      "\tf ⊗ [dfc, ac] \n",
      "\t=f ⊗ ((0)fcd.ca + (-1)fcd.ac + (0)cdf.ca + cdf.ac + (0)dfc.ca + (-1)dfc.ac) \n",
      "\t=(1)f ⊗ fcd.ac\n",
      "\t=(-1)f ⊗ cdf.ac\n",
      "\t=(1)f ⊗ dfc.ac\n",
      "---\n",
      "(-1)cfa.cd ⊗ f\n",
      " + (1)f ⊗ fcd.ac\n",
      " + (-1)f ⊗ cdf.ac\n",
      " + (1)f ⊗ dfc.ac\n"
     ]
    }
   ],
   "source": [
    "rhe = [] #Expansion.new\n",
    "2.times do |i|\n",
    "  pair = [v,w].rotate(i)\n",
    "  coeff = (-1)**i\n",
    "  #---\n",
    "  cobra = cobracket(pair[1])\n",
    "  printf \"#{pair[0]}.\\u{03B4}(#{pair[1].show}) = #{pair[0]}.(#{cobra.show})\\n---\\n\"\n",
    "  cobra.each do |h|\n",
    "    if h[:coeff] != 0\n",
    "      printf \"\\t[#{pair[0]}, #{h[:words][0]}] \\u{2297} #{h[:words][1]} \\n\"\n",
    "      bra = bracket(pair[0], h[:words][0])\n",
    "      printf \"\\t=(#{bra.show}) \\u{2297} #{h[:words][1]}\"\n",
    "      bra.each do |mono|\n",
    "        if mono[:coeff] != 0\n",
    "          mono[:coeff] *= coeff*h[:coeff]\n",
    "          term = \"(#{mono[:coeff]})#{mono[:words][0].show} \\u{2297} #{h[:words][1]}\\n\"\n",
    "          printf \"\\t=\" + term\n",
    "          rhe << term\n",
    "        end\n",
    "      end\n",
    "      printf \"\\n\\t#{h[:words][0]} \\u{2297} [#{pair[0]}, #{h[:words][1]}] \\n\"\n",
    "      bra = bracket(pair[0], h[:words][1])\n",
    "      printf \"\\t=#{h[:words][0]} \\u{2297} (#{bra.show}) \\n\"\n",
    "      bra.each do |mono|\n",
    "        if mono[:coeff] != 0\n",
    "          mono[:coeff] *= coeff*h[:coeff]\n",
    "          term = \"(#{mono[:coeff]})#{h[:words][0]} \\u{2297} #{mono[:words][0].show}\\n\"\n",
    "          printf \"\\t=\" + term\n",
    "          rhe << term\n",
    "        end\n",
    "      end\n",
    "    end\n",
    "  end\n",
    "  printf \"---\\n\"\n",
    "end\n",
    "printf rhe.join(' + '); nil"
   ]
  },
  {
   "cell_type": "markdown",
   "metadata": {
    "heading_collapsed": true
   },
   "source": [
    "# Experiments"
   ]
  },
  {
   "cell_type": "code",
   "execution_count": null,
   "metadata": {
    "hidden": true
   },
   "outputs": [],
   "source": []
  },
  {
   "cell_type": "markdown",
   "metadata": {},
   "source": [
    "# TODO"
   ]
  },
  {
   "cell_type": "markdown",
   "metadata": {},
   "source": [
    "* [ ] Compatibility がどこかおかしい。\n",
    "* [ ] aaa などの Word について、動作が少し変。\n",
    "* [x] Extension class のメソッドとして、係数 0 を消去したり、共通項で整理したりできるようにしたい。\n",
    "* [ ] cobracket を再帰的に作用させて、完全に分解することに何らかの意味があるか?\n",
    "* [ ] $\\ell_{2}$ の計算と cobracket との関係は? とくに両者にある division について。"
   ]
  },
  {
   "cell_type": "code",
   "execution_count": null,
   "metadata": {},
   "outputs": [],
   "source": []
  }
 ],
 "metadata": {
  "kernelspec": {
   "display_name": "Ruby 2.6.1",
   "language": "ruby",
   "name": "ruby"
  },
  "language_info": {
   "file_extension": ".rb",
   "mimetype": "application/x-ruby",
   "name": "ruby",
   "version": "2.6.1"
  },
  "toc": {
   "base_numbering": 1,
   "nav_menu": {},
   "number_sections": false,
   "sideBar": true,
   "skip_h1_title": true,
   "title_cell": "Table of Contents",
   "title_sidebar": "Contents",
   "toc_cell": false,
   "toc_position": {},
   "toc_section_display": true,
   "toc_window_display": true
  },
  "varInspector": {
   "cols": {
    "lenName": 16,
    "lenType": 16,
    "lenVar": 40
   },
   "kernels_config": {
    "python": {
     "delete_cmd_postfix": "",
     "delete_cmd_prefix": "del ",
     "library": "var_list.py",
     "varRefreshCmd": "print(var_dic_list())"
    },
    "r": {
     "delete_cmd_postfix": ") ",
     "delete_cmd_prefix": "rm(",
     "library": "var_list.r",
     "varRefreshCmd": "cat(var_dic_list()) "
    }
   },
   "types_to_exclude": [
    "module",
    "function",
    "builtin_function_or_method",
    "instance",
    "_Feature"
   ],
   "window_display": false
  }
 },
 "nbformat": 4,
 "nbformat_minor": 2
}
