{
 "cells": [
  {
   "cell_type": "markdown",
   "metadata": {
    "heading_collapsed": true
   },
   "source": [
    "# The fundarmental group of $\\Sigma_{g,1}$ "
   ]
  },
  {
   "cell_type": "code",
   "execution_count": 1,
   "metadata": {
    "ExecuteTime": {
     "end_time": "2019-12-09T07:44:17.450077Z",
     "start_time": "2019-12-09T07:44:17.439Z"
    },
    "hidden": true
   },
   "outputs": [
    {
     "data": {
      "text/plain": [
       "true"
      ]
     },
     "execution_count": 1,
     "metadata": {},
     "output_type": "execute_result"
    }
   ],
   "source": [
    "require './freegroup.rb'"
   ]
  },
  {
   "cell_type": "markdown",
   "metadata": {
    "heading_collapsed": true,
    "hidden": true
   },
   "source": [
    "## symplectic generators"
   ]
  },
  {
   "cell_type": "code",
   "execution_count": 2,
   "metadata": {
    "ExecuteTime": {
     "end_time": "2019-12-09T07:44:17.464469Z",
     "start_time": "2019-12-09T07:44:17.443Z"
    },
    "hidden": true
   },
   "outputs": [
    {
     "name": "stdout",
     "output_type": "stream",
     "text": [
      "[\"a\", \"b\", \"c\", \"d\", \"e\", \"f\"]\n",
      "[\"1\", \"a\", \"c\", \"e\"]\n"
     ]
    }
   ],
   "source": [
    "genus = 3\n",
    "alphabet = %w(a b c d e f)\n",
    "\n",
    "Gens = [Letter.new] + alphabet.map{|x| Letter.new(x)}\n",
    "Gens.freeze\n",
    "p Gens[1..-1].map(&:show)\n",
    "\n",
    "a = [Gens[0]] + Gens[1..-1].each_slice(2).map(&:first)\n",
    "b = [Gens[0]] + Gens[1..-1].each_slice(2).map(&:last)\n",
    "p a.map(&:show)\n",
    "nil"
   ]
  },
  {
   "cell_type": "code",
   "execution_count": 3,
   "metadata": {
    "ExecuteTime": {
     "end_time": "2019-12-09T07:44:17.468182Z",
     "start_time": "2019-12-09T07:44:17.452Z"
    },
    "hidden": true
   },
   "outputs": [
    {
     "name": "stdout",
     "output_type": "stream",
     "text": [
      "[\"1111\", \"abAB\", \"cdCD\", \"efEF\"]\n"
     ]
    },
    {
     "data": {
      "text/plain": [
       "[\"1111\", \"abAB\", \"cdCD\", \"efEF\"]"
      ]
     },
     "execution_count": 3,
     "metadata": {},
     "output_type": "execute_result"
    }
   ],
   "source": [
    "comms = []\n",
    "(Gens.size/2 + 1).times do |i|\n",
    "  comms << Group.commutator(a[i], b[i])\n",
    "end\n",
    "p comms.map(&:show)"
   ]
  },
  {
   "cell_type": "code",
   "execution_count": 4,
   "metadata": {
    "ExecuteTime": {
     "end_time": "2019-12-09T07:44:17.475474Z",
     "start_time": "2019-12-09T07:44:17.457Z"
    },
    "hidden": true,
    "scrolled": true
   },
   "outputs": [
    {
     "name": "stderr",
     "output_type": "stream",
     "text": [
      "<main>:2: warning: already initialized constant Rseq\n",
      "<main>:2: warning: already initialized constant Rseq\n",
      "<main>:2: warning: previous definition of Rseq was here\n",
      "<main>:2: warning: already initialized constant Rseq\n",
      "<main>:2: warning: previous definition of Rseq was here\n"
     ]
    },
    {
     "name": "stdout",
     "output_type": "stream",
     "text": [
      "[\"a\", \"B\", \"A\", \"b\", \"c\", \"D\", \"C\", \"d\", \"e\", \"F\", \"E\", \"f\"]\n"
     ]
    }
   ],
   "source": [
    "Rseq = []\n",
    "(Gens.size/2).times do |i|\n",
    "  Rseq += [a[i+1], b[i+1].inverse, a[i+1].inverse, b[i+1]]\n",
    "end\n",
    "Rseq.freeze\n",
    "p Rseq.map(&:show) #.index('A')\n",
    "nil"
   ]
  },
  {
   "cell_type": "markdown",
   "metadata": {
    "heading_collapsed": true,
    "hidden": true
   },
   "source": [
    "## Random Word generator"
   ]
  },
  {
   "cell_type": "code",
   "execution_count": 5,
   "metadata": {
    "ExecuteTime": {
     "end_time": "2019-12-09T07:44:17.483689Z",
     "start_time": "2019-12-09T07:44:17.465Z"
    },
    "hidden": true
   },
   "outputs": [],
   "source": [
    "def word_generator(length=5)\n",
    "  rstr = ''\n",
    "  length.times{|k| rstr += Rseq.sample.to_s}\n",
    "  return Word.new(rstr)\n",
    "end\n",
    "def wordgen(length=5)\n",
    "  word_generator(length)\n",
    "end;nil"
   ]
  },
  {
   "cell_type": "code",
   "execution_count": 6,
   "metadata": {
    "ExecuteTime": {
     "end_time": "2019-12-09T07:44:17.486895Z",
     "start_time": "2019-12-09T07:44:17.471Z"
    },
    "hidden": true
   },
   "outputs": [
    {
     "name": "stdout",
     "output_type": "stream",
     "text": [
      "\"EebCDeaCfE\"\n"
     ]
    },
    {
     "data": {
      "text/plain": [
       "\"EebCDeaCfE\""
      ]
     },
     "execution_count": 6,
     "metadata": {},
     "output_type": "execute_result"
    }
   ],
   "source": [
    "p wordgen(10).show"
   ]
  },
  {
   "cell_type": "markdown",
   "metadata": {},
   "source": [
    "# Goldman-Turaev bialgebra"
   ]
  },
  {
   "cell_type": "markdown",
   "metadata": {
    "heading_collapsed": true
   },
   "source": [
    "## Linking of a pair of divisions"
   ]
  },
  {
   "cell_type": "code",
   "execution_count": 7,
   "metadata": {
    "ExecuteTime": {
     "end_time": "2019-12-09T07:44:17.487735Z",
     "start_time": "2019-12-09T07:44:17.476Z"
    },
    "hidden": true
   },
   "outputs": [],
   "source": [
    "def ep(h1, h2)\n",
    "  result = h1[:sign]*h2[:sign]\n",
    "  result *= if h1[:letter].show == h2[:letter].show\n",
    "    (h1[:index] < h2[:index]) ? h2[:sign] : h1[:sign]*(-1)\n",
    "  else\n",
    "    (Rseq.index(h1[:letter]) < Rseq.index(h2[:letter])) ? 1 : -1\n",
    "  end\n",
    "  return result\n",
    "end\n",
    "#--------------------------------------------\n",
    "\n",
    "def lk(h1, h2) # h1={word: w1, div: div1}, h2={word: w2, div: div2})\n",
    "  div_hashs = [h1,h2].map do |h|\n",
    "    w = h[:word].flatten\n",
    "    k = h[:div]\n",
    "    s = w.size\n",
    "    [{index: (k%s)+1, letter: w[k%s], sign: 1}, {index: k, letter: w[k-1].inverse, sign: -1}]\n",
    "  end\n",
    "  sum = 0\n",
    "  2.times do |i|\n",
    "    2.times{|j| sum += ep(div_hashs[0][i], div_hashs[1][j])}\n",
    "  end\n",
    "  return (-1)*(sum/2)\n",
    "end; nil"
   ]
  },
  {
   "cell_type": "markdown",
   "metadata": {
    "heading_collapsed": true
   },
   "source": [
    "## Expansion Class"
   ]
  },
  {
   "cell_type": "code",
   "execution_count": 8,
   "metadata": {
    "ExecuteTime": {
     "end_time": "2019-12-09T07:44:17.499989Z",
     "start_time": "2019-12-09T07:44:17.483Z"
    },
    "hidden": true
   },
   "outputs": [],
   "source": [
    "class Expansion < Array\n",
    "  def show(simplify_level=0)\n",
    "    expn = case simplify_level\n",
    "    when 1\n",
    "      self.delete_if{|h| h[:coeff] == 0}\n",
    "    when 2\n",
    "      self.simplify\n",
    "    else \n",
    "      self.reverse\n",
    "    end\n",
    "    #---\n",
    "    mstr = expn.map do |h|\n",
    "      coeff = (h[:coeff]==1) ? '' : \"(#{h[:coeff].to_s})\"\n",
    "      words = h[:words]\n",
    "      term = (words.size == 1) ? words[0].show : words.map(&:cyclic_reduce).join(\"\\u{2227}\")\n",
    "      coeff + term\n",
    "    end.join(' + ')\n",
    "    return (mstr.empty?) ? \"0\" : mstr\n",
    "  end\n",
    "\n",
    "  def simplify()\n",
    "    #-----\n",
    "    expn = self.class.new\n",
    "    monomials = self.each_with_object([]) do |mono, arr|\n",
    "      if mono[:coeff] != 0        \n",
    "        mono_reduced = Hash(divs: mono[:divs], coeff: mono[:coeff], words: mono[:words].map(&:cyclic_reduce))\n",
    "        arr << mono_reduced\n",
    "      end\n",
    "    end\n",
    "    while monomials.size > 0\n",
    "      pop = monomials.pop\n",
    "      pop[:divs] = [pop[:divs]]\n",
    "      #---\n",
    "      monomials.each do |mono|\n",
    "        switch = same_term?(mono[:words], pop[:words])\n",
    "        unless switch.nil?\n",
    "          pop[:coeff] += mono[:coeff] * switch\n",
    "          pop[:divs] << mono[:divs]\n",
    "          mono[:coeff] = nil\n",
    "        end\n",
    "      end\n",
    "      #---\n",
    "      expn << pop if pop[:coeff] != 0\n",
    "      #---\n",
    "      monomials.delete_if{|mono| mono[:coeff].nil?}\n",
    "    end\n",
    "    #-----\n",
    "    if expn.empty?\n",
    "      return (self.class.new << {divs: [], coeff: 0, words: [Word.new]})\n",
    "    else\n",
    "      return expn\n",
    "    end\n",
    "  end\n",
    "  \n",
    "  private\n",
    "  def same_term?(ws1, ws2)\n",
    "    ws1.size.times do |k|\n",
    "      flags = ws1.zip(ws2.rotate(k)).map{|couple| couple[0].conjugate?(couple[1])}\n",
    "      if flags.all?{|tf| tf}\n",
    "        return (-1)**k\n",
    "        break\n",
    "      end\n",
    "    end\n",
    "    return nil\n",
    "  end\n",
    "end; nil"
   ]
  },
  {
   "cell_type": "code",
   "execution_count": 77,
   "metadata": {
    "ExecuteTime": {
     "end_time": "2019-12-09T07:51:47.514770Z",
     "start_time": "2019-12-09T07:51:46.533Z"
    },
    "hidden": true
   },
   "outputs": [
    {
     "name": "stdout",
     "output_type": "stream",
     "text": [
      "\"simplify_level 0: (-1)CB∧cDa + cb∧aBa + (0)CF∧AbF + (-1)BC∧Dac + FA∧fbd\"\n",
      "\"simplify_level 1: FA∧fbd + (-1)BC∧Dac + cb∧aBa + (-1)CB∧cDa\"\n",
      "\"simplify_level 2: (-2)CB∧cDa + cb∧aBa + FA∧fbd\"\n"
     ]
    }
   ],
   "source": [
    "10000.times do |k|\n",
    "  expn = Expansion.new() \n",
    "  5.times do |i|\n",
    "    cf = ( (-1)**(i.modulo(3)) - (-1)**((i+1).modulo(3)) )/2\n",
    "    ws = [2,3].map{|k| word_generator(k)}\n",
    "    expn << {divs: '', coeff: cf, words: ws}\n",
    "  end\n",
    "  if expn.simplify.size < 4\n",
    "    3.times{|i| p \"simplify_level #{i}: \" + expn.show(i)}\n",
    "    break\n",
    "  end\n",
    "end; nil"
   ]
  },
  {
   "cell_type": "markdown",
   "metadata": {
    "heading_collapsed": true
   },
   "source": [
    "## Goldman bracket"
   ]
  },
  {
   "cell_type": "code",
   "execution_count": 10,
   "metadata": {
    "ExecuteTime": {
     "end_time": "2019-12-09T07:44:20.952720Z",
     "start_time": "2019-12-09T07:44:17.493Z"
    },
    "hidden": true
   },
   "outputs": [],
   "source": [
    "def bracket(w1, w2)\n",
    "  \"\"\"\n",
    "  retern an Expansion (an Array of Hashes {divs: *, coeff: *, words: *})\n",
    "  \"\"\"\n",
    "  #-----\n",
    "  polynomial = Expansion.new\n",
    "  if w1.show != '1' and w2.show != '1' \n",
    "    w1.size.times do |i|\n",
    "      #--- divide two words each ---\n",
    "      div1 = i+1\n",
    "      nw1 = w1.cyclic_permutation(div1)\n",
    "      w2.size.times do |j|\n",
    "        div2 = j+1\n",
    "        #--- linking of the pair of divisions ---\n",
    "        lk = lk({word: w1, div: div1}, {word: w2, div: div2})\n",
    "        nw2 = w2.cyclic_permutation(div2)\n",
    "        #---\n",
    "        polynomial << {divs: [div1, div2], coeff: lk, words: [nw1*nw2]}\n",
    "      end\n",
    "    end\n",
    "  end\n",
    "  return polynomial\n",
    "end; nil"
   ]
  },
  {
   "cell_type": "code",
   "execution_count": 11,
   "metadata": {
    "ExecuteTime": {
     "end_time": "2019-12-09T07:44:20.962115Z",
     "start_time": "2019-12-09T07:44:17.500Z"
    },
    "hidden": true,
    "scrolled": true
   },
   "outputs": [
    {
     "name": "stdout",
     "output_type": "stream",
     "text": [
      "Ac, cCF\n",
      "-------\n",
      "\"(-1)Ac.cCF + Ac.FcC + (0)Ac.CFc + cA.cCF + (-1)cA.FcC + (0)cA.CFc\"\n",
      "\"(0)1\"\n"
     ]
    }
   ],
   "source": [
    "# w1 = Word.new(a[1], a[2], b[1].inverse)\n",
    "# w2 = Word.new(b[2], a[1], a[1].inverse) #, b[2])\n",
    "w1, w2 = wordgen(2), wordgen(3)\n",
    "printf [w1, w2].map(&:show).join(', ')  + \"\\n-------\\n\"\n",
    "\n",
    "bra = bracket(w1, w2)\n",
    "\n",
    "# bra.each do |h|\n",
    "#   h.each{|k,v| p \"#{k}: \" + ((k == :words) ? v[0].show : v.to_s)}\n",
    "#   printf \"---\\n\"\n",
    "# end\n",
    "\n",
    "p bra.show\n",
    "p bra.simplify.show\n",
    "; nil"
   ]
  },
  {
   "cell_type": "markdown",
   "metadata": {
    "heading_collapsed": true
   },
   "source": [
    "## Turaev cobraket"
   ]
  },
  {
   "cell_type": "code",
   "execution_count": 12,
   "metadata": {
    "ExecuteTime": {
     "end_time": "2019-12-09T07:44:20.964978Z",
     "start_time": "2019-12-09T07:44:17.506Z"
    },
    "code_folding": [],
    "hidden": true
   },
   "outputs": [],
   "source": [
    "def cobracket(myw, verbose: false)\n",
    "  \"\"\"\n",
    "  return an Expansion (an Array of Hashes {divs: *, coeff: *, words: *})\n",
    "  \"\"\"\n",
    "  polynomial = Expansion.new\n",
    "  unless myw.show == '1' \n",
    "    divs_combinations = (1..myw.size).to_a.combination(2)  #2つの div の組み合わせの全体\n",
    "    divs_combinations.each do |combi|\n",
    "      #--- linking of the pair of divisions ---\n",
    "      lk = lk({word: myw, div: combi[0]},{word: myw, div: combi[1]})\n",
    "      #--- divide the word --- \n",
    "      facs = myw.flatten.factors\n",
    "      words = Array.new(2)\n",
    "      #--- [[TODO]] 以下の2つの Word の定義に cyclic_permutation を使えないか?\n",
    "      words[0] = Word.new(facs[0..combi[0]-1]+facs[combi[1]..-1])\n",
    "      words[1] = Word.new(facs[combi[0]..combi[1]-1])    \n",
    "      polynomial << {divs: combi, coeff: lk, words: words}\n",
    "    end\n",
    "  end\n",
    "  #-----\n",
    "  return polynomial\n",
    "end; nil"
   ]
  },
  {
   "cell_type": "code",
   "execution_count": 13,
   "metadata": {
    "ExecuteTime": {
     "end_time": "2019-12-09T07:44:20.989939Z",
     "start_time": "2019-12-09T07:44:17.511Z"
    },
    "hidden": true,
    "scrolled": true
   },
   "outputs": [
    {
     "name": "stdout",
     "output_type": "stream",
     "text": [
      "EdAdC\n",
      "-------\n",
      "\"(0)EdAd∧C + (-1)EdA∧dC + (0)EdAC∧d + Ed∧AdC + EdC∧Ad + (0)EddC∧A + (0)E∧dAdC + (0)EC∧dAd + (-1)EdC∧dA + (0)EAdC∧d\"\n",
      "\"Ed∧AdC + (-1)EdA∧dC\"\n"
     ]
    }
   ],
   "source": [
    "#mw = Word.new(b[1], a[1], b[1]) #a1*Group.commutator(b[1], a[2]) #comms[1] #\n",
    "mw = wordgen(5)\n",
    "printf mw.show + \"\\n-------\\n\"\n",
    "\n",
    "cobra = cobracket(mw, verbose: false) #true) #\n",
    "\n",
    "# cobra.each do |h|\n",
    "#   h.each do |k,v| \n",
    "#     p \"#{k}: \" + ((k == :words) ? v[0].show : v.to_s)\n",
    "#   end\n",
    "#   printf \"---\\n\"\n",
    "# end\n",
    "\n",
    "p cobra.show\n",
    "p cobra.simplify.show\n",
    "nil"
   ]
  },
  {
   "cell_type": "markdown",
   "metadata": {
    "heading_collapsed": true
   },
   "source": [
    "## Execution"
   ]
  },
  {
   "cell_type": "code",
   "execution_count": 71,
   "metadata": {
    "ExecuteTime": {
     "end_time": "2019-12-09T07:50:34.811192Z",
     "start_time": "2019-12-09T07:50:32.252Z"
    },
    "hidden": true,
    "scrolled": false
   },
   "outputs": [
    {
     "name": "stdout",
     "output_type": "stream",
     "text": [
      "--- s0 ---\n",
      " 1  |--δ-->  (0)1\n",
      "a  |--δ-->  (0)1\n",
      "a.d  |--δ-->  (-1)a∧d\n",
      "a.D  |--δ-->  (0)1\n",
      "a.abA.aBA  |--δ-->  1∧a\n",
      "--- s1 ---\n",
      " a.a.a.a  |--δ-->  aa∧aa\n",
      "abA  |--δ-->  1∧b\n",
      "abAB  |--δ-->  (0)1\n",
      "b.a.b  |--δ-->  (0)1\n",
      "--- s2 ---\n",
      " a.dcDC  |--δ-->  (-1)a∧dcDC\n",
      "a.aBA.dcDC.abA  |--δ-->  1∧aBAdcDCab\n",
      "a.dcDC.cdCDaBAdcDCabA  |--δ-->  (2)1∧aBAdcDCab\n",
      "aBAdcDCab  |--δ-->  (0)1\n",
      "--- s3 ---\n",
      " a.cdCD  |--δ-->  (0)1\n",
      "a.cdCD.cdCD  |--δ-->  acdCD∧cdCD\n",
      "a.cdCD.abA.cdCD.aBA  |--δ-->  (0)1\n",
      "a.cdCD.cdCD.dcDCabAcdCDaBA  |--δ-->  (0)1\n",
      "--- s4 ---\n",
      " a.c.c.c  |--δ-->  acc∧c + ac∧cc\n",
      "a.cD.cD.cD  |--δ-->  acDcD∧cD + acD∧cDcD\n",
      "--- s5 ---\n",
      " a.ceCE  |--δ-->  (-1)aceC∧E + ace∧CE + (-1)ac∧C\n",
      "a.cdCD.efEF.ceCE.feFEdcDC  |--δ-->  (-1)acdCDefEFceCfeFEdcDC∧E + acdCDefEFcefeFEdcDC∧CE + (-1)acdCDefEFcfeFEdcDC∧C\n",
      "--- s6 ---\n",
      " a.bcBC  |--δ-->  (-1)abcB∧C + abc∧BC + (-1)abC∧cB\n",
      "a.A.b.a  |--δ-->  (0)1\n",
      "abA.A.a  |--δ-->  1∧b\n",
      "abA.aBA  |--δ-->  (0)1\n",
      "abBd  |--δ-->  (-1)a∧d + (-1)ad∧1\n",
      "--- s7 ---\n",
      " a.Bab.a.B  |--δ-->  (0)1\n",
      "a.b.a.B.a.B  |--δ-->  (0)1\n",
      "a.aBA.a.B  |--δ-->  aB∧aB\n",
      "aaBB  |--δ-->  (-1)aB∧aB\n",
      "a.a.D.D  |--δ-->  aaD∧D + aDD∧a\n"
     ]
    }
   ],
   "source": [
    "a1, b1 = Word.new(a[1]), Word.new(b[1])\n",
    "c = (a1*Word.new(b[1])*(a1.inverse)).flatten\n",
    "\n",
    "samples = {\n",
    "  s0: [\n",
    "    Word.new,\n",
    "    a1, \n",
    "    a1*Word.new(b[2]),\n",
    "    a1*(Word.new(b[2]).inverse),\n",
    "    a1*c*(c.inverse),\n",
    "  ],\n",
    "  s1: [\n",
    "    a1^4,\n",
    "    c,\n",
    "    comms[1],\n",
    "    Word.new(b[1])*a1*Word.new(b[1])\n",
    "  ],\n",
    "  s2: [\n",
    "    a1*(comms[2].inverse),\n",
    "    a1*(c.inverse)*(comms[2].inverse)*c,\n",
    "    a1*(comms[2].inverse)*Group.commutator(comms[2], c.inverse),\n",
    "    (a1*(comms[2].inverse)*Group.commutator(comms[2], c.inverse)).cyclic_reduce\n",
    "  ],\n",
    "  s3: [\n",
    "    a1*comms[2],\n",
    "    a1*(comms[2]^2),\n",
    "    a1*comms[2]*c*comms[2]*(c.inverse),\n",
    "    a1*(comms[2]^2)*Group.commutator(comms[2].inverse,c)\n",
    "  ],\n",
    "  s4: [\n",
    "    a1*(Word.new(a[2])^3),\n",
    "    a1*(Word.new(a[2], b[2].inverse)^3)\n",
    "  ],\n",
    "  s5: [\n",
    "    a1*Group.commutator(a[2], a[3]),\n",
    "    a1*(comms[2]*comms[3])*Group.commutator(a[2], a[3])*((comms[2]*comms[3]).inverse)\n",
    "  ],\n",
    "  s6: [\n",
    "    a1*Group.commutator(b[1], a[2]),\n",
    "    a1*(a1.inverse)*Word.new(b[1])*a1,\n",
    "    c*(a1.inverse)*a1,\n",
    "    c*(c.inverse),\n",
    "    Word.new(a[1], b[1], b[1].inverse, b[2])\n",
    "  ],\n",
    "  s7: [\n",
    "    a1*(Group.conjugate(a1, b1.inverse))*a1*(b1.inverse),\n",
    "    a1*b1*((a1*(b1.inverse))^2),\n",
    "    a1*Group.conjugate(b1.inverse, a1)*a1*(b1.inverse),\n",
    "    (a1*Group.conjugate(b1.inverse, a1)*a1*(b1.inverse)).contract,\n",
    "    a1*a1*(Word.new(b[2].inverse)^2)\n",
    "    ]\n",
    "  }\n",
    "\n",
    "arr = samples #.slice(:s7) #:s0, :s6) #:s2) #, :s3) #:s0, :s1) #\n",
    "arr.each do |k, v|\n",
    "  printf \"--- #{k} ---\\n \"\n",
    "  v.each{|s| puts s.show + \"  |--\\u{03B4}-->  \" + cobracket(s).show(2) }\n",
    "end;nil"
   ]
  },
  {
   "cell_type": "markdown",
   "metadata": {},
   "source": [
    "# Conditions"
   ]
  },
  {
   "cell_type": "markdown",
   "metadata": {
    "heading_collapsed": true
   },
   "source": [
    "## Jacobi Identity"
   ]
  },
  {
   "cell_type": "markdown",
   "metadata": {
    "hidden": true
   },
   "source": [
    "$$\\nabla\\circ(\\nabla\\otimes 1)\\circ N = 0$$"
   ]
  },
  {
   "cell_type": "code",
   "execution_count": 15,
   "metadata": {
    "ExecuteTime": {
     "end_time": "2019-12-09T07:44:22.811878Z",
     "start_time": "2019-12-09T07:44:17.523Z"
    },
    "hidden": true
   },
   "outputs": [
    {
     "name": "stdout",
     "output_type": "stream",
     "text": [
      "C ⊗ ae ⊗ D  |---> \n",
      "------\n",
      "\t∇(C ⊗ ae) ⊗ D =\n",
      "\t\t+ (Cea.D) ⊗ D\n",
      "\t\t+ (Cae.D) ⊗ D\n",
      "\t∇(ae ⊗ D) ⊗ C =\n",
      "\t\t+ ((-1)Dea.C) ⊗ C\n",
      "\t\t+ ((-1)Dae.C) ⊗ C\n",
      "\t∇(D ⊗ C) ⊗ ae =\n",
      "\t\t+ (0) ⊗ ae\n",
      "---------\n",
      "\"0\"\n",
      "---------\n",
      "\"(0)1\"\n"
     ]
    }
   ],
   "source": [
    "three_words = Array.new(3)\n",
    "max_length = 2\n",
    "\n",
    "three_words.map!{|w| word_generator(rand(1..max_length))}\n",
    "puts three_words.map(&:show).join(\" \\u{2297} \") + \"  |---> \" + \"\\n------\"\n",
    "\n",
    "total = Expansion.new\n",
    "3.times do |k|\n",
    "  bra = bracket(three_words[0],three_words[1])\n",
    "  puts \"\\t\\u{2207}(\" + three_words[0..1].map(&:show).join(\" \\u{2297} \") + \") \\u{2297} \" + three_words[2].show + \" =\"\n",
    "  bra.each do |h|\n",
    "    bra2 = bracket(h[:words][0], three_words[2])\n",
    "    puts \"\\t\\t+ (#{bra2.show(1)}) \\u{2297} #{three_words[2].show}\"\n",
    "    bra2.each do |hh|\n",
    "      hh[:coeff] *= h[:coeff]\n",
    "      total << hh\n",
    "    end\n",
    "  end\n",
    "  three_words.rotate!\n",
    "end\n",
    "\n",
    "printf \"---------\\n\"\n",
    "p total.show(1)\n",
    "printf \"---------\\n\"\n",
    "p total.show(2)\n",
    "nil"
   ]
  },
  {
   "cell_type": "code",
   "execution_count": 16,
   "metadata": {
    "ExecuteTime": {
     "end_time": "2019-12-09T07:44:55.022239Z",
     "start_time": "2019-12-09T07:44:17.528Z"
    },
    "hidden": true
   },
   "outputs": [],
   "source": [
    "three_words = Array.new(3)\n",
    "max_length = 3\n",
    "count = 500\n",
    "\n",
    "count.times do |k|\n",
    "  three_words.map!{|w| word_generator(rand(1..max_length))}\n",
    "  total = Expansion.new\n",
    "  3.times do |k|\n",
    "    bra = bracket(three_words[0],three_words[1])\n",
    "#     puts \"\\u{2207}(\" + three_words[0..1].map(&:show).join(\" \\u{2297} \") + \") \\u{2297} \" + three_words[2].show + \" =\"\n",
    "    bra.each do |h|\n",
    "      bra2 = bracket(h[:words][0], three_words[2])\n",
    "#       puts \"+ (#{bra2.show}) \\u{2297} #{three_words[2].show}\"\n",
    "      bra2.each do |hh|\n",
    "        hh[:coeff] *= h[:coeff]\n",
    "        total << hh\n",
    "      end\n",
    "    end\n",
    "    three_words.rotate!\n",
    "  end\n",
    "  result = total.show(2)\n",
    "  puts three_words.map(&:show).join(\" \\u{2297} \") + \"  |--> \" + result if result != '(0)1'\n",
    "end; nil"
   ]
  },
  {
   "cell_type": "markdown",
   "metadata": {
    "heading_collapsed": true
   },
   "source": [
    "## Involutivity for $\\nabla$ and $\\delta$"
   ]
  },
  {
   "cell_type": "markdown",
   "metadata": {
    "hidden": true
   },
   "source": [
    "$$\\nabla\\circ \\delta = 0$$"
   ]
  },
  {
   "cell_type": "code",
   "execution_count": 17,
   "metadata": {
    "ExecuteTime": {
     "end_time": "2019-12-09T07:44:55.059467Z",
     "start_time": "2019-12-09T07:44:17.535Z"
    },
    "hidden": true
   },
   "outputs": [
    {
     "name": "stdout",
     "output_type": "stream",
     "text": [
      "aEFEFB\n",
      "======\n",
      "Δ(aEFEFB) = (-1)a∧EFEFB + aEFB∧EF + aEFEF∧B\n",
      "---\n",
      "\t∇(a ⊗ EFEFB) = a.BEFEF\n",
      "\t∇(aEFB ⊗ EF) = EFBa.EF + (-1)BaEF.EF\n",
      "\t∇(aEFEF ⊗ B) = (-1)EFEFa.B\n",
      "======\n",
      "a.BEFEF + EFBa.EF + (-1)BaEF.EF + (-1)EFEFa.B  =  (0)1\n"
     ]
    }
   ],
   "source": [
    "myw = word_generator(6)\n",
    "#myw = Word.new('ffA')\n",
    "puts myw.show + \"\\n======\"\n",
    "\n",
    "cobra = cobracket(myw)\n",
    "puts \"\\u{0394}(#{myw.show}) = \" + cobra.show(1)\n",
    "puts \"---\"\n",
    "\n",
    "total = Expansion.new\n",
    "cobra.each do |h|\n",
    "  coeff = h[:coeff]\n",
    "  bra = bracket(*h[:words])\n",
    "  bra.each do |mono|\n",
    "    mono[:coeff] *= coeff\n",
    "    total << mono\n",
    "  end\n",
    "  #--- display ---\n",
    "  tensor = h[:words].map(&:show).join(\" \\u{2297} \")\n",
    "  puts \"\\t\\u{2207}(#{tensor}) = #{bra.show(1)}\"\n",
    "  #---------------\n",
    "end\n",
    "\n",
    "puts \"======\\n\" + total.show(1) + \"  =  \" + total.show(2)\n",
    "nil"
   ]
  },
  {
   "cell_type": "code",
   "execution_count": 18,
   "metadata": {
    "ExecuteTime": {
     "end_time": "2019-12-09T07:45:06.500166Z",
     "start_time": "2019-12-09T07:44:17.542Z"
    },
    "hidden": true
   },
   "outputs": [],
   "source": [
    "count, length = 1000, 5\n",
    "count.times do |k|\n",
    "  myw = word_generator(length)\n",
    "  total = cobracket(myw).each_with_object(Expansion.new) do |h, expn|\n",
    "    bracket(*h[:words]).each do |mono|\n",
    "      mono[:coeff] *= h[:coeff]\n",
    "      expn << mono\n",
    "    end\n",
    "  end\n",
    "  result = total.show(2)\n",
    "  p myw.show + \" |--> \" + result if result != \"(0)1\"\n",
    "end; nil"
   ]
  },
  {
   "cell_type": "markdown",
   "metadata": {
    "heading_collapsed": true
   },
   "source": [
    "## Compatibility condition for $\\nabla$ and $\\delta$"
   ]
  },
  {
   "cell_type": "markdown",
   "metadata": {
    "hidden": true
   },
   "source": [
    "$\\forall v,w \\in \\pi$,\n",
    "$$\n",
    "\\delta([v,w]) = w\\cdot\\delta(v)- v\\cdot\\delta(w),\n",
    "$$\n",
    "where \n",
    "$$\n",
    "u\\cdot(x\\otimes y) = [u,x]\\otimes y + x\\otimes[u,y].\n",
    "$$\n",
    "**Note**: From the last formula, we immediately have the following:\n",
    "$$\n",
    "u \\cdot(x\\wedge y) = [u,x]\\wedge y - [u,y]\\wedge x.\n",
    "$$"
   ]
  },
  {
   "cell_type": "code",
   "execution_count": 70,
   "metadata": {
    "ExecuteTime": {
     "end_time": "2019-12-09T07:49:51.260128Z",
     "start_time": "2019-12-09T07:49:51.101Z"
    },
    "hidden": true,
    "scrolled": false
   },
   "outputs": [
    {
     "name": "stdout",
     "output_type": "stream",
     "text": [
      "DF.Eca\n",
      "\n",
      "Left-hand Eq.:  (-1)DFEa∧c + (-1)DFc∧aE + DFcE∧a + DFaE∧c + (-1)FDcE∧a + (-1)FDaE∧c\n",
      "Right-hand Eq.:  DFcE∧a + (-1)FDcE∧a + (-1)DFc∧Ea + (-1)DFEa∧c + DFaE∧c + (-1)FDaE∧c"
     ]
    },
    {
     "data": {
      "text/plain": [
       "\"(0)1\""
      ]
     },
     "execution_count": 70,
     "metadata": {},
     "output_type": "execute_result"
    }
   ],
   "source": [
    "v = word_generator(2) #samples[:s2][0] #Word.new(a[1], a[2])\n",
    "w = word_generator(3) #samples[:s4][0] #Word.new(b[1])\n",
    "puts (v*w).show\n",
    "\n",
    "#--- Left-hand eq. -------------------\n",
    "lhe = Expansion.new\n",
    "bra = bracket(v, w)#; puts \"\\u{2207}(#{v}, #{w}) = \" + bra.show\n",
    "bra.each do |h|\n",
    "  cobra = cobracket(h[:words][0])\n",
    "#   puts \"\\t(#{h[:coeff]})\\u{03B4}(#{h[:words][0].show}) = \" + cobra.show(1) if h[:coeff] != 0\n",
    "  cobra.each do |mono|\n",
    "    mono[:coeff] *= h[:coeff]\n",
    "#     puts \"\\t\\t(#{mono[:coeff]})#{mono[:words].map(&:show).join(\" \\u{2227} \")}\" if mono[:coeff] != 0\n",
    "    lhe << mono\n",
    "  end\n",
    "end\n",
    "printf \"\\nLeft-hand Eq.:  \"+ lhe.show(2)\n",
    "\n",
    "#--- Right-hand eq. -------------------\n",
    "rhe = Expansion.new\n",
    "2.times do |i|\n",
    "  pair = [v,w].rotate(i)\n",
    "  sign01 = (-1)**i\n",
    "  #---\n",
    "  u = pair[0]\n",
    "  cobra = cobracket(pair[1]) #; printf \"#{u}.\\u{03B4}(#{pair[1].show}) = #{u}.(#{cobra.show(1)})\\n---\\n\"\n",
    "  cobra.each do |h|\n",
    "    2.times do |j|\n",
    "      couple = h[:words].rotate(j)\n",
    "      x, y = couple[0], couple[1]\n",
    "      sign02 = (-1)**j\n",
    "      #---\n",
    "      bra = bracket(u, x) #; printf \"\\t[#{u}, #{x}] \\u{2297} #{y} \\n\" + \"\\t=(#{bra.show(1)}) \\u{2297} #{y}\"\n",
    "      bra.each do |mono|\n",
    "        term = Hash.new\n",
    "        term[:coeff] = mono[:coeff]*h[:coeff]*sign01*sign02\n",
    "        term[:words] = [mono[:words][0], y]\n",
    "        term[:divs] = mono[:divs]\n",
    "        rhe << term\n",
    "      end\n",
    "    end\n",
    "  end\n",
    "#   printf \"\\n---\\n\"\n",
    "end\n",
    "#-----\n",
    "printf \"\\nRight-hand Eq.:  \"+ rhe.show(2)\n",
    "\n",
    "#-----------------------\n",
    "rhe.each do |t|\n",
    "  t[:coeff] *= -1\n",
    "  lhe << t\n",
    "end\n",
    "lhe.show(2)"
   ]
  },
  {
   "cell_type": "markdown",
   "metadata": {
    "heading_collapsed": true
   },
   "source": [
    "# Experiments"
   ]
  },
  {
   "cell_type": "code",
   "execution_count": null,
   "metadata": {
    "hidden": true
   },
   "outputs": [],
   "source": []
  },
  {
   "cell_type": "markdown",
   "metadata": {},
   "source": [
    "# TODO"
   ]
  },
  {
   "cell_type": "markdown",
   "metadata": {},
   "source": [
    "* [x] Expansion#show のオプションに \"係数 0 の項だけ消去\" を加えたい。\n",
    "* [x] Compatibility が全然ダメ。\n",
    "* [x] aaa などの Word について、動作が少し変。\n",
    "* [x] Extension class のメソッドとして、係数 0 を消去したり、共通項で整理したりできるようにしたい。\n",
    "* [ ] cobracket を再帰的に作用させて、完全に分解することに何らかの意味があるか?\n",
    "* [ ] $\\ell_{2}$ の計算と cobracket との関係は? とくに両者にある division について。"
   ]
  }
 ],
 "metadata": {
  "kernelspec": {
   "display_name": "Ruby 2.6.1",
   "language": "ruby",
   "name": "ruby"
  },
  "language_info": {
   "file_extension": ".rb",
   "mimetype": "application/x-ruby",
   "name": "ruby",
   "version": "2.6.1"
  },
  "toc": {
   "base_numbering": 1,
   "nav_menu": {},
   "number_sections": false,
   "sideBar": true,
   "skip_h1_title": true,
   "title_cell": "Table of Contents",
   "title_sidebar": "Contents",
   "toc_cell": false,
   "toc_position": {},
   "toc_section_display": true,
   "toc_window_display": true
  },
  "varInspector": {
   "cols": {
    "lenName": 16,
    "lenType": 16,
    "lenVar": 40
   },
   "kernels_config": {
    "python": {
     "delete_cmd_postfix": "",
     "delete_cmd_prefix": "del ",
     "library": "var_list.py",
     "varRefreshCmd": "print(var_dic_list())"
    },
    "r": {
     "delete_cmd_postfix": ") ",
     "delete_cmd_prefix": "rm(",
     "library": "var_list.r",
     "varRefreshCmd": "cat(var_dic_list()) "
    }
   },
   "types_to_exclude": [
    "module",
    "function",
    "builtin_function_or_method",
    "instance",
    "_Feature"
   ],
   "window_display": false
  }
 },
 "nbformat": 4,
 "nbformat_minor": 2
}
