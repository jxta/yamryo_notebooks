{
 "cells": [
  {
   "cell_type": "markdown",
   "metadata": {
    "heading_collapsed": true
   },
   "source": [
    "# The fundarmental group of $\\Sigma_{g,1}$ "
   ]
  },
  {
   "cell_type": "code",
   "execution_count": 1,
   "metadata": {
    "ExecuteTime": {
     "end_time": "2019-10-24T07:16:14.790688Z",
     "start_time": "2019-10-24T07:16:14.781Z"
    },
    "hidden": true
   },
   "outputs": [
    {
     "data": {
      "text/plain": [
       "true"
      ]
     },
     "execution_count": 1,
     "metadata": {},
     "output_type": "execute_result"
    }
   ],
   "source": [
    "require './freegroup.rb'"
   ]
  },
  {
   "cell_type": "markdown",
   "metadata": {
    "heading_collapsed": true,
    "hidden": true
   },
   "source": [
    "## symplectic generators"
   ]
  },
  {
   "cell_type": "code",
   "execution_count": 2,
   "metadata": {
    "ExecuteTime": {
     "end_time": "2019-10-24T07:16:14.804373Z",
     "start_time": "2019-10-24T07:16:14.788Z"
    },
    "hidden": true
   },
   "outputs": [
    {
     "name": "stdout",
     "output_type": "stream",
     "text": [
      "[\"a\", \"b\", \"c\", \"d\", \"e\", \"f\"]\n",
      "[\"1\", \"a\", \"c\", \"e\"]\n"
     ]
    }
   ],
   "source": [
    "genus = 3\n",
    "alphabet = %w(a b c d e f)\n",
    "\n",
    "Gens = [Letter.new] + alphabet.map{|x| Letter.new(x)}\n",
    "Gens.freeze\n",
    "p Gens[1..-1].map(&:show)\n",
    "\n",
    "a = [Gens[0]] + Gens[1..-1].each_slice(2).map(&:first)\n",
    "b = [Gens[0]] + Gens[1..-1].each_slice(2).map(&:last)\n",
    "p a.map(&:show)\n",
    "nil"
   ]
  },
  {
   "cell_type": "code",
   "execution_count": 3,
   "metadata": {
    "ExecuteTime": {
     "end_time": "2019-10-24T07:16:14.807440Z",
     "start_time": "2019-10-24T07:16:14.793Z"
    },
    "hidden": true
   },
   "outputs": [
    {
     "name": "stdout",
     "output_type": "stream",
     "text": [
      "[\"1111\", \"abAB\", \"cdCD\", \"efEF\"]\n"
     ]
    },
    {
     "data": {
      "text/plain": [
       "[\"1111\", \"abAB\", \"cdCD\", \"efEF\"]"
      ]
     },
     "execution_count": 3,
     "metadata": {},
     "output_type": "execute_result"
    }
   ],
   "source": [
    "comms = []\n",
    "(Gens.size/2 + 1).times do |i|\n",
    "  comms << Group.commutator(a[i], b[i])\n",
    "end\n",
    "p comms.map(&:show)"
   ]
  },
  {
   "cell_type": "code",
   "execution_count": 4,
   "metadata": {
    "ExecuteTime": {
     "end_time": "2019-10-24T07:16:14.813892Z",
     "start_time": "2019-10-24T07:16:14.799Z"
    },
    "hidden": true
   },
   "outputs": [
    {
     "name": "stderr",
     "output_type": "stream",
     "text": [
      "<main>:2: warning: already initialized constant Rseq\n",
      "<main>:2: warning: already initialized constant Rseq\n",
      "<main>:2: warning: previous definition of Rseq was here\n",
      "<main>:2: warning: already initialized constant Rseq\n",
      "<main>:2: warning: previous definition of Rseq was here\n"
     ]
    },
    {
     "name": "stdout",
     "output_type": "stream",
     "text": [
      "[\"a\", \"B\", \"A\", \"b\", \"c\", \"D\", \"C\", \"d\", \"e\", \"F\", \"E\", \"f\"]\n"
     ]
    }
   ],
   "source": [
    "Rseq = []\n",
    "(Gens.size/2).times do |i|\n",
    "  Rseq += [a[i+1], b[i+1].inverse, a[i+1].inverse, b[i+1]]\n",
    "end\n",
    "Rseq.freeze\n",
    "p Rseq.map(&:show) #.index('A')\n",
    "nil"
   ]
  },
  {
   "cell_type": "markdown",
   "metadata": {},
   "source": [
    "# Goldman-Turaev bialgebra"
   ]
  },
  {
   "cell_type": "markdown",
   "metadata": {
    "heading_collapsed": true
   },
   "source": [
    "## Linking of a pair of divisions"
   ]
  },
  {
   "cell_type": "code",
   "execution_count": 5,
   "metadata": {
    "ExecuteTime": {
     "end_time": "2019-10-24T07:16:14.820489Z",
     "start_time": "2019-10-24T07:16:14.807Z"
    },
    "hidden": true
   },
   "outputs": [],
   "source": [
    "def ep(h1, h2)\n",
    "  result = h1[:sign]*h2[:sign]\n",
    "  result *= if h1[:letter].show == h2[:letter].show\n",
    "    (h1[:index] < h2[:index]) ? h2[:sign] : h1[:sign]*(-1)\n",
    "  else\n",
    "    (Rseq.index(h1[:letter]) < Rseq.index(h2[:letter])) ? 1 : -1\n",
    "  end\n",
    "  return result\n",
    "end\n",
    "#--------------------------------------------\n",
    "\n",
    "def lk(h1, h2) # h1={word: w1, div: div1}, h2={word: w2, div: div2})\n",
    "  div_hashs = [h1,h2].map do |h|\n",
    "    w = h[:word].flatten\n",
    "    k = h[:div]\n",
    "    s = w.size\n",
    "    [{index: (k%s)+1, letter: w[k%s], sign: 1}, {index: k, letter: w[k-1].inverse, sign: -1}]\n",
    "  end\n",
    "  sum = 0\n",
    "  2.times do |i|\n",
    "    2.times{|j| sum += ep(div_hashs[0][i], div_hashs[1][j])}\n",
    "  end\n",
    "  return (-1)*(sum/2)\n",
    "end; nil"
   ]
  },
  {
   "cell_type": "markdown",
   "metadata": {
    "heading_collapsed": true
   },
   "source": [
    "## Goldman bracket"
   ]
  },
  {
   "cell_type": "code",
   "execution_count": 6,
   "metadata": {
    "ExecuteTime": {
     "end_time": "2019-10-24T07:16:14.827285Z",
     "start_time": "2019-10-24T07:16:14.813Z"
    },
    "hidden": true
   },
   "outputs": [],
   "source": [
    "def bracket(w1, w2, verbose: false)\n",
    "  \"\"\"\n",
    "  retern a Hash {divs: *, coeff: *, term: *, word: *}\n",
    "  \"\"\"\n",
    "  #-----\n",
    "  monomials = []\n",
    "  if w1.show != '1' and w2.show != '1' \n",
    "    w1.size.times do |i|\n",
    "      #--- divide two words each ---\n",
    "      div1 = i+1\n",
    "      facs = (w1.flatten.factors)*2\n",
    "      nw1 = Word.new(facs[div1, w1.size])\n",
    "      w2.size.times do |j|\n",
    "        div2 = j+1\n",
    "        #--- linking of the pair of divisions ---\n",
    "        lk = lk({word: w1, div: div1}, {word: w2, div: div2})\n",
    "        #---\n",
    "        facs = (w2.flatten.factors)*2\n",
    "        nw2 = Word.new(facs[div2, w2.size])\n",
    "        #---\n",
    "        monomials << {divs: [div1, div2], linking: lk, word: nw1*nw2}\n",
    "      end\n",
    "    end\n",
    "  end\n",
    "\n",
    "#-----\n",
    "  key_order = %i[divs coeff term word]\n",
    "\n",
    "  if verbose\n",
    "    result = monomials\n",
    "  else\n",
    "    monomials.delete_if{|mono| mono[:linking] == 0}\n",
    "    monomials.each{|mono| mono[:word] = mono[:word].cyclic_reduce}\n",
    "    result = []\n",
    "    while monomials.size > 0\n",
    "      pop = monomials.pop\n",
    "      pop[:divs] = [pop[:divs]]\n",
    "      pop[:coeff] = pop[:linking]\n",
    "      #---\n",
    "      monomials.each do |mono|\n",
    "        if mono[:word].conjugate?(pop[:word])\n",
    "          pop[:coeff] += mono[:linking]\n",
    "          pop[:divs] << mono[:divs]\n",
    "          mono[:linking] = nil\n",
    "        end\n",
    "      end\n",
    "      #---\n",
    "      if pop[:coeff] != 0 or verbose\n",
    "        pop.delete(:linkng)\n",
    "        pop[:term] = pop[:word].show\n",
    "        pop = pop.slice(*key_order)\n",
    "        result << pop\n",
    "      end\n",
    "      #---\n",
    "      monomials.delete_if{|mono| mono[:linking].nil?}\n",
    "    end \n",
    "  end\n",
    "  return (result.empty?) ? [{divs: [], coeff: 0, term: '1', word: Word.new}] : result\n",
    "end; nil"
   ]
  },
  {
   "cell_type": "code",
   "execution_count": 7,
   "metadata": {
    "ExecuteTime": {
     "end_time": "2019-10-24T07:16:14.838959Z",
     "start_time": "2019-10-24T07:16:14.818Z"
    },
    "hidden": true
   },
   "outputs": [
    {
     "name": "stdout",
     "output_type": "stream",
     "text": [
      "acB, daA\n",
      "-------\n",
      "\"divs: [[2, 1]]\"\n",
      "\"coeff: 1\"\n",
      "\"term: Bacd\"\n",
      "---\n"
     ]
    }
   ],
   "source": [
    "w1 = Word.new(a[1], a[2], b[1].inverse)\n",
    "w2 = Word.new(b[2], a[1], a[1].inverse) #, b[2])\n",
    "printf [w1, w2].map(&:show).join(', ')  + \"\\n-------\\n\"\n",
    "\n",
    "vbs = false #true #\n",
    "bracket(w1, w2, verbose: vbs).each do |h|\n",
    "  h.each do |k,v| \n",
    "    p \"#{k}: #{v}\" unless k == :word\n",
    "  end\n",
    "  printf \"---\\n\"\n",
    "end;\n",
    "nil"
   ]
  },
  {
   "cell_type": "markdown",
   "metadata": {},
   "source": [
    "## Turaev cobraket"
   ]
  },
  {
   "cell_type": "code",
   "execution_count": 8,
   "metadata": {
    "ExecuteTime": {
     "end_time": "2019-10-24T07:16:14.844542Z",
     "start_time": "2019-10-24T07:16:14.824Z"
    },
    "code_folding": [],
    "scrolled": true
   },
   "outputs": [],
   "source": [
    "def cobracket(myw, verbose: false)\n",
    "  \"\"\"\n",
    "  return a Hash {divs: *, coeff: *, term: *, words: *}\n",
    "  \"\"\"\n",
    "  if myw.show == '1'\n",
    "    monomials = []\n",
    "  else\n",
    "    #-----\n",
    "    # 2つの div の組み合わせ全てについて、 {divs: *, linking: *, term: *, words: *} という Hash を生成。\n",
    "    divs = (1..myw.size).to_a\n",
    "    monomials = divs.combination(2).map do |combi|\n",
    "      #--- linking of the pair of divisions ---\n",
    "      lk = lk({word: myw, div: combi[0]},{word: myw, div: combi[1]})\n",
    "      #--- divide the word --- \n",
    "      facs = myw.flatten.factors\n",
    "      words = Array.new(2)\n",
    "      words[0] = Word.new(facs[0..combi[0]-1]+facs[combi[1]..-1])\n",
    "      words[1] = Word.new(facs[combi[0]..combi[1]-1])\n",
    "      #--- get the wedge ---\n",
    "      term = words.map(&:cyclic_reduce).join(\" \\u{2227} \")\n",
    "      \n",
    "      {divs: combi, linking: lk, term: term, words: words}\n",
    "    end\n",
    "  end\n",
    "  #-----\n",
    "  \n",
    "  key_order = %i[divs coeff term words]\n",
    "  \n",
    "  if verbose\n",
    "    result = monomials\n",
    "  else\n",
    "    monomials.delete_if{|mono| mono[:linking] == 0}\n",
    "    monomials.each{|mono| mono[:words] = mono[:words].map(&:cyclic_reduce)}\n",
    "    result = []\n",
    "    while monomials.size > 0\n",
    "      pop = monomials.pop\n",
    "      pop[:divs] = [pop[:divs]]\n",
    "      pop[:coeff] = pop[:linking]\n",
    "      #---\n",
    "      monomials.each do |mono|\n",
    "        if mono[:words][0].conjugate?(pop[:words][0]) and mono[:words][1].conjugate?(pop[:words][1])\n",
    "          pop[:coeff] += mono[:linking]\n",
    "          pop[:divs] << mono[:divs]\n",
    "          mono[:linking] = nil\n",
    "        elsif mono[:words][0].conjugate?(pop[:words][1]) and mono[:words][1].conjugate?(pop[:words][0])\n",
    "          pop[:coeff] += mono[:linking]*(-1)\n",
    "          pop[:divs] << mono[:divs]\n",
    "          mono[:linking] = nil\n",
    "        end\n",
    "      end\n",
    "      #---\n",
    "      if pop[:coeff] != 0 or verbose\n",
    "        pop = pop.slice(*key_order)\n",
    "        result << pop\n",
    "      end\n",
    "      #---\n",
    "      monomials.delete_if{|mono| mono[:linking].nil?}\n",
    "    end \n",
    "  end\n",
    "  return (result.empty?) ? [{divs: [], coeff: 0, term: '0', words: [Word.new, Word.new]}] : result\n",
    "end; nil"
   ]
  },
  {
   "cell_type": "code",
   "execution_count": 9,
   "metadata": {
    "ExecuteTime": {
     "end_time": "2019-10-24T07:16:14.852186Z",
     "start_time": "2019-10-24T07:16:14.831Z"
    }
   },
   "outputs": [
    {
     "name": "stdout",
     "output_type": "stream",
     "text": [
      "bab\n",
      "-------\n",
      "\"divs: []\"\n",
      "\"coeff: 0\"\n",
      "\"term: 0\"\n",
      "---\n"
     ]
    }
   ],
   "source": [
    "mw = Word.new(b[1], a[1], b[1]) #a1*Group.commutator(b[1], a[2]) #comms[1] #\n",
    "printf mw.show + \"\\n-------\\n\"\n",
    "\n",
    "vbs = false #true #\n",
    "cobracket(mw, verbose: vbs).each do |h|\n",
    "  h.each do |k,v| \n",
    "    p \"#{k}: #{v}\" unless k == :words\n",
    "  end\n",
    "  printf \"---\\n\"\n",
    "end; nil"
   ]
  },
  {
   "cell_type": "markdown",
   "metadata": {
    "heading_collapsed": true
   },
   "source": [
    "## Execution"
   ]
  },
  {
   "cell_type": "code",
   "execution_count": 10,
   "metadata": {
    "ExecuteTime": {
     "end_time": "2019-10-24T07:16:16.744381Z",
     "start_time": "2019-10-24T07:16:14.838Z"
    },
    "hidden": true,
    "scrolled": false
   },
   "outputs": [
    {
     "name": "stdout",
     "output_type": "stream",
     "text": [
      "--- s0 ---\n",
      " 1  |--δ-->  (0)0\n",
      "a  |--δ-->  (0)0\n",
      "a.d  |--δ-->  (-1)a ∧ d\n",
      "a.D  |--δ-->  (0)0\n",
      "a.abA.aBA  |--δ-->  1 ∧ a\n",
      "--- s1 ---\n",
      " a.a.a.a  |--δ-->  aaa ∧ a + aa ∧ aa + a ∧ aaa\n",
      "abA  |--δ-->  1 ∧ b\n",
      "abAB  |--δ-->  (0)0\n",
      "b.a.b  |--δ-->  (0)0\n",
      "--- s2 ---\n",
      " a.dcDC  |--δ-->  (-1)a ∧ dcDC\n",
      "a.aBA.dcDC.abA  |--δ-->  1 ∧ aBAdcDCab\n",
      "a.dcDC.cdCDaBAdcDCabA  |--δ-->  (2)1 ∧ aBAdcDCab\n",
      "aBAdcDCab  |--δ-->  (0)0\n",
      "--- s3 ---\n",
      " a.cdCD  |--δ-->  (0)0\n",
      "a.cdCD.cdCD  |--δ-->  acdCD ∧ cdCD\n",
      "a.cdCD.abA.cdCD.aBA  |--δ-->  (0)0\n",
      "a.cdCD.cdCD.dcDCabAcdCDaBA  |--δ-->  (0)0\n",
      "--- s4 ---\n",
      " a.c.c.c  |--δ-->  acc ∧ c + ac ∧ cc\n",
      "a.cD.cD.cD  |--δ-->  acDcD ∧ cD + acD ∧ cDcD\n",
      "--- s5 ---\n",
      " a.ceCE  |--δ-->  (-1)aceC ∧ E + ace ∧ CE + (-1)ac ∧ C\n",
      "a.cdCD.efEF.ceCE.feFEdcDC  |--δ-->  (-1)acdCDefEFceCfeFEdcDC ∧ E + acdCDefEFcefeFEdcDC ∧ CE + (-1)acdCDefEFcfeFEdcDC ∧ C\n",
      "--- s6 ---\n",
      " a.bcBC  |--δ-->  (-1)abcB ∧ C + abc ∧ BC + (-1)abC ∧ cB\n",
      "a.A.b.a  |--δ-->  (0)0\n",
      "abA.A.a  |--δ-->  1 ∧ b\n",
      "abA.aBA  |--δ-->  (0)0\n",
      "abBd  |--δ-->  (-1)a ∧ d + (-1)ad ∧ 1\n",
      "--- s7 ---\n",
      " a.Bab.a.B  |--δ-->  (0)0\n",
      "a.b.a.B.a.B  |--δ-->  (0)0\n",
      "a.aBA.a.B  |--δ-->  aB ∧ aB\n",
      "aaBB  |--δ-->  (-1)aB ∧ aB\n",
      "a.a.D.D  |--δ-->  aaD ∧ D + aDD ∧ a\n"
     ]
    }
   ],
   "source": [
    "a1, b1 = Word.new(a[1]), Word.new(b[1])\n",
    "c = (a1*Word.new(b[1])*(a1.inverse)).flatten\n",
    "\n",
    "samples = {\n",
    "  s0: [\n",
    "    Word.new,\n",
    "    a1, \n",
    "    a1*Word.new(b[2]),\n",
    "    a1*(Word.new(b[2]).inverse),\n",
    "    a1*c*(c.inverse),\n",
    "  ],\n",
    "  s1: [\n",
    "    a1^4,\n",
    "    c,\n",
    "    comms[1],\n",
    "    Word.new(b[1])*a1*Word.new(b[1])\n",
    "  ],\n",
    "  s2: [\n",
    "    a1*(comms[2].inverse),\n",
    "    a1*(c.inverse)*(comms[2].inverse)*c,\n",
    "    a1*(comms[2].inverse)*Group.commutator(comms[2], c.inverse),\n",
    "    (a1*(comms[2].inverse)*Group.commutator(comms[2], c.inverse)).cyclic_reduce\n",
    "  ],\n",
    "  s3: [\n",
    "    a1*comms[2],\n",
    "    a1*(comms[2]^2),\n",
    "    a1*comms[2]*c*comms[2]*(c.inverse),\n",
    "    a1*(comms[2]^2)*Group.commutator(comms[2].inverse,c)\n",
    "  ],\n",
    "  s4: [\n",
    "    a1*(Word.new(a[2])^3),\n",
    "    a1*(Word.new(a[2], b[2].inverse)^3)\n",
    "  ],\n",
    "  s5: [\n",
    "    a1*Group.commutator(a[2], a[3]),\n",
    "    a1*(comms[2]*comms[3])*Group.commutator(a[2], a[3])*((comms[2]*comms[3]).inverse)\n",
    "  ],\n",
    "  s6: [\n",
    "    a1*Group.commutator(b[1], a[2]),\n",
    "    a1*(a1.inverse)*Word.new(b[1])*a1,\n",
    "    c*(a1.inverse)*a1,\n",
    "    c*(c.inverse),\n",
    "    Word.new(a[1], b[1], b[1].inverse, b[2])\n",
    "  ],\n",
    "  s7: [\n",
    "    a1*(Group.conjugate(a1, b1.inverse))*a1*(b1.inverse),\n",
    "    a1*b1*((a1*(b1.inverse))^2),\n",
    "    a1*Group.conjugate(b1.inverse, a1)*a1*(b1.inverse),\n",
    "    (a1*Group.conjugate(b1.inverse, a1)*a1*(b1.inverse)).contract,\n",
    "    a1*a1*(Word.new(b[2].inverse)^2)\n",
    "    ]\n",
    "  }\n",
    "\n",
    "arr = samples #.slice(:s7) #:s0, :s6) #:s2) #, :s3) #:s0, :s1) #\n",
    "arr.each do |k, v|\n",
    "  printf \"--- #{k} ---\\n \"\n",
    "  v.each do |s|\n",
    "    ws = s.show\n",
    "    cob = cobracket(s, verbose: false).map do |h|\n",
    "      coeff = (h[:coeff]==1) ? '' : \"(#{h[:coeff].to_s})\"\n",
    "      coeff + h[:term]\n",
    "    end\n",
    "    #---\n",
    "    puts \"#{ws}  |--\\u{03B4}-->  #{cob.join(' + ')}\"\n",
    "  end\n",
    "end;nil"
   ]
  },
  {
   "cell_type": "markdown",
   "metadata": {},
   "source": [
    "# Conditions"
   ]
  },
  {
   "cell_type": "markdown",
   "metadata": {},
   "source": [
    "## Involutivity for $[,]$ and $\\delta$"
   ]
  },
  {
   "cell_type": "markdown",
   "metadata": {},
   "source": [
    "$$[,]\\circ \\delta = 0$$"
   ]
  },
  {
   "cell_type": "code",
   "execution_count": 11,
   "metadata": {
    "ExecuteTime": {
     "end_time": "2019-10-24T07:16:16.794961Z",
     "start_time": "2019-10-24T07:16:14.846Z"
    }
   },
   "outputs": [
    {
     "name": "stdout",
     "output_type": "stream",
     "text": [
      "\"a.bcBC\"\n",
      "=====\n",
      "\"divs: [[4, 5]]\"\n",
      "\"coeff: -1\"\n",
      "\"term: abcB ∧ C\"\n",
      "\t--> \"divs: []\"\n",
      "\t--> \"coeff: 0\"\n",
      "\t--> \"term: 1\"\n",
      "---\n",
      "---\n",
      "\"divs: [[3, 5]]\"\n",
      "\"coeff: 1\"\n",
      "\"term: abc ∧ BC\"\n",
      "\t--> \"divs: [[2, 1]]\"\n",
      "\t--> \"coeff: -1\"\n",
      "\t--> \"term: cabCB\"\n",
      "---\n",
      "---\n",
      "\"divs: [[2, 4]]\"\n",
      "\"coeff: -1\"\n",
      "\"term: abC ∧ cB\"\n",
      "\t--> \"divs: [[3, 1]]\"\n",
      "\t--> \"coeff: -1\"\n",
      "\t--> \"term: abCBc\"\n",
      "---\n",
      "---\n"
     ]
    }
   ],
   "source": [
    "myw = samples[:s6][0] #4][-1] #\n",
    "p myw.show\n",
    "printf(\"=====\\n\")\n",
    "\n",
    "vb = false #true #\n",
    "##--------------\n",
    "##  cobracket\n",
    "cobracket(myw, verbose: vb).each do |h|\n",
    "  h.each do |k,v|\n",
    "    unless k == :words\n",
    "      p \"#{k}: #{v}\"\n",
    "    else\n",
    "##--------------\n",
    "##  bracket\n",
    "      bracket(h[k][0], h[k][1], verbose: vb).each do |hh|\n",
    "        hh.each do |kk,vv|\n",
    "          unless kk == :word\n",
    "            printf \"\\t--> \"\n",
    "            p \"#{kk}: #{vv}\"\n",
    "          else\n",
    "            nil\n",
    "          end\n",
    "        end\n",
    "        printf(\"---\\n\")\n",
    "      end\n",
    "##--------------\n",
    "    end\n",
    "  end\n",
    "  printf(\"---\\n\")\n",
    "end; nil"
   ]
  },
  {
   "cell_type": "markdown",
   "metadata": {
    "heading_collapsed": true
   },
   "source": [
    "## Compatibility condition for $[,]$ and $\\delta$"
   ]
  },
  {
   "cell_type": "markdown",
   "metadata": {
    "hidden": true
   },
   "source": [
    "$\\forall v,w \\in \\pi$,\n",
    "$$\n",
    "\\delta([v,w]) = w\\cdot\\delta(v)- v\\cdot\\delta(w),\n",
    "$$\n",
    "where \n",
    "$$\n",
    "w\\cdot(x\\otimes y) = [w,x]\\otimes y + x\\otimes[w,y].\n",
    "$$"
   ]
  },
  {
   "cell_type": "code",
   "execution_count": 12,
   "metadata": {
    "ExecuteTime": {
     "end_time": "2019-10-24T07:16:16.842010Z",
     "start_time": "2019-10-24T07:16:14.852Z"
    },
    "hidden": true
   },
   "outputs": [
    {
     "name": "stdout",
     "output_type": "stream",
     "text": [
      "\"a.bcBC.a.A.b.a\"\n",
      "=====\n",
      "\"divs: [[4, 2]]\"\n",
      "\"coeff: 1\"\n",
      "\"term: Cabca\"\n",
      "\t--> \"divs: [[3, 5]]\"\n",
      "\t--> \"coeff: -1\"\n",
      "\t--> \"term: Cab ∧ ca\"\n",
      "---\n",
      "\t--> \"divs: [[1, 5]]\"\n",
      "\t--> \"coeff: 1\"\n",
      "\t--> \"term: C ∧ abca\"\n",
      "---\n",
      "\t--> \"divs: [[1, 4]]\"\n",
      "\t--> \"coeff: -1\"\n",
      "\t--> \"term: Ca ∧ abc\"\n",
      "---\n",
      "---\n"
     ]
    }
   ],
   "source": [
    "w1 = samples[:s6][0] #Word.new(a[1], a[2])\n",
    "w2 = samples[:s6][1] #Word.new(b[1])\n",
    "p (w1*w2).show\n",
    "printf(\"=====\\n\")\n",
    "\n",
    "vb = false #true #\n",
    "##--------------\n",
    "##  bracket\n",
    "bracket(w1, w2, verbose: vb).each do |h|\n",
    "  h.each do |k,v|\n",
    "    unless k == :word\n",
    "      p \"#{k}: #{v}\"\n",
    "    else\n",
    "##--------------\n",
    "##  cobracket\n",
    "      cobracket(h[k], verbose: vb).each do |hh|\n",
    "        hh.each do |kk,vv|\n",
    "          unless kk == :words\n",
    "            printf \"\\t--> \"\n",
    "            p \"#{kk}: #{vv}\"\n",
    "          else\n",
    "            nil\n",
    "          end\n",
    "        end\n",
    "        printf(\"---\\n\")\n",
    "      end\n",
    "##--------------\n",
    "    end\n",
    "  end\n",
    "  printf(\"---\\n\")\n",
    "end; nil"
   ]
  },
  {
   "cell_type": "markdown",
   "metadata": {
    "heading_collapsed": true
   },
   "source": [
    "# Experiments"
   ]
  },
  {
   "cell_type": "code",
   "execution_count": null,
   "metadata": {
    "hidden": true
   },
   "outputs": [],
   "source": []
  },
  {
   "cell_type": "markdown",
   "metadata": {},
   "source": [
    "# TODO"
   ]
  },
  {
   "cell_type": "markdown",
   "metadata": {},
   "source": [
    "* [ ] cobracket を再帰的に作用させて、完全に分解することに何らかの意味があるか?\n",
    "* [ ] $\\ell_{2}$ の計算と cobracket との関係は? とくに両者にある division について。"
   ]
  }
 ],
 "metadata": {
  "kernelspec": {
   "display_name": "Ruby 2.6.1",
   "language": "ruby",
   "name": "ruby"
  },
  "language_info": {
   "file_extension": ".rb",
   "mimetype": "application/x-ruby",
   "name": "ruby",
   "version": "2.6.1"
  },
  "toc": {
   "base_numbering": 1,
   "nav_menu": {},
   "number_sections": false,
   "sideBar": true,
   "skip_h1_title": true,
   "title_cell": "Table of Contents",
   "title_sidebar": "Contents",
   "toc_cell": false,
   "toc_position": {},
   "toc_section_display": true,
   "toc_window_display": false
  },
  "varInspector": {
   "cols": {
    "lenName": 16,
    "lenType": 16,
    "lenVar": 40
   },
   "kernels_config": {
    "python": {
     "delete_cmd_postfix": "",
     "delete_cmd_prefix": "del ",
     "library": "var_list.py",
     "varRefreshCmd": "print(var_dic_list())"
    },
    "r": {
     "delete_cmd_postfix": ") ",
     "delete_cmd_prefix": "rm(",
     "library": "var_list.r",
     "varRefreshCmd": "cat(var_dic_list()) "
    }
   },
   "types_to_exclude": [
    "module",
    "function",
    "builtin_function_or_method",
    "instance",
    "_Feature"
   ],
   "window_display": false
  }
 },
 "nbformat": 4,
 "nbformat_minor": 2
}
