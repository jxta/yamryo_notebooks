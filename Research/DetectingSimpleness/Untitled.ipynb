{
 "cells": [
  {
   "cell_type": "code",
   "execution_count": 58,
   "metadata": {
    "ExecuteTime": {
     "end_time": "2019-12-11T03:43:36.754170Z",
     "start_time": "2019-12-11T03:43:36.438Z"
    }
   },
   "outputs": [],
   "source": [
    "class Letter\n",
    "  #---\n",
    "  def initialize(char='1')\n",
    "    '''\n",
    "      Argument: [1a-zA-Z]\n",
    "    '''\n",
    "    raise ArgumentError, \"You can use alphabet and '1'\" unless char[0] =~ /[1a-zA-Z]/\n",
    "    @char = char[0].downcase\n",
    "    @sign = (char[0] == @char) ? 1 : -1\n",
    "  end\n",
    "  attr_reader :char\n",
    "  #---\n",
    "  def =~(a_Letter)\n",
    "    raise ArgumentError unless a_Letter.is_a? Letter\n",
    "    @char == a_Letter.char\n",
    "  end\n",
    "  def ==(a_Letter)\n",
    "    raise ArgumentError unless a_Letter.is_a? Letter\n",
    "    (self =~ a_Letter) && (self.inverse? == a_Letter.inverse?)\n",
    "  end\n",
    "  def ===(a_Letter)\n",
    "    raise(ArgumentError) unless a_Letter.is_a? Letter\n",
    "    self.object_id == a_Letter.object_id\n",
    "  end\n",
    "  def <=>(a_Letter)\n",
    "    raise(ArgumentError) unless a_Letter.is_a? Letter\n",
    "    self.show <=> another.show\n",
    "  end\n",
    "  #---\n",
    "  def to_s\n",
    "    (@sign == 1) ? @char : @char.upcase\n",
    "  end\n",
    "  def show() self.to_s end\n",
    "  #---  \n",
    "  def inverse\n",
    "    if @char == '1' then\n",
    "      self.dup\n",
    "    else\n",
    "      self.class.new((@sign == 1) ? @char.upcase : @char)\n",
    "    end\n",
    "  end\n",
    "  def inverse?() (@char == '1') ? nil : (@sign == 1) end\n",
    "  def inverse_of?(a_Letter)\n",
    "    (@char == '1') ? (a_Letter.char == '1') : (self =~ a_Letter) && (self.sign != a_Letter.sign)\n",
    "  end\n",
    "end; nil"
   ]
  },
  {
   "cell_type": "code",
   "execution_count": 59,
   "metadata": {
    "ExecuteTime": {
     "end_time": "2019-12-11T03:43:38.032986Z",
     "start_time": "2019-12-11T03:43:37.717Z"
    }
   },
   "outputs": [
    {
     "name": "stderr",
     "output_type": "stream",
     "text": [
      "<main>:3: warning: already initialized constant Gens\n",
      "<main>:3: warning: previous definition of Gens was here\n"
     ]
    },
    {
     "name": "stdout",
     "output_type": "stream",
     "text": [
      "[\"a\", \"b\", \"c\", \"d\", \"e\", \"f\"]\n",
      "[\"1\", \"a\", \"c\", \"e\"]\n"
     ]
    }
   ],
   "source": [
    "genus = 3\n",
    "alphabet = %w(a b c d e f)\n",
    "\n",
    "Gens = [Letter.new] + alphabet.map{|x| Letter.new(x)}\n",
    "Gens.freeze\n",
    "p Gens[1..-1].map(&:show)\n",
    "\n",
    "a = [Gens[0]] + Gens[1..-1].each_slice(2).map(&:first)\n",
    "b = [Gens[0]] + Gens[1..-1].each_slice(2).map(&:last)\n",
    "p a.map(&:show)\n",
    "nil"
   ]
  },
  {
   "cell_type": "code",
   "execution_count": 89,
   "metadata": {
    "ExecuteTime": {
     "end_time": "2019-12-11T03:59:59.958985Z",
     "start_time": "2019-12-11T03:59:59.629Z"
    }
   },
   "outputs": [],
   "source": [
    "class Word < Array\n",
    "  #---\n",
    "  # Word class which is a (nested) array of Letters.\n",
    "  #---\n",
    "  def initialize(*args)\n",
    "    args.flatten!\n",
    "    args.each do |arg|\n",
    "      self << case arg\n",
    "               when Letter then\n",
    "                 arg\n",
    "               when String then\n",
    "                  arg.each_char.map{|c| Letter.new(c)} unless arg.empty?\n",
    "               else\n",
    "                  raise ArgumentError, arg.class\n",
    "               end\n",
    "    end\n",
    "    self << Letter.new if self.empty?\n",
    "    self.flatten! if self.size == 1 && self[0].is_a?(Array)\n",
    "  end\n",
    "  #---\n",
    "  def letter_at(int) (self.flatten)[int] end\n",
    "  def first_letter() (self.flatten).first end\n",
    "  def last_letter() (self.flatten).last end\n",
    "  #---\n",
    "  def count(a_letter)\n",
    "    a_letter = Letter.new(a_letter) if a_letter.is_a?(String)\n",
    "    return (self.flatten).count(a_letter)\n",
    "  end\n",
    "  #---\n",
    "  def split(num)\n",
    "    raise ArgumentError unless (num.is_a? Integer) && (num > 0)\n",
    "    div = [self[0..num-1], self[num..-1]]\n",
    "    return div.map{|sub| self.class.new(sub)}\n",
    "  end     \n",
    "  #---\n",
    "  def show() show_parens(self).gsub(/[()]+/, '.').gsub(/^[.]|[.]$/, '') end \n",
    "  def show_parens(myarr)\n",
    "    myarr.map{|f| (f.is_a? Array) ? \"(#{self.show_parens(f)})\" : f.show }.join\n",
    "  end\n",
    "  #---\n",
    "  def inverse() self.class.new((self.flatten).reverse.map(&:inverse)) end\n",
    "  #---\n",
    "  def deep_copy\n",
    "    str_arr = self.map{|letter| letter.to_s}\n",
    "    return self.class.new(str_arr)\n",
    "  end\n",
    "  #---\n",
    "  def contract_once\n",
    "    arr = self.dup\n",
    "    if arr.size > 1\n",
    "      left, right = Word.new, arr.flatten\n",
    "      while right.size > 1\n",
    "        left *= right.shift\n",
    "        if left.last.inverse == right.first\n",
    "          left.pop\n",
    "          right.shift\n",
    "        end\n",
    "      end\n",
    "      left *= right\n",
    "    end\n",
    "    return left #self.class.new(arr)\n",
    "  end\n",
    "  def contract\n",
    "    w = self.dup\n",
    "    size_diff = 1\n",
    "    while (size_diff > 0 && w.size > 1)\n",
    "      before = w.size\n",
    "      w = w.contract_once\n",
    "      after = w.size\n",
    "      size_diff = before - after\n",
    "    end\n",
    "    return w\n",
    "  end\n",
    "  #---\n",
    "  def cyclic_permutation(num=1)\n",
    "    (self.flatten).rotate(num)\n",
    "  end\n",
    "  def cyclic_reduce\n",
    "    ww = (self.dup).contract \n",
    "    wcp = self.class.new\n",
    "    while (wcp.size < ww.size)\n",
    "      ww = wcp unless wcp.show == '1'\n",
    "      wcp = ww.cyclic_permutation.contract\n",
    "    end\n",
    "    return ww\n",
    "  end\n",
    "  def is_cyclically_same?(aWord)\n",
    "    words = [self, aWord].map(&:cyclic_reduce)\n",
    "    (0..words[0].size-1).each do |i|\n",
    "        if (words[0].cyclic_permutation(i) == words[1])\n",
    "          return true\n",
    "          break\n",
    "        end\n",
    "    end\n",
    "    return false\n",
    "  end\n",
    "  #---\n",
    "  def *(anElement)\n",
    "    letters = self.map{|v| v}\n",
    "    case anElement\n",
    "    when Letter\n",
    "      letters << anElement\n",
    "    when Word\n",
    "      letters += anElement  #NOTE: As a result, the variable letters is an Array.\n",
    "    else\n",
    "      raise ArgumentError, anElement.class\n",
    "    end\n",
    "    letters.delete(Letter.new)\n",
    "    return (letters.empty?) ? Word.new : self.class.new(letters)\n",
    "  end\n",
    "  def ^(idx)\n",
    "    raise ArgumentError unless (idx.is_a?(Integer) and idx >= 0)    \n",
    "    return idx.times.map{|k| self}.inject{|pd, w| pd*w}\n",
    "  end\n",
    "end; nil"
   ]
  },
  {
   "cell_type": "code",
   "execution_count": 94,
   "metadata": {
    "ExecuteTime": {
     "end_time": "2019-12-11T04:00:23.106583Z",
     "start_time": "2019-12-11T04:00:22.781Z"
    }
   },
   "outputs": [
    {
     "name": "stdout",
     "output_type": "stream",
     "text": [
      "\"abcCabcCabcC\"\n",
      "\"ababab\"\n"
     ]
    }
   ],
   "source": [
    "w = Word.new('abcC')\n",
    "p (w^3).show\n",
    "p (w^3).contract_once.show\n",
    "nil"
   ]
  },
  {
   "cell_type": "code",
   "execution_count": 96,
   "metadata": {
    "ExecuteTime": {
     "end_time": "2019-12-11T04:00:35.499304Z",
     "start_time": "2019-12-11T04:00:35.173Z"
    }
   },
   "outputs": [
    {
     "name": "stdout",
     "output_type": "stream",
     "text": [
      "\"abcC\"\n",
      "\"---\"\n",
      "\"abcC\"\n",
      "\"abcA\"\n",
      "#<Letter:0x00005587c6b3e4a0 @char=\"a\", @sign=1>\n",
      "#<Letter:0x00005587c6bf6a50 @char=\"a\", @sign=-1>\n"
     ]
    }
   ],
   "source": [
    "wd = w.dup\n",
    "p wd.show\n",
    "p \"---\"\n",
    "wd.pop\n",
    "wd << wd[0].inverse\n",
    "p w.show, wd.show, wd[0], wd[0].inverse\n",
    "nil"
   ]
  },
  {
   "cell_type": "code",
   "execution_count": 22,
   "metadata": {
    "ExecuteTime": {
     "end_time": "2019-12-11T03:06:40.973512Z",
     "start_time": "2019-12-11T03:06:40.678Z"
    }
   },
   "outputs": [
    {
     "data": {
      "text/plain": [
       ":to_word"
      ]
     },
     "execution_count": 22,
     "metadata": {},
     "output_type": "execute_result"
    }
   ],
   "source": [
    "module Group extend self\n",
    "  Identity = Word.new('1')\n",
    "  #---\n",
    "  def product(element1,element2)\n",
    "    words = to_word(element1, element2)\n",
    "    return words[0]*words[1]\n",
    "  end\n",
    "  def commutator(element1, element2)\n",
    "    words = to_word(element1, element2)\n",
    "    return words[0]*words[1]*(words[0].inverse)*(words[1].inverse)\n",
    "  end\n",
    "  def conjugate(element1, element2)\n",
    "    words = to_words(element1, element2)\n",
    "    return words[1]*words[0]*(words[1].inverse)\n",
    "  end\n",
    "  private\n",
    "  def to_word(element1, element2)\n",
    "    raise ArgumentError unless [element1, element2].all?{|elm| (elm.is_a? Word) || (elm.is_a? Letter)}\n",
    "    [element1, element2].map{|elm| (elm.is_a? Word) ? elm : Word.new(elm)}\n",
    "  end\n",
    "end"
   ]
  },
  {
   "cell_type": "code",
   "execution_count": null,
   "metadata": {},
   "outputs": [],
   "source": []
  }
 ],
 "metadata": {
  "kernelspec": {
   "display_name": "Ruby 2.6.3",
   "language": "ruby",
   "name": "ruby"
  },
  "language_info": {
   "file_extension": ".rb",
   "mimetype": "application/x-ruby",
   "name": "ruby",
   "version": "2.6.3"
  },
  "toc": {
   "base_numbering": 1,
   "nav_menu": {},
   "number_sections": true,
   "sideBar": true,
   "skip_h1_title": false,
   "title_cell": "Table of Contents",
   "title_sidebar": "Contents",
   "toc_cell": false,
   "toc_position": {},
   "toc_section_display": true,
   "toc_window_display": false
  },
  "varInspector": {
   "cols": {
    "lenName": 16,
    "lenType": 16,
    "lenVar": 40
   },
   "kernels_config": {
    "python": {
     "delete_cmd_postfix": "",
     "delete_cmd_prefix": "del ",
     "library": "var_list.py",
     "varRefreshCmd": "print(var_dic_list())"
    },
    "r": {
     "delete_cmd_postfix": ") ",
     "delete_cmd_prefix": "rm(",
     "library": "var_list.r",
     "varRefreshCmd": "cat(var_dic_list()) "
    }
   },
   "types_to_exclude": [
    "module",
    "function",
    "builtin_function_or_method",
    "instance",
    "_Feature"
   ],
   "window_display": false
  }
 },
 "nbformat": 4,
 "nbformat_minor": 2
}
