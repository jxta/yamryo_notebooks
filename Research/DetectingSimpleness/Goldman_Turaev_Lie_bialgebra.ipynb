{
 "cells": [
  {
   "cell_type": "markdown",
   "metadata": {
    "heading_collapsed": true
   },
   "source": [
    "# The fundarmental group of $\\Sigma_{g,1}$ "
   ]
  },
  {
   "cell_type": "code",
   "execution_count": 1,
   "metadata": {
    "ExecuteTime": {
     "end_time": "2020-01-11T00:49:19.625932Z",
     "start_time": "2020-01-11T00:49:19.612Z"
    },
    "hidden": true
   },
   "outputs": [
    {
     "data": {
      "text/plain": [
       "true"
      ]
     },
     "execution_count": 1,
     "metadata": {},
     "output_type": "execute_result"
    }
   ],
   "source": [
    "require './freegroup.rb'"
   ]
  },
  {
   "cell_type": "markdown",
   "metadata": {
    "heading_collapsed": true,
    "hidden": true
   },
   "source": [
    "## symplectic generators"
   ]
  },
  {
   "cell_type": "code",
   "execution_count": 2,
   "metadata": {
    "ExecuteTime": {
     "end_time": "2020-01-11T00:49:19.635355Z",
     "start_time": "2020-01-11T00:49:19.625Z"
    },
    "hidden": true
   },
   "outputs": [
    {
     "name": "stdout",
     "output_type": "stream",
     "text": [
      "[\"a\", \"b\", \"c\", \"d\", \"e\", \"f\"]\n",
      "[\"1\", \"a\", \"c\", \"e\"]\n"
     ]
    }
   ],
   "source": [
    "genus = 3\n",
    "alphabet = %w(a b c d e f)\n",
    "\n",
    "Gens = [Letter.new] + alphabet.map{|x| Letter.new(x)}\n",
    "Gens.freeze\n",
    "p Gens[1..-1].map(&:show)\n",
    "\n",
    "a = [Gens[0]] + Gens[1..-1].each_slice(2).map(&:first)\n",
    "b = [Gens[0]] + Gens[1..-1].each_slice(2).map(&:last)\n",
    "p a.map(&:show)\n",
    "nil"
   ]
  },
  {
   "cell_type": "code",
   "execution_count": 3,
   "metadata": {
    "ExecuteTime": {
     "end_time": "2020-01-11T00:49:19.645126Z",
     "start_time": "2020-01-11T00:49:19.632Z"
    },
    "hidden": true
   },
   "outputs": [
    {
     "name": "stdout",
     "output_type": "stream",
     "text": [
      "[\"1\", \"abAB\", \"cdCD\", \"efEF\"]\n"
     ]
    },
    {
     "data": {
      "text/plain": [
       "[\"1\", \"abAB\", \"cdCD\", \"efEF\"]"
      ]
     },
     "execution_count": 3,
     "metadata": {},
     "output_type": "execute_result"
    }
   ],
   "source": [
    "comms = []\n",
    "(Gens.size/2 + 1).times do |i|\n",
    "  comms << Group.commutator(a[i], b[i])\n",
    "end\n",
    "p comms.map(&:show)"
   ]
  },
  {
   "cell_type": "code",
   "execution_count": 4,
   "metadata": {
    "ExecuteTime": {
     "end_time": "2020-01-11T00:49:19.653241Z",
     "start_time": "2020-01-11T00:49:19.638Z"
    },
    "hidden": true,
    "scrolled": true
   },
   "outputs": [
    {
     "name": "stderr",
     "output_type": "stream",
     "text": [
      "<main>:2: warning: already initialized constant Rseq\n",
      "<main>:2: warning: already initialized constant Rseq\n",
      "<main>:2: warning: previous definition of Rseq was here\n",
      "<main>:2: warning: already initialized constant Rseq\n",
      "<main>:2: warning: previous definition of Rseq was here\n"
     ]
    },
    {
     "name": "stdout",
     "output_type": "stream",
     "text": [
      "[\"a\", \"B\", \"A\", \"b\", \"c\", \"D\", \"C\", \"d\", \"e\", \"F\", \"E\", \"f\"]\n"
     ]
    }
   ],
   "source": [
    "Rseq = []\n",
    "(Gens.size/2).times do |i|\n",
    "  Rseq += [a[i+1], b[i+1].inverse, a[i+1].inverse, b[i+1]]\n",
    "end\n",
    "Rseq.freeze\n",
    "p Rseq.map(&:show) #.index('A')\n",
    "nil"
   ]
  },
  {
   "cell_type": "markdown",
   "metadata": {
    "heading_collapsed": true,
    "hidden": true
   },
   "source": [
    "## Random Word generator"
   ]
  },
  {
   "cell_type": "code",
   "execution_count": 5,
   "metadata": {
    "ExecuteTime": {
     "end_time": "2020-01-11T00:49:19.659643Z",
     "start_time": "2020-01-11T00:49:19.645Z"
    },
    "hidden": true
   },
   "outputs": [],
   "source": [
    "def word_generator(length: 1, genus: 3)\n",
    "  rstr = ''\n",
    "  length.times{|k| rstr += Rseq[0..(4*genus-1)].sample.to_s}\n",
    "  return Word.new(rstr)\n",
    "end\n",
    "def wordgen(length=5)\n",
    "  word_generator(length: length)\n",
    "end;nil"
   ]
  },
  {
   "cell_type": "markdown",
   "metadata": {},
   "source": [
    "# Goldman bracket & Turaev cobracket"
   ]
  },
  {
   "cell_type": "markdown",
   "metadata": {},
   "source": [
    "## Term class and Expansion class"
   ]
  },
  {
   "cell_type": "code",
   "execution_count": 6,
   "metadata": {
    "ExecuteTime": {
     "end_time": "2020-01-11T00:49:19.666159Z",
     "start_time": "2020-01-11T00:49:19.655Z"
    }
   },
   "outputs": [],
   "source": [
    "class Term < Hash\n",
    "  '''\n",
    "    A class express a term of W or wedge of W and W\n",
    "    A Hash with keys :coeff, :words and :divs\n",
    "  '''\n",
    "  def initialize(coeff: 0, words: [], divs: [])\n",
    "    begin      \n",
    "      self[:coeff] = coeff\n",
    "      self[:words] = words\n",
    "      self[:divs] = divs\n",
    "    rescue => e\n",
    "      p e.backtrace\n",
    "    end\n",
    "  end\n",
    "  \n",
    "  def degree\n",
    "    self[:words].size\n",
    "  end\n",
    "  \n",
    "  def cyclic_reduce\n",
    "    self.dup.tap {|t| t[:words].map!(&:cyclic_reduce)}\n",
    "  end\n",
    "  \n",
    "  def wedge(a_Word)\n",
    "    raise ArgumentError, a_Word.class unless a_Word.is_a?(Word)\n",
    "    self.dup.tap {|t| t[:words] << a_Word}\n",
    "  end\n",
    "  \n",
    "  def show\n",
    "    coeff = (self[:coeff] == 1) ? '' : \"(#{self[:coeff]})\"\n",
    "    body = self[:words].map(&:show).join(\"\\u{2227}\")\n",
    "    coeff + body\n",
    "  end\n",
    "  \n",
    "  def equiv?(a_term)\n",
    "    '''\n",
    "      return 1(match), -1(reversely match) and 0(not match).\n",
    "    '''\n",
    "    (self[:words].size).times do |k|\n",
    "      flags = self[:words].zip(a_term[:words].rotate(k)).map{|pair| pair[0].is_cyclically_same?(pair[1])}\n",
    "      if flags.all?{|tf| tf}\n",
    "        return (-1)**k\n",
    "        break\n",
    "      end\n",
    "    end\n",
    "    return 0\n",
    "  end\n",
    "end; nil"
   ]
  },
  {
   "cell_type": "code",
   "execution_count": 79,
   "metadata": {
    "ExecuteTime": {
     "end_time": "2020-01-11T01:04:33.233417Z",
     "start_time": "2020-01-11T01:04:33.227Z"
    }
   },
   "outputs": [],
   "source": [
    "class Expansion < Array\n",
    "  '''\n",
    "    An Array of Terms\n",
    "  '''\n",
    "  def ==(another)\n",
    "    raise ArgumentError, another.class unless another.is_a?(self.class)\n",
    "    diff = self.concat( another*(-1) ).simplify\n",
    "    words = diff[0][:words]\n",
    "    return (words.empty? || words.include?(Word.new))\n",
    "  end\n",
    "  \n",
    "  def *(int)\n",
    "    raise ArgumentError, int.class unless int.is_a?(Integer)\n",
    "    return self.each_with_object(self.class.new) do |term, expn|\n",
    "      term[:coeff] *= int\n",
    "      expn << term\n",
    "    end\n",
    "  end\n",
    "  \n",
    "  def +(another)\n",
    "    self.concat(another)\n",
    "  end\n",
    "  \n",
    "  def wedge(a_Word)\n",
    "    raise ArgumentError, a_Word.class unless a_Word.is_a?(Word)\n",
    "    self.map!{|term| term.wedge(a_Word)} #.inject(self.class.new){|sum, term| sum << term}\n",
    "  end\n",
    "  \n",
    "  def show(simplify_level=0)\n",
    "    expn = case simplify_level\n",
    "      when 1\n",
    "        self.delete_if{|t| t[:coeff] == 0}\n",
    "      when 2\n",
    "        self.simplify\n",
    "      else \n",
    "        self #self.rotate(0)\n",
    "      end\n",
    "    #---\n",
    "    mstr = expn.map{|term| term.show}.join(' + ')\n",
    "    return (mstr.empty?) ? '0' : mstr\n",
    "  end\n",
    "\n",
    "  def simplify\n",
    "    expn = self.class.new\n",
    "    monomials = self.map{|mono| mono.cyclic_reduce unless mono[:coeff] == 0}.compact\n",
    "    until monomials.size == 0\n",
    "      pop = monomials.pop\n",
    "      pop[:divs] = [pop[:divs]]\n",
    "      #---\n",
    "      monomials.each do |mono|\n",
    "        switch = mono.equiv?(pop)\n",
    "        unless switch == 0\n",
    "          pop[:coeff] += mono[:coeff] * switch\n",
    "          pop[:divs] << mono[:divs]\n",
    "          mono[:coeff] = nil\n",
    "        end\n",
    "      end\n",
    "      expn << pop if pop[:coeff] != 0\n",
    "      monomials.delete_if{|mono| mono[:coeff].nil?}\n",
    "    end\n",
    "    return (expn.empty?) ? (self.class.new << Term.new) : expn\n",
    "  end\n",
    "end; nil"
   ]
  },
  {
   "cell_type": "markdown",
   "metadata": {
    "heading_collapsed": true
   },
   "source": [
    "### scratch"
   ]
  },
  {
   "cell_type": "code",
   "execution_count": 8,
   "metadata": {
    "ExecuteTime": {
     "end_time": "2020-01-11T00:49:19.681785Z",
     "start_time": "2020-01-11T00:49:19.669Z"
    },
    "hidden": true
   },
   "outputs": [
    {
     "name": "stdout",
     "output_type": "stream",
     "text": [
      "Word\n"
     ]
    }
   ],
   "source": [
    "w = Word.new('abcde').cyclic_permutation\n",
    "p w.class\n",
    "nil"
   ]
  },
  {
   "cell_type": "code",
   "execution_count": 9,
   "metadata": {
    "ExecuteTime": {
     "end_time": "2020-01-11T00:49:19.693189Z",
     "start_time": "2020-01-11T00:49:19.675Z"
    },
    "hidden": true
   },
   "outputs": [
    {
     "name": "stdout",
     "output_type": "stream",
     "text": [
      "\"(0), deg: 0\"\n",
      " |-reduce-> (0)\n",
      "\"(-1)bCcEeDBd, deg: 1\"\n",
      " |-reduce-> (-1)bDBd\n",
      "\"eef∧cA, deg: 2\"\n",
      " |-reduce-> eef∧cA\n"
     ]
    }
   ],
   "source": [
    "terms = [\n",
    "  Term.new,\n",
    "  Term.new(words: [wordgen(8)], coeff: -1), \n",
    "  Term.new(words: [wordgen(3), wordgen(2)], coeff: 1)\n",
    "]\n",
    "\n",
    "terms.each do |t|\n",
    "  p \"#{t.show}, deg: #{t.degree}\"\n",
    "  printf ' |-reduce-> ' + t.cyclic_reduce.show + \"\\n\"\n",
    "end; nil"
   ]
  },
  {
   "cell_type": "code",
   "execution_count": 10,
   "metadata": {
    "ExecuteTime": {
     "end_time": "2020-01-11T00:49:19.760868Z",
     "start_time": "2020-01-11T00:49:19.682Z"
    },
    "hidden": true
   },
   "outputs": [],
   "source": [
    "count = 10**1 #**3 #\n",
    "count.times do |k|\n",
    "  expn = 5.times.map do |i|\n",
    "    Term.new(divs: nil, \n",
    "      coeff: ( (-1)**(i.modulo(3)) - (-1)**((i+1).modulo(3)) )/2, \n",
    "      words: [3,3].map{|k| wordgen(k)}\n",
    "      )\n",
    "  end.inject(Expansion.new){|sum, term| sum << term}\n",
    "  if expn.simplify.size < 4\n",
    "    p expn.show(1) + \" = \" + expn.show(2)\n",
    "    break\n",
    "  end\n",
    "end; nil"
   ]
  },
  {
   "cell_type": "code",
   "execution_count": 11,
   "metadata": {
    "ExecuteTime": {
     "end_time": "2020-01-11T00:49:19.767442Z",
     "start_time": "2020-01-11T00:49:19.690Z"
    },
    "hidden": true
   },
   "outputs": [
    {
     "name": "stdout",
     "output_type": "stream",
     "text": [
      "\"(0)C∧aB + eAcCE∧aB + (-1)fceE∧aB + (-1)Edceb∧aB + bEC∧aB\"\n"
     ]
    }
   ],
   "source": [
    "expn = 5.times.map do |i|\n",
    "  Term.new(\n",
    "    coeff: [-1,0,1].sample,\n",
    "    words: [wordgen(rand(1..5))]\n",
    "    )\n",
    "end.inject(Expansion.new){|sum, term| sum << term}\n",
    "expn = expn.wedge(Word.new('aB'))\n",
    "p expn.show\n",
    "nil"
   ]
  },
  {
   "cell_type": "markdown",
   "metadata": {
    "heading_collapsed": true
   },
   "source": [
    "## Partition class"
   ]
  },
  {
   "cell_type": "code",
   "execution_count": 12,
   "metadata": {
    "ExecuteTime": {
     "end_time": "2020-01-11T00:49:19.769945Z",
     "start_time": "2020-01-11T00:49:19.699Z"
    },
    "hidden": true
   },
   "outputs": [],
   "source": [
    "class Partition\n",
    "  def initialize(word: Word.new, index: 0)\n",
    "    @word = word\n",
    "    s = word.flatten.size\n",
    "    @index = index.modulo(s)\n",
    "    @cutends = [\n",
    "      {index: (index - 1).modulo(s), letter: @word[index-1], sign: -1}, \n",
    "      {index: index, letter: @word[index], sign: 1}\n",
    "    ]\n",
    "  end\n",
    "  attr_reader :index, :cutends\n",
    "  \n",
    "  def show()\n",
    "    \"#{@cutends[0][:letter]}|#{@cutends[1][:letter]}\"\n",
    "  end\n",
    "  def term()\n",
    "    \"#{@cutends[1][:letter]} - #{@cutends[0][:letter].inverse}\"\n",
    "  end\n",
    "end; nil"
   ]
  },
  {
   "cell_type": "markdown",
   "metadata": {
    "heading_collapsed": true,
    "hidden": true
   },
   "source": [
    "### scratch"
   ]
  },
  {
   "cell_type": "code",
   "execution_count": 13,
   "metadata": {
    "ExecuteTime": {
     "end_time": "2020-01-11T00:49:19.773279Z",
     "start_time": "2020-01-11T00:49:19.708Z"
    },
    "hidden": true
   },
   "outputs": [
    {
     "data": {
      "text/plain": [
       "4"
      ]
     },
     "execution_count": 13,
     "metadata": {},
     "output_type": "execute_result"
    }
   ],
   "source": [
    "(-1).modulo(5)"
   ]
  },
  {
   "cell_type": "code",
   "execution_count": 14,
   "metadata": {
    "ExecuteTime": {
     "end_time": "2020-01-11T00:49:19.783477Z",
     "start_time": "2020-01-11T00:49:19.716Z"
    },
    "hidden": true
   },
   "outputs": [
    {
     "name": "stdout",
     "output_type": "stream",
     "text": [
      "\"abcde\"\n",
      "e|a , a - E\n",
      "a|b , b - A\n",
      "b|c , c - B\n",
      "c|d , d - C\n",
      "d|e , e - D\n"
     ]
    }
   ],
   "source": [
    "w = Word.new('abcde')\n",
    "p w.show\n",
    "w.size.times do |k|\n",
    "  ptn = Partition.new(word: w, index: k)\n",
    "  printf ptn.show + ' , ' + ptn.term + \"\\n\"\n",
    "end; nil"
   ]
  },
  {
   "cell_type": "markdown",
   "metadata": {
    "heading_collapsed": true
   },
   "source": [
    "## Linking of a pair of Pairtitions"
   ]
  },
  {
   "cell_type": "code",
   "execution_count": 15,
   "metadata": {
    "ExecuteTime": {
     "end_time": "2020-01-11T00:49:19.788105Z",
     "start_time": "2020-01-11T00:49:19.724Z"
    },
    "hidden": true
   },
   "outputs": [],
   "source": [
    "def lk(ptn1, ptn2)\n",
    "  '''\n",
    "    Input: a pair of Partitions\n",
    "    Output: -1 or 0 or 1\n",
    "  '''\n",
    "  [ptn1, ptn2].each{|ptn| raise ArgumentError, ptn.class unless ptn.is_a?(Partition)}\n",
    "  ij_idxs = [0,1].product([0,1])\n",
    "  total = ij_idxs.map{|i,j| epsilon( ptn1.cutends[i], ptn2.cutends[j] ) }.sum\n",
    "  return total/2  #(-1)*(total/2)\n",
    "end\n",
    "\n",
    "#--------------------------------------------\n",
    "def epsilon(h1, h2)\n",
    "  '''\n",
    "    Input: Hashes {index: a pos. Integer, letter: a Letter, sign: 1 or -1}\n",
    "    Output: -1 or 1\n",
    "  '''\n",
    "  output = h1[:sign]*h2[:sign]\n",
    "  letters = [h1, h2].map do |h|\n",
    "    (h[:sign] == 1) ? h[:letter] : h[:letter].inverse\n",
    "  end\n",
    "  output *= unless (letters[0] == letters[1])\n",
    "    (Rseq.index(letters[0]) < Rseq.index(letters[1])) ? 1 : -1\n",
    "  else\n",
    "    (h1[:index] < h2[:index]) ? h2[:sign] : h1[:sign]*(-1)\n",
    "  end\n",
    "  return output\n",
    "end; nil"
   ]
  },
  {
   "cell_type": "markdown",
   "metadata": {
    "heading_collapsed": true
   },
   "source": [
    "## Goldman bracket $\\nabla$"
   ]
  },
  {
   "cell_type": "code",
   "execution_count": 16,
   "metadata": {
    "ExecuteTime": {
     "end_time": "2020-01-11T00:49:19.793009Z",
     "start_time": "2020-01-11T00:49:19.733Z"
    },
    "hidden": true
   },
   "outputs": [],
   "source": [
    "def bracket(w1, w2)\n",
    "  \"\"\"\n",
    "  retern: an Expansion (an Array of Terms {coeff: *, words: *, divs: *})\n",
    "  \"\"\"\n",
    "  expn = Expansion.new\n",
    "  unless (w1.show == '1' || w2.show == '1')\n",
    "    ws = [w1, w2]\n",
    "    (w1.size.times.to_a).product(w2.size.times.to_a).each do |inds|\n",
    "      #--- the pair of partitions ---\n",
    "      ptns = [0,1].map{|k| Partition.new(word: ws[k], index: inds[k])}\n",
    "      #--- put the two words togather ---\n",
    "      cpws = [0,1].map{|k| ws[k].cyclic_permutation(inds[k])}\n",
    "      expn << Term.new(divs: inds, coeff: lk(*ptns), words: [cpws[0]*cpws[1]])\n",
    "    end\n",
    "  end\n",
    "  return expn\n",
    "end\n",
    "#-----\n",
    "def nabla(*args)\n",
    "  '''\n",
    "  For an expansion of degree 2, i.e. a formal sum of wedges.\n",
    "  '''\n",
    "  input = if args[0].is_a?(Expansion)\n",
    "            args[0]\n",
    "#           elsif args.size == 2 && args.all?{|w| w.is_a?(Word)}\n",
    "#             Expansion.new << Term.new(coeff: 1, words: args)\n",
    "          else\n",
    "            msg = \"args.size = #{args.size}, args[0].class = #{args[0].class}\"\n",
    "            raise ArgumentError, msg\n",
    "          end\n",
    "  output = input.map do |term|\n",
    "    raise ArgumentError, term.inspect unless term.degree == 2\n",
    "    2.times.map{|i| bracket(*(term[:words].rotate(i))) * (term[:coeff] * (-1)**i) }\n",
    "  end.flatten.inject(Expansion.new){|sum, t| sum << t}\n",
    "  return output\n",
    "end; nil"
   ]
  },
  {
   "cell_type": "markdown",
   "metadata": {
    "heading_collapsed": true,
    "hidden": true
   },
   "source": [
    "### scratch"
   ]
  },
  {
   "cell_type": "code",
   "execution_count": 17,
   "metadata": {
    "ExecuteTime": {
     "end_time": "2020-01-11T00:49:19.811088Z",
     "start_time": "2020-01-11T00:49:19.740Z"
    },
    "hidden": true,
    "scrolled": true
   },
   "outputs": [
    {
     "name": "stdout",
     "output_type": "stream",
     "text": [
      "Ea, BAE\n",
      "-------\n",
      "coeff: 1, words: EaBAE, divs: [0, 0], \n",
      "---\n",
      "coeff: 0, words: EaAEB, divs: [0, 1], \n",
      "---\n",
      "coeff: 0, words: EaEBA, divs: [0, 2], \n",
      "---\n",
      "coeff: 0, words: aEBAE, divs: [1, 0], \n",
      "---\n",
      "coeff: 0, words: aEAEB, divs: [1, 1], \n",
      "---\n",
      "coeff: 0, words: aEEBA, divs: [1, 2], \n",
      "---\n",
      "EaBAE + (0)EaAEB + (0)EaEBA + (0)aEBAE + (0)aEAEB + (0)aEEBA\n",
      "= EaBAE\n"
     ]
    }
   ],
   "source": [
    "# w1 = Word.new(a[1], a[2], b[1].inverse)\n",
    "# w2 = Word.new(b[2], a[1], a[1].inverse) #, b[2])\n",
    "w1, w2 = wordgen(2), wordgen(3)\n",
    "printf [w1, w2].map(&:show).join(', ')  + \"\\n-------\\n\"\n",
    "\n",
    "bra = bracket(w1, w2)\n",
    "\n",
    "bra.each do |t|\n",
    "  t.each{|k,v| printf \"#{k}: \" + ((k == :words) ? v[0].show : v.to_s) + \", \"}\n",
    "  printf \"\\n---\\n\"\n",
    "end\n",
    "puts bra.show, \"= \" + bra.show(2)\n",
    "nil"
   ]
  },
  {
   "cell_type": "code",
   "execution_count": 18,
   "metadata": {
    "ExecuteTime": {
     "end_time": "2020-01-11T00:49:19.826677Z",
     "start_time": "2020-01-11T00:49:19.745Z"
    },
    "hidden": true
   },
   "outputs": [
    {
     "name": "stdout",
     "output_type": "stream",
     "text": [
      "\"(-1)Edc∧Ea\"\n",
      "\"EdcEa + (-1)EdcaE + (0)dcEEa + (0)dcEaE + (0)cEdEa + (0)cEdaE + (0)EaEdc + (0)EadcE + (0)EacEd + (-1)aEEdc + aEdcE + (0)aEcEd\"\n",
      "\"(2)aEdcE + (-2)aEEdc\"\n",
      "\"(2)aEdcE∧b + (-2)aEEdc∧b\"\n",
      "\"#<ArgumentError: args.size = 1, args[0].class = Term>\"\n"
     ]
    }
   ],
   "source": [
    "t = Term.new(words: [wordgen(3), wordgen(2)], coeff: -1)\n",
    "e = Expansion.new << t\n",
    "p e.show\n",
    "e2 = nabla(e)\n",
    "p e2.show, e2.show(2), e2.wedge(Word.new('b')).show(2)\n",
    "begin\n",
    "  p nabla(t).show\n",
    "rescue => exc\n",
    "  p exc.inspect #class.to_s + ': ' + exc.message\n",
    "end; nil"
   ]
  },
  {
   "cell_type": "markdown",
   "metadata": {},
   "source": [
    "## Turaev cobraket $\\delta$"
   ]
  },
  {
   "cell_type": "code",
   "execution_count": 80,
   "metadata": {
    "ExecuteTime": {
     "end_time": "2020-01-11T01:04:39.162838Z",
     "start_time": "2020-01-11T01:04:39.155Z"
    },
    "code_folding": []
   },
   "outputs": [],
   "source": [
    "def cobracket(myw)\n",
    "  \"\"\"\n",
    "  return: an Expansion (an Array of Terms {coeff: *, words: *, divs: *})\n",
    "  \"\"\"\n",
    "  expn = Expansion.new\n",
    "  unless myw.show == '1'\n",
    "    ptn_num_pairs = (myw.size.times.to_a).combination(2)  #all the pair of partition numbers\n",
    "    ptn_num_pairs.each do |i,j|\n",
    "      #--- the pair of Partitions ---\n",
    "      ptns = [i,j].map{|k| Partition.new(word: myw, index: k)}\n",
    "      #--- divide the word ---\n",
    "      words = myw.cyclic_permutation(i).split(j-i) #.reverse\n",
    "      expn << Term.new(divs: [i,j], coeff: lk(*ptns), words: words)\n",
    "    end\n",
    "  end\n",
    "  #-----\n",
    "  return expn\n",
    "end\n",
    "#-----\n",
    "def delta(*args)\n",
    "  input = case args[0]\n",
    "          when Expansion\n",
    "            args[0]\n",
    "          when Word\n",
    "            Expansion.new << Term.new(coeff: 1, words: [args[0]])\n",
    "          else\n",
    "            msg = \"args.size = #{args.size}, args[0].class = #{args[0].class}\"\n",
    "            raise ArgumentError, msg\n",
    "          end\n",
    "  output = input.map do |term|\n",
    "    raise ArgumentError, term.inspect unless term.degree == 1\n",
    "    cobracket(*term[:words]) * term[:coeff]\n",
    "  end.inject{|sum, expn| sum + expn}\n",
    "  return output\n",
    "end; nil"
   ]
  },
  {
   "cell_type": "markdown",
   "metadata": {},
   "source": [
    "### scratch"
   ]
  },
  {
   "cell_type": "code",
   "execution_count": 111,
   "metadata": {
    "ExecuteTime": {
     "end_time": "2020-01-11T02:01:01.364374Z",
     "start_time": "2020-01-11T02:01:01.340Z"
    },
    "scrolled": false
   },
   "outputs": [
    {
     "name": "stdout",
     "output_type": "stream",
     "text": [
      "aabb\n",
      "-------\n",
      "coeff: 1 / words: a , abb / divs: [0, 1] / \n",
      "---\n",
      "coeff: 0 / words: aa , bb / divs: [0, 2] / \n",
      "---\n",
      "coeff: 0 / words: aab , b / divs: [0, 3] / \n",
      "---\n",
      "coeff: -1 / words: a , bba / divs: [1, 2] / \n",
      "---\n",
      "coeff: -1 / words: ab , ba / divs: [1, 3] / \n",
      "---\n",
      "coeff: 0 / words: b , baa / divs: [2, 3] / \n",
      "---\n",
      "a∧abb + (0)aa∧bb + (0)aab∧b + (-1)a∧bba + (-1)ab∧ba + (0)b∧baa\n",
      "= (-1)ab∧ba\n"
     ]
    }
   ],
   "source": [
    "mw = Word.new('aabb') #wordgen(5) #Word.new(b[1], a[1], b[1]) #a1*Group.commutator(b[1], a[2]) #comms[1] #\n",
    "printf mw.show + \"\\n-------\\n\"\n",
    "\n",
    "cobra = cobracket(mw) #true) #\n",
    "\n",
    "cobra.each do |t|\n",
    "  t.each{|k,v| printf \"#{k}: \" + ((k == :words) ? v.map(&:show).join(' , ') : v.to_s) + ' / ' }\n",
    "  printf \"\\n---\\n\"\n",
    "end\n",
    "\n",
    "puts cobra.show, \"= \" + cobra.show(2)\n",
    "nil"
   ]
  },
  {
   "cell_type": "markdown",
   "metadata": {},
   "source": [
    "# Well-definedness"
   ]
  },
  {
   "cell_type": "code",
   "execution_count": 21,
   "metadata": {
    "ExecuteTime": {
     "end_time": "2020-01-11T00:49:19.869042Z",
     "start_time": "2020-01-11T00:49:19.771Z"
    }
   },
   "outputs": [],
   "source": [
    "def checker(count: 300, length: 8, &block)\n",
    "  count.times do |counter|\n",
    "    words, expn01, expn02 = *(block.call(length))\n",
    "    #---\n",
    "    if expn01 != expn02\n",
    "      printf \"\\n words = #{words.map(&:show).join(' , ')} \\n\"\n",
    "      printf \"#{expn01.show(2)}  -  #{expn02.show(2)} != (0)\"\n",
    "      break\n",
    "    else\n",
    "      printf \"O\" if counter.modulo( (count>100) ? count/100 : 1) == 0\n",
    "    end\n",
    "    printf \"\\nPASS\" if counter == count - 1\n",
    "  end\n",
    "end; nil"
   ]
  },
  {
   "cell_type": "markdown",
   "metadata": {
    "ExecuteTime": {
     "end_time": "2019-12-11T10:19:09.540900Z",
     "start_time": "2019-12-11T10:19:08.974Z"
    }
   },
   "source": [
    "## bracket"
   ]
  },
  {
   "cell_type": "code",
   "execution_count": 22,
   "metadata": {
    "ExecuteTime": {
     "end_time": "2020-01-11T00:49:27.098017Z",
     "start_time": "2020-01-11T00:49:19.781Z"
    }
   },
   "outputs": [
    {
     "name": "stdout",
     "output_type": "stream",
     "text": [
      "OOOOOOOOOOOOOOOOOOOOOOOOOOOOOOOOOOOOOOOOOOOOOOOOOOOOOOOOOOOOOOOOOOOOOOOOOOOOOOOOOOOOOOOOOOOOOOOOOOOO\n",
      "PASS"
     ]
    }
   ],
   "source": [
    "checker(count: 100, length: 8) do |length|\n",
    "  words = Array.new(2){|k| wordgen(rand(1..length))}\n",
    "  expn01 = bracket(*words)\n",
    "  expn02 = bracket(*(words.map(&:contract)))\n",
    "  [words, expn01, expn02]\n",
    "end; nil"
   ]
  },
  {
   "cell_type": "code",
   "execution_count": 23,
   "metadata": {
    "ExecuteTime": {
     "end_time": "2020-01-11T00:49:33.607844Z",
     "start_time": "2020-01-11T00:49:19.790Z"
    }
   },
   "outputs": [
    {
     "name": "stdout",
     "output_type": "stream",
     "text": [
      "OOOOOOOOOOOOOOOOOOOOOOOOOOOOOOOOOOOOOOOOOOOOOOOOOOOOOOOOOOOOOOOOOOOOOOOOOOOOOOOOOOOOOOOOOOOOOOOOOOOO\n",
      "PASS"
     ]
    }
   ],
   "source": [
    "checker(count: 100, length: 6) do |length|\n",
    "  words = Array.new(2){|k| wordgen(rand(1..length))}\n",
    "  expn01 = bracket(*words)\n",
    "  expn02 = bracket(*(words.map{|w| Group.conjugate(w, wordgen(2))}))\n",
    "  [words, expn01, expn02]\n",
    "end; nil"
   ]
  },
  {
   "cell_type": "markdown",
   "metadata": {},
   "source": [
    "## cobracket"
   ]
  },
  {
   "cell_type": "code",
   "execution_count": 24,
   "metadata": {
    "ExecuteTime": {
     "end_time": "2020-01-11T00:49:37.370143Z",
     "start_time": "2020-01-11T00:49:19.803Z"
    }
   },
   "outputs": [
    {
     "name": "stdout",
     "output_type": "stream",
     "text": [
      "OOOOOOOOOOOOOOOOOOOOOOOOOOO\n",
      " words = BBDd \n",
      "(-2)B∧B + (-1)BB∧1  -  (-1)B∧B != (0)"
     ]
    }
   ],
   "source": [
    "checker(count: 2000, length: 6) do |length|\n",
    "  word = wordgen(rand(1..length))\n",
    "  expn01 = cobracket(word)\n",
    "  expn02 = cobracket(word.contract)\n",
    "  [[word], expn01, expn02]\n",
    "end; nil"
   ]
  },
  {
   "cell_type": "code",
   "execution_count": 25,
   "metadata": {
    "ExecuteTime": {
     "end_time": "2020-01-11T00:49:39.418455Z",
     "start_time": "2020-01-11T00:49:19.811Z"
    }
   },
   "outputs": [
    {
     "name": "stdout",
     "output_type": "stream",
     "text": [
      "OOO\n",
      " words = AFAF \n",
      "(2)AF∧AF + AFAF∧1  -  (2)F∧AFA + AF∧AF + (-2)A∧FAF + AFAF∧1 != (0)"
     ]
    }
   ],
   "source": [
    "checker(count: 500, length: 6) do |length|\n",
    "  word = wordgen(rand(1..length))\n",
    "  expn01 = cobracket(word)\n",
    "  expn02 = cobracket(Group.conjugate(word, wordgen(3)))\n",
    "  [[word], expn01, expn02]\n",
    "end; nil"
   ]
  },
  {
   "cell_type": "markdown",
   "metadata": {},
   "source": [
    "# Conditions"
   ]
  },
  {
   "cell_type": "markdown",
   "metadata": {},
   "source": [
    "## Jacobi Identity for $\\nabla$"
   ]
  },
  {
   "cell_type": "markdown",
   "metadata": {},
   "source": [
    "$$\\nabla\\circ(\\nabla\\otimes 1)\\circ N = 0$$"
   ]
  },
  {
   "cell_type": "code",
   "execution_count": 26,
   "metadata": {
    "ExecuteTime": {
     "end_time": "2020-01-11T00:49:39.451301Z",
     "start_time": "2020-01-11T00:49:19.823Z"
    }
   },
   "outputs": [
    {
     "name": "stdout",
     "output_type": "stream",
     "text": [
      "CEEeC ⊗ b ⊗ EB  |---> \n",
      "------\n",
      "\t∇(CEEeC ⊗ b) ⊗ EB =\n",
      "\t\t+ (0) ⊗ EB\n",
      "\t∇(b ⊗ EB) ⊗ CEEeC =\n",
      "\t\t+ (bEB + (-1)bBE) ⊗ CEEeC\n",
      "\t∇(EB ⊗ CEEeC) ⊗ b =\n",
      "\t\t+ (EBEEeCC + EBEeCCE + (-1)BEEEeCC + (-1)BEEeCCE + (-1)BEeCCEE + BECCEEe) ⊗ b\n",
      "---------\n",
      "EBbEeCCE + (-1)BbEEEeCC + (-1)BbEeCCEE + BbECCEEe + bBEEEeCC + (-1)bBECCEEe + BEEeCCEb + (-1)EEeCCEBb + BEeCCEEb + (-1)EeCCEEBb + (-1)BEEEeCCb + EEEeCCBb + (-1)BEEeCCEb + EEeCCEBb + (-1)BEeCCEEb + EeCCEEBb + BECCEEeb + (-1)ECCEEeBb\n"
     ]
    },
    {
     "data": {
      "text/plain": [
       "\"=(0)\""
      ]
     },
     "execution_count": 26,
     "metadata": {},
     "output_type": "execute_result"
    }
   ],
   "source": [
    "max_length = 5\n",
    "\n",
    "three_words = Array.new(3){|k| wordgen(rand(1..max_length))}\n",
    "#--- display ---\n",
    "puts three_words.map(&:show).join(\" \\u{2297} \") + \"  |---> \" + \"\\n------\"\n",
    "#---------------\n",
    "\n",
    "total = 3.times.map do |k|\n",
    "  triple = three_words.rotate(k)\n",
    "  expn = bracket(*triple[0..1])\n",
    "  #--- display ---\n",
    "  puts \"\\t\\u{2207}(#{triple[0..1].map(&:show).join(\" \\u{2297} \")}) \\u{2297} #{triple[2].show} =\"\n",
    "  puts \"\\t\\t+ (#{expn.show(1)}) \\u{2297} #{triple[2].show}\"\n",
    "  #---------------\n",
    "#  nabla( expn.tap{|e| e.each{|t| t[:words] << triple[2] }} )\n",
    "  expn.map{|t| bracket(*(t[:words] << triple[2])) * t[:coeff] }.inject(Expansion.new){|sum, e| sum + e}\n",
    "end.inject(Expansion.new){|sum, e| sum + e}\n",
    "\n",
    "#--- display ---\n",
    "printf \"---------\\n\" + total.show(1) + \"\\n\"\n",
    "#---------------\n",
    "\"=\" + total.show(2)"
   ]
  },
  {
   "cell_type": "code",
   "execution_count": 27,
   "metadata": {
    "ExecuteTime": {
     "end_time": "2020-01-11T00:49:39.695079Z",
     "start_time": "2020-01-11T00:49:19.831Z"
    }
   },
   "outputs": [
    {
     "name": "stdout",
     "output_type": "stream",
     "text": [
      "OOOOO\n",
      "PASS"
     ]
    }
   ],
   "source": [
    "checker(count: 5, length: 6) do |len|\n",
    "  words = Array.new(3).map!{|w| wordgen(rand(1..len))}\n",
    "  total = 3.times.map do |k|\n",
    "    triple = three_words.rotate(k)\n",
    "    bracket(*triple[0..1]).map{|t| bracket(*(t[:words] << triple[2])) * t[:coeff] }\n",
    "#     nabla( bracket(*triple[0..1]).wedge(triple[2]) )\n",
    "  end.flatten.inject(Expansion.new){|sum, e| sum << e}\n",
    "#   p words.map(&:show), total.show(1), total.show(2)\n",
    "  [words, total, Expansion.new]\n",
    "end; nil"
   ]
  },
  {
   "cell_type": "markdown",
   "metadata": {},
   "source": [
    "## Involutivity for $\\nabla$ and $\\delta$"
   ]
  },
  {
   "cell_type": "markdown",
   "metadata": {},
   "source": [
    "$$\\nabla\\circ \\delta = 0$$"
   ]
  },
  {
   "cell_type": "code",
   "execution_count": 28,
   "metadata": {
    "ExecuteTime": {
     "end_time": "2020-01-11T00:49:39.783834Z",
     "start_time": "2020-01-11T00:49:19.841Z"
    }
   },
   "outputs": [
    {
     "name": "stdout",
     "output_type": "stream",
     "text": [
      "EaBebEe |--δ-->  EaBe∧bEe + (-1)aB∧ebEeE + aBe∧bEeE + (-1)aBeb∧EeE + (-1)aBebE∧eE + (-1)e∧bEeEaB + ebE∧eEaB\n",
      "-----\n",
      " |--∇--> EaBebEe + aBeEbEe + (-1)aBeEEeb + (-1)aBeEebE + (-1)eEaBbEe + bEeEaBe + bEeaBeE + (-1)bEeeEaB + (-1)EebaBeE + (-1)ebEaBeE + aBEeEeb + EeEebaB + (-1)aBeEeEb + (-1)EeEbaBe + eEbEeaB + (-1)EbEeaBe + (-1)ebaBEeE + baBeEeE + (-1)EeEebaB + EeEbaBe + (-1)eeEaBbE + eEaBbEe + (-1)eEaBbEe + EaBbEee + (-1)ebEeEaB + ebEaBeE + bEeeEaB + (-1)bEeaBeE + EebaBeE + eEaBbEe + (-1)EaBebEe + aBeEebE + (-1)aBeEbEe + aBeEEeb\n"
     ]
    },
    {
     "data": {
      "text/plain": [
       "\"=(0)\""
      ]
     },
     "execution_count": 28,
     "metadata": {},
     "output_type": "execute_result"
    }
   ],
   "source": [
    "len = 8\n",
    "myw = wordgen(rand(1..len)) #Word.new('ffA') #\n",
    "\n",
    "expn = cobracket(myw)\n",
    "total = nabla( expn )\n",
    "# total = cobracket(myw).map do |t|\n",
    "#   bracket(*t[:words]) * t[:coeff]\n",
    "# end.flatten.inject(Expansion.new){|sum,t| sum << t}\n",
    "\n",
    "#--- display ---\n",
    "puts \"#{myw.show} |--\\u{03B4}-->  \" + expn.show(1)\n",
    "puts \"-----\\n |--\\u{2207}--> \" + total.show(1)\n",
    "#---------------\n",
    "\"=\" + total.show(2)"
   ]
  },
  {
   "cell_type": "code",
   "execution_count": 29,
   "metadata": {
    "ExecuteTime": {
     "end_time": "2020-01-11T00:49:45.609598Z",
     "start_time": "2020-01-11T00:49:19.849Z"
    }
   },
   "outputs": [
    {
     "name": "stdout",
     "output_type": "stream",
     "text": [
      "OOOOOOOOOOOOOOOOOOOOOOOOOOOOOOOOOOOOOOOOOOOOOOOOOOOOOOOOOOOOOOOOOOOOOOOOOOOOOOOOOOOOOOOOOOOOOOOOOOOO\n",
      "PASS"
     ]
    }
   ],
   "source": [
    "checker(count: 100, length: 8) do |len|\n",
    "  myw = wordgen(rand(1..len))\n",
    "  total = nabla(cobracket(myw))\n",
    "  [[myw], total, Expansion.new]\n",
    "end; nil"
   ]
  },
  {
   "cell_type": "markdown",
   "metadata": {},
   "source": [
    "## Compatibility condition for $\\nabla$ and $\\delta$"
   ]
  },
  {
   "cell_type": "markdown",
   "metadata": {},
   "source": [
    "$\\forall v,w \\in \\pi$,\n",
    "$$\n",
    "\\delta([v,w]) = v\\cdot\\delta(w)- w\\cdot\\delta(v),\n",
    "$$\n",
    "where \n",
    "$$\n",
    "u\\cdot(x\\otimes y) := [u,x]\\otimes y + x\\otimes[u,y].\n",
    "$$\n",
    "\n",
    "**Note**: From the last formula, we immediately obtain the following:\n",
    "$$\n",
    "u \\cdot(x\\wedge y) = [u,x]\\wedge y - [u,y]\\wedge x.\n",
    "$$\n",
    "Futhermore, we may define $(x\\wedge y)\\cdot u$ as follows:\n",
    "$$\n",
    "(x\\wedge y)\\cdot u := x\\wedge [u,y] - y \\wedge [u,x],\n",
    "$$\n",
    "and have\n",
    "$$\n",
    "(x\\wedge y)\\cdot u = u \\cdot(x\\wedge y). \n",
    "$$"
   ]
  },
  {
   "cell_type": "code",
   "execution_count": 125,
   "metadata": {
    "ExecuteTime": {
     "end_time": "2020-01-11T02:09:55.901440Z",
     "start_time": "2020-01-11T02:09:48.592Z"
    },
    "scrolled": false
   },
   "outputs": [
    {
     "name": "stdout",
     "output_type": "stream",
     "text": [
      "ebe ⊗ eAdCF \n",
      "=====\n",
      "[ebe, eAdCF] = ebeFeAdC + beeeAdCF + beedCFeA + (-1)eebeAdCF + (-1)eebAdCFe + (-1)eebdCFeA + eebFeAdC\n",
      "---\n",
      "Left-hand Eq.:  A∧dCeebFe + (-1)e∧AdCeebF + (2)b∧FeAdCee + eb∧FeAdCe + (-1)e∧bFeAdCe + e∧AeebdCF + F∧eAeebdC + dCFe∧Aeeb + e∧bdCFeAe + eebdCFe∧A + F∧eeebAdC + (-1)dC∧FeeebA + (-1)ebAdCF∧ee + (2)e∧bAdCFee + (-1)dC∧FeebeA + (-1)A∧dCFeebe + e∧beAdCFe + (-1)e∧AbeedCF + (-1)F∧eAbeedC + dC∧FeAbee + (-1)e∧dCFeAbe + (-1)beedCFe∧A + dC∧FbeeeA + A∧dCFbeee + eAdC∧Fbee + (-1)e∧AdCFbee + A∧dCebeFe + (-1)e∧AdCebeF + (-1)beFe∧AdCe + (-1)ebeFeA∧dC\n",
      "=====\n",
      "Right-hand Eq.:  (-2)FeAdCee∧b + (-1)FeAdCe∧eb + (-1)AdCFeb∧ee + FeAdCeb∧e + dCFeAbe∧e + (-1)dCFeAeb∧e + (-1)AdCFebe∧e + (-2)AdCFeeb∧e + eAdCFbe∧e + eebAFe∧dC + eebeAF∧dC + (-1)beeeAF∧dC + (-1)beeFeA∧dC + (-1)ebeFeA∧dC + (-1)eebFedC∧A + eebdCFe∧A + (-1)beeedCF∧A + (-1)ebeedCF∧A + (-1)ebeFedC∧A + ebedCFe∧A + (-1)beeF∧eAdC + (-1)ebeF∧eAdC + eebFAdC∧e + (-1)eebdCFA∧e + beedCFA∧e + ebeFAdC∧e + (-1)eebA∧dCFe + (-1)eebdCeA∧F + (-1)eebAdCe∧F + beedCeA∧F"
     ]
    },
    {
     "data": {
      "text/plain": [
       "true"
      ]
     },
     "execution_count": 125,
     "metadata": {},
     "output_type": "execute_result"
    }
   ],
   "source": [
    "v, w = wordgen(3), wordgen(5) #samples[:s2][0] #Word.new(a[1], a[2]),samples[:s4][0] #Word.new(b[1])\n",
    "#--- display ---\n",
    "puts \"#{v.show} \\u{2297} #{w.show} \\n=====\"\n",
    "#---------------\n",
    "\n",
    "#--- Left-hand eq. -------------------\n",
    "bra = bracket(v, w)\n",
    "lhe = delta( bra )\n",
    "#--- display ---\n",
    "puts \"[#{v.show}, #{w.show}] = \" + bra.show(1) + \"\\n---\"\n",
    "printf \"Left-hand Eq.:  \" + lhe.show(2) + \"\\n=====\"\n",
    "#---------------\n",
    "\n",
    "#--- Right-hand eq. -------------------\n",
    "double_idx = [0,1].product([0,1])\n",
    "rhe = double_idx.map do |i,j|\n",
    "  pair_i, sign_i = [v,w].rotate(i), (-1)**i\n",
    "  u = pair_i[0]\n",
    "  cobra = cobracket(pair_i[1]) * sign_i #; printf \"#{u}.\\u{03B4}(#{pair_i[1].show}) = #{u}.(#{cobra.show(1)})\\n---\\n\"\n",
    "  #---\n",
    "  cobra.map do |term|\n",
    "    pair_j, sign_j = term[:words].rotate(j), (-1)**j\n",
    "    #---\n",
    "    x, y = *pair_j\n",
    "    bra = bracket(u, x) * (term[:coeff] * sign_j) #; printf \"\\t[#{u}, #{x}] \\u{2297} #{y} \\n\" + \"\\t=(#{bra.show(1)}) \\u{2297} #{y}\"\n",
    "    bra.wedge(y)\n",
    "  end.inject{|total, expn| total + expn }\n",
    "#   printf \"\\n---\\n\"\n",
    "end.inject{|total, expn| total + expn }\n",
    "#-----\n",
    "printf \"\\nRight-hand Eq.:  \"+ rhe.show(2)\n",
    "\n",
    "#-----------------------\n",
    "lhe == rhe"
   ]
  },
  {
   "cell_type": "markdown",
   "metadata": {},
   "source": [
    "An example whose results of the both side of the compatibility condition are very long."
   ]
  },
  {
   "cell_type": "code",
   "execution_count": 31,
   "metadata": {
    "ExecuteTime": {
     "end_time": "2020-01-11T00:49:51.198499Z",
     "start_time": "2020-01-11T00:49:19.867Z"
    }
   },
   "outputs": [],
   "source": [
    "v,w = Word.new('fbC'), Word.new('CfDBe')\n",
    "nil"
   ]
  },
  {
   "cell_type": "markdown",
   "metadata": {},
   "source": [
    "# Experiments"
   ]
  },
  {
   "cell_type": "markdown",
   "metadata": {
    "heading_collapsed": true
   },
   "source": [
    "## $\\delta(xy)$"
   ]
  },
  {
   "cell_type": "code",
   "execution_count": 32,
   "metadata": {
    "ExecuteTime": {
     "end_time": "2020-01-11T00:49:51.208494Z",
     "start_time": "2020-01-11T00:49:19.874Z"
    },
    "hidden": true
   },
   "outputs": [
    {
     "name": "stdout",
     "output_type": "stream",
     "text": [
      "x , y = eBF , B\n",
      "------\n",
      "\n",
      "δ(eBF) = (-1)e∧BF + eB∧F , δ(B) = 0\n",
      "----\n",
      "δ(x*y) = eB∧FB + BF∧Be + BFe∧B + (-1)F∧eBB + (-1)e∧BBF + F∧eBB + (-1)FeB∧B + e∧BBF\n",
      "---\n",
      "∇(x,y) = (-1)BFeB + FeBB\n",
      "δ(∇(x,y)) = BFe∧B + (-1)F∧eBB + (-1)e∧BBF + F∧eBB + (-1)FeB∧B + e∧BBF\n"
     ]
    }
   ],
   "source": [
    "level = 1\n",
    "ws = [3,1].map{|k| wordgen(k) }\n",
    "\n",
    "expn01 = cobracket(ws[0]*ws[1])\n",
    "expn02 = bracket(*ws)\n",
    "expn03 = delta(expn02)\n",
    "expn04 = expn01.concat(expn03*(-1))\n",
    "\n",
    "puts \"x , y = \" + ws.map(&:show).join(' , ') + \"\\n------\\n\"\n",
    "puts ws.map{|w| \"\\u{03b4}(#{w.show}) = \" + cobracket(w).show(level) }.join(' , ') + \"\\n----\"\n",
    "\n",
    "puts \"\\u{03b4}(x*y) = \" + expn01.show(level) + \"\\n---\"\n",
    "puts \"\\u{2207}(x,y) = \" + expn02.show(level)\n",
    "puts \"\\u{03b4}(\\u{2207}(x,y)) = \" + expn03.show(level)\n",
    "# puts \"\\u{03b4}(x*y)-\\u{03b4}(\\u{2207}(x,y)) = \" + expn04.show(level)\n",
    "nil"
   ]
  },
  {
   "cell_type": "markdown",
   "metadata": {
    "heading_collapsed": true
   },
   "source": [
    "## Cobracket calclation samples"
   ]
  },
  {
   "cell_type": "code",
   "execution_count": 33,
   "metadata": {
    "ExecuteTime": {
     "end_time": "2020-01-11T00:49:53.603657Z",
     "start_time": "2020-01-11T00:49:19.882Z"
    },
    "hidden": true,
    "scrolled": false
   },
   "outputs": [
    {
     "name": "stdout",
     "output_type": "stream",
     "text": [
      "--- s0 ---\n",
      " 1  |--δ-->  (0)\n",
      "a  |--δ-->  (0)\n",
      "ad  |--δ-->  (-1)a∧d\n",
      "aD  |--δ-->  (0)\n",
      "aabAaBA  |--δ-->  (-1)a∧1\n",
      "--- s1 ---\n",
      " aa  |--δ-->  a∧a\n",
      "aaa  |--δ-->  (0)\n",
      "aaaa  |--δ-->  aa∧aa\n",
      "abA  |--δ-->  (-1)b∧1\n",
      "abAB  |--δ-->  (0)\n",
      "bab  |--δ-->  (0)\n",
      "--- s2 ---\n",
      " adcDC  |--δ-->  (-1)a∧dcDC\n",
      "aaBAdcDCabA  |--δ-->  (-1)aBAdcDCab∧1\n",
      "adcDCcdCDaBAdcDCabA  |--δ-->  (-2)aBAdcDCab∧1\n",
      "aBAdcDCab  |--δ-->  (0)\n",
      "--- s3 ---\n",
      " acdCD  |--δ-->  (0)\n",
      "acdCDcdCD  |--δ-->  acdCD∧cdCD\n",
      "acdCDabAcdCDaBA  |--δ-->  (0)\n",
      "acdCDcdCDdcDCabAcdCDaBA  |--δ-->  (0)\n",
      "--- s4 ---\n",
      " accc  |--δ-->  acc∧c + ac∧cc\n",
      "acDcDcD  |--δ-->  acDcD∧cD + acD∧cDcD\n",
      "--- s5 ---\n",
      " aceCE  |--δ-->  (-1)aceC∧E + ace∧CE + (-1)ac∧C\n",
      "acdCDefEFceCEfeFEdcDC  |--δ-->  E∧feFEdcDCacdCDefEFceC + (-1)CE∧feFEdcDCacdCDefEFce + C∧feFEdcDCacdCDefEFc\n",
      "--- s6 ---\n",
      " abcBC  |--δ-->  cB∧Cab + (-1)abcB∧C + abc∧BC\n",
      "aAba  |--δ-->  (0)\n",
      "abAAa  |--δ-->  (-1)b∧1\n",
      "abAaBA  |--δ-->  (0)\n",
      "abBd  |--δ-->  1∧da + (-1)a∧d\n",
      "--- s7 ---\n",
      " aBabaB  |--δ-->  (0)\n",
      "abaBaB  |--δ-->  (0)\n",
      "aaBAaB  |--δ-->  aB∧aB\n",
      "aaBB  |--δ-->  aB∧Ba\n",
      "aaDD  |--δ-->  (-1)a∧DDa + aaD∧D\n"
     ]
    }
   ],
   "source": [
    "a1, b1 = Word.new(a[1]), Word.new(b[1])\n",
    "c = Group.conjugate(b1, a1)\n",
    "\n",
    "samples = {\n",
    "  s0: [\n",
    "    Word.new,\n",
    "    a1, \n",
    "    a1*Word.new(b[2]),\n",
    "    a1*(Word.new(b[2]).inverse),\n",
    "    a1*c*(c.inverse),\n",
    "  ],\n",
    "  s1: [\n",
    "    a1^2,\n",
    "    a1^3,\n",
    "    a1^4,\n",
    "    c,\n",
    "    comms[1],\n",
    "    Word.new(b[1])*a1*Word.new(b[1])\n",
    "  ],\n",
    "  s2: [\n",
    "    a1*(comms[2].inverse),\n",
    "    a1*(c.inverse)*(comms[2].inverse)*c,\n",
    "    a1*(comms[2].inverse)*Group.commutator(comms[2], c.inverse),\n",
    "    (a1*(comms[2].inverse)*Group.commutator(comms[2], c.inverse)).cyclic_reduce\n",
    "  ],\n",
    "  s3: [\n",
    "    a1*comms[2],\n",
    "    a1*(comms[2]^2),\n",
    "    a1*comms[2]*c*comms[2]*(c.inverse),\n",
    "    a1*(comms[2]^2)*Group.commutator(comms[2].inverse,c)\n",
    "  ],\n",
    "  s4: [\n",
    "    a1*(Word.new(a[2])^3),\n",
    "    a1*(Word.new(a[2], b[2].inverse)^3)\n",
    "  ],\n",
    "  s5: [\n",
    "    a1*Group.commutator(a[2], a[3]),\n",
    "    a1*(comms[2]*comms[3])*Group.commutator(a[2], a[3])*((comms[2]*comms[3]).inverse)\n",
    "  ],\n",
    "  s6: [\n",
    "    a1*Group.commutator(b[1], a[2]),\n",
    "    a1*(a1.inverse)*Word.new(b[1])*a1,\n",
    "    c*(a1.inverse)*a1,\n",
    "    c*(c.inverse),\n",
    "    Word.new(a[1], b[1], b[1].inverse, b[2])\n",
    "  ],\n",
    "  s7: [\n",
    "    a1*(Group.conjugate(a1, b1.inverse))*a1*(b1.inverse),\n",
    "    a1*b1*((a1*(b1.inverse))^2),\n",
    "    a1*Group.conjugate(b1.inverse, a1)*a1*(b1.inverse),\n",
    "    (a1*Group.conjugate(b1.inverse, a1)*a1*(b1.inverse)).contract,\n",
    "    a1*a1*(Word.new(b[2].inverse)^2)\n",
    "    ]\n",
    "  }\n",
    "\n",
    "arr = samples #.slice(:s7) #:s0, :s6) #:s2) #, :s3) #:s0, :s1) #\n",
    "arr.each do |k, v|\n",
    "  printf \"--- #{k} ---\\n \"\n",
    "  v.each{|s| puts s.show + \"  |--\\u{03B4}-->  \" + cobracket(s).show(2) }\n",
    "end;nil"
   ]
  },
  {
   "cell_type": "markdown",
   "metadata": {},
   "source": [
    "## The cobracket completely detects simpleness"
   ]
  },
  {
   "cell_type": "code",
   "execution_count": 114,
   "metadata": {
    "ExecuteTime": {
     "end_time": "2020-01-11T02:03:19.713689Z",
     "start_time": "2020-01-11T02:03:19.458Z"
    }
   },
   "outputs": [
    {
     "name": "stdout",
     "output_type": "stream",
     "text": [
      "aabb |--> (-1)ab∧ba\n",
      "aabbaabbaabb |--> (-3)ab∧baabbaabba + (3)ba∧abbaabbaab + (-3)abbaab∧baabba\n"
     ]
    }
   ],
   "source": [
    "word = Word.new('aabb') #wordgen(rand(1..4)) #Word.new('cEEb') #\n",
    "puts \"#{word.show} |--> #{cobracket(word).show(2)}\"\n",
    "\n",
    "power = word^3\n",
    "puts \"#{power.show} |--> #{cobracket(power).show(2)}\"\n",
    "nil"
   ]
  },
  {
   "cell_type": "markdown",
   "metadata": {
    "heading_collapsed": true
   },
   "source": [
    "## Degree-3 simpleness of $a_{1}[a_{2}, a_{3}]$"
   ]
  },
  {
   "cell_type": "code",
   "execution_count": 34,
   "metadata": {
    "ExecuteTime": {
     "end_time": "2020-01-11T00:37:53.123403Z",
     "start_time": "2020-01-11T00:29:59.416Z"
    },
    "hidden": true
   },
   "outputs": [
    {
     "name": "stdout",
     "output_type": "stream",
     "text": [
      "acdCDcdCD |-δ-> acdCD∧cdCD\n",
      "OOOOOOOOOOOOOOOOOOOOOOOOOOOOOOOOOOOOOOOOO"
     ]
    },
    {
     "ename": "Interrupt",
     "evalue": "",
     "output_type": "error",
     "traceback": [
      "\u001b[31mInterrupt\u001b[0m: ",
      "\u001b[37m/Users/ryosuke/workspace/Projects/notebooks/Research/DetectingSimpleness/freegroup.rb:12:in `initialize'\u001b[0m",
      "\u001b[37m/Users/ryosuke/workspace/Projects/notebooks/Research/DetectingSimpleness/freegroup.rb:161:in `new'\u001b[0m",
      "\u001b[37m/Users/ryosuke/workspace/Projects/notebooks/Research/DetectingSimpleness/freegroup.rb:161:in `*'\u001b[0m",
      "\u001b[37m/Users/ryosuke/workspace/Projects/notebooks/Research/DetectingSimpleness/freegroup.rb:112:in `contract_once'\u001b[0m",
      "\u001b[37m/Users/ryosuke/workspace/Projects/notebooks/Research/DetectingSimpleness/freegroup.rb:121:in `contract'\u001b[0m",
      "\u001b[37m/Users/ryosuke/workspace/Projects/notebooks/Research/DetectingSimpleness/freegroup.rb:132:in `cyclic_reduce'\u001b[0m",
      "\u001b[37m/Users/ryosuke/workspace/Projects/notebooks/Research/DetectingSimpleness/freegroup.rb:141:in `map'\u001b[0m",
      "\u001b[37m/Users/ryosuke/workspace/Projects/notebooks/Research/DetectingSimpleness/freegroup.rb:141:in `is_cyclically_same?'\u001b[0m",
      "\u001b[37m<main>:39:in `block (2 levels) in equiv?'\u001b[0m",
      "\u001b[37m<main>:39:in `map'\u001b[0m",
      "\u001b[37m<main>:39:in `block in equiv?'\u001b[0m",
      "\u001b[37m<main>:38:in `times'\u001b[0m",
      "\u001b[37m<main>:38:in `equiv?'\u001b[0m",
      "\u001b[37m<main>:50:in `block in simplify'\u001b[0m",
      "\u001b[37m<main>:49:in `each'\u001b[0m",
      "\u001b[37m<main>:49:in `simplify'\u001b[0m",
      "\u001b[37m<main>:33:in `show'\u001b[0m",
      "\u001b[37m<main>:9:in `block in <main>'\u001b[0m",
      "\u001b[37m<main>:4:in `times'\u001b[0m",
      "\u001b[37m<main>:4:in `<main>'\u001b[0m",
      "\u001b[37m/Users/ryosuke/.rbenv/versions/2.6.1/lib/ruby/gems/2.6.0/gems/iruby-0.3/lib/iruby/backend.rb:44:in `eval'\u001b[0m",
      "\u001b[37m/Users/ryosuke/.rbenv/versions/2.6.1/lib/ruby/gems/2.6.0/gems/iruby-0.3/lib/iruby/backend.rb:44:in `eval'\u001b[0m",
      "\u001b[37m/Users/ryosuke/.rbenv/versions/2.6.1/lib/ruby/gems/2.6.0/gems/iruby-0.3/lib/iruby/backend.rb:12:in `eval'\u001b[0m",
      "\u001b[37m/Users/ryosuke/.rbenv/versions/2.6.1/lib/ruby/gems/2.6.0/gems/iruby-0.3/lib/iruby/kernel.rb:87:in `execute_request'\u001b[0m",
      "\u001b[37m/Users/ryosuke/.rbenv/versions/2.6.1/lib/ruby/gems/2.6.0/gems/iruby-0.3/lib/iruby/kernel.rb:47:in `dispatch'\u001b[0m",
      "\u001b[37m/Users/ryosuke/.rbenv/versions/2.6.1/lib/ruby/gems/2.6.0/gems/iruby-0.3/lib/iruby/kernel.rb:37:in `run'\u001b[0m",
      "\u001b[37m/Users/ryosuke/.rbenv/versions/2.6.1/lib/ruby/gems/2.6.0/gems/iruby-0.3/lib/iruby/command.rb:70:in `run_kernel'\u001b[0m",
      "\u001b[37m/Users/ryosuke/.rbenv/versions/2.6.1/lib/ruby/gems/2.6.0/gems/iruby-0.3/lib/iruby/command.rb:34:in `run'\u001b[0m",
      "\u001b[37m/Users/ryosuke/.rbenv/versions/2.6.1/lib/ruby/gems/2.6.0/gems/iruby-0.3/bin/iruby:5:in `<top (required)>'\u001b[0m",
      "\u001b[37m/Users/ryosuke/.rbenv/versions/2.6.1/bin/iruby:23:in `load'\u001b[0m",
      "\u001b[37m/Users/ryosuke/.rbenv/versions/2.6.1/bin/iruby:23:in `<main>'\u001b[0m"
     ]
    }
   ],
   "source": [
    "x = a1*(Group.commutator(a[2], b[2])^2)\n",
    "printf x.show + \" |-\\u{03b4}-> \" + delta(x).show(2) + \"\\n\"\n",
    "\n",
    "count = 100\n",
    "count.times do |counter|\n",
    "  three_words = 3.times.map{|k| word_generator(length: rand(1..1), genus: 3)}\n",
    "  gamma = three_words.inject{|memo, w| Group.commutator(memo, w)}\n",
    "  cobra = cobracket(x*gamma)\n",
    "  #--- Progress bar & result ---\n",
    "  if cobra.show(2) == '(0)'\n",
    "    puts \"\\n\"\n",
    "    p gamma.show, gamma.contract.show \n",
    "    break\n",
    "  else\n",
    "    printf \"O\" #if counter.modulo(count/10) == 0\n",
    "  end\n",
    "  #-----------------------------\n",
    "end; nil"
   ]
  },
  {
   "cell_type": "code",
   "execution_count": 35,
   "metadata": {
    "ExecuteTime": {
     "end_time": "2020-01-11T00:37:53.254510Z",
     "start_time": "2020-01-11T00:29:59.422Z"
    },
    "hidden": true
   },
   "outputs": [
    {
     "name": "stdout",
     "output_type": "stream",
     "text": [
      "\"aaBAbaBabAA\"\n"
     ]
    },
    {
     "data": {
      "text/plain": [
       "\"(0)\""
      ]
     },
     "execution_count": 35,
     "metadata": {},
     "output_type": "execute_result"
    }
   ],
   "source": [
    "w = a1*Group.commutator(Group.commutator(a1, b1.inverse), a1)\n",
    "p w.show\n",
    "\n",
    "cobracket(w).show(2)"
   ]
  },
  {
   "cell_type": "markdown",
   "metadata": {},
   "source": [
    "# TODO"
   ]
  },
  {
   "cell_type": "markdown",
   "metadata": {},
   "source": [
    "* [ ] Expansion#wedge が #tensor と混同されている状況を解消する。<-- 解消してることを確認。\n",
    "* [ ] wedge の一方に 1 があるものの扱いをはっきりさせる。<-- ゼロと認識させる。\n",
    "* [ ] $x\\wedge x$ をゼロと認識させる。\n",
    "---\n",
    "* [ ] cobracket を再帰的に作用させて、完全に分解することに何らかの意味があるか?\n",
    "* [ ] $\\ell_{2}$ の計算と cobracket との関係は? とくに両者にある partition について。\n",
    "---\n",
    "* [x] Expansion#show のオプションに \"係数 0 の項だけ消去\" を加えたい。\n",
    "* [x] Compatibility が全然ダメ。\n",
    "* [x] aaa などの Word について、動作が少し変。\n",
    "* [x] Extension class のメソッドとして、係数 0 を消去したり、共通項で整理したりできるようにしたい。"
   ]
  }
 ],
 "metadata": {
  "kernelspec": {
   "display_name": "Ruby 2.6.1",
   "language": "ruby",
   "name": "ruby"
  },
  "language_info": {
   "file_extension": ".rb",
   "mimetype": "application/x-ruby",
   "name": "ruby",
   "version": "2.6.1"
  },
  "toc": {
   "base_numbering": 1,
   "nav_menu": {},
   "number_sections": true,
   "sideBar": true,
   "skip_h1_title": false,
   "title_cell": "Table of Contents",
   "title_sidebar": "Contents",
   "toc_cell": false,
   "toc_position": {
    "height": "47.2585px",
    "left": "892.994px",
    "top": "140.997px",
    "width": "211.989px"
   },
   "toc_section_display": true,
   "toc_window_display": true
  },
  "varInspector": {
   "cols": {
    "lenName": 16,
    "lenType": 16,
    "lenVar": 40
   },
   "kernels_config": {
    "python": {
     "delete_cmd_postfix": "",
     "delete_cmd_prefix": "del ",
     "library": "var_list.py",
     "varRefreshCmd": "print(var_dic_list())"
    },
    "r": {
     "delete_cmd_postfix": ") ",
     "delete_cmd_prefix": "rm(",
     "library": "var_list.r",
     "varRefreshCmd": "cat(var_dic_list()) "
    }
   },
   "types_to_exclude": [
    "module",
    "function",
    "builtin_function_or_method",
    "instance",
    "_Feature"
   ],
   "window_display": false
  }
 },
 "nbformat": 4,
 "nbformat_minor": 2
}
