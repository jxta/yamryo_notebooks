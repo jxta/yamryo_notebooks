{
 "cells": [
  {
   "cell_type": "markdown",
   "metadata": {
    "heading_collapsed": true
   },
   "source": [
    "# The fundarmental group of $\\Sigma_{g,1}$ "
   ]
  },
  {
   "cell_type": "code",
   "execution_count": null,
   "metadata": {
    "ExecuteTime": {
     "end_time": "2019-12-12T09:39:05.930179Z",
     "start_time": "2019-12-12T09:39:05.364Z"
    },
    "hidden": true
   },
   "outputs": [],
   "source": [
    "require './freegroup.rb'"
   ]
  },
  {
   "cell_type": "markdown",
   "metadata": {
    "heading_collapsed": true,
    "hidden": true
   },
   "source": [
    "## symplectic generators"
   ]
  },
  {
   "cell_type": "code",
   "execution_count": null,
   "metadata": {
    "ExecuteTime": {
     "end_time": "2019-12-12T09:39:05.940592Z",
     "start_time": "2019-12-12T09:39:05.373Z"
    },
    "hidden": true
   },
   "outputs": [],
   "source": [
    "genus = 3\n",
    "alphabet = %w(a b c d e f)\n",
    "\n",
    "Gens = [Letter.new] + alphabet.map{|x| Letter.new(x)}\n",
    "Gens.freeze\n",
    "p Gens[1..-1].map(&:show)\n",
    "\n",
    "a = [Gens[0]] + Gens[1..-1].each_slice(2).map(&:first)\n",
    "b = [Gens[0]] + Gens[1..-1].each_slice(2).map(&:last)\n",
    "p a.map(&:show)\n",
    "nil"
   ]
  },
  {
   "cell_type": "code",
   "execution_count": null,
   "metadata": {
    "ExecuteTime": {
     "end_time": "2019-12-12T09:39:05.950596Z",
     "start_time": "2019-12-12T09:39:05.377Z"
    },
    "hidden": true
   },
   "outputs": [],
   "source": [
    "comms = []\n",
    "(Gens.size/2 + 1).times do |i|\n",
    "  comms << Group.commutator(a[i], b[i])\n",
    "end\n",
    "p comms.map(&:show)"
   ]
  },
  {
   "cell_type": "code",
   "execution_count": null,
   "metadata": {
    "ExecuteTime": {
     "end_time": "2019-12-12T09:39:05.951949Z",
     "start_time": "2019-12-12T09:39:05.381Z"
    },
    "hidden": true,
    "scrolled": true
   },
   "outputs": [],
   "source": [
    "Rseq = []\n",
    "(Gens.size/2).times do |i|\n",
    "  Rseq += [a[i+1], b[i+1].inverse, a[i+1].inverse, b[i+1]]\n",
    "end\n",
    "Rseq.freeze\n",
    "p Rseq.map(&:show) #.index('A')\n",
    "nil"
   ]
  },
  {
   "cell_type": "markdown",
   "metadata": {
    "heading_collapsed": true,
    "hidden": true
   },
   "source": [
    "## Random Word generator"
   ]
  },
  {
   "cell_type": "code",
   "execution_count": 1,
   "metadata": {
    "ExecuteTime": {
     "end_time": "2019-12-12T10:45:32.149802Z",
     "start_time": "2019-12-12T10:45:31.965Z"
    },
    "hidden": true
   },
   "outputs": [],
   "source": [
    "def word_generator(length: 1, genus: 3)\n",
    "  rstr = ''\n",
    "  length.times{|k| rstr += Rseq[0..(4*genus-1)].sample.to_s}\n",
    "  return Word.new(rstr)\n",
    "end\n",
    "def wordgen(length=5)\n",
    "  word_generator(length: length)\n",
    "end;nil"
   ]
  },
  {
   "cell_type": "markdown",
   "metadata": {
    "heading_collapsed": true
   },
   "source": [
    "# Goldman bracket & Turaev cobracket"
   ]
  },
  {
   "cell_type": "markdown",
   "metadata": {
    "heading_collapsed": true,
    "hidden": true
   },
   "source": [
    "## Term class and Expansion class"
   ]
  },
  {
   "cell_type": "code",
   "execution_count": null,
   "metadata": {
    "ExecuteTime": {
     "end_time": "2019-12-12T09:39:05.963813Z",
     "start_time": "2019-12-12T09:39:05.392Z"
    },
    "hidden": true
   },
   "outputs": [],
   "source": [
    "class Term < Hash\n",
    "  '''\n",
    "    A Hash with keys :coeff, :words and :divs\n",
    "  '''\n",
    "  def initialize(coeff: 0, words: [], divs: [])\n",
    "    begin      \n",
    "      self[:coeff] = coeff\n",
    "      self[:words] = words\n",
    "    rescue => e\n",
    "      p e.backtrace\n",
    "    end\n",
    "  end\n",
    "  \n",
    "  def cyclic_reduce\n",
    "    trm = self.class.new(coeff: self[:coeff], divs: self[:divs])\n",
    "    trm[:words] = self[:words].map(&:cyclic_reduce)\n",
    "    return trm\n",
    "  end\n",
    "  \n",
    "  def show\n",
    "    coeff = (self[:coeff] == 1) ? '' : \"(#{self[:coeff]})\"\n",
    "    body = self[:words].map(&:show).join(\"\\u{2227}\")\n",
    "    coeff + body\n",
    "  end\n",
    "  \n",
    "  def equiv?(a_term)\n",
    "    '''\n",
    "      return 1(match), -1(reversely match) and 0(not match).\n",
    "    '''\n",
    "    (self[:words].size).times do |k|\n",
    "      flags = self[:words].zip(a_term[:words].rotate(k)).map{|pair| pair[0].is_cyclically_same?(pair[1])}\n",
    "      if flags.all?{|tf| tf}\n",
    "        return (-1)**k\n",
    "        break\n",
    "      end\n",
    "    end\n",
    "    return 0\n",
    "  end\n",
    "end\n",
    "\n",
    "#-----------------------------------\n",
    "class Expansion < Array\n",
    "  '''\n",
    "    An Array of Terms\n",
    "  '''\n",
    "  def ==(another)\n",
    "    raise ArgumentError, another.class unless another.is_a?(self.class)\n",
    "    diff = self.concat( another*(-1) ).simplify\n",
    "    words = diff[0][:words]\n",
    "    return (words.empty? || words.include?(Word.new))\n",
    "  end\n",
    "  \n",
    "  def *(int)\n",
    "    raise ArgumentError, int.class unless int.is_a?(Integer)\n",
    "    return self.each_with_object(self.class.new) do |term, expn|\n",
    "      term[:coeff] *= int\n",
    "      expn << term\n",
    "    end\n",
    "  end\n",
    "  \n",
    "  def wedge(a_Word)\n",
    "    raise ArgumentError, a_Word.class unless a_Word.is_a?(Word)\n",
    "    self.each_with_object(self.class.new) do |term, expn|\n",
    "      term[:words] << a_Word\n",
    "      expn << term\n",
    "    end\n",
    "  end\n",
    "  \n",
    "  def show(simplify_level=0)\n",
    "    expn = case simplify_level\n",
    "      when 1\n",
    "        self.delete_if{|t| t[:coeff] == 0}\n",
    "      when 2\n",
    "        self.simplify\n",
    "      else \n",
    "        self.rotate(0)\n",
    "      end\n",
    "    #---\n",
    "    mstr = expn.map{|term| term.show}.join(' + ')\n",
    "    return (mstr.empty?) ? '0' : mstr\n",
    "  end\n",
    "\n",
    "  def simplify\n",
    "    expn = self.class.new\n",
    "    monomials = self.map{|mono| mono.cyclic_reduce unless mono[:coeff] == 0}.compact\n",
    "    until monomials.size == 0\n",
    "      pop = monomials.pop\n",
    "      pop[:divs] = [pop[:divs]]\n",
    "      #---\n",
    "      monomials.each do |mono|\n",
    "        switch = mono.equiv?(pop)\n",
    "        unless switch == 0\n",
    "          pop[:coeff] += mono[:coeff] * switch\n",
    "          pop[:divs] << mono[:divs]\n",
    "          mono[:coeff] = nil\n",
    "        end\n",
    "      end\n",
    "      expn << pop if pop[:coeff] != 0\n",
    "      monomials.delete_if{|mono| mono[:coeff].nil?}\n",
    "    end\n",
    "    return (expn.empty?) ? (self.class.new << Term.new) : expn\n",
    "  end\n",
    "end; nil"
   ]
  },
  {
   "cell_type": "markdown",
   "metadata": {
    "heading_collapsed": true,
    "hidden": true
   },
   "source": [
    "### scratch"
   ]
  },
  {
   "cell_type": "code",
   "execution_count": null,
   "metadata": {
    "ExecuteTime": {
     "end_time": "2019-12-12T09:39:05.967128Z",
     "start_time": "2019-12-12T09:39:05.397Z"
    },
    "hidden": true
   },
   "outputs": [],
   "source": [
    "w = Word.new('abcde').cyclic_permutation\n",
    "p w.class\n",
    "nil"
   ]
  },
  {
   "cell_type": "code",
   "execution_count": null,
   "metadata": {
    "ExecuteTime": {
     "end_time": "2019-12-12T09:39:05.975365Z",
     "start_time": "2019-12-12T09:39:05.403Z"
    },
    "hidden": true
   },
   "outputs": [],
   "source": [
    "terms = [\n",
    "  Term.new,\n",
    "  Term.new(words: [wordgen(8)], coeff: -1), \n",
    "  Term.new(words: [wordgen(3), wordgen(2)], coeff: 1)\n",
    "]\n",
    "\n",
    "terms.each{|t| printf t.show + ' |-reduce-> ' + t.cyclic_reduce.show + \"\\n\" }\n",
    "nil"
   ]
  },
  {
   "cell_type": "code",
   "execution_count": null,
   "metadata": {
    "ExecuteTime": {
     "end_time": "2019-12-12T09:39:06.013802Z",
     "start_time": "2019-12-12T09:39:05.408Z"
    },
    "hidden": true
   },
   "outputs": [],
   "source": [
    "count = 10\n",
    "count.times do |k|\n",
    "  expn = Expansion.new() \n",
    "  5.times do |i|\n",
    "    cf = ( (-1)**(i.modulo(3)) - (-1)**((i+1).modulo(3)) )/2\n",
    "    ws = [3,3].map{|k| word_generator(k)}\n",
    "    expn << Term.new(divs: '', coeff: cf, words: ws)\n",
    "  end\n",
    "  if expn.simplify.size < 4\n",
    "    break\n",
    "  end\n",
    "end; nil"
   ]
  },
  {
   "cell_type": "markdown",
   "metadata": {
    "heading_collapsed": true,
    "hidden": true
   },
   "source": [
    "## Partition class"
   ]
  },
  {
   "cell_type": "code",
   "execution_count": null,
   "metadata": {
    "ExecuteTime": {
     "end_time": "2019-12-12T09:39:06.015287Z",
     "start_time": "2019-12-12T09:39:05.412Z"
    },
    "hidden": true
   },
   "outputs": [],
   "source": [
    "class Partition\n",
    "  def initialize(word: Word.new, index: 0)\n",
    "    @word = word\n",
    "    s = word.flatten.size\n",
    "    @index = index.modulo(s)\n",
    "    @cutends = [\n",
    "      {index: (index - 1).modulo(s), letter: @word[index-1], sign: -1}, \n",
    "      {index: index, letter: @word[index], sign: 1}\n",
    "    ]\n",
    "  end\n",
    "  attr_reader :index, :cutends\n",
    "  \n",
    "  def show()\n",
    "    \"#{@cutends[0][:letter]}|#{@cutends[1][:letter]}\"\n",
    "  end\n",
    "  def term()\n",
    "    \"#{@cutends[1][:letter]} - #{@cutends[0][:letter].inverse}\"\n",
    "  end\n",
    "end; nil"
   ]
  },
  {
   "cell_type": "markdown",
   "metadata": {
    "heading_collapsed": true,
    "hidden": true
   },
   "source": [
    "### scratch"
   ]
  },
  {
   "cell_type": "code",
   "execution_count": null,
   "metadata": {
    "ExecuteTime": {
     "end_time": "2019-12-12T09:39:06.016365Z",
     "start_time": "2019-12-12T09:39:05.417Z"
    },
    "hidden": true
   },
   "outputs": [],
   "source": [
    "(-1).modulo(5)"
   ]
  },
  {
   "cell_type": "code",
   "execution_count": null,
   "metadata": {
    "ExecuteTime": {
     "end_time": "2019-12-12T09:39:06.016707Z",
     "start_time": "2019-12-12T09:39:05.420Z"
    },
    "hidden": true
   },
   "outputs": [],
   "source": [
    "w = Word.new('abcde')\n",
    "p w.show\n",
    "w.size.times do |k|\n",
    "  ptn = Partition.new(word: w, index: k)\n",
    "  printf ptn.show + ' , ' + ptn.term + \"\\n\"\n",
    "end; nil"
   ]
  },
  {
   "cell_type": "markdown",
   "metadata": {
    "heading_collapsed": true,
    "hidden": true
   },
   "source": [
    "## Linking of a pair of Pairtitions"
   ]
  },
  {
   "cell_type": "code",
   "execution_count": null,
   "metadata": {
    "ExecuteTime": {
     "end_time": "2019-12-12T09:39:06.033556Z",
     "start_time": "2019-12-12T09:39:05.424Z"
    },
    "hidden": true
   },
   "outputs": [],
   "source": [
    "def lk(ptn1, ptn2)\n",
    "  '''\n",
    "    Input: a pair of Partitions\n",
    "    Output: -1 or 0 or 1\n",
    "  '''\n",
    "  [ptn1, ptn2].each{|ptn| raise ArgumentError, ptn.class unless ptn.is_a?(Partition)}\n",
    "#   hashes = [ptn1, ptn2].map do |ptn|\n",
    "#     w = ptn[:word].flatten\n",
    "#     k = ptn[:div]\n",
    "#     s = w.size\n",
    "#     [\n",
    "#       {index: ( k%s ) + 1, letter: w[ k%s ], sign: 1}, \n",
    "#       {index: k, letter: w[k-1].inverse, sign: -1}\n",
    "#     ]\n",
    "#   end\n",
    "  ij_idxs = [0,1].product([0,1])\n",
    "#  total = ij_idxs.map{|i,j| epsilon(hashes[0][i], hashes[1][j])}.sum\n",
    "  total = ij_idxs.map{|i,j| epsilon( ptn1.cutends[i], ptn2.cutends[j] ) }.sum\n",
    "  return (-1)*(total/2)\n",
    "end\n",
    "\n",
    "#--------------------------------------------\n",
    "def epsilon(h1, h2)\n",
    "  '''\n",
    "    Input: Hashes {index: a pos. Integer, letter: a Letter, sign: 1 or -1}\n",
    "    Output: -1 or 1\n",
    "  '''\n",
    "  output = h1[:sign]*h2[:sign]\n",
    "  letters = [h1, h2].map do |h|\n",
    "    (h[:sign] == 1) ? h[:letter] : h[:letter].inverse\n",
    "  end\n",
    "  output *= unless (letters[0] == letters[1])\n",
    "    (Rseq.index(letters[0]) < Rseq.index(letters[1])) ? 1 : -1\n",
    "  else\n",
    "    (h1[:index] < h2[:index]) ? h2[:sign] : h1[:sign]*(-1)\n",
    "  end\n",
    "  return output\n",
    "end; nil"
   ]
  },
  {
   "cell_type": "markdown",
   "metadata": {
    "heading_collapsed": true,
    "hidden": true
   },
   "source": [
    "## Goldman bracket $\\nabla$"
   ]
  },
  {
   "cell_type": "code",
   "execution_count": null,
   "metadata": {
    "ExecuteTime": {
     "end_time": "2019-12-12T09:39:06.034798Z",
     "start_time": "2019-12-12T09:39:05.428Z"
    },
    "hidden": true
   },
   "outputs": [],
   "source": [
    "def bracket(w1, w2)\n",
    "  \"\"\"\n",
    "  retern: an Expansion (an Array of Terms {coeff: *, words: *, divs: *})\n",
    "  \"\"\"\n",
    "  expn = Expansion.new\n",
    "  unless (w1.show == '1' || w2.show == '1')\n",
    "    ws = [w1, w2]\n",
    "    (w1.size.times.to_a).product(w2.size.times.to_a).each do |inds|\n",
    "      #--- the pair of partitions ---\n",
    "      ptns = [0,1].map{|k| Partition.new(word: ws[k], index: inds[k])}\n",
    "      #--- put the two words togather ---\n",
    "      cpws = [0,1].map{|k| ws[k].cyclic_permutation(inds[k])}\n",
    "      expn << Term.new(divs: inds, coeff: lk(*ptns), words: [cpws[0]*cpws[1]])\n",
    "    end\n",
    "  end\n",
    "  return expn\n",
    "end\n",
    "#-----\n",
    "def nabla(*args)\n",
    "  input = if args[0].is_a?(Expansion)\n",
    "            args[0]\n",
    "          elsif args.size == 2 && args.all?{|w| w.is_a?(Word)}\n",
    "            Expansion.new << Term.new(coeff: 1, words: args)\n",
    "          else\n",
    "            msg = \"args.size = #{args.size}, args[0].class = #{args[0].class}\"\n",
    "            raise ArgumentError, msg\n",
    "          end\n",
    "  output = input.each_with_object(Expansion.new) do |term, expn|\n",
    "    raise ArgumentError, term.inspect unless term[:words].size == 2\n",
    "    expn.concat( bracket(*term[:words]) * term[:coeff] )\n",
    "  end\n",
    "  return output\n",
    "end; nil"
   ]
  },
  {
   "cell_type": "markdown",
   "metadata": {
    "heading_collapsed": true,
    "hidden": true
   },
   "source": [
    "### scratch"
   ]
  },
  {
   "cell_type": "code",
   "execution_count": null,
   "metadata": {
    "ExecuteTime": {
     "end_time": "2019-12-12T09:39:06.037338Z",
     "start_time": "2019-12-12T09:39:05.431Z"
    },
    "hidden": true,
    "scrolled": true
   },
   "outputs": [],
   "source": [
    "# w1 = Word.new(a[1], a[2], b[1].inverse)\n",
    "# w2 = Word.new(b[2], a[1], a[1].inverse) #, b[2])\n",
    "w1, w2 = wordgen(2), wordgen(3)\n",
    "printf [w1, w2].map(&:show).join(', ')  + \"\\n-------\\n\"\n",
    "\n",
    "bra = bracket(w1, w2)\n",
    "\n",
    "bra.each do |t|\n",
    "  t.each{|k,v| printf \"#{k}: \" + ((k == :words) ? v[0].show : v.to_s) + \", \"}\n",
    "  printf \"\\n---\\n\"\n",
    "end\n",
    "puts bra.show, \"= \" + bra.show(2)\n",
    "nil"
   ]
  },
  {
   "cell_type": "markdown",
   "metadata": {
    "heading_collapsed": true,
    "hidden": true
   },
   "source": [
    "## Turaev cobraket $\\delta$"
   ]
  },
  {
   "cell_type": "code",
   "execution_count": null,
   "metadata": {
    "ExecuteTime": {
     "end_time": "2019-12-12T09:39:06.037739Z",
     "start_time": "2019-12-12T09:39:05.435Z"
    },
    "code_folding": [],
    "hidden": true
   },
   "outputs": [],
   "source": [
    "def cobracket(myw)\n",
    "  \"\"\"\n",
    "  return: an Expansion (an Array of Terms {coeff: *, words: *, divs: *})\n",
    "  \"\"\"\n",
    "  expn = Expansion.new\n",
    "  unless myw.show == '1' \n",
    "    ptn_num_pairs = (myw.size.times.to_a).combination(2)  #all the pair of partition numbers\n",
    "    ptn_num_pairs.each do |i,j|\n",
    "      #--- the pair of Partitions ---\n",
    "      ptns = [i,j].map{|k| Partition.new(word: myw, index: k)} \n",
    "      #--- divide the word --- \n",
    "      words = myw.cyclic_permutation(i).split(j-i).reverse\n",
    "      expn << Term.new(divs: [i,j], coeff: lk(*ptns), words: words)\n",
    "    end\n",
    "  end\n",
    "  #-----\n",
    "  return expn\n",
    "end\n",
    "#-----\n",
    "def delta(*args)\n",
    "  input = case args[0]\n",
    "          when Expansion\n",
    "            args[0]\n",
    "          when Word\n",
    "            Expansion.new << Term.new(coeff: 1, words: [args[0]])\n",
    "          else\n",
    "            msg = \"args.size = #{args.size}, args[0].class = #{args[0].class}\"\n",
    "            raise ArgumentError, msg\n",
    "          end\n",
    "  output = input.each_with_object(Expansion.new) do |term, expn|\n",
    "    raise ArgumentError, term.inspect unless term[:words].size == 1\n",
    "    expn.concat( cobracket(*term[:words]) * term[:coeff] )\n",
    "  end\n",
    "  return output\n",
    "end; nil"
   ]
  },
  {
   "cell_type": "markdown",
   "metadata": {
    "heading_collapsed": true,
    "hidden": true
   },
   "source": [
    "### scratch"
   ]
  },
  {
   "cell_type": "code",
   "execution_count": null,
   "metadata": {
    "ExecuteTime": {
     "end_time": "2019-12-12T09:39:06.038149Z",
     "start_time": "2019-12-12T09:39:05.439Z"
    },
    "hidden": true,
    "scrolled": true
   },
   "outputs": [],
   "source": [
    "#mw = Word.new(b[1], a[1], b[1]) #a1*Group.commutator(b[1], a[2]) #comms[1] #\n",
    "mw = wordgen(5)\n",
    "printf mw.show + \"\\n-------\\n\"\n",
    "\n",
    "cobra = cobracket(mw) #true) #\n",
    "\n",
    "# cobra.each do |t|\n",
    "#   t.each do |k,v| \n",
    "#     p \"#{k}: \" + ((k == :words) ? v[0].show : v.to_s)\n",
    "#   end\n",
    "#   printf \"---\\n\"\n",
    "# end\n",
    "\n",
    "puts cobra.show, \"= \" + cobra.show(2)\n",
    "nil"
   ]
  },
  {
   "cell_type": "markdown",
   "metadata": {
    "heading_collapsed": true
   },
   "source": [
    "# Conditions"
   ]
  },
  {
   "cell_type": "markdown",
   "metadata": {
    "heading_collapsed": true,
    "hidden": true
   },
   "source": [
    "## Jacobi Identity for $\\nabla$"
   ]
  },
  {
   "cell_type": "markdown",
   "metadata": {
    "hidden": true
   },
   "source": [
    "$$\\nabla\\circ(\\nabla\\otimes 1)\\circ N = 0$$"
   ]
  },
  {
   "cell_type": "code",
   "execution_count": null,
   "metadata": {
    "ExecuteTime": {
     "end_time": "2019-12-12T09:39:06.038521Z",
     "start_time": "2019-12-12T09:39:05.443Z"
    },
    "hidden": true
   },
   "outputs": [],
   "source": [
    "three_words = Array.new(3)\n",
    "max_length = 3\n",
    "\n",
    "three_words.map!{|w| word_generator(rand(1..max_length))}\n",
    "#--- display ---\n",
    "puts three_words.map(&:show).join(\" \\u{2297} \") + \"  |---> \" + \"\\n------\"\n",
    "#---------------\n",
    "\n",
    "total = Expansion.new\n",
    "3.times do |k|\n",
    "  triple = three_words.rotate(k)\n",
    "  bra = bracket(*triple[0..1])\n",
    "  #--- display ---\n",
    "  puts \"\\t\\u{2207}(#{triple[0..1].map(&:show).join(\" \\u{2297} \")}) \\u{2297} #{triple[2].show} =\"\n",
    "  puts \"\\t\\t+ (#{bra.show(1)}) \\u{2297} #{triple[2].show}\"\n",
    "  #---------------\n",
    "  brabra = nabla( bra.wedge(triple[2]) )\n",
    "  total.concat( brabra )\n",
    "end\n",
    "\n",
    "#--- display ---\n",
    "printf \"---------\\n\" + total.show(1) + \"\\n\"\n",
    "#---------------\n",
    "\"=\" + total.show(2)"
   ]
  },
  {
   "cell_type": "markdown",
   "metadata": {
    "heading_collapsed": true,
    "hidden": true
   },
   "source": [
    "## Involutivity for $\\nabla$ and $\\delta$"
   ]
  },
  {
   "cell_type": "markdown",
   "metadata": {
    "hidden": true
   },
   "source": [
    "$$\\nabla\\circ \\delta = 0$$"
   ]
  },
  {
   "cell_type": "code",
   "execution_count": null,
   "metadata": {
    "ExecuteTime": {
     "end_time": "2019-12-12T09:39:06.092287Z",
     "start_time": "2019-12-12T09:39:05.447Z"
    },
    "hidden": true
   },
   "outputs": [],
   "source": [
    "length = 8\n",
    "myw = word_generator(length) #Word.new('ffA') #\n",
    "\n",
    "cobra = delta(myw)\n",
    "total = nabla( cobra )\n",
    "\n",
    "#--- display ---\n",
    "puts \"#{myw.show} |--\\u{03B4}-->  \" + cobra.show(1)\n",
    "puts \"-----\\n |--\\u{2207}--> \" + total.show(1)\n",
    "#---------------\n",
    "\"=\" + total.show(2)"
   ]
  },
  {
   "cell_type": "markdown",
   "metadata": {
    "heading_collapsed": true,
    "hidden": true
   },
   "source": [
    "## Compatibility condition for $\\nabla$ and $\\delta$"
   ]
  },
  {
   "cell_type": "markdown",
   "metadata": {
    "hidden": true
   },
   "source": [
    "$\\forall v,w \\in \\pi$,\n",
    "$$\n",
    "\\delta([v,w]) = v\\cdot\\delta(w)- w\\cdot\\delta(v),\n",
    "$$\n",
    "where \n",
    "$$\n",
    "u\\cdot(x\\otimes y) := [u,x]\\otimes y + x\\otimes[u,y].\n",
    "$$\n",
    "\n",
    "**Note**: From the last formula, we immediately obtain the following:\n",
    "$$\n",
    "u \\cdot(x\\wedge y) = [u,x]\\wedge y - [u,y]\\wedge x.\n",
    "$$\n",
    "Futhermore, we may define $(x\\wedge y)\\cdot u$ as follows:\n",
    "$$\n",
    "(x\\wedge y)\\cdot u := x\\wedge [u,y] - y \\wedge [u,x],\n",
    "$$\n",
    "and have\n",
    "$$\n",
    "(x\\wedge y)\\cdot u = u \\cdot(x\\wedge y). \n",
    "$$"
   ]
  },
  {
   "cell_type": "code",
   "execution_count": null,
   "metadata": {
    "ExecuteTime": {
     "end_time": "2019-12-12T09:39:06.093330Z",
     "start_time": "2019-12-12T09:39:05.451Z"
    },
    "hidden": true,
    "scrolled": false
   },
   "outputs": [],
   "source": [
    "v, w = word_generator(3), word_generator(5) #samples[:s2][0] #Word.new(a[1], a[2]),samples[:s4][0] #Word.new(b[1])\n",
    "#--- display ---\n",
    "puts \"#{v.show} \\u{2297} #{w.show} \\n=====\"\n",
    "#---------------\n",
    "\n",
    "#--- Left-hand eq. -------------------\n",
    "bra = bracket(v, w)\n",
    "lhe = delta( bra )\n",
    "#--- display ---\n",
    "puts \"[#{v.show}, #{w.show}] = \" + bra.show(1) + \"\\n---\"\n",
    "printf \"Left-hand Eq.:  \" + lhe.show(2) + \"\\n=====\"\n",
    "#---------------\n",
    "\n",
    "#--- Right-hand eq. -------------------\n",
    "rhe = Expansion.new\n",
    "double_idx = [0,1].product([0,1])\n",
    "rhe = double_idx.map do |i,j|\n",
    "  pair01, sign01 = [v,w].rotate(i), (-1)**i\n",
    "  #---\n",
    "  u = pair01[0]\n",
    "  cobra = cobracket(pair01[1]) * sign01 #; printf \"#{u}.\\u{03B4}(#{pair01[1].show}) = #{u}.(#{cobra.show(1)})\\n---\\n\"\n",
    "  cobra.map do |term|\n",
    "    pair02, sign02 = term[:words].rotate(j), (-1)**j\n",
    "    #---\n",
    "    x, y = pair02[0], pair02[1]\n",
    "    bra = (bracket(u, x) * (term[:coeff] * sign02))#; printf \"\\t[#{u}, #{x}] \\u{2297} #{y} \\n\" + \"\\t=(#{bra.show(1)}) \\u{2297} #{y}\"\n",
    "    bra.wedge(y)\n",
    "  end.inject{|}\n",
    "#   printf \"\\n---\\n\"\n",
    "end\n",
    "#-----\n",
    "printf \"\\nRight-hand Eq.:  \"+ rhe.show(2)\n",
    "\n",
    "#-----------------------\n",
    "lhe == rhe"
   ]
  },
  {
   "cell_type": "markdown",
   "metadata": {
    "hidden": true
   },
   "source": [
    "An example whose results of the both side of the compatibility condition are very long."
   ]
  },
  {
   "cell_type": "code",
   "execution_count": null,
   "metadata": {
    "ExecuteTime": {
     "end_time": "2019-12-12T09:39:06.094365Z",
     "start_time": "2019-12-12T09:39:05.454Z"
    },
    "hidden": true
   },
   "outputs": [],
   "source": [
    "v,w = Word.new('fbC'), Word.new('CfDBe')\n",
    "nil"
   ]
  },
  {
   "cell_type": "markdown",
   "metadata": {
    "heading_collapsed": true
   },
   "source": [
    "# Experiments"
   ]
  },
  {
   "cell_type": "markdown",
   "metadata": {
    "heading_collapsed": true,
    "hidden": true
   },
   "source": [
    "## Cobracket calclation samples"
   ]
  },
  {
   "cell_type": "code",
   "execution_count": null,
   "metadata": {
    "ExecuteTime": {
     "end_time": "2019-12-12T10:20:31.461729Z",
     "start_time": "2019-12-12T10:20:29.868Z"
    },
    "hidden": true,
    "scrolled": false
   },
   "outputs": [],
   "source": [
    "a1, b1 = Word.new(a[1]), Word.new(b[1])\n",
    "c = Group.conjugate(b1, a1)\n",
    "\n",
    "samples = {\n",
    "  s0: [\n",
    "    Word.new,\n",
    "    a1, \n",
    "    a1*Word.new(b[2]),\n",
    "    a1*(Word.new(b[2]).inverse),\n",
    "    a1*c*(c.inverse),\n",
    "  ],\n",
    "  s1: [\n",
    "    a1^2,\n",
    "    a1^3,\n",
    "    a1^4,\n",
    "    c,\n",
    "    comms[1],\n",
    "    Word.new(b[1])*a1*Word.new(b[1])\n",
    "  ],\n",
    "  s2: [\n",
    "    a1*(comms[2].inverse),\n",
    "    a1*(c.inverse)*(comms[2].inverse)*c,\n",
    "    a1*(comms[2].inverse)*Group.commutator(comms[2], c.inverse),\n",
    "    (a1*(comms[2].inverse)*Group.commutator(comms[2], c.inverse)).cyclic_reduce\n",
    "  ],\n",
    "  s3: [\n",
    "    a1*comms[2],\n",
    "    a1*(comms[2]^2),\n",
    "    a1*comms[2]*c*comms[2]*(c.inverse),\n",
    "    a1*(comms[2]^2)*Group.commutator(comms[2].inverse,c)\n",
    "  ],\n",
    "  s4: [\n",
    "    a1*(Word.new(a[2])^3),\n",
    "    a1*(Word.new(a[2], b[2].inverse)^3)\n",
    "  ],\n",
    "  s5: [\n",
    "    a1*Group.commutator(a[2], a[3]),\n",
    "    a1*(comms[2]*comms[3])*Group.commutator(a[2], a[3])*((comms[2]*comms[3]).inverse)\n",
    "  ],\n",
    "  s6: [\n",
    "    a1*Group.commutator(b[1], a[2]),\n",
    "    a1*(a1.inverse)*Word.new(b[1])*a1,\n",
    "    c*(a1.inverse)*a1,\n",
    "    c*(c.inverse),\n",
    "    Word.new(a[1], b[1], b[1].inverse, b[2])\n",
    "  ],\n",
    "  s7: [\n",
    "    a1*(Group.conjugate(a1, b1.inverse))*a1*(b1.inverse),\n",
    "    a1*b1*((a1*(b1.inverse))^2),\n",
    "    a1*Group.conjugate(b1.inverse, a1)*a1*(b1.inverse),\n",
    "    (a1*Group.conjugate(b1.inverse, a1)*a1*(b1.inverse)).contract,\n",
    "    a1*a1*(Word.new(b[2].inverse)^2)\n",
    "    ]\n",
    "  }\n",
    "\n",
    "arr = samples #.slice(:s7) #:s0, :s6) #:s2) #, :s3) #:s0, :s1) #\n",
    "arr.each do |k, v|\n",
    "  printf \"--- #{k} ---\\n \"\n",
    "  v.each{|s| puts s.show + \"  |--\\u{03B4}-->  \" + cobracket(s).show(2) }\n",
    "end;nil"
   ]
  },
  {
   "cell_type": "markdown",
   "metadata": {
    "heading_collapsed": true,
    "hidden": true
   },
   "source": [
    "## Well-definedness verifications"
   ]
  },
  {
   "cell_type": "markdown",
   "metadata": {
    "ExecuteTime": {
     "end_time": "2019-12-11T10:19:09.540900Z",
     "start_time": "2019-12-11T10:19:08.974Z"
    },
    "heading_collapsed": true,
    "hidden": true
   },
   "source": [
    "### bracket"
   ]
  },
  {
   "cell_type": "code",
   "execution_count": null,
   "metadata": {
    "ExecuteTime": {
     "end_time": "2019-12-12T09:39:12.046679Z",
     "start_time": "2019-12-12T09:39:05.463Z"
    },
    "hidden": true
   },
   "outputs": [],
   "source": [
    "count = 500\n",
    "count.times do |counter|\n",
    "  words = [3,5].map{|k| wordgen(k)}\n",
    "  bra1 = bracket(*words)\n",
    "  bra2 = bracket(*(words.map(&:contract)))\n",
    "  unless bra1 == bra2\n",
    "    puts \"#{words.map(&:show).join(' , ')}\"\n",
    "    puts \"( #{bra1.show(1)} ) - ( #{bra2.show(1)} ) != (0)\"\n",
    "    break\n",
    "  else\n",
    "    printf \"O\" if counter.modulo(count/100) == 0\n",
    "  end\n",
    "  printf \"\\nPASS\" if counter == count - 1\n",
    "end; nil"
   ]
  },
  {
   "cell_type": "code",
   "execution_count": null,
   "metadata": {
    "ExecuteTime": {
     "end_time": "2019-12-12T09:39:17.916714Z",
     "start_time": "2019-12-12T09:39:05.466Z"
    },
    "hidden": true
   },
   "outputs": [],
   "source": [
    "count = 500\n",
    "count.times do |counter|\n",
    "  words = [2,3].map{|k| wordgen(k)}\n",
    "  bra1 = bracket(*words)\n",
    "  bra2 = bracket(*(words.map{|w| Group.conjugate(w,wordgen(2))}))\n",
    "  unless bra1 == bra2\n",
    "    puts \"#{words.map(&:show).join(' , ')}\"\n",
    "    printf \"( #{bra1.show(1)} ) - ( #{bra2.show(1)} ) != (0)\"\n",
    "    break\n",
    "  else\n",
    "    printf \"O\" if counter.modulo(count/100) == 0\n",
    "  end\n",
    "  printf \"\\nPASS\" if counter == count - 1\n",
    "end; nil"
   ]
  },
  {
   "cell_type": "markdown",
   "metadata": {
    "heading_collapsed": true,
    "hidden": true
   },
   "source": [
    "### cobracket"
   ]
  },
  {
   "cell_type": "code",
   "execution_count": null,
   "metadata": {
    "ExecuteTime": {
     "end_time": "2019-12-12T09:39:20.731750Z",
     "start_time": "2019-12-12T09:39:05.469Z"
    },
    "hidden": true
   },
   "outputs": [],
   "source": [
    "count = 500\n",
    "count.times do |counter|\n",
    "  word = wordgen(5)\n",
    "  cobra1 = cobracket(word)\n",
    "  cobra2 = cobracket(word.contract)\n",
    "  unless cobra1 == cobra2\n",
    "    printf \"\\n\"\n",
    "    puts word.show\n",
    "    puts \"( #{cobra1.show(1)} ) - ( #{cobra2.show(1)} ) != (0)\"\n",
    "    break\n",
    "  else\n",
    "    printf \"O\" if counter.modulo(count/100) == 0\n",
    "  end\n",
    "  printf \"\\nPASS\" if counter == count - 1\n",
    "end; nil"
   ]
  },
  {
   "cell_type": "code",
   "execution_count": null,
   "metadata": {
    "ExecuteTime": {
     "end_time": "2019-12-12T09:39:23.191269Z",
     "start_time": "2019-12-12T09:39:05.473Z"
    },
    "hidden": true
   },
   "outputs": [],
   "source": [
    "count = 500\n",
    "count.times do |counter|\n",
    "  word = wordgen(3)\n",
    "  cobra1 = cobracket(word)\n",
    "  cobra2 = cobracket(Group.conjugate(word, wordgen(2)))\n",
    "  unless cobra1 == cobra2\n",
    "    printf \"\\n\"\n",
    "    puts word.show\n",
    "    puts \"( #{cobra1.show(1)} ) - ( #{cobra2.show(1)} ) != (0)\"\n",
    "    break\n",
    "  else\n",
    "    printf \"O\" if counter.modulo(count/100) == 0\n",
    "  end\n",
    "  printf \"\\nPASS\" if counter == count -1\n",
    "end; nil"
   ]
  },
  {
   "cell_type": "markdown",
   "metadata": {
    "heading_collapsed": true,
    "hidden": true
   },
   "source": [
    "## Condisions verifications"
   ]
  },
  {
   "cell_type": "markdown",
   "metadata": {
    "hidden": true
   },
   "source": [
    "### Jacobi identity"
   ]
  },
  {
   "cell_type": "code",
   "execution_count": null,
   "metadata": {
    "ExecuteTime": {
     "end_time": "2019-12-12T09:42:07.375113Z",
     "start_time": "2019-12-12T09:41:59.908Z"
    },
    "hidden": true
   },
   "outputs": [],
   "source": [
    "max_length = 5\n",
    "count = 10 #500 #0 #\n",
    "count.times do |k|\n",
    "  three_words = Array.new(3).map!{|w| word_generator(rand(1..max_length))}\n",
    "  total = [0,1,2].map do |k|\n",
    "    triple = three_words.rotate(k)\n",
    "    #------\n",
    "    nabla( nabla(*triple[0..1]).wedge(triple[2]) )\n",
    "    #------\n",
    "  end.inject{|sum, e| sum.concat(e)}\n",
    "  result = total.show(2)\n",
    "  puts three_words.map(&:show).join(\" \\u{2297} \") + \"  |--> \" + result if result != '(0)'\n",
    "end; nil"
   ]
  },
  {
   "cell_type": "markdown",
   "metadata": {
    "hidden": true
   },
   "source": [
    "### Involutivity"
   ]
  },
  {
   "cell_type": "code",
   "execution_count": null,
   "metadata": {
    "ExecuteTime": {
     "end_time": "2019-12-12T09:42:10.865195Z",
     "start_time": "2019-12-12T09:42:09.882Z"
    },
    "hidden": true
   },
   "outputs": [],
   "source": [
    "count = 100 #10000 #\n",
    "length = 5 #10 #\n",
    "count.times do |k|\n",
    "  myw = word_generator(length)\n",
    "  total = cobracket(myw).each_with_object(Expansion.new) do |h, expn|\n",
    "    expn.concat( bracket(*h[:words]) * h[:coeff] )\n",
    "  end\n",
    "  result = total.show(2)\n",
    "  p myw.show + \" |--> \" + result if result != \"(0)\"\n",
    "end; nil"
   ]
  },
  {
   "cell_type": "markdown",
   "metadata": {
    "heading_collapsed": true,
    "hidden": true
   },
   "source": [
    "## The cobracket completely detects simpleness"
   ]
  },
  {
   "cell_type": "code",
   "execution_count": null,
   "metadata": {
    "hidden": true
   },
   "outputs": [],
   "source": []
  },
  {
   "cell_type": "markdown",
   "metadata": {
    "heading_collapsed": true,
    "hidden": true
   },
   "source": [
    "## Degree-3 simpleness of $a_{1}[a_{2}, a_{3}]$"
   ]
  },
  {
   "cell_type": "code",
   "execution_count": null,
   "metadata": {
    "ExecuteTime": {
     "end_time": "2019-12-12T10:24:21.691545Z",
     "start_time": "2019-12-12T10:23:24.379Z"
    },
    "hidden": true
   },
   "outputs": [],
   "source": [
    "x = a1*(Group.commutator(a[2], b[2])^2)\n",
    "printf x.show + \" |-\\u{03b4}-> \" + delta(x).show(2) + \"\\n\"\n",
    "\n",
    "count = 10\n",
    "count.times do |counter|\n",
    "  gamma = 3.times.map{|k| word_generator(length: rand(1..3), genus: 2)}.inject{|memo, w| Group.commutator(memo, w)}\n",
    "  cobra_str = cobracket(x*gamma).show(2)\n",
    "  printf \"O\" if counter.modulo(count/10) == 0\n",
    "  if cobra_str == '(0)'\n",
    "    puts \"\\n\"\n",
    "    p gamma.show, gamma.contract.show \n",
    "    break\n",
    "  end\n",
    "end; nil"
   ]
  },
  {
   "cell_type": "code",
   "execution_count": null,
   "metadata": {
    "ExecuteTime": {
     "end_time": "2019-12-12T10:03:56.877417Z",
     "start_time": "2019-12-12T10:03:56.431Z"
    },
    "hidden": true
   },
   "outputs": [],
   "source": [
    "w = a1*Group.commutator(Group.commutator(a1, b1.inverse), a1)\n",
    "p w.show\n",
    "\n",
    "cobracket(w).show(2)"
   ]
  },
  {
   "cell_type": "markdown",
   "metadata": {
    "heading_collapsed": true
   },
   "source": [
    "# TODO"
   ]
  },
  {
   "cell_type": "markdown",
   "metadata": {
    "hidden": true
   },
   "source": [
    "* [ ] wedge の一方に 1 があるものの扱いをはっきりさせる。\n",
    "* [ ] $x\\wedge x$ をゼロと認識させる。\n",
    "* [x] Expansion#show のオプションに \"係数 0 の項だけ消去\" を加えたい。\n",
    "* [x] Compatibility が全然ダメ。\n",
    "* [x] aaa などの Word について、動作が少し変。\n",
    "* [x] Extension class のメソッドとして、係数 0 を消去したり、共通項で整理したりできるようにしたい。\n",
    "* [ ] cobracket を再帰的に作用させて、完全に分解することに何らかの意味があるか?\n",
    "* [ ] $\\ell_{2}$ の計算と cobracket との関係は? とくに両者にある division について。"
   ]
  }
 ],
 "metadata": {
  "kernelspec": {
   "display_name": "Ruby 2.6.3",
   "language": "ruby",
   "name": "ruby"
  },
  "language_info": {
   "file_extension": ".rb",
   "mimetype": "application/x-ruby",
   "name": "ruby",
   "version": "2.6.3"
  },
  "toc": {
   "base_numbering": 1,
   "nav_menu": {},
   "number_sections": true,
   "sideBar": true,
   "skip_h1_title": false,
   "title_cell": "Table of Contents",
   "title_sidebar": "Contents",
   "toc_cell": false,
   "toc_position": {
    "height": "47.2585px",
    "left": "892.994px",
    "top": "140.997px",
    "width": "211.989px"
   },
   "toc_section_display": true,
   "toc_window_display": false
  },
  "varInspector": {
   "cols": {
    "lenName": 16,
    "lenType": 16,
    "lenVar": 40
   },
   "kernels_config": {
    "python": {
     "delete_cmd_postfix": "",
     "delete_cmd_prefix": "del ",
     "library": "var_list.py",
     "varRefreshCmd": "print(var_dic_list())"
    },
    "r": {
     "delete_cmd_postfix": ") ",
     "delete_cmd_prefix": "rm(",
     "library": "var_list.r",
     "varRefreshCmd": "cat(var_dic_list()) "
    }
   },
   "types_to_exclude": [
    "module",
    "function",
    "builtin_function_or_method",
    "instance",
    "_Feature"
   ],
   "window_display": false
  }
 },
 "nbformat": 4,
 "nbformat_minor": 2
}
