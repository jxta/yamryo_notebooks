{
 "cells": [
  {
   "cell_type": "markdown",
   "metadata": {
    "heading_collapsed": true
   },
   "source": [
    "# The fundarmental group of $\\Sigma_{g,1}$ "
   ]
  },
  {
   "cell_type": "code",
   "execution_count": 1,
   "metadata": {
    "ExecuteTime": {
     "end_time": "2019-12-11T06:33:39.056471Z",
     "start_time": "2019-12-11T06:33:39.049Z"
    },
    "hidden": true
   },
   "outputs": [
    {
     "data": {
      "text/plain": [
       "true"
      ]
     },
     "execution_count": 1,
     "metadata": {},
     "output_type": "execute_result"
    }
   ],
   "source": [
    "require './freegroup.rb'"
   ]
  },
  {
   "cell_type": "markdown",
   "metadata": {
    "heading_collapsed": true,
    "hidden": true
   },
   "source": [
    "## symplectic generators"
   ]
  },
  {
   "cell_type": "code",
   "execution_count": 2,
   "metadata": {
    "ExecuteTime": {
     "end_time": "2019-12-11T06:33:39.072570Z",
     "start_time": "2019-12-11T06:33:39.058Z"
    },
    "hidden": true
   },
   "outputs": [
    {
     "name": "stdout",
     "output_type": "stream",
     "text": [
      "[\"a\", \"b\", \"c\", \"d\", \"e\", \"f\"]\n",
      "[\"1\", \"a\", \"c\", \"e\"]\n"
     ]
    }
   ],
   "source": [
    "genus = 3\n",
    "alphabet = %w(a b c d e f)\n",
    "\n",
    "Gens = [Letter.new] + alphabet.map{|x| Letter.new(x)}\n",
    "Gens.freeze\n",
    "p Gens[1..-1].map(&:show)\n",
    "\n",
    "a = [Gens[0]] + Gens[1..-1].each_slice(2).map(&:first)\n",
    "b = [Gens[0]] + Gens[1..-1].each_slice(2).map(&:last)\n",
    "p a.map(&:show)\n",
    "nil"
   ]
  },
  {
   "cell_type": "code",
   "execution_count": 3,
   "metadata": {
    "ExecuteTime": {
     "end_time": "2019-12-11T06:33:39.086906Z",
     "start_time": "2019-12-11T06:33:39.064Z"
    },
    "hidden": true
   },
   "outputs": [
    {
     "name": "stdout",
     "output_type": "stream",
     "text": [
      "[\"1\", \"abAB\", \"cdCD\", \"efEF\"]\n"
     ]
    },
    {
     "data": {
      "text/plain": [
       "[\"1\", \"abAB\", \"cdCD\", \"efEF\"]"
      ]
     },
     "execution_count": 3,
     "metadata": {},
     "output_type": "execute_result"
    }
   ],
   "source": [
    "comms = []\n",
    "(Gens.size/2 + 1).times do |i|\n",
    "  comms << Group.commutator(a[i], b[i])\n",
    "end\n",
    "p comms.map(&:show)"
   ]
  },
  {
   "cell_type": "code",
   "execution_count": 4,
   "metadata": {
    "ExecuteTime": {
     "end_time": "2019-12-11T06:33:39.094250Z",
     "start_time": "2019-12-11T06:33:39.070Z"
    },
    "hidden": true,
    "scrolled": true
   },
   "outputs": [
    {
     "name": "stderr",
     "output_type": "stream",
     "text": [
      "<main>:2: warning: already initialized constant Rseq\n",
      "<main>:2: warning: already initialized constant Rseq\n",
      "<main>:2: warning: previous definition of Rseq was here\n",
      "<main>:2: warning: already initialized constant Rseq\n",
      "<main>:2: warning: previous definition of Rseq was here\n"
     ]
    },
    {
     "name": "stdout",
     "output_type": "stream",
     "text": [
      "[\"a\", \"B\", \"A\", \"b\", \"c\", \"D\", \"C\", \"d\", \"e\", \"F\", \"E\", \"f\"]\n"
     ]
    }
   ],
   "source": [
    "Rseq = []\n",
    "(Gens.size/2).times do |i|\n",
    "  Rseq += [a[i+1], b[i+1].inverse, a[i+1].inverse, b[i+1]]\n",
    "end\n",
    "Rseq.freeze\n",
    "p Rseq.map(&:show) #.index('A')\n",
    "nil"
   ]
  },
  {
   "cell_type": "markdown",
   "metadata": {
    "heading_collapsed": true,
    "hidden": true
   },
   "source": [
    "## Random Word generator"
   ]
  },
  {
   "cell_type": "code",
   "execution_count": 5,
   "metadata": {
    "ExecuteTime": {
     "end_time": "2019-12-11T06:33:39.101532Z",
     "start_time": "2019-12-11T06:33:39.083Z"
    },
    "hidden": true
   },
   "outputs": [],
   "source": [
    "def word_generator(length=5)\n",
    "  rstr = ''\n",
    "  length.times{|k| rstr += Rseq.sample.to_s}\n",
    "  return Word.new(rstr)\n",
    "end\n",
    "def wordgen(length=5)\n",
    "  word_generator(length)\n",
    "end;nil"
   ]
  },
  {
   "cell_type": "markdown",
   "metadata": {},
   "source": [
    "# Goldman bracket & Turaev cobracket"
   ]
  },
  {
   "cell_type": "markdown",
   "metadata": {
    "heading_collapsed": true
   },
   "source": [
    "## Partition class, Term class and Expansion class"
   ]
  },
  {
   "cell_type": "code",
   "execution_count": 6,
   "metadata": {
    "ExecuteTime": {
     "end_time": "2019-12-11T06:33:39.109541Z",
     "start_time": "2019-12-11T06:33:39.092Z"
    },
    "hidden": true
   },
   "outputs": [],
   "source": [
    "class Partition < Hash\n",
    "  def initialize(word: Word.new, div: 0)\n",
    "    self[:word] = word\n",
    "    self[:div] = div\n",
    "  end\n",
    "end\n",
    "\n",
    "#----------------------------------\n",
    "class Term < Hash\n",
    "  '''\n",
    "    A Hash with keys :coeff, :words and :divs\n",
    "  '''\n",
    "  def initialize(coeff: 0, words: [], divs: [])\n",
    "    begin      \n",
    "      self[:coeff] = coeff\n",
    "      self[:words] = words\n",
    "    rescue => e\n",
    "      p e.backtrace\n",
    "    end\n",
    "  end\n",
    "  \n",
    "  def cyclic_reduce\n",
    "    trm = self.class.new(coeff: self[:coeff], divs: self[:divs])\n",
    "    trm[:words] = self[:words].map(&:cyclic_reduce)\n",
    "    return trm\n",
    "  end\n",
    "  \n",
    "  def show\n",
    "    coeff = (self[:coeff] == 1) ? '' : \"(#{self[:coeff]})\"\n",
    "    body = self[:words].map(&:show).join(\"\\u{2227}\")\n",
    "    coeff + body\n",
    "  end\n",
    "  \n",
    "  def equiv?(a_term)\n",
    "    '''\n",
    "      return 1(match), -1(reversely match) and 0(not match).\n",
    "    '''\n",
    "    (self[:words].size).times do |k|\n",
    "      flags = self[:words].zip(a_term[:words].rotate(k)).map{|pair| pair[0].is_cyclically_same?(pair[1])}\n",
    "      if flags.all?{|tf| tf}\n",
    "        return (-1)**k\n",
    "        break\n",
    "      end\n",
    "    end\n",
    "    return 0\n",
    "  end\n",
    "end\n",
    "\n",
    "#-----------------------------------\n",
    "class Expansion < Array\n",
    "  '''\n",
    "    An Array of Terms\n",
    "  '''\n",
    "  def *(int)\n",
    "    raise ArgumentError, int.class unless int.is_a?(Integer)\n",
    "    return self.each_with_object(self.class.new) do |term, expn|\n",
    "      term[:coeff] *= int\n",
    "      expn << term\n",
    "    end\n",
    "  end\n",
    "#  def +(another)  \n",
    "#    raise ArgumentError, another.class unless another.is_a?(self.class)\n",
    "#    return (self.concat(another)).each_with_object(self.class.new){|term, expn| expn << term}\n",
    "#   #NOTE: Using the parent's method '+', (self + another) yields an Array.class object.\n",
    "#  end\n",
    "  def show(simplify_level=0)\n",
    "    expn = case simplify_level\n",
    "      when 1\n",
    "        self.delete_if{|t| t[:coeff] == 0}\n",
    "      when 2\n",
    "        self.simplify\n",
    "      else \n",
    "        self.rotate(0)\n",
    "      end\n",
    "    #---\n",
    "    mstr = expn.map{|term| term.show}.join(' + ')\n",
    "    return (mstr.empty?) ? '0' : mstr\n",
    "  end\n",
    "\n",
    "  def simplify\n",
    "    expn = self.class.new\n",
    "    monomials = self.map{|mono| mono.cyclic_reduce unless mono[:coeff] == 0}.compact\n",
    "    until monomials.size == 0\n",
    "      pop = monomials.pop\n",
    "      pop[:divs] = [pop[:divs]]\n",
    "      #---\n",
    "      monomials.each do |mono|\n",
    "        switch = mono.equiv?(pop)\n",
    "        unless switch == 0\n",
    "          pop[:coeff] += mono[:coeff] * switch\n",
    "          pop[:divs] << mono[:divs]\n",
    "          mono[:coeff] = nil\n",
    "        end\n",
    "      end\n",
    "      expn << pop if pop[:coeff] != 0\n",
    "      monomials.delete_if{|mono| mono[:coeff].nil?}\n",
    "    end\n",
    "    return (expn.empty?) ? (self.class.new << Term.new) : expn\n",
    "  end\n",
    "end; nil"
   ]
  },
  {
   "cell_type": "markdown",
   "metadata": {
    "heading_collapsed": true,
    "hidden": true
   },
   "source": [
    "### scratch"
   ]
  },
  {
   "cell_type": "code",
   "execution_count": 7,
   "metadata": {
    "ExecuteTime": {
     "end_time": "2019-12-11T06:33:39.112865Z",
     "start_time": "2019-12-11T06:33:39.099Z"
    },
    "hidden": true
   },
   "outputs": [
    {
     "name": "stdout",
     "output_type": "stream",
     "text": [
      "Word\n"
     ]
    }
   ],
   "source": [
    "w = Word.new('abc').cyclic_permutation\n",
    "p w.class\n",
    "nil"
   ]
  },
  {
   "cell_type": "code",
   "execution_count": 8,
   "metadata": {
    "ExecuteTime": {
     "end_time": "2019-12-11T06:33:39.118006Z",
     "start_time": "2019-12-11T06:33:39.103Z"
    },
    "hidden": true
   },
   "outputs": [
    {
     "name": "stdout",
     "output_type": "stream",
     "text": [
      "(0) |-reduce-> (0)\n",
      "(-1)fDCdADEF |-reduce-> (-1)DCdADE\n",
      "FfA∧Ab |-reduce-> A∧Ab\n"
     ]
    }
   ],
   "source": [
    "terms = [\n",
    "  Term.new,\n",
    "  Term.new(words: [wordgen(8)], coeff: -1), \n",
    "  Term.new(words: [wordgen(3), wordgen(2)], coeff: 1)\n",
    "]\n",
    "\n",
    "terms.each{|t| printf t.show + ' |-reduce-> ' + t.cyclic_reduce.show + \"\\n\" }\n",
    "nil"
   ]
  },
  {
   "cell_type": "code",
   "execution_count": 9,
   "metadata": {
    "ExecuteTime": {
     "end_time": "2019-12-11T06:33:39.196563Z",
     "start_time": "2019-12-11T06:33:39.109Z"
    },
    "hidden": true
   },
   "outputs": [],
   "source": [
    "count = 10\n",
    "count.times do |k|\n",
    "  expn = Expansion.new() \n",
    "  5.times do |i|\n",
    "    cf = ( (-1)**(i.modulo(3)) - (-1)**((i+1).modulo(3)) )/2\n",
    "    ws = [3,3].map{|k| word_generator(k)}\n",
    "    expn << Term.new(divs: '', coeff: cf, words: ws)\n",
    "  end\n",
    "  if expn.simplify.size < 4\n",
    "    break\n",
    "  end\n",
    "end; nil"
   ]
  },
  {
   "cell_type": "markdown",
   "metadata": {
    "heading_collapsed": true
   },
   "source": [
    "## Linking of a pair of divisions"
   ]
  },
  {
   "cell_type": "code",
   "execution_count": 10,
   "metadata": {
    "ExecuteTime": {
     "end_time": "2019-12-11T06:33:39.203242Z",
     "start_time": "2019-12-11T06:33:39.116Z"
    },
    "hidden": true
   },
   "outputs": [],
   "source": [
    "def lk(ptn1, ptn2)\n",
    "  '''\n",
    "    Input: Patitions {word: a Word, div: an pos. Integer}\n",
    "  '''\n",
    "  hashes = [ptn1, ptn2].map do |ptn|\n",
    "    w = ptn[:word].flatten\n",
    "    k = ptn[:div]\n",
    "    s = w.size\n",
    "    [\n",
    "      {index: ( k%s ) + 1, letter: w[ k%s ], sign: 1}, \n",
    "      {index: k, letter: w[k-1].inverse, sign: -1}\n",
    "    ]\n",
    "  end  \n",
    "  total = [0,1].product([0,1]).map{|i,j| epsilon(hashes[0][i], hashes[1][j])}.sum\n",
    "  return (-1)*(total/2)\n",
    "end\n",
    "\n",
    "#--------------------------------------------\n",
    "def epsilon(h1, h2)\n",
    "  '''\n",
    "    Input: Hashes {index: a pos. Integer, letter: a Letter, sign: 1 or -1}\n",
    "  '''\n",
    "  result = h1[:sign]*h2[:sign]\n",
    "  result *= unless (h1[:letter].show == h2[:letter].show)\n",
    "    (Rseq.index(h1[:letter]) < Rseq.index(h2[:letter])) ? 1 : -1\n",
    "  else\n",
    "    (h1[:index] < h2[:index]) ? h2[:sign] : h1[:sign]*(-1)\n",
    "  end\n",
    "  return result\n",
    "end; nil"
   ]
  },
  {
   "cell_type": "markdown",
   "metadata": {
    "heading_collapsed": true
   },
   "source": [
    "## Goldman bracket"
   ]
  },
  {
   "cell_type": "code",
   "execution_count": 11,
   "metadata": {
    "ExecuteTime": {
     "end_time": "2019-12-11T06:33:39.206410Z",
     "start_time": "2019-12-11T06:33:39.122Z"
    },
    "hidden": true
   },
   "outputs": [],
   "source": [
    "def bracket(w1, w2)\n",
    "  \"\"\"\n",
    "  retern: an Expansion (an Array of Terms {coeff: *, words: *, divs: *})\n",
    "  \"\"\"\n",
    "  #-----\n",
    "  expn = Expansion.new\n",
    "  unless (w1.show == '1' || w2.show == '1')\n",
    "    ws = [w1, w2]\n",
    "    (w1.size.times.to_a).product(w2.size.times.to_a).each do |inds|\n",
    "      #--- the pair of partitions ---\n",
    "      ptns = [0,1].map{|k| Partition.new(word: ws[k], div: inds[k]+1)}\n",
    "      #--- put the two words togather ---\n",
    "      cpws = [0,1].map{|k| ws[k].cyclic_permutation(inds[k]+1)}\n",
    "      expn << Term.new(divs: ptns.map{|p| p[:div]}, coeff: lk(*ptns), words: [cpws[0]*cpws[1]])\n",
    "    end\n",
    "  end\n",
    "  return expn\n",
    "end; nil"
   ]
  },
  {
   "cell_type": "markdown",
   "metadata": {
    "heading_collapsed": true,
    "hidden": true
   },
   "source": [
    "### scratch"
   ]
  },
  {
   "cell_type": "code",
   "execution_count": 12,
   "metadata": {
    "ExecuteTime": {
     "end_time": "2019-12-11T06:33:39.218859Z",
     "start_time": "2019-12-11T06:33:39.128Z"
    },
    "hidden": true,
    "scrolled": true
   },
   "outputs": [
    {
     "name": "stdout",
     "output_type": "stream",
     "text": [
      "cb, dfB\n",
      "-------\n",
      "coeff: 1, words: bcfBd, \n",
      "---\n",
      "coeff: 0, words: bcBdf, \n",
      "---\n",
      "coeff: 0, words: bcdfB, \n",
      "---\n",
      "coeff: 0, words: cbfBd, \n",
      "---\n",
      "coeff: 1, words: cbBdf, \n",
      "---\n",
      "coeff: -1, words: cbdfB, \n",
      "---\n",
      "bcfBd + (0)bcBdf + (0)bcdfB + (0)cbfBd + cbBdf + (-1)cbdfB\n",
      "= (-1)cbdfB + cdf + bcfBd\n"
     ]
    }
   ],
   "source": [
    "# w1 = Word.new(a[1], a[2], b[1].inverse)\n",
    "# w2 = Word.new(b[2], a[1], a[1].inverse) #, b[2])\n",
    "w1, w2 = wordgen(2), wordgen(3)\n",
    "printf [w1, w2].map(&:show).join(', ')  + \"\\n-------\\n\"\n",
    "\n",
    "bra = bracket(w1, w2)\n",
    "\n",
    "bra.each do |t|\n",
    "  t.each{|k,v| printf \"#{k}: \" + ((k == :words) ? v[0].show : v.to_s) + \", \"}\n",
    "  printf \"\\n---\\n\"\n",
    "end\n",
    "puts bra.show, \"= \" + bra.show(2)\n",
    "nil"
   ]
  },
  {
   "cell_type": "markdown",
   "metadata": {
    "heading_collapsed": true
   },
   "source": [
    "## Turaev cobraket"
   ]
  },
  {
   "cell_type": "code",
   "execution_count": 13,
   "metadata": {
    "ExecuteTime": {
     "end_time": "2019-12-11T06:33:39.221934Z",
     "start_time": "2019-12-11T06:33:39.134Z"
    },
    "code_folding": [],
    "hidden": true
   },
   "outputs": [],
   "source": [
    "def cobracket(myw, verbose: false)\n",
    "  \"\"\"\n",
    "  return: an Expansion (an Array of Terms {coeff: *, words: *, divs: *})\n",
    "  \"\"\"\n",
    "  expn = Expansion.new\n",
    "  unless myw.show == '1' \n",
    "    ptn_num_pairs = (1..myw.size).to_a.combination(2)  #all the pair of partition numbers\n",
    "    ptn_num_pairs.each do |i,j|\n",
    "      #--- the pair of Partitions ---\n",
    "      ptns = [i,j].map{|k| Partition.new(word: myw, div: k)} \n",
    "      #--- divide the word --- \n",
    "      words = myw.cyclic_permutation(i).split(j-i).reverse\n",
    "      expn << Term.new(divs: [i,j], coeff: lk(*ptns), words: words)\n",
    "    end\n",
    "  end\n",
    "  #-----\n",
    "  return expn\n",
    "end; nil"
   ]
  },
  {
   "cell_type": "markdown",
   "metadata": {
    "heading_collapsed": true,
    "hidden": true
   },
   "source": [
    "### scratch"
   ]
  },
  {
   "cell_type": "code",
   "execution_count": 14,
   "metadata": {
    "ExecuteTime": {
     "end_time": "2019-12-11T06:33:39.235837Z",
     "start_time": "2019-12-11T06:33:39.141Z"
    },
    "hidden": true,
    "scrolled": true
   },
   "outputs": [
    {
     "name": "stdout",
     "output_type": "stream",
     "text": [
      "daebE\n",
      "-------\n",
      "ebEd∧a + (-1)bEd∧ae + Ed∧aeb + (0)d∧aebE + bEda∧e + (0)Eda∧eb + (0)da∧ebE + (0)Edae∧b + (0)dae∧bE + (0)daeb∧E\n",
      "= bEda∧e + Ed∧aeb + (-1)bEd∧ae + ebEd∧a\n"
     ]
    }
   ],
   "source": [
    "#mw = Word.new(b[1], a[1], b[1]) #a1*Group.commutator(b[1], a[2]) #comms[1] #\n",
    "mw = wordgen(5)\n",
    "printf mw.show + \"\\n-------\\n\"\n",
    "\n",
    "cobra = cobracket(mw, verbose: false) #true) #\n",
    "\n",
    "# cobra.each do |t|\n",
    "#   t.each do |k,v| \n",
    "#     p \"#{k}: \" + ((k == :words) ? v[0].show : v.to_s)\n",
    "#   end\n",
    "#   printf \"---\\n\"\n",
    "# end\n",
    "\n",
    "puts cobra.show, \"= \" + cobra.show(2)\n",
    "nil"
   ]
  },
  {
   "cell_type": "markdown",
   "metadata": {},
   "source": [
    "# Conditions"
   ]
  },
  {
   "cell_type": "markdown",
   "metadata": {},
   "source": [
    "## Jacobi Identity"
   ]
  },
  {
   "cell_type": "markdown",
   "metadata": {},
   "source": [
    "$$\\nabla\\circ(\\nabla\\otimes 1)\\circ N = 0$$"
   ]
  },
  {
   "cell_type": "code",
   "execution_count": 32,
   "metadata": {
    "ExecuteTime": {
     "end_time": "2019-12-11T06:37:12.575624Z",
     "start_time": "2019-12-11T06:37:12.550Z"
    }
   },
   "outputs": [
    {
     "name": "stdout",
     "output_type": "stream",
     "text": [
      "B ⊗ Ce ⊗ DCd  |---> \n",
      "------\n",
      "\t∇(B ⊗ Ce) ⊗ DCd =\n",
      "\t\t+ (CBeCdD + (-1)CBedDC) ⊗ DCd\n",
      "\t\t+ (CeBCdD + (-1)CeBdDC) ⊗ DCd\n",
      "\t∇(Ce ⊗ DCd) ⊗ B =\n",
      "\t\t+ (0) ⊗ B\n",
      "\t\t+ (0) ⊗ B\n",
      "\t\t+ (0) ⊗ B\n",
      "\t\t+ (0) ⊗ B\n",
      "\t\t+ (0) ⊗ B\n",
      "\t\t+ (0) ⊗ B\n",
      "\t∇(DCd ⊗ B) ⊗ Ce =\n",
      "\t\t+ ((-1)dDBCeC + dDBCCe + BCdDeC + (-1)BCdDCe + (-1)CdDBeC + CdDBCe) ⊗ Ce\n",
      "\t\t+ ((-1)dDCBeC + dDCBCe) ⊗ Ce\n",
      "\t\t+ ((-1)dBDCeC + dBDCCe + BDCdeC + (-1)DCdBeC) ⊗ Ce\n",
      "---------\n",
      "\"0 =\"\n"
     ]
    },
    {
     "data": {
      "text/plain": [
       "\"(0)\""
      ]
     },
     "execution_count": 32,
     "metadata": {},
     "output_type": "execute_result"
    }
   ],
   "source": [
    "three_words = Array.new(3)\n",
    "max_length = 3\n",
    "\n",
    "three_words.map!{|w| word_generator(rand(1..max_length))}\n",
    "puts three_words.map(&:show).join(\" \\u{2297} \") + \"  |---> \" + \"\\n------\"\n",
    "\n",
    "total = Expansion.new\n",
    "3.times do |k|\n",
    "  bra = bracket(three_words[0],three_words[1]); puts \"\\t\\u{2207}(\" + three_words[0..1].map(&:show).join(\" \\u{2297} \") + \") \\u{2297} \" + three_words[2].show + \" =\"\n",
    "  bra.each do |h|\n",
    "    bra2 = bracket(h[:words][0], three_words[2]); puts \"\\t\\t+ (#{bra2.show(1)}) \\u{2297} #{three_words[2].show}\"\n",
    "    total.concat( bra2 * h[:coeff] )\n",
    "  end\n",
    "  three_words.rotate!\n",
    "end\n",
    "\n",
    "printf \"---------\\n\"\n",
    "p total.show(1) + \" =\"\n",
    "\n",
    "total.show(2)"
   ]
  },
  {
   "cell_type": "markdown",
   "metadata": {
    "heading_collapsed": true
   },
   "source": [
    "### scratch"
   ]
  },
  {
   "cell_type": "code",
   "execution_count": 16,
   "metadata": {
    "ExecuteTime": {
     "end_time": "2019-12-11T06:33:39.588070Z",
     "start_time": "2019-12-11T06:33:39.155Z"
    },
    "hidden": true
   },
   "outputs": [],
   "source": [
    "three_words = Array.new(3)\n",
    "max_length = 3\n",
    "count = 0 #500 #\n",
    "\n",
    "count.times do |k|\n",
    "  three_words.map!{|w| word_generator(rand(1..max_length))}\n",
    "  total = Expansion.new\n",
    "  3.times do |k|\n",
    "    bra = bracket(three_words[0],three_words[1])\n",
    "#     puts \"\\u{2207}(\" + three_words[0..1].map(&:show).join(\" \\u{2297} \") + \") \\u{2297} \" + three_words[2].show + \" =\"\n",
    "    bra.each do |h|\n",
    "      bra2 = bracket(h[:words][0], three_words[2])\n",
    "#       puts \"+ (#{bra2.show}) \\u{2297} #{three_words[2].show}\"\n",
    "      bra2.each do |hh|\n",
    "        hh[:coeff] *= h[:coeff]\n",
    "        total << hh\n",
    "      end\n",
    "    end\n",
    "    three_words.rotate!\n",
    "  end\n",
    "  result = total.show(2)\n",
    "  puts three_words.map(&:show).join(\" \\u{2297} \") + \"  |--> \" + result if result != '(0)'\n",
    "end; nil"
   ]
  },
  {
   "cell_type": "markdown",
   "metadata": {},
   "source": [
    "## Involutivity for $\\nabla$ and $\\delta$"
   ]
  },
  {
   "cell_type": "markdown",
   "metadata": {},
   "source": [
    "$$\\nabla\\circ \\delta = 0$$"
   ]
  },
  {
   "cell_type": "code",
   "execution_count": 22,
   "metadata": {
    "ExecuteTime": {
     "end_time": "2019-12-11T06:34:14.000384Z",
     "start_time": "2019-12-11T06:34:13.924Z"
    }
   },
   "outputs": [
    {
     "name": "stdout",
     "output_type": "stream",
     "text": [
      "δ(acadcEBA) = dcEBAac∧a + EBAac∧adc + (-1)BAac∧adcE + (-1)EBAaca∧dc + (-1)BAacadc∧E\n",
      "---\n",
      "\t∇(dcEBAac ⊗ a) = BAacdcEa + acdcEBAa + (-1)cdcEBAaa\n",
      "\t∇(EBAac ⊗ adc) = BAacEadc + acEBAadc + (-1)cEBAadca + cEBAacad + EBAacdca + (-1)EBAacadc\n",
      "\t∇(BAac ⊗ adcE) = (-1)acBAadcE + cBAadcEa + (-1)cBAacEad + (-1)BAacdcEa\n",
      "\t∇(EBAaca ⊗ dc) = (-1)caEBAacd\n",
      "\t∇(BAacadc ⊗ E) = 0\n",
      "-----\n",
      "= BAacdcEa + acdcEBAa + (-1)cdcEBAaa + BAacEadc + acEBAadc + (-1)cEBAadca + cEBAacad + EBAacdca + (-1)EBAacadc + (-1)acBAadcE + cBAadcEa + (-1)cBAacEad + (-1)BAacdcEa + (-1)caEBAacd  =  \n"
     ]
    },
    {
     "data": {
      "text/plain": [
       "\"(0)\""
      ]
     },
     "execution_count": 22,
     "metadata": {},
     "output_type": "execute_result"
    }
   ],
   "source": [
    "length = 8\n",
    "myw = word_generator(length) #Word.new('ffA')\n",
    "#puts myw.show + \"\\n======\"\n",
    "\n",
    "cobra = cobracket(myw)\n",
    "puts \"\\u{03B4}(#{myw.show}) = \" + cobra.show(1)\n",
    "puts \"---\"\n",
    "\n",
    "total = cobra.each_with_object(Expansion.new) do |h, expn|\n",
    "  bra = bracket(*h[:words]) * h[:coeff]\n",
    "  expn.concat( bra )\n",
    "  #--- display ---\n",
    "  tensor = h[:words].map(&:show).join(\" \\u{2297} \")\n",
    "  puts \"\\t\\u{2207}(#{tensor}) = #{bra.show(1)}\"\n",
    "  #---------------\n",
    "end\n",
    "\n",
    "puts \"-----\\n= \" + total.show(1) + \"  =  \"\n",
    "total.show(2)"
   ]
  },
  {
   "cell_type": "markdown",
   "metadata": {
    "heading_collapsed": true
   },
   "source": [
    "### scratch"
   ]
  },
  {
   "cell_type": "code",
   "execution_count": 18,
   "metadata": {
    "ExecuteTime": {
     "end_time": "2019-12-11T06:33:40.680426Z",
     "start_time": "2019-12-11T06:33:39.168Z"
    },
    "hidden": true
   },
   "outputs": [],
   "source": [
    "count = 100 #10000 #\n",
    "length = 5 #10\n",
    "count.times do |k|\n",
    "  myw = word_generator(length)\n",
    "  total = cobracket(myw).each_with_object(Expansion.new) do |h, expn|\n",
    "    expn.concat( bracket(*h[:words]) * h[:coeff] )\n",
    "  end\n",
    "  result = total.show(2)\n",
    "  p myw.show + \" |--> \" + result if result != \"(0)\"\n",
    "end; nil"
   ]
  },
  {
   "cell_type": "markdown",
   "metadata": {},
   "source": [
    "## Compatibility condition for $\\nabla$ and $\\delta$"
   ]
  },
  {
   "cell_type": "markdown",
   "metadata": {},
   "source": [
    "$\\forall v,w \\in \\pi$,\n",
    "$$\n",
    "\\delta([v,w]) = w\\cdot\\delta(v)- v\\cdot\\delta(w),\n",
    "$$\n",
    "where \n",
    "$$\n",
    "u\\cdot(x\\otimes y) = [u,x]\\otimes y + x\\otimes[u,y].\n",
    "$$\n",
    "**Note**: From the last formula, we immediately have the following:\n",
    "$$\n",
    "u \\cdot(x\\wedge y) = [u,x]\\wedge y - [u,y]\\wedge x.\n",
    "$$"
   ]
  },
  {
   "cell_type": "code",
   "execution_count": 28,
   "metadata": {
    "ExecuteTime": {
     "end_time": "2019-12-11T06:36:05.447150Z",
     "start_time": "2019-12-11T06:36:04.541Z"
    },
    "scrolled": false
   },
   "outputs": [
    {
     "name": "stdout",
     "output_type": "stream",
     "text": [
      "eaf ⊗ FcFfb\n",
      "\n",
      "Left-hand Eq.:  (-1)bfeaFc∧1 + bfeaF∧c + cbfea∧F + fe∧aFcb + bFafec∧1 + Fafe∧cb + (-1)bFafe∧c + a∧ecb\n",
      "---\n",
      "Right-hand Eq.:  (-1)Fcba∧fe + (-1)cbe∧a + feacb∧F + (-1)feaFcb∧1 + afecbF∧1 + afeF∧cb + feaFb∧c + (-1)afebF∧c"
     ]
    },
    {
     "data": {
      "text/plain": [
       "\"Left - Right = (0)\""
      ]
     },
     "execution_count": 28,
     "metadata": {},
     "output_type": "execute_result"
    }
   ],
   "source": [
    "v, w = word_generator(3), word_generator(5) #samples[:s2][0] #Word.new(a[1], a[2]),samples[:s4][0] #Word.new(b[1])\n",
    "puts \"#{v.show} \\u{2297} #{w.show}\"\n",
    "\n",
    "#--- Left-hand eq. -------------------\n",
    "lhe = Expansion.new\n",
    "bra = bracket(v, w) #; puts \"\\u{2207}(#{v}, #{w}) = \" + bra.show\n",
    "bra.each do |trm|\n",
    "  cobra = cobracket(trm[:words][0]) * trm[:coeff] #; puts \"\\t(#{trm[:coeff]})\\u{03B4}(#{trm[:words][0].show}) = \" + cobra.show(1) if trm[:coeff] != 0\n",
    "  lhe.concat( cobra )\n",
    "end\n",
    "printf \"\\nLeft-hand Eq.:  \" + lhe.show(2) + \"\\n---\"\n",
    "\n",
    "#--- Right-hand eq. -------------------\n",
    "rhe = Expansion.new\n",
    "double_idx = [0,1].product([0,1])\n",
    "double_idx.each do |i,j|\n",
    "  pair01, sign01 = [v,w].rotate(i), (-1)**i\n",
    "  #---\n",
    "  u = pair01[0]\n",
    "  cobra = cobracket(pair01[1]) * sign01 #; printf \"#{u}.\\u{03B4}(#{pair01[1].show}) = #{u}.(#{cobra.show(1)})\\n---\\n\"\n",
    "  cobra.each do |term|\n",
    "    pair02, sign02 = term[:words].rotate(j), (-1)**j\n",
    "    #---\n",
    "    x, y = pair02[0], pair02[1]\n",
    "    bra = bracket(u, x) * (term[:coeff] * sign02) #; printf \"\\t[#{u}, #{x}] \\u{2297} #{y} \\n\" + \"\\t=(#{bra.show(1)}) \\u{2297} #{y}\"\n",
    "    bra = bra.each_with_object(Expansion.new) do |mono, expn|\n",
    "      mono[:words][1] = y\n",
    "      expn << mono\n",
    "    end\n",
    "    rhe.concat( bra )\n",
    "  end\n",
    "#   printf \"\\n---\\n\"\n",
    "end\n",
    "#-----\n",
    "printf \"\\nRight-hand Eq.:  \" + rhe.show(2)\n",
    "\n",
    "#-----------------------\n",
    "\"Left - Right = \" + (lhe.concat( rhe * (-1) )).show(2)"
   ]
  },
  {
   "cell_type": "markdown",
   "metadata": {},
   "source": [
    "An example whose results of the both side of the compatibility condition are very long."
   ]
  },
  {
   "cell_type": "code",
   "execution_count": 20,
   "metadata": {
    "ExecuteTime": {
     "end_time": "2019-12-11T06:33:44.385595Z",
     "start_time": "2019-12-11T06:33:39.181Z"
    }
   },
   "outputs": [],
   "source": [
    "v,w = Word.new('fbC'), Word.new('CfDBe')\n",
    "nil"
   ]
  },
  {
   "cell_type": "markdown",
   "metadata": {},
   "source": [
    "# Experiments"
   ]
  },
  {
   "cell_type": "markdown",
   "metadata": {},
   "source": [
    "cobracket calclation samples"
   ]
  },
  {
   "cell_type": "code",
   "execution_count": 21,
   "metadata": {
    "ExecuteTime": {
     "end_time": "2019-12-11T06:33:47.965536Z",
     "start_time": "2019-12-11T06:33:39.187Z"
    },
    "scrolled": false
   },
   "outputs": [
    {
     "name": "stdout",
     "output_type": "stream",
     "text": [
      "--- s0 ---\n",
      " 1  |--δ-->  (0)\n",
      "a  |--δ-->  (0)\n",
      "ad  |--δ-->  (-1)a∧d\n",
      "aD  |--δ-->  (0)\n",
      "aabAaBA  |--δ-->  1∧a\n",
      "--- s1 ---\n",
      " aa  |--δ-->  a∧a\n",
      "aaa  |--δ-->  (0)\n",
      "aaaa  |--δ-->  aa∧aa\n",
      "abA  |--δ-->  1∧b\n",
      "abAB  |--δ-->  (0)\n",
      "bab  |--δ-->  (0)\n",
      "--- s2 ---\n",
      " adcDC  |--δ-->  (-1)a∧dcDC\n",
      "aaBAdcDCabA  |--δ-->  1∧aBAdcDCab\n",
      "adcDCcdCDaBAdcDCabA  |--δ-->  (2)1∧aBAdcDCab\n",
      "aBAdcDCab  |--δ-->  (0)\n",
      "--- s3 ---\n",
      " acdCD  |--δ-->  (0)\n",
      "acdCDcdCD  |--δ-->  acdCD∧cdCD\n",
      "acdCDabAcdCDaBA  |--δ-->  (0)\n",
      "acdCDcdCDdcDCabAcdCDaBA  |--δ-->  (0)\n",
      "--- s4 ---\n",
      " accc  |--δ-->  acc∧c + ac∧cc\n",
      "acDcDcD  |--δ-->  acDcD∧cD + acD∧cDcD\n",
      "--- s5 ---\n",
      " aceCE  |--δ-->  (-1)aceC∧E + ace∧CE + (-1)ac∧C\n",
      "acdCDefEFceCEfeFEdcDC  |--δ-->  (-1)feFEdcDCacdCDefEFceC∧E + feFEdcDCacdCDefEFce∧CE + (-1)feFEdcDCacdCDefEFc∧C\n",
      "--- s6 ---\n",
      " abcBC  |--δ-->  (-1)abcB∧C + abc∧BC + (-1)Cab∧cB\n",
      "aAba  |--δ-->  (0)\n",
      "abAAa  |--δ-->  1∧b\n",
      "abAaBA  |--δ-->  (0)\n",
      "abBd  |--δ-->  (-1)a∧d + (-1)da∧1\n",
      "--- s7 ---\n",
      " aBabaB  |--δ-->  (0)\n",
      "abaBaB  |--δ-->  (0)\n",
      "aaBAaB  |--δ-->  aB∧aB\n",
      "aaBB  |--δ-->  (-1)Ba∧aB\n",
      "aaDD  |--δ-->  aaD∧D + DDa∧a\n"
     ]
    }
   ],
   "source": [
    "a1, b1 = Word.new(a[1]), Word.new(b[1])\n",
    "c = (a1*Word.new(b[1])*(a1.inverse)).flatten\n",
    "\n",
    "samples = {\n",
    "  s0: [\n",
    "    Word.new,\n",
    "    a1, \n",
    "    a1*Word.new(b[2]),\n",
    "    a1*(Word.new(b[2]).inverse),\n",
    "    a1*c*(c.inverse),\n",
    "  ],\n",
    "  s1: [\n",
    "    a1^2,\n",
    "    a1^3,\n",
    "    a1^4,\n",
    "    c,\n",
    "    comms[1],\n",
    "    Word.new(b[1])*a1*Word.new(b[1])\n",
    "  ],\n",
    "  s2: [\n",
    "    a1*(comms[2].inverse),\n",
    "    a1*(c.inverse)*(comms[2].inverse)*c,\n",
    "    a1*(comms[2].inverse)*Group.commutator(comms[2], c.inverse),\n",
    "    (a1*(comms[2].inverse)*Group.commutator(comms[2], c.inverse)).cyclic_reduce\n",
    "  ],\n",
    "  s3: [\n",
    "    a1*comms[2],\n",
    "    a1*(comms[2]^2),\n",
    "    a1*comms[2]*c*comms[2]*(c.inverse),\n",
    "    a1*(comms[2]^2)*Group.commutator(comms[2].inverse,c)\n",
    "  ],\n",
    "  s4: [\n",
    "    a1*(Word.new(a[2])^3),\n",
    "    a1*(Word.new(a[2], b[2].inverse)^3)\n",
    "  ],\n",
    "  s5: [\n",
    "    a1*Group.commutator(a[2], a[3]),\n",
    "    a1*(comms[2]*comms[3])*Group.commutator(a[2], a[3])*((comms[2]*comms[3]).inverse)\n",
    "  ],\n",
    "  s6: [\n",
    "    a1*Group.commutator(b[1], a[2]),\n",
    "    a1*(a1.inverse)*Word.new(b[1])*a1,\n",
    "    c*(a1.inverse)*a1,\n",
    "    c*(c.inverse),\n",
    "    Word.new(a[1], b[1], b[1].inverse, b[2])\n",
    "  ],\n",
    "  s7: [\n",
    "    a1*(Group.conjugate(a1, b1.inverse))*a1*(b1.inverse),\n",
    "    a1*b1*((a1*(b1.inverse))^2),\n",
    "    a1*Group.conjugate(b1.inverse, a1)*a1*(b1.inverse),\n",
    "    (a1*Group.conjugate(b1.inverse, a1)*a1*(b1.inverse)).contract,\n",
    "    a1*a1*(Word.new(b[2].inverse)^2)\n",
    "    ]\n",
    "  }\n",
    "\n",
    "arr = samples #.slice(:s7) #:s0, :s6) #:s2) #, :s3) #:s0, :s1) #\n",
    "arr.each do |k, v|\n",
    "  printf \"--- #{k} ---\\n \"\n",
    "  v.each{|s| puts s.show + \"  |--\\u{03B4}-->  \" + cobracket(s).show(2) }\n",
    "end;nil"
   ]
  },
  {
   "cell_type": "markdown",
   "metadata": {},
   "source": [
    "# TODO"
   ]
  },
  {
   "cell_type": "markdown",
   "metadata": {},
   "source": [
    "* [ ] wedge の一方に 1 があるものの扱いをはっきりさせる。\n",
    "* [ ] $x\\wedge x$ をゼロと認識させる。\n",
    "* [x] Expansion#show のオプションに \"係数 0 の項だけ消去\" を加えたい。\n",
    "* [x] Compatibility が全然ダメ。\n",
    "* [x] aaa などの Word について、動作が少し変。\n",
    "* [x] Extension class のメソッドとして、係数 0 を消去したり、共通項で整理したりできるようにしたい。\n",
    "* [ ] cobracket を再帰的に作用させて、完全に分解することに何らかの意味があるか?\n",
    "* [ ] $\\ell_{2}$ の計算と cobracket との関係は? とくに両者にある division について。"
   ]
  },
  {
   "cell_type": "code",
   "execution_count": null,
   "metadata": {},
   "outputs": [],
   "source": []
  }
 ],
 "metadata": {
  "kernelspec": {
   "display_name": "Ruby 2.6.1",
   "language": "ruby",
   "name": "ruby"
  },
  "language_info": {
   "file_extension": ".rb",
   "mimetype": "application/x-ruby",
   "name": "ruby",
   "version": "2.6.1"
  },
  "toc": {
   "base_numbering": 1,
   "nav_menu": {},
   "number_sections": true,
   "sideBar": false,
   "skip_h1_title": false,
   "title_cell": "Table of Contents",
   "title_sidebar": "Contents",
   "toc_cell": false,
   "toc_position": {
    "height": "434px",
    "left": "10px",
    "top": "150px",
    "width": "439px"
   },
   "toc_section_display": true,
   "toc_window_display": false
  },
  "varInspector": {
   "cols": {
    "lenName": 16,
    "lenType": 16,
    "lenVar": 40
   },
   "kernels_config": {
    "python": {
     "delete_cmd_postfix": "",
     "delete_cmd_prefix": "del ",
     "library": "var_list.py",
     "varRefreshCmd": "print(var_dic_list())"
    },
    "r": {
     "delete_cmd_postfix": ") ",
     "delete_cmd_prefix": "rm(",
     "library": "var_list.r",
     "varRefreshCmd": "cat(var_dic_list()) "
    }
   },
   "types_to_exclude": [
    "module",
    "function",
    "builtin_function_or_method",
    "instance",
    "_Feature"
   ],
   "window_display": false
  }
 },
 "nbformat": 4,
 "nbformat_minor": 2
}
