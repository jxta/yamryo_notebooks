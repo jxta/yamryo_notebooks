{
 "cells": [
  {
   "cell_type": "markdown",
   "metadata": {
    "heading_collapsed": true
   },
   "source": [
    "# The fundarmental group of $\\Sigma_{g,1}$ "
   ]
  },
  {
   "cell_type": "code",
   "execution_count": 1,
   "metadata": {
    "ExecuteTime": {
     "end_time": "2019-12-09T08:14:41.958737Z",
     "start_time": "2019-12-09T08:14:41.948Z"
    },
    "hidden": true
   },
   "outputs": [
    {
     "data": {
      "text/plain": [
       "true"
      ]
     },
     "execution_count": 1,
     "metadata": {},
     "output_type": "execute_result"
    }
   ],
   "source": [
    "require './freegroup.rb'"
   ]
  },
  {
   "cell_type": "markdown",
   "metadata": {
    "heading_collapsed": true,
    "hidden": true
   },
   "source": [
    "## symplectic generators"
   ]
  },
  {
   "cell_type": "code",
   "execution_count": 2,
   "metadata": {
    "ExecuteTime": {
     "end_time": "2019-12-09T08:14:41.975845Z",
     "start_time": "2019-12-09T08:14:41.952Z"
    },
    "hidden": true
   },
   "outputs": [
    {
     "name": "stdout",
     "output_type": "stream",
     "text": [
      "[\"a\", \"b\", \"c\", \"d\", \"e\", \"f\"]\n",
      "[\"1\", \"a\", \"c\", \"e\"]\n"
     ]
    }
   ],
   "source": [
    "genus = 3\n",
    "alphabet = %w(a b c d e f)\n",
    "\n",
    "Gens = [Letter.new] + alphabet.map{|x| Letter.new(x)}\n",
    "Gens.freeze\n",
    "p Gens[1..-1].map(&:show)\n",
    "\n",
    "a = [Gens[0]] + Gens[1..-1].each_slice(2).map(&:first)\n",
    "b = [Gens[0]] + Gens[1..-1].each_slice(2).map(&:last)\n",
    "p a.map(&:show)\n",
    "nil"
   ]
  },
  {
   "cell_type": "code",
   "execution_count": 3,
   "metadata": {
    "ExecuteTime": {
     "end_time": "2019-12-09T08:14:41.979615Z",
     "start_time": "2019-12-09T08:14:41.959Z"
    },
    "hidden": true
   },
   "outputs": [
    {
     "name": "stdout",
     "output_type": "stream",
     "text": [
      "[\"1111\", \"abAB\", \"cdCD\", \"efEF\"]\n"
     ]
    },
    {
     "data": {
      "text/plain": [
       "[\"1111\", \"abAB\", \"cdCD\", \"efEF\"]"
      ]
     },
     "execution_count": 3,
     "metadata": {},
     "output_type": "execute_result"
    }
   ],
   "source": [
    "comms = []\n",
    "(Gens.size/2 + 1).times do |i|\n",
    "  comms << Group.commutator(a[i], b[i])\n",
    "end\n",
    "p comms.map(&:show)"
   ]
  },
  {
   "cell_type": "code",
   "execution_count": 4,
   "metadata": {
    "ExecuteTime": {
     "end_time": "2019-12-09T08:14:41.986358Z",
     "start_time": "2019-12-09T08:14:41.965Z"
    },
    "hidden": true,
    "scrolled": true
   },
   "outputs": [
    {
     "name": "stderr",
     "output_type": "stream",
     "text": [
      "<main>:2: warning: already initialized constant Rseq\n",
      "<main>:2: warning: already initialized constant Rseq\n",
      "<main>:2: warning: previous definition of Rseq was here\n",
      "<main>:2: warning: already initialized constant Rseq\n",
      "<main>:2: warning: previous definition of Rseq was here\n"
     ]
    },
    {
     "name": "stdout",
     "output_type": "stream",
     "text": [
      "[\"a\", \"B\", \"A\", \"b\", \"c\", \"D\", \"C\", \"d\", \"e\", \"F\", \"E\", \"f\"]\n"
     ]
    }
   ],
   "source": [
    "Rseq = []\n",
    "(Gens.size/2).times do |i|\n",
    "  Rseq += [a[i+1], b[i+1].inverse, a[i+1].inverse, b[i+1]]\n",
    "end\n",
    "Rseq.freeze\n",
    "p Rseq.map(&:show) #.index('A')\n",
    "nil"
   ]
  },
  {
   "cell_type": "markdown",
   "metadata": {
    "heading_collapsed": true,
    "hidden": true
   },
   "source": [
    "## Random Word generator"
   ]
  },
  {
   "cell_type": "code",
   "execution_count": 5,
   "metadata": {
    "ExecuteTime": {
     "end_time": "2019-12-09T08:14:41.994666Z",
     "start_time": "2019-12-09T08:14:41.974Z"
    },
    "hidden": true
   },
   "outputs": [],
   "source": [
    "def word_generator(length=5)\n",
    "  rstr = ''\n",
    "  length.times{|k| rstr += Rseq.sample.to_s}\n",
    "  return Word.new(rstr)\n",
    "end\n",
    "def wordgen(length=5)\n",
    "  word_generator(length)\n",
    "end;nil"
   ]
  },
  {
   "cell_type": "markdown",
   "metadata": {
    "heading_collapsed": true
   },
   "source": [
    "# Goldman bracket & Turaev cobracket"
   ]
  },
  {
   "cell_type": "markdown",
   "metadata": {
    "heading_collapsed": true,
    "hidden": true
   },
   "source": [
    "## Partition class, Term class and Expansion class"
   ]
  },
  {
   "cell_type": "code",
   "execution_count": 621,
   "metadata": {
    "ExecuteTime": {
     "end_time": "2019-12-10T08:18:09.803382Z",
     "start_time": "2019-12-10T08:18:08.440Z"
    },
    "hidden": true
   },
   "outputs": [],
   "source": [
    "class Partition < Hash\n",
    "  def initialize(word: Word.new, div: 0)\n",
    "    self[:word] = word\n",
    "    self[:div] = div\n",
    "  end\n",
    "end\n",
    "\n",
    "#----------------------------------\n",
    "class Term < Hash\n",
    "  '''\n",
    "    A Hash with keys :coeff, :words and :divs\n",
    "  '''\n",
    "  def initialize(coeff: 0, words: [], divs: [])\n",
    "    begin      \n",
    "      self[:coeff] = coeff\n",
    "      self[:words] = words\n",
    "    rescue => e\n",
    "      p e.backtrace\n",
    "    end\n",
    "  end\n",
    "  \n",
    "  def cyclic_reduce\n",
    "    trm = self.class.new(coeff: self[:coeff], divs: self[:divs])\n",
    "    trm[:words] = self[:words].map(&:cyclic_reduce)\n",
    "    return trm\n",
    "  end\n",
    "  \n",
    "  def show\n",
    "    coeff = (self[:coeff] == 1) ? '' : \"(#{self[:coeff]})\"\n",
    "    body = self[:words].map(&:show).join(\"\\u{2227}\")\n",
    "    coeff + body\n",
    "  end\n",
    "  \n",
    "  def equiv?(a_term)\n",
    "    '''\n",
    "      return 1(match), -1(reversely match) and 0(not match).\n",
    "    '''\n",
    "    (self[:words].size).times do |k|\n",
    "      flags = self[:words].zip(a_term[:words].rotate(k)).map{|pair| pair[0].conjugate?(pair[1])}\n",
    "      if flags.all?{|tf| tf}\n",
    "        return (-1)**k\n",
    "        break\n",
    "      end\n",
    "    end\n",
    "    return 0\n",
    "  end\n",
    "end\n",
    "\n",
    "#-----------------------------------\n",
    "class Expansion < Array\n",
    "  '''\n",
    "    An Array of Terms\n",
    "  '''\n",
    "  def show(simplify_level=0)\n",
    "    expn = case simplify_level\n",
    "      when 1\n",
    "        self.delete_if{|t| t[:coeff] == 0}\n",
    "      when 2\n",
    "        self.simplify\n",
    "      else \n",
    "        self.rotate(0)\n",
    "      end\n",
    "    #---\n",
    "    mstr = expn.map{|term| term.show}.join(' + ')\n",
    "    return (mstr.empty?) ? '0' : mstr\n",
    "  end\n",
    "\n",
    "  def simplify\n",
    "    expn = self.class.new\n",
    "    monomials = self.map{|mono| mono.cyclic_reduce unless mono[:coeff] == 0}.compact\n",
    "    until monomials.size == 0\n",
    "      pop = monomials.pop\n",
    "      pop[:divs] = [pop[:divs]]\n",
    "      #---\n",
    "      monomials.each do |mono|\n",
    "        switch = mono.equiv?(pop)\n",
    "        unless switch == 0\n",
    "          pop[:coeff] += mono[:coeff] * switch\n",
    "          pop[:divs] << mono[:divs]\n",
    "          mono[:coeff] = nil\n",
    "        end\n",
    "      end\n",
    "      expn << pop if pop[:coeff] != 0\n",
    "      monomials.delete_if{|mono| mono[:coeff].nil?}\n",
    "    end\n",
    "    return (expn.empty?) ? (self.class.new << Term.new) : expn\n",
    "  end\n",
    "end; nil"
   ]
  },
  {
   "cell_type": "markdown",
   "metadata": {
    "heading_collapsed": true,
    "hidden": true
   },
   "source": [
    "### scratch"
   ]
  },
  {
   "cell_type": "code",
   "execution_count": 372,
   "metadata": {
    "hidden": true
   },
   "outputs": [
    {
     "name": "stdout",
     "output_type": "stream",
     "text": [
      "(0) |-reduce-> (0)\n",
      "(-1)aaDEdeFf |-reduce-> (-1)aaDEde\n",
      "FFf∧dB |-reduce-> F∧dB\n"
     ]
    }
   ],
   "source": [
    "terms = [\n",
    "  Term.new,\n",
    "  Term.new(words: [wordgen(8)], coeff: -1), \n",
    "  Term.new(words: [wordgen(3), wordgen(2)], coeff: 1)\n",
    "]\n",
    "\n",
    "terms.each{|t| printf t.show + ' |-reduce-> ' + t.cyclic_reduce.show + \"\\n\" }\n",
    "nil"
   ]
  },
  {
   "cell_type": "code",
   "execution_count": 352,
   "metadata": {
    "ExecuteTime": {
     "end_time": "2019-12-09T08:13:42.950101Z",
     "start_time": "2019-12-09T08:13:42.929Z"
    },
    "hidden": true
   },
   "outputs": [],
   "source": [
    "count = 10\n",
    "count.times do |k|\n",
    "  expn = Expansion.new() \n",
    "  5.times do |i|\n",
    "    cf = ( (-1)**(i.modulo(3)) - (-1)**((i+1).modulo(3)) )/2\n",
    "    ws = [3,3].map{|k| word_generator(k)}\n",
    "    expn << Term.new(divs: '', coeff: cf, words: ws)\n",
    "  end\n",
    "  if expn.simplify.size < 4\n",
    "    break\n",
    "  end\n",
    "end; nil"
   ]
  },
  {
   "cell_type": "markdown",
   "metadata": {
    "heading_collapsed": true,
    "hidden": true
   },
   "source": [
    "## Linking of a pair of divisions"
   ]
  },
  {
   "cell_type": "code",
   "execution_count": 620,
   "metadata": {
    "ExecuteTime": {
     "end_time": "2019-12-10T08:16:28.527784Z",
     "start_time": "2019-12-10T08:16:27.162Z"
    },
    "hidden": true
   },
   "outputs": [],
   "source": [
    "def lk(ptn1, ptn2)\n",
    "  '''\n",
    "    Input: Patitions {word: a Word, div: an pos. Integer}\n",
    "  '''\n",
    "  hashes = [ptn1, ptn2].map do |ptn|\n",
    "    w = ptn[:word].flatten\n",
    "    k = ptn[:div]\n",
    "    s = w.size\n",
    "    [\n",
    "      {index: ( k%s ) + 1, letter: w[ k%s ], sign: 1}, \n",
    "      {index: k, letter: w[k-1].inverse, sign: -1}\n",
    "    ]\n",
    "  end  \n",
    "  total = [0,1].product([0,1]).map{|i,j| epsilon(hashes[0][i], hashes[1][j])}.sum\n",
    "  return (-1)*(total/2)\n",
    "end\n",
    "\n",
    "#--------------------------------------------\n",
    "def epsilon(h1, h2)\n",
    "  '''\n",
    "    Input: Hashes {index: a pos. Integer, letter: a Letter, sign: 1 or -1}\n",
    "  '''\n",
    "  result = h1[:sign]*h2[:sign]\n",
    "  result *= unless (h1[:letter].show == h2[:letter].show)\n",
    "    (Rseq.index(h1[:letter]) < Rseq.index(h2[:letter])) ? 1 : -1\n",
    "  else\n",
    "    (h1[:index] < h2[:index]) ? h2[:sign] : h1[:sign]*(-1)\n",
    "  end\n",
    "  return result\n",
    "end; nil"
   ]
  },
  {
   "cell_type": "markdown",
   "metadata": {
    "heading_collapsed": true,
    "hidden": true
   },
   "source": [
    "## Goldman bracket"
   ]
  },
  {
   "cell_type": "code",
   "execution_count": 505,
   "metadata": {
    "ExecuteTime": {
     "end_time": "2019-12-09T08:13:42.951515Z",
     "start_time": "2019-12-09T08:13:42.936Z"
    },
    "hidden": true
   },
   "outputs": [],
   "source": [
    "def bracket(w1, w2)\n",
    "  \"\"\"\n",
    "  retern: an Expansion (an Array of Terms {coeff: *, words: *, divs: *})\n",
    "  \"\"\"\n",
    "  #-----\n",
    "  expn = Expansion.new\n",
    "  unless (w1.show == '1' || w2.show == '1')\n",
    "    ws = [w1, w2]\n",
    "    (w1.size.times.to_a).product(w2.size.times.to_a).each do |inds|\n",
    "      ptns = [0,1].map{|k| Partition.new(word: ws[k], div: inds[k]+1)}\n",
    "      cpws = [0,1].map{|k| ws[k].cyclic_permutation(inds[k]+1)}\n",
    "      expn << Term.new(divs: ptns.map{|p| p[:div]}, coeff: lk(*ptns), words: [cpws[0]*cpws[1]])\n",
    "    end\n",
    "  end\n",
    "  return expn\n",
    "end; nil"
   ]
  },
  {
   "cell_type": "markdown",
   "metadata": {
    "heading_collapsed": true,
    "hidden": true
   },
   "source": [
    "### scratch"
   ]
  },
  {
   "cell_type": "code",
   "execution_count": 522,
   "metadata": {
    "ExecuteTime": {
     "end_time": "2019-12-09T08:13:42.958597Z",
     "start_time": "2019-12-09T08:13:42.941Z"
    },
    "hidden": true,
    "scrolled": true
   },
   "outputs": [
    {
     "name": "stdout",
     "output_type": "stream",
     "text": [
      "aB, bFa\n",
      "-------\n",
      "coeff: 0, words: Ba.Fab, \n",
      "---\n",
      "coeff: 0, words: Ba.abF, \n",
      "---\n",
      "coeff: 1, words: Ba.bFa, \n",
      "---\n",
      "coeff: 1, words: aB.Fab, \n",
      "---\n",
      "coeff: -1, words: aB.abF, \n",
      "---\n",
      "coeff: 1, words: aB.bFa, \n",
      "---\n",
      "(0)Ba.Fab + (0)Ba.abF + Ba.bFa + aB.Fab + (-1)aB.abF + aB.bFa\n",
      "= aFa + aBFab\n"
     ]
    }
   ],
   "source": [
    "# w1 = Word.new(a[1], a[2], b[1].inverse)\n",
    "# w2 = Word.new(b[2], a[1], a[1].inverse) #, b[2])\n",
    "w1, w2 = wordgen(2), wordgen(3)\n",
    "printf [w1, w2].map(&:show).join(', ')  + \"\\n-------\\n\"\n",
    "\n",
    "bra = bracket(w1, w2)\n",
    "\n",
    "bra.each do |t|\n",
    "  t.each{|k,v| printf \"#{k}: \" + ((k == :words) ? v[0].show : v.to_s) + \", \"}\n",
    "  printf \"\\n---\\n\"\n",
    "end\n",
    "puts bra.show, \"= \" + bra.show(2)\n",
    "nil"
   ]
  },
  {
   "cell_type": "markdown",
   "metadata": {
    "heading_collapsed": true,
    "hidden": true
   },
   "source": [
    "## Turaev cobraket"
   ]
  },
  {
   "cell_type": "code",
   "execution_count": 507,
   "metadata": {
    "ExecuteTime": {
     "end_time": "2019-12-09T08:13:42.961571Z",
     "start_time": "2019-12-09T08:13:42.946Z"
    },
    "code_folding": [],
    "hidden": true
   },
   "outputs": [],
   "source": [
    "def cobracket(myw, verbose: false)\n",
    "  \"\"\"\n",
    "  return: an Expansion (an Array of Terms {coeff: *, words: *, divs: *})\n",
    "  \"\"\"\n",
    "  expn = Expansion.new\n",
    "  unless myw.show == '1' \n",
    "    divs_combis = (1..myw.size).to_a.combination(2)  #2つの div の組み合わせの全体\n",
    "    divs_combis.each do |combi|\n",
    "      #--- the pair of partitions ---\n",
    "      ptns = combi.map{|k| Partition.new(word: myw, div: k)} \n",
    "      #--- divide the word --- \n",
    "      facs = myw.flatten.factors\n",
    "      words = Array.new(2)\n",
    "      words[0] = Word.new(facs[0..combi[0]-1]+facs[combi[1]..-1])\n",
    "      words[1] = Word.new(facs[combi[0]..combi[1]-1])    \n",
    "        #[TODO] 上の2つの Word の定義に cyclic_permutation を使えないか?\n",
    "      expn << Term.new(divs: combi, coeff: lk(*ptns), words: words)\n",
    "    end\n",
    "  end\n",
    "  #-----\n",
    "  return expn\n",
    "end; nil"
   ]
  },
  {
   "cell_type": "markdown",
   "metadata": {
    "heading_collapsed": true,
    "hidden": true
   },
   "source": [
    "### scratch"
   ]
  },
  {
   "cell_type": "code",
   "execution_count": 519,
   "metadata": {
    "ExecuteTime": {
     "end_time": "2019-12-09T08:13:42.968161Z",
     "start_time": "2019-12-09T08:13:42.952Z"
    },
    "hidden": true,
    "scrolled": true
   },
   "outputs": [
    {
     "name": "stdout",
     "output_type": "stream",
     "text": [
      "cDacd\n",
      "-------\n",
      "(0)cacd∧D + (0)ccd∧Da + cd∧Dac + (0)c∧Dacd + (0)cDcd∧a + cDd∧ac + (0)cD∧acd + (0)cDad∧c + cDa∧cd + (0)cDac∧d\n",
      "= c∧ac\n"
     ]
    }
   ],
   "source": [
    "#mw = Word.new(b[1], a[1], b[1]) #a1*Group.commutator(b[1], a[2]) #comms[1] #\n",
    "mw = wordgen(5)\n",
    "printf mw.show + \"\\n-------\\n\"\n",
    "\n",
    "cobra = cobracket(mw, verbose: false) #true) #\n",
    "\n",
    "# cobra.each do |t|\n",
    "#   t.each do |k,v| \n",
    "#     p \"#{k}: \" + ((k == :words) ? v[0].show : v.to_s)\n",
    "#   end\n",
    "#   printf \"---\\n\"\n",
    "# end\n",
    "\n",
    "puts cobra.show, \"= \" + cobra.show(2)\n",
    "nil"
   ]
  },
  {
   "cell_type": "markdown",
   "metadata": {
    "heading_collapsed": true
   },
   "source": [
    "# Conditions"
   ]
  },
  {
   "cell_type": "markdown",
   "metadata": {
    "heading_collapsed": true,
    "hidden": true
   },
   "source": [
    "## Jacobi Identity"
   ]
  },
  {
   "cell_type": "markdown",
   "metadata": {
    "hidden": true
   },
   "source": [
    "$$\\nabla\\circ(\\nabla\\otimes 1)\\circ N = 0$$"
   ]
  },
  {
   "cell_type": "code",
   "execution_count": 535,
   "metadata": {
    "ExecuteTime": {
     "end_time": "2019-12-09T08:13:42.990404Z",
     "start_time": "2019-12-09T08:13:42.967Z"
    },
    "hidden": true
   },
   "outputs": [
    {
     "name": "stdout",
     "output_type": "stream",
     "text": [
      "A ⊗ Aef ⊗ aCD  |---> \n",
      "------\n",
      "\t∇(A ⊗ Aef) ⊗ aCD =\n",
      "\t\t+ ((-1)AAef.CDa + AAef.aCD + (-1)AefA.CDa + AefA.aCD) ⊗ aCD\n",
      "\t\t+ ((-1)AeAf.CDa + AeAf.aCD + (-1)AfAe.CDa + AfAe.aCD) ⊗ aCD\n",
      "\t\t+ ((-1)AefA.CDa + AefA.aCD + (-1)AAef.CDa + AAef.aCD) ⊗ aCD\n",
      "\t∇(Aef ⊗ aCD) ⊗ A =\n",
      "\t\t+ ((-1)aefACD.A + efACDa.A) ⊗ A\n",
      "\t\t+ ((-1)aCefAD.A + CefADa.A) ⊗ A\n",
      "\t\t+ ((-1)aCDefA.A + CDefAa.A) ⊗ A\n",
      "\t\t+ ((-1)afAeCD.A + fAeCDa.A) ⊗ A\n",
      "\t\t+ ((-1)aCfAeD.A + CfAeDa.A) ⊗ A\n",
      "\t\t+ ((-1)aCDfAe.A + CDfAea.A) ⊗ A\n",
      "\t\t+ ((-1)aAefCD.A + AefCDa.A) ⊗ A\n",
      "\t\t+ ((-1)aCAefD.A + CAefDa.A) ⊗ A\n",
      "\t\t+ ((-1)aCDAef.A + CDAefa.A) ⊗ A\n",
      "\t∇(aCD ⊗ A) ⊗ Aef =\n",
      "\t\t+ ((-1)aACD.Aef + ACDa.Aef + (-1)CDaA.efA + CDaA.Aef) ⊗ Aef\n",
      "\t\t+ ((-1)aCAD.Aef + CADa.Aef + (-1)DaCA.efA + DaCA.Aef) ⊗ Aef\n",
      "\t\t+ (CDAa.Aef + (-1)aCDA.efA) ⊗ Aef\n",
      "---------\n",
      "\"AAef.CDa + (-1)AAef.aCD + AefA.CDa + (-1)AefA.aCD + (-1)AefA.CDa + AefA.aCD + (-1)AAef.CDa + AAef.aCD + aAefCD.A + (-1)AefCDa.A + (-1)aCDAef.A + CDAefa.A + (-1)aACD.Aef + ACDa.Aef + (-1)CDaA.efA + CDaA.Aef + (-1)CDAa.Aef + aCDA.efA\"\n",
      "---------\n",
      "\"(0)\"\n"
     ]
    }
   ],
   "source": [
    "three_words = Array.new(3)\n",
    "max_length = 3\n",
    "\n",
    "three_words.map!{|w| word_generator(rand(1..max_length))}\n",
    "puts three_words.map(&:show).join(\" \\u{2297} \") + \"  |---> \" + \"\\n------\"\n",
    "\n",
    "total = Expansion.new\n",
    "3.times do |k|\n",
    "  bra = bracket(three_words[0],three_words[1])\n",
    "  puts \"\\t\\u{2207}(\" + three_words[0..1].map(&:show).join(\" \\u{2297} \") + \") \\u{2297} \" + three_words[2].show + \" =\"\n",
    "  bra.each do |h|\n",
    "    bra2 = bracket(h[:words][0], three_words[2])\n",
    "    puts \"\\t\\t+ (#{bra2.show(1)}) \\u{2297} #{three_words[2].show}\"\n",
    "    bra2.each do |hh|\n",
    "      hh[:coeff] *= h[:coeff]\n",
    "      total << hh\n",
    "    end\n",
    "  end\n",
    "  three_words.rotate!\n",
    "end\n",
    "\n",
    "printf \"---------\\n\"\n",
    "p total.show(1)\n",
    "printf \"---------\\n\"\n",
    "p total.show(2)\n",
    "nil"
   ]
  },
  {
   "cell_type": "code",
   "execution_count": 541,
   "metadata": {
    "ExecuteTime": {
     "end_time": "2019-12-09T08:13:42.994767Z",
     "start_time": "2019-12-09T08:13:42.973Z"
    },
    "hidden": true
   },
   "outputs": [],
   "source": [
    "three_words = Array.new(3)\n",
    "max_length = 3\n",
    "count = 0 #500\n",
    "\n",
    "count.times do |k|\n",
    "  three_words.map!{|w| word_generator(rand(1..max_length))}\n",
    "  total = Expansion.new\n",
    "  3.times do |k|\n",
    "    bra = bracket(three_words[0],three_words[1])\n",
    "#     puts \"\\u{2207}(\" + three_words[0..1].map(&:show).join(\" \\u{2297} \") + \") \\u{2297} \" + three_words[2].show + \" =\"\n",
    "    bra.each do |h|\n",
    "      bra2 = bracket(h[:words][0], three_words[2])\n",
    "#       puts \"+ (#{bra2.show}) \\u{2297} #{three_words[2].show}\"\n",
    "      bra2.each do |hh|\n",
    "        hh[:coeff] *= h[:coeff]\n",
    "        total << hh\n",
    "      end\n",
    "    end\n",
    "    three_words.rotate!\n",
    "  end\n",
    "  result = total.show(2)\n",
    "  puts three_words.map(&:show).join(\" \\u{2297} \") + \"  |--> \" + result if result != '(0)'\n",
    "end; nil"
   ]
  },
  {
   "cell_type": "markdown",
   "metadata": {
    "heading_collapsed": true,
    "hidden": true
   },
   "source": [
    "## Involutivity for $\\nabla$ and $\\delta$"
   ]
  },
  {
   "cell_type": "markdown",
   "metadata": {
    "hidden": true
   },
   "source": [
    "$$\\nabla\\circ \\delta = 0$$"
   ]
  },
  {
   "cell_type": "code",
   "execution_count": 618,
   "metadata": {
    "ExecuteTime": {
     "end_time": "2019-12-10T08:06:30.231236Z",
     "start_time": "2019-12-10T08:06:28.845Z"
    },
    "hidden": true
   },
   "outputs": [
    {
     "name": "stdout",
     "output_type": "stream",
     "text": [
      "δ(aBefDcdE) = aBDcdE∧ef + (-1)aBE∧efDcd + (-1)aB∧efDcdE + aBeE∧fDcd + aBefcdE∧D + aBef∧DcdE + aBefDdE∧c + aBefDE∧cd + (-1)aBefDcd∧E\n",
      "---\n",
      "\t∇(aBDcdE ⊗ ef) = (-1)EaBDcd.fe\n",
      "\t∇(aBE ⊗ efDcd) = EaB.fDcde + aBE.Dcdef + (-1)aBE.efDcd\n",
      "\t∇(aB ⊗ efDcdE) = 0\n",
      "\t∇(aBeE ⊗ fDcd) = eEaB.Dcdf + (-1)eEaB.fDcd + (-1)aBeE.Dcdf + aBeE.fDcd\n",
      "\t∇(aBefcdE ⊗ D) = (-1)dEaBefc.D\n",
      "\t∇(aBef ⊗ DcdE) = (-1)efaB.EDcd + faBe.EDcd + aBef.EDcd\n",
      "\t∇(aBefDdE ⊗ c) = DdEaBef.c + (-1)EaBefDd.c\n",
      "\t∇(aBefDE ⊗ cd) = EaBefD.dc\n",
      "\t∇(aBefDcd ⊗ E) = efDcdaB.E + (-1)fDcdaBe.E + (-1)DcdaBef.E\n",
      "-----\n",
      "= (-1)EaBDcd.fe + EaB.fDcde + aBE.Dcdef + (-1)aBE.efDcd + eEaB.Dcdf + (-1)eEaB.fDcd + (-1)aBeE.Dcdf + aBeE.fDcd + (-1)dEaBefc.D + (-1)efaB.EDcd + faBe.EDcd + aBef.EDcd + DdEaBef.c + (-1)EaBefDd.c + EaBefD.dc + efDcdaB.E + (-1)fDcdaBe.E + (-1)DcdaBef.E  =  (0)\n"
     ]
    }
   ],
   "source": [
    "length = 8\n",
    "myw = word_generator(length) #Word.new('ffA')\n",
    "#puts myw.show + \"\\n======\"\n",
    "\n",
    "cobra = cobracket(myw)\n",
    "puts \"\\u{03B4}(#{myw.show}) = \" + cobra.show(1)\n",
    "puts \"---\"\n",
    "\n",
    "total = cobra.each_with_object(Expansion.new) do |h, e|\n",
    "  coeff = h[:coeff]\n",
    "  bra = bracket(*h[:words])\n",
    "  bra.each do |mono|\n",
    "    mono[:coeff] *= coeff\n",
    "    e << mono\n",
    "  end\n",
    "  #--- display ---\n",
    "  tensor = h[:words].map(&:show).join(\" \\u{2297} \")\n",
    "  puts \"\\t\\u{2207}(#{tensor}) = #{bra.show(1)}\"\n",
    "  #---------------\n",
    "end\n",
    "\n",
    "puts \"-----\\n= \" + total.show(1) + \"  =  \" + total.show(2)\n",
    "nil"
   ]
  },
  {
   "cell_type": "code",
   "execution_count": 605,
   "metadata": {
    "ExecuteTime": {
     "end_time": "2019-12-10T08:04:42.744969Z",
     "start_time": "2019-12-10T08:04:40.790Z"
    },
    "hidden": true
   },
   "outputs": [],
   "source": [
    "count = 100 #10000\n",
    "length = 5 #10\n",
    "count.times do |k|\n",
    "  myw = word_generator(length)\n",
    "  total = cobracket(myw).each_with_object(Expansion.new) do |h, expn|\n",
    "    bracket(*h[:words]).each do |mono|\n",
    "      mono[:coeff] *= h[:coeff]\n",
    "      expn << mono\n",
    "    end\n",
    "  end\n",
    "  result = total.show(2)\n",
    "  p myw.show + \" |--> \" + result if result != \"(0)\"\n",
    "end; nil"
   ]
  },
  {
   "cell_type": "markdown",
   "metadata": {
    "heading_collapsed": true,
    "hidden": true
   },
   "source": [
    "## Compatibility condition for $\\nabla$ and $\\delta$"
   ]
  },
  {
   "cell_type": "markdown",
   "metadata": {
    "hidden": true
   },
   "source": [
    "$\\forall v,w \\in \\pi$,\n",
    "$$\n",
    "\\delta([v,w]) = w\\cdot\\delta(v)- v\\cdot\\delta(w),\n",
    "$$\n",
    "where \n",
    "$$\n",
    "u\\cdot(x\\otimes y) = [u,x]\\otimes y + x\\otimes[u,y].\n",
    "$$\n",
    "**Note**: From the last formula, we immediately have the following:\n",
    "$$\n",
    "u \\cdot(x\\wedge y) = [u,x]\\wedge y - [u,y]\\wedge x.\n",
    "$$"
   ]
  },
  {
   "cell_type": "code",
   "execution_count": 634,
   "metadata": {
    "ExecuteTime": {
     "end_time": "2019-12-10T08:34:02.207970Z",
     "start_time": "2019-12-10T08:33:58.000Z"
    },
    "hidden": true,
    "scrolled": false
   },
   "outputs": [
    {
     "name": "stdout",
     "output_type": "stream",
     "text": [
      "BEf ⊗ afDDc\n",
      "\n",
      "Left-hand Eq.:  BEfafDD∧c + BEfafD∧Dc + BEfafDc∧D + BEfaf∧DDc + BEfafc∧DD + (-1)BEfa∧fDDc + BEffDDc∧a + (-1)BEafDDc∧f + (-1)BfafDDc∧E + (-1)BEfDDca∧f + BEDDcaf∧f + BEffDDa∧c + BEffDa∧Dc + BEffDca∧D + BEffa∧DDc + BEffca∧DD + (-1)BfDDca∧Ef + (-1)BffDDca∧E + (-1)fBEDDcf∧a + (-1)fBEDDaf∧c + (-1)fBEDaf∧Dc + (-1)fBEDcaf∧D + (-1)fBEaf∧DDc + (-1)fBEcaf∧DD + fB∧EDDcaf + (-1)fEDDcaf∧B + (-1)EfBafDD∧c + (-1)EfBafD∧Dc + (-1)EfBafDc∧D + (-1)EfBaf∧DDc + (-1)EfBafc∧DD + (-1)EfBfDDc∧a + (-1)E∧fBafDDc + EBafDDc∧f\n",
      "---\n",
      "Right-hand Eq.:  (-1)DDcaffE∧B + (-1)DDcafE∧Bf + (-1)afDDcBE∧f + afDDcEB∧f + DDcafBE∧f + (-1)fDDcaBE∧f + (-1)fDDcaB∧Ef + (-1)afDDcBf∧E + afDDcfB∧E + (-1)fDDcaBf∧E + BEffDDc∧a + (-1)fBEDDcf∧a + (-1)EfBfDDc∧a + BEfafDD∧c + BEffDDa∧c + (-1)fBEDDaf∧c + (-1)EfBafDD∧c + BEfafD∧Dc + BEffDa∧Dc + (-1)fBEDaf∧Dc + (-1)EfBafD∧Dc + BEfafDc∧D + BEffDca∧D + (-1)fBEDcaf∧D + (-1)EfBafDc∧D + BEffa∧DDc + (-1)fBEaf∧DDc + fBEfa∧DDc + (-1)EfBaf∧DDc + BEfafc∧DD + BEffca∧DD + (-1)fBEcaf∧DD + (-1)EfBafc∧DD + (-1)BEfa∧fDDc"
     ]
    },
    {
     "data": {
      "text/plain": [
       "\"(0)\""
      ]
     },
     "execution_count": 634,
     "metadata": {},
     "output_type": "execute_result"
    }
   ],
   "source": [
    "v, w = word_generator(3), word_generator(5) #samples[:s2][0] #Word.new(a[1], a[2]),samples[:s4][0] #Word.new(b[1])\n",
    "puts \"#{v} \\u{2297} #{w}\"\n",
    "\n",
    "#--- Left-hand eq. -------------------\n",
    "lhe = Expansion.new\n",
    "bra = bracket(v, w)#; puts \"\\u{2207}(#{v}, #{w}) = \" + bra.show\n",
    "bra.each do |trm|\n",
    "  cobra = cobracket(trm[:words][0])\n",
    "#   puts \"\\t(#{trm[:coeff]})\\u{03B4}(#{trm[:words][0].show}) = \" + cobra.show(1) if trm[:coeff] != 0\n",
    "  cobra.each do |mono|\n",
    "    mono[:coeff] *= trm[:coeff]\n",
    "#     puts \"\\t\\t(#{mono[:coeff]})#{mono[:words].map(&:show).join(\" \\u{2227} \")}\" if mono[:coeff] != 0\n",
    "    lhe << mono\n",
    "  end\n",
    "end\n",
    "printf \"\\nLeft-hand Eq.:  \" + lhe.show(2) + \"\\n---\"\n",
    "\n",
    "#--- Right-hand eq. -------------------\n",
    "rhe = Expansion.new\n",
    "ijs = [0,1].product([0,1])\n",
    "ijs.each do |i,j|\n",
    "  pair01, sign01 = [v,w].rotate(i), (-1)**i\n",
    "  #---\n",
    "  u = pair01[0]\n",
    "  cobra = cobracket(pair01[1])\n",
    "  #printf \"#{u}.\\u{03B4}(#{pair01[1].show}) = #{u}.(#{cobra.show(1)})\\n---\\n\"\n",
    "  cobra.each do |tm|\n",
    "    pair02, sign02 = tm[:words].rotate(j), (-1)**j\n",
    "    #---\n",
    "    x, y = pair02[0], pair02[1]\n",
    "    bra = bracket(u, x)\n",
    "    #; printf \"\\t[#{u}, #{x}] \\u{2297} #{y} \\n\" + \"\\t=(#{bra.show(1)}) \\u{2297} #{y}\"\n",
    "    bra.each do |mono|\n",
    "      term = Term.new\n",
    "      term[:coeff] = mono[:coeff]*tm[:coeff]*sign01*sign02\n",
    "      term[:words] = [mono[:words][0], y]\n",
    "      term[:divs] = mono[:divs]\n",
    "      rhe << term\n",
    "    end\n",
    "  end\n",
    "#   printf \"\\n---\\n\"\n",
    "end\n",
    "#-----\n",
    "printf \"\\nRight-hand Eq.:  \"+ rhe.show(2)\n",
    "\n",
    "#-----------------------\n",
    "rhe.each do |t|\n",
    "  t[:coeff] *= -1\n",
    "  lhe << t\n",
    "end\n",
    "lhe.show(2)"
   ]
  },
  {
   "cell_type": "markdown",
   "metadata": {
    "hidden": true
   },
   "source": [
    "An example whose results of the both side of the compatibility condition are very long."
   ]
  },
  {
   "cell_type": "code",
   "execution_count": 579,
   "metadata": {
    "ExecuteTime": {
     "end_time": "2019-12-10T07:59:31.910390Z",
     "start_time": "2019-12-10T07:59:30.560Z"
    },
    "hidden": true
   },
   "outputs": [],
   "source": [
    "v,w = Word.new('fbC'), Word.new('CfDBe')\n",
    "nil"
   ]
  },
  {
   "cell_type": "markdown",
   "metadata": {
    "heading_collapsed": true
   },
   "source": [
    "# Experiments"
   ]
  },
  {
   "cell_type": "markdown",
   "metadata": {
    "hidden": true
   },
   "source": [
    "cobracket calclation samples"
   ]
  },
  {
   "cell_type": "code",
   "execution_count": 637,
   "metadata": {
    "ExecuteTime": {
     "end_time": "2019-12-10T08:41:27.812644Z",
     "start_time": "2019-12-10T08:41:25.404Z"
    },
    "hidden": true,
    "scrolled": false
   },
   "outputs": [
    {
     "name": "stdout",
     "output_type": "stream",
     "text": [
      "--- s0 ---\n",
      " 1  |--δ-->  (0)\n",
      "a  |--δ-->  (0)\n",
      "a.d  |--δ-->  (-1)a∧d\n",
      "a.D  |--δ-->  (0)\n",
      "a.abA.aBA  |--δ-->  1∧a\n",
      "--- s1 ---\n",
      " a.a  |--δ-->  a∧a\n",
      "a.a.a  |--δ-->  (0)\n",
      "a.a.a.a  |--δ-->  aa∧aa\n",
      "abA  |--δ-->  1∧b\n",
      "abAB  |--δ-->  (0)\n",
      "b.a.b  |--δ-->  (0)\n",
      "--- s2 ---\n",
      " a.dcDC  |--δ-->  (-1)a∧dcDC\n",
      "a.aBA.dcDC.abA  |--δ-->  1∧aBAdcDCab\n",
      "a.dcDC.cdCDaBAdcDCabA  |--δ-->  (2)1∧aBAdcDCab\n",
      "aBAdcDCab  |--δ-->  (0)\n",
      "--- s3 ---\n",
      " a.cdCD  |--δ-->  (0)\n",
      "a.cdCD.cdCD  |--δ-->  acdCD∧cdCD\n",
      "a.cdCD.abA.cdCD.aBA  |--δ-->  (0)\n",
      "a.cdCD.cdCD.dcDCabAcdCDaBA  |--δ-->  (0)\n",
      "--- s4 ---\n",
      " a.c.c.c  |--δ-->  acc∧c + ac∧cc\n",
      "a.cD.cD.cD  |--δ-->  acDcD∧cD + acD∧cDcD\n",
      "--- s5 ---\n",
      " a.ceCE  |--δ-->  (-1)aceC∧E + ace∧CE + (-1)ac∧C\n",
      "a.cdCD.efEF.ceCE.feFEdcDC  |--δ-->  (-1)acdCDefEFceCfeFEdcDC∧E + acdCDefEFcefeFEdcDC∧CE + (-1)acdCDefEFcfeFEdcDC∧C\n",
      "--- s6 ---\n",
      " a.bcBC  |--δ-->  (-1)abcB∧C + abc∧BC + (-1)abC∧cB\n",
      "a.A.b.a  |--δ-->  (0)\n",
      "abA.A.a  |--δ-->  1∧b\n",
      "abA.aBA  |--δ-->  (0)\n",
      "abBd  |--δ-->  (-1)a∧d + (-1)ad∧1\n",
      "--- s7 ---\n",
      " a.Bab.a.B  |--δ-->  (0)\n",
      "a.b.a.B.a.B  |--δ-->  (0)\n",
      "a.aBA.a.B  |--δ-->  aB∧aB\n",
      "aaBB  |--δ-->  (-1)aB∧aB\n",
      "a.a.D.D  |--δ-->  aaD∧D + aDD∧a\n"
     ]
    }
   ],
   "source": [
    "a1, b1 = Word.new(a[1]), Word.new(b[1])\n",
    "c = (a1*Word.new(b[1])*(a1.inverse)).flatten\n",
    "\n",
    "samples = {\n",
    "  s0: [\n",
    "    Word.new,\n",
    "    a1, \n",
    "    a1*Word.new(b[2]),\n",
    "    a1*(Word.new(b[2]).inverse),\n",
    "    a1*c*(c.inverse),\n",
    "  ],\n",
    "  s1: [\n",
    "    a1^2,\n",
    "    a1^3,\n",
    "    a1^4,\n",
    "    c,\n",
    "    comms[1],\n",
    "    Word.new(b[1])*a1*Word.new(b[1])\n",
    "  ],\n",
    "  s2: [\n",
    "    a1*(comms[2].inverse),\n",
    "    a1*(c.inverse)*(comms[2].inverse)*c,\n",
    "    a1*(comms[2].inverse)*Group.commutator(comms[2], c.inverse),\n",
    "    (a1*(comms[2].inverse)*Group.commutator(comms[2], c.inverse)).cyclic_reduce\n",
    "  ],\n",
    "  s3: [\n",
    "    a1*comms[2],\n",
    "    a1*(comms[2]^2),\n",
    "    a1*comms[2]*c*comms[2]*(c.inverse),\n",
    "    a1*(comms[2]^2)*Group.commutator(comms[2].inverse,c)\n",
    "  ],\n",
    "  s4: [\n",
    "    a1*(Word.new(a[2])^3),\n",
    "    a1*(Word.new(a[2], b[2].inverse)^3)\n",
    "  ],\n",
    "  s5: [\n",
    "    a1*Group.commutator(a[2], a[3]),\n",
    "    a1*(comms[2]*comms[3])*Group.commutator(a[2], a[3])*((comms[2]*comms[3]).inverse)\n",
    "  ],\n",
    "  s6: [\n",
    "    a1*Group.commutator(b[1], a[2]),\n",
    "    a1*(a1.inverse)*Word.new(b[1])*a1,\n",
    "    c*(a1.inverse)*a1,\n",
    "    c*(c.inverse),\n",
    "    Word.new(a[1], b[1], b[1].inverse, b[2])\n",
    "  ],\n",
    "  s7: [\n",
    "    a1*(Group.conjugate(a1, b1.inverse))*a1*(b1.inverse),\n",
    "    a1*b1*((a1*(b1.inverse))^2),\n",
    "    a1*Group.conjugate(b1.inverse, a1)*a1*(b1.inverse),\n",
    "    (a1*Group.conjugate(b1.inverse, a1)*a1*(b1.inverse)).contract,\n",
    "    a1*a1*(Word.new(b[2].inverse)^2)\n",
    "    ]\n",
    "  }\n",
    "\n",
    "arr = samples #.slice(:s7) #:s0, :s6) #:s2) #, :s3) #:s0, :s1) #\n",
    "arr.each do |k, v|\n",
    "  printf \"--- #{k} ---\\n \"\n",
    "  v.each{|s| puts s.show + \"  |--\\u{03B4}-->  \" + cobracket(s).show(2) }\n",
    "end;nil"
   ]
  },
  {
   "cell_type": "markdown",
   "metadata": {},
   "source": [
    "# TODO"
   ]
  },
  {
   "cell_type": "markdown",
   "metadata": {},
   "source": [
    "* [x] Expansion#show のオプションに \"係数 0 の項だけ消去\" を加えたい。\n",
    "* [x] Compatibility が全然ダメ。\n",
    "* [x] aaa などの Word について、動作が少し変。\n",
    "* [x] Extension class のメソッドとして、係数 0 を消去したり、共通項で整理したりできるようにしたい。\n",
    "* [ ] cobracket を再帰的に作用させて、完全に分解することに何らかの意味があるか?\n",
    "* [ ] $\\ell_{2}$ の計算と cobracket との関係は? とくに両者にある division について。"
   ]
  }
 ],
 "metadata": {
  "kernelspec": {
   "display_name": "Ruby 2.6.3",
   "language": "ruby",
   "name": "ruby"
  },
  "language_info": {
   "file_extension": ".rb",
   "mimetype": "application/x-ruby",
   "name": "ruby",
   "version": "2.6.3"
  },
  "toc": {
   "base_numbering": 1,
   "nav_menu": {},
   "number_sections": true,
   "sideBar": false,
   "skip_h1_title": false,
   "title_cell": "Table of Contents",
   "title_sidebar": "Contents",
   "toc_cell": false,
   "toc_position": {
    "height": "434px",
    "left": "10px",
    "top": "150px",
    "width": "439px"
   },
   "toc_section_display": true,
   "toc_window_display": false
  },
  "varInspector": {
   "cols": {
    "lenName": 16,
    "lenType": 16,
    "lenVar": 40
   },
   "kernels_config": {
    "python": {
     "delete_cmd_postfix": "",
     "delete_cmd_prefix": "del ",
     "library": "var_list.py",
     "varRefreshCmd": "print(var_dic_list())"
    },
    "r": {
     "delete_cmd_postfix": ") ",
     "delete_cmd_prefix": "rm(",
     "library": "var_list.r",
     "varRefreshCmd": "cat(var_dic_list()) "
    }
   },
   "types_to_exclude": [
    "module",
    "function",
    "builtin_function_or_method",
    "instance",
    "_Feature"
   ],
   "window_display": false
  }
 },
 "nbformat": 4,
 "nbformat_minor": 2
}
