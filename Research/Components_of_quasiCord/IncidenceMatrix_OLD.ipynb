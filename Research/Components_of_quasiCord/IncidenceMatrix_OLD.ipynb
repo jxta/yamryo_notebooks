{
 "cells": [
  {
   "cell_type": "markdown",
   "metadata": {},
   "source": [
    "# Quasi-cord の接続行列"
   ]
  },
  {
   "cell_type": "code",
   "execution_count": 1,
   "metadata": {
    "ExecuteTime": {
     "end_time": "2019-09-11T01:04:19.341835Z",
     "start_time": "2019-09-11T01:04:19.157248Z"
    }
   },
   "outputs": [],
   "source": [
    "import numpy as np"
   ]
  },
  {
   "cell_type": "markdown",
   "metadata": {},
   "source": [
    "## Quasi-cord 定義"
   ]
  },
  {
   "cell_type": "code",
   "execution_count": 2,
   "metadata": {
    "ExecuteTime": {
     "end_time": "2019-09-11T01:04:19.353173Z",
     "start_time": "2019-09-11T01:04:19.344895Z"
    }
   },
   "outputs": [],
   "source": [
    "c = [1,1,1,1] \n",
    "#[3,2,1,4] #[3,4,5,2]\n",
    "s = sum(c) + 1"
   ]
  },
  {
   "cell_type": "code",
   "execution_count": 3,
   "metadata": {
    "ExecuteTime": {
     "end_time": "2019-09-11T01:04:19.363928Z",
     "start_time": "2019-09-11T01:04:19.357365Z"
    }
   },
   "outputs": [
    {
     "name": "stdout",
     "output_type": "stream",
     "text": [
      "5\n"
     ]
    }
   ],
   "source": [
    "print(s)"
   ]
  },
  {
   "cell_type": "markdown",
   "metadata": {},
   "source": [
    "## 接続行列の生成"
   ]
  },
  {
   "cell_type": "code",
   "execution_count": 4,
   "metadata": {
    "ExecuteTime": {
     "end_time": "2019-09-11T01:04:19.381978Z",
     "start_time": "2019-09-11T01:04:19.372010Z"
    }
   },
   "outputs": [
    {
     "name": "stdout",
     "output_type": "stream",
     "text": [
      "[[1]\n",
      " [1]\n",
      " [0]\n",
      " [0]\n",
      " [0]]\n"
     ]
    }
   ],
   "source": [
    "sh = [0, -(2*c[1]+1), -2*c[2], 0]\n",
    "\n",
    "for i in range(len(c)):\n",
    "    P1 = np.roll(np.eye(s, c[i], dtype=int), shift=sh[i], axis=0)\n",
    "    P2 = np.roll(np.flip(P1, axis=1), shift=c[i], axis=0)\n",
    "    P = P1+P2\n"
   ]
  },
  {
   "cell_type": "code",
   "execution_count": 4,
   "metadata": {
    "ExecuteTime": {
     "end_time": "2019-09-11T01:04:19.381978Z",
     "start_time": "2019-09-11T01:04:19.372010Z"
    }
   },
   "outputs": [
    {
     "name": "stdout",
     "output_type": "stream",
     "text": [
      "[[1]\n",
      " [1]\n",
      " [0]\n",
      " [0]\n",
      " [0]]\n"
     ]
    }
   ],
   "source": [
    "T1 = np.roll(np.eye(s, c[0], dtype=int), shift=0, axis=0)\n",
    "T2 = np.roll(np.flip(T1, axis=1), shift=c[0], axis=0)\n",
    "T = T1+T2; print(T)"
   ]
  },
  {
   "cell_type": "code",
   "execution_count": 5,
   "metadata": {
    "ExecuteTime": {
     "end_time": "2019-09-11T01:04:19.404549Z",
     "start_time": "2019-09-11T01:04:19.391467Z"
    }
   },
   "outputs": [
    {
     "name": "stdout",
     "output_type": "stream",
     "text": [
      "[[0]\n",
      " [0]\n",
      " [1]\n",
      " [0]\n",
      " [1]]\n"
     ]
    }
   ],
   "source": [
    "L1 = np.roll(np.eye(s, c[1], dtype=int), shift=-(2*c[1]+1), axis=0)\n",
    "L2 = np.roll(np.flip(L1, axis=1), shift=c[1]+1, axis=0)\n",
    "L = L1 + L2; print(L)"
   ]
  },
  {
   "cell_type": "code",
   "execution_count": 6,
   "metadata": {
    "ExecuteTime": {
     "end_time": "2019-09-11T01:04:19.418456Z",
     "start_time": "2019-09-11T01:04:19.408472Z"
    }
   },
   "outputs": [
    {
     "name": "stdout",
     "output_type": "stream",
     "text": [
      "[[ 0]\n",
      " [ 0]\n",
      " [ 0]\n",
      " [-1]\n",
      " [-1]]\n"
     ]
    }
   ],
   "source": [
    "B1 = np.roll(np.eye(s, c[2], dtype=int), shift=-2*c[2], axis=0) * (-1)\n",
    "B2 = np.roll(np.flip(B1, axis=1), shift=c[2], axis=0)\n",
    "B = B1 + B2; print(B)"
   ]
  },
  {
   "cell_type": "code",
   "execution_count": 7,
   "metadata": {
    "ExecuteTime": {
     "end_time": "2019-09-11T01:04:19.440796Z",
     "start_time": "2019-09-11T01:04:19.421727Z"
    }
   },
   "outputs": [
    {
     "name": "stdout",
     "output_type": "stream",
     "text": [
      "[[-1]\n",
      " [ 0]\n",
      " [-1]\n",
      " [ 0]\n",
      " [ 0]]\n"
     ]
    }
   ],
   "source": [
    "R1 = np.roll(np.eye(s, c[3], dtype=int), shift=0, axis=0) * (-1)\n",
    "R2 = np.roll(np.flip(R1, axis=1), shift=c[3]+1, axis=0)\n",
    "R = R1 + R2; print(R)"
   ]
  },
  {
   "cell_type": "code",
   "execution_count": 8,
   "metadata": {
    "ExecuteTime": {
     "end_time": "2019-09-11T01:04:19.473953Z",
     "start_time": "2019-09-11T01:04:19.449163Z"
    }
   },
   "outputs": [
    {
     "name": "stdout",
     "output_type": "stream",
     "text": [
      "[[ 1  0  0  0 -1  0]\n",
      " [ 1  0  0  0  0 -1]\n",
      " [ 0  1  0  0 -1  0]\n",
      " [ 0  0  1 -1  0  0]\n",
      " [ 0  1  0 -1  0  0]\n",
      " [ 0  0  1  0  0  0]]\n"
     ]
    }
   ],
   "source": [
    "V = np.eye(s, 1, dtype=int)\n",
    "L0 = np.roll(V, shift=-(c[1]+1), axis=0)\n",
    "R0 = np.roll(V, shift=c[3], axis=0) * (-1)\n",
    "C = np.roll(np.eye(1, s+1, dtype=int), shift=c[0]+c[1], axis=1)\n",
    "\n",
    "M = np.r_[np.c_[T,L,L0,B,R,R0],C]\n",
    "#M = np.c_[T,L,B,R,R0]\n",
    "print(M)"
   ]
  },
  {
   "cell_type": "code",
   "execution_count": 9,
   "metadata": {
    "ExecuteTime": {
     "end_time": "2019-09-11T01:04:19.507674Z",
     "start_time": "2019-09-11T01:04:19.479255Z"
    }
   },
   "outputs": [
    {
     "data": {
      "text/plain": [
       "1.0"
      ]
     },
     "execution_count": 9,
     "metadata": {},
     "output_type": "execute_result"
    }
   ],
   "source": [
    "np.linalg.det(M)"
   ]
  },
  {
   "cell_type": "markdown",
   "metadata": {},
   "source": [
    "## TODO"
   ]
  },
  {
   "cell_type": "markdown",
   "metadata": {
    "ExecuteTime": {
     "end_time": "2019-09-10T07:49:47.242251Z",
     "start_time": "2019-09-10T07:49:47.235409Z"
    }
   },
   "source": [
    "[ ] 接続行列の生成について。quasi-cord が $\\tau + \\lambda = \\beta + \\rho$ の場合しかうまく行ってない。"
   ]
  }
 ],
 "metadata": {
  "kernelspec": {
   "display_name": "Python 3",
   "language": "python",
   "name": "python3"
  },
  "language_info": {
   "codemirror_mode": {
    "name": "ipython",
    "version": 3
   },
   "file_extension": ".py",
   "mimetype": "text/x-python",
   "name": "python",
   "nbconvert_exporter": "python",
   "pygments_lexer": "ipython3",
   "version": "3.6.7"
  },
  "toc": {
   "base_numbering": 1,
   "nav_menu": {},
   "number_sections": false,
   "sideBar": true,
   "skip_h1_title": true,
   "title_cell": "Table of Contents",
   "title_sidebar": "Contents",
   "toc_cell": false,
   "toc_position": {},
   "toc_section_display": true,
   "toc_window_display": false
  },
  "varInspector": {
   "cols": {
    "lenName": 16,
    "lenType": 16,
    "lenVar": 40
   },
   "kernels_config": {
    "python": {
     "delete_cmd_postfix": "",
     "delete_cmd_prefix": "del ",
     "library": "var_list.py",
     "varRefreshCmd": "print(var_dic_list())"
    },
    "r": {
     "delete_cmd_postfix": ") ",
     "delete_cmd_prefix": "rm(",
     "library": "var_list.r",
     "varRefreshCmd": "cat(var_dic_list()) "
    }
   },
   "types_to_exclude": [
    "module",
    "function",
    "builtin_function_or_method",
    "instance",
    "_Feature"
   ],
   "window_display": false
  }
 },
 "nbformat": 4,
 "nbformat_minor": 2
}
