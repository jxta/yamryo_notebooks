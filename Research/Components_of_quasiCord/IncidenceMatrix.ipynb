{
 "cells": [
  {
   "cell_type": "markdown",
   "metadata": {},
   "source": [
    "# Incidence Matrices for quasi-cords"
   ]
  },
  {
   "cell_type": "markdown",
   "metadata": {
    "heading_collapsed": true
   },
   "source": [
    "## Classes and functions"
   ]
  },
  {
   "cell_type": "markdown",
   "metadata": {
    "heading_collapsed": true,
    "hidden": true
   },
   "source": [
    "### modules"
   ]
  },
  {
   "cell_type": "code",
   "execution_count": 93,
   "metadata": {
    "ExecuteTime": {
     "end_time": "2019-11-21T09:11:49.951932Z",
     "start_time": "2019-11-21T09:11:49.947367Z"
    },
    "hidden": true
   },
   "outputs": [],
   "source": [
    "import numpy as np\n",
    "import plotly.graph_objects as go\n",
    "from ipywidgets import widgets"
   ]
  },
  {
   "cell_type": "markdown",
   "metadata": {
    "heading_collapsed": true,
    "hidden": true
   },
   "source": [
    "### Side class, Segment class"
   ]
  },
  {
   "cell_type": "code",
   "execution_count": 2,
   "metadata": {
    "ExecuteTime": {
     "end_time": "2019-11-21T05:01:18.066571Z",
     "start_time": "2019-11-21T05:01:18.052047Z"
    },
    "hidden": true
   },
   "outputs": [],
   "source": [
    "class Side:\n",
    "    '''A side of the square'''\n",
    "    \n",
    "    def __init__(self, label, number):\n",
    "        '''\n",
    "        Arguments\n",
    "        ---------\n",
    "        label : string\n",
    "            One of the letters in {T,L,B,R}.\n",
    "        number : int\n",
    "            The number coressponding to the points on the side of the label.\n",
    "        '''\n",
    "        self.label = label\n",
    "        self.number = number\n",
    "        self.points = self.get_points()\n",
    "        \n",
    "    def get_points(self):\n",
    "        points = [self.label+str(k)+'+' for k in range(self.number)]\n",
    "        points += [label[:-1]+'-' for label in reversed(points)]\n",
    "        if self.label in ['L','R']:\n",
    "            idx = int(len(points)/2)\n",
    "            points.insert(idx, self.label)\n",
    "        return points\n",
    "\n",
    "class Segment:\n",
    "    '''A segment on the square connecting two points on the sides'''\n",
    "    \n",
    "    def __init__(self, point01, point02):\n",
    "        '''\n",
    "        Arguments\n",
    "        ---------\n",
    "        point01, point02 : string\n",
    "            The labels of the two points on the sides.\n",
    "        '''\n",
    "        self.ends = (point01, point02)\n",
    "        \n",
    "    def show(self):\n",
    "        return self.ends"
   ]
  },
  {
   "cell_type": "markdown",
   "metadata": {
    "heading_collapsed": true,
    "hidden": true
   },
   "source": [
    "### Square class"
   ]
  },
  {
   "cell_type": "code",
   "execution_count": 36,
   "metadata": {
    "ExecuteTime": {
     "end_time": "2019-11-21T05:15:25.112126Z",
     "start_time": "2019-11-21T05:15:24.933273Z"
    },
    "hidden": true
   },
   "outputs": [],
   "source": [
    "LABELS = ['T','L','B','R']\n",
    "\n",
    "class Square:\n",
    "    '''A square obtained by cut the disk with 4 points T,L,B,R along the arcs a_T, a_L, a_B, a_R'''\n",
    "    \n",
    "    def __init__(self, code):\n",
    "        '''\n",
    "        Arguments\n",
    "        ---------\n",
    "        code : tuple\n",
    "            The 4-tuple corresponding to the quasi-cord.\n",
    "        '''\n",
    "        self.verify_code(code)\n",
    "        #---\n",
    "        self.code = code                      # tuple: code = (\\d, \\d, \\d, \\d)\n",
    "        self.sides = self.get_sides()         # dict: sides = {label: Side(label, num),...}\n",
    "        self.segments = self.get_segments()   # list: segments = [Segment,...]\n",
    "   \n",
    "    def verify_code(self, code):\n",
    "        tl = sum(code[:2])\n",
    "        br = sum(code[-2:])\n",
    "        if sum(code[:2]) - sum(code[-2:]) < 0:\n",
    "            raise ValueError(\"T+L < B+R\")\n",
    "        elif code[0] - code[1] - br > 0:\n",
    "            raise ValueError(\"T > L+B+R\")\n",
    "        elif code[1] - code[0] - br > 0:\n",
    "            raise ValueError(\"L > T+B+R\")\n",
    "        else: return True\n",
    "        \n",
    "    def get_sides(self):\n",
    "        sides_dict = {}\n",
    "        for i in range(len(LABELS)):\n",
    "            sides_dict[LABELS[i]] = Side(LABELS[i], self.code[i])\n",
    "        return sides_dict\n",
    "\n",
    "    def get_segments(self):\n",
    "        segs_list = []\n",
    "        \n",
    "        # create the top-left segments \n",
    "        tl = self.sides['T'].number + self.sides['L'].number\n",
    "        br = self.sides['B'].number + self.sides['R'].number\n",
    "        diff = tl - br\n",
    "              #TODO: tl >= br でなかったらエラーを吐くようにする。\n",
    "        for i in range(diff):\n",
    "            a_tlseg = Segment(self.sides['T'].points[i], self.sides['L'].points[i])\n",
    "            segs_list.append(a_tlseg)\n",
    "        \n",
    "        # the remaining\n",
    "        remaining = []\n",
    "        TL_points = list(reversed(self.sides['L'].points[diff:]))+self.sides['T'].points[diff:]\n",
    "        BR_points = self.sides['B'].points+self.sides['R'].points\n",
    "\n",
    "        for i in range(len(TL_points)):\n",
    "            a_seg = Segment(TL_points[i], BR_points[i])\n",
    "            segs_list.append(a_seg)\n",
    "        return segs_list\n",
    "    \n",
    "    def matrix(sqr):\n",
    "        variables = []\n",
    "        for label in LABELS:\n",
    "            num = self.sides[label].number\n",
    "            if label in ['L','R']:\n",
    "                num += 1\n",
    "            variables.append(self.sides[label].points[:num])\n",
    "        variables = [v.replace('+','') for v in sum(variables, [])] # flatten and remove '+'\n",
    "        #---\n",
    "        s = len(self.segments)\n",
    "        M = np.zeros((s,s+1), dtype=int)\n",
    "        raw = 0\n",
    "        for a_seg in self.segments:\n",
    "            i = 0\n",
    "            for end_point in a_seg.ends:\n",
    "                if end_point[-1] in ['+','-']:\n",
    "                    end_point = end_point[:-1]  # remove '+' and '-'\n",
    "                M[raw][variables.index(end_point)] = (-1)**i\n",
    "                i += 1\n",
    "            raw += 1\n",
    "\n",
    "        tl = self.sides['T'].number + self.sides['L'].number\n",
    "        C = np.roll(np.eye(1, s+1, dtype=int), shift=tl, axis=1)\n",
    "        M = np.r_[M, C]\n",
    "        return M\n",
    "\n",
    "    def graphic(self, figsize=(400, 400)):\n",
    "        fig = go.Figure()\n",
    "        SIZE = 10\n",
    "    \n",
    "        #--- Points\n",
    "        moves = {'T': (1, SIZE*1j), 'L': (-1j, SIZE*(-1)), 'B': (1, SIZE*1j*(-1)), 'R': (1j, SIZE)}\n",
    "        all_points_dict = {}\n",
    "        for side in self.sides.values():\n",
    "            num = side.number\n",
    "            delta = SIZE/(num+1)\n",
    "            #---\n",
    "            complex_list = list(reversed([(-1)*delta*(k+1) for k in range(num)]))\n",
    "            if side.label in ['L', 'R']:\n",
    "                complex_list.append(0)\n",
    "            complex_list += [delta*(k+1) for k in range(num)]\n",
    "            complex_list = [v*moves[side.label][0]+moves[side.label][1] for v in complex_list]\n",
    "            for k in range(len(side.points)):\n",
    "                all_points_dict[side.points[k]] = complex_list[k]\n",
    "            #---\n",
    "            fig.add_trace(go.Scatter(\n",
    "                x = [z.real for z in complex_list],\n",
    "                y = [z.imag for z in complex_list],\n",
    "                mode=\"markers\",\n",
    "            ))\n",
    "     \n",
    "        #--- Frame\n",
    "        frame = go.layout.Shape(\n",
    "                    type=\"rect\",\n",
    "                    x0=SIZE, y0=SIZE, x1=(-1)*SIZE, y1=(-1)*SIZE,\n",
    "                    line=dict(color=\"RoyalBlue\",),\n",
    "                )\n",
    "        #--- Segments\n",
    "        my_shapes = [frame]\n",
    "        for seg in self.segments:\n",
    "            pnt0 = all_points_dict[seg.ends[0]]\n",
    "            pnt1 = all_points_dict[seg.ends[1]]\n",
    "            my_shapes.append(\n",
    "                go.layout.Shape(\n",
    "                    type=\"line\",\n",
    "                    x0=pnt0.real, y0=pnt0.imag,\n",
    "                    x1=pnt1.real, y1=pnt1.imag,\n",
    "                    line=dict(\n",
    "                        color=\"LightSeaGreen\",\n",
    "                        width=3,\n",
    "                    ),\n",
    "                )\n",
    "            )\n",
    "        else: fig.update_layout(shapes=my_shapes)\n",
    "     \n",
    "        #--- Update axes properties\n",
    "        rng = SIZE*1.2\n",
    "        options = dict(range=[(-1)*rng, rng], showticklabels=False, showgrid=False, zeroline=False,)\n",
    "        fig.update_xaxes(options)\n",
    "        fig.update_yaxes(options)\n",
    "        #--- Set figure size and background color\n",
    "        fig.update_layout(width=figsize[0], height=figsize[1], plot_bgcolor=\"white\", showlegend=False)\n",
    "        \n",
    "        return fig"
   ]
  },
  {
   "cell_type": "markdown",
   "metadata": {
    "heading_collapsed": true,
    "hidden": true
   },
   "source": [
    "### show_diagram function"
   ]
  },
  {
   "cell_type": "code",
   "execution_count": 49,
   "metadata": {
    "ExecuteTime": {
     "end_time": "2019-11-21T05:26:17.206375Z",
     "start_time": "2019-11-21T05:26:17.181458Z"
    },
    "hidden": true
   },
   "outputs": [],
   "source": [
    "def get_diagram(matrix, figsize=(400,400)):\n",
    "    fig = go.Figure()\n",
    "    SIZE = 10\n",
    "    delta = SIZE/len(matrix)\n",
    "\n",
    "    def trans(pair):\n",
    "        return (pair[1] - pair[0]*1j)*delta +(3/2+1/2*1j)*delta + SIZE*1j\n",
    "    \n",
    "    #--- Points ---\n",
    "    corners = dict(points=[], marker=dict(size=5.0, color=\"Red\"),)\n",
    "    others = dict(points=[], marker=dict(size=2.0, color=\"RoyalBlue\"),)\n",
    "\n",
    "    entry = np.nditer(M, flags=['multi_index'])\n",
    "    while not entry.finished:\n",
    "        if entry[0]==0:\n",
    "            others['points'].append(entry.multi_index)\n",
    "        else:\n",
    "            corners['points'].append(entry.multi_index)\n",
    "        entry.iternext()\n",
    "\n",
    "    for pdict in [others, corners]:\n",
    "        z_list = [trans(pair) for pair in pdict['points']]\n",
    "        fig.add_trace(go.Scatter(\n",
    "            x = [z.real for z in z_list],\n",
    "            y = [z.imag for z in z_list],\n",
    "            mode=\"markers\",\n",
    "            marker=pdict['marker'],\n",
    "        ))\n",
    "\n",
    "    #--- Lines ---\n",
    "    lines = []\n",
    "    for k in range(len(matrix)-1):\n",
    "        for i in range(2):  # 0: horizontal lines, 1: vertical lines\n",
    "            z = [trans(pair) for pair in corners['points'] if pair[i] == k]\n",
    "            if len(z) == 2:\n",
    "                lines.append(\n",
    "                    go.layout.Shape(\n",
    "                        type=\"line\",\n",
    "                        x0=z[0].real, y0=z[0].imag,\n",
    "                        x1=z[1].real, y1=z[1].imag,\n",
    "                        line=dict(color=\"LightSeaGreen\", width=1,),\n",
    "                    ))\n",
    "    else: fig.update_layout(shapes=lines)\n",
    "               \n",
    "    #--- Update axes properties\n",
    "    options = dict(\n",
    "        range=[0, SIZE+2*delta], \n",
    "        showticklabels=False,\n",
    "        showgrid=False,\n",
    "        zeroline=False,\n",
    "    )\n",
    "    fig.update_xaxes(options)\n",
    "    fig.update_yaxes(options)\n",
    "    #--- Set figure size and background color\n",
    "    fig.update_layout(\n",
    "        width=figsize[0], height=figsize[1],\n",
    "    #     plot_bgcolor=\"white\", \n",
    "        showlegend=False,\n",
    "    )\n",
    "    #---\n",
    "    return fig"
   ]
  },
  {
   "cell_type": "markdown",
   "metadata": {
    "heading_collapsed": true,
    "hidden": true
   },
   "source": [
    "### square_random_generator function"
   ]
  },
  {
   "cell_type": "code",
   "execution_count": 6,
   "metadata": {
    "ExecuteTime": {
     "end_time": "2019-11-21T05:01:18.184120Z",
     "start_time": "2019-11-21T05:01:18.175923Z"
    },
    "hidden": true
   },
   "outputs": [],
   "source": [
    "def square_random_generator(verbose=True):\n",
    "    while True:\n",
    "        try:\n",
    "            code = [np.random.randint(1,10) for k in range(4)]\n",
    "            sqr = Square(tuple(code))\n",
    "            break\n",
    "        except ValueError:\n",
    "            if verbose:\n",
    "                print(\"Oops!\")\n",
    "    return sqr"
   ]
  },
  {
   "cell_type": "markdown",
   "metadata": {},
   "source": [
    "## Create an instance of Square class."
   ]
  },
  {
   "cell_type": "code",
   "execution_count": 115,
   "metadata": {
    "ExecuteTime": {
     "end_time": "2019-11-21T09:24:01.472445Z",
     "start_time": "2019-11-21T09:24:01.466677Z"
    }
   },
   "outputs": [
    {
     "name": "stdout",
     "output_type": "stream",
     "text": [
      "Oops!\n",
      "(6, 9, 5, 7)\n"
     ]
    }
   ],
   "source": [
    "sqr = square_random_generator()\n",
    "print(sqr.code)"
   ]
  },
  {
   "cell_type": "markdown",
   "metadata": {
    "heading_collapsed": true
   },
   "source": [
    "### Parts of a square"
   ]
  },
  {
   "cell_type": "code",
   "execution_count": 33,
   "metadata": {
    "ExecuteTime": {
     "end_time": "2019-11-21T05:12:36.472362Z",
     "start_time": "2019-11-21T05:12:36.466203Z"
    },
    "hidden": true
   },
   "outputs": [
    {
     "name": "stdout",
     "output_type": "stream",
     "text": [
      "Oops!\n",
      "Oops!\n",
      "(2, 9, 7, 4)\n"
     ]
    }
   ],
   "source": [
    "sqr = square_random_generator()\n",
    "#sqr = Square((5,1,1,1)) #1,4,1,1)) #0,1,0,0)) #0,3,0,3)) #8,4,6,2)) #3,2,1,1)) #(3,4,5,2)) #(3,7,4,2)) #(1,3,1,1)) #(3,4,2,1)) #\n",
    "\n",
    "print(sqr.code)"
   ]
  },
  {
   "cell_type": "markdown",
   "metadata": {
    "hidden": true
   },
   "source": [
    "End points on the sides"
   ]
  },
  {
   "cell_type": "code",
   "execution_count": 8,
   "metadata": {
    "ExecuteTime": {
     "end_time": "2019-11-21T05:01:18.211882Z",
     "start_time": "2019-11-21T05:01:18.204028Z"
    },
    "hidden": true,
    "scrolled": false
   },
   "outputs": [
    {
     "name": "stdout",
     "output_type": "stream",
     "text": [
      "side T --> ['T0+', 'T1+', 'T2+', 'T3+', 'T4+', 'T5+', 'T6+', 'T7+', 'T8+', 'T8-', 'T7-', 'T6-', 'T5-', 'T4-', 'T3-', 'T2-', 'T1-', 'T0-']\n",
      "side L --> ['L0+', 'L1+', 'L2+', 'L3+', 'L', 'L3-', 'L2-', 'L1-', 'L0-']\n",
      "side B --> ['B0+', 'B1+', 'B1-', 'B0-']\n",
      "side R --> ['R0+', 'R1+', 'R2+', 'R3+', 'R4+', 'R5+', 'R6+', 'R7+', 'R8+', 'R', 'R8-', 'R7-', 'R6-', 'R5-', 'R4-', 'R3-', 'R2-', 'R1-', 'R0-']\n"
     ]
    }
   ],
   "source": [
    "for side in sqr.sides.values():\n",
    "    print(\"side {} --> {}\".format(side.label, side.points))"
   ]
  },
  {
   "cell_type": "markdown",
   "metadata": {
    "hidden": true
   },
   "source": [
    "Segments"
   ]
  },
  {
   "cell_type": "code",
   "execution_count": 9,
   "metadata": {
    "ExecuteTime": {
     "end_time": "2019-11-21T05:01:18.229691Z",
     "start_time": "2019-11-21T05:01:18.218793Z"
    },
    "hidden": true
   },
   "outputs": [
    {
     "name": "stdout",
     "output_type": "stream",
     "text": [
      "[('T0+', 'L0+'), ('T1+', 'L1+'), ('L0-', 'B0+'), ('L1-', 'B1+'), ('L2-', 'B1-'), ('L3-', 'B0-'), ('L', 'R0+'), ('L3+', 'R1+'), ('L2+', 'R2+'), ('T2+', 'R3+'), ('T3+', 'R4+'), ('T4+', 'R5+'), ('T5+', 'R6+'), ('T6+', 'R7+'), ('T7+', 'R8+'), ('T8+', 'R'), ('T8-', 'R8-'), ('T7-', 'R7-'), ('T6-', 'R6-'), ('T5-', 'R5-'), ('T4-', 'R4-'), ('T3-', 'R3-'), ('T2-', 'R2-'), ('T1-', 'R1-'), ('T0-', 'R0-')]\n"
     ]
    }
   ],
   "source": [
    "all_segs = [seg.ends for seg in sqr.segments]\n",
    "print(all_segs)"
   ]
  },
  {
   "cell_type": "markdown",
   "metadata": {
    "heading_collapsed": true
   },
   "source": [
    "### Graphic"
   ]
  },
  {
   "cell_type": "code",
   "execution_count": 52,
   "metadata": {
    "ExecuteTime": {
     "end_time": "2019-11-21T05:27:10.609757Z",
     "start_time": "2019-11-21T05:27:10.152978Z"
    },
    "hidden": true,
    "scrolled": false
   },
   "outputs": [
    {
     "data": {
      "application/vnd.plotly.v1+json": {
       "config": {
        "plotlyServerURL": "https://plot.ly"
       },
       "data": [
        {
         "mode": "markers",
         "type": "scatter",
         "x": [
          -6.666666666666667,
          -3.3333333333333335,
          3.3333333333333335,
          6.666666666666667
         ],
         "y": [
          10,
          10,
          10,
          10
         ]
        },
        {
         "mode": "markers",
         "type": "scatter",
         "x": [
          -10,
          -10,
          -10,
          -10,
          -10,
          -10,
          -10,
          -10,
          -10,
          -10,
          -10,
          -10,
          -10,
          -10,
          -10,
          -10,
          -10,
          -10,
          -10
         ],
         "y": [
          9,
          8,
          7,
          6,
          5,
          4,
          3,
          2,
          1,
          0,
          -1,
          -2,
          -3,
          -4,
          -5,
          -6,
          -7,
          -8,
          -9
         ]
        },
        {
         "mode": "markers",
         "type": "scatter",
         "x": [
          -8.75,
          -7.5,
          -6.25,
          -5,
          -3.75,
          -2.5,
          -1.25,
          1.25,
          2.5,
          3.75,
          5,
          6.25,
          7.5,
          8.75
         ],
         "y": [
          -10,
          -10,
          -10,
          -10,
          -10,
          -10,
          -10,
          -10,
          -10,
          -10,
          -10,
          -10,
          -10,
          -10
         ]
        },
        {
         "mode": "markers",
         "type": "scatter",
         "x": [
          10,
          10,
          10,
          10,
          10,
          10,
          10,
          10,
          10
         ],
         "y": [
          -8,
          -6,
          -4,
          -2,
          0,
          2,
          4,
          6,
          8
         ]
        }
       ],
       "layout": {
        "height": 500,
        "plot_bgcolor": "white",
        "shapes": [
         {
          "line": {
           "color": "RoyalBlue"
          },
          "type": "rect",
          "x0": 10,
          "x1": -10,
          "y0": 10,
          "y1": -10
         },
         {
          "line": {
           "color": "LightSeaGreen",
           "width": 3
          },
          "type": "line",
          "x0": -10,
          "x1": -8.75,
          "y0": -9,
          "y1": -10
         },
         {
          "line": {
           "color": "LightSeaGreen",
           "width": 3
          },
          "type": "line",
          "x0": -10,
          "x1": -7.5,
          "y0": -8,
          "y1": -10
         },
         {
          "line": {
           "color": "LightSeaGreen",
           "width": 3
          },
          "type": "line",
          "x0": -10,
          "x1": -6.25,
          "y0": -7,
          "y1": -10
         },
         {
          "line": {
           "color": "LightSeaGreen",
           "width": 3
          },
          "type": "line",
          "x0": -10,
          "x1": -5,
          "y0": -6,
          "y1": -10
         },
         {
          "line": {
           "color": "LightSeaGreen",
           "width": 3
          },
          "type": "line",
          "x0": -10,
          "x1": -3.75,
          "y0": -5,
          "y1": -10
         },
         {
          "line": {
           "color": "LightSeaGreen",
           "width": 3
          },
          "type": "line",
          "x0": -10,
          "x1": -2.5,
          "y0": -4,
          "y1": -10
         },
         {
          "line": {
           "color": "LightSeaGreen",
           "width": 3
          },
          "type": "line",
          "x0": -10,
          "x1": -1.25,
          "y0": -3,
          "y1": -10
         },
         {
          "line": {
           "color": "LightSeaGreen",
           "width": 3
          },
          "type": "line",
          "x0": -10,
          "x1": 1.25,
          "y0": -2,
          "y1": -10
         },
         {
          "line": {
           "color": "LightSeaGreen",
           "width": 3
          },
          "type": "line",
          "x0": -10,
          "x1": 2.5,
          "y0": -1,
          "y1": -10
         },
         {
          "line": {
           "color": "LightSeaGreen",
           "width": 3
          },
          "type": "line",
          "x0": -10,
          "x1": 3.75,
          "y0": 0,
          "y1": -10
         },
         {
          "line": {
           "color": "LightSeaGreen",
           "width": 3
          },
          "type": "line",
          "x0": -10,
          "x1": 5,
          "y0": 1,
          "y1": -10
         },
         {
          "line": {
           "color": "LightSeaGreen",
           "width": 3
          },
          "type": "line",
          "x0": -10,
          "x1": 6.25,
          "y0": 2,
          "y1": -10
         },
         {
          "line": {
           "color": "LightSeaGreen",
           "width": 3
          },
          "type": "line",
          "x0": -10,
          "x1": 7.5,
          "y0": 3,
          "y1": -10
         },
         {
          "line": {
           "color": "LightSeaGreen",
           "width": 3
          },
          "type": "line",
          "x0": -10,
          "x1": 8.75,
          "y0": 4,
          "y1": -10
         },
         {
          "line": {
           "color": "LightSeaGreen",
           "width": 3
          },
          "type": "line",
          "x0": -10,
          "x1": 10,
          "y0": 5,
          "y1": -8
         },
         {
          "line": {
           "color": "LightSeaGreen",
           "width": 3
          },
          "type": "line",
          "x0": -10,
          "x1": 10,
          "y0": 6,
          "y1": -6
         },
         {
          "line": {
           "color": "LightSeaGreen",
           "width": 3
          },
          "type": "line",
          "x0": -10,
          "x1": 10,
          "y0": 7,
          "y1": -4
         },
         {
          "line": {
           "color": "LightSeaGreen",
           "width": 3
          },
          "type": "line",
          "x0": -10,
          "x1": 10,
          "y0": 8,
          "y1": -2
         },
         {
          "line": {
           "color": "LightSeaGreen",
           "width": 3
          },
          "type": "line",
          "x0": -10,
          "x1": 10,
          "y0": 9,
          "y1": 0
         },
         {
          "line": {
           "color": "LightSeaGreen",
           "width": 3
          },
          "type": "line",
          "x0": -6.666666666666667,
          "x1": 10,
          "y0": 10,
          "y1": 2
         },
         {
          "line": {
           "color": "LightSeaGreen",
           "width": 3
          },
          "type": "line",
          "x0": -3.3333333333333335,
          "x1": 10,
          "y0": 10,
          "y1": 4
         },
         {
          "line": {
           "color": "LightSeaGreen",
           "width": 3
          },
          "type": "line",
          "x0": 3.3333333333333335,
          "x1": 10,
          "y0": 10,
          "y1": 6
         },
         {
          "line": {
           "color": "LightSeaGreen",
           "width": 3
          },
          "type": "line",
          "x0": 6.666666666666667,
          "x1": 10,
          "y0": 10,
          "y1": 8
         }
        ],
        "showlegend": false,
        "template": {
         "data": {
          "bar": [
           {
            "error_x": {
             "color": "#2a3f5f"
            },
            "error_y": {
             "color": "#2a3f5f"
            },
            "marker": {
             "line": {
              "color": "#E5ECF6",
              "width": 0.5
             }
            },
            "type": "bar"
           }
          ],
          "barpolar": [
           {
            "marker": {
             "line": {
              "color": "#E5ECF6",
              "width": 0.5
             }
            },
            "type": "barpolar"
           }
          ],
          "carpet": [
           {
            "aaxis": {
             "endlinecolor": "#2a3f5f",
             "gridcolor": "white",
             "linecolor": "white",
             "minorgridcolor": "white",
             "startlinecolor": "#2a3f5f"
            },
            "baxis": {
             "endlinecolor": "#2a3f5f",
             "gridcolor": "white",
             "linecolor": "white",
             "minorgridcolor": "white",
             "startlinecolor": "#2a3f5f"
            },
            "type": "carpet"
           }
          ],
          "choropleth": [
           {
            "colorbar": {
             "outlinewidth": 0,
             "ticks": ""
            },
            "type": "choropleth"
           }
          ],
          "contour": [
           {
            "colorbar": {
             "outlinewidth": 0,
             "ticks": ""
            },
            "colorscale": [
             [
              0,
              "#0d0887"
             ],
             [
              0.1111111111111111,
              "#46039f"
             ],
             [
              0.2222222222222222,
              "#7201a8"
             ],
             [
              0.3333333333333333,
              "#9c179e"
             ],
             [
              0.4444444444444444,
              "#bd3786"
             ],
             [
              0.5555555555555556,
              "#d8576b"
             ],
             [
              0.6666666666666666,
              "#ed7953"
             ],
             [
              0.7777777777777778,
              "#fb9f3a"
             ],
             [
              0.8888888888888888,
              "#fdca26"
             ],
             [
              1,
              "#f0f921"
             ]
            ],
            "type": "contour"
           }
          ],
          "contourcarpet": [
           {
            "colorbar": {
             "outlinewidth": 0,
             "ticks": ""
            },
            "type": "contourcarpet"
           }
          ],
          "heatmap": [
           {
            "colorbar": {
             "outlinewidth": 0,
             "ticks": ""
            },
            "colorscale": [
             [
              0,
              "#0d0887"
             ],
             [
              0.1111111111111111,
              "#46039f"
             ],
             [
              0.2222222222222222,
              "#7201a8"
             ],
             [
              0.3333333333333333,
              "#9c179e"
             ],
             [
              0.4444444444444444,
              "#bd3786"
             ],
             [
              0.5555555555555556,
              "#d8576b"
             ],
             [
              0.6666666666666666,
              "#ed7953"
             ],
             [
              0.7777777777777778,
              "#fb9f3a"
             ],
             [
              0.8888888888888888,
              "#fdca26"
             ],
             [
              1,
              "#f0f921"
             ]
            ],
            "type": "heatmap"
           }
          ],
          "heatmapgl": [
           {
            "colorbar": {
             "outlinewidth": 0,
             "ticks": ""
            },
            "colorscale": [
             [
              0,
              "#0d0887"
             ],
             [
              0.1111111111111111,
              "#46039f"
             ],
             [
              0.2222222222222222,
              "#7201a8"
             ],
             [
              0.3333333333333333,
              "#9c179e"
             ],
             [
              0.4444444444444444,
              "#bd3786"
             ],
             [
              0.5555555555555556,
              "#d8576b"
             ],
             [
              0.6666666666666666,
              "#ed7953"
             ],
             [
              0.7777777777777778,
              "#fb9f3a"
             ],
             [
              0.8888888888888888,
              "#fdca26"
             ],
             [
              1,
              "#f0f921"
             ]
            ],
            "type": "heatmapgl"
           }
          ],
          "histogram": [
           {
            "marker": {
             "colorbar": {
              "outlinewidth": 0,
              "ticks": ""
             }
            },
            "type": "histogram"
           }
          ],
          "histogram2d": [
           {
            "colorbar": {
             "outlinewidth": 0,
             "ticks": ""
            },
            "colorscale": [
             [
              0,
              "#0d0887"
             ],
             [
              0.1111111111111111,
              "#46039f"
             ],
             [
              0.2222222222222222,
              "#7201a8"
             ],
             [
              0.3333333333333333,
              "#9c179e"
             ],
             [
              0.4444444444444444,
              "#bd3786"
             ],
             [
              0.5555555555555556,
              "#d8576b"
             ],
             [
              0.6666666666666666,
              "#ed7953"
             ],
             [
              0.7777777777777778,
              "#fb9f3a"
             ],
             [
              0.8888888888888888,
              "#fdca26"
             ],
             [
              1,
              "#f0f921"
             ]
            ],
            "type": "histogram2d"
           }
          ],
          "histogram2dcontour": [
           {
            "colorbar": {
             "outlinewidth": 0,
             "ticks": ""
            },
            "colorscale": [
             [
              0,
              "#0d0887"
             ],
             [
              0.1111111111111111,
              "#46039f"
             ],
             [
              0.2222222222222222,
              "#7201a8"
             ],
             [
              0.3333333333333333,
              "#9c179e"
             ],
             [
              0.4444444444444444,
              "#bd3786"
             ],
             [
              0.5555555555555556,
              "#d8576b"
             ],
             [
              0.6666666666666666,
              "#ed7953"
             ],
             [
              0.7777777777777778,
              "#fb9f3a"
             ],
             [
              0.8888888888888888,
              "#fdca26"
             ],
             [
              1,
              "#f0f921"
             ]
            ],
            "type": "histogram2dcontour"
           }
          ],
          "mesh3d": [
           {
            "colorbar": {
             "outlinewidth": 0,
             "ticks": ""
            },
            "type": "mesh3d"
           }
          ],
          "parcoords": [
           {
            "line": {
             "colorbar": {
              "outlinewidth": 0,
              "ticks": ""
             }
            },
            "type": "parcoords"
           }
          ],
          "scatter": [
           {
            "marker": {
             "colorbar": {
              "outlinewidth": 0,
              "ticks": ""
             }
            },
            "type": "scatter"
           }
          ],
          "scatter3d": [
           {
            "line": {
             "colorbar": {
              "outlinewidth": 0,
              "ticks": ""
             }
            },
            "marker": {
             "colorbar": {
              "outlinewidth": 0,
              "ticks": ""
             }
            },
            "type": "scatter3d"
           }
          ],
          "scattercarpet": [
           {
            "marker": {
             "colorbar": {
              "outlinewidth": 0,
              "ticks": ""
             }
            },
            "type": "scattercarpet"
           }
          ],
          "scattergeo": [
           {
            "marker": {
             "colorbar": {
              "outlinewidth": 0,
              "ticks": ""
             }
            },
            "type": "scattergeo"
           }
          ],
          "scattergl": [
           {
            "marker": {
             "colorbar": {
              "outlinewidth": 0,
              "ticks": ""
             }
            },
            "type": "scattergl"
           }
          ],
          "scattermapbox": [
           {
            "marker": {
             "colorbar": {
              "outlinewidth": 0,
              "ticks": ""
             }
            },
            "type": "scattermapbox"
           }
          ],
          "scatterpolar": [
           {
            "marker": {
             "colorbar": {
              "outlinewidth": 0,
              "ticks": ""
             }
            },
            "type": "scatterpolar"
           }
          ],
          "scatterpolargl": [
           {
            "marker": {
             "colorbar": {
              "outlinewidth": 0,
              "ticks": ""
             }
            },
            "type": "scatterpolargl"
           }
          ],
          "scatterternary": [
           {
            "marker": {
             "colorbar": {
              "outlinewidth": 0,
              "ticks": ""
             }
            },
            "type": "scatterternary"
           }
          ],
          "surface": [
           {
            "colorbar": {
             "outlinewidth": 0,
             "ticks": ""
            },
            "colorscale": [
             [
              0,
              "#0d0887"
             ],
             [
              0.1111111111111111,
              "#46039f"
             ],
             [
              0.2222222222222222,
              "#7201a8"
             ],
             [
              0.3333333333333333,
              "#9c179e"
             ],
             [
              0.4444444444444444,
              "#bd3786"
             ],
             [
              0.5555555555555556,
              "#d8576b"
             ],
             [
              0.6666666666666666,
              "#ed7953"
             ],
             [
              0.7777777777777778,
              "#fb9f3a"
             ],
             [
              0.8888888888888888,
              "#fdca26"
             ],
             [
              1,
              "#f0f921"
             ]
            ],
            "type": "surface"
           }
          ],
          "table": [
           {
            "cells": {
             "fill": {
              "color": "#EBF0F8"
             },
             "line": {
              "color": "white"
             }
            },
            "header": {
             "fill": {
              "color": "#C8D4E3"
             },
             "line": {
              "color": "white"
             }
            },
            "type": "table"
           }
          ]
         },
         "layout": {
          "annotationdefaults": {
           "arrowcolor": "#2a3f5f",
           "arrowhead": 0,
           "arrowwidth": 1
          },
          "colorscale": {
           "diverging": [
            [
             0,
             "#8e0152"
            ],
            [
             0.1,
             "#c51b7d"
            ],
            [
             0.2,
             "#de77ae"
            ],
            [
             0.3,
             "#f1b6da"
            ],
            [
             0.4,
             "#fde0ef"
            ],
            [
             0.5,
             "#f7f7f7"
            ],
            [
             0.6,
             "#e6f5d0"
            ],
            [
             0.7,
             "#b8e186"
            ],
            [
             0.8,
             "#7fbc41"
            ],
            [
             0.9,
             "#4d9221"
            ],
            [
             1,
             "#276419"
            ]
           ],
           "sequential": [
            [
             0,
             "#0d0887"
            ],
            [
             0.1111111111111111,
             "#46039f"
            ],
            [
             0.2222222222222222,
             "#7201a8"
            ],
            [
             0.3333333333333333,
             "#9c179e"
            ],
            [
             0.4444444444444444,
             "#bd3786"
            ],
            [
             0.5555555555555556,
             "#d8576b"
            ],
            [
             0.6666666666666666,
             "#ed7953"
            ],
            [
             0.7777777777777778,
             "#fb9f3a"
            ],
            [
             0.8888888888888888,
             "#fdca26"
            ],
            [
             1,
             "#f0f921"
            ]
           ],
           "sequentialminus": [
            [
             0,
             "#0d0887"
            ],
            [
             0.1111111111111111,
             "#46039f"
            ],
            [
             0.2222222222222222,
             "#7201a8"
            ],
            [
             0.3333333333333333,
             "#9c179e"
            ],
            [
             0.4444444444444444,
             "#bd3786"
            ],
            [
             0.5555555555555556,
             "#d8576b"
            ],
            [
             0.6666666666666666,
             "#ed7953"
            ],
            [
             0.7777777777777778,
             "#fb9f3a"
            ],
            [
             0.8888888888888888,
             "#fdca26"
            ],
            [
             1,
             "#f0f921"
            ]
           ]
          },
          "colorway": [
           "#636efa",
           "#EF553B",
           "#00cc96",
           "#ab63fa",
           "#FFA15A",
           "#19d3f3",
           "#FF6692",
           "#B6E880",
           "#FF97FF",
           "#FECB52"
          ],
          "font": {
           "color": "#2a3f5f"
          },
          "geo": {
           "bgcolor": "white",
           "lakecolor": "white",
           "landcolor": "#E5ECF6",
           "showlakes": true,
           "showland": true,
           "subunitcolor": "white"
          },
          "hoverlabel": {
           "align": "left"
          },
          "hovermode": "closest",
          "mapbox": {
           "style": "light"
          },
          "paper_bgcolor": "white",
          "plot_bgcolor": "#E5ECF6",
          "polar": {
           "angularaxis": {
            "gridcolor": "white",
            "linecolor": "white",
            "ticks": ""
           },
           "bgcolor": "#E5ECF6",
           "radialaxis": {
            "gridcolor": "white",
            "linecolor": "white",
            "ticks": ""
           }
          },
          "scene": {
           "xaxis": {
            "backgroundcolor": "#E5ECF6",
            "gridcolor": "white",
            "gridwidth": 2,
            "linecolor": "white",
            "showbackground": true,
            "ticks": "",
            "zerolinecolor": "white"
           },
           "yaxis": {
            "backgroundcolor": "#E5ECF6",
            "gridcolor": "white",
            "gridwidth": 2,
            "linecolor": "white",
            "showbackground": true,
            "ticks": "",
            "zerolinecolor": "white"
           },
           "zaxis": {
            "backgroundcolor": "#E5ECF6",
            "gridcolor": "white",
            "gridwidth": 2,
            "linecolor": "white",
            "showbackground": true,
            "ticks": "",
            "zerolinecolor": "white"
           }
          },
          "shapedefaults": {
           "line": {
            "color": "#2a3f5f"
           }
          },
          "ternary": {
           "aaxis": {
            "gridcolor": "white",
            "linecolor": "white",
            "ticks": ""
           },
           "baxis": {
            "gridcolor": "white",
            "linecolor": "white",
            "ticks": ""
           },
           "bgcolor": "#E5ECF6",
           "caxis": {
            "gridcolor": "white",
            "linecolor": "white",
            "ticks": ""
           }
          },
          "title": {
           "x": 0.05
          },
          "xaxis": {
           "automargin": true,
           "gridcolor": "white",
           "linecolor": "white",
           "ticks": "",
           "zerolinecolor": "white",
           "zerolinewidth": 2
          },
          "yaxis": {
           "automargin": true,
           "gridcolor": "white",
           "linecolor": "white",
           "ticks": "",
           "zerolinecolor": "white",
           "zerolinewidth": 2
          }
         }
        },
        "width": 500,
        "xaxis": {
         "range": [
          -12,
          12
         ],
         "showgrid": false,
         "showticklabels": false,
         "zeroline": false
        },
        "yaxis": {
         "range": [
          -12,
          12
         ],
         "showgrid": false,
         "showticklabels": false,
         "zeroline": false
        }
       }
      },
      "text/html": [
       "<div>\n",
       "        \n",
       "        \n",
       "            <div id=\"778a2a60-33ed-4a54-b919-dc216c16f382\" class=\"plotly-graph-div\" style=\"height:500px; width:500px;\"></div>\n",
       "            <script type=\"text/javascript\">\n",
       "                require([\"plotly\"], function(Plotly) {\n",
       "                    window.PLOTLYENV=window.PLOTLYENV || {};\n",
       "                    \n",
       "                if (document.getElementById(\"778a2a60-33ed-4a54-b919-dc216c16f382\")) {\n",
       "                    Plotly.newPlot(\n",
       "                        '778a2a60-33ed-4a54-b919-dc216c16f382',\n",
       "                        [{\"mode\": \"markers\", \"type\": \"scatter\", \"x\": [-6.666666666666667, -3.3333333333333335, 3.3333333333333335, 6.666666666666667], \"y\": [10.0, 10.0, 10.0, 10.0]}, {\"mode\": \"markers\", \"type\": \"scatter\", \"x\": [-10.0, -10.0, -10.0, -10.0, -10.0, -10.0, -10.0, -10.0, -10.0, -10.0, -10.0, -10.0, -10.0, -10.0, -10.0, -10.0, -10.0, -10.0, -10.0], \"y\": [9.0, 8.0, 7.0, 6.0, 5.0, 4.0, 3.0, 2.0, 1.0, 0.0, -1.0, -2.0, -3.0, -4.0, -5.0, -6.0, -7.0, -8.0, -9.0]}, {\"mode\": \"markers\", \"type\": \"scatter\", \"x\": [-8.75, -7.5, -6.25, -5.0, -3.75, -2.5, -1.25, 1.25, 2.5, 3.75, 5.0, 6.25, 7.5, 8.75], \"y\": [-10.0, -10.0, -10.0, -10.0, -10.0, -10.0, -10.0, -10.0, -10.0, -10.0, -10.0, -10.0, -10.0, -10.0]}, {\"mode\": \"markers\", \"type\": \"scatter\", \"x\": [10.0, 10.0, 10.0, 10.0, 10.0, 10.0, 10.0, 10.0, 10.0], \"y\": [-8.0, -6.0, -4.0, -2.0, 0.0, 2.0, 4.0, 6.0, 8.0]}],\n",
       "                        {\"height\": 500, \"plot_bgcolor\": \"white\", \"shapes\": [{\"line\": {\"color\": \"RoyalBlue\"}, \"type\": \"rect\", \"x0\": 10, \"x1\": -10, \"y0\": 10, \"y1\": -10}, {\"line\": {\"color\": \"LightSeaGreen\", \"width\": 3}, \"type\": \"line\", \"x0\": -10.0, \"x1\": -8.75, \"y0\": -9.0, \"y1\": -10.0}, {\"line\": {\"color\": \"LightSeaGreen\", \"width\": 3}, \"type\": \"line\", \"x0\": -10.0, \"x1\": -7.5, \"y0\": -8.0, \"y1\": -10.0}, {\"line\": {\"color\": \"LightSeaGreen\", \"width\": 3}, \"type\": \"line\", \"x0\": -10.0, \"x1\": -6.25, \"y0\": -7.0, \"y1\": -10.0}, {\"line\": {\"color\": \"LightSeaGreen\", \"width\": 3}, \"type\": \"line\", \"x0\": -10.0, \"x1\": -5.0, \"y0\": -6.0, \"y1\": -10.0}, {\"line\": {\"color\": \"LightSeaGreen\", \"width\": 3}, \"type\": \"line\", \"x0\": -10.0, \"x1\": -3.75, \"y0\": -5.0, \"y1\": -10.0}, {\"line\": {\"color\": \"LightSeaGreen\", \"width\": 3}, \"type\": \"line\", \"x0\": -10.0, \"x1\": -2.5, \"y0\": -4.0, \"y1\": -10.0}, {\"line\": {\"color\": \"LightSeaGreen\", \"width\": 3}, \"type\": \"line\", \"x0\": -10.0, \"x1\": -1.25, \"y0\": -3.0, \"y1\": -10.0}, {\"line\": {\"color\": \"LightSeaGreen\", \"width\": 3}, \"type\": \"line\", \"x0\": -10.0, \"x1\": 1.25, \"y0\": -2.0, \"y1\": -10.0}, {\"line\": {\"color\": \"LightSeaGreen\", \"width\": 3}, \"type\": \"line\", \"x0\": -10.0, \"x1\": 2.5, \"y0\": -1.0, \"y1\": -10.0}, {\"line\": {\"color\": \"LightSeaGreen\", \"width\": 3}, \"type\": \"line\", \"x0\": -10.0, \"x1\": 3.75, \"y0\": 0.0, \"y1\": -10.0}, {\"line\": {\"color\": \"LightSeaGreen\", \"width\": 3}, \"type\": \"line\", \"x0\": -10.0, \"x1\": 5.0, \"y0\": 1.0, \"y1\": -10.0}, {\"line\": {\"color\": \"LightSeaGreen\", \"width\": 3}, \"type\": \"line\", \"x0\": -10.0, \"x1\": 6.25, \"y0\": 2.0, \"y1\": -10.0}, {\"line\": {\"color\": \"LightSeaGreen\", \"width\": 3}, \"type\": \"line\", \"x0\": -10.0, \"x1\": 7.5, \"y0\": 3.0, \"y1\": -10.0}, {\"line\": {\"color\": \"LightSeaGreen\", \"width\": 3}, \"type\": \"line\", \"x0\": -10.0, \"x1\": 8.75, \"y0\": 4.0, \"y1\": -10.0}, {\"line\": {\"color\": \"LightSeaGreen\", \"width\": 3}, \"type\": \"line\", \"x0\": -10.0, \"x1\": 10.0, \"y0\": 5.0, \"y1\": -8.0}, {\"line\": {\"color\": \"LightSeaGreen\", \"width\": 3}, \"type\": \"line\", \"x0\": -10.0, \"x1\": 10.0, \"y0\": 6.0, \"y1\": -6.0}, {\"line\": {\"color\": \"LightSeaGreen\", \"width\": 3}, \"type\": \"line\", \"x0\": -10.0, \"x1\": 10.0, \"y0\": 7.0, \"y1\": -4.0}, {\"line\": {\"color\": \"LightSeaGreen\", \"width\": 3}, \"type\": \"line\", \"x0\": -10.0, \"x1\": 10.0, \"y0\": 8.0, \"y1\": -2.0}, {\"line\": {\"color\": \"LightSeaGreen\", \"width\": 3}, \"type\": \"line\", \"x0\": -10.0, \"x1\": 10.0, \"y0\": 9.0, \"y1\": 0.0}, {\"line\": {\"color\": \"LightSeaGreen\", \"width\": 3}, \"type\": \"line\", \"x0\": -6.666666666666667, \"x1\": 10.0, \"y0\": 10.0, \"y1\": 2.0}, {\"line\": {\"color\": \"LightSeaGreen\", \"width\": 3}, \"type\": \"line\", \"x0\": -3.3333333333333335, \"x1\": 10.0, \"y0\": 10.0, \"y1\": 4.0}, {\"line\": {\"color\": \"LightSeaGreen\", \"width\": 3}, \"type\": \"line\", \"x0\": 3.3333333333333335, \"x1\": 10.0, \"y0\": 10.0, \"y1\": 6.0}, {\"line\": {\"color\": \"LightSeaGreen\", \"width\": 3}, \"type\": \"line\", \"x0\": 6.666666666666667, \"x1\": 10.0, \"y0\": 10.0, \"y1\": 8.0}], \"showlegend\": false, \"template\": {\"data\": {\"bar\": [{\"error_x\": {\"color\": \"#2a3f5f\"}, \"error_y\": {\"color\": \"#2a3f5f\"}, \"marker\": {\"line\": {\"color\": \"#E5ECF6\", \"width\": 0.5}}, \"type\": \"bar\"}], \"barpolar\": [{\"marker\": {\"line\": {\"color\": \"#E5ECF6\", \"width\": 0.5}}, \"type\": \"barpolar\"}], \"carpet\": [{\"aaxis\": {\"endlinecolor\": \"#2a3f5f\", \"gridcolor\": \"white\", \"linecolor\": \"white\", \"minorgridcolor\": \"white\", \"startlinecolor\": \"#2a3f5f\"}, \"baxis\": {\"endlinecolor\": \"#2a3f5f\", \"gridcolor\": \"white\", \"linecolor\": \"white\", \"minorgridcolor\": \"white\", \"startlinecolor\": \"#2a3f5f\"}, \"type\": \"carpet\"}], \"choropleth\": [{\"colorbar\": {\"outlinewidth\": 0, \"ticks\": \"\"}, \"type\": \"choropleth\"}], \"contour\": [{\"colorbar\": {\"outlinewidth\": 0, \"ticks\": \"\"}, \"colorscale\": [[0.0, \"#0d0887\"], [0.1111111111111111, \"#46039f\"], [0.2222222222222222, \"#7201a8\"], [0.3333333333333333, \"#9c179e\"], [0.4444444444444444, \"#bd3786\"], [0.5555555555555556, \"#d8576b\"], [0.6666666666666666, \"#ed7953\"], [0.7777777777777778, \"#fb9f3a\"], [0.8888888888888888, \"#fdca26\"], [1.0, \"#f0f921\"]], \"type\": \"contour\"}], \"contourcarpet\": [{\"colorbar\": {\"outlinewidth\": 0, \"ticks\": \"\"}, \"type\": \"contourcarpet\"}], \"heatmap\": [{\"colorbar\": {\"outlinewidth\": 0, \"ticks\": \"\"}, \"colorscale\": [[0.0, \"#0d0887\"], [0.1111111111111111, \"#46039f\"], [0.2222222222222222, \"#7201a8\"], [0.3333333333333333, \"#9c179e\"], [0.4444444444444444, \"#bd3786\"], [0.5555555555555556, \"#d8576b\"], [0.6666666666666666, \"#ed7953\"], [0.7777777777777778, \"#fb9f3a\"], [0.8888888888888888, \"#fdca26\"], [1.0, \"#f0f921\"]], \"type\": \"heatmap\"}], \"heatmapgl\": [{\"colorbar\": {\"outlinewidth\": 0, \"ticks\": \"\"}, \"colorscale\": [[0.0, \"#0d0887\"], [0.1111111111111111, \"#46039f\"], [0.2222222222222222, \"#7201a8\"], [0.3333333333333333, \"#9c179e\"], [0.4444444444444444, \"#bd3786\"], [0.5555555555555556, \"#d8576b\"], [0.6666666666666666, \"#ed7953\"], [0.7777777777777778, \"#fb9f3a\"], [0.8888888888888888, \"#fdca26\"], [1.0, \"#f0f921\"]], \"type\": \"heatmapgl\"}], \"histogram\": [{\"marker\": {\"colorbar\": {\"outlinewidth\": 0, \"ticks\": \"\"}}, \"type\": \"histogram\"}], \"histogram2d\": [{\"colorbar\": {\"outlinewidth\": 0, \"ticks\": \"\"}, \"colorscale\": [[0.0, \"#0d0887\"], [0.1111111111111111, \"#46039f\"], [0.2222222222222222, \"#7201a8\"], [0.3333333333333333, \"#9c179e\"], [0.4444444444444444, \"#bd3786\"], [0.5555555555555556, \"#d8576b\"], [0.6666666666666666, \"#ed7953\"], [0.7777777777777778, \"#fb9f3a\"], [0.8888888888888888, \"#fdca26\"], [1.0, \"#f0f921\"]], \"type\": \"histogram2d\"}], \"histogram2dcontour\": [{\"colorbar\": {\"outlinewidth\": 0, \"ticks\": \"\"}, \"colorscale\": [[0.0, \"#0d0887\"], [0.1111111111111111, \"#46039f\"], [0.2222222222222222, \"#7201a8\"], [0.3333333333333333, \"#9c179e\"], [0.4444444444444444, \"#bd3786\"], [0.5555555555555556, \"#d8576b\"], [0.6666666666666666, \"#ed7953\"], [0.7777777777777778, \"#fb9f3a\"], [0.8888888888888888, \"#fdca26\"], [1.0, \"#f0f921\"]], \"type\": \"histogram2dcontour\"}], \"mesh3d\": [{\"colorbar\": {\"outlinewidth\": 0, \"ticks\": \"\"}, \"type\": \"mesh3d\"}], \"parcoords\": [{\"line\": {\"colorbar\": {\"outlinewidth\": 0, \"ticks\": \"\"}}, \"type\": \"parcoords\"}], \"scatter\": [{\"marker\": {\"colorbar\": {\"outlinewidth\": 0, \"ticks\": \"\"}}, \"type\": \"scatter\"}], \"scatter3d\": [{\"line\": {\"colorbar\": {\"outlinewidth\": 0, \"ticks\": \"\"}}, \"marker\": {\"colorbar\": {\"outlinewidth\": 0, \"ticks\": \"\"}}, \"type\": \"scatter3d\"}], \"scattercarpet\": [{\"marker\": {\"colorbar\": {\"outlinewidth\": 0, \"ticks\": \"\"}}, \"type\": \"scattercarpet\"}], \"scattergeo\": [{\"marker\": {\"colorbar\": {\"outlinewidth\": 0, \"ticks\": \"\"}}, \"type\": \"scattergeo\"}], \"scattergl\": [{\"marker\": {\"colorbar\": {\"outlinewidth\": 0, \"ticks\": \"\"}}, \"type\": \"scattergl\"}], \"scattermapbox\": [{\"marker\": {\"colorbar\": {\"outlinewidth\": 0, \"ticks\": \"\"}}, \"type\": \"scattermapbox\"}], \"scatterpolar\": [{\"marker\": {\"colorbar\": {\"outlinewidth\": 0, \"ticks\": \"\"}}, \"type\": \"scatterpolar\"}], \"scatterpolargl\": [{\"marker\": {\"colorbar\": {\"outlinewidth\": 0, \"ticks\": \"\"}}, \"type\": \"scatterpolargl\"}], \"scatterternary\": [{\"marker\": {\"colorbar\": {\"outlinewidth\": 0, \"ticks\": \"\"}}, \"type\": \"scatterternary\"}], \"surface\": [{\"colorbar\": {\"outlinewidth\": 0, \"ticks\": \"\"}, \"colorscale\": [[0.0, \"#0d0887\"], [0.1111111111111111, \"#46039f\"], [0.2222222222222222, \"#7201a8\"], [0.3333333333333333, \"#9c179e\"], [0.4444444444444444, \"#bd3786\"], [0.5555555555555556, \"#d8576b\"], [0.6666666666666666, \"#ed7953\"], [0.7777777777777778, \"#fb9f3a\"], [0.8888888888888888, \"#fdca26\"], [1.0, \"#f0f921\"]], \"type\": \"surface\"}], \"table\": [{\"cells\": {\"fill\": {\"color\": \"#EBF0F8\"}, \"line\": {\"color\": \"white\"}}, \"header\": {\"fill\": {\"color\": \"#C8D4E3\"}, \"line\": {\"color\": \"white\"}}, \"type\": \"table\"}]}, \"layout\": {\"annotationdefaults\": {\"arrowcolor\": \"#2a3f5f\", \"arrowhead\": 0, \"arrowwidth\": 1}, \"colorscale\": {\"diverging\": [[0, \"#8e0152\"], [0.1, \"#c51b7d\"], [0.2, \"#de77ae\"], [0.3, \"#f1b6da\"], [0.4, \"#fde0ef\"], [0.5, \"#f7f7f7\"], [0.6, \"#e6f5d0\"], [0.7, \"#b8e186\"], [0.8, \"#7fbc41\"], [0.9, \"#4d9221\"], [1, \"#276419\"]], \"sequential\": [[0.0, \"#0d0887\"], [0.1111111111111111, \"#46039f\"], [0.2222222222222222, \"#7201a8\"], [0.3333333333333333, \"#9c179e\"], [0.4444444444444444, \"#bd3786\"], [0.5555555555555556, \"#d8576b\"], [0.6666666666666666, \"#ed7953\"], [0.7777777777777778, \"#fb9f3a\"], [0.8888888888888888, \"#fdca26\"], [1.0, \"#f0f921\"]], \"sequentialminus\": [[0.0, \"#0d0887\"], [0.1111111111111111, \"#46039f\"], [0.2222222222222222, \"#7201a8\"], [0.3333333333333333, \"#9c179e\"], [0.4444444444444444, \"#bd3786\"], [0.5555555555555556, \"#d8576b\"], [0.6666666666666666, \"#ed7953\"], [0.7777777777777778, \"#fb9f3a\"], [0.8888888888888888, \"#fdca26\"], [1.0, \"#f0f921\"]]}, \"colorway\": [\"#636efa\", \"#EF553B\", \"#00cc96\", \"#ab63fa\", \"#FFA15A\", \"#19d3f3\", \"#FF6692\", \"#B6E880\", \"#FF97FF\", \"#FECB52\"], \"font\": {\"color\": \"#2a3f5f\"}, \"geo\": {\"bgcolor\": \"white\", \"lakecolor\": \"white\", \"landcolor\": \"#E5ECF6\", \"showlakes\": true, \"showland\": true, \"subunitcolor\": \"white\"}, \"hoverlabel\": {\"align\": \"left\"}, \"hovermode\": \"closest\", \"mapbox\": {\"style\": \"light\"}, \"paper_bgcolor\": \"white\", \"plot_bgcolor\": \"#E5ECF6\", \"polar\": {\"angularaxis\": {\"gridcolor\": \"white\", \"linecolor\": \"white\", \"ticks\": \"\"}, \"bgcolor\": \"#E5ECF6\", \"radialaxis\": {\"gridcolor\": \"white\", \"linecolor\": \"white\", \"ticks\": \"\"}}, \"scene\": {\"xaxis\": {\"backgroundcolor\": \"#E5ECF6\", \"gridcolor\": \"white\", \"gridwidth\": 2, \"linecolor\": \"white\", \"showbackground\": true, \"ticks\": \"\", \"zerolinecolor\": \"white\"}, \"yaxis\": {\"backgroundcolor\": \"#E5ECF6\", \"gridcolor\": \"white\", \"gridwidth\": 2, \"linecolor\": \"white\", \"showbackground\": true, \"ticks\": \"\", \"zerolinecolor\": \"white\"}, \"zaxis\": {\"backgroundcolor\": \"#E5ECF6\", \"gridcolor\": \"white\", \"gridwidth\": 2, \"linecolor\": \"white\", \"showbackground\": true, \"ticks\": \"\", \"zerolinecolor\": \"white\"}}, \"shapedefaults\": {\"line\": {\"color\": \"#2a3f5f\"}}, \"ternary\": {\"aaxis\": {\"gridcolor\": \"white\", \"linecolor\": \"white\", \"ticks\": \"\"}, \"baxis\": {\"gridcolor\": \"white\", \"linecolor\": \"white\", \"ticks\": \"\"}, \"bgcolor\": \"#E5ECF6\", \"caxis\": {\"gridcolor\": \"white\", \"linecolor\": \"white\", \"ticks\": \"\"}}, \"title\": {\"x\": 0.05}, \"xaxis\": {\"automargin\": true, \"gridcolor\": \"white\", \"linecolor\": \"white\", \"ticks\": \"\", \"zerolinecolor\": \"white\", \"zerolinewidth\": 2}, \"yaxis\": {\"automargin\": true, \"gridcolor\": \"white\", \"linecolor\": \"white\", \"ticks\": \"\", \"zerolinecolor\": \"white\", \"zerolinewidth\": 2}}}, \"width\": 500, \"xaxis\": {\"range\": [-12.0, 12.0], \"showgrid\": false, \"showticklabels\": false, \"zeroline\": false}, \"yaxis\": {\"range\": [-12.0, 12.0], \"showgrid\": false, \"showticklabels\": false, \"zeroline\": false}},\n",
       "                        {\"responsive\": true}\n",
       "                    ).then(function(){\n",
       "                            \n",
       "var gd = document.getElementById('778a2a60-33ed-4a54-b919-dc216c16f382');\n",
       "var x = new MutationObserver(function (mutations, observer) {{\n",
       "        var display = window.getComputedStyle(gd).display;\n",
       "        if (!display || display === 'none') {{\n",
       "            console.log([gd, 'removed!']);\n",
       "            Plotly.purge(gd);\n",
       "            observer.disconnect();\n",
       "        }}\n",
       "}});\n",
       "\n",
       "// Listen for the removal of the full notebook cells\n",
       "var notebookContainer = gd.closest('#notebook-container');\n",
       "if (notebookContainer) {{\n",
       "    x.observe(notebookContainer, {childList: true});\n",
       "}}\n",
       "\n",
       "// Listen for the clearing of the current output cell\n",
       "var outputEl = gd.closest('.output');\n",
       "if (outputEl) {{\n",
       "    x.observe(outputEl, {childList: true});\n",
       "}}\n",
       "\n",
       "                        })\n",
       "                };\n",
       "                });\n",
       "            </script>\n",
       "        </div>"
      ]
     },
     "metadata": {},
     "output_type": "display_data"
    }
   ],
   "source": [
    "fig = sqr.graphic(figsize=(500,500))\n",
    "fig.show()"
   ]
  },
  {
   "cell_type": "markdown",
   "metadata": {
    "heading_collapsed": true
   },
   "source": [
    "### Incidence Matrix"
   ]
  },
  {
   "cell_type": "markdown",
   "metadata": {
    "hidden": true
   },
   "source": [
    "Create the coefficient matrix of the equations coresponding to the segments"
   ]
  },
  {
   "cell_type": "code",
   "execution_count": 42,
   "metadata": {
    "ExecuteTime": {
     "end_time": "2019-11-21T05:21:00.009164Z",
     "start_time": "2019-11-21T05:20:59.996764Z"
    },
    "hidden": true
   },
   "outputs": [
    {
     "name": "stdout",
     "output_type": "stream",
     "text": [
      "[[ 0  0  1  0  0  0  0  0  0  0  0  0 -1  0  0  0  0  0  0  0  0  0  0  0]\n",
      " [ 0  0  0  1  0  0  0  0  0  0  0  0  0 -1  0  0  0  0  0  0  0  0  0  0]\n",
      " [ 0  0  0  0  1  0  0  0  0  0  0  0  0  0 -1  0  0  0  0  0  0  0  0  0]\n",
      " [ 0  0  0  0  0  1  0  0  0  0  0  0  0  0  0 -1  0  0  0  0  0  0  0  0]\n",
      " [ 0  0  0  0  0  0  1  0  0  0  0  0  0  0  0  0 -1  0  0  0  0  0  0  0]\n",
      " [ 0  0  0  0  0  0  0  1  0  0  0  0  0  0  0  0  0 -1  0  0  0  0  0  0]\n",
      " [ 0  0  0  0  0  0  0  0  1  0  0  0  0  0  0  0  0  0 -1  0  0  0  0  0]\n",
      " [ 0  0  0  0  0  0  0  0  0  1  0  0  0  0  0  0  0  0 -1  0  0  0  0  0]\n",
      " [ 0  0  0  0  0  0  0  0  0  0  1  0  0  0  0  0  0 -1  0  0  0  0  0  0]\n",
      " [ 0  0  0  0  0  0  0  0  0  0  0  1  0  0  0  0 -1  0  0  0  0  0  0  0]\n",
      " [ 0  0  0  0  0  0  0  0  0  0  1  0  0  0  0 -1  0  0  0  0  0  0  0  0]\n",
      " [ 0  0  0  0  0  0  0  0  0  1  0  0  0  0 -1  0  0  0  0  0  0  0  0  0]\n",
      " [ 0  0  0  0  0  0  0  0  1  0  0  0  0 -1  0  0  0  0  0  0  0  0  0  0]\n",
      " [ 0  0  0  0  0  0  0  1  0  0  0  0 -1  0  0  0  0  0  0  0  0  0  0  0]\n",
      " [ 0  0  0  0  0  0  1  0  0  0  0  0  0  0  0  0  0  0  0 -1  0  0  0  0]\n",
      " [ 0  0  0  0  0  1  0  0  0  0  0  0  0  0  0  0  0  0  0  0 -1  0  0  0]\n",
      " [ 0  0  0  0  1  0  0  0  0  0  0  0  0  0  0  0  0  0  0  0  0 -1  0  0]\n",
      " [ 0  0  0  1  0  0  0  0  0  0  0  0  0  0  0  0  0  0  0  0  0  0 -1  0]\n",
      " [ 0  0  1  0  0  0  0  0  0  0  0  0  0  0  0  0  0  0  0  0  0  0  0 -1]\n",
      " [ 1  0  0  0  0  0  0  0  0  0  0  0  0  0  0  0  0  0  0  0  0  0 -1  0]\n",
      " [ 0  1  0  0  0  0  0  0  0  0  0  0  0  0  0  0  0  0  0  0  0 -1  0  0]\n",
      " [ 0  1  0  0  0  0  0  0  0  0  0  0  0  0  0  0  0  0  0  0 -1  0  0  0]\n",
      " [ 1  0  0  0  0  0  0  0  0  0  0  0  0  0  0  0  0  0  0 -1  0  0  0  0]\n",
      " [ 0  0  0  0  0  0  0  0  0  0  0  1  0  0  0  0  0  0  0  0  0  0  0  0]] --det--> -1.0\n"
     ]
    }
   ],
   "source": [
    "M = get_matrix(sqr)\n",
    "print(\"{} --det--> {}\".format(M, np.linalg.det(M)))"
   ]
  },
  {
   "cell_type": "markdown",
   "metadata": {
    "heading_collapsed": true
   },
   "source": [
    "### Connecting $\\pm 1$'s on the matrix"
   ]
  },
  {
   "cell_type": "code",
   "execution_count": 51,
   "metadata": {
    "ExecuteTime": {
     "end_time": "2019-11-21T05:26:46.998344Z",
     "start_time": "2019-11-21T05:26:46.629502Z"
    },
    "hidden": true
   },
   "outputs": [
    {
     "data": {
      "application/vnd.plotly.v1+json": {
       "config": {
        "plotlyServerURL": "https://plot.ly"
       },
       "data": [
        {
         "marker": {
          "color": "RoyalBlue",
          "size": 2
         },
         "mode": "markers",
         "type": "scatter",
         "x": [
          0.625,
          1.0416666666666667,
          1.875,
          2.291666666666667,
          2.7083333333333335,
          3.125,
          3.541666666666667,
          3.9583333333333335,
          4.375,
          4.791666666666667,
          5.208333333333334,
          6.041666666666667,
          6.458333333333334,
          6.875,
          7.291666666666667,
          7.708333333333334,
          8.125,
          8.541666666666668,
          8.958333333333334,
          9.375,
          9.791666666666668,
          10.208333333333334,
          0.625,
          1.0416666666666667,
          1.4583333333333335,
          2.291666666666667,
          2.7083333333333335,
          3.125,
          3.541666666666667,
          3.9583333333333335,
          4.375,
          4.791666666666667,
          5.208333333333334,
          5.625,
          6.458333333333334,
          6.875,
          7.291666666666667,
          7.708333333333334,
          8.125,
          8.541666666666668,
          8.958333333333334,
          9.375,
          9.791666666666668,
          10.208333333333334,
          0.625,
          1.0416666666666667,
          1.4583333333333335,
          1.875,
          2.7083333333333335,
          3.125,
          3.541666666666667,
          3.9583333333333335,
          4.375,
          4.791666666666667,
          5.208333333333334,
          5.625,
          6.041666666666667,
          6.875,
          7.291666666666667,
          7.708333333333334,
          8.125,
          8.541666666666668,
          8.958333333333334,
          9.375,
          9.791666666666668,
          10.208333333333334,
          0.625,
          1.0416666666666667,
          1.4583333333333335,
          1.875,
          2.291666666666667,
          3.125,
          3.541666666666667,
          3.9583333333333335,
          4.375,
          4.791666666666667,
          5.208333333333334,
          5.625,
          6.041666666666667,
          6.458333333333334,
          7.291666666666667,
          7.708333333333334,
          8.125,
          8.541666666666668,
          8.958333333333334,
          9.375,
          9.791666666666668,
          10.208333333333334,
          0.625,
          1.0416666666666667,
          1.4583333333333335,
          1.875,
          2.291666666666667,
          2.7083333333333335,
          3.541666666666667,
          3.9583333333333335,
          4.375,
          4.791666666666667,
          5.208333333333334,
          5.625,
          6.041666666666667,
          6.458333333333334,
          6.875,
          7.708333333333334,
          8.125,
          8.541666666666668,
          8.958333333333334,
          9.375,
          9.791666666666668,
          10.208333333333334,
          0.625,
          1.0416666666666667,
          1.4583333333333335,
          1.875,
          2.291666666666667,
          2.7083333333333335,
          3.125,
          3.9583333333333335,
          4.375,
          4.791666666666667,
          5.208333333333334,
          5.625,
          6.041666666666667,
          6.458333333333334,
          6.875,
          7.291666666666667,
          8.125,
          8.541666666666668,
          8.958333333333334,
          9.375,
          9.791666666666668,
          10.208333333333334,
          0.625,
          1.0416666666666667,
          1.4583333333333335,
          1.875,
          2.291666666666667,
          2.7083333333333335,
          3.125,
          3.541666666666667,
          4.375,
          4.791666666666667,
          5.208333333333334,
          5.625,
          6.041666666666667,
          6.458333333333334,
          6.875,
          7.291666666666667,
          7.708333333333334,
          8.541666666666668,
          8.958333333333334,
          9.375,
          9.791666666666668,
          10.208333333333334,
          0.625,
          1.0416666666666667,
          1.4583333333333335,
          1.875,
          2.291666666666667,
          2.7083333333333335,
          3.125,
          3.541666666666667,
          3.9583333333333335,
          4.791666666666667,
          5.208333333333334,
          5.625,
          6.041666666666667,
          6.458333333333334,
          6.875,
          7.291666666666667,
          7.708333333333334,
          8.541666666666668,
          8.958333333333334,
          9.375,
          9.791666666666668,
          10.208333333333334,
          0.625,
          1.0416666666666667,
          1.4583333333333335,
          1.875,
          2.291666666666667,
          2.7083333333333335,
          3.125,
          3.541666666666667,
          3.9583333333333335,
          4.375,
          5.208333333333334,
          5.625,
          6.041666666666667,
          6.458333333333334,
          6.875,
          7.291666666666667,
          8.125,
          8.541666666666668,
          8.958333333333334,
          9.375,
          9.791666666666668,
          10.208333333333334,
          0.625,
          1.0416666666666667,
          1.4583333333333335,
          1.875,
          2.291666666666667,
          2.7083333333333335,
          3.125,
          3.541666666666667,
          3.9583333333333335,
          4.375,
          4.791666666666667,
          5.625,
          6.041666666666667,
          6.458333333333334,
          6.875,
          7.708333333333334,
          8.125,
          8.541666666666668,
          8.958333333333334,
          9.375,
          9.791666666666668,
          10.208333333333334,
          0.625,
          1.0416666666666667,
          1.4583333333333335,
          1.875,
          2.291666666666667,
          2.7083333333333335,
          3.125,
          3.541666666666667,
          3.9583333333333335,
          4.375,
          5.208333333333334,
          5.625,
          6.041666666666667,
          6.458333333333334,
          7.291666666666667,
          7.708333333333334,
          8.125,
          8.541666666666668,
          8.958333333333334,
          9.375,
          9.791666666666668,
          10.208333333333334,
          0.625,
          1.0416666666666667,
          1.4583333333333335,
          1.875,
          2.291666666666667,
          2.7083333333333335,
          3.125,
          3.541666666666667,
          3.9583333333333335,
          4.791666666666667,
          5.208333333333334,
          5.625,
          6.041666666666667,
          6.875,
          7.291666666666667,
          7.708333333333334,
          8.125,
          8.541666666666668,
          8.958333333333334,
          9.375,
          9.791666666666668,
          10.208333333333334,
          0.625,
          1.0416666666666667,
          1.4583333333333335,
          1.875,
          2.291666666666667,
          2.7083333333333335,
          3.125,
          3.541666666666667,
          4.375,
          4.791666666666667,
          5.208333333333334,
          5.625,
          6.458333333333334,
          6.875,
          7.291666666666667,
          7.708333333333334,
          8.125,
          8.541666666666668,
          8.958333333333334,
          9.375,
          9.791666666666668,
          10.208333333333334,
          0.625,
          1.0416666666666667,
          1.4583333333333335,
          1.875,
          2.291666666666667,
          2.7083333333333335,
          3.125,
          3.9583333333333335,
          4.375,
          4.791666666666667,
          5.208333333333334,
          6.041666666666667,
          6.458333333333334,
          6.875,
          7.291666666666667,
          7.708333333333334,
          8.125,
          8.541666666666668,
          8.958333333333334,
          9.375,
          9.791666666666668,
          10.208333333333334,
          0.625,
          1.0416666666666667,
          1.4583333333333335,
          1.875,
          2.291666666666667,
          2.7083333333333335,
          3.541666666666667,
          3.9583333333333335,
          4.375,
          4.791666666666667,
          5.208333333333334,
          5.625,
          6.041666666666667,
          6.458333333333334,
          6.875,
          7.291666666666667,
          7.708333333333334,
          8.125,
          8.958333333333334,
          9.375,
          9.791666666666668,
          10.208333333333334,
          0.625,
          1.0416666666666667,
          1.4583333333333335,
          1.875,
          2.291666666666667,
          3.125,
          3.541666666666667,
          3.9583333333333335,
          4.375,
          4.791666666666667,
          5.208333333333334,
          5.625,
          6.041666666666667,
          6.458333333333334,
          6.875,
          7.291666666666667,
          7.708333333333334,
          8.125,
          8.541666666666668,
          9.375,
          9.791666666666668,
          10.208333333333334,
          0.625,
          1.0416666666666667,
          1.4583333333333335,
          1.875,
          2.7083333333333335,
          3.125,
          3.541666666666667,
          3.9583333333333335,
          4.375,
          4.791666666666667,
          5.208333333333334,
          5.625,
          6.041666666666667,
          6.458333333333334,
          6.875,
          7.291666666666667,
          7.708333333333334,
          8.125,
          8.541666666666668,
          8.958333333333334,
          9.791666666666668,
          10.208333333333334,
          0.625,
          1.0416666666666667,
          1.4583333333333335,
          2.291666666666667,
          2.7083333333333335,
          3.125,
          3.541666666666667,
          3.9583333333333335,
          4.375,
          4.791666666666667,
          5.208333333333334,
          5.625,
          6.041666666666667,
          6.458333333333334,
          6.875,
          7.291666666666667,
          7.708333333333334,
          8.125,
          8.541666666666668,
          8.958333333333334,
          9.375,
          10.208333333333334,
          0.625,
          1.0416666666666667,
          1.875,
          2.291666666666667,
          2.7083333333333335,
          3.125,
          3.541666666666667,
          3.9583333333333335,
          4.375,
          4.791666666666667,
          5.208333333333334,
          5.625,
          6.041666666666667,
          6.458333333333334,
          6.875,
          7.291666666666667,
          7.708333333333334,
          8.125,
          8.541666666666668,
          8.958333333333334,
          9.375,
          9.791666666666668,
          1.0416666666666667,
          1.4583333333333335,
          1.875,
          2.291666666666667,
          2.7083333333333335,
          3.125,
          3.541666666666667,
          3.9583333333333335,
          4.375,
          4.791666666666667,
          5.208333333333334,
          5.625,
          6.041666666666667,
          6.458333333333334,
          6.875,
          7.291666666666667,
          7.708333333333334,
          8.125,
          8.541666666666668,
          8.958333333333334,
          9.375,
          10.208333333333334,
          0.625,
          1.4583333333333335,
          1.875,
          2.291666666666667,
          2.7083333333333335,
          3.125,
          3.541666666666667,
          3.9583333333333335,
          4.375,
          4.791666666666667,
          5.208333333333334,
          5.625,
          6.041666666666667,
          6.458333333333334,
          6.875,
          7.291666666666667,
          7.708333333333334,
          8.125,
          8.541666666666668,
          8.958333333333334,
          9.791666666666668,
          10.208333333333334,
          0.625,
          1.4583333333333335,
          1.875,
          2.291666666666667,
          2.7083333333333335,
          3.125,
          3.541666666666667,
          3.9583333333333335,
          4.375,
          4.791666666666667,
          5.208333333333334,
          5.625,
          6.041666666666667,
          6.458333333333334,
          6.875,
          7.291666666666667,
          7.708333333333334,
          8.125,
          8.541666666666668,
          9.375,
          9.791666666666668,
          10.208333333333334,
          1.0416666666666667,
          1.4583333333333335,
          1.875,
          2.291666666666667,
          2.7083333333333335,
          3.125,
          3.541666666666667,
          3.9583333333333335,
          4.375,
          4.791666666666667,
          5.208333333333334,
          5.625,
          6.041666666666667,
          6.458333333333334,
          6.875,
          7.291666666666667,
          7.708333333333334,
          8.125,
          8.958333333333334,
          9.375,
          9.791666666666668,
          10.208333333333334,
          0.625,
          1.0416666666666667,
          1.4583333333333335,
          1.875,
          2.291666666666667,
          2.7083333333333335,
          3.125,
          3.541666666666667,
          3.9583333333333335,
          4.375,
          4.791666666666667,
          5.625,
          6.041666666666667,
          6.458333333333334,
          6.875,
          7.291666666666667,
          7.708333333333334,
          8.125,
          8.541666666666668,
          8.958333333333334,
          9.375,
          9.791666666666668,
          10.208333333333334
         ],
         "y": [
          10.208333333333334,
          10.208333333333334,
          10.208333333333334,
          10.208333333333334,
          10.208333333333334,
          10.208333333333334,
          10.208333333333334,
          10.208333333333334,
          10.208333333333334,
          10.208333333333334,
          10.208333333333334,
          10.208333333333334,
          10.208333333333334,
          10.208333333333334,
          10.208333333333334,
          10.208333333333334,
          10.208333333333334,
          10.208333333333334,
          10.208333333333334,
          10.208333333333334,
          10.208333333333334,
          10.208333333333334,
          9.791666666666666,
          9.791666666666666,
          9.791666666666666,
          9.791666666666666,
          9.791666666666666,
          9.791666666666666,
          9.791666666666666,
          9.791666666666666,
          9.791666666666666,
          9.791666666666666,
          9.791666666666666,
          9.791666666666666,
          9.791666666666666,
          9.791666666666666,
          9.791666666666666,
          9.791666666666666,
          9.791666666666666,
          9.791666666666666,
          9.791666666666666,
          9.791666666666666,
          9.791666666666666,
          9.791666666666666,
          9.375,
          9.375,
          9.375,
          9.375,
          9.375,
          9.375,
          9.375,
          9.375,
          9.375,
          9.375,
          9.375,
          9.375,
          9.375,
          9.375,
          9.375,
          9.375,
          9.375,
          9.375,
          9.375,
          9.375,
          9.375,
          9.375,
          8.958333333333334,
          8.958333333333334,
          8.958333333333334,
          8.958333333333334,
          8.958333333333334,
          8.958333333333334,
          8.958333333333334,
          8.958333333333334,
          8.958333333333334,
          8.958333333333334,
          8.958333333333334,
          8.958333333333334,
          8.958333333333334,
          8.958333333333334,
          8.958333333333334,
          8.958333333333334,
          8.958333333333334,
          8.958333333333334,
          8.958333333333334,
          8.958333333333334,
          8.958333333333334,
          8.958333333333334,
          8.541666666666666,
          8.541666666666666,
          8.541666666666666,
          8.541666666666666,
          8.541666666666666,
          8.541666666666666,
          8.541666666666666,
          8.541666666666666,
          8.541666666666666,
          8.541666666666666,
          8.541666666666666,
          8.541666666666666,
          8.541666666666666,
          8.541666666666666,
          8.541666666666666,
          8.541666666666666,
          8.541666666666666,
          8.541666666666666,
          8.541666666666666,
          8.541666666666666,
          8.541666666666666,
          8.541666666666666,
          8.125,
          8.125,
          8.125,
          8.125,
          8.125,
          8.125,
          8.125,
          8.125,
          8.125,
          8.125,
          8.125,
          8.125,
          8.125,
          8.125,
          8.125,
          8.125,
          8.125,
          8.125,
          8.125,
          8.125,
          8.125,
          8.125,
          7.708333333333334,
          7.708333333333334,
          7.708333333333334,
          7.708333333333334,
          7.708333333333334,
          7.708333333333334,
          7.708333333333334,
          7.708333333333334,
          7.708333333333334,
          7.708333333333334,
          7.708333333333334,
          7.708333333333334,
          7.708333333333334,
          7.708333333333334,
          7.708333333333334,
          7.708333333333334,
          7.708333333333334,
          7.708333333333334,
          7.708333333333334,
          7.708333333333334,
          7.708333333333334,
          7.708333333333334,
          7.291666666666666,
          7.291666666666666,
          7.291666666666666,
          7.291666666666666,
          7.291666666666666,
          7.291666666666666,
          7.291666666666666,
          7.291666666666666,
          7.291666666666666,
          7.291666666666666,
          7.291666666666666,
          7.291666666666666,
          7.291666666666666,
          7.291666666666666,
          7.291666666666666,
          7.291666666666666,
          7.291666666666666,
          7.291666666666666,
          7.291666666666666,
          7.291666666666666,
          7.291666666666666,
          7.291666666666666,
          6.875,
          6.875,
          6.875,
          6.875,
          6.875,
          6.875,
          6.875,
          6.875,
          6.875,
          6.875,
          6.875,
          6.875,
          6.875,
          6.875,
          6.875,
          6.875,
          6.875,
          6.875,
          6.875,
          6.875,
          6.875,
          6.875,
          6.458333333333334,
          6.458333333333334,
          6.458333333333334,
          6.458333333333334,
          6.458333333333334,
          6.458333333333334,
          6.458333333333334,
          6.458333333333334,
          6.458333333333334,
          6.458333333333334,
          6.458333333333334,
          6.458333333333334,
          6.458333333333334,
          6.458333333333334,
          6.458333333333334,
          6.458333333333334,
          6.458333333333334,
          6.458333333333334,
          6.458333333333334,
          6.458333333333334,
          6.458333333333334,
          6.458333333333334,
          6.041666666666666,
          6.041666666666666,
          6.041666666666666,
          6.041666666666666,
          6.041666666666666,
          6.041666666666666,
          6.041666666666666,
          6.041666666666666,
          6.041666666666666,
          6.041666666666666,
          6.041666666666666,
          6.041666666666666,
          6.041666666666666,
          6.041666666666666,
          6.041666666666666,
          6.041666666666666,
          6.041666666666666,
          6.041666666666666,
          6.041666666666666,
          6.041666666666666,
          6.041666666666666,
          6.041666666666666,
          5.624999999999999,
          5.624999999999999,
          5.624999999999999,
          5.624999999999999,
          5.624999999999999,
          5.624999999999999,
          5.624999999999999,
          5.624999999999999,
          5.624999999999999,
          5.624999999999999,
          5.624999999999999,
          5.624999999999999,
          5.624999999999999,
          5.624999999999999,
          5.624999999999999,
          5.624999999999999,
          5.624999999999999,
          5.624999999999999,
          5.624999999999999,
          5.624999999999999,
          5.624999999999999,
          5.624999999999999,
          5.208333333333333,
          5.208333333333333,
          5.208333333333333,
          5.208333333333333,
          5.208333333333333,
          5.208333333333333,
          5.208333333333333,
          5.208333333333333,
          5.208333333333333,
          5.208333333333333,
          5.208333333333333,
          5.208333333333333,
          5.208333333333333,
          5.208333333333333,
          5.208333333333333,
          5.208333333333333,
          5.208333333333333,
          5.208333333333333,
          5.208333333333333,
          5.208333333333333,
          5.208333333333333,
          5.208333333333333,
          4.791666666666666,
          4.791666666666666,
          4.791666666666666,
          4.791666666666666,
          4.791666666666666,
          4.791666666666666,
          4.791666666666666,
          4.791666666666666,
          4.791666666666666,
          4.791666666666666,
          4.791666666666666,
          4.791666666666666,
          4.791666666666666,
          4.791666666666666,
          4.791666666666666,
          4.791666666666666,
          4.791666666666666,
          4.791666666666666,
          4.791666666666666,
          4.791666666666666,
          4.791666666666666,
          4.791666666666666,
          4.374999999999999,
          4.374999999999999,
          4.374999999999999,
          4.374999999999999,
          4.374999999999999,
          4.374999999999999,
          4.374999999999999,
          4.374999999999999,
          4.374999999999999,
          4.374999999999999,
          4.374999999999999,
          4.374999999999999,
          4.374999999999999,
          4.374999999999999,
          4.374999999999999,
          4.374999999999999,
          4.374999999999999,
          4.374999999999999,
          4.374999999999999,
          4.374999999999999,
          4.374999999999999,
          4.374999999999999,
          3.958333333333333,
          3.958333333333333,
          3.958333333333333,
          3.958333333333333,
          3.958333333333333,
          3.958333333333333,
          3.958333333333333,
          3.958333333333333,
          3.958333333333333,
          3.958333333333333,
          3.958333333333333,
          3.958333333333333,
          3.958333333333333,
          3.958333333333333,
          3.958333333333333,
          3.958333333333333,
          3.958333333333333,
          3.958333333333333,
          3.958333333333333,
          3.958333333333333,
          3.958333333333333,
          3.958333333333333,
          3.541666666666666,
          3.541666666666666,
          3.541666666666666,
          3.541666666666666,
          3.541666666666666,
          3.541666666666666,
          3.541666666666666,
          3.541666666666666,
          3.541666666666666,
          3.541666666666666,
          3.541666666666666,
          3.541666666666666,
          3.541666666666666,
          3.541666666666666,
          3.541666666666666,
          3.541666666666666,
          3.541666666666666,
          3.541666666666666,
          3.541666666666666,
          3.541666666666666,
          3.541666666666666,
          3.541666666666666,
          3.124999999999999,
          3.124999999999999,
          3.124999999999999,
          3.124999999999999,
          3.124999999999999,
          3.124999999999999,
          3.124999999999999,
          3.124999999999999,
          3.124999999999999,
          3.124999999999999,
          3.124999999999999,
          3.124999999999999,
          3.124999999999999,
          3.124999999999999,
          3.124999999999999,
          3.124999999999999,
          3.124999999999999,
          3.124999999999999,
          3.124999999999999,
          3.124999999999999,
          3.124999999999999,
          3.124999999999999,
          2.708333333333333,
          2.708333333333333,
          2.708333333333333,
          2.708333333333333,
          2.708333333333333,
          2.708333333333333,
          2.708333333333333,
          2.708333333333333,
          2.708333333333333,
          2.708333333333333,
          2.708333333333333,
          2.708333333333333,
          2.708333333333333,
          2.708333333333333,
          2.708333333333333,
          2.708333333333333,
          2.708333333333333,
          2.708333333333333,
          2.708333333333333,
          2.708333333333333,
          2.708333333333333,
          2.708333333333333,
          2.291666666666666,
          2.291666666666666,
          2.291666666666666,
          2.291666666666666,
          2.291666666666666,
          2.291666666666666,
          2.291666666666666,
          2.291666666666666,
          2.291666666666666,
          2.291666666666666,
          2.291666666666666,
          2.291666666666666,
          2.291666666666666,
          2.291666666666666,
          2.291666666666666,
          2.291666666666666,
          2.291666666666666,
          2.291666666666666,
          2.291666666666666,
          2.291666666666666,
          2.291666666666666,
          2.291666666666666,
          1.875,
          1.875,
          1.875,
          1.875,
          1.875,
          1.875,
          1.875,
          1.875,
          1.875,
          1.875,
          1.875,
          1.875,
          1.875,
          1.875,
          1.875,
          1.875,
          1.875,
          1.875,
          1.875,
          1.875,
          1.875,
          1.875,
          1.458333333333334,
          1.458333333333334,
          1.458333333333334,
          1.458333333333334,
          1.458333333333334,
          1.458333333333334,
          1.458333333333334,
          1.458333333333334,
          1.458333333333334,
          1.458333333333334,
          1.458333333333334,
          1.458333333333334,
          1.458333333333334,
          1.458333333333334,
          1.458333333333334,
          1.458333333333334,
          1.458333333333334,
          1.458333333333334,
          1.458333333333334,
          1.458333333333334,
          1.458333333333334,
          1.458333333333334,
          1.041666666666666,
          1.041666666666666,
          1.041666666666666,
          1.041666666666666,
          1.041666666666666,
          1.041666666666666,
          1.041666666666666,
          1.041666666666666,
          1.041666666666666,
          1.041666666666666,
          1.041666666666666,
          1.041666666666666,
          1.041666666666666,
          1.041666666666666,
          1.041666666666666,
          1.041666666666666,
          1.041666666666666,
          1.041666666666666,
          1.041666666666666,
          1.041666666666666,
          1.041666666666666,
          1.041666666666666,
          0.625,
          0.625,
          0.625,
          0.625,
          0.625,
          0.625,
          0.625,
          0.625,
          0.625,
          0.625,
          0.625,
          0.625,
          0.625,
          0.625,
          0.625,
          0.625,
          0.625,
          0.625,
          0.625,
          0.625,
          0.625,
          0.625,
          0.625
         ]
        },
        {
         "marker": {
          "color": "Red",
          "size": 5
         },
         "mode": "markers",
         "type": "scatter",
         "x": [
          1.4583333333333335,
          5.625,
          1.875,
          6.041666666666667,
          2.291666666666667,
          6.458333333333334,
          2.7083333333333335,
          6.875,
          3.125,
          7.291666666666667,
          3.541666666666667,
          7.708333333333334,
          3.9583333333333335,
          8.125,
          4.375,
          8.125,
          4.791666666666667,
          7.708333333333334,
          5.208333333333334,
          7.291666666666667,
          4.791666666666667,
          6.875,
          4.375,
          6.458333333333334,
          3.9583333333333335,
          6.041666666666667,
          3.541666666666667,
          5.625,
          3.125,
          8.541666666666668,
          2.7083333333333335,
          8.958333333333334,
          2.291666666666667,
          9.375,
          1.875,
          9.791666666666668,
          1.4583333333333335,
          10.208333333333334,
          0.625,
          9.791666666666668,
          1.0416666666666667,
          9.375,
          1.0416666666666667,
          8.958333333333334,
          0.625,
          8.541666666666668,
          5.208333333333334
         ],
         "y": [
          10.208333333333334,
          10.208333333333334,
          9.791666666666666,
          9.791666666666666,
          9.375,
          9.375,
          8.958333333333334,
          8.958333333333334,
          8.541666666666666,
          8.541666666666666,
          8.125,
          8.125,
          7.708333333333334,
          7.708333333333334,
          7.291666666666666,
          7.291666666666666,
          6.875,
          6.875,
          6.458333333333334,
          6.458333333333334,
          6.041666666666666,
          6.041666666666666,
          5.624999999999999,
          5.624999999999999,
          5.208333333333333,
          5.208333333333333,
          4.791666666666666,
          4.791666666666666,
          4.374999999999999,
          4.374999999999999,
          3.958333333333333,
          3.958333333333333,
          3.541666666666666,
          3.541666666666666,
          3.124999999999999,
          3.124999999999999,
          2.708333333333333,
          2.708333333333333,
          2.291666666666666,
          2.291666666666666,
          1.875,
          1.875,
          1.458333333333334,
          1.458333333333334,
          1.041666666666666,
          1.041666666666666,
          0.625
         ]
        }
       ],
       "layout": {
        "height": 500,
        "shapes": [
         {
          "line": {
           "color": "LightSeaGreen",
           "width": 1
          },
          "type": "line",
          "x0": 1.4583333333333335,
          "x1": 5.625,
          "y0": 10.208333333333334,
          "y1": 10.208333333333334
         },
         {
          "line": {
           "color": "LightSeaGreen",
           "width": 1
          },
          "type": "line",
          "x0": 0.625,
          "x1": 0.625,
          "y0": 2.291666666666666,
          "y1": 1.041666666666666
         },
         {
          "line": {
           "color": "LightSeaGreen",
           "width": 1
          },
          "type": "line",
          "x0": 1.875,
          "x1": 6.041666666666667,
          "y0": 9.791666666666666,
          "y1": 9.791666666666666
         },
         {
          "line": {
           "color": "LightSeaGreen",
           "width": 1
          },
          "type": "line",
          "x0": 1.0416666666666667,
          "x1": 1.0416666666666667,
          "y0": 1.875,
          "y1": 1.458333333333334
         },
         {
          "line": {
           "color": "LightSeaGreen",
           "width": 1
          },
          "type": "line",
          "x0": 2.291666666666667,
          "x1": 6.458333333333334,
          "y0": 9.375,
          "y1": 9.375
         },
         {
          "line": {
           "color": "LightSeaGreen",
           "width": 1
          },
          "type": "line",
          "x0": 1.4583333333333335,
          "x1": 1.4583333333333335,
          "y0": 10.208333333333334,
          "y1": 2.708333333333333
         },
         {
          "line": {
           "color": "LightSeaGreen",
           "width": 1
          },
          "type": "line",
          "x0": 2.7083333333333335,
          "x1": 6.875,
          "y0": 8.958333333333334,
          "y1": 8.958333333333334
         },
         {
          "line": {
           "color": "LightSeaGreen",
           "width": 1
          },
          "type": "line",
          "x0": 1.875,
          "x1": 1.875,
          "y0": 9.791666666666666,
          "y1": 3.124999999999999
         },
         {
          "line": {
           "color": "LightSeaGreen",
           "width": 1
          },
          "type": "line",
          "x0": 3.125,
          "x1": 7.291666666666667,
          "y0": 8.541666666666666,
          "y1": 8.541666666666666
         },
         {
          "line": {
           "color": "LightSeaGreen",
           "width": 1
          },
          "type": "line",
          "x0": 2.291666666666667,
          "x1": 2.291666666666667,
          "y0": 9.375,
          "y1": 3.541666666666666
         },
         {
          "line": {
           "color": "LightSeaGreen",
           "width": 1
          },
          "type": "line",
          "x0": 3.541666666666667,
          "x1": 7.708333333333334,
          "y0": 8.125,
          "y1": 8.125
         },
         {
          "line": {
           "color": "LightSeaGreen",
           "width": 1
          },
          "type": "line",
          "x0": 2.7083333333333335,
          "x1": 2.7083333333333335,
          "y0": 8.958333333333334,
          "y1": 3.958333333333333
         },
         {
          "line": {
           "color": "LightSeaGreen",
           "width": 1
          },
          "type": "line",
          "x0": 3.9583333333333335,
          "x1": 8.125,
          "y0": 7.708333333333334,
          "y1": 7.708333333333334
         },
         {
          "line": {
           "color": "LightSeaGreen",
           "width": 1
          },
          "type": "line",
          "x0": 3.125,
          "x1": 3.125,
          "y0": 8.541666666666666,
          "y1": 4.374999999999999
         },
         {
          "line": {
           "color": "LightSeaGreen",
           "width": 1
          },
          "type": "line",
          "x0": 4.375,
          "x1": 8.125,
          "y0": 7.291666666666666,
          "y1": 7.291666666666666
         },
         {
          "line": {
           "color": "LightSeaGreen",
           "width": 1
          },
          "type": "line",
          "x0": 3.541666666666667,
          "x1": 3.541666666666667,
          "y0": 8.125,
          "y1": 4.791666666666666
         },
         {
          "line": {
           "color": "LightSeaGreen",
           "width": 1
          },
          "type": "line",
          "x0": 4.791666666666667,
          "x1": 7.708333333333334,
          "y0": 6.875,
          "y1": 6.875
         },
         {
          "line": {
           "color": "LightSeaGreen",
           "width": 1
          },
          "type": "line",
          "x0": 3.9583333333333335,
          "x1": 3.9583333333333335,
          "y0": 7.708333333333334,
          "y1": 5.208333333333333
         },
         {
          "line": {
           "color": "LightSeaGreen",
           "width": 1
          },
          "type": "line",
          "x0": 5.208333333333334,
          "x1": 7.291666666666667,
          "y0": 6.458333333333334,
          "y1": 6.458333333333334
         },
         {
          "line": {
           "color": "LightSeaGreen",
           "width": 1
          },
          "type": "line",
          "x0": 4.375,
          "x1": 4.375,
          "y0": 7.291666666666666,
          "y1": 5.624999999999999
         },
         {
          "line": {
           "color": "LightSeaGreen",
           "width": 1
          },
          "type": "line",
          "x0": 4.791666666666667,
          "x1": 6.875,
          "y0": 6.041666666666666,
          "y1": 6.041666666666666
         },
         {
          "line": {
           "color": "LightSeaGreen",
           "width": 1
          },
          "type": "line",
          "x0": 4.791666666666667,
          "x1": 4.791666666666667,
          "y0": 6.875,
          "y1": 6.041666666666666
         },
         {
          "line": {
           "color": "LightSeaGreen",
           "width": 1
          },
          "type": "line",
          "x0": 4.375,
          "x1": 6.458333333333334,
          "y0": 5.624999999999999,
          "y1": 5.624999999999999
         },
         {
          "line": {
           "color": "LightSeaGreen",
           "width": 1
          },
          "type": "line",
          "x0": 5.208333333333334,
          "x1": 5.208333333333334,
          "y0": 6.458333333333334,
          "y1": 0.625
         },
         {
          "line": {
           "color": "LightSeaGreen",
           "width": 1
          },
          "type": "line",
          "x0": 3.9583333333333335,
          "x1": 6.041666666666667,
          "y0": 5.208333333333333,
          "y1": 5.208333333333333
         },
         {
          "line": {
           "color": "LightSeaGreen",
           "width": 1
          },
          "type": "line",
          "x0": 5.625,
          "x1": 5.625,
          "y0": 10.208333333333334,
          "y1": 4.791666666666666
         },
         {
          "line": {
           "color": "LightSeaGreen",
           "width": 1
          },
          "type": "line",
          "x0": 3.541666666666667,
          "x1": 5.625,
          "y0": 4.791666666666666,
          "y1": 4.791666666666666
         },
         {
          "line": {
           "color": "LightSeaGreen",
           "width": 1
          },
          "type": "line",
          "x0": 6.041666666666667,
          "x1": 6.041666666666667,
          "y0": 9.791666666666666,
          "y1": 5.208333333333333
         },
         {
          "line": {
           "color": "LightSeaGreen",
           "width": 1
          },
          "type": "line",
          "x0": 3.125,
          "x1": 8.541666666666668,
          "y0": 4.374999999999999,
          "y1": 4.374999999999999
         },
         {
          "line": {
           "color": "LightSeaGreen",
           "width": 1
          },
          "type": "line",
          "x0": 6.458333333333334,
          "x1": 6.458333333333334,
          "y0": 9.375,
          "y1": 5.624999999999999
         },
         {
          "line": {
           "color": "LightSeaGreen",
           "width": 1
          },
          "type": "line",
          "x0": 2.7083333333333335,
          "x1": 8.958333333333334,
          "y0": 3.958333333333333,
          "y1": 3.958333333333333
         },
         {
          "line": {
           "color": "LightSeaGreen",
           "width": 1
          },
          "type": "line",
          "x0": 6.875,
          "x1": 6.875,
          "y0": 8.958333333333334,
          "y1": 6.041666666666666
         },
         {
          "line": {
           "color": "LightSeaGreen",
           "width": 1
          },
          "type": "line",
          "x0": 2.291666666666667,
          "x1": 9.375,
          "y0": 3.541666666666666,
          "y1": 3.541666666666666
         },
         {
          "line": {
           "color": "LightSeaGreen",
           "width": 1
          },
          "type": "line",
          "x0": 7.291666666666667,
          "x1": 7.291666666666667,
          "y0": 8.541666666666666,
          "y1": 6.458333333333334
         },
         {
          "line": {
           "color": "LightSeaGreen",
           "width": 1
          },
          "type": "line",
          "x0": 1.875,
          "x1": 9.791666666666668,
          "y0": 3.124999999999999,
          "y1": 3.124999999999999
         },
         {
          "line": {
           "color": "LightSeaGreen",
           "width": 1
          },
          "type": "line",
          "x0": 7.708333333333334,
          "x1": 7.708333333333334,
          "y0": 8.125,
          "y1": 6.875
         },
         {
          "line": {
           "color": "LightSeaGreen",
           "width": 1
          },
          "type": "line",
          "x0": 1.4583333333333335,
          "x1": 10.208333333333334,
          "y0": 2.708333333333333,
          "y1": 2.708333333333333
         },
         {
          "line": {
           "color": "LightSeaGreen",
           "width": 1
          },
          "type": "line",
          "x0": 8.125,
          "x1": 8.125,
          "y0": 7.708333333333334,
          "y1": 7.291666666666666
         },
         {
          "line": {
           "color": "LightSeaGreen",
           "width": 1
          },
          "type": "line",
          "x0": 0.625,
          "x1": 9.791666666666668,
          "y0": 2.291666666666666,
          "y1": 2.291666666666666
         },
         {
          "line": {
           "color": "LightSeaGreen",
           "width": 1
          },
          "type": "line",
          "x0": 8.541666666666668,
          "x1": 8.541666666666668,
          "y0": 4.374999999999999,
          "y1": 1.041666666666666
         },
         {
          "line": {
           "color": "LightSeaGreen",
           "width": 1
          },
          "type": "line",
          "x0": 1.0416666666666667,
          "x1": 9.375,
          "y0": 1.875,
          "y1": 1.875
         },
         {
          "line": {
           "color": "LightSeaGreen",
           "width": 1
          },
          "type": "line",
          "x0": 8.958333333333334,
          "x1": 8.958333333333334,
          "y0": 3.958333333333333,
          "y1": 1.458333333333334
         },
         {
          "line": {
           "color": "LightSeaGreen",
           "width": 1
          },
          "type": "line",
          "x0": 1.0416666666666667,
          "x1": 8.958333333333334,
          "y0": 1.458333333333334,
          "y1": 1.458333333333334
         },
         {
          "line": {
           "color": "LightSeaGreen",
           "width": 1
          },
          "type": "line",
          "x0": 9.375,
          "x1": 9.375,
          "y0": 3.541666666666666,
          "y1": 1.875
         },
         {
          "line": {
           "color": "LightSeaGreen",
           "width": 1
          },
          "type": "line",
          "x0": 0.625,
          "x1": 8.541666666666668,
          "y0": 1.041666666666666,
          "y1": 1.041666666666666
         },
         {
          "line": {
           "color": "LightSeaGreen",
           "width": 1
          },
          "type": "line",
          "x0": 9.791666666666668,
          "x1": 9.791666666666668,
          "y0": 3.124999999999999,
          "y1": 2.291666666666666
         }
        ],
        "showlegend": false,
        "template": {
         "data": {
          "bar": [
           {
            "error_x": {
             "color": "#2a3f5f"
            },
            "error_y": {
             "color": "#2a3f5f"
            },
            "marker": {
             "line": {
              "color": "#E5ECF6",
              "width": 0.5
             }
            },
            "type": "bar"
           }
          ],
          "barpolar": [
           {
            "marker": {
             "line": {
              "color": "#E5ECF6",
              "width": 0.5
             }
            },
            "type": "barpolar"
           }
          ],
          "carpet": [
           {
            "aaxis": {
             "endlinecolor": "#2a3f5f",
             "gridcolor": "white",
             "linecolor": "white",
             "minorgridcolor": "white",
             "startlinecolor": "#2a3f5f"
            },
            "baxis": {
             "endlinecolor": "#2a3f5f",
             "gridcolor": "white",
             "linecolor": "white",
             "minorgridcolor": "white",
             "startlinecolor": "#2a3f5f"
            },
            "type": "carpet"
           }
          ],
          "choropleth": [
           {
            "colorbar": {
             "outlinewidth": 0,
             "ticks": ""
            },
            "type": "choropleth"
           }
          ],
          "contour": [
           {
            "colorbar": {
             "outlinewidth": 0,
             "ticks": ""
            },
            "colorscale": [
             [
              0,
              "#0d0887"
             ],
             [
              0.1111111111111111,
              "#46039f"
             ],
             [
              0.2222222222222222,
              "#7201a8"
             ],
             [
              0.3333333333333333,
              "#9c179e"
             ],
             [
              0.4444444444444444,
              "#bd3786"
             ],
             [
              0.5555555555555556,
              "#d8576b"
             ],
             [
              0.6666666666666666,
              "#ed7953"
             ],
             [
              0.7777777777777778,
              "#fb9f3a"
             ],
             [
              0.8888888888888888,
              "#fdca26"
             ],
             [
              1,
              "#f0f921"
             ]
            ],
            "type": "contour"
           }
          ],
          "contourcarpet": [
           {
            "colorbar": {
             "outlinewidth": 0,
             "ticks": ""
            },
            "type": "contourcarpet"
           }
          ],
          "heatmap": [
           {
            "colorbar": {
             "outlinewidth": 0,
             "ticks": ""
            },
            "colorscale": [
             [
              0,
              "#0d0887"
             ],
             [
              0.1111111111111111,
              "#46039f"
             ],
             [
              0.2222222222222222,
              "#7201a8"
             ],
             [
              0.3333333333333333,
              "#9c179e"
             ],
             [
              0.4444444444444444,
              "#bd3786"
             ],
             [
              0.5555555555555556,
              "#d8576b"
             ],
             [
              0.6666666666666666,
              "#ed7953"
             ],
             [
              0.7777777777777778,
              "#fb9f3a"
             ],
             [
              0.8888888888888888,
              "#fdca26"
             ],
             [
              1,
              "#f0f921"
             ]
            ],
            "type": "heatmap"
           }
          ],
          "heatmapgl": [
           {
            "colorbar": {
             "outlinewidth": 0,
             "ticks": ""
            },
            "colorscale": [
             [
              0,
              "#0d0887"
             ],
             [
              0.1111111111111111,
              "#46039f"
             ],
             [
              0.2222222222222222,
              "#7201a8"
             ],
             [
              0.3333333333333333,
              "#9c179e"
             ],
             [
              0.4444444444444444,
              "#bd3786"
             ],
             [
              0.5555555555555556,
              "#d8576b"
             ],
             [
              0.6666666666666666,
              "#ed7953"
             ],
             [
              0.7777777777777778,
              "#fb9f3a"
             ],
             [
              0.8888888888888888,
              "#fdca26"
             ],
             [
              1,
              "#f0f921"
             ]
            ],
            "type": "heatmapgl"
           }
          ],
          "histogram": [
           {
            "marker": {
             "colorbar": {
              "outlinewidth": 0,
              "ticks": ""
             }
            },
            "type": "histogram"
           }
          ],
          "histogram2d": [
           {
            "colorbar": {
             "outlinewidth": 0,
             "ticks": ""
            },
            "colorscale": [
             [
              0,
              "#0d0887"
             ],
             [
              0.1111111111111111,
              "#46039f"
             ],
             [
              0.2222222222222222,
              "#7201a8"
             ],
             [
              0.3333333333333333,
              "#9c179e"
             ],
             [
              0.4444444444444444,
              "#bd3786"
             ],
             [
              0.5555555555555556,
              "#d8576b"
             ],
             [
              0.6666666666666666,
              "#ed7953"
             ],
             [
              0.7777777777777778,
              "#fb9f3a"
             ],
             [
              0.8888888888888888,
              "#fdca26"
             ],
             [
              1,
              "#f0f921"
             ]
            ],
            "type": "histogram2d"
           }
          ],
          "histogram2dcontour": [
           {
            "colorbar": {
             "outlinewidth": 0,
             "ticks": ""
            },
            "colorscale": [
             [
              0,
              "#0d0887"
             ],
             [
              0.1111111111111111,
              "#46039f"
             ],
             [
              0.2222222222222222,
              "#7201a8"
             ],
             [
              0.3333333333333333,
              "#9c179e"
             ],
             [
              0.4444444444444444,
              "#bd3786"
             ],
             [
              0.5555555555555556,
              "#d8576b"
             ],
             [
              0.6666666666666666,
              "#ed7953"
             ],
             [
              0.7777777777777778,
              "#fb9f3a"
             ],
             [
              0.8888888888888888,
              "#fdca26"
             ],
             [
              1,
              "#f0f921"
             ]
            ],
            "type": "histogram2dcontour"
           }
          ],
          "mesh3d": [
           {
            "colorbar": {
             "outlinewidth": 0,
             "ticks": ""
            },
            "type": "mesh3d"
           }
          ],
          "parcoords": [
           {
            "line": {
             "colorbar": {
              "outlinewidth": 0,
              "ticks": ""
             }
            },
            "type": "parcoords"
           }
          ],
          "scatter": [
           {
            "marker": {
             "colorbar": {
              "outlinewidth": 0,
              "ticks": ""
             }
            },
            "type": "scatter"
           }
          ],
          "scatter3d": [
           {
            "line": {
             "colorbar": {
              "outlinewidth": 0,
              "ticks": ""
             }
            },
            "marker": {
             "colorbar": {
              "outlinewidth": 0,
              "ticks": ""
             }
            },
            "type": "scatter3d"
           }
          ],
          "scattercarpet": [
           {
            "marker": {
             "colorbar": {
              "outlinewidth": 0,
              "ticks": ""
             }
            },
            "type": "scattercarpet"
           }
          ],
          "scattergeo": [
           {
            "marker": {
             "colorbar": {
              "outlinewidth": 0,
              "ticks": ""
             }
            },
            "type": "scattergeo"
           }
          ],
          "scattergl": [
           {
            "marker": {
             "colorbar": {
              "outlinewidth": 0,
              "ticks": ""
             }
            },
            "type": "scattergl"
           }
          ],
          "scattermapbox": [
           {
            "marker": {
             "colorbar": {
              "outlinewidth": 0,
              "ticks": ""
             }
            },
            "type": "scattermapbox"
           }
          ],
          "scatterpolar": [
           {
            "marker": {
             "colorbar": {
              "outlinewidth": 0,
              "ticks": ""
             }
            },
            "type": "scatterpolar"
           }
          ],
          "scatterpolargl": [
           {
            "marker": {
             "colorbar": {
              "outlinewidth": 0,
              "ticks": ""
             }
            },
            "type": "scatterpolargl"
           }
          ],
          "scatterternary": [
           {
            "marker": {
             "colorbar": {
              "outlinewidth": 0,
              "ticks": ""
             }
            },
            "type": "scatterternary"
           }
          ],
          "surface": [
           {
            "colorbar": {
             "outlinewidth": 0,
             "ticks": ""
            },
            "colorscale": [
             [
              0,
              "#0d0887"
             ],
             [
              0.1111111111111111,
              "#46039f"
             ],
             [
              0.2222222222222222,
              "#7201a8"
             ],
             [
              0.3333333333333333,
              "#9c179e"
             ],
             [
              0.4444444444444444,
              "#bd3786"
             ],
             [
              0.5555555555555556,
              "#d8576b"
             ],
             [
              0.6666666666666666,
              "#ed7953"
             ],
             [
              0.7777777777777778,
              "#fb9f3a"
             ],
             [
              0.8888888888888888,
              "#fdca26"
             ],
             [
              1,
              "#f0f921"
             ]
            ],
            "type": "surface"
           }
          ],
          "table": [
           {
            "cells": {
             "fill": {
              "color": "#EBF0F8"
             },
             "line": {
              "color": "white"
             }
            },
            "header": {
             "fill": {
              "color": "#C8D4E3"
             },
             "line": {
              "color": "white"
             }
            },
            "type": "table"
           }
          ]
         },
         "layout": {
          "annotationdefaults": {
           "arrowcolor": "#2a3f5f",
           "arrowhead": 0,
           "arrowwidth": 1
          },
          "colorscale": {
           "diverging": [
            [
             0,
             "#8e0152"
            ],
            [
             0.1,
             "#c51b7d"
            ],
            [
             0.2,
             "#de77ae"
            ],
            [
             0.3,
             "#f1b6da"
            ],
            [
             0.4,
             "#fde0ef"
            ],
            [
             0.5,
             "#f7f7f7"
            ],
            [
             0.6,
             "#e6f5d0"
            ],
            [
             0.7,
             "#b8e186"
            ],
            [
             0.8,
             "#7fbc41"
            ],
            [
             0.9,
             "#4d9221"
            ],
            [
             1,
             "#276419"
            ]
           ],
           "sequential": [
            [
             0,
             "#0d0887"
            ],
            [
             0.1111111111111111,
             "#46039f"
            ],
            [
             0.2222222222222222,
             "#7201a8"
            ],
            [
             0.3333333333333333,
             "#9c179e"
            ],
            [
             0.4444444444444444,
             "#bd3786"
            ],
            [
             0.5555555555555556,
             "#d8576b"
            ],
            [
             0.6666666666666666,
             "#ed7953"
            ],
            [
             0.7777777777777778,
             "#fb9f3a"
            ],
            [
             0.8888888888888888,
             "#fdca26"
            ],
            [
             1,
             "#f0f921"
            ]
           ],
           "sequentialminus": [
            [
             0,
             "#0d0887"
            ],
            [
             0.1111111111111111,
             "#46039f"
            ],
            [
             0.2222222222222222,
             "#7201a8"
            ],
            [
             0.3333333333333333,
             "#9c179e"
            ],
            [
             0.4444444444444444,
             "#bd3786"
            ],
            [
             0.5555555555555556,
             "#d8576b"
            ],
            [
             0.6666666666666666,
             "#ed7953"
            ],
            [
             0.7777777777777778,
             "#fb9f3a"
            ],
            [
             0.8888888888888888,
             "#fdca26"
            ],
            [
             1,
             "#f0f921"
            ]
           ]
          },
          "colorway": [
           "#636efa",
           "#EF553B",
           "#00cc96",
           "#ab63fa",
           "#FFA15A",
           "#19d3f3",
           "#FF6692",
           "#B6E880",
           "#FF97FF",
           "#FECB52"
          ],
          "font": {
           "color": "#2a3f5f"
          },
          "geo": {
           "bgcolor": "white",
           "lakecolor": "white",
           "landcolor": "#E5ECF6",
           "showlakes": true,
           "showland": true,
           "subunitcolor": "white"
          },
          "hoverlabel": {
           "align": "left"
          },
          "hovermode": "closest",
          "mapbox": {
           "style": "light"
          },
          "paper_bgcolor": "white",
          "plot_bgcolor": "#E5ECF6",
          "polar": {
           "angularaxis": {
            "gridcolor": "white",
            "linecolor": "white",
            "ticks": ""
           },
           "bgcolor": "#E5ECF6",
           "radialaxis": {
            "gridcolor": "white",
            "linecolor": "white",
            "ticks": ""
           }
          },
          "scene": {
           "xaxis": {
            "backgroundcolor": "#E5ECF6",
            "gridcolor": "white",
            "gridwidth": 2,
            "linecolor": "white",
            "showbackground": true,
            "ticks": "",
            "zerolinecolor": "white"
           },
           "yaxis": {
            "backgroundcolor": "#E5ECF6",
            "gridcolor": "white",
            "gridwidth": 2,
            "linecolor": "white",
            "showbackground": true,
            "ticks": "",
            "zerolinecolor": "white"
           },
           "zaxis": {
            "backgroundcolor": "#E5ECF6",
            "gridcolor": "white",
            "gridwidth": 2,
            "linecolor": "white",
            "showbackground": true,
            "ticks": "",
            "zerolinecolor": "white"
           }
          },
          "shapedefaults": {
           "line": {
            "color": "#2a3f5f"
           }
          },
          "ternary": {
           "aaxis": {
            "gridcolor": "white",
            "linecolor": "white",
            "ticks": ""
           },
           "baxis": {
            "gridcolor": "white",
            "linecolor": "white",
            "ticks": ""
           },
           "bgcolor": "#E5ECF6",
           "caxis": {
            "gridcolor": "white",
            "linecolor": "white",
            "ticks": ""
           }
          },
          "title": {
           "x": 0.05
          },
          "xaxis": {
           "automargin": true,
           "gridcolor": "white",
           "linecolor": "white",
           "ticks": "",
           "zerolinecolor": "white",
           "zerolinewidth": 2
          },
          "yaxis": {
           "automargin": true,
           "gridcolor": "white",
           "linecolor": "white",
           "ticks": "",
           "zerolinecolor": "white",
           "zerolinewidth": 2
          }
         }
        },
        "width": 500,
        "xaxis": {
         "range": [
          0,
          10.833333333333334
         ],
         "showgrid": false,
         "showticklabels": false,
         "zeroline": false
        },
        "yaxis": {
         "range": [
          0,
          10.833333333333334
         ],
         "showgrid": false,
         "showticklabels": false,
         "zeroline": false
        }
       }
      },
      "text/html": [
       "<div>\n",
       "        \n",
       "        \n",
       "            <div id=\"88283c2c-eb8a-4a3b-a177-fb651a9b4d12\" class=\"plotly-graph-div\" style=\"height:500px; width:500px;\"></div>\n",
       "            <script type=\"text/javascript\">\n",
       "                require([\"plotly\"], function(Plotly) {\n",
       "                    window.PLOTLYENV=window.PLOTLYENV || {};\n",
       "                    \n",
       "                if (document.getElementById(\"88283c2c-eb8a-4a3b-a177-fb651a9b4d12\")) {\n",
       "                    Plotly.newPlot(\n",
       "                        '88283c2c-eb8a-4a3b-a177-fb651a9b4d12',\n",
       "                        [{\"marker\": {\"color\": \"RoyalBlue\", \"size\": 2.0}, \"mode\": \"markers\", \"type\": \"scatter\", \"x\": [0.625, 1.0416666666666667, 1.875, 2.291666666666667, 2.7083333333333335, 3.125, 3.541666666666667, 3.9583333333333335, 4.375, 4.791666666666667, 5.208333333333334, 6.041666666666667, 6.458333333333334, 6.875, 7.291666666666667, 7.708333333333334, 8.125, 8.541666666666668, 8.958333333333334, 9.375, 9.791666666666668, 10.208333333333334, 0.625, 1.0416666666666667, 1.4583333333333335, 2.291666666666667, 2.7083333333333335, 3.125, 3.541666666666667, 3.9583333333333335, 4.375, 4.791666666666667, 5.208333333333334, 5.625, 6.458333333333334, 6.875, 7.291666666666667, 7.708333333333334, 8.125, 8.541666666666668, 8.958333333333334, 9.375, 9.791666666666668, 10.208333333333334, 0.625, 1.0416666666666667, 1.4583333333333335, 1.875, 2.7083333333333335, 3.125, 3.541666666666667, 3.9583333333333335, 4.375, 4.791666666666667, 5.208333333333334, 5.625, 6.041666666666667, 6.875, 7.291666666666667, 7.708333333333334, 8.125, 8.541666666666668, 8.958333333333334, 9.375, 9.791666666666668, 10.208333333333334, 0.625, 1.0416666666666667, 1.4583333333333335, 1.875, 2.291666666666667, 3.125, 3.541666666666667, 3.9583333333333335, 4.375, 4.791666666666667, 5.208333333333334, 5.625, 6.041666666666667, 6.458333333333334, 7.291666666666667, 7.708333333333334, 8.125, 8.541666666666668, 8.958333333333334, 9.375, 9.791666666666668, 10.208333333333334, 0.625, 1.0416666666666667, 1.4583333333333335, 1.875, 2.291666666666667, 2.7083333333333335, 3.541666666666667, 3.9583333333333335, 4.375, 4.791666666666667, 5.208333333333334, 5.625, 6.041666666666667, 6.458333333333334, 6.875, 7.708333333333334, 8.125, 8.541666666666668, 8.958333333333334, 9.375, 9.791666666666668, 10.208333333333334, 0.625, 1.0416666666666667, 1.4583333333333335, 1.875, 2.291666666666667, 2.7083333333333335, 3.125, 3.9583333333333335, 4.375, 4.791666666666667, 5.208333333333334, 5.625, 6.041666666666667, 6.458333333333334, 6.875, 7.291666666666667, 8.125, 8.541666666666668, 8.958333333333334, 9.375, 9.791666666666668, 10.208333333333334, 0.625, 1.0416666666666667, 1.4583333333333335, 1.875, 2.291666666666667, 2.7083333333333335, 3.125, 3.541666666666667, 4.375, 4.791666666666667, 5.208333333333334, 5.625, 6.041666666666667, 6.458333333333334, 6.875, 7.291666666666667, 7.708333333333334, 8.541666666666668, 8.958333333333334, 9.375, 9.791666666666668, 10.208333333333334, 0.625, 1.0416666666666667, 1.4583333333333335, 1.875, 2.291666666666667, 2.7083333333333335, 3.125, 3.541666666666667, 3.9583333333333335, 4.791666666666667, 5.208333333333334, 5.625, 6.041666666666667, 6.458333333333334, 6.875, 7.291666666666667, 7.708333333333334, 8.541666666666668, 8.958333333333334, 9.375, 9.791666666666668, 10.208333333333334, 0.625, 1.0416666666666667, 1.4583333333333335, 1.875, 2.291666666666667, 2.7083333333333335, 3.125, 3.541666666666667, 3.9583333333333335, 4.375, 5.208333333333334, 5.625, 6.041666666666667, 6.458333333333334, 6.875, 7.291666666666667, 8.125, 8.541666666666668, 8.958333333333334, 9.375, 9.791666666666668, 10.208333333333334, 0.625, 1.0416666666666667, 1.4583333333333335, 1.875, 2.291666666666667, 2.7083333333333335, 3.125, 3.541666666666667, 3.9583333333333335, 4.375, 4.791666666666667, 5.625, 6.041666666666667, 6.458333333333334, 6.875, 7.708333333333334, 8.125, 8.541666666666668, 8.958333333333334, 9.375, 9.791666666666668, 10.208333333333334, 0.625, 1.0416666666666667, 1.4583333333333335, 1.875, 2.291666666666667, 2.7083333333333335, 3.125, 3.541666666666667, 3.9583333333333335, 4.375, 5.208333333333334, 5.625, 6.041666666666667, 6.458333333333334, 7.291666666666667, 7.708333333333334, 8.125, 8.541666666666668, 8.958333333333334, 9.375, 9.791666666666668, 10.208333333333334, 0.625, 1.0416666666666667, 1.4583333333333335, 1.875, 2.291666666666667, 2.7083333333333335, 3.125, 3.541666666666667, 3.9583333333333335, 4.791666666666667, 5.208333333333334, 5.625, 6.041666666666667, 6.875, 7.291666666666667, 7.708333333333334, 8.125, 8.541666666666668, 8.958333333333334, 9.375, 9.791666666666668, 10.208333333333334, 0.625, 1.0416666666666667, 1.4583333333333335, 1.875, 2.291666666666667, 2.7083333333333335, 3.125, 3.541666666666667, 4.375, 4.791666666666667, 5.208333333333334, 5.625, 6.458333333333334, 6.875, 7.291666666666667, 7.708333333333334, 8.125, 8.541666666666668, 8.958333333333334, 9.375, 9.791666666666668, 10.208333333333334, 0.625, 1.0416666666666667, 1.4583333333333335, 1.875, 2.291666666666667, 2.7083333333333335, 3.125, 3.9583333333333335, 4.375, 4.791666666666667, 5.208333333333334, 6.041666666666667, 6.458333333333334, 6.875, 7.291666666666667, 7.708333333333334, 8.125, 8.541666666666668, 8.958333333333334, 9.375, 9.791666666666668, 10.208333333333334, 0.625, 1.0416666666666667, 1.4583333333333335, 1.875, 2.291666666666667, 2.7083333333333335, 3.541666666666667, 3.9583333333333335, 4.375, 4.791666666666667, 5.208333333333334, 5.625, 6.041666666666667, 6.458333333333334, 6.875, 7.291666666666667, 7.708333333333334, 8.125, 8.958333333333334, 9.375, 9.791666666666668, 10.208333333333334, 0.625, 1.0416666666666667, 1.4583333333333335, 1.875, 2.291666666666667, 3.125, 3.541666666666667, 3.9583333333333335, 4.375, 4.791666666666667, 5.208333333333334, 5.625, 6.041666666666667, 6.458333333333334, 6.875, 7.291666666666667, 7.708333333333334, 8.125, 8.541666666666668, 9.375, 9.791666666666668, 10.208333333333334, 0.625, 1.0416666666666667, 1.4583333333333335, 1.875, 2.7083333333333335, 3.125, 3.541666666666667, 3.9583333333333335, 4.375, 4.791666666666667, 5.208333333333334, 5.625, 6.041666666666667, 6.458333333333334, 6.875, 7.291666666666667, 7.708333333333334, 8.125, 8.541666666666668, 8.958333333333334, 9.791666666666668, 10.208333333333334, 0.625, 1.0416666666666667, 1.4583333333333335, 2.291666666666667, 2.7083333333333335, 3.125, 3.541666666666667, 3.9583333333333335, 4.375, 4.791666666666667, 5.208333333333334, 5.625, 6.041666666666667, 6.458333333333334, 6.875, 7.291666666666667, 7.708333333333334, 8.125, 8.541666666666668, 8.958333333333334, 9.375, 10.208333333333334, 0.625, 1.0416666666666667, 1.875, 2.291666666666667, 2.7083333333333335, 3.125, 3.541666666666667, 3.9583333333333335, 4.375, 4.791666666666667, 5.208333333333334, 5.625, 6.041666666666667, 6.458333333333334, 6.875, 7.291666666666667, 7.708333333333334, 8.125, 8.541666666666668, 8.958333333333334, 9.375, 9.791666666666668, 1.0416666666666667, 1.4583333333333335, 1.875, 2.291666666666667, 2.7083333333333335, 3.125, 3.541666666666667, 3.9583333333333335, 4.375, 4.791666666666667, 5.208333333333334, 5.625, 6.041666666666667, 6.458333333333334, 6.875, 7.291666666666667, 7.708333333333334, 8.125, 8.541666666666668, 8.958333333333334, 9.375, 10.208333333333334, 0.625, 1.4583333333333335, 1.875, 2.291666666666667, 2.7083333333333335, 3.125, 3.541666666666667, 3.9583333333333335, 4.375, 4.791666666666667, 5.208333333333334, 5.625, 6.041666666666667, 6.458333333333334, 6.875, 7.291666666666667, 7.708333333333334, 8.125, 8.541666666666668, 8.958333333333334, 9.791666666666668, 10.208333333333334, 0.625, 1.4583333333333335, 1.875, 2.291666666666667, 2.7083333333333335, 3.125, 3.541666666666667, 3.9583333333333335, 4.375, 4.791666666666667, 5.208333333333334, 5.625, 6.041666666666667, 6.458333333333334, 6.875, 7.291666666666667, 7.708333333333334, 8.125, 8.541666666666668, 9.375, 9.791666666666668, 10.208333333333334, 1.0416666666666667, 1.4583333333333335, 1.875, 2.291666666666667, 2.7083333333333335, 3.125, 3.541666666666667, 3.9583333333333335, 4.375, 4.791666666666667, 5.208333333333334, 5.625, 6.041666666666667, 6.458333333333334, 6.875, 7.291666666666667, 7.708333333333334, 8.125, 8.958333333333334, 9.375, 9.791666666666668, 10.208333333333334, 0.625, 1.0416666666666667, 1.4583333333333335, 1.875, 2.291666666666667, 2.7083333333333335, 3.125, 3.541666666666667, 3.9583333333333335, 4.375, 4.791666666666667, 5.625, 6.041666666666667, 6.458333333333334, 6.875, 7.291666666666667, 7.708333333333334, 8.125, 8.541666666666668, 8.958333333333334, 9.375, 9.791666666666668, 10.208333333333334], \"y\": [10.208333333333334, 10.208333333333334, 10.208333333333334, 10.208333333333334, 10.208333333333334, 10.208333333333334, 10.208333333333334, 10.208333333333334, 10.208333333333334, 10.208333333333334, 10.208333333333334, 10.208333333333334, 10.208333333333334, 10.208333333333334, 10.208333333333334, 10.208333333333334, 10.208333333333334, 10.208333333333334, 10.208333333333334, 10.208333333333334, 10.208333333333334, 10.208333333333334, 9.791666666666666, 9.791666666666666, 9.791666666666666, 9.791666666666666, 9.791666666666666, 9.791666666666666, 9.791666666666666, 9.791666666666666, 9.791666666666666, 9.791666666666666, 9.791666666666666, 9.791666666666666, 9.791666666666666, 9.791666666666666, 9.791666666666666, 9.791666666666666, 9.791666666666666, 9.791666666666666, 9.791666666666666, 9.791666666666666, 9.791666666666666, 9.791666666666666, 9.375, 9.375, 9.375, 9.375, 9.375, 9.375, 9.375, 9.375, 9.375, 9.375, 9.375, 9.375, 9.375, 9.375, 9.375, 9.375, 9.375, 9.375, 9.375, 9.375, 9.375, 9.375, 8.958333333333334, 8.958333333333334, 8.958333333333334, 8.958333333333334, 8.958333333333334, 8.958333333333334, 8.958333333333334, 8.958333333333334, 8.958333333333334, 8.958333333333334, 8.958333333333334, 8.958333333333334, 8.958333333333334, 8.958333333333334, 8.958333333333334, 8.958333333333334, 8.958333333333334, 8.958333333333334, 8.958333333333334, 8.958333333333334, 8.958333333333334, 8.958333333333334, 8.541666666666666, 8.541666666666666, 8.541666666666666, 8.541666666666666, 8.541666666666666, 8.541666666666666, 8.541666666666666, 8.541666666666666, 8.541666666666666, 8.541666666666666, 8.541666666666666, 8.541666666666666, 8.541666666666666, 8.541666666666666, 8.541666666666666, 8.541666666666666, 8.541666666666666, 8.541666666666666, 8.541666666666666, 8.541666666666666, 8.541666666666666, 8.541666666666666, 8.125, 8.125, 8.125, 8.125, 8.125, 8.125, 8.125, 8.125, 8.125, 8.125, 8.125, 8.125, 8.125, 8.125, 8.125, 8.125, 8.125, 8.125, 8.125, 8.125, 8.125, 8.125, 7.708333333333334, 7.708333333333334, 7.708333333333334, 7.708333333333334, 7.708333333333334, 7.708333333333334, 7.708333333333334, 7.708333333333334, 7.708333333333334, 7.708333333333334, 7.708333333333334, 7.708333333333334, 7.708333333333334, 7.708333333333334, 7.708333333333334, 7.708333333333334, 7.708333333333334, 7.708333333333334, 7.708333333333334, 7.708333333333334, 7.708333333333334, 7.708333333333334, 7.291666666666666, 7.291666666666666, 7.291666666666666, 7.291666666666666, 7.291666666666666, 7.291666666666666, 7.291666666666666, 7.291666666666666, 7.291666666666666, 7.291666666666666, 7.291666666666666, 7.291666666666666, 7.291666666666666, 7.291666666666666, 7.291666666666666, 7.291666666666666, 7.291666666666666, 7.291666666666666, 7.291666666666666, 7.291666666666666, 7.291666666666666, 7.291666666666666, 6.875, 6.875, 6.875, 6.875, 6.875, 6.875, 6.875, 6.875, 6.875, 6.875, 6.875, 6.875, 6.875, 6.875, 6.875, 6.875, 6.875, 6.875, 6.875, 6.875, 6.875, 6.875, 6.458333333333334, 6.458333333333334, 6.458333333333334, 6.458333333333334, 6.458333333333334, 6.458333333333334, 6.458333333333334, 6.458333333333334, 6.458333333333334, 6.458333333333334, 6.458333333333334, 6.458333333333334, 6.458333333333334, 6.458333333333334, 6.458333333333334, 6.458333333333334, 6.458333333333334, 6.458333333333334, 6.458333333333334, 6.458333333333334, 6.458333333333334, 6.458333333333334, 6.041666666666666, 6.041666666666666, 6.041666666666666, 6.041666666666666, 6.041666666666666, 6.041666666666666, 6.041666666666666, 6.041666666666666, 6.041666666666666, 6.041666666666666, 6.041666666666666, 6.041666666666666, 6.041666666666666, 6.041666666666666, 6.041666666666666, 6.041666666666666, 6.041666666666666, 6.041666666666666, 6.041666666666666, 6.041666666666666, 6.041666666666666, 6.041666666666666, 5.624999999999999, 5.624999999999999, 5.624999999999999, 5.624999999999999, 5.624999999999999, 5.624999999999999, 5.624999999999999, 5.624999999999999, 5.624999999999999, 5.624999999999999, 5.624999999999999, 5.624999999999999, 5.624999999999999, 5.624999999999999, 5.624999999999999, 5.624999999999999, 5.624999999999999, 5.624999999999999, 5.624999999999999, 5.624999999999999, 5.624999999999999, 5.624999999999999, 5.208333333333333, 5.208333333333333, 5.208333333333333, 5.208333333333333, 5.208333333333333, 5.208333333333333, 5.208333333333333, 5.208333333333333, 5.208333333333333, 5.208333333333333, 5.208333333333333, 5.208333333333333, 5.208333333333333, 5.208333333333333, 5.208333333333333, 5.208333333333333, 5.208333333333333, 5.208333333333333, 5.208333333333333, 5.208333333333333, 5.208333333333333, 5.208333333333333, 4.791666666666666, 4.791666666666666, 4.791666666666666, 4.791666666666666, 4.791666666666666, 4.791666666666666, 4.791666666666666, 4.791666666666666, 4.791666666666666, 4.791666666666666, 4.791666666666666, 4.791666666666666, 4.791666666666666, 4.791666666666666, 4.791666666666666, 4.791666666666666, 4.791666666666666, 4.791666666666666, 4.791666666666666, 4.791666666666666, 4.791666666666666, 4.791666666666666, 4.374999999999999, 4.374999999999999, 4.374999999999999, 4.374999999999999, 4.374999999999999, 4.374999999999999, 4.374999999999999, 4.374999999999999, 4.374999999999999, 4.374999999999999, 4.374999999999999, 4.374999999999999, 4.374999999999999, 4.374999999999999, 4.374999999999999, 4.374999999999999, 4.374999999999999, 4.374999999999999, 4.374999999999999, 4.374999999999999, 4.374999999999999, 4.374999999999999, 3.958333333333333, 3.958333333333333, 3.958333333333333, 3.958333333333333, 3.958333333333333, 3.958333333333333, 3.958333333333333, 3.958333333333333, 3.958333333333333, 3.958333333333333, 3.958333333333333, 3.958333333333333, 3.958333333333333, 3.958333333333333, 3.958333333333333, 3.958333333333333, 3.958333333333333, 3.958333333333333, 3.958333333333333, 3.958333333333333, 3.958333333333333, 3.958333333333333, 3.541666666666666, 3.541666666666666, 3.541666666666666, 3.541666666666666, 3.541666666666666, 3.541666666666666, 3.541666666666666, 3.541666666666666, 3.541666666666666, 3.541666666666666, 3.541666666666666, 3.541666666666666, 3.541666666666666, 3.541666666666666, 3.541666666666666, 3.541666666666666, 3.541666666666666, 3.541666666666666, 3.541666666666666, 3.541666666666666, 3.541666666666666, 3.541666666666666, 3.124999999999999, 3.124999999999999, 3.124999999999999, 3.124999999999999, 3.124999999999999, 3.124999999999999, 3.124999999999999, 3.124999999999999, 3.124999999999999, 3.124999999999999, 3.124999999999999, 3.124999999999999, 3.124999999999999, 3.124999999999999, 3.124999999999999, 3.124999999999999, 3.124999999999999, 3.124999999999999, 3.124999999999999, 3.124999999999999, 3.124999999999999, 3.124999999999999, 2.708333333333333, 2.708333333333333, 2.708333333333333, 2.708333333333333, 2.708333333333333, 2.708333333333333, 2.708333333333333, 2.708333333333333, 2.708333333333333, 2.708333333333333, 2.708333333333333, 2.708333333333333, 2.708333333333333, 2.708333333333333, 2.708333333333333, 2.708333333333333, 2.708333333333333, 2.708333333333333, 2.708333333333333, 2.708333333333333, 2.708333333333333, 2.708333333333333, 2.291666666666666, 2.291666666666666, 2.291666666666666, 2.291666666666666, 2.291666666666666, 2.291666666666666, 2.291666666666666, 2.291666666666666, 2.291666666666666, 2.291666666666666, 2.291666666666666, 2.291666666666666, 2.291666666666666, 2.291666666666666, 2.291666666666666, 2.291666666666666, 2.291666666666666, 2.291666666666666, 2.291666666666666, 2.291666666666666, 2.291666666666666, 2.291666666666666, 1.875, 1.875, 1.875, 1.875, 1.875, 1.875, 1.875, 1.875, 1.875, 1.875, 1.875, 1.875, 1.875, 1.875, 1.875, 1.875, 1.875, 1.875, 1.875, 1.875, 1.875, 1.875, 1.458333333333334, 1.458333333333334, 1.458333333333334, 1.458333333333334, 1.458333333333334, 1.458333333333334, 1.458333333333334, 1.458333333333334, 1.458333333333334, 1.458333333333334, 1.458333333333334, 1.458333333333334, 1.458333333333334, 1.458333333333334, 1.458333333333334, 1.458333333333334, 1.458333333333334, 1.458333333333334, 1.458333333333334, 1.458333333333334, 1.458333333333334, 1.458333333333334, 1.041666666666666, 1.041666666666666, 1.041666666666666, 1.041666666666666, 1.041666666666666, 1.041666666666666, 1.041666666666666, 1.041666666666666, 1.041666666666666, 1.041666666666666, 1.041666666666666, 1.041666666666666, 1.041666666666666, 1.041666666666666, 1.041666666666666, 1.041666666666666, 1.041666666666666, 1.041666666666666, 1.041666666666666, 1.041666666666666, 1.041666666666666, 1.041666666666666, 0.625, 0.625, 0.625, 0.625, 0.625, 0.625, 0.625, 0.625, 0.625, 0.625, 0.625, 0.625, 0.625, 0.625, 0.625, 0.625, 0.625, 0.625, 0.625, 0.625, 0.625, 0.625, 0.625]}, {\"marker\": {\"color\": \"Red\", \"size\": 5.0}, \"mode\": \"markers\", \"type\": \"scatter\", \"x\": [1.4583333333333335, 5.625, 1.875, 6.041666666666667, 2.291666666666667, 6.458333333333334, 2.7083333333333335, 6.875, 3.125, 7.291666666666667, 3.541666666666667, 7.708333333333334, 3.9583333333333335, 8.125, 4.375, 8.125, 4.791666666666667, 7.708333333333334, 5.208333333333334, 7.291666666666667, 4.791666666666667, 6.875, 4.375, 6.458333333333334, 3.9583333333333335, 6.041666666666667, 3.541666666666667, 5.625, 3.125, 8.541666666666668, 2.7083333333333335, 8.958333333333334, 2.291666666666667, 9.375, 1.875, 9.791666666666668, 1.4583333333333335, 10.208333333333334, 0.625, 9.791666666666668, 1.0416666666666667, 9.375, 1.0416666666666667, 8.958333333333334, 0.625, 8.541666666666668, 5.208333333333334], \"y\": [10.208333333333334, 10.208333333333334, 9.791666666666666, 9.791666666666666, 9.375, 9.375, 8.958333333333334, 8.958333333333334, 8.541666666666666, 8.541666666666666, 8.125, 8.125, 7.708333333333334, 7.708333333333334, 7.291666666666666, 7.291666666666666, 6.875, 6.875, 6.458333333333334, 6.458333333333334, 6.041666666666666, 6.041666666666666, 5.624999999999999, 5.624999999999999, 5.208333333333333, 5.208333333333333, 4.791666666666666, 4.791666666666666, 4.374999999999999, 4.374999999999999, 3.958333333333333, 3.958333333333333, 3.541666666666666, 3.541666666666666, 3.124999999999999, 3.124999999999999, 2.708333333333333, 2.708333333333333, 2.291666666666666, 2.291666666666666, 1.875, 1.875, 1.458333333333334, 1.458333333333334, 1.041666666666666, 1.041666666666666, 0.625]}],\n",
       "                        {\"height\": 500, \"shapes\": [{\"line\": {\"color\": \"LightSeaGreen\", \"width\": 1}, \"type\": \"line\", \"x0\": 1.4583333333333335, \"x1\": 5.625, \"y0\": 10.208333333333334, \"y1\": 10.208333333333334}, {\"line\": {\"color\": \"LightSeaGreen\", \"width\": 1}, \"type\": \"line\", \"x0\": 0.625, \"x1\": 0.625, \"y0\": 2.291666666666666, \"y1\": 1.041666666666666}, {\"line\": {\"color\": \"LightSeaGreen\", \"width\": 1}, \"type\": \"line\", \"x0\": 1.875, \"x1\": 6.041666666666667, \"y0\": 9.791666666666666, \"y1\": 9.791666666666666}, {\"line\": {\"color\": \"LightSeaGreen\", \"width\": 1}, \"type\": \"line\", \"x0\": 1.0416666666666667, \"x1\": 1.0416666666666667, \"y0\": 1.875, \"y1\": 1.458333333333334}, {\"line\": {\"color\": \"LightSeaGreen\", \"width\": 1}, \"type\": \"line\", \"x0\": 2.291666666666667, \"x1\": 6.458333333333334, \"y0\": 9.375, \"y1\": 9.375}, {\"line\": {\"color\": \"LightSeaGreen\", \"width\": 1}, \"type\": \"line\", \"x0\": 1.4583333333333335, \"x1\": 1.4583333333333335, \"y0\": 10.208333333333334, \"y1\": 2.708333333333333}, {\"line\": {\"color\": \"LightSeaGreen\", \"width\": 1}, \"type\": \"line\", \"x0\": 2.7083333333333335, \"x1\": 6.875, \"y0\": 8.958333333333334, \"y1\": 8.958333333333334}, {\"line\": {\"color\": \"LightSeaGreen\", \"width\": 1}, \"type\": \"line\", \"x0\": 1.875, \"x1\": 1.875, \"y0\": 9.791666666666666, \"y1\": 3.124999999999999}, {\"line\": {\"color\": \"LightSeaGreen\", \"width\": 1}, \"type\": \"line\", \"x0\": 3.125, \"x1\": 7.291666666666667, \"y0\": 8.541666666666666, \"y1\": 8.541666666666666}, {\"line\": {\"color\": \"LightSeaGreen\", \"width\": 1}, \"type\": \"line\", \"x0\": 2.291666666666667, \"x1\": 2.291666666666667, \"y0\": 9.375, \"y1\": 3.541666666666666}, {\"line\": {\"color\": \"LightSeaGreen\", \"width\": 1}, \"type\": \"line\", \"x0\": 3.541666666666667, \"x1\": 7.708333333333334, \"y0\": 8.125, \"y1\": 8.125}, {\"line\": {\"color\": \"LightSeaGreen\", \"width\": 1}, \"type\": \"line\", \"x0\": 2.7083333333333335, \"x1\": 2.7083333333333335, \"y0\": 8.958333333333334, \"y1\": 3.958333333333333}, {\"line\": {\"color\": \"LightSeaGreen\", \"width\": 1}, \"type\": \"line\", \"x0\": 3.9583333333333335, \"x1\": 8.125, \"y0\": 7.708333333333334, \"y1\": 7.708333333333334}, {\"line\": {\"color\": \"LightSeaGreen\", \"width\": 1}, \"type\": \"line\", \"x0\": 3.125, \"x1\": 3.125, \"y0\": 8.541666666666666, \"y1\": 4.374999999999999}, {\"line\": {\"color\": \"LightSeaGreen\", \"width\": 1}, \"type\": \"line\", \"x0\": 4.375, \"x1\": 8.125, \"y0\": 7.291666666666666, \"y1\": 7.291666666666666}, {\"line\": {\"color\": \"LightSeaGreen\", \"width\": 1}, \"type\": \"line\", \"x0\": 3.541666666666667, \"x1\": 3.541666666666667, \"y0\": 8.125, \"y1\": 4.791666666666666}, {\"line\": {\"color\": \"LightSeaGreen\", \"width\": 1}, \"type\": \"line\", \"x0\": 4.791666666666667, \"x1\": 7.708333333333334, \"y0\": 6.875, \"y1\": 6.875}, {\"line\": {\"color\": \"LightSeaGreen\", \"width\": 1}, \"type\": \"line\", \"x0\": 3.9583333333333335, \"x1\": 3.9583333333333335, \"y0\": 7.708333333333334, \"y1\": 5.208333333333333}, {\"line\": {\"color\": \"LightSeaGreen\", \"width\": 1}, \"type\": \"line\", \"x0\": 5.208333333333334, \"x1\": 7.291666666666667, \"y0\": 6.458333333333334, \"y1\": 6.458333333333334}, {\"line\": {\"color\": \"LightSeaGreen\", \"width\": 1}, \"type\": \"line\", \"x0\": 4.375, \"x1\": 4.375, \"y0\": 7.291666666666666, \"y1\": 5.624999999999999}, {\"line\": {\"color\": \"LightSeaGreen\", \"width\": 1}, \"type\": \"line\", \"x0\": 4.791666666666667, \"x1\": 6.875, \"y0\": 6.041666666666666, \"y1\": 6.041666666666666}, {\"line\": {\"color\": \"LightSeaGreen\", \"width\": 1}, \"type\": \"line\", \"x0\": 4.791666666666667, \"x1\": 4.791666666666667, \"y0\": 6.875, \"y1\": 6.041666666666666}, {\"line\": {\"color\": \"LightSeaGreen\", \"width\": 1}, \"type\": \"line\", \"x0\": 4.375, \"x1\": 6.458333333333334, \"y0\": 5.624999999999999, \"y1\": 5.624999999999999}, {\"line\": {\"color\": \"LightSeaGreen\", \"width\": 1}, \"type\": \"line\", \"x0\": 5.208333333333334, \"x1\": 5.208333333333334, \"y0\": 6.458333333333334, \"y1\": 0.625}, {\"line\": {\"color\": \"LightSeaGreen\", \"width\": 1}, \"type\": \"line\", \"x0\": 3.9583333333333335, \"x1\": 6.041666666666667, \"y0\": 5.208333333333333, \"y1\": 5.208333333333333}, {\"line\": {\"color\": \"LightSeaGreen\", \"width\": 1}, \"type\": \"line\", \"x0\": 5.625, \"x1\": 5.625, \"y0\": 10.208333333333334, \"y1\": 4.791666666666666}, {\"line\": {\"color\": \"LightSeaGreen\", \"width\": 1}, \"type\": \"line\", \"x0\": 3.541666666666667, \"x1\": 5.625, \"y0\": 4.791666666666666, \"y1\": 4.791666666666666}, {\"line\": {\"color\": \"LightSeaGreen\", \"width\": 1}, \"type\": \"line\", \"x0\": 6.041666666666667, \"x1\": 6.041666666666667, \"y0\": 9.791666666666666, \"y1\": 5.208333333333333}, {\"line\": {\"color\": \"LightSeaGreen\", \"width\": 1}, \"type\": \"line\", \"x0\": 3.125, \"x1\": 8.541666666666668, \"y0\": 4.374999999999999, \"y1\": 4.374999999999999}, {\"line\": {\"color\": \"LightSeaGreen\", \"width\": 1}, \"type\": \"line\", \"x0\": 6.458333333333334, \"x1\": 6.458333333333334, \"y0\": 9.375, \"y1\": 5.624999999999999}, {\"line\": {\"color\": \"LightSeaGreen\", \"width\": 1}, \"type\": \"line\", \"x0\": 2.7083333333333335, \"x1\": 8.958333333333334, \"y0\": 3.958333333333333, \"y1\": 3.958333333333333}, {\"line\": {\"color\": \"LightSeaGreen\", \"width\": 1}, \"type\": \"line\", \"x0\": 6.875, \"x1\": 6.875, \"y0\": 8.958333333333334, \"y1\": 6.041666666666666}, {\"line\": {\"color\": \"LightSeaGreen\", \"width\": 1}, \"type\": \"line\", \"x0\": 2.291666666666667, \"x1\": 9.375, \"y0\": 3.541666666666666, \"y1\": 3.541666666666666}, {\"line\": {\"color\": \"LightSeaGreen\", \"width\": 1}, \"type\": \"line\", \"x0\": 7.291666666666667, \"x1\": 7.291666666666667, \"y0\": 8.541666666666666, \"y1\": 6.458333333333334}, {\"line\": {\"color\": \"LightSeaGreen\", \"width\": 1}, \"type\": \"line\", \"x0\": 1.875, \"x1\": 9.791666666666668, \"y0\": 3.124999999999999, \"y1\": 3.124999999999999}, {\"line\": {\"color\": \"LightSeaGreen\", \"width\": 1}, \"type\": \"line\", \"x0\": 7.708333333333334, \"x1\": 7.708333333333334, \"y0\": 8.125, \"y1\": 6.875}, {\"line\": {\"color\": \"LightSeaGreen\", \"width\": 1}, \"type\": \"line\", \"x0\": 1.4583333333333335, \"x1\": 10.208333333333334, \"y0\": 2.708333333333333, \"y1\": 2.708333333333333}, {\"line\": {\"color\": \"LightSeaGreen\", \"width\": 1}, \"type\": \"line\", \"x0\": 8.125, \"x1\": 8.125, \"y0\": 7.708333333333334, \"y1\": 7.291666666666666}, {\"line\": {\"color\": \"LightSeaGreen\", \"width\": 1}, \"type\": \"line\", \"x0\": 0.625, \"x1\": 9.791666666666668, \"y0\": 2.291666666666666, \"y1\": 2.291666666666666}, {\"line\": {\"color\": \"LightSeaGreen\", \"width\": 1}, \"type\": \"line\", \"x0\": 8.541666666666668, \"x1\": 8.541666666666668, \"y0\": 4.374999999999999, \"y1\": 1.041666666666666}, {\"line\": {\"color\": \"LightSeaGreen\", \"width\": 1}, \"type\": \"line\", \"x0\": 1.0416666666666667, \"x1\": 9.375, \"y0\": 1.875, \"y1\": 1.875}, {\"line\": {\"color\": \"LightSeaGreen\", \"width\": 1}, \"type\": \"line\", \"x0\": 8.958333333333334, \"x1\": 8.958333333333334, \"y0\": 3.958333333333333, \"y1\": 1.458333333333334}, {\"line\": {\"color\": \"LightSeaGreen\", \"width\": 1}, \"type\": \"line\", \"x0\": 1.0416666666666667, \"x1\": 8.958333333333334, \"y0\": 1.458333333333334, \"y1\": 1.458333333333334}, {\"line\": {\"color\": \"LightSeaGreen\", \"width\": 1}, \"type\": \"line\", \"x0\": 9.375, \"x1\": 9.375, \"y0\": 3.541666666666666, \"y1\": 1.875}, {\"line\": {\"color\": \"LightSeaGreen\", \"width\": 1}, \"type\": \"line\", \"x0\": 0.625, \"x1\": 8.541666666666668, \"y0\": 1.041666666666666, \"y1\": 1.041666666666666}, {\"line\": {\"color\": \"LightSeaGreen\", \"width\": 1}, \"type\": \"line\", \"x0\": 9.791666666666668, \"x1\": 9.791666666666668, \"y0\": 3.124999999999999, \"y1\": 2.291666666666666}], \"showlegend\": false, \"template\": {\"data\": {\"bar\": [{\"error_x\": {\"color\": \"#2a3f5f\"}, \"error_y\": {\"color\": \"#2a3f5f\"}, \"marker\": {\"line\": {\"color\": \"#E5ECF6\", \"width\": 0.5}}, \"type\": \"bar\"}], \"barpolar\": [{\"marker\": {\"line\": {\"color\": \"#E5ECF6\", \"width\": 0.5}}, \"type\": \"barpolar\"}], \"carpet\": [{\"aaxis\": {\"endlinecolor\": \"#2a3f5f\", \"gridcolor\": \"white\", \"linecolor\": \"white\", \"minorgridcolor\": \"white\", \"startlinecolor\": \"#2a3f5f\"}, \"baxis\": {\"endlinecolor\": \"#2a3f5f\", \"gridcolor\": \"white\", \"linecolor\": \"white\", \"minorgridcolor\": \"white\", \"startlinecolor\": \"#2a3f5f\"}, \"type\": \"carpet\"}], \"choropleth\": [{\"colorbar\": {\"outlinewidth\": 0, \"ticks\": \"\"}, \"type\": \"choropleth\"}], \"contour\": [{\"colorbar\": {\"outlinewidth\": 0, \"ticks\": \"\"}, \"colorscale\": [[0.0, \"#0d0887\"], [0.1111111111111111, \"#46039f\"], [0.2222222222222222, \"#7201a8\"], [0.3333333333333333, \"#9c179e\"], [0.4444444444444444, \"#bd3786\"], [0.5555555555555556, \"#d8576b\"], [0.6666666666666666, \"#ed7953\"], [0.7777777777777778, \"#fb9f3a\"], [0.8888888888888888, \"#fdca26\"], [1.0, \"#f0f921\"]], \"type\": \"contour\"}], \"contourcarpet\": [{\"colorbar\": {\"outlinewidth\": 0, \"ticks\": \"\"}, \"type\": \"contourcarpet\"}], \"heatmap\": [{\"colorbar\": {\"outlinewidth\": 0, \"ticks\": \"\"}, \"colorscale\": [[0.0, \"#0d0887\"], [0.1111111111111111, \"#46039f\"], [0.2222222222222222, \"#7201a8\"], [0.3333333333333333, \"#9c179e\"], [0.4444444444444444, \"#bd3786\"], [0.5555555555555556, \"#d8576b\"], [0.6666666666666666, \"#ed7953\"], [0.7777777777777778, \"#fb9f3a\"], [0.8888888888888888, \"#fdca26\"], [1.0, \"#f0f921\"]], \"type\": \"heatmap\"}], \"heatmapgl\": [{\"colorbar\": {\"outlinewidth\": 0, \"ticks\": \"\"}, \"colorscale\": [[0.0, \"#0d0887\"], [0.1111111111111111, \"#46039f\"], [0.2222222222222222, \"#7201a8\"], [0.3333333333333333, \"#9c179e\"], [0.4444444444444444, \"#bd3786\"], [0.5555555555555556, \"#d8576b\"], [0.6666666666666666, \"#ed7953\"], [0.7777777777777778, \"#fb9f3a\"], [0.8888888888888888, \"#fdca26\"], [1.0, \"#f0f921\"]], \"type\": \"heatmapgl\"}], \"histogram\": [{\"marker\": {\"colorbar\": {\"outlinewidth\": 0, \"ticks\": \"\"}}, \"type\": \"histogram\"}], \"histogram2d\": [{\"colorbar\": {\"outlinewidth\": 0, \"ticks\": \"\"}, \"colorscale\": [[0.0, \"#0d0887\"], [0.1111111111111111, \"#46039f\"], [0.2222222222222222, \"#7201a8\"], [0.3333333333333333, \"#9c179e\"], [0.4444444444444444, \"#bd3786\"], [0.5555555555555556, \"#d8576b\"], [0.6666666666666666, \"#ed7953\"], [0.7777777777777778, \"#fb9f3a\"], [0.8888888888888888, \"#fdca26\"], [1.0, \"#f0f921\"]], \"type\": \"histogram2d\"}], \"histogram2dcontour\": [{\"colorbar\": {\"outlinewidth\": 0, \"ticks\": \"\"}, \"colorscale\": [[0.0, \"#0d0887\"], [0.1111111111111111, \"#46039f\"], [0.2222222222222222, \"#7201a8\"], [0.3333333333333333, \"#9c179e\"], [0.4444444444444444, \"#bd3786\"], [0.5555555555555556, \"#d8576b\"], [0.6666666666666666, \"#ed7953\"], [0.7777777777777778, \"#fb9f3a\"], [0.8888888888888888, \"#fdca26\"], [1.0, \"#f0f921\"]], \"type\": \"histogram2dcontour\"}], \"mesh3d\": [{\"colorbar\": {\"outlinewidth\": 0, \"ticks\": \"\"}, \"type\": \"mesh3d\"}], \"parcoords\": [{\"line\": {\"colorbar\": {\"outlinewidth\": 0, \"ticks\": \"\"}}, \"type\": \"parcoords\"}], \"scatter\": [{\"marker\": {\"colorbar\": {\"outlinewidth\": 0, \"ticks\": \"\"}}, \"type\": \"scatter\"}], \"scatter3d\": [{\"line\": {\"colorbar\": {\"outlinewidth\": 0, \"ticks\": \"\"}}, \"marker\": {\"colorbar\": {\"outlinewidth\": 0, \"ticks\": \"\"}}, \"type\": \"scatter3d\"}], \"scattercarpet\": [{\"marker\": {\"colorbar\": {\"outlinewidth\": 0, \"ticks\": \"\"}}, \"type\": \"scattercarpet\"}], \"scattergeo\": [{\"marker\": {\"colorbar\": {\"outlinewidth\": 0, \"ticks\": \"\"}}, \"type\": \"scattergeo\"}], \"scattergl\": [{\"marker\": {\"colorbar\": {\"outlinewidth\": 0, \"ticks\": \"\"}}, \"type\": \"scattergl\"}], \"scattermapbox\": [{\"marker\": {\"colorbar\": {\"outlinewidth\": 0, \"ticks\": \"\"}}, \"type\": \"scattermapbox\"}], \"scatterpolar\": [{\"marker\": {\"colorbar\": {\"outlinewidth\": 0, \"ticks\": \"\"}}, \"type\": \"scatterpolar\"}], \"scatterpolargl\": [{\"marker\": {\"colorbar\": {\"outlinewidth\": 0, \"ticks\": \"\"}}, \"type\": \"scatterpolargl\"}], \"scatterternary\": [{\"marker\": {\"colorbar\": {\"outlinewidth\": 0, \"ticks\": \"\"}}, \"type\": \"scatterternary\"}], \"surface\": [{\"colorbar\": {\"outlinewidth\": 0, \"ticks\": \"\"}, \"colorscale\": [[0.0, \"#0d0887\"], [0.1111111111111111, \"#46039f\"], [0.2222222222222222, \"#7201a8\"], [0.3333333333333333, \"#9c179e\"], [0.4444444444444444, \"#bd3786\"], [0.5555555555555556, \"#d8576b\"], [0.6666666666666666, \"#ed7953\"], [0.7777777777777778, \"#fb9f3a\"], [0.8888888888888888, \"#fdca26\"], [1.0, \"#f0f921\"]], \"type\": \"surface\"}], \"table\": [{\"cells\": {\"fill\": {\"color\": \"#EBF0F8\"}, \"line\": {\"color\": \"white\"}}, \"header\": {\"fill\": {\"color\": \"#C8D4E3\"}, \"line\": {\"color\": \"white\"}}, \"type\": \"table\"}]}, \"layout\": {\"annotationdefaults\": {\"arrowcolor\": \"#2a3f5f\", \"arrowhead\": 0, \"arrowwidth\": 1}, \"colorscale\": {\"diverging\": [[0, \"#8e0152\"], [0.1, \"#c51b7d\"], [0.2, \"#de77ae\"], [0.3, \"#f1b6da\"], [0.4, \"#fde0ef\"], [0.5, \"#f7f7f7\"], [0.6, \"#e6f5d0\"], [0.7, \"#b8e186\"], [0.8, \"#7fbc41\"], [0.9, \"#4d9221\"], [1, \"#276419\"]], \"sequential\": [[0.0, \"#0d0887\"], [0.1111111111111111, \"#46039f\"], [0.2222222222222222, \"#7201a8\"], [0.3333333333333333, \"#9c179e\"], [0.4444444444444444, \"#bd3786\"], [0.5555555555555556, \"#d8576b\"], [0.6666666666666666, \"#ed7953\"], [0.7777777777777778, \"#fb9f3a\"], [0.8888888888888888, \"#fdca26\"], [1.0, \"#f0f921\"]], \"sequentialminus\": [[0.0, \"#0d0887\"], [0.1111111111111111, \"#46039f\"], [0.2222222222222222, \"#7201a8\"], [0.3333333333333333, \"#9c179e\"], [0.4444444444444444, \"#bd3786\"], [0.5555555555555556, \"#d8576b\"], [0.6666666666666666, \"#ed7953\"], [0.7777777777777778, \"#fb9f3a\"], [0.8888888888888888, \"#fdca26\"], [1.0, \"#f0f921\"]]}, \"colorway\": [\"#636efa\", \"#EF553B\", \"#00cc96\", \"#ab63fa\", \"#FFA15A\", \"#19d3f3\", \"#FF6692\", \"#B6E880\", \"#FF97FF\", \"#FECB52\"], \"font\": {\"color\": \"#2a3f5f\"}, \"geo\": {\"bgcolor\": \"white\", \"lakecolor\": \"white\", \"landcolor\": \"#E5ECF6\", \"showlakes\": true, \"showland\": true, \"subunitcolor\": \"white\"}, \"hoverlabel\": {\"align\": \"left\"}, \"hovermode\": \"closest\", \"mapbox\": {\"style\": \"light\"}, \"paper_bgcolor\": \"white\", \"plot_bgcolor\": \"#E5ECF6\", \"polar\": {\"angularaxis\": {\"gridcolor\": \"white\", \"linecolor\": \"white\", \"ticks\": \"\"}, \"bgcolor\": \"#E5ECF6\", \"radialaxis\": {\"gridcolor\": \"white\", \"linecolor\": \"white\", \"ticks\": \"\"}}, \"scene\": {\"xaxis\": {\"backgroundcolor\": \"#E5ECF6\", \"gridcolor\": \"white\", \"gridwidth\": 2, \"linecolor\": \"white\", \"showbackground\": true, \"ticks\": \"\", \"zerolinecolor\": \"white\"}, \"yaxis\": {\"backgroundcolor\": \"#E5ECF6\", \"gridcolor\": \"white\", \"gridwidth\": 2, \"linecolor\": \"white\", \"showbackground\": true, \"ticks\": \"\", \"zerolinecolor\": \"white\"}, \"zaxis\": {\"backgroundcolor\": \"#E5ECF6\", \"gridcolor\": \"white\", \"gridwidth\": 2, \"linecolor\": \"white\", \"showbackground\": true, \"ticks\": \"\", \"zerolinecolor\": \"white\"}}, \"shapedefaults\": {\"line\": {\"color\": \"#2a3f5f\"}}, \"ternary\": {\"aaxis\": {\"gridcolor\": \"white\", \"linecolor\": \"white\", \"ticks\": \"\"}, \"baxis\": {\"gridcolor\": \"white\", \"linecolor\": \"white\", \"ticks\": \"\"}, \"bgcolor\": \"#E5ECF6\", \"caxis\": {\"gridcolor\": \"white\", \"linecolor\": \"white\", \"ticks\": \"\"}}, \"title\": {\"x\": 0.05}, \"xaxis\": {\"automargin\": true, \"gridcolor\": \"white\", \"linecolor\": \"white\", \"ticks\": \"\", \"zerolinecolor\": \"white\", \"zerolinewidth\": 2}, \"yaxis\": {\"automargin\": true, \"gridcolor\": \"white\", \"linecolor\": \"white\", \"ticks\": \"\", \"zerolinecolor\": \"white\", \"zerolinewidth\": 2}}}, \"width\": 500, \"xaxis\": {\"range\": [0, 10.833333333333334], \"showgrid\": false, \"showticklabels\": false, \"zeroline\": false}, \"yaxis\": {\"range\": [0, 10.833333333333334], \"showgrid\": false, \"showticklabels\": false, \"zeroline\": false}},\n",
       "                        {\"responsive\": true}\n",
       "                    ).then(function(){\n",
       "                            \n",
       "var gd = document.getElementById('88283c2c-eb8a-4a3b-a177-fb651a9b4d12');\n",
       "var x = new MutationObserver(function (mutations, observer) {{\n",
       "        var display = window.getComputedStyle(gd).display;\n",
       "        if (!display || display === 'none') {{\n",
       "            console.log([gd, 'removed!']);\n",
       "            Plotly.purge(gd);\n",
       "            observer.disconnect();\n",
       "        }}\n",
       "}});\n",
       "\n",
       "// Listen for the removal of the full notebook cells\n",
       "var notebookContainer = gd.closest('#notebook-container');\n",
       "if (notebookContainer) {{\n",
       "    x.observe(notebookContainer, {childList: true});\n",
       "}}\n",
       "\n",
       "// Listen for the clearing of the current output cell\n",
       "var outputEl = gd.closest('.output');\n",
       "if (outputEl) {{\n",
       "    x.observe(outputEl, {childList: true});\n",
       "}}\n",
       "\n",
       "                        })\n",
       "                };\n",
       "                });\n",
       "            </script>\n",
       "        </div>"
      ]
     },
     "metadata": {},
     "output_type": "display_data"
    }
   ],
   "source": [
    "fig = get_diagram(M, figsize=(500,500))\n",
    "fig.show()"
   ]
  },
  {
   "cell_type": "markdown",
   "metadata": {},
   "source": [
    "### All in One"
   ]
  },
  {
   "cell_type": "code",
   "execution_count": 122,
   "metadata": {
    "ExecuteTime": {
     "end_time": "2019-11-21T09:25:50.963380Z",
     "start_time": "2019-11-21T09:25:49.896163Z"
    },
    "scrolled": false
   },
   "outputs": [
    {
     "name": "stdout",
     "output_type": "stream",
     "text": [
      "(2, 9, 4, 7)\n",
      "\n",
      " [[ 0  0  1  0  0  0  0  0  0  0  0  0 -1  0  0  0  0  0  0  0  0  0  0  0]\n",
      " [ 0  0  0  1  0  0  0  0  0  0  0  0  0 -1  0  0  0  0  0  0  0  0  0  0]\n",
      " [ 0  0  0  0  1  0  0  0  0  0  0  0  0  0 -1  0  0  0  0  0  0  0  0  0]\n",
      " [ 0  0  0  0  0  1  0  0  0  0  0  0  0  0  0 -1  0  0  0  0  0  0  0  0]\n",
      " [ 0  0  0  0  0  0  1  0  0  0  0  0  0  0  0 -1  0  0  0  0  0  0  0  0]\n",
      " [ 0  0  0  0  0  0  0  1  0  0  0  0  0  0 -1  0  0  0  0  0  0  0  0  0]\n",
      " [ 0  0  0  0  0  0  0  0  1  0  0  0  0 -1  0  0  0  0  0  0  0  0  0  0]\n",
      " [ 0  0  0  0  0  0  0  0  0  1  0  0 -1  0  0  0  0  0  0  0  0  0  0  0]\n",
      " [ 0  0  0  0  0  0  0  0  0  0  1  0  0  0  0  0 -1  0  0  0  0  0  0  0]\n",
      " [ 0  0  0  0  0  0  0  0  0  0  0  1  0  0  0  0  0 -1  0  0  0  0  0  0]\n",
      " [ 0  0  0  0  0  0  0  0  0  0  1  0  0  0  0  0  0  0 -1  0  0  0  0  0]\n",
      " [ 0  0  0  0  0  0  0  0  0  1  0  0  0  0  0  0  0  0  0 -1  0  0  0  0]\n",
      " [ 0  0  0  0  0  0  0  0  1  0  0  0  0  0  0  0  0  0  0  0 -1  0  0  0]\n",
      " [ 0  0  0  0  0  0  0  1  0  0  0  0  0  0  0  0  0  0  0  0  0 -1  0  0]\n",
      " [ 0  0  0  0  0  0  1  0  0  0  0  0  0  0  0  0  0  0  0  0  0  0 -1  0]\n",
      " [ 0  0  0  0  0  1  0  0  0  0  0  0  0  0  0  0  0  0  0  0  0  0  0 -1]\n",
      " [ 0  0  0  0  1  0  0  0  0  0  0  0  0  0  0  0  0  0  0  0  0  0 -1  0]\n",
      " [ 0  0  0  1  0  0  0  0  0  0  0  0  0  0  0  0  0  0  0  0  0 -1  0  0]\n",
      " [ 0  0  1  0  0  0  0  0  0  0  0  0  0  0  0  0  0  0  0  0 -1  0  0  0]\n",
      " [ 1  0  0  0  0  0  0  0  0  0  0  0  0  0  0  0  0  0  0 -1  0  0  0  0]\n",
      " [ 0  1  0  0  0  0  0  0  0  0  0  0  0  0  0  0  0  0 -1  0  0  0  0  0]\n",
      " [ 0  1  0  0  0  0  0  0  0  0  0  0  0  0  0  0  0 -1  0  0  0  0  0  0]\n",
      " [ 1  0  0  0  0  0  0  0  0  0  0  0  0  0  0  0 -1  0  0  0  0  0  0  0]\n",
      " [ 0  0  0  0  0  0  0  0  0  0  0  1  0  0  0  0  0  0  0  0  0  0  0  0]] |--det--> 1.0\n",
      "\n",
      "\n"
     ]
    },
    {
     "data": {
      "application/vnd.jupyter.widget-view+json": {
       "model_id": "8ec3f431f8d1421ba2e4702009e0c632",
       "version_major": 2,
       "version_minor": 0
      },
      "text/plain": [
       "HBox(children=(FigureWidget({\n",
       "    'data': [{'marker': {'color': 'RoyalBlue', 'size': 2.0},\n",
       "              'mode…"
      ]
     },
     "metadata": {},
     "output_type": "display_data"
    }
   ],
   "source": [
    "sqr = square_random_generator(verbose=False)\n",
    "M = get_matrix(sqr)\n",
    "output = \"{}\\n\\n {} |--det--> {}\\n\\n\".format(sqr.code, M, np.linalg.det(M)); print(output)\n",
    "\n",
    "figs = [get_diagram(M), sqr.graphic()]\n",
    "fws = [go.FigureWidget(data=fig['data'], layout=fig['layout']) for fig in figs]\n",
    "display(widgets.HBox(fws))"
   ]
  },
  {
   "cell_type": "markdown",
   "metadata": {},
   "source": [
    "## Experiments"
   ]
  },
  {
   "cell_type": "markdown",
   "metadata": {
    "heading_collapsed": true
   },
   "source": [
    "### Cofactor expansion "
   ]
  },
  {
   "cell_type": "code",
   "execution_count": 101,
   "metadata": {
    "ExecuteTime": {
     "end_time": "2019-11-21T09:20:20.709805Z",
     "start_time": "2019-11-21T09:20:19.083232Z"
    },
    "hidden": true,
    "scrolled": false
   },
   "outputs": [
    {
     "name": "stdout",
     "output_type": "stream",
     "text": [
      "(4, 7, 1, 6)\n",
      "\n",
      " [[ 1  0  0  0 -1  0  0  0  0  0  0  0  0  0  0  0  0  0  0  0]\n",
      " [ 0  1  0  0  0 -1  0  0  0  0  0  0  0  0  0  0  0  0  0  0]\n",
      " [ 0  0  1  0  0  0 -1  0  0  0  0  0  0  0  0  0  0  0  0  0]\n",
      " [ 0  0  0  1  0  0  0 -1  0  0  0  0  0  0  0  0  0  0  0  0]\n",
      " [ 0  0  0  0  1  0  0  0  0  0  0  0 -1  0  0  0  0  0  0  0]\n",
      " [ 0  0  0  0  0  1  0  0  0  0  0  0 -1  0  0  0  0  0  0  0]\n",
      " [ 0  0  0  0  0  0  1  0  0  0  0  0  0 -1  0  0  0  0  0  0]\n",
      " [ 0  0  0  0  0  0  0  1  0  0  0  0  0  0 -1  0  0  0  0  0]\n",
      " [ 0  0  0  0  0  0  0  0  1  0  0  0  0  0  0 -1  0  0  0  0]\n",
      " [ 0  0  0  0  0  0  0  0  0  1  0  0  0  0  0  0 -1  0  0  0]\n",
      " [ 0  0  0  0  0  0  0  0  0  0  1  0  0  0  0  0  0 -1  0  0]\n",
      " [ 0  0  0  0  0  0  0  0  0  0  0  1  0  0  0  0  0  0 -1  0]\n",
      " [ 0  0  0  0  0  0  0  0  0  0  1  0  0  0  0  0  0  0  0 -1]\n",
      " [ 0  0  0  0  0  0  0  0  0  1  0  0  0  0  0  0  0  0 -1  0]\n",
      " [ 0  0  0  0  0  0  0  0  1  0  0  0  0  0  0  0  0 -1  0  0]\n",
      " [ 0  0  0  1  0  0  0  0  0  0  0  0  0  0  0  0 -1  0  0  0]\n",
      " [ 0  0  1  0  0  0  0  0  0  0  0  0  0  0  0 -1  0  0  0  0]\n",
      " [ 0  1  0  0  0  0  0  0  0  0  0  0  0  0 -1  0  0  0  0  0]\n",
      " [ 1  0  0  0  0  0  0  0  0  0  0  0  0 -1  0  0  0  0  0  0]\n",
      " [ 0  0  0  0  0  0  0  0  0  0  0  1  0  0  0  0  0  0  0  0]] |--det--> -1.0\n",
      "\n",
      "\n"
     ]
    },
    {
     "data": {
      "application/vnd.jupyter.widget-view+json": {
       "model_id": "",
       "version_major": 2,
       "version_minor": 0
      },
      "text/plain": [
       "HBox(children=(FigureWidget({\n",
       "    'data': [{'marker': {'color': 'RoyalBlue', 'size': 2.0},\n",
       "              'mode…"
      ]
     },
     "metadata": {},
     "output_type": "display_data"
    }
   ],
   "source": [
    "sqr = square_random_generator(verbose=False)\n",
    "M = get_matrix(sqr)\n",
    "output = \"{}\\n\\n {} |--det--> {}\\n\\n\".format(sqr.code, M, np.linalg.det(M)); print(output)\n",
    "\n",
    "figs = [get_diagram(M, figsize=fs), sqr.graphic(figsize=fs)]\n",
    "fws = [go.FigureWidget(data=fig['data'], layout=fig['layout']) for fig in figs]\n",
    "display(widgets.HBox(fws))"
   ]
  },
  {
   "cell_type": "code",
   "execution_count": null,
   "metadata": {
    "ExecuteTime": {
     "end_time": "2019-11-21T05:01:19.965209Z",
     "start_time": "2019-11-21T05:01:16.959Z"
    },
    "hidden": true
   },
   "outputs": [],
   "source": [
    "def cofexp_raw(sqr_matrix, raw_num=0):\n",
    "    expansion = []\n",
    "    raw = sqr_matrix[raw_num]\n",
    "    for j in range(raw.size):\n",
    "        if raw[j] != 0:\n",
    "            shrinked = np.delete(np.delete(sqr_matrix, raw_num, 0),j,1)\n",
    "            sign = (-1)**(raw_num+j)\n",
    "            expansion.append([sign*raw[j], shrinked])\n",
    "    return expansion"
   ]
  },
  {
   "cell_type": "markdown",
   "metadata": {
    "hidden": true
   },
   "source": [
    "__予想1:__ 接続行列のどの行(最終行を除く)で余因子展開しても、\n",
    "全体が正則なら、必ず行列式 $\\pm 1$ のものが一つだけ。\n",
    "\n",
    "これが正しいなら、正則な接続行列の行列式は $\\pm 1$ であるとも言える。\n",
    "\n",
    "__予想2:__ 同様の余因子展開について、非正則ならすべて行列式 $0$.\n",
    "\n",
    "こちらの予想は反例があった。ex) Square(9,7,9,7), Square(8,4,6,2)"
   ]
  },
  {
   "cell_type": "code",
   "execution_count": null,
   "metadata": {
    "ExecuteTime": {
     "end_time": "2019-11-21T05:01:19.968405Z",
     "start_time": "2019-11-21T05:01:16.967Z"
    },
    "hidden": true,
    "scrolled": false
   },
   "outputs": [],
   "source": [
    "#sqr = square_random_generator(); \n",
    "#sqr = Square((0,3,0,3))\n",
    "#M = get_matrix(sqr)\n",
    "\n",
    "print(\"{} --det--> {}\\n\".format(sqr.code, np.linalg.det(M)))\n",
    "# print(\"{}\\n\".format(M))\n",
    "\n",
    "for rn in range(len(sqr.segments)):\n",
    "    expn = cofexp_raw(M, raw_num=rn)\n",
    "    values = []\n",
    "    for pair in expn:\n",
    "        m = pair[1]\n",
    "        values.append(int(np.linalg.det(m)))\n",
    "    else: print(\"raw {} --raw_exp--> {}\".format(rn, values))"
   ]
  },
  {
   "cell_type": "markdown",
   "metadata": {
    "hidden": true
   },
   "source": [
    "__予想2(修正):__ 同様の余因子展開について、非正則なら、どの行でも 2つの行列式を足すと $0\\mod 2$.\n"
   ]
  },
  {
   "cell_type": "code",
   "execution_count": null,
   "metadata": {
    "ExecuteTime": {
     "end_time": "2019-11-21T05:01:19.971483Z",
     "start_time": "2019-11-21T05:01:16.973Z"
    },
    "hidden": true
   },
   "outputs": [],
   "source": [
    "def recursive_cofexp_raw(coeff_matrix_pair, count=2):\n",
    "    if count > 0:\n",
    "        count += -1\n",
    "        sqr_matrix = coeff_matrix_pair[1]\n",
    "#         print(sqr_matrix)\n",
    "        coeff_matrix_pair[1] = [recursive_cofexp_raw(pair, count) for pair in cofexp_raw(sqr_matrix)]\n",
    "    return coeff_matrix_pair"
   ]
  },
  {
   "cell_type": "code",
   "execution_count": null,
   "metadata": {
    "ExecuteTime": {
     "end_time": "2019-11-21T05:01:19.974774Z",
     "start_time": "2019-11-21T05:01:16.978Z"
    },
    "hidden": true,
    "scrolled": false
   },
   "outputs": [],
   "source": [
    "expansion = recursive_cofexp_raw([1,M], count=5)\n",
    "# print(expansion)\n",
    "\n",
    "def show_expansion(expn, depth=0):\n",
    "    for v in expn:\n",
    "        if isinstance(v, list):\n",
    "            show_expansion(v, depth+1)\n",
    "        else:\n",
    "            if isinstance(v, np.ndarray):\n",
    "                det = np.linalg.det(v)\n",
    "                if det != 0:\n",
    "                    print(\"{} --> {}\".format(v, np.linalg.det(v)))\n",
    "\n",
    "show_expansion(expansion, depth=3)            "
   ]
  },
  {
   "cell_type": "markdown",
   "metadata": {
    "heading_collapsed": true
   },
   "source": [
    "### Elementary deformations"
   ]
  },
  {
   "cell_type": "code",
   "execution_count": null,
   "metadata": {
    "ExecuteTime": {
     "end_time": "2019-11-21T05:01:19.977387Z",
     "start_time": "2019-11-21T05:01:16.984Z"
    },
    "hidden": true
   },
   "outputs": [],
   "source": [
    "def elem_matrix(size=1, position=(1,1)):\n",
    "    i,j = position\n",
    "    P = np.eye(size, size, dtype=int)\n",
    "    P[i][j] = 1\n",
    "    return P\n",
    "def P(n,ij):\n",
    "    return elem_matrix(size=n, position=ij)"
   ]
  },
  {
   "cell_type": "markdown",
   "metadata": {
    "hidden": true
   },
   "source": [
    "deform an incidence matrix by elementary matrices"
   ]
  },
  {
   "cell_type": "code",
   "execution_count": null,
   "metadata": {
    "ExecuteTime": {
     "end_time": "2019-11-21T05:01:19.979905Z",
     "start_time": "2019-11-21T05:01:16.990Z"
    },
    "hidden": true,
    "scrolled": true
   },
   "outputs": [],
   "source": [
    "s = len(sqr.segments)\n",
    "N = M\n",
    "\n",
    "num = 0\n",
    "for side in sqr.sides.values():\n",
    "    for k in range(side.number):\n",
    "            N = N@P(s+1,(num+k+1, num+0))\n",
    "            N = P(s+1,(num+0, num+k+1))@N\n",
    "    num += side.number\n",
    "\n",
    "print(N)"
   ]
  },
  {
   "cell_type": "markdown",
   "metadata": {
    "heading_collapsed": true
   },
   "source": [
    "### Others"
   ]
  },
  {
   "cell_type": "code",
   "execution_count": null,
   "metadata": {
    "ExecuteTime": {
     "end_time": "2019-11-21T05:01:19.982555Z",
     "start_time": "2019-11-21T05:01:16.997Z"
    },
    "hidden": true
   },
   "outputs": [],
   "source": [
    "s = len(sqr.segments)\n",
    "# N = M\n",
    "N[s][s]=1\n",
    "print(\"{} --det--> {}\".format(N, np.linalg.det(N)))"
   ]
  },
  {
   "cell_type": "markdown",
   "metadata": {},
   "source": [
    "## TODO"
   ]
  },
  {
   "cell_type": "markdown",
   "metadata": {
    "ExecuteTime": {
     "end_time": "2019-09-10T07:49:47.242251Z",
     "start_time": "2019-09-10T07:49:47.235409Z"
    }
   },
   "source": [
    "* [ ] 接続行列に対して、基本変形を自由にできるようにする。\n",
    "* [x] show_graphic 関数で、なぜか最初の segment を描画してくれない。\n",
    "* [x] 行列生成処理も何らかのクラスのメソッドにして、大量計算を実行できるようにしたい。\n",
    "* [x] 接続行列の生成について。quasi-cord が $\\tau + \\lambda = \\beta + \\rho$ の場合しかうまく行ってない。"
   ]
  }
 ],
 "metadata": {
  "kernelspec": {
   "display_name": "Python 3",
   "language": "python",
   "name": "python3"
  },
  "language_info": {
   "codemirror_mode": {
    "name": "ipython",
    "version": 3
   },
   "file_extension": ".py",
   "mimetype": "text/x-python",
   "name": "python",
   "nbconvert_exporter": "python",
   "pygments_lexer": "ipython3",
   "version": "3.6.7"
  },
  "toc": {
   "base_numbering": 1,
   "nav_menu": {},
   "number_sections": false,
   "sideBar": true,
   "skip_h1_title": true,
   "title_cell": "Table of Contents",
   "title_sidebar": "Contents",
   "toc_cell": false,
   "toc_position": {
    "height": "calc(100% - 180px)",
    "left": "10px",
    "top": "150px",
    "width": "223.188px"
   },
   "toc_section_display": true,
   "toc_window_display": true
  },
  "varInspector": {
   "cols": {
    "lenName": 16,
    "lenType": 16,
    "lenVar": 40
   },
   "kernels_config": {
    "python": {
     "delete_cmd_postfix": "",
     "delete_cmd_prefix": "del ",
     "library": "var_list.py",
     "varRefreshCmd": "print(var_dic_list())"
    },
    "r": {
     "delete_cmd_postfix": ") ",
     "delete_cmd_prefix": "rm(",
     "library": "var_list.r",
     "varRefreshCmd": "cat(var_dic_list()) "
    }
   },
   "types_to_exclude": [
    "module",
    "function",
    "builtin_function_or_method",
    "instance",
    "_Feature"
   ],
   "window_display": false
  }
 },
 "nbformat": 4,
 "nbformat_minor": 2
}
