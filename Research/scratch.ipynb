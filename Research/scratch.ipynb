{
 "cells": [
  {
   "cell_type": "code",
   "execution_count": 1,
   "metadata": {
    "ExecuteTime": {
     "end_time": "2018-07-05T04:34:48.578569Z",
     "start_time": "2018-07-05T04:34:47.637Z"
    }
   },
   "outputs": [
    {
     "data": {
      "text/plain": [
       "true"
      ]
     },
     "execution_count": 1,
     "metadata": {},
     "output_type": "execute_result"
    }
   ],
   "source": [
    "[1,2,3].all?{|k| k.is_a?(Integer)}"
   ]
  },
  {
   "cell_type": "code",
   "execution_count": 2,
   "metadata": {
    "ExecuteTime": {
     "end_time": "2018-07-05T04:34:48.594414Z",
     "start_time": "2018-07-05T04:34:47.653Z"
    }
   },
   "outputs": [
    {
     "ename": "SyntaxError",
     "evalue": "<main>: syntax error, unexpected tINTEGER, expecting ')'\n[1,2,3].map(&:*2)\n                ^",
     "output_type": "error",
     "traceback": [
      "\u001b[31mSyntaxError\u001b[0m: <main>: syntax error, unexpected tINTEGER, expecting ')'\n[1,2,3].map(&:*2)\n                ^",
      "\u001b[37m/home/ryosuke/.rbenv/versions/2.4.0/lib/ruby/gems/2.4.0/gems/iruby-0.3/lib/iruby/backend.rb:44:in `eval'\u001b[0m",
      "\u001b[37m/home/ryosuke/.rbenv/versions/2.4.0/lib/ruby/gems/2.4.0/gems/iruby-0.3/lib/iruby/backend.rb:44:in `eval'\u001b[0m",
      "\u001b[37m/home/ryosuke/.rbenv/versions/2.4.0/lib/ruby/gems/2.4.0/gems/iruby-0.3/lib/iruby/backend.rb:12:in `eval'\u001b[0m",
      "\u001b[37m/home/ryosuke/.rbenv/versions/2.4.0/lib/ruby/gems/2.4.0/gems/iruby-0.3/lib/iruby/kernel.rb:87:in `execute_request'\u001b[0m",
      "\u001b[37m/home/ryosuke/.rbenv/versions/2.4.0/lib/ruby/gems/2.4.0/gems/iruby-0.3/lib/iruby/kernel.rb:47:in `dispatch'\u001b[0m",
      "\u001b[37m/home/ryosuke/.rbenv/versions/2.4.0/lib/ruby/gems/2.4.0/gems/iruby-0.3/lib/iruby/kernel.rb:37:in `run'\u001b[0m",
      "\u001b[37m/home/ryosuke/.rbenv/versions/2.4.0/lib/ruby/gems/2.4.0/gems/iruby-0.3/lib/iruby/command.rb:70:in `run_kernel'\u001b[0m",
      "\u001b[37m/home/ryosuke/.rbenv/versions/2.4.0/lib/ruby/gems/2.4.0/gems/iruby-0.3/lib/iruby/command.rb:34:in `run'\u001b[0m",
      "\u001b[37m/home/ryosuke/.rbenv/versions/2.4.0/lib/ruby/gems/2.4.0/gems/iruby-0.3/bin/iruby:5:in `<top (required)>'\u001b[0m",
      "\u001b[37m/home/ryosuke/.rbenv/versions/2.4.0/bin/iruby:22:in `load'\u001b[0m",
      "\u001b[37m/home/ryosuke/.rbenv/versions/2.4.0/bin/iruby:22:in `<main>'\u001b[0m"
     ]
    }
   ],
   "source": [
    "[1,2,3].map(&:*2)"
   ]
  },
  {
   "cell_type": "code",
   "execution_count": 3,
   "metadata": {
    "ExecuteTime": {
     "end_time": "2018-07-05T04:34:48.601075Z",
     "start_time": "2018-07-05T04:34:47.661Z"
    }
   },
   "outputs": [
    {
     "data": {
      "text/plain": [
       "true"
      ]
     },
     "execution_count": 3,
     "metadata": {},
     "output_type": "execute_result"
    }
   ],
   "source": [
    "3.is_a?(Integer)"
   ]
  },
  {
   "cell_type": "code",
   "execution_count": 4,
   "metadata": {
    "ExecuteTime": {
     "end_time": "2018-07-05T04:34:48.607814Z",
     "start_time": "2018-07-05T04:34:47.666Z"
    }
   },
   "outputs": [
    {
     "data": {
      "text/plain": [
       "\"BccABC\""
      ]
     },
     "execution_count": 4,
     "metadata": {},
     "output_type": "execute_result"
    }
   ],
   "source": [
    "mystr = 'aABccAAaBC'\n",
    "myarr = [mystr[0]]\n",
    "mystr.split('').each_cons(2) do |a,b|\n",
    "  (a.upcase == b.upcase and a != b) ? myarr.pop : myarr << b\n",
    "end\n",
    "myarr.join"
   ]
  },
  {
   "cell_type": "code",
   "execution_count": 5,
   "metadata": {
    "ExecuteTime": {
     "end_time": "2018-07-05T04:34:48.613997Z",
     "start_time": "2018-07-05T04:34:47.671Z"
    }
   },
   "outputs": [
    {
     "data": {
      "text/plain": [
       "[1, 2, nil]"
      ]
     },
     "execution_count": 5,
     "metadata": {},
     "output_type": "execute_result"
    }
   ],
   "source": [
    "[1,2] << nil"
   ]
  }
 ],
 "metadata": {
  "kernelspec": {
   "display_name": "Ruby 2.4.0",
   "language": "ruby",
   "name": "ruby"
  },
  "language_info": {
   "file_extension": ".rb",
   "mimetype": "application/x-ruby",
   "name": "ruby",
   "version": "2.5.1"
  },
  "toc": {
   "base_numbering": 1,
   "nav_menu": {},
   "number_sections": false,
   "sideBar": true,
   "skip_h1_title": true,
   "title_cell": "Table of Contents",
   "title_sidebar": "Contents",
   "toc_cell": false,
   "toc_position": {},
   "toc_section_display": true,
   "toc_window_display": false
  },
  "varInspector": {
   "cols": {
    "lenName": 16,
    "lenType": 16,
    "lenVar": 40
   },
   "kernels_config": {
    "python": {
     "delete_cmd_postfix": "",
     "delete_cmd_prefix": "del ",
     "library": "var_list.py",
     "varRefreshCmd": "print(var_dic_list())"
    },
    "r": {
     "delete_cmd_postfix": ") ",
     "delete_cmd_prefix": "rm(",
     "library": "var_list.r",
     "varRefreshCmd": "cat(var_dic_list()) "
    }
   },
   "types_to_exclude": [
    "module",
    "function",
    "builtin_function_or_method",
    "instance",
    "_Feature"
   ],
   "window_display": false
  }
 },
 "nbformat": 4,
 "nbformat_minor": 2
}
