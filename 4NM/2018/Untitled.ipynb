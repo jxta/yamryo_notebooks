{
 "cells": [
  {
   "cell_type": "code",
   "execution_count": 1,
   "metadata": {
    "ExecuteTime": {
     "end_time": "2018-06-20T00:15:50.559072Z",
     "start_time": "2018-06-20T00:15:50.240295Z"
    }
   },
   "outputs": [],
   "source": [
    "from __future__ import print_function, division\n",
    "import numpy as np\n",
    "import matplotlib as mpl\n",
    "import matplotlib.pyplot as plt\n",
    "import matplotlib.path as mpath\n",
    "import matplotlib.patches as mpatches\n",
    "%matplotlib inline\n",
    "\n",
    "import math"
   ]
  },
  {
   "cell_type": "code",
   "execution_count": null,
   "metadata": {
    "ExecuteTime": {
     "end_time": "2018-06-18T06:56:05.062121Z",
     "start_time": "2018-06-18T06:56:04.742244Z"
    }
   },
   "outputs": [],
   "source": [
    "fig, ax = plt.subplots(figsize=(10,10))\n",
    "\n",
    "N = 100\n",
    "X = [(t+1)**2/(t**2 + 1) for t in range(N)]\n",
    "Y = [(t**2-1)/(t**2 + 1) for t in range(N)]\n",
    "\n",
    "Path = mpath.Path\n",
    "path_data = []\n",
    "for k in range(N):\n",
    "    path_data.append((Path.MOVETO, (X[k], Y[k])))\n",
    "codes, verts = zip(*path_data)\n",
    "path = mpath.Path(verts, codes)\n",
    "patch = mpatches.PathPatch(path, facecolor='r', alpha=0.5)\n",
    "ax.add_patch(patch)\n",
    "\n",
    "x, y = zip(*path.vertices)\n",
    "line, = ax.plot(x, y, 'b.', ms = 3.0)\n",
    "\n",
    "ax.grid()\n",
    "ax.axis('equal')\n",
    "plt.show()"
   ]
  },
  {
   "cell_type": "code",
   "execution_count": 10,
   "metadata": {
    "ExecuteTime": {
     "end_time": "2018-06-20T00:19:18.620438Z",
     "start_time": "2018-06-20T00:19:18.328291Z"
    }
   },
   "outputs": [
    {
     "data": {
      "image/png": "[encoded data removed]",
      "text/plain": [
       "<matplotlib.figure.Figure at 0x7f5f55c0acc0>"
      ]
     },
     "metadata": {},
     "output_type": "display_data"
    }
   ],
   "source": [
    "fig, ax = plt.subplots(figsize=(10,10))\n",
    "\n",
    "N = 10\n",
    "X = [(t+1)**2 for t in range(N)]\n",
    "Y = [(t-1)*(t**2 + 3*t + 1) for t in range(N)]\n",
    "\n",
    "Path = mpath.Path\n",
    "path_data = []\n",
    "for k in range(N):\n",
    "    path_data.append((Path.MOVETO, (X[k], Y[k])))\n",
    "codes, verts = zip(*path_data)\n",
    "path = mpath.Path(verts, codes)\n",
    "patch = mpatches.PathPatch(path, facecolor='r', alpha=0.5)\n",
    "ax.add_patch(patch)\n",
    "\n",
    "x, y = zip(*path.vertices)\n",
    "line, = ax.plot(x, y, 'b.', ms = 3.0)\n",
    "\n",
    "ax.grid()\n",
    "ax.axis('equal')\n",
    "plt.show()"
   ]
  },
  {
   "cell_type": "code",
   "execution_count": null,
   "metadata": {},
   "outputs": [],
   "source": []
  }
 ],
 "metadata": {
  "kernelspec": {
   "display_name": "Python 3",
   "language": "python",
   "name": "python3"
  },
  "language_info": {
   "codemirror_mode": {
    "name": "ipython",
    "version": 3
   },
   "file_extension": ".py",
   "mimetype": "text/x-python",
   "name": "python",
   "nbconvert_exporter": "python",
   "pygments_lexer": "ipython3",
   "version": "3.6.1"
  }
 },
 "nbformat": 4,
 "nbformat_minor": 2
}
